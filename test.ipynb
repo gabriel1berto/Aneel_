{
 "cells": [
  {
   "cell_type": "code",
   "execution_count": 1,
   "metadata": {},
   "outputs": [
    {
     "name": "stderr",
     "output_type": "stream",
     "text": [
      "C:\\Users\\ghumb\\AppData\\Local\\Temp\\ipykernel_9876\\1256797548.py:17: UserWarning:\n",
      "\n",
      "\n",
      "The dash_core_components package is deprecated. Please replace\n",
      "`import dash_core_components as dcc` with `from dash import dcc`\n",
      "\n",
      "C:\\Users\\ghumb\\AppData\\Local\\Temp\\ipykernel_9876\\1256797548.py:18: UserWarning:\n",
      "\n",
      "\n",
      "The dash_html_components package is deprecated. Please replace\n",
      "`import dash_html_components as html` with `from dash import html`\n",
      "\n"
     ]
    },
    {
     "name": "stdout",
     "output_type": "stream",
     "text": [
      "Requisição bem sucedida\n"
     ]
    }
   ],
   "source": [
    "# Bibliotecas - API\n",
    "import requests\n",
    "\n",
    "# Bibliotecas - Gráficos\n",
    "import numpy as np\n",
    "import pandas as pd\n",
    "import missingno as msno\n",
    "import plotly.express as px\n",
    "import plotly.offline as pyo\n",
    "import plotly.graph_objs as go\n",
    "import matplotlib.pyplot as plt\n",
    "import plotly.figure_factory as ff\n",
    "\n",
    "# Bibliotecas - Dash\n",
    "import dash\n",
    "from dash import dcc\n",
    "import dash_core_components as dcc\n",
    "import dash_html_components as html\n",
    "from dash.dependencies import Input, Output\n",
    "\n",
    "# Outras\n",
    "import warnings\n",
    "warnings.filterwarnings('ignore')\n",
    "\n",
    "\n",
    "#_________________________Cria a url de requisição da API_Aneel______________________________#\n",
    "# https://dadosabertos.aneel.gov.br/dataset/relacao-de-empreendimentos-de-geracao-distribuida\n",
    "\n",
    "\n",
    "\n",
    "# A api não pediu autenticação, para replicações futuras observar\n",
    "# API Keys\n",
    "# OAuth: aplicação de terceiros sem login\n",
    "# Token: autenticação de usuários\n",
    "# Certificados\n",
    "\n",
    "\n",
    "\n",
    "# definições na criação do URL\n",
    "url_base = \"https://dadosabertos.aneel.gov.br/api/action/datastore_search?\"\n",
    "resource_id=\"b1bd71e7-d0ad-4214-9053-cbd58e9564a7\"\n",
    "limit_param = 1000000\n",
    "timeout_seconds = 100\n",
    "# offset: É útil para obter grandes conjuntos de dados em lotes menores\n",
    "# sort: especifica em que ordem os resultados devem ser retornados (ascendente/descendente)\n",
    "# q: restringe a requisicap à palavras chaves\n",
    "# filters: filtra valores com base em falores por multiplas colunas\n",
    "# fields: especifica os campos da tabela\n",
    "# groups: agrupa os resultados por campos\n",
    "\n",
    "\n",
    "\n",
    "\n",
    "def criar_url(resource_id, limit):\n",
    "    resource_param = \"resource_id=\" + resource_id\n",
    "    limit_param = \"limit=\" + str(limit)\n",
    "\n",
    "    url = url_base + resource_param + \"&\" + limit_param\n",
    "    return url\n",
    "url = criar_url(resource_id, limit_param)\n",
    "\n",
    "# Obter os dados da API\n",
    "def get_data(url, timeout_seconds):\n",
    "    try:\n",
    "        # Requisição GET com o tempo limite definido\n",
    "        response = requests.get(url, timeout=timeout_seconds)\n",
    "\n",
    "        #  Verifica erros HTTP\n",
    "        response.raise_for_status()\n",
    "\n",
    "    except requests.exceptions.RequestException as e:\n",
    "        print(\"Erro ao obter os dados:\", e)\n",
    "        return None\n",
    "\n",
    "    # Resposta HTTP=200, indicando que a requisição foi bem sucedida\n",
    "    if response.status_code == 200:\n",
    "        # Em caso de sucesso, obtenha os dados em formato JSON e imprima \"Requisição bem sucedida\"\n",
    "        data = response.json()\n",
    "        print(\"Requisição bem sucedida\")\n",
    "\n",
    "        # Verificar resposta da API\n",
    "        if data[\"success\"]:\n",
    "            # Gera lista de registros e a lista de colunas\n",
    "            records = data[\"result\"][\"records\"]\n",
    "            columns = data[\"result\"][\"fields\"]\n",
    "\n",
    "            # Alguns dados não estavam presentes na tabela, realizei um teste de captação para as colunas \"Bandeira\" e \"Nome_agente\" na lista de colunas\n",
    "            columns.append({\"id\": \"Bandeira\", \"type\": \"text\"})\n",
    "            columns.append({\"id\": \"Nome_agente\", \"type\": \"text\"})\n",
    "\n",
    "            # Cria o DataFrame\n",
    "            df = pd.DataFrame.from_records(records, columns=[c[\"id\"] for c in columns])\n",
    "\n",
    "            # Retorne o DataFrame criado\n",
    "            return df\n",
    "        \n",
    "            # Em caso de sucesso sem terotno de dados\n",
    "        else:\n",
    "            # Em caso de erro, imprir uma mensagem de aviso e retorne None\n",
    "            print(\"A API não retornou dados.\")\n",
    "            return None\n",
    "            \n",
    "            # Se o código de status da resposta HTTP for diferente de 200, trate o erro de acordo com o código\n",
    "    else:\n",
    "        if response.status_code == 400:\n",
    "            print(\"Requisição mal formada.\")\n",
    "        elif response.status_code == 401:\n",
    "            print(\"Não autorizado.\")\n",
    "        elif response.status_code == 403:\n",
    "            print(\"Acesso proibido.\")\n",
    "        elif response.status_code == 404:\n",
    "            print(\"Recurso não encontrado.\") \n",
    "        elif response.status_code == 500:\n",
    "            print(\"Erro interno do servidor.\")\n",
    "        else:\n",
    "            print(\"Erro desconhecido ao obter os dados.\")\n",
    "\n",
    "        return None\n",
    "\n",
    "# Chame a função get_data para obter um DataFrame com os dados da API\n",
    "df = get_data(url, timeout_seconds)"
   ]
  },
  {
   "cell_type": "code",
   "execution_count": 3,
   "metadata": {},
   "outputs": [
    {
     "name": "stdout",
     "output_type": "stream",
     "text": [
      "Colunas duplicadas:  []\n",
      "Linhas duplicadas:  0\n",
      "                             +       %\n",
      "Nome_agente              32000  100.00\n",
      "Bandeira                 32000  100.00\n",
      "NumCoordNSub             31965   99.89\n",
      "NumCoordESub             31965   99.89\n",
      "NomSubEstacao            31965   99.89\n",
      "NumCoordNEmpreendimento  27814   86.92\n",
      "NumCoordEEmpreendimento  27814   86.92\n",
      "codRegiao                   49    0.15\n",
      "codUFibge                   49    0.15\n",
      "CodEmpreendimento            2    0.01\n"
     ]
    }
   ],
   "source": [
    "import matplotlib.pyplot as plt\n",
    "import missingno as msno\n",
    "\n",
    "# Atualizando formato de colunas\n",
    "def atualiza_formato_colunas(df):\n",
    "    df = df.astype({\n",
    "        \"NumCNPJDistribuidora\": np.int64,\n",
    "        \"CodClasseConsumo\": np.int64,\n",
    "        \"CodSubGrupoTarifario\": np.int64,\n",
    "        \"codUFibge\": np.float64,\n",
    "        \"codRegiao\": np.float64,\n",
    "        \"CodMunicipioIbge\": np.float64,\n",
    "        \"QtdUCRecebeCredito\": np.int64,\n",
    "    })\n",
    "    return df\n",
    "df = atualiza_formato_colunas(df)\n",
    "\n",
    "# análise de vazios\n",
    "def analyze_dataframe(df):\n",
    "    # Análise de colunas duplicadas\n",
    "    duplicated_cols = df.columns[df.columns.duplicated(keep=False)]\n",
    "    df_duplicated_col = df[duplicated_cols].sum()\n",
    "    print('Colunas duplicadas: ', df_duplicated_col.tolist())\n",
    "\n",
    "    # Análise de linhas duplicadas\n",
    "    duplicated_rows = df.duplicated(keep=False)\n",
    "    df_duplicated_line = duplicated_rows.sum()\n",
    "    print('Linhas duplicadas: ', df_duplicated_line.tolist())\n",
    "\n",
    "    # Análise de valores nulos\n",
    "    na_tot = df.isna().sum().sort_values(ascending=False)\n",
    "    na_perc = (df.isna().sum() / df.shape[0] * 100).round(2).sort_values(ascending=False)\n",
    "    na = pd.concat([na_tot, na_perc], axis=1, keys=['+', '%'])\n",
    "    print(na.head(10))\n",
    "analyze_dataframe(df)\n",
    "\n",
    "def check_duplicates(df):\n",
    "    # Verifica colunas duplicadas\n",
    "    duplicated_cols = df.columns[df.columns.duplicated(keep=False)]\n",
    "    num_duplicated_cols = len(duplicated_cols)\n",
    "    \n",
    "    # Verifica linhas duplicadas\n",
    "    duplicated_rows = df.duplicated(keep=False)\n",
    "    num_duplicated_rows = duplicated_rows.sum()\n",
    "    \n",
    "    # Retorna o resultado\n",
    "    return num_duplicated_cols, num_duplicated_rows\n",
    "check_duplicates(df)\n",
    "\n",
    "\n",
    "def visualizar_nulos(df):\n",
    "    sorted_df = df.sort_values(by='NumCoordEEmpreendimento')\n",
    "    fig, ax = plt.subplots(figsize=(10, 6))\n",
    "\n",
    "    # Cria a matriz de visualização de nulos com o eixo x em rotação vertical e tamanho de fonte menor\n",
    "    matriz_nulos = msno.matrix(sorted_df, ax=ax)\n",
    "    ax.set_xticklabels(ax.get_xticklabels(), rotation=90, fontsize=8)\n",
    "    plt.show()\n",
    "#visualizar_nulos(df)\n",
    "\n",
    "\n",
    "# Adicionando as colunas Ano, Mes e Ano_Mes\n",
    "def adiciona_colunas(df):\n",
    "    df['DatetimeIndex'] = pd.DatetimeIndex(df['DthAtualizaCadastralEmpreend'])\n",
    "    df['Mes'] = pd.DatetimeIndex(df['DthAtualizaCadastralEmpreend']).month\n",
    "    df['Ano'] = pd.DatetimeIndex(df['DthAtualizaCadastralEmpreend']).year\n",
    "    df['Ano_Mes'] = pd.to_datetime(df['DthAtualizaCadastralEmpreend']).dt.strftime('%Y-%m')\n",
    "    return df\n",
    "adiciona_colunas(df)\n",
    "\n",
    "df_clean = df.dropna(subset=['NumCPFCNPJ']).copy()\n"
   ]
  },
  {
   "cell_type": "code",
   "execution_count": 28,
   "metadata": {},
   "outputs": [],
   "source": [
    "# Adicionando as colunas Ano, Mes e Ano_Mes\n",
    "def adiciona_colunas(df):\n",
    "    df['DatetimeIndex'] = pd.DatetimeIndex(df['DthAtualizaCadastralEmpreend'])\n",
    "    df['Mes'] = pd.DatetimeIndex(df['DthAtualizaCadastralEmpreend']).month\n",
    "    df['Ano'] = pd.DatetimeIndex(df['DthAtualizaCadastralEmpreend']).year\n",
    "    df['Ano_Mes'] = pd.to_datetime(df['DthAtualizaCadastralEmpreend']).dt.strftime('%Y-%m')\n",
    "    return df\n",
    "adiciona_colunas(df)\n",
    "\n",
    "\n",
    "df_clean = df.dropna(subset=['NumCPFCNPJ']).copy()\n",
    "\n",
    "# estudos da serie temporal\n",
    "ts = df_clean.groupby(['Ano_Mes', 'SigUF','SigTipoConsumidor', 'DscClasseConsumo']).agg({'NumCPFCNPJ': 'nunique'}).reset_index()\n",
    "ts = ts.sort_values('Ano_Mes')\n",
    "ts = ts.set_index('Ano_Mes')\n",
    "ts_clean = ts.drop(['SigUF', 'SigTipoConsumidor','DscClasseConsumo'], axis=1)\n",
    "ts_clean = ts_clean.groupby('Ano_Mes').sum()\n",
    "\n",
    "\n",
    "\n",
    "#______________cria parametros\n",
    "import statsmodels.api\n",
    "from statsmodels.tsa.seasonal import seasonal_decompose\n",
    "resultado = seasonal_decompose(ts_clean['NumCPFCNPJ'], period = 1)\n",
    "tendencia = resultado.trend\n",
    "sazonalidade = resultado.seasonal\n",
    "residuo = resultado.resid\n",
    "\n",
    "ts_clean.index\n",
    "ts_clean.to_excel(\"ts_clean.xlsx\")"
   ]
  },
  {
   "cell_type": "code",
   "execution_count": 25,
   "metadata": {},
   "outputs": [
    {
     "data": {
      "application/vnd.plotly.v1+json": {
       "config": {
        "plotlyServerURL": "https://plot.ly"
       },
       "data": [
        {
         "mode": "lines",
         "name": "Tendência",
         "type": "scatter",
         "x": [
          "2012-02",
          "2013-10",
          "2014-02",
          "2014-03",
          "2014-06",
          "2014-07",
          "2014-09",
          "2014-10",
          "2014-11",
          "2014-12",
          "2015-01",
          "2015-02",
          "2015-03",
          "2015-04",
          "2015-05",
          "2015-06",
          "2015-07",
          "2015-08",
          "2015-09",
          "2015-10",
          "2015-11",
          "2015-12",
          "2016-01",
          "2016-02",
          "2016-03",
          "2016-04",
          "2016-05",
          "2016-06",
          "2016-07",
          "2016-08",
          "2016-09",
          "2016-10",
          "2016-11",
          "2016-12",
          "2017-01",
          "2017-02",
          "2017-03",
          "2017-04",
          "2017-05",
          "2017-06",
          "2017-07",
          "2017-08",
          "2017-09",
          "2017-10",
          "2017-11",
          "2017-12",
          "2018-01",
          "2018-02",
          "2018-03",
          "2018-04",
          "2018-05",
          "2018-06",
          "2018-07",
          "2018-08",
          "2018-09",
          "2018-10",
          "2018-11",
          "2018-12",
          "2019-01",
          "2019-02",
          "2019-03",
          "2019-04",
          "2019-05",
          "2019-06",
          "2019-07",
          "2019-08",
          "2019-09",
          "2019-10",
          "2019-11",
          "2019-12",
          "2020-01",
          "2020-02",
          "2020-03",
          "2020-04",
          "2020-05",
          "2020-06",
          "2020-07",
          "2020-08",
          "2020-09",
          "2020-10",
          "2020-11",
          "2020-12",
          "2021-01",
          "2021-02",
          "2021-03",
          "2021-04",
          "2021-05",
          "2021-06",
          "2021-07",
          "2021-08",
          "2021-09",
          "2021-10",
          "2021-11",
          "2021-12",
          "2022-01",
          "2022-02",
          "2022-03",
          "2022-04",
          "2022-05",
          "2022-06",
          "2022-07",
          "2022-08",
          "2022-09",
          "2022-10",
          "2022-11",
          "2022-12",
          "2023-01",
          "2023-02",
          "2023-03"
         ],
         "y": [
          1,
          1,
          1,
          1,
          1,
          5,
          2,
          1,
          3,
          1,
          3,
          1,
          1,
          1,
          4,
          9,
          7,
          3,
          3,
          5,
          2,
          5,
          12,
          2,
          9,
          9,
          5,
          8,
          9,
          9,
          25,
          10,
          12,
          16,
          14,
          20,
          22,
          22,
          38,
          34,
          22,
          47,
          32,
          25,
          37,
          40,
          36,
          11,
          22,
          21,
          17,
          16,
          17,
          32,
          28,
          44,
          47,
          57,
          91,
          59,
          51,
          93,
          87,
          90,
          106,
          89,
          178,
          142,
          149,
          157,
          245,
          265,
          259,
          182,
          205,
          250,
          287,
          235,
          337,
          259,
          272,
          374,
          319,
          322,
          446,
          521,
          492,
          531,
          660,
          612,
          749,
          666,
          750,
          988,
          1007,
          970,
          1256,
          1103,
          1098,
          1104,
          1121,
          1356,
          1053,
          1077,
          1327,
          1560,
          2187,
          1903,
          950
         ]
        }
       ],
       "layout": {
        "template": {
         "data": {
          "bar": [
           {
            "error_x": {
             "color": "#2a3f5f"
            },
            "error_y": {
             "color": "#2a3f5f"
            },
            "marker": {
             "line": {
              "color": "#E5ECF6",
              "width": 0.5
             },
             "pattern": {
              "fillmode": "overlay",
              "size": 10,
              "solidity": 0.2
             }
            },
            "type": "bar"
           }
          ],
          "barpolar": [
           {
            "marker": {
             "line": {
              "color": "#E5ECF6",
              "width": 0.5
             },
             "pattern": {
              "fillmode": "overlay",
              "size": 10,
              "solidity": 0.2
             }
            },
            "type": "barpolar"
           }
          ],
          "carpet": [
           {
            "aaxis": {
             "endlinecolor": "#2a3f5f",
             "gridcolor": "white",
             "linecolor": "white",
             "minorgridcolor": "white",
             "startlinecolor": "#2a3f5f"
            },
            "baxis": {
             "endlinecolor": "#2a3f5f",
             "gridcolor": "white",
             "linecolor": "white",
             "minorgridcolor": "white",
             "startlinecolor": "#2a3f5f"
            },
            "type": "carpet"
           }
          ],
          "choropleth": [
           {
            "colorbar": {
             "outlinewidth": 0,
             "ticks": ""
            },
            "type": "choropleth"
           }
          ],
          "contour": [
           {
            "colorbar": {
             "outlinewidth": 0,
             "ticks": ""
            },
            "colorscale": [
             [
              0,
              "#0d0887"
             ],
             [
              0.1111111111111111,
              "#46039f"
             ],
             [
              0.2222222222222222,
              "#7201a8"
             ],
             [
              0.3333333333333333,
              "#9c179e"
             ],
             [
              0.4444444444444444,
              "#bd3786"
             ],
             [
              0.5555555555555556,
              "#d8576b"
             ],
             [
              0.6666666666666666,
              "#ed7953"
             ],
             [
              0.7777777777777778,
              "#fb9f3a"
             ],
             [
              0.8888888888888888,
              "#fdca26"
             ],
             [
              1,
              "#f0f921"
             ]
            ],
            "type": "contour"
           }
          ],
          "contourcarpet": [
           {
            "colorbar": {
             "outlinewidth": 0,
             "ticks": ""
            },
            "type": "contourcarpet"
           }
          ],
          "heatmap": [
           {
            "colorbar": {
             "outlinewidth": 0,
             "ticks": ""
            },
            "colorscale": [
             [
              0,
              "#0d0887"
             ],
             [
              0.1111111111111111,
              "#46039f"
             ],
             [
              0.2222222222222222,
              "#7201a8"
             ],
             [
              0.3333333333333333,
              "#9c179e"
             ],
             [
              0.4444444444444444,
              "#bd3786"
             ],
             [
              0.5555555555555556,
              "#d8576b"
             ],
             [
              0.6666666666666666,
              "#ed7953"
             ],
             [
              0.7777777777777778,
              "#fb9f3a"
             ],
             [
              0.8888888888888888,
              "#fdca26"
             ],
             [
              1,
              "#f0f921"
             ]
            ],
            "type": "heatmap"
           }
          ],
          "heatmapgl": [
           {
            "colorbar": {
             "outlinewidth": 0,
             "ticks": ""
            },
            "colorscale": [
             [
              0,
              "#0d0887"
             ],
             [
              0.1111111111111111,
              "#46039f"
             ],
             [
              0.2222222222222222,
              "#7201a8"
             ],
             [
              0.3333333333333333,
              "#9c179e"
             ],
             [
              0.4444444444444444,
              "#bd3786"
             ],
             [
              0.5555555555555556,
              "#d8576b"
             ],
             [
              0.6666666666666666,
              "#ed7953"
             ],
             [
              0.7777777777777778,
              "#fb9f3a"
             ],
             [
              0.8888888888888888,
              "#fdca26"
             ],
             [
              1,
              "#f0f921"
             ]
            ],
            "type": "heatmapgl"
           }
          ],
          "histogram": [
           {
            "marker": {
             "pattern": {
              "fillmode": "overlay",
              "size": 10,
              "solidity": 0.2
             }
            },
            "type": "histogram"
           }
          ],
          "histogram2d": [
           {
            "colorbar": {
             "outlinewidth": 0,
             "ticks": ""
            },
            "colorscale": [
             [
              0,
              "#0d0887"
             ],
             [
              0.1111111111111111,
              "#46039f"
             ],
             [
              0.2222222222222222,
              "#7201a8"
             ],
             [
              0.3333333333333333,
              "#9c179e"
             ],
             [
              0.4444444444444444,
              "#bd3786"
             ],
             [
              0.5555555555555556,
              "#d8576b"
             ],
             [
              0.6666666666666666,
              "#ed7953"
             ],
             [
              0.7777777777777778,
              "#fb9f3a"
             ],
             [
              0.8888888888888888,
              "#fdca26"
             ],
             [
              1,
              "#f0f921"
             ]
            ],
            "type": "histogram2d"
           }
          ],
          "histogram2dcontour": [
           {
            "colorbar": {
             "outlinewidth": 0,
             "ticks": ""
            },
            "colorscale": [
             [
              0,
              "#0d0887"
             ],
             [
              0.1111111111111111,
              "#46039f"
             ],
             [
              0.2222222222222222,
              "#7201a8"
             ],
             [
              0.3333333333333333,
              "#9c179e"
             ],
             [
              0.4444444444444444,
              "#bd3786"
             ],
             [
              0.5555555555555556,
              "#d8576b"
             ],
             [
              0.6666666666666666,
              "#ed7953"
             ],
             [
              0.7777777777777778,
              "#fb9f3a"
             ],
             [
              0.8888888888888888,
              "#fdca26"
             ],
             [
              1,
              "#f0f921"
             ]
            ],
            "type": "histogram2dcontour"
           }
          ],
          "mesh3d": [
           {
            "colorbar": {
             "outlinewidth": 0,
             "ticks": ""
            },
            "type": "mesh3d"
           }
          ],
          "parcoords": [
           {
            "line": {
             "colorbar": {
              "outlinewidth": 0,
              "ticks": ""
             }
            },
            "type": "parcoords"
           }
          ],
          "pie": [
           {
            "automargin": true,
            "type": "pie"
           }
          ],
          "scatter": [
           {
            "fillpattern": {
             "fillmode": "overlay",
             "size": 10,
             "solidity": 0.2
            },
            "type": "scatter"
           }
          ],
          "scatter3d": [
           {
            "line": {
             "colorbar": {
              "outlinewidth": 0,
              "ticks": ""
             }
            },
            "marker": {
             "colorbar": {
              "outlinewidth": 0,
              "ticks": ""
             }
            },
            "type": "scatter3d"
           }
          ],
          "scattercarpet": [
           {
            "marker": {
             "colorbar": {
              "outlinewidth": 0,
              "ticks": ""
             }
            },
            "type": "scattercarpet"
           }
          ],
          "scattergeo": [
           {
            "marker": {
             "colorbar": {
              "outlinewidth": 0,
              "ticks": ""
             }
            },
            "type": "scattergeo"
           }
          ],
          "scattergl": [
           {
            "marker": {
             "colorbar": {
              "outlinewidth": 0,
              "ticks": ""
             }
            },
            "type": "scattergl"
           }
          ],
          "scattermapbox": [
           {
            "marker": {
             "colorbar": {
              "outlinewidth": 0,
              "ticks": ""
             }
            },
            "type": "scattermapbox"
           }
          ],
          "scatterpolar": [
           {
            "marker": {
             "colorbar": {
              "outlinewidth": 0,
              "ticks": ""
             }
            },
            "type": "scatterpolar"
           }
          ],
          "scatterpolargl": [
           {
            "marker": {
             "colorbar": {
              "outlinewidth": 0,
              "ticks": ""
             }
            },
            "type": "scatterpolargl"
           }
          ],
          "scatterternary": [
           {
            "marker": {
             "colorbar": {
              "outlinewidth": 0,
              "ticks": ""
             }
            },
            "type": "scatterternary"
           }
          ],
          "surface": [
           {
            "colorbar": {
             "outlinewidth": 0,
             "ticks": ""
            },
            "colorscale": [
             [
              0,
              "#0d0887"
             ],
             [
              0.1111111111111111,
              "#46039f"
             ],
             [
              0.2222222222222222,
              "#7201a8"
             ],
             [
              0.3333333333333333,
              "#9c179e"
             ],
             [
              0.4444444444444444,
              "#bd3786"
             ],
             [
              0.5555555555555556,
              "#d8576b"
             ],
             [
              0.6666666666666666,
              "#ed7953"
             ],
             [
              0.7777777777777778,
              "#fb9f3a"
             ],
             [
              0.8888888888888888,
              "#fdca26"
             ],
             [
              1,
              "#f0f921"
             ]
            ],
            "type": "surface"
           }
          ],
          "table": [
           {
            "cells": {
             "fill": {
              "color": "#EBF0F8"
             },
             "line": {
              "color": "white"
             }
            },
            "header": {
             "fill": {
              "color": "#C8D4E3"
             },
             "line": {
              "color": "white"
             }
            },
            "type": "table"
           }
          ]
         },
         "layout": {
          "annotationdefaults": {
           "arrowcolor": "#2a3f5f",
           "arrowhead": 0,
           "arrowwidth": 1
          },
          "autotypenumbers": "strict",
          "coloraxis": {
           "colorbar": {
            "outlinewidth": 0,
            "ticks": ""
           }
          },
          "colorscale": {
           "diverging": [
            [
             0,
             "#8e0152"
            ],
            [
             0.1,
             "#c51b7d"
            ],
            [
             0.2,
             "#de77ae"
            ],
            [
             0.3,
             "#f1b6da"
            ],
            [
             0.4,
             "#fde0ef"
            ],
            [
             0.5,
             "#f7f7f7"
            ],
            [
             0.6,
             "#e6f5d0"
            ],
            [
             0.7,
             "#b8e186"
            ],
            [
             0.8,
             "#7fbc41"
            ],
            [
             0.9,
             "#4d9221"
            ],
            [
             1,
             "#276419"
            ]
           ],
           "sequential": [
            [
             0,
             "#0d0887"
            ],
            [
             0.1111111111111111,
             "#46039f"
            ],
            [
             0.2222222222222222,
             "#7201a8"
            ],
            [
             0.3333333333333333,
             "#9c179e"
            ],
            [
             0.4444444444444444,
             "#bd3786"
            ],
            [
             0.5555555555555556,
             "#d8576b"
            ],
            [
             0.6666666666666666,
             "#ed7953"
            ],
            [
             0.7777777777777778,
             "#fb9f3a"
            ],
            [
             0.8888888888888888,
             "#fdca26"
            ],
            [
             1,
             "#f0f921"
            ]
           ],
           "sequentialminus": [
            [
             0,
             "#0d0887"
            ],
            [
             0.1111111111111111,
             "#46039f"
            ],
            [
             0.2222222222222222,
             "#7201a8"
            ],
            [
             0.3333333333333333,
             "#9c179e"
            ],
            [
             0.4444444444444444,
             "#bd3786"
            ],
            [
             0.5555555555555556,
             "#d8576b"
            ],
            [
             0.6666666666666666,
             "#ed7953"
            ],
            [
             0.7777777777777778,
             "#fb9f3a"
            ],
            [
             0.8888888888888888,
             "#fdca26"
            ],
            [
             1,
             "#f0f921"
            ]
           ]
          },
          "colorway": [
           "#636efa",
           "#EF553B",
           "#00cc96",
           "#ab63fa",
           "#FFA15A",
           "#19d3f3",
           "#FF6692",
           "#B6E880",
           "#FF97FF",
           "#FECB52"
          ],
          "font": {
           "color": "#2a3f5f"
          },
          "geo": {
           "bgcolor": "white",
           "lakecolor": "white",
           "landcolor": "#E5ECF6",
           "showlakes": true,
           "showland": true,
           "subunitcolor": "white"
          },
          "hoverlabel": {
           "align": "left"
          },
          "hovermode": "closest",
          "mapbox": {
           "style": "light"
          },
          "paper_bgcolor": "white",
          "plot_bgcolor": "#E5ECF6",
          "polar": {
           "angularaxis": {
            "gridcolor": "white",
            "linecolor": "white",
            "ticks": ""
           },
           "bgcolor": "#E5ECF6",
           "radialaxis": {
            "gridcolor": "white",
            "linecolor": "white",
            "ticks": ""
           }
          },
          "scene": {
           "xaxis": {
            "backgroundcolor": "#E5ECF6",
            "gridcolor": "white",
            "gridwidth": 2,
            "linecolor": "white",
            "showbackground": true,
            "ticks": "",
            "zerolinecolor": "white"
           },
           "yaxis": {
            "backgroundcolor": "#E5ECF6",
            "gridcolor": "white",
            "gridwidth": 2,
            "linecolor": "white",
            "showbackground": true,
            "ticks": "",
            "zerolinecolor": "white"
           },
           "zaxis": {
            "backgroundcolor": "#E5ECF6",
            "gridcolor": "white",
            "gridwidth": 2,
            "linecolor": "white",
            "showbackground": true,
            "ticks": "",
            "zerolinecolor": "white"
           }
          },
          "shapedefaults": {
           "line": {
            "color": "#2a3f5f"
           }
          },
          "ternary": {
           "aaxis": {
            "gridcolor": "white",
            "linecolor": "white",
            "ticks": ""
           },
           "baxis": {
            "gridcolor": "white",
            "linecolor": "white",
            "ticks": ""
           },
           "bgcolor": "#E5ECF6",
           "caxis": {
            "gridcolor": "white",
            "linecolor": "white",
            "ticks": ""
           }
          },
          "title": {
           "x": 0.05
          },
          "xaxis": {
           "automargin": true,
           "gridcolor": "white",
           "linecolor": "white",
           "ticks": "",
           "title": {
            "standoff": 15
           },
           "zerolinecolor": "white",
           "zerolinewidth": 2
          },
          "yaxis": {
           "automargin": true,
           "gridcolor": "white",
           "linecolor": "white",
           "ticks": "",
           "title": {
            "standoff": 15
           },
           "zerolinecolor": "white",
           "zerolinewidth": 2
          }
         }
        },
        "title": {
         "text": "Tendência"
        },
        "xaxis": {
         "title": {
          "text": "Ano_Mes"
         }
        },
        "yaxis": {
         "title": {
          "text": "NumCPFCNPJ"
         }
        }
       }
      }
     },
     "metadata": {},
     "output_type": "display_data"
    }
   ],
   "source": [
    "#______________tendencia\n",
    "fig_tendencia = go.Figure()\n",
    "# Adicionar linha da tendência\n",
    "fig_tendencia.add_trace(go.Scatter(x=ts_clean.index, y=tendencia, mode='lines', name='Tendência'))\n",
    "# Configurar o layout\n",
    "fig_tendencia.update_layout(\n",
    "    xaxis_title='Ano_Mes',\n",
    "    yaxis_title='NumCPFCNPJ',\n",
    "    title='Tendência'\n",
    ")"
   ]
  }
 ],
 "metadata": {
  "kernelspec": {
   "display_name": "aneel_ene_3.8",
   "language": "python",
   "name": "python3"
  },
  "language_info": {
   "codemirror_mode": {
    "name": "ipython",
    "version": 3
   },
   "file_extension": ".py",
   "mimetype": "text/x-python",
   "name": "python",
   "nbconvert_exporter": "python",
   "pygments_lexer": "ipython3",
   "version": "3.8.16"
  },
  "orig_nbformat": 4,
  "vscode": {
   "interpreter": {
    "hash": "58d1f84db85b6d25e9bce9d0924d055311cc5daa7767bfc00c45d846a8a70090"
   }
  }
 },
 "nbformat": 4,
 "nbformat_minor": 2
}
