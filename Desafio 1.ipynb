{
 "cells": [
  {
   "cell_type": "code",
   "execution_count": 239,
   "id": "b6008dfd",
   "metadata": {},
   "outputs": [
    {
     "name": "stdout",
     "output_type": "stream",
     "text": [
      "Requisição bem sucedida\n"
     ]
    }
   ],
   "source": [
    "# Importe a biblioteca requests para fazer requisições HTTP\n",
    "import requests\n",
    "\n",
    "# Importe a biblioteca pandas para trabalhar com DataFrames\n",
    "import pandas as pd\n",
    "\n",
    "# Defina a URL da API que será consultada\n",
    "url = \"https://dadosabertos.aneel.gov.br/api/action/datastore_search?resource_id=b1bd71e7-d0ad-4214-9053-cbd58e9564a7&limit=1000000\"\n",
    "\n",
    "# Defina o tempo máximo de espera para a resposta da requisição\n",
    "timeout_seconds = 100   \n",
    "\n",
    "# Crie uma função para obter os dados da API e retornar um DataFrame\n",
    "def get_data(url, timeout_seconds):\n",
    "    try:\n",
    "        # Faça uma requisição GET para a URL especificada, com o tempo limite definido\n",
    "        response = requests.get(url, timeout=timeout_seconds)\n",
    "\n",
    "        # Verifique se houve algum erro na resposta HTTP\n",
    "        response.raise_for_status()\n",
    "    except requests.exceptions.RequestException as e:\n",
    "        # Se houve algum erro na requisição, imprima o erro e retorne None\n",
    "        print(\"Erro ao obter os dados:\", e)\n",
    "        return None\n",
    "\n",
    "    # Verifique se o código de status da resposta HTTP é 200, indicando que a requisição foi bem sucedida\n",
    "    if response.status_code == 200:\n",
    "        # Se a resposta foi bem sucedida, obtenha os dados em formato JSON\n",
    "        data = response.json()\n",
    "\n",
    "        # Imprima uma mensagem de sucesso\n",
    "        print(\"Requisição bem sucedida\")\n",
    "\n",
    "        # Verifique se a API retornou dados\n",
    "        if data[\"success\"]:\n",
    "            # Se a API retornou dados, obtenha a lista de registros e a lista de colunas\n",
    "            records = data[\"result\"][\"records\"]\n",
    "            columns = data[\"result\"][\"fields\"]\n",
    "\n",
    "            # Adicione as colunas \"SigUF\", \"Bandeira\" e \"Nome_agente\" na lista de colunas\n",
    "            columns.append({\"id\": \"Bandeira\", \"type\": \"text\"})\n",
    "            columns.append({\"id\": \"Nome_agente\", \"type\": \"text\"})\n",
    "\n",
    "            # Crie um DataFrame a partir das listas de registros e colunas\n",
    "            df = pd.DataFrame.from_records(records, columns=[c[\"id\"] for c in columns])\n",
    "\n",
    "            # Retorne o DataFrame criado\n",
    "            return df\n",
    "        else:\n",
    "            # Se a API não retornou dados, imprima uma mensagem de aviso e retorne None\n",
    "            print(\"A API não retornou dados.\")\n",
    "            return None\n",
    "    else:\n",
    "        # Se o código de status da resposta HTTP for diferente de 200, trate o erro de acordo com o código\n",
    "        if response.status_code == 400:\n",
    "            print(\"Requisição mal formada.\")\n",
    "        elif response.status_code == 401:\n",
    "            print(\"Não autorizado.\")\n",
    "        elif response.status_code == 403:\n",
    "            print(\"Acesso proibido.\")\n",
    "        elif response.status_code == 404:\n",
    "            print(\"Recurso não encontrado.\") \n",
    "        elif response.status_code == 500:\n",
    "            print(\"Erro interno do servidor.\")\n",
    "        else:\n",
    "            print(\"Erro desconhecido ao obter os dados.\")\n",
    "\n",
    "        # Retorne None em caso de erro\n",
    "        return None\n",
    "\n",
    "# Chame a função get_data para obter um DataFrame com os dados da API\n",
    "df = get_data(url, timeout_seconds)"
   ]
  },
  {
   "cell_type": "code",
   "execution_count": 240,
   "id": "62c9c482",
   "metadata": {},
   "outputs": [
    {
     "data": {
      "application/vnd.plotly.v1+json": {
       "config": {
        "plotlyServerURL": "https://plot.ly"
       },
       "data": [
        {
         "hovertemplate": "SigUF=BA<br>DscClasseConsumo=Industrial<br>Ano=2012<br>Mes=%{x}<br>NumCPFCNPJ=%{y}<extra></extra>",
         "legendgroup": "BA, Industrial",
         "marker": {
          "color": "#2E91E5",
          "symbol": "circle"
         },
         "mode": "markers",
         "name": "BA, Industrial",
         "orientation": "v",
         "showlegend": true,
         "type": "scatter",
         "x": [
          2
         ],
         "xaxis": "x",
         "y": [
          1
         ],
         "yaxis": "y"
        }
       ],
       "frames": [
        {
         "data": [
          {
           "hovertemplate": "SigUF=BA<br>DscClasseConsumo=Industrial<br>Ano=2012<br>Mes=%{x}<br>NumCPFCNPJ=%{y}<extra></extra>",
           "legendgroup": "BA, Industrial",
           "marker": {
            "color": "#2E91E5",
            "symbol": "circle"
           },
           "mode": "markers",
           "name": "BA, Industrial",
           "orientation": "v",
           "showlegend": true,
           "type": "scatter",
           "x": [
            2
           ],
           "xaxis": "x",
           "y": [
            1
           ],
           "yaxis": "y"
          }
         ],
         "name": "2012"
        },
        {
         "data": [
          {
           "hovertemplate": "SigUF=BA<br>DscClasseConsumo=Residencial<br>Ano=2013<br>Mes=%{x}<br>NumCPFCNPJ=%{y}<extra></extra>",
           "legendgroup": "BA, Residencial",
           "marker": {
            "color": "#2E91E5",
            "symbol": "diamond"
           },
           "mode": "markers",
           "name": "BA, Residencial",
           "orientation": "v",
           "showlegend": true,
           "type": "scatter",
           "x": [
            10
           ],
           "xaxis": "x",
           "y": [
            1
           ],
           "yaxis": "y"
          }
         ],
         "name": "2013"
        },
        {
         "data": [
          {
           "hovertemplate": "SigUF=BA<br>DscClasseConsumo=Industrial<br>Ano=2014<br>Mes=%{x}<br>NumCPFCNPJ=%{y}<extra></extra>",
           "legendgroup": "BA, Industrial",
           "marker": {
            "color": "#2E91E5",
            "symbol": "circle"
           },
           "mode": "markers",
           "name": "BA, Industrial",
           "orientation": "v",
           "showlegend": true,
           "type": "scatter",
           "x": [
            9
           ],
           "xaxis": "x",
           "y": [
            1
           ],
           "yaxis": "y"
          },
          {
           "hovertemplate": "SigUF=BA<br>DscClasseConsumo=Residencial<br>Ano=2014<br>Mes=%{x}<br>NumCPFCNPJ=%{y}<extra></extra>",
           "legendgroup": "BA, Residencial",
           "marker": {
            "color": "#2E91E5",
            "symbol": "diamond"
           },
           "mode": "markers",
           "name": "BA, Residencial",
           "orientation": "v",
           "showlegend": true,
           "type": "scatter",
           "x": [
            2,
            3,
            7,
            10,
            11,
            12
           ],
           "xaxis": "x",
           "y": [
            1,
            1,
            1,
            1,
            3,
            1
           ],
           "yaxis": "y"
          },
          {
           "hovertemplate": "SigUF=BA<br>DscClasseConsumo=Comercial<br>Ano=2014<br>Mes=%{x}<br>NumCPFCNPJ=%{y}<extra></extra>",
           "legendgroup": "BA, Comercial",
           "marker": {
            "color": "#2E91E5",
            "symbol": "square"
           },
           "mode": "markers",
           "name": "BA, Comercial",
           "orientation": "v",
           "showlegend": true,
           "type": "scatter",
           "x": [
            6,
            7,
            9
           ],
           "xaxis": "x",
           "y": [
            1,
            4,
            1
           ],
           "yaxis": "y"
          }
         ],
         "name": "2014"
        },
        {
         "data": [
          {
           "hovertemplate": "SigUF=BA<br>DscClasseConsumo=Residencial<br>Ano=2015<br>Mes=%{x}<br>NumCPFCNPJ=%{y}<extra></extra>",
           "legendgroup": "BA, Residencial",
           "marker": {
            "color": "#2E91E5",
            "symbol": "diamond"
           },
           "mode": "markers",
           "name": "BA, Residencial",
           "orientation": "v",
           "showlegend": true,
           "type": "scatter",
           "x": [
            1,
            2,
            5,
            6,
            7,
            8,
            9,
            10,
            11,
            12
           ],
           "xaxis": "x",
           "y": [
            2,
            1,
            3,
            4,
            4,
            2,
            2,
            5,
            2,
            2
           ],
           "yaxis": "y"
          },
          {
           "hovertemplate": "SigUF=BA<br>DscClasseConsumo=Comercial<br>Ano=2015<br>Mes=%{x}<br>NumCPFCNPJ=%{y}<extra></extra>",
           "legendgroup": "BA, Comercial",
           "marker": {
            "color": "#2E91E5",
            "symbol": "square"
           },
           "mode": "markers",
           "name": "BA, Comercial",
           "orientation": "v",
           "showlegend": true,
           "type": "scatter",
           "x": [
            3,
            5,
            6,
            9,
            12
           ],
           "xaxis": "x",
           "y": [
            1,
            1,
            3,
            2,
            2
           ],
           "yaxis": "y"
          },
          {
           "hovertemplate": "SigUF=AL<br>DscClasseConsumo=Residencial<br>Ano=2015<br>Mes=%{x}<br>NumCPFCNPJ=%{y}<extra></extra>",
           "legendgroup": "AL, Residencial",
           "marker": {
            "color": "#E15F99",
            "symbol": "diamond"
           },
           "mode": "markers",
           "name": "AL, Residencial",
           "orientation": "v",
           "showlegend": true,
           "type": "scatter",
           "x": [
            7
           ],
           "xaxis": "x",
           "y": [
            1
           ],
           "yaxis": "y"
          },
          {
           "hovertemplate": "SigUF=AL<br>DscClasseConsumo=Comercial<br>Ano=2015<br>Mes=%{x}<br>NumCPFCNPJ=%{y}<extra></extra>",
           "legendgroup": "AL, Comercial",
           "marker": {
            "color": "#E15F99",
            "symbol": "square"
           },
           "mode": "markers",
           "name": "AL, Comercial",
           "orientation": "v",
           "showlegend": true,
           "type": "scatter",
           "x": [
            1,
            7,
            12
           ],
           "xaxis": "x",
           "y": [
            1,
            1,
            1
           ],
           "yaxis": "y"
          },
          {
           "hovertemplate": "SigUF=AC<br>DscClasseConsumo=Residencial<br>Ano=2015<br>Mes=%{x}<br>NumCPFCNPJ=%{y}<extra></extra>",
           "legendgroup": "AC, Residencial",
           "marker": {
            "color": "#1CA71C",
            "symbol": "diamond"
           },
           "mode": "markers",
           "name": "AC, Residencial",
           "orientation": "v",
           "showlegend": true,
           "type": "scatter",
           "x": [
            4
           ],
           "xaxis": "x",
           "y": [
            1
           ],
           "yaxis": "y"
          },
          {
           "hovertemplate": "SigUF=AC<br>DscClasseConsumo=Comercial<br>Ano=2015<br>Mes=%{x}<br>NumCPFCNPJ=%{y}<extra></extra>",
           "legendgroup": "AC, Comercial",
           "marker": {
            "color": "#1CA71C",
            "symbol": "square"
           },
           "mode": "markers",
           "name": "AC, Comercial",
           "orientation": "v",
           "showlegend": true,
           "type": "scatter",
           "x": [
            6,
            7
           ],
           "xaxis": "x",
           "y": [
            1,
            1
           ],
           "yaxis": "y"
          },
          {
           "hovertemplate": "SigUF=AM<br>DscClasseConsumo=Comercial<br>Ano=2015<br>Mes=%{x}<br>NumCPFCNPJ=%{y}<extra></extra>",
           "legendgroup": "AM, Comercial",
           "marker": {
            "color": "#FB0D0D",
            "symbol": "square"
           },
           "mode": "markers",
           "name": "AM, Comercial",
           "orientation": "v",
           "showlegend": true,
           "type": "scatter",
           "x": [
            6,
            8
           ],
           "xaxis": "x",
           "y": [
            1,
            1
           ],
           "yaxis": "y"
          }
         ],
         "name": "2015"
        },
        {
         "data": [
          {
           "hovertemplate": "SigUF=BA<br>DscClasseConsumo=Industrial<br>Ano=2016<br>Mes=%{x}<br>NumCPFCNPJ=%{y}<extra></extra>",
           "legendgroup": "BA, Industrial",
           "marker": {
            "color": "#2E91E5",
            "symbol": "circle"
           },
           "mode": "markers",
           "name": "BA, Industrial",
           "orientation": "v",
           "showlegend": true,
           "type": "scatter",
           "x": [
            5,
            7
           ],
           "xaxis": "x",
           "y": [
            1,
            1
           ],
           "yaxis": "y"
          },
          {
           "hovertemplate": "SigUF=BA<br>DscClasseConsumo=Residencial<br>Ano=2016<br>Mes=%{x}<br>NumCPFCNPJ=%{y}<extra></extra>",
           "legendgroup": "BA, Residencial",
           "marker": {
            "color": "#2E91E5",
            "symbol": "diamond"
           },
           "mode": "markers",
           "name": "BA, Residencial",
           "orientation": "v",
           "showlegend": true,
           "type": "scatter",
           "x": [
            1,
            3,
            4,
            5,
            6,
            7,
            8,
            9,
            10,
            11,
            12
           ],
           "xaxis": "x",
           "y": [
            7,
            7,
            6,
            2,
            7,
            6,
            5,
            17,
            9,
            4,
            7
           ],
           "yaxis": "y"
          },
          {
           "hovertemplate": "SigUF=BA<br>DscClasseConsumo=Comercial<br>Ano=2016<br>Mes=%{x}<br>NumCPFCNPJ=%{y}<extra></extra>",
           "legendgroup": "BA, Comercial",
           "marker": {
            "color": "#2E91E5",
            "symbol": "square"
           },
           "mode": "markers",
           "name": "BA, Comercial",
           "orientation": "v",
           "showlegend": true,
           "type": "scatter",
           "x": [
            1,
            2,
            4,
            5,
            6,
            7,
            8,
            9,
            11,
            12
           ],
           "xaxis": "x",
           "y": [
            3,
            2,
            2,
            3,
            1,
            1,
            1,
            4,
            5,
            2
           ],
           "yaxis": "y"
          },
          {
           "hovertemplate": "SigUF=BA<br>DscClasseConsumo=Rural<br>Ano=2016<br>Mes=%{x}<br>NumCPFCNPJ=%{y}<extra></extra>",
           "legendgroup": "BA, Rural",
           "marker": {
            "color": "#2E91E5",
            "symbol": "x"
           },
           "mode": "markers",
           "name": "BA, Rural",
           "orientation": "v",
           "showlegend": true,
           "type": "scatter",
           "x": [
            3,
            4,
            11
           ],
           "xaxis": "x",
           "y": [
            1,
            1,
            1
           ],
           "yaxis": "y"
          },
          {
           "hovertemplate": "SigUF=BA<br>DscClasseConsumo=Poder Público<br>Ano=2016<br>Mes=%{x}<br>NumCPFCNPJ=%{y}<extra></extra>",
           "legendgroup": "BA, Poder Público",
           "marker": {
            "color": "#2E91E5",
            "symbol": "cross"
           },
           "mode": "markers",
           "name": "BA, Poder Público",
           "orientation": "v",
           "showlegend": true,
           "type": "scatter",
           "x": [
            7
           ],
           "xaxis": "x",
           "y": [
            1
           ],
           "yaxis": "y"
          },
          {
           "hovertemplate": "SigUF=AL<br>DscClasseConsumo=Industrial<br>Ano=2016<br>Mes=%{x}<br>NumCPFCNPJ=%{y}<extra></extra>",
           "legendgroup": "AL, Industrial",
           "marker": {
            "color": "#E15F99",
            "symbol": "circle"
           },
           "mode": "markers",
           "name": "AL, Industrial",
           "orientation": "v",
           "showlegend": true,
           "type": "scatter",
           "x": [
            12
           ],
           "xaxis": "x",
           "y": [
            1
           ],
           "yaxis": "y"
          },
          {
           "hovertemplate": "SigUF=AL<br>DscClasseConsumo=Residencial<br>Ano=2016<br>Mes=%{x}<br>NumCPFCNPJ=%{y}<extra></extra>",
           "legendgroup": "AL, Residencial",
           "marker": {
            "color": "#E15F99",
            "symbol": "diamond"
           },
           "mode": "markers",
           "name": "AL, Residencial",
           "orientation": "v",
           "showlegend": true,
           "type": "scatter",
           "x": [
            1,
            3,
            8,
            9,
            10,
            12
           ],
           "xaxis": "x",
           "y": [
            2,
            2,
            1,
            3,
            1,
            4
           ],
           "yaxis": "y"
          },
          {
           "hovertemplate": "SigUF=AL<br>DscClasseConsumo=Comercial<br>Ano=2016<br>Mes=%{x}<br>NumCPFCNPJ=%{y}<extra></extra>",
           "legendgroup": "AL, Comercial",
           "marker": {
            "color": "#E15F99",
            "symbol": "square"
           },
           "mode": "markers",
           "name": "AL, Comercial",
           "orientation": "v",
           "showlegend": true,
           "type": "scatter",
           "x": [
            12
           ],
           "xaxis": "x",
           "y": [
            1
           ],
           "yaxis": "y"
          },
          {
           "hovertemplate": "SigUF=AC<br>DscClasseConsumo=Residencial<br>Ano=2016<br>Mes=%{x}<br>NumCPFCNPJ=%{y}<extra></extra>",
           "legendgroup": "AC, Residencial",
           "marker": {
            "color": "#1CA71C",
            "symbol": "diamond"
           },
           "mode": "markers",
           "name": "AC, Residencial",
           "orientation": "v",
           "showlegend": true,
           "type": "scatter",
           "x": [
            8
           ],
           "xaxis": "x",
           "y": [
            1
           ],
           "yaxis": "y"
          },
          {
           "hovertemplate": "SigUF=AM<br>DscClasseConsumo=Industrial<br>Ano=2016<br>Mes=%{x}<br>NumCPFCNPJ=%{y}<extra></extra>",
           "legendgroup": "AM, Industrial",
           "marker": {
            "color": "#FB0D0D",
            "symbol": "circle"
           },
           "mode": "markers",
           "name": "AM, Industrial",
           "orientation": "v",
           "showlegend": true,
           "type": "scatter",
           "x": [
            11
           ],
           "xaxis": "x",
           "y": [
            1
           ],
           "yaxis": "y"
          },
          {
           "hovertemplate": "SigUF=AM<br>DscClasseConsumo=Residencial<br>Ano=2016<br>Mes=%{x}<br>NumCPFCNPJ=%{y}<extra></extra>",
           "legendgroup": "AM, Residencial",
           "marker": {
            "color": "#FB0D0D",
            "symbol": "diamond"
           },
           "mode": "markers",
           "name": "AM, Residencial",
           "orientation": "v",
           "showlegend": true,
           "type": "scatter",
           "x": [
            8,
            9,
            11,
            12
           ],
           "xaxis": "x",
           "y": [
            1,
            1,
            1,
            1
           ],
           "yaxis": "y"
          }
         ],
         "name": "2016"
        },
        {
         "data": [
          {
           "hovertemplate": "SigUF=BA<br>DscClasseConsumo=Industrial<br>Ano=2017<br>Mes=%{x}<br>NumCPFCNPJ=%{y}<extra></extra>",
           "legendgroup": "BA, Industrial",
           "marker": {
            "color": "#2E91E5",
            "symbol": "circle"
           },
           "mode": "markers",
           "name": "BA, Industrial",
           "orientation": "v",
           "showlegend": true,
           "type": "scatter",
           "x": [
            1,
            10
           ],
           "xaxis": "x",
           "y": [
            1,
            1
           ],
           "yaxis": "y"
          },
          {
           "hovertemplate": "SigUF=BA<br>DscClasseConsumo=Residencial<br>Ano=2017<br>Mes=%{x}<br>NumCPFCNPJ=%{y}<extra></extra>",
           "legendgroup": "BA, Residencial",
           "marker": {
            "color": "#2E91E5",
            "symbol": "diamond"
           },
           "mode": "markers",
           "name": "BA, Residencial",
           "orientation": "v",
           "showlegend": true,
           "type": "scatter",
           "x": [
            1,
            2,
            3,
            4,
            5,
            6,
            7,
            8,
            9,
            10,
            11,
            12
           ],
           "xaxis": "x",
           "y": [
            11,
            8,
            10,
            8,
            23,
            16,
            15,
            23,
            16,
            8,
            28,
            20
           ],
           "yaxis": "y"
          },
          {
           "hovertemplate": "SigUF=BA<br>DscClasseConsumo=Comercial<br>Ano=2017<br>Mes=%{x}<br>NumCPFCNPJ=%{y}<extra></extra>",
           "legendgroup": "BA, Comercial",
           "marker": {
            "color": "#2E91E5",
            "symbol": "square"
           },
           "mode": "markers",
           "name": "BA, Comercial",
           "orientation": "v",
           "showlegend": true,
           "type": "scatter",
           "x": [
            2,
            3,
            4,
            5,
            6,
            7,
            8,
            9,
            10,
            11,
            12
           ],
           "xaxis": "x",
           "y": [
            6,
            3,
            8,
            3,
            10,
            4,
            13,
            10,
            8,
            1,
            13
           ],
           "yaxis": "y"
          },
          {
           "hovertemplate": "SigUF=BA<br>DscClasseConsumo=Rural<br>Ano=2017<br>Mes=%{x}<br>NumCPFCNPJ=%{y}<extra></extra>",
           "legendgroup": "BA, Rural",
           "marker": {
            "color": "#2E91E5",
            "symbol": "x"
           },
           "mode": "markers",
           "name": "BA, Rural",
           "orientation": "v",
           "showlegend": true,
           "type": "scatter",
           "x": [
            3,
            7,
            8,
            12
           ],
           "xaxis": "x",
           "y": [
            1,
            1,
            2,
            1
           ],
           "yaxis": "y"
          },
          {
           "hovertemplate": "SigUF=BA<br>DscClasseConsumo=Poder Público<br>Ano=2017<br>Mes=%{x}<br>NumCPFCNPJ=%{y}<extra></extra>",
           "legendgroup": "BA, Poder Público",
           "marker": {
            "color": "#2E91E5",
            "symbol": "cross"
           },
           "mode": "markers",
           "name": "BA, Poder Público",
           "orientation": "v",
           "showlegend": true,
           "type": "scatter",
           "x": [
            2,
            4,
            7,
            8,
            12
           ],
           "xaxis": "x",
           "y": [
            1,
            1,
            1,
            1,
            1
           ],
           "yaxis": "y"
          },
          {
           "hovertemplate": "SigUF=AL<br>DscClasseConsumo=Residencial<br>Ano=2017<br>Mes=%{x}<br>NumCPFCNPJ=%{y}<extra></extra>",
           "legendgroup": "AL, Residencial",
           "marker": {
            "color": "#E15F99",
            "symbol": "diamond"
           },
           "mode": "markers",
           "name": "AL, Residencial",
           "orientation": "v",
           "showlegend": true,
           "type": "scatter",
           "x": [
            1,
            2,
            3,
            4,
            5,
            6,
            7,
            8,
            9,
            10,
            11,
            12
           ],
           "xaxis": "x",
           "y": [
            2,
            3,
            4,
            2,
            7,
            3,
            1,
            1,
            1,
            4,
            2,
            1
           ],
           "yaxis": "y"
          },
          {
           "hovertemplate": "SigUF=AL<br>DscClasseConsumo=Comercial<br>Ano=2017<br>Mes=%{x}<br>NumCPFCNPJ=%{y}<extra></extra>",
           "legendgroup": "AL, Comercial",
           "marker": {
            "color": "#E15F99",
            "symbol": "square"
           },
           "mode": "markers",
           "name": "AL, Comercial",
           "orientation": "v",
           "showlegend": true,
           "type": "scatter",
           "x": [
            2,
            4,
            5,
            6,
            8,
            9,
            10,
            11,
            12
           ],
           "xaxis": "x",
           "y": [
            3,
            2,
            1,
            1,
            1,
            2,
            1,
            1,
            1
           ],
           "yaxis": "y"
          },
          {
           "hovertemplate": "SigUF=AL<br>DscClasseConsumo=Rural<br>Ano=2017<br>Mes=%{x}<br>NumCPFCNPJ=%{y}<extra></extra>",
           "legendgroup": "AL, Rural",
           "marker": {
            "color": "#E15F99",
            "symbol": "x"
           },
           "mode": "markers",
           "name": "AL, Rural",
           "orientation": "v",
           "showlegend": true,
           "type": "scatter",
           "x": [
            5,
            11
           ],
           "xaxis": "x",
           "y": [
            1,
            1
           ],
           "yaxis": "y"
          },
          {
           "hovertemplate": "SigUF=AC<br>DscClasseConsumo=Residencial<br>Ano=2017<br>Mes=%{x}<br>NumCPFCNPJ=%{y}<extra></extra>",
           "legendgroup": "AC, Residencial",
           "marker": {
            "color": "#1CA71C",
            "symbol": "diamond"
           },
           "mode": "markers",
           "name": "AC, Residencial",
           "orientation": "v",
           "showlegend": true,
           "type": "scatter",
           "x": [
            3,
            4,
            6,
            7,
            10,
            11,
            12
           ],
           "xaxis": "x",
           "y": [
            2,
            1,
            1,
            1,
            1,
            1,
            5
           ],
           "yaxis": "y"
          },
          {
           "hovertemplate": "SigUF=AC<br>DscClasseConsumo=Comercial<br>Ano=2017<br>Mes=%{x}<br>NumCPFCNPJ=%{y}<extra></extra>",
           "legendgroup": "AC, Comercial",
           "marker": {
            "color": "#1CA71C",
            "symbol": "square"
           },
           "mode": "markers",
           "name": "AC, Comercial",
           "orientation": "v",
           "showlegend": true,
           "type": "scatter",
           "x": [
            4,
            5,
            6,
            9
           ],
           "xaxis": "x",
           "y": [
            1,
            1,
            1,
            1
           ],
           "yaxis": "y"
          },
          {
           "hovertemplate": "SigUF=AM<br>DscClasseConsumo=Residencial<br>Ano=2017<br>Mes=%{x}<br>NumCPFCNPJ=%{y}<extra></extra>",
           "legendgroup": "AM, Residencial",
           "marker": {
            "color": "#FB0D0D",
            "symbol": "diamond"
           },
           "mode": "markers",
           "name": "AM, Residencial",
           "orientation": "v",
           "showlegend": true,
           "type": "scatter",
           "x": [
            3,
            5,
            6,
            8,
            9,
            10,
            11
           ],
           "xaxis": "x",
           "y": [
            2,
            1,
            4,
            4,
            2,
            2,
            4
           ],
           "yaxis": "y"
          },
          {
           "hovertemplate": "SigUF=AM<br>DscClasseConsumo=Comercial<br>Ano=2017<br>Mes=%{x}<br>NumCPFCNPJ=%{y}<extra></extra>",
           "legendgroup": "AM, Comercial",
           "marker": {
            "color": "#FB0D0D",
            "symbol": "square"
           },
           "mode": "markers",
           "name": "AM, Comercial",
           "orientation": "v",
           "showlegend": true,
           "type": "scatter",
           "x": [
            8
           ],
           "xaxis": "x",
           "y": [
            1
           ],
           "yaxis": "y"
          },
          {
           "hovertemplate": "SigUF=AP<br>DscClasseConsumo=Poder Público<br>Ano=2017<br>Mes=%{x}<br>NumCPFCNPJ=%{y}<extra></extra>",
           "legendgroup": "AP, Poder Público",
           "marker": {
            "color": "#DA16FF",
            "symbol": "cross"
           },
           "mode": "markers",
           "name": "AP, Poder Público",
           "orientation": "v",
           "showlegend": true,
           "type": "scatter",
           "x": [
            5,
            8,
            9
           ],
           "xaxis": "x",
           "y": [
            1,
            1,
            6
           ],
           "yaxis": "y"
          }
         ],
         "name": "2017"
        },
        {
         "data": [
          {
           "hovertemplate": "SigUF=BA<br>DscClasseConsumo=Industrial<br>Ano=2018<br>Mes=%{x}<br>NumCPFCNPJ=%{y}<extra></extra>",
           "legendgroup": "BA, Industrial",
           "marker": {
            "color": "#2E91E5",
            "symbol": "circle"
           },
           "mode": "markers",
           "name": "BA, Industrial",
           "orientation": "v",
           "showlegend": true,
           "type": "scatter",
           "x": [
            1,
            2,
            3,
            4,
            6,
            7,
            8
           ],
           "xaxis": "x",
           "y": [
            2,
            1,
            3,
            1,
            1,
            2,
            4
           ],
           "yaxis": "y"
          },
          {
           "hovertemplate": "SigUF=BA<br>DscClasseConsumo=Residencial<br>Ano=2018<br>Mes=%{x}<br>NumCPFCNPJ=%{y}<extra></extra>",
           "legendgroup": "BA, Residencial",
           "marker": {
            "color": "#2E91E5",
            "symbol": "diamond"
           },
           "mode": "markers",
           "name": "BA, Residencial",
           "orientation": "v",
           "showlegend": true,
           "type": "scatter",
           "x": [
            1,
            2,
            3,
            4,
            5,
            6,
            7,
            8,
            9
           ],
           "xaxis": "x",
           "y": [
            37,
            24,
            29,
            37,
            44,
            48,
            47,
            52,
            1
           ],
           "yaxis": "y"
          },
          {
           "hovertemplate": "SigUF=BA<br>DscClasseConsumo=Comercial<br>Ano=2018<br>Mes=%{x}<br>NumCPFCNPJ=%{y}<extra></extra>",
           "legendgroup": "BA, Comercial",
           "marker": {
            "color": "#2E91E5",
            "symbol": "square"
           },
           "mode": "markers",
           "name": "BA, Comercial",
           "orientation": "v",
           "showlegend": true,
           "type": "scatter",
           "x": [
            1,
            2,
            3,
            4,
            5,
            6,
            7,
            8
           ],
           "xaxis": "x",
           "y": [
            7,
            8,
            11,
            5,
            16,
            8,
            12,
            19
           ],
           "yaxis": "y"
          },
          {
           "hovertemplate": "SigUF=BA<br>DscClasseConsumo=Rural<br>Ano=2018<br>Mes=%{x}<br>NumCPFCNPJ=%{y}<extra></extra>",
           "legendgroup": "BA, Rural",
           "marker": {
            "color": "#2E91E5",
            "symbol": "x"
           },
           "mode": "markers",
           "name": "BA, Rural",
           "orientation": "v",
           "showlegend": true,
           "type": "scatter",
           "x": [
            1,
            2,
            3,
            4,
            5,
            8
           ],
           "xaxis": "x",
           "y": [
            5,
            1,
            2,
            2,
            3,
            2
           ],
           "yaxis": "y"
          },
          {
           "hovertemplate": "SigUF=BA<br>DscClasseConsumo=Poder Público<br>Ano=2018<br>Mes=%{x}<br>NumCPFCNPJ=%{y}<extra></extra>",
           "legendgroup": "BA, Poder Público",
           "marker": {
            "color": "#2E91E5",
            "symbol": "cross"
           },
           "mode": "markers",
           "name": "BA, Poder Público",
           "orientation": "v",
           "showlegend": true,
           "type": "scatter",
           "x": [
            2,
            4,
            5
           ],
           "xaxis": "x",
           "y": [
            1,
            1,
            1
           ],
           "yaxis": "y"
          },
          {
           "hovertemplate": "SigUF=AL<br>DscClasseConsumo=Industrial<br>Ano=2018<br>Mes=%{x}<br>NumCPFCNPJ=%{y}<extra></extra>",
           "legendgroup": "AL, Industrial",
           "marker": {
            "color": "#E15F99",
            "symbol": "circle"
           },
           "mode": "markers",
           "name": "AL, Industrial",
           "orientation": "v",
           "showlegend": true,
           "type": "scatter",
           "x": [
            5,
            8,
            10,
            11
           ],
           "xaxis": "x",
           "y": [
            1,
            1,
            1,
            1
           ],
           "yaxis": "y"
          },
          {
           "hovertemplate": "SigUF=AL<br>DscClasseConsumo=Residencial<br>Ano=2018<br>Mes=%{x}<br>NumCPFCNPJ=%{y}<extra></extra>",
           "legendgroup": "AL, Residencial",
           "marker": {
            "color": "#E15F99",
            "symbol": "diamond"
           },
           "mode": "markers",
           "name": "AL, Residencial",
           "orientation": "v",
           "showlegend": true,
           "type": "scatter",
           "x": [
            1,
            2,
            3,
            4,
            5,
            6,
            7,
            8,
            9,
            10,
            11,
            12
           ],
           "xaxis": "x",
           "y": [
            5,
            2,
            8,
            13,
            4,
            6,
            4,
            12,
            14,
            20,
            24,
            23
           ],
           "yaxis": "y"
          },
          {
           "hovertemplate": "SigUF=AL<br>DscClasseConsumo=Comercial<br>Ano=2018<br>Mes=%{x}<br>NumCPFCNPJ=%{y}<extra></extra>",
           "legendgroup": "AL, Comercial",
           "marker": {
            "color": "#E15F99",
            "symbol": "square"
           },
           "mode": "markers",
           "name": "AL, Comercial",
           "orientation": "v",
           "showlegend": true,
           "type": "scatter",
           "x": [
            1,
            2,
            3,
            4,
            6,
            7,
            8,
            9,
            10,
            11,
            12
           ],
           "xaxis": "x",
           "y": [
            4,
            2,
            1,
            2,
            3,
            2,
            3,
            5,
            3,
            6,
            6
           ],
           "yaxis": "y"
          },
          {
           "hovertemplate": "SigUF=AL<br>DscClasseConsumo=Rural<br>Ano=2018<br>Mes=%{x}<br>NumCPFCNPJ=%{y}<extra></extra>",
           "legendgroup": "AL, Rural",
           "marker": {
            "color": "#E15F99",
            "symbol": "x"
           },
           "mode": "markers",
           "name": "AL, Rural",
           "orientation": "v",
           "showlegend": true,
           "type": "scatter",
           "x": [
            8
           ],
           "xaxis": "x",
           "y": [
            1
           ],
           "yaxis": "y"
          },
          {
           "hovertemplate": "SigUF=AC<br>DscClasseConsumo=Industrial<br>Ano=2018<br>Mes=%{x}<br>NumCPFCNPJ=%{y}<extra></extra>",
           "legendgroup": "AC, Industrial",
           "marker": {
            "color": "#1CA71C",
            "symbol": "circle"
           },
           "mode": "markers",
           "name": "AC, Industrial",
           "orientation": "v",
           "showlegend": true,
           "type": "scatter",
           "x": [
            6
           ],
           "xaxis": "x",
           "y": [
            1
           ],
           "yaxis": "y"
          },
          {
           "hovertemplate": "SigUF=AC<br>DscClasseConsumo=Residencial<br>Ano=2018<br>Mes=%{x}<br>NumCPFCNPJ=%{y}<extra></extra>",
           "legendgroup": "AC, Residencial",
           "marker": {
            "color": "#1CA71C",
            "symbol": "diamond"
           },
           "mode": "markers",
           "name": "AC, Residencial",
           "orientation": "v",
           "showlegend": true,
           "type": "scatter",
           "x": [
            1,
            2,
            3,
            5,
            7,
            8,
            9,
            10,
            11,
            12
           ],
           "xaxis": "x",
           "y": [
            2,
            3,
            1,
            1,
            3,
            3,
            1,
            4,
            1,
            3
           ],
           "yaxis": "y"
          },
          {
           "hovertemplate": "SigUF=AC<br>DscClasseConsumo=Comercial<br>Ano=2018<br>Mes=%{x}<br>NumCPFCNPJ=%{y}<extra></extra>",
           "legendgroup": "AC, Comercial",
           "marker": {
            "color": "#1CA71C",
            "symbol": "square"
           },
           "mode": "markers",
           "name": "AC, Comercial",
           "orientation": "v",
           "showlegend": true,
           "type": "scatter",
           "x": [
            3,
            5,
            6,
            10,
            11,
            12
           ],
           "xaxis": "x",
           "y": [
            1,
            1,
            1,
            2,
            2,
            1
           ],
           "yaxis": "y"
          },
          {
           "hovertemplate": "SigUF=AM<br>DscClasseConsumo=Industrial<br>Ano=2018<br>Mes=%{x}<br>NumCPFCNPJ=%{y}<extra></extra>",
           "legendgroup": "AM, Industrial",
           "marker": {
            "color": "#FB0D0D",
            "symbol": "circle"
           },
           "mode": "markers",
           "name": "AM, Industrial",
           "orientation": "v",
           "showlegend": true,
           "type": "scatter",
           "x": [
            10
           ],
           "xaxis": "x",
           "y": [
            1
           ],
           "yaxis": "y"
          },
          {
           "hovertemplate": "SigUF=AM<br>DscClasseConsumo=Residencial<br>Ano=2018<br>Mes=%{x}<br>NumCPFCNPJ=%{y}<extra></extra>",
           "legendgroup": "AM, Residencial",
           "marker": {
            "color": "#FB0D0D",
            "symbol": "diamond"
           },
           "mode": "markers",
           "name": "AM, Residencial",
           "orientation": "v",
           "showlegend": true,
           "type": "scatter",
           "x": [
            1,
            2,
            3,
            4,
            5,
            6,
            7,
            8,
            9,
            10,
            11,
            12
           ],
           "xaxis": "x",
           "y": [
            1,
            2,
            10,
            3,
            4,
            3,
            4,
            9,
            6,
            8,
            7,
            11
           ],
           "yaxis": "y"
          },
          {
           "hovertemplate": "SigUF=AM<br>DscClasseConsumo=Comercial<br>Ano=2018<br>Mes=%{x}<br>NumCPFCNPJ=%{y}<extra></extra>",
           "legendgroup": "AM, Comercial",
           "marker": {
            "color": "#FB0D0D",
            "symbol": "square"
           },
           "mode": "markers",
           "name": "AM, Comercial",
           "orientation": "v",
           "showlegend": true,
           "type": "scatter",
           "x": [
            2,
            5,
            6,
            7,
            8,
            9,
            10,
            12
           ],
           "xaxis": "x",
           "y": [
            1,
            1,
            1,
            1,
            1,
            1,
            2,
            2
           ],
           "yaxis": "y"
          },
          {
           "hovertemplate": "SigUF=AM<br>DscClasseConsumo=Rural<br>Ano=2018<br>Mes=%{x}<br>NumCPFCNPJ=%{y}<extra></extra>",
           "legendgroup": "AM, Rural",
           "marker": {
            "color": "#FB0D0D",
            "symbol": "x"
           },
           "mode": "markers",
           "name": "AM, Rural",
           "orientation": "v",
           "showlegend": true,
           "type": "scatter",
           "x": [
            9
           ],
           "xaxis": "x",
           "y": [
            1
           ],
           "yaxis": "y"
          },
          {
           "hovertemplate": "SigUF=AM<br>DscClasseConsumo=Poder Público<br>Ano=2018<br>Mes=%{x}<br>NumCPFCNPJ=%{y}<extra></extra>",
           "legendgroup": "AM, Poder Público",
           "marker": {
            "color": "#FB0D0D",
            "symbol": "cross"
           },
           "mode": "markers",
           "name": "AM, Poder Público",
           "orientation": "v",
           "showlegend": true,
           "type": "scatter",
           "x": [
            10
           ],
           "xaxis": "x",
           "y": [
            1
           ],
           "yaxis": "y"
          },
          {
           "hovertemplate": "SigUF=AP<br>DscClasseConsumo=Residencial<br>Ano=2018<br>Mes=%{x}<br>NumCPFCNPJ=%{y}<extra></extra>",
           "legendgroup": "AP, Residencial",
           "marker": {
            "color": "#DA16FF",
            "symbol": "diamond"
           },
           "mode": "markers",
           "name": "AP, Residencial",
           "orientation": "v",
           "showlegend": true,
           "type": "scatter",
           "x": [
            1,
            2,
            3,
            4,
            5,
            6,
            7,
            8,
            9,
            10,
            11,
            12
           ],
           "xaxis": "x",
           "y": [
            1,
            1,
            1,
            3,
            5,
            2,
            3,
            2,
            1,
            2,
            5,
            10
           ],
           "yaxis": "y"
          },
          {
           "hovertemplate": "SigUF=AP<br>DscClasseConsumo=Comercial<br>Ano=2018<br>Mes=%{x}<br>NumCPFCNPJ=%{y}<extra></extra>",
           "legendgroup": "AP, Comercial",
           "marker": {
            "color": "#DA16FF",
            "symbol": "square"
           },
           "mode": "markers",
           "name": "AP, Comercial",
           "orientation": "v",
           "showlegend": true,
           "type": "scatter",
           "x": [
            11,
            12
           ],
           "xaxis": "x",
           "y": [
            1,
            1
           ],
           "yaxis": "y"
          }
         ],
         "name": "2018"
        },
        {
         "data": [
          {
           "hovertemplate": "SigUF=BA<br>DscClasseConsumo=Residencial<br>Ano=2019<br>Mes=%{x}<br>NumCPFCNPJ=%{y}<extra></extra>",
           "legendgroup": "BA, Residencial",
           "marker": {
            "color": "#2E91E5",
            "symbol": "diamond"
           },
           "mode": "markers",
           "name": "BA, Residencial",
           "orientation": "v",
           "showlegend": true,
           "type": "scatter",
           "x": [
            11,
            12
           ],
           "xaxis": "x",
           "y": [
            2,
            1
           ],
           "yaxis": "y"
          },
          {
           "hovertemplate": "SigUF=BA<br>DscClasseConsumo=Comercial<br>Ano=2019<br>Mes=%{x}<br>NumCPFCNPJ=%{y}<extra></extra>",
           "legendgroup": "BA, Comercial",
           "marker": {
            "color": "#2E91E5",
            "symbol": "square"
           },
           "mode": "markers",
           "name": "BA, Comercial",
           "orientation": "v",
           "showlegend": true,
           "type": "scatter",
           "x": [
            12
           ],
           "xaxis": "x",
           "y": [
            1
           ],
           "yaxis": "y"
          },
          {
           "hovertemplate": "SigUF=AL<br>DscClasseConsumo=Industrial<br>Ano=2019<br>Mes=%{x}<br>NumCPFCNPJ=%{y}<extra></extra>",
           "legendgroup": "AL, Industrial",
           "marker": {
            "color": "#E15F99",
            "symbol": "circle"
           },
           "mode": "markers",
           "name": "AL, Industrial",
           "orientation": "v",
           "showlegend": true,
           "type": "scatter",
           "x": [
            1,
            3,
            8,
            9,
            10,
            11,
            12
           ],
           "xaxis": "x",
           "y": [
            2,
            2,
            1,
            1,
            1,
            1,
            2
           ],
           "yaxis": "y"
          },
          {
           "hovertemplate": "SigUF=AL<br>DscClasseConsumo=Residencial<br>Ano=2019<br>Mes=%{x}<br>NumCPFCNPJ=%{y}<extra></extra>",
           "legendgroup": "AL, Residencial",
           "marker": {
            "color": "#E15F99",
            "symbol": "diamond"
           },
           "mode": "markers",
           "name": "AL, Residencial",
           "orientation": "v",
           "showlegend": true,
           "type": "scatter",
           "x": [
            1,
            2,
            3,
            4,
            5,
            6,
            7,
            8,
            9,
            10,
            11,
            12
           ],
           "xaxis": "x",
           "y": [
            33,
            14,
            19,
            38,
            42,
            38,
            38,
            23,
            72,
            47,
            42,
            35
           ],
           "yaxis": "y"
          },
          {
           "hovertemplate": "SigUF=AL<br>DscClasseConsumo=Comercial<br>Ano=2019<br>Mes=%{x}<br>NumCPFCNPJ=%{y}<extra></extra>",
           "legendgroup": "AL, Comercial",
           "marker": {
            "color": "#E15F99",
            "symbol": "square"
           },
           "mode": "markers",
           "name": "AL, Comercial",
           "orientation": "v",
           "showlegend": true,
           "type": "scatter",
           "x": [
            1,
            2,
            3,
            4,
            5,
            6,
            7,
            8,
            9,
            10,
            11,
            12
           ],
           "xaxis": "x",
           "y": [
            7,
            8,
            7,
            19,
            8,
            16,
            9,
            12,
            21,
            18,
            19,
            11
           ],
           "yaxis": "y"
          },
          {
           "hovertemplate": "SigUF=AL<br>DscClasseConsumo=Rural<br>Ano=2019<br>Mes=%{x}<br>NumCPFCNPJ=%{y}<extra></extra>",
           "legendgroup": "AL, Rural",
           "marker": {
            "color": "#E15F99",
            "symbol": "x"
           },
           "mode": "markers",
           "name": "AL, Rural",
           "orientation": "v",
           "showlegend": true,
           "type": "scatter",
           "x": [
            2,
            4,
            5,
            7,
            9,
            10,
            11,
            12
           ],
           "xaxis": "x",
           "y": [
            1,
            1,
            1,
            1,
            2,
            1,
            2,
            3
           ],
           "yaxis": "y"
          },
          {
           "hovertemplate": "SigUF=AL<br>DscClasseConsumo=Poder Público<br>Ano=2019<br>Mes=%{x}<br>NumCPFCNPJ=%{y}<extra></extra>",
           "legendgroup": "AL, Poder Público",
           "marker": {
            "color": "#E15F99",
            "symbol": "cross"
           },
           "mode": "markers",
           "name": "AL, Poder Público",
           "orientation": "v",
           "showlegend": true,
           "type": "scatter",
           "x": [
            4,
            5,
            9
           ],
           "xaxis": "x",
           "y": [
            1,
            3,
            2
           ],
           "yaxis": "y"
          },
          {
           "hovertemplate": "SigUF=AC<br>DscClasseConsumo=Industrial<br>Ano=2019<br>Mes=%{x}<br>NumCPFCNPJ=%{y}<extra></extra>",
           "legendgroup": "AC, Industrial",
           "marker": {
            "color": "#1CA71C",
            "symbol": "circle"
           },
           "mode": "markers",
           "name": "AC, Industrial",
           "orientation": "v",
           "showlegend": true,
           "type": "scatter",
           "x": [
            4
           ],
           "xaxis": "x",
           "y": [
            1
           ],
           "yaxis": "y"
          },
          {
           "hovertemplate": "SigUF=AC<br>DscClasseConsumo=Residencial<br>Ano=2019<br>Mes=%{x}<br>NumCPFCNPJ=%{y}<extra></extra>",
           "legendgroup": "AC, Residencial",
           "marker": {
            "color": "#1CA71C",
            "symbol": "diamond"
           },
           "mode": "markers",
           "name": "AC, Residencial",
           "orientation": "v",
           "showlegend": true,
           "type": "scatter",
           "x": [
            1,
            2,
            3,
            4,
            5,
            6,
            7,
            8,
            9,
            10,
            11,
            12
           ],
           "xaxis": "x",
           "y": [
            8,
            3,
            6,
            7,
            3,
            12,
            7,
            10,
            4,
            11,
            9,
            15
           ],
           "yaxis": "y"
          },
          {
           "hovertemplate": "SigUF=AC<br>DscClasseConsumo=Comercial<br>Ano=2019<br>Mes=%{x}<br>NumCPFCNPJ=%{y}<extra></extra>",
           "legendgroup": "AC, Comercial",
           "marker": {
            "color": "#1CA71C",
            "symbol": "square"
           },
           "mode": "markers",
           "name": "AC, Comercial",
           "orientation": "v",
           "showlegend": true,
           "type": "scatter",
           "x": [
            1,
            2,
            3,
            4,
            6,
            7,
            8,
            9,
            10,
            11,
            12
           ],
           "xaxis": "x",
           "y": [
            3,
            1,
            1,
            2,
            4,
            2,
            2,
            6,
            5,
            3,
            3
           ],
           "yaxis": "y"
          },
          {
           "hovertemplate": "SigUF=AC<br>DscClasseConsumo=Rural<br>Ano=2019<br>Mes=%{x}<br>NumCPFCNPJ=%{y}<extra></extra>",
           "legendgroup": "AC, Rural",
           "marker": {
            "color": "#1CA71C",
            "symbol": "x"
           },
           "mode": "markers",
           "name": "AC, Rural",
           "orientation": "v",
           "showlegend": true,
           "type": "scatter",
           "x": [
            1,
            4,
            10,
            12
           ],
           "xaxis": "x",
           "y": [
            1,
            1,
            1,
            3
           ],
           "yaxis": "y"
          },
          {
           "hovertemplate": "SigUF=AC<br>DscClasseConsumo=Poder Público<br>Ano=2019<br>Mes=%{x}<br>NumCPFCNPJ=%{y}<extra></extra>",
           "legendgroup": "AC, Poder Público",
           "marker": {
            "color": "#1CA71C",
            "symbol": "cross"
           },
           "mode": "markers",
           "name": "AC, Poder Público",
           "orientation": "v",
           "showlegend": true,
           "type": "scatter",
           "x": [
            11
           ],
           "xaxis": "x",
           "y": [
            1
           ],
           "yaxis": "y"
          },
          {
           "hovertemplate": "SigUF=AM<br>DscClasseConsumo=Industrial<br>Ano=2019<br>Mes=%{x}<br>NumCPFCNPJ=%{y}<extra></extra>",
           "legendgroup": "AM, Industrial",
           "marker": {
            "color": "#FB0D0D",
            "symbol": "circle"
           },
           "mode": "markers",
           "name": "AM, Industrial",
           "orientation": "v",
           "showlegend": true,
           "type": "scatter",
           "x": [
            2,
            7,
            10
           ],
           "xaxis": "x",
           "y": [
            1,
            1,
            1
           ],
           "yaxis": "y"
          },
          {
           "hovertemplate": "SigUF=AM<br>DscClasseConsumo=Residencial<br>Ano=2019<br>Mes=%{x}<br>NumCPFCNPJ=%{y}<extra></extra>",
           "legendgroup": "AM, Residencial",
           "marker": {
            "color": "#FB0D0D",
            "symbol": "diamond"
           },
           "mode": "markers",
           "name": "AM, Residencial",
           "orientation": "v",
           "showlegend": true,
           "type": "scatter",
           "x": [
            1,
            2,
            3,
            4,
            5,
            6,
            7,
            8,
            9,
            10,
            11,
            12
           ],
           "xaxis": "x",
           "y": [
            25,
            20,
            11,
            18,
            19,
            13,
            37,
            27,
            48,
            43,
            52,
            62
           ],
           "yaxis": "y"
          },
          {
           "hovertemplate": "SigUF=AM<br>DscClasseConsumo=Comercial<br>Ano=2019<br>Mes=%{x}<br>NumCPFCNPJ=%{y}<extra></extra>",
           "legendgroup": "AM, Comercial",
           "marker": {
            "color": "#FB0D0D",
            "symbol": "square"
           },
           "mode": "markers",
           "name": "AM, Comercial",
           "orientation": "v",
           "showlegend": true,
           "type": "scatter",
           "x": [
            1,
            2,
            4,
            5,
            6,
            7,
            8,
            9,
            10,
            11,
            12
           ],
           "xaxis": "x",
           "y": [
            4,
            1,
            1,
            5,
            5,
            6,
            4,
            8,
            5,
            5,
            4
           ],
           "yaxis": "y"
          },
          {
           "hovertemplate": "SigUF=AM<br>DscClasseConsumo=Rural<br>Ano=2019<br>Mes=%{x}<br>NumCPFCNPJ=%{y}<extra></extra>",
           "legendgroup": "AM, Rural",
           "marker": {
            "color": "#FB0D0D",
            "symbol": "x"
           },
           "mode": "markers",
           "name": "AM, Rural",
           "orientation": "v",
           "showlegend": true,
           "type": "scatter",
           "x": [
            5,
            7,
            9
           ],
           "xaxis": "x",
           "y": [
            1,
            1,
            1
           ],
           "yaxis": "y"
          },
          {
           "hovertemplate": "SigUF=AM<br>DscClasseConsumo=Poder Público<br>Ano=2019<br>Mes=%{x}<br>NumCPFCNPJ=%{y}<extra></extra>",
           "legendgroup": "AM, Poder Público",
           "marker": {
            "color": "#FB0D0D",
            "symbol": "cross"
           },
           "mode": "markers",
           "name": "AM, Poder Público",
           "orientation": "v",
           "showlegend": true,
           "type": "scatter",
           "x": [
            3,
            7
           ],
           "xaxis": "x",
           "y": [
            1,
            1
           ],
           "yaxis": "y"
          },
          {
           "hovertemplate": "SigUF=AP<br>DscClasseConsumo=Residencial<br>Ano=2019<br>Mes=%{x}<br>NumCPFCNPJ=%{y}<extra></extra>",
           "legendgroup": "AP, Residencial",
           "marker": {
            "color": "#DA16FF",
            "symbol": "diamond"
           },
           "mode": "markers",
           "name": "AP, Residencial",
           "orientation": "v",
           "showlegend": true,
           "type": "scatter",
           "x": [
            1,
            2,
            3,
            4,
            5,
            6,
            8,
            9,
            10,
            11,
            12
           ],
           "xaxis": "x",
           "y": [
            5,
            8,
            5,
            3,
            3,
            3,
            8,
            10,
            8,
            14,
            17
           ],
           "yaxis": "y"
          },
          {
           "hovertemplate": "SigUF=AP<br>DscClasseConsumo=Comercial<br>Ano=2019<br>Mes=%{x}<br>NumCPFCNPJ=%{y}<extra></extra>",
           "legendgroup": "AP, Comercial",
           "marker": {
            "color": "#DA16FF",
            "symbol": "square"
           },
           "mode": "markers",
           "name": "AP, Comercial",
           "orientation": "v",
           "showlegend": true,
           "type": "scatter",
           "x": [
            1,
            2,
            4,
            5,
            7,
            8,
            9,
            10,
            11
           ],
           "xaxis": "x",
           "y": [
            1,
            2,
            1,
            4,
            5,
            2,
            4,
            2,
            2
           ],
           "yaxis": "y"
          },
          {
           "hovertemplate": "SigUF=AP<br>DscClasseConsumo=Poder Público<br>Ano=2019<br>Mes=%{x}<br>NumCPFCNPJ=%{y}<extra></extra>",
           "legendgroup": "AP, Poder Público",
           "marker": {
            "color": "#DA16FF",
            "symbol": "cross"
           },
           "mode": "markers",
           "name": "AP, Poder Público",
           "orientation": "v",
           "showlegend": true,
           "type": "scatter",
           "x": [
            1,
            12
           ],
           "xaxis": "x",
           "y": [
            1,
            1
           ],
           "yaxis": "y"
          },
          {
           "hovertemplate": "SigUF=AP<br>DscClasseConsumo=Serviço Público<br>Ano=2019<br>Mes=%{x}<br>NumCPFCNPJ=%{y}<extra></extra>",
           "legendgroup": "AP, Serviço Público",
           "marker": {
            "color": "#DA16FF",
            "symbol": "circle"
           },
           "mode": "markers",
           "name": "AP, Serviço Público",
           "orientation": "v",
           "showlegend": true,
           "type": "scatter",
           "x": [
            1
           ],
           "xaxis": "x",
           "y": [
            1
           ],
           "yaxis": "y"
          }
         ],
         "name": "2019"
        },
        {
         "data": [
          {
           "hovertemplate": "SigUF=BA<br>DscClasseConsumo=Residencial<br>Ano=2020<br>Mes=%{x}<br>NumCPFCNPJ=%{y}<extra></extra>",
           "legendgroup": "BA, Residencial",
           "marker": {
            "color": "#2E91E5",
            "symbol": "diamond"
           },
           "mode": "markers",
           "name": "BA, Residencial",
           "orientation": "v",
           "showlegend": true,
           "type": "scatter",
           "x": [
            6,
            10,
            11
           ],
           "xaxis": "x",
           "y": [
            1,
            1,
            2
           ],
           "yaxis": "y"
          },
          {
           "hovertemplate": "SigUF=BA<br>DscClasseConsumo=Comercial<br>Ano=2020<br>Mes=%{x}<br>NumCPFCNPJ=%{y}<extra></extra>",
           "legendgroup": "BA, Comercial",
           "marker": {
            "color": "#2E91E5",
            "symbol": "square"
           },
           "mode": "markers",
           "name": "BA, Comercial",
           "orientation": "v",
           "showlegend": true,
           "type": "scatter",
           "x": [
            10
           ],
           "xaxis": "x",
           "y": [
            1
           ],
           "yaxis": "y"
          },
          {
           "hovertemplate": "SigUF=AL<br>DscClasseConsumo=Industrial<br>Ano=2020<br>Mes=%{x}<br>NumCPFCNPJ=%{y}<extra></extra>",
           "legendgroup": "AL, Industrial",
           "marker": {
            "color": "#E15F99",
            "symbol": "circle"
           },
           "mode": "markers",
           "name": "AL, Industrial",
           "orientation": "v",
           "showlegend": true,
           "type": "scatter",
           "x": [
            1,
            2,
            3,
            4,
            6,
            9,
            10,
            11,
            12
           ],
           "xaxis": "x",
           "y": [
            1,
            3,
            1,
            1,
            4,
            3,
            1,
            3,
            1
           ],
           "yaxis": "y"
          },
          {
           "hovertemplate": "SigUF=AL<br>DscClasseConsumo=Residencial<br>Ano=2020<br>Mes=%{x}<br>NumCPFCNPJ=%{y}<extra></extra>",
           "legendgroup": "AL, Residencial",
           "marker": {
            "color": "#E15F99",
            "symbol": "diamond"
           },
           "mode": "markers",
           "name": "AL, Residencial",
           "orientation": "v",
           "showlegend": true,
           "type": "scatter",
           "x": [
            1,
            2,
            3,
            4,
            5,
            6,
            7,
            8,
            9,
            10,
            11,
            12
           ],
           "xaxis": "x",
           "y": [
            93,
            114,
            99,
            75,
            79,
            121,
            132,
            98,
            145,
            73,
            71,
            102
           ],
           "yaxis": "y"
          },
          {
           "hovertemplate": "SigUF=AL<br>DscClasseConsumo=Comercial<br>Ano=2020<br>Mes=%{x}<br>NumCPFCNPJ=%{y}<extra></extra>",
           "legendgroup": "AL, Comercial",
           "marker": {
            "color": "#E15F99",
            "symbol": "square"
           },
           "mode": "markers",
           "name": "AL, Comercial",
           "orientation": "v",
           "showlegend": true,
           "type": "scatter",
           "x": [
            1,
            2,
            3,
            4,
            5,
            6,
            7,
            8,
            9,
            10,
            11,
            12
           ],
           "xaxis": "x",
           "y": [
            37,
            29,
            30,
            29,
            14,
            32,
            45,
            17,
            30,
            24,
            21,
            40
           ],
           "yaxis": "y"
          },
          {
           "hovertemplate": "SigUF=AL<br>DscClasseConsumo=Rural<br>Ano=2020<br>Mes=%{x}<br>NumCPFCNPJ=%{y}<extra></extra>",
           "legendgroup": "AL, Rural",
           "marker": {
            "color": "#E15F99",
            "symbol": "x"
           },
           "mode": "markers",
           "name": "AL, Rural",
           "orientation": "v",
           "showlegend": true,
           "type": "scatter",
           "x": [
            1,
            2,
            3,
            4,
            5,
            6,
            7,
            8,
            9,
            10,
            11,
            12
           ],
           "xaxis": "x",
           "y": [
            1,
            2,
            1,
            3,
            4,
            8,
            4,
            2,
            4,
            7,
            4,
            5
           ],
           "yaxis": "y"
          },
          {
           "hovertemplate": "SigUF=AL<br>DscClasseConsumo=Poder Público<br>Ano=2020<br>Mes=%{x}<br>NumCPFCNPJ=%{y}<extra></extra>",
           "legendgroup": "AL, Poder Público",
           "marker": {
            "color": "#E15F99",
            "symbol": "cross"
           },
           "mode": "markers",
           "name": "AL, Poder Público",
           "orientation": "v",
           "showlegend": true,
           "type": "scatter",
           "x": [
            1,
            2,
            3,
            4,
            6,
            7,
            9,
            10,
            11,
            12
           ],
           "xaxis": "x",
           "y": [
            4,
            1,
            2,
            2,
            1,
            2,
            2,
            2,
            2,
            9
           ],
           "yaxis": "y"
          },
          {
           "hovertemplate": "SigUF=AC<br>DscClasseConsumo=Industrial<br>Ano=2020<br>Mes=%{x}<br>NumCPFCNPJ=%{y}<extra></extra>",
           "legendgroup": "AC, Industrial",
           "marker": {
            "color": "#1CA71C",
            "symbol": "circle"
           },
           "mode": "markers",
           "name": "AC, Industrial",
           "orientation": "v",
           "showlegend": true,
           "type": "scatter",
           "x": [
            5,
            6,
            11
           ],
           "xaxis": "x",
           "y": [
            1,
            1,
            1
           ],
           "yaxis": "y"
          },
          {
           "hovertemplate": "SigUF=AC<br>DscClasseConsumo=Residencial<br>Ano=2020<br>Mes=%{x}<br>NumCPFCNPJ=%{y}<extra></extra>",
           "legendgroup": "AC, Residencial",
           "marker": {
            "color": "#1CA71C",
            "symbol": "diamond"
           },
           "mode": "markers",
           "name": "AC, Residencial",
           "orientation": "v",
           "showlegend": true,
           "type": "scatter",
           "x": [
            1,
            2,
            3,
            4,
            5,
            6,
            7,
            8,
            9,
            10,
            11,
            12
           ],
           "xaxis": "x",
           "y": [
            14,
            23,
            30,
            17,
            45,
            20,
            37,
            38,
            39,
            32,
            52,
            67
           ],
           "yaxis": "y"
          },
          {
           "hovertemplate": "SigUF=AC<br>DscClasseConsumo=Comercial<br>Ano=2020<br>Mes=%{x}<br>NumCPFCNPJ=%{y}<extra></extra>",
           "legendgroup": "AC, Comercial",
           "marker": {
            "color": "#1CA71C",
            "symbol": "square"
           },
           "mode": "markers",
           "name": "AC, Comercial",
           "orientation": "v",
           "showlegend": true,
           "type": "scatter",
           "x": [
            1,
            2,
            3,
            4,
            5,
            6,
            7,
            8,
            9,
            10,
            11,
            12
           ],
           "xaxis": "x",
           "y": [
            4,
            10,
            8,
            3,
            7,
            4,
            6,
            3,
            9,
            7,
            8,
            6
           ],
           "yaxis": "y"
          },
          {
           "hovertemplate": "SigUF=AC<br>DscClasseConsumo=Rural<br>Ano=2020<br>Mes=%{x}<br>NumCPFCNPJ=%{y}<extra></extra>",
           "legendgroup": "AC, Rural",
           "marker": {
            "color": "#1CA71C",
            "symbol": "x"
           },
           "mode": "markers",
           "name": "AC, Rural",
           "orientation": "v",
           "showlegend": true,
           "type": "scatter",
           "x": [
            1,
            3,
            4,
            5,
            6,
            7,
            8,
            9,
            10,
            11,
            12
           ],
           "xaxis": "x",
           "y": [
            2,
            2,
            3,
            1,
            1,
            1,
            1,
            2,
            2,
            2,
            1
           ],
           "yaxis": "y"
          },
          {
           "hovertemplate": "SigUF=AC<br>DscClasseConsumo=Serviço Público<br>Ano=2020<br>Mes=%{x}<br>NumCPFCNPJ=%{y}<extra></extra>",
           "legendgroup": "AC, Serviço Público",
           "marker": {
            "color": "#1CA71C",
            "symbol": "circle"
           },
           "mode": "markers",
           "name": "AC, Serviço Público",
           "orientation": "v",
           "showlegend": true,
           "type": "scatter",
           "x": [
            4
           ],
           "xaxis": "x",
           "y": [
            1
           ],
           "yaxis": "y"
          },
          {
           "hovertemplate": "SigUF=AM<br>DscClasseConsumo=Industrial<br>Ano=2020<br>Mes=%{x}<br>NumCPFCNPJ=%{y}<extra></extra>",
           "legendgroup": "AM, Industrial",
           "marker": {
            "color": "#FB0D0D",
            "symbol": "circle"
           },
           "mode": "markers",
           "name": "AM, Industrial",
           "orientation": "v",
           "showlegend": true,
           "type": "scatter",
           "x": [
            1,
            3,
            5,
            6,
            8,
            10,
            11
           ],
           "xaxis": "x",
           "y": [
            2,
            1,
            2,
            1,
            1,
            1,
            2
           ],
           "yaxis": "y"
          },
          {
           "hovertemplate": "SigUF=AM<br>DscClasseConsumo=Residencial<br>Ano=2020<br>Mes=%{x}<br>NumCPFCNPJ=%{y}<extra></extra>",
           "legendgroup": "AM, Residencial",
           "marker": {
            "color": "#FB0D0D",
            "symbol": "diamond"
           },
           "mode": "markers",
           "name": "AM, Residencial",
           "orientation": "v",
           "showlegend": true,
           "type": "scatter",
           "x": [
            1,
            2,
            3,
            4,
            5,
            6,
            7,
            8,
            9,
            10,
            11,
            12
           ],
           "xaxis": "x",
           "y": [
            66,
            58,
            60,
            45,
            42,
            46,
            51,
            58,
            72,
            65,
            77,
            100
           ],
           "yaxis": "y"
          },
          {
           "hovertemplate": "SigUF=AM<br>DscClasseConsumo=Comercial<br>Ano=2020<br>Mes=%{x}<br>NumCPFCNPJ=%{y}<extra></extra>",
           "legendgroup": "AM, Comercial",
           "marker": {
            "color": "#FB0D0D",
            "symbol": "square"
           },
           "mode": "markers",
           "name": "AM, Comercial",
           "orientation": "v",
           "showlegend": true,
           "type": "scatter",
           "x": [
            1,
            2,
            3,
            4,
            5,
            6,
            7,
            8,
            9,
            10,
            11,
            12
           ],
           "xaxis": "x",
           "y": [
            6,
            8,
            8,
            6,
            11,
            11,
            10,
            15,
            23,
            14,
            10,
            15
           ],
           "yaxis": "y"
          },
          {
           "hovertemplate": "SigUF=AM<br>DscClasseConsumo=Rural<br>Ano=2020<br>Mes=%{x}<br>NumCPFCNPJ=%{y}<extra></extra>",
           "legendgroup": "AM, Rural",
           "marker": {
            "color": "#FB0D0D",
            "symbol": "x"
           },
           "mode": "markers",
           "name": "AM, Rural",
           "orientation": "v",
           "showlegend": true,
           "type": "scatter",
           "x": [
            2,
            3,
            5,
            9
           ],
           "xaxis": "x",
           "y": [
            1,
            1,
            1,
            1
           ],
           "yaxis": "y"
          },
          {
           "hovertemplate": "SigUF=AM<br>DscClasseConsumo=Poder Público<br>Ano=2020<br>Mes=%{x}<br>NumCPFCNPJ=%{y}<extra></extra>",
           "legendgroup": "AM, Poder Público",
           "marker": {
            "color": "#FB0D0D",
            "symbol": "cross"
           },
           "mode": "markers",
           "name": "AM, Poder Público",
           "orientation": "v",
           "showlegend": true,
           "type": "scatter",
           "x": [
            6,
            11,
            12
           ],
           "xaxis": "x",
           "y": [
            1,
            2,
            1
           ],
           "yaxis": "y"
          },
          {
           "hovertemplate": "SigUF=AP<br>DscClasseConsumo=Residencial<br>Ano=2020<br>Mes=%{x}<br>NumCPFCNPJ=%{y}<extra></extra>",
           "legendgroup": "AP, Residencial",
           "marker": {
            "color": "#DA16FF",
            "symbol": "diamond"
           },
           "mode": "markers",
           "name": "AP, Residencial",
           "orientation": "v",
           "showlegend": true,
           "type": "scatter",
           "x": [
            1,
            2,
            3,
            7,
            8,
            9,
            10,
            11,
            12
           ],
           "xaxis": "x",
           "y": [
            10,
            11,
            15,
            1,
            1,
            12,
            28,
            14,
            24
           ],
           "yaxis": "y"
          },
          {
           "hovertemplate": "SigUF=AP<br>DscClasseConsumo=Comercial<br>Ano=2020<br>Mes=%{x}<br>NumCPFCNPJ=%{y}<extra></extra>",
           "legendgroup": "AP, Comercial",
           "marker": {
            "color": "#DA16FF",
            "symbol": "square"
           },
           "mode": "markers",
           "name": "AP, Comercial",
           "orientation": "v",
           "showlegend": true,
           "type": "scatter",
           "x": [
            1,
            2,
            3,
            8,
            10,
            11,
            12
           ],
           "xaxis": "x",
           "y": [
            6,
            5,
            5,
            2,
            2,
            3,
            6
           ],
           "yaxis": "y"
          },
          {
           "hovertemplate": "SigUF=AP<br>DscClasseConsumo=Poder Público<br>Ano=2020<br>Mes=%{x}<br>NumCPFCNPJ=%{y}<extra></extra>",
           "legendgroup": "AP, Poder Público",
           "marker": {
            "color": "#DA16FF",
            "symbol": "cross"
           },
           "mode": "markers",
           "name": "AP, Poder Público",
           "orientation": "v",
           "showlegend": true,
           "type": "scatter",
           "x": [
            1
           ],
           "xaxis": "x",
           "y": [
            2
           ],
           "yaxis": "y"
          }
         ],
         "name": "2020"
        },
        {
         "data": [
          {
           "hovertemplate": "SigUF=BA<br>DscClasseConsumo=Industrial<br>Ano=2021<br>Mes=%{x}<br>NumCPFCNPJ=%{y}<extra></extra>",
           "legendgroup": "BA, Industrial",
           "marker": {
            "color": "#2E91E5",
            "symbol": "circle"
           },
           "mode": "markers",
           "name": "BA, Industrial",
           "orientation": "v",
           "showlegend": true,
           "type": "scatter",
           "x": [
            2
           ],
           "xaxis": "x",
           "y": [
            1
           ],
           "yaxis": "y"
          },
          {
           "hovertemplate": "SigUF=BA<br>DscClasseConsumo=Residencial<br>Ano=2021<br>Mes=%{x}<br>NumCPFCNPJ=%{y}<extra></extra>",
           "legendgroup": "BA, Residencial",
           "marker": {
            "color": "#2E91E5",
            "symbol": "diamond"
           },
           "mode": "markers",
           "name": "BA, Residencial",
           "orientation": "v",
           "showlegend": true,
           "type": "scatter",
           "x": [
            7,
            9
           ],
           "xaxis": "x",
           "y": [
            1,
            1
           ],
           "yaxis": "y"
          },
          {
           "hovertemplate": "SigUF=BA<br>DscClasseConsumo=Comercial<br>Ano=2021<br>Mes=%{x}<br>NumCPFCNPJ=%{y}<extra></extra>",
           "legendgroup": "BA, Comercial",
           "marker": {
            "color": "#2E91E5",
            "symbol": "square"
           },
           "mode": "markers",
           "name": "BA, Comercial",
           "orientation": "v",
           "showlegend": true,
           "type": "scatter",
           "x": [
            6
           ],
           "xaxis": "x",
           "y": [
            1
           ],
           "yaxis": "y"
          },
          {
           "hovertemplate": "SigUF=AL<br>DscClasseConsumo=Industrial<br>Ano=2021<br>Mes=%{x}<br>NumCPFCNPJ=%{y}<extra></extra>",
           "legendgroup": "AL, Industrial",
           "marker": {
            "color": "#E15F99",
            "symbol": "circle"
           },
           "mode": "markers",
           "name": "AL, Industrial",
           "orientation": "v",
           "showlegend": true,
           "type": "scatter",
           "x": [
            1,
            4,
            5,
            6,
            7,
            8,
            9,
            10,
            11,
            12
           ],
           "xaxis": "x",
           "y": [
            3,
            1,
            4,
            2,
            5,
            1,
            5,
            1,
            1,
            1
           ],
           "yaxis": "y"
          },
          {
           "hovertemplate": "SigUF=AL<br>DscClasseConsumo=Residencial<br>Ano=2021<br>Mes=%{x}<br>NumCPFCNPJ=%{y}<extra></extra>",
           "legendgroup": "AL, Residencial",
           "marker": {
            "color": "#E15F99",
            "symbol": "diamond"
           },
           "mode": "markers",
           "name": "AL, Residencial",
           "orientation": "v",
           "showlegend": true,
           "type": "scatter",
           "x": [
            1,
            2,
            3,
            4,
            5,
            6,
            7,
            8,
            9,
            10,
            11,
            12
           ],
           "xaxis": "x",
           "y": [
            98,
            112,
            191,
            178,
            202,
            211,
            326,
            235,
            343,
            260,
            239,
            425
           ],
           "yaxis": "y"
          },
          {
           "hovertemplate": "SigUF=AL<br>DscClasseConsumo=Comercial<br>Ano=2021<br>Mes=%{x}<br>NumCPFCNPJ=%{y}<extra></extra>",
           "legendgroup": "AL, Comercial",
           "marker": {
            "color": "#E15F99",
            "symbol": "square"
           },
           "mode": "markers",
           "name": "AL, Comercial",
           "orientation": "v",
           "showlegend": true,
           "type": "scatter",
           "x": [
            1,
            2,
            3,
            4,
            5,
            6,
            7,
            8,
            9,
            10,
            11,
            12
           ],
           "xaxis": "x",
           "y": [
            37,
            29,
            53,
            54,
            42,
            40,
            67,
            57,
            69,
            46,
            49,
            97
           ],
           "yaxis": "y"
          },
          {
           "hovertemplate": "SigUF=AL<br>DscClasseConsumo=Rural<br>Ano=2021<br>Mes=%{x}<br>NumCPFCNPJ=%{y}<extra></extra>",
           "legendgroup": "AL, Rural",
           "marker": {
            "color": "#E15F99",
            "symbol": "x"
           },
           "mode": "markers",
           "name": "AL, Rural",
           "orientation": "v",
           "showlegend": true,
           "type": "scatter",
           "x": [
            1,
            2,
            3,
            4,
            5,
            6,
            7,
            8,
            9,
            10,
            11,
            12
           ],
           "xaxis": "x",
           "y": [
            4,
            3,
            9,
            1,
            3,
            5,
            6,
            6,
            7,
            12,
            6,
            8
           ],
           "yaxis": "y"
          },
          {
           "hovertemplate": "SigUF=AL<br>DscClasseConsumo=Poder Público<br>Ano=2021<br>Mes=%{x}<br>NumCPFCNPJ=%{y}<extra></extra>",
           "legendgroup": "AL, Poder Público",
           "marker": {
            "color": "#E15F99",
            "symbol": "cross"
           },
           "mode": "markers",
           "name": "AL, Poder Público",
           "orientation": "v",
           "showlegend": true,
           "type": "scatter",
           "x": [
            1,
            2,
            8,
            9,
            10,
            11,
            12
           ],
           "xaxis": "x",
           "y": [
            4,
            4,
            3,
            2,
            3,
            1,
            1
           ],
           "yaxis": "y"
          },
          {
           "hovertemplate": "SigUF=AL<br>DscClasseConsumo=Serviço Público<br>Ano=2021<br>Mes=%{x}<br>NumCPFCNPJ=%{y}<extra></extra>",
           "legendgroup": "AL, Serviço Público",
           "marker": {
            "color": "#E15F99",
            "symbol": "circle"
           },
           "mode": "markers",
           "name": "AL, Serviço Público",
           "orientation": "v",
           "showlegend": true,
           "type": "scatter",
           "x": [
            3,
            6
           ],
           "xaxis": "x",
           "y": [
            1,
            1
           ],
           "yaxis": "y"
          },
          {
           "hovertemplate": "SigUF=AC<br>DscClasseConsumo=Industrial<br>Ano=2021<br>Mes=%{x}<br>NumCPFCNPJ=%{y}<extra></extra>",
           "legendgroup": "AC, Industrial",
           "marker": {
            "color": "#1CA71C",
            "symbol": "circle"
           },
           "mode": "markers",
           "name": "AC, Industrial",
           "orientation": "v",
           "showlegend": true,
           "type": "scatter",
           "x": [
            5,
            6,
            8,
            9
           ],
           "xaxis": "x",
           "y": [
            1,
            1,
            2,
            1
           ],
           "yaxis": "y"
          },
          {
           "hovertemplate": "SigUF=AC<br>DscClasseConsumo=Residencial<br>Ano=2021<br>Mes=%{x}<br>NumCPFCNPJ=%{y}<extra></extra>",
           "legendgroup": "AC, Residencial",
           "marker": {
            "color": "#1CA71C",
            "symbol": "diamond"
           },
           "mode": "markers",
           "name": "AC, Residencial",
           "orientation": "v",
           "showlegend": true,
           "type": "scatter",
           "x": [
            1,
            2,
            3,
            4,
            5,
            6,
            7,
            8,
            9,
            10,
            11,
            12
           ],
           "xaxis": "x",
           "y": [
            49,
            48,
            51,
            121,
            80,
            96,
            101,
            92,
            96,
            100,
            157,
            164
           ],
           "yaxis": "y"
          },
          {
           "hovertemplate": "SigUF=AC<br>DscClasseConsumo=Comercial<br>Ano=2021<br>Mes=%{x}<br>NumCPFCNPJ=%{y}<extra></extra>",
           "legendgroup": "AC, Comercial",
           "marker": {
            "color": "#1CA71C",
            "symbol": "square"
           },
           "mode": "markers",
           "name": "AC, Comercial",
           "orientation": "v",
           "showlegend": true,
           "type": "scatter",
           "x": [
            1,
            2,
            3,
            4,
            5,
            6,
            7,
            8,
            9,
            10,
            11,
            12
           ],
           "xaxis": "x",
           "y": [
            8,
            11,
            7,
            15,
            15,
            11,
            19,
            14,
            26,
            19,
            28,
            23
           ],
           "yaxis": "y"
          },
          {
           "hovertemplate": "SigUF=AC<br>DscClasseConsumo=Rural<br>Ano=2021<br>Mes=%{x}<br>NumCPFCNPJ=%{y}<extra></extra>",
           "legendgroup": "AC, Rural",
           "marker": {
            "color": "#1CA71C",
            "symbol": "x"
           },
           "mode": "markers",
           "name": "AC, Rural",
           "orientation": "v",
           "showlegend": true,
           "type": "scatter",
           "x": [
            1,
            2,
            3,
            4,
            5,
            6,
            7,
            8,
            9,
            10,
            11,
            12
           ],
           "xaxis": "x",
           "y": [
            1,
            4,
            2,
            6,
            8,
            11,
            2,
            6,
            1,
            11,
            4,
            8
           ],
           "yaxis": "y"
          },
          {
           "hovertemplate": "SigUF=AC<br>DscClasseConsumo=Poder Público<br>Ano=2021<br>Mes=%{x}<br>NumCPFCNPJ=%{y}<extra></extra>",
           "legendgroup": "AC, Poder Público",
           "marker": {
            "color": "#1CA71C",
            "symbol": "cross"
           },
           "mode": "markers",
           "name": "AC, Poder Público",
           "orientation": "v",
           "showlegend": true,
           "type": "scatter",
           "x": [
            2,
            4,
            10
           ],
           "xaxis": "x",
           "y": [
            2,
            2,
            1
           ],
           "yaxis": "y"
          },
          {
           "hovertemplate": "SigUF=AM<br>DscClasseConsumo=Industrial<br>Ano=2021<br>Mes=%{x}<br>NumCPFCNPJ=%{y}<extra></extra>",
           "legendgroup": "AM, Industrial",
           "marker": {
            "color": "#FB0D0D",
            "symbol": "circle"
           },
           "mode": "markers",
           "name": "AM, Industrial",
           "orientation": "v",
           "showlegend": true,
           "type": "scatter",
           "x": [
            2,
            3,
            4,
            5,
            6,
            7,
            9,
            10,
            12
           ],
           "xaxis": "x",
           "y": [
            2,
            1,
            2,
            3,
            2,
            1,
            3,
            4,
            2
           ],
           "yaxis": "y"
          },
          {
           "hovertemplate": "SigUF=AM<br>DscClasseConsumo=Residencial<br>Ano=2021<br>Mes=%{x}<br>NumCPFCNPJ=%{y}<extra></extra>",
           "legendgroup": "AM, Residencial",
           "marker": {
            "color": "#FB0D0D",
            "symbol": "diamond"
           },
           "mode": "markers",
           "name": "AM, Residencial",
           "orientation": "v",
           "showlegend": true,
           "type": "scatter",
           "x": [
            1,
            2,
            3,
            4,
            5,
            6,
            7,
            8,
            9,
            10,
            11,
            12
           ],
           "xaxis": "x",
           "y": [
            72,
            72,
            91,
            96,
            83,
            93,
            75,
            115,
            134,
            128,
            149,
            178
           ],
           "yaxis": "y"
          },
          {
           "hovertemplate": "SigUF=AM<br>DscClasseConsumo=Comercial<br>Ano=2021<br>Mes=%{x}<br>NumCPFCNPJ=%{y}<extra></extra>",
           "legendgroup": "AM, Comercial",
           "marker": {
            "color": "#FB0D0D",
            "symbol": "square"
           },
           "mode": "markers",
           "name": "AM, Comercial",
           "orientation": "v",
           "showlegend": true,
           "type": "scatter",
           "x": [
            1,
            2,
            3,
            4,
            5,
            6,
            7,
            8,
            9,
            10,
            11,
            12
           ],
           "xaxis": "x",
           "y": [
            17,
            12,
            20,
            15,
            22,
            25,
            28,
            34,
            26,
            22,
            22,
            34
           ],
           "yaxis": "y"
          },
          {
           "hovertemplate": "SigUF=AM<br>DscClasseConsumo=Rural<br>Ano=2021<br>Mes=%{x}<br>NumCPFCNPJ=%{y}<extra></extra>",
           "legendgroup": "AM, Rural",
           "marker": {
            "color": "#FB0D0D",
            "symbol": "x"
           },
           "mode": "markers",
           "name": "AM, Rural",
           "orientation": "v",
           "showlegend": true,
           "type": "scatter",
           "x": [
            1,
            4,
            5,
            6,
            7,
            10,
            11,
            12
           ],
           "xaxis": "x",
           "y": [
            1,
            2,
            3,
            2,
            1,
            3,
            1,
            1
           ],
           "yaxis": "y"
          },
          {
           "hovertemplate": "SigUF=AM<br>DscClasseConsumo=Poder Público<br>Ano=2021<br>Mes=%{x}<br>NumCPFCNPJ=%{y}<extra></extra>",
           "legendgroup": "AM, Poder Público",
           "marker": {
            "color": "#FB0D0D",
            "symbol": "cross"
           },
           "mode": "markers",
           "name": "AM, Poder Público",
           "orientation": "v",
           "showlegend": true,
           "type": "scatter",
           "x": [
            1,
            4,
            5,
            11
           ],
           "xaxis": "x",
           "y": [
            1,
            1,
            1,
            2
           ],
           "yaxis": "y"
          },
          {
           "hovertemplate": "SigUF=AP<br>DscClasseConsumo=Industrial<br>Ano=2021<br>Mes=%{x}<br>NumCPFCNPJ=%{y}<extra></extra>",
           "legendgroup": "AP, Industrial",
           "marker": {
            "color": "#DA16FF",
            "symbol": "circle"
           },
           "mode": "markers",
           "name": "AP, Industrial",
           "orientation": "v",
           "showlegend": true,
           "type": "scatter",
           "x": [
            2,
            12
           ],
           "xaxis": "x",
           "y": [
            1,
            1
           ],
           "yaxis": "y"
          },
          {
           "hovertemplate": "SigUF=AP<br>DscClasseConsumo=Residencial<br>Ano=2021<br>Mes=%{x}<br>NumCPFCNPJ=%{y}<extra></extra>",
           "legendgroup": "AP, Residencial",
           "marker": {
            "color": "#DA16FF",
            "symbol": "diamond"
           },
           "mode": "markers",
           "name": "AP, Residencial",
           "orientation": "v",
           "showlegend": true,
           "type": "scatter",
           "x": [
            1,
            2,
            3,
            4,
            5,
            6,
            7,
            8,
            9,
            10,
            11,
            12
           ],
           "xaxis": "x",
           "y": [
            19,
            20,
            23,
            23,
            23,
            24,
            30,
            43,
            38,
            54,
            82,
            41
           ],
           "yaxis": "y"
          },
          {
           "hovertemplate": "SigUF=AP<br>DscClasseConsumo=Comercial<br>Ano=2021<br>Mes=%{x}<br>NumCPFCNPJ=%{y}<extra></extra>",
           "legendgroup": "AP, Comercial",
           "marker": {
            "color": "#DA16FF",
            "symbol": "square"
           },
           "mode": "markers",
           "name": "AP, Comercial",
           "orientation": "v",
           "showlegend": true,
           "type": "scatter",
           "x": [
            1,
            2,
            3,
            4,
            5,
            6,
            7,
            8,
            9,
            10,
            11,
            12
           ],
           "xaxis": "x",
           "y": [
            5,
            1,
            2,
            9,
            12,
            9,
            4,
            6,
            3,
            7,
            8,
            8
           ],
           "yaxis": "y"
          },
          {
           "hovertemplate": "SigUF=AP<br>DscClasseConsumo=Rural<br>Ano=2021<br>Mes=%{x}<br>NumCPFCNPJ=%{y}<extra></extra>",
           "legendgroup": "AP, Rural",
           "marker": {
            "color": "#DA16FF",
            "symbol": "x"
           },
           "mode": "markers",
           "name": "AP, Rural",
           "orientation": "v",
           "showlegend": true,
           "type": "scatter",
           "x": [
            11
           ],
           "xaxis": "x",
           "y": [
            1
           ],
           "yaxis": "y"
          },
          {
           "hovertemplate": "SigUF=AP<br>DscClasseConsumo=Poder Público<br>Ano=2021<br>Mes=%{x}<br>NumCPFCNPJ=%{y}<extra></extra>",
           "legendgroup": "AP, Poder Público",
           "marker": {
            "color": "#DA16FF",
            "symbol": "cross"
           },
           "mode": "markers",
           "name": "AP, Poder Público",
           "orientation": "v",
           "showlegend": true,
           "type": "scatter",
           "x": [
            7,
            8,
            11
           ],
           "xaxis": "x",
           "y": [
            1,
            1,
            1
           ],
           "yaxis": "y"
          }
         ],
         "name": "2021"
        },
        {
         "data": [
          {
           "hovertemplate": "SigUF=BA<br>DscClasseConsumo=Residencial<br>Ano=2022<br>Mes=%{x}<br>NumCPFCNPJ=%{y}<extra></extra>",
           "legendgroup": "BA, Residencial",
           "marker": {
            "color": "#2E91E5",
            "symbol": "diamond"
           },
           "mode": "markers",
           "name": "BA, Residencial",
           "orientation": "v",
           "showlegend": true,
           "type": "scatter",
           "x": [
            3,
            8,
            9,
            12
           ],
           "xaxis": "x",
           "y": [
            3,
            2,
            1,
            1
           ],
           "yaxis": "y"
          },
          {
           "hovertemplate": "SigUF=BA<br>DscClasseConsumo=Comercial<br>Ano=2022<br>Mes=%{x}<br>NumCPFCNPJ=%{y}<extra></extra>",
           "legendgroup": "BA, Comercial",
           "marker": {
            "color": "#2E91E5",
            "symbol": "square"
           },
           "mode": "markers",
           "name": "BA, Comercial",
           "orientation": "v",
           "showlegend": true,
           "type": "scatter",
           "x": [
            8,
            10
           ],
           "xaxis": "x",
           "y": [
            1,
            1
           ],
           "yaxis": "y"
          },
          {
           "hovertemplate": "SigUF=BA<br>DscClasseConsumo=Rural<br>Ano=2022<br>Mes=%{x}<br>NumCPFCNPJ=%{y}<extra></extra>",
           "legendgroup": "BA, Rural",
           "marker": {
            "color": "#2E91E5",
            "symbol": "x"
           },
           "mode": "markers",
           "name": "BA, Rural",
           "orientation": "v",
           "showlegend": true,
           "type": "scatter",
           "x": [
            10
           ],
           "xaxis": "x",
           "y": [
            1
           ],
           "yaxis": "y"
          },
          {
           "hovertemplate": "SigUF=BA<br>DscClasseConsumo=Serviço Público<br>Ano=2022<br>Mes=%{x}<br>NumCPFCNPJ=%{y}<extra></extra>",
           "legendgroup": "BA, Serviço Público",
           "marker": {
            "color": "#2E91E5",
            "symbol": "circle"
           },
           "mode": "markers",
           "name": "BA, Serviço Público",
           "orientation": "v",
           "showlegend": true,
           "type": "scatter",
           "x": [
            4
           ],
           "xaxis": "x",
           "y": [
            2
           ],
           "yaxis": "y"
          },
          {
           "hovertemplate": "SigUF=AL<br>DscClasseConsumo=Industrial<br>Ano=2022<br>Mes=%{x}<br>NumCPFCNPJ=%{y}<extra></extra>",
           "legendgroup": "AL, Industrial",
           "marker": {
            "color": "#E15F99",
            "symbol": "circle"
           },
           "mode": "markers",
           "name": "AL, Industrial",
           "orientation": "v",
           "showlegend": true,
           "type": "scatter",
           "x": [
            2,
            3,
            4,
            5,
            6,
            7,
            8,
            9,
            10,
            11,
            12
           ],
           "xaxis": "x",
           "y": [
            3,
            9,
            6,
            7,
            2,
            4,
            3,
            3,
            9,
            7,
            3
           ],
           "yaxis": "y"
          },
          {
           "hovertemplate": "SigUF=AL<br>DscClasseConsumo=Residencial<br>Ano=2022<br>Mes=%{x}<br>NumCPFCNPJ=%{y}<extra></extra>",
           "legendgroup": "AL, Residencial",
           "marker": {
            "color": "#E15F99",
            "symbol": "diamond"
           },
           "mode": "markers",
           "name": "AL, Residencial",
           "orientation": "v",
           "showlegend": true,
           "type": "scatter",
           "x": [
            1,
            2,
            3,
            4,
            5,
            6,
            7,
            8,
            9,
            10,
            11,
            12
           ],
           "xaxis": "x",
           "y": [
            438,
            414,
            589,
            558,
            618,
            588,
            560,
            780,
            516,
            571,
            674,
            851
           ],
           "yaxis": "y"
          },
          {
           "hovertemplate": "SigUF=AL<br>DscClasseConsumo=Comercial<br>Ano=2022<br>Mes=%{x}<br>NumCPFCNPJ=%{y}<extra></extra>",
           "legendgroup": "AL, Comercial",
           "marker": {
            "color": "#E15F99",
            "symbol": "square"
           },
           "mode": "markers",
           "name": "AL, Comercial",
           "orientation": "v",
           "showlegend": true,
           "type": "scatter",
           "x": [
            1,
            2,
            3,
            4,
            5,
            6,
            7,
            8,
            9,
            10,
            11,
            12
           ],
           "xaxis": "x",
           "y": [
            79,
            58,
            82,
            85,
            88,
            60,
            64,
            101,
            107,
            107,
            100,
            111
           ],
           "yaxis": "y"
          },
          {
           "hovertemplate": "SigUF=AL<br>DscClasseConsumo=Rural<br>Ano=2022<br>Mes=%{x}<br>NumCPFCNPJ=%{y}<extra></extra>",
           "legendgroup": "AL, Rural",
           "marker": {
            "color": "#E15F99",
            "symbol": "x"
           },
           "mode": "markers",
           "name": "AL, Rural",
           "orientation": "v",
           "showlegend": true,
           "type": "scatter",
           "x": [
            1,
            2,
            3,
            4,
            5,
            6,
            7,
            8,
            9,
            10,
            11,
            12
           ],
           "xaxis": "x",
           "y": [
            5,
            16,
            9,
            17,
            15,
            9,
            12,
            15,
            16,
            14,
            19,
            26
           ],
           "yaxis": "y"
          },
          {
           "hovertemplate": "SigUF=AL<br>DscClasseConsumo=Poder Público<br>Ano=2022<br>Mes=%{x}<br>NumCPFCNPJ=%{y}<extra></extra>",
           "legendgroup": "AL, Poder Público",
           "marker": {
            "color": "#E15F99",
            "symbol": "cross"
           },
           "mode": "markers",
           "name": "AL, Poder Público",
           "orientation": "v",
           "showlegend": true,
           "type": "scatter",
           "x": [
            1,
            4,
            5,
            7,
            8,
            9,
            11,
            12
           ],
           "xaxis": "x",
           "y": [
            1,
            1,
            1,
            2,
            3,
            2,
            1,
            3
           ],
           "yaxis": "y"
          },
          {
           "hovertemplate": "SigUF=AC<br>DscClasseConsumo=Industrial<br>Ano=2022<br>Mes=%{x}<br>NumCPFCNPJ=%{y}<extra></extra>",
           "legendgroup": "AC, Industrial",
           "marker": {
            "color": "#1CA71C",
            "symbol": "circle"
           },
           "mode": "markers",
           "name": "AC, Industrial",
           "orientation": "v",
           "showlegend": true,
           "type": "scatter",
           "x": [
            1,
            3,
            4,
            11,
            12
           ],
           "xaxis": "x",
           "y": [
            1,
            1,
            1,
            2,
            1
           ],
           "yaxis": "y"
          },
          {
           "hovertemplate": "SigUF=AC<br>DscClasseConsumo=Residencial<br>Ano=2022<br>Mes=%{x}<br>NumCPFCNPJ=%{y}<extra></extra>",
           "legendgroup": "AC, Residencial",
           "marker": {
            "color": "#1CA71C",
            "symbol": "diamond"
           },
           "mode": "markers",
           "name": "AC, Residencial",
           "orientation": "v",
           "showlegend": true,
           "type": "scatter",
           "x": [
            1,
            2,
            3,
            4,
            5,
            6,
            7,
            8,
            9,
            10,
            11,
            12
           ],
           "xaxis": "x",
           "y": [
            188,
            174,
            190,
            156,
            113,
            148,
            102,
            109,
            67,
            86,
            95,
            83
           ],
           "yaxis": "y"
          },
          {
           "hovertemplate": "SigUF=AC<br>DscClasseConsumo=Comercial<br>Ano=2022<br>Mes=%{x}<br>NumCPFCNPJ=%{y}<extra></extra>",
           "legendgroup": "AC, Comercial",
           "marker": {
            "color": "#1CA71C",
            "symbol": "square"
           },
           "mode": "markers",
           "name": "AC, Comercial",
           "orientation": "v",
           "showlegend": true,
           "type": "scatter",
           "x": [
            1,
            2,
            3,
            4,
            5,
            6,
            7,
            8,
            9,
            10,
            11,
            12
           ],
           "xaxis": "x",
           "y": [
            20,
            18,
            22,
            16,
            15,
            13,
            23,
            17,
            9,
            12,
            10,
            16
           ],
           "yaxis": "y"
          },
          {
           "hovertemplate": "SigUF=AC<br>DscClasseConsumo=Rural<br>Ano=2022<br>Mes=%{x}<br>NumCPFCNPJ=%{y}<extra></extra>",
           "legendgroup": "AC, Rural",
           "marker": {
            "color": "#1CA71C",
            "symbol": "x"
           },
           "mode": "markers",
           "name": "AC, Rural",
           "orientation": "v",
           "showlegend": true,
           "type": "scatter",
           "x": [
            1,
            2,
            3,
            4,
            5,
            6,
            7,
            8,
            9,
            10,
            11,
            12
           ],
           "xaxis": "x",
           "y": [
            12,
            6,
            9,
            9,
            15,
            8,
            9,
            12,
            5,
            4,
            5,
            5
           ],
           "yaxis": "y"
          },
          {
           "hovertemplate": "SigUF=AC<br>DscClasseConsumo=Poder Público<br>Ano=2022<br>Mes=%{x}<br>NumCPFCNPJ=%{y}<extra></extra>",
           "legendgroup": "AC, Poder Público",
           "marker": {
            "color": "#1CA71C",
            "symbol": "cross"
           },
           "mode": "markers",
           "name": "AC, Poder Público",
           "orientation": "v",
           "showlegend": true,
           "type": "scatter",
           "x": [
            4,
            6,
            8,
            10
           ],
           "xaxis": "x",
           "y": [
            1,
            1,
            1,
            1
           ],
           "yaxis": "y"
          },
          {
           "hovertemplate": "SigUF=AM<br>DscClasseConsumo=Industrial<br>Ano=2022<br>Mes=%{x}<br>NumCPFCNPJ=%{y}<extra></extra>",
           "legendgroup": "AM, Industrial",
           "marker": {
            "color": "#FB0D0D",
            "symbol": "circle"
           },
           "mode": "markers",
           "name": "AM, Industrial",
           "orientation": "v",
           "showlegend": true,
           "type": "scatter",
           "x": [
            1,
            2,
            3,
            5,
            6,
            8,
            9,
            10,
            11,
            12
           ],
           "xaxis": "x",
           "y": [
            2,
            1,
            4,
            3,
            2,
            5,
            3,
            3,
            2,
            2
           ],
           "yaxis": "y"
          },
          {
           "hovertemplate": "SigUF=AM<br>DscClasseConsumo=Residencial<br>Ano=2022<br>Mes=%{x}<br>NumCPFCNPJ=%{y}<extra></extra>",
           "legendgroup": "AM, Residencial",
           "marker": {
            "color": "#FB0D0D",
            "symbol": "diamond"
           },
           "mode": "markers",
           "name": "AM, Residencial",
           "orientation": "v",
           "showlegend": true,
           "type": "scatter",
           "x": [
            1,
            2,
            3,
            4,
            5,
            6,
            7,
            8,
            9,
            10,
            11,
            12
           ],
           "xaxis": "x",
           "y": [
            181,
            157,
            202,
            164,
            151,
            192,
            241,
            209,
            236,
            175,
            270,
            285
           ],
           "yaxis": "y"
          },
          {
           "hovertemplate": "SigUF=AM<br>DscClasseConsumo=Comercial<br>Ano=2022<br>Mes=%{x}<br>NumCPFCNPJ=%{y}<extra></extra>",
           "legendgroup": "AM, Comercial",
           "marker": {
            "color": "#FB0D0D",
            "symbol": "square"
           },
           "mode": "markers",
           "name": "AM, Comercial",
           "orientation": "v",
           "showlegend": true,
           "type": "scatter",
           "x": [
            1,
            2,
            3,
            4,
            5,
            6,
            7,
            8,
            9,
            10,
            11,
            12
           ],
           "xaxis": "x",
           "y": [
            33,
            35,
            29,
            44,
            36,
            34,
            39,
            42,
            38,
            22,
            40,
            40
           ],
           "yaxis": "y"
          },
          {
           "hovertemplate": "SigUF=AM<br>DscClasseConsumo=Rural<br>Ano=2022<br>Mes=%{x}<br>NumCPFCNPJ=%{y}<extra></extra>",
           "legendgroup": "AM, Rural",
           "marker": {
            "color": "#FB0D0D",
            "symbol": "x"
           },
           "mode": "markers",
           "name": "AM, Rural",
           "orientation": "v",
           "showlegend": true,
           "type": "scatter",
           "x": [
            3,
            4,
            6,
            7,
            8,
            9,
            10,
            12
           ],
           "xaxis": "x",
           "y": [
            1,
            2,
            1,
            2,
            2,
            3,
            3,
            1
           ],
           "yaxis": "y"
          },
          {
           "hovertemplate": "SigUF=AM<br>DscClasseConsumo=Poder Público<br>Ano=2022<br>Mes=%{x}<br>NumCPFCNPJ=%{y}<extra></extra>",
           "legendgroup": "AM, Poder Público",
           "marker": {
            "color": "#FB0D0D",
            "symbol": "cross"
           },
           "mode": "markers",
           "name": "AM, Poder Público",
           "orientation": "v",
           "showlegend": true,
           "type": "scatter",
           "x": [
            1,
            8,
            9,
            11
           ],
           "xaxis": "x",
           "y": [
            1,
            1,
            1,
            1
           ],
           "yaxis": "y"
          },
          {
           "hovertemplate": "SigUF=AP<br>DscClasseConsumo=Industrial<br>Ano=2022<br>Mes=%{x}<br>NumCPFCNPJ=%{y}<extra></extra>",
           "legendgroup": "AP, Industrial",
           "marker": {
            "color": "#DA16FF",
            "symbol": "circle"
           },
           "mode": "markers",
           "name": "AP, Industrial",
           "orientation": "v",
           "showlegend": true,
           "type": "scatter",
           "x": [
            7
           ],
           "xaxis": "x",
           "y": [
            1
           ],
           "yaxis": "y"
          },
          {
           "hovertemplate": "SigUF=AP<br>DscClasseConsumo=Residencial<br>Ano=2022<br>Mes=%{x}<br>NumCPFCNPJ=%{y}<extra></extra>",
           "legendgroup": "AP, Residencial",
           "marker": {
            "color": "#DA16FF",
            "symbol": "diamond"
           },
           "mode": "markers",
           "name": "AP, Residencial",
           "orientation": "v",
           "showlegend": true,
           "type": "scatter",
           "x": [
            1,
            2,
            3,
            4,
            5,
            6,
            7,
            8,
            9,
            10,
            11,
            12
           ],
           "xaxis": "x",
           "y": [
            46,
            82,
            103,
            40,
            44,
            47,
            57,
            60,
            63,
            69,
            95,
            142
           ],
           "yaxis": "y"
          },
          {
           "hovertemplate": "SigUF=AP<br>DscClasseConsumo=Comercial<br>Ano=2022<br>Mes=%{x}<br>NumCPFCNPJ=%{y}<extra></extra>",
           "legendgroup": "AP, Comercial",
           "marker": {
            "color": "#DA16FF",
            "symbol": "square"
           },
           "mode": "markers",
           "name": "AP, Comercial",
           "orientation": "v",
           "showlegend": true,
           "type": "scatter",
           "x": [
            1,
            2,
            3,
            4,
            5,
            6,
            7,
            8,
            9,
            10,
            11,
            12
           ],
           "xaxis": "x",
           "y": [
            6,
            6,
            11,
            6,
            3,
            2,
            11,
            4,
            3,
            3,
            8,
            2
           ],
           "yaxis": "y"
          },
          {
           "hovertemplate": "SigUF=AP<br>DscClasseConsumo=Rural<br>Ano=2022<br>Mes=%{x}<br>NumCPFCNPJ=%{y}<extra></extra>",
           "legendgroup": "AP, Rural",
           "marker": {
            "color": "#DA16FF",
            "symbol": "x"
           },
           "mode": "markers",
           "name": "AP, Rural",
           "orientation": "v",
           "showlegend": true,
           "type": "scatter",
           "x": [
            6
           ],
           "xaxis": "x",
           "y": [
            1
           ],
           "yaxis": "y"
          },
          {
           "hovertemplate": "SigUF=AP<br>DscClasseConsumo=Poder Público<br>Ano=2022<br>Mes=%{x}<br>NumCPFCNPJ=%{y}<extra></extra>",
           "legendgroup": "AP, Poder Público",
           "marker": {
            "color": "#DA16FF",
            "symbol": "cross"
           },
           "mode": "markers",
           "name": "AP, Poder Público",
           "orientation": "v",
           "showlegend": true,
           "type": "scatter",
           "x": [
            2,
            4,
            6,
            7
           ],
           "xaxis": "x",
           "y": [
            1,
            1,
            2,
            1
           ],
           "yaxis": "y"
          }
         ],
         "name": "2022"
        },
        {
         "data": [
          {
           "hovertemplate": "SigUF=BA<br>DscClasseConsumo=Industrial<br>Ano=2023<br>Mes=%{x}<br>NumCPFCNPJ=%{y}<extra></extra>",
           "legendgroup": "BA, Industrial",
           "marker": {
            "color": "#2E91E5",
            "symbol": "circle"
           },
           "mode": "markers",
           "name": "BA, Industrial",
           "orientation": "v",
           "showlegend": true,
           "type": "scatter",
           "x": [
            1
           ],
           "xaxis": "x",
           "y": [
            1
           ],
           "yaxis": "y"
          },
          {
           "hovertemplate": "SigUF=BA<br>DscClasseConsumo=Residencial<br>Ano=2023<br>Mes=%{x}<br>NumCPFCNPJ=%{y}<extra></extra>",
           "legendgroup": "BA, Residencial",
           "marker": {
            "color": "#2E91E5",
            "symbol": "diamond"
           },
           "mode": "markers",
           "name": "BA, Residencial",
           "orientation": "v",
           "showlegend": true,
           "type": "scatter",
           "x": [
            1
           ],
           "xaxis": "x",
           "y": [
            2
           ],
           "yaxis": "y"
          },
          {
           "hovertemplate": "SigUF=AL<br>DscClasseConsumo=Industrial<br>Ano=2023<br>Mes=%{x}<br>NumCPFCNPJ=%{y}<extra></extra>",
           "legendgroup": "AL, Industrial",
           "marker": {
            "color": "#E15F99",
            "symbol": "circle"
           },
           "mode": "markers",
           "name": "AL, Industrial",
           "orientation": "v",
           "showlegend": true,
           "type": "scatter",
           "x": [
            1,
            2,
            3
           ],
           "xaxis": "x",
           "y": [
            4,
            4,
            5
           ],
           "yaxis": "y"
          },
          {
           "hovertemplate": "SigUF=AL<br>DscClasseConsumo=Residencial<br>Ano=2023<br>Mes=%{x}<br>NumCPFCNPJ=%{y}<extra></extra>",
           "legendgroup": "AL, Residencial",
           "marker": {
            "color": "#E15F99",
            "symbol": "diamond"
           },
           "mode": "markers",
           "name": "AL, Residencial",
           "orientation": "v",
           "showlegend": true,
           "type": "scatter",
           "x": [
            1,
            2,
            3
           ],
           "xaxis": "x",
           "y": [
            1106,
            1251,
            428
           ],
           "yaxis": "y"
          },
          {
           "hovertemplate": "SigUF=AL<br>DscClasseConsumo=Comercial<br>Ano=2023<br>Mes=%{x}<br>NumCPFCNPJ=%{y}<extra></extra>",
           "legendgroup": "AL, Comercial",
           "marker": {
            "color": "#E15F99",
            "symbol": "square"
           },
           "mode": "markers",
           "name": "AL, Comercial",
           "orientation": "v",
           "showlegend": true,
           "type": "scatter",
           "x": [
            1,
            2,
            3
           ],
           "xaxis": "x",
           "y": [
            128,
            135,
            52
           ],
           "yaxis": "y"
          },
          {
           "hovertemplate": "SigUF=AL<br>DscClasseConsumo=Rural<br>Ano=2023<br>Mes=%{x}<br>NumCPFCNPJ=%{y}<extra></extra>",
           "legendgroup": "AL, Rural",
           "marker": {
            "color": "#E15F99",
            "symbol": "x"
           },
           "mode": "markers",
           "name": "AL, Rural",
           "orientation": "v",
           "showlegend": true,
           "type": "scatter",
           "x": [
            1,
            2,
            3
           ],
           "xaxis": "x",
           "y": [
            43,
            36,
            13
           ],
           "yaxis": "y"
          },
          {
           "hovertemplate": "SigUF=AL<br>DscClasseConsumo=Poder Público<br>Ano=2023<br>Mes=%{x}<br>NumCPFCNPJ=%{y}<extra></extra>",
           "legendgroup": "AL, Poder Público",
           "marker": {
            "color": "#E15F99",
            "symbol": "cross"
           },
           "mode": "markers",
           "name": "AL, Poder Público",
           "orientation": "v",
           "showlegend": true,
           "type": "scatter",
           "x": [
            1,
            2
           ],
           "xaxis": "x",
           "y": [
            1,
            4
           ],
           "yaxis": "y"
          },
          {
           "hovertemplate": "SigUF=AC<br>DscClasseConsumo=Industrial<br>Ano=2023<br>Mes=%{x}<br>NumCPFCNPJ=%{y}<extra></extra>",
           "legendgroup": "AC, Industrial",
           "marker": {
            "color": "#1CA71C",
            "symbol": "circle"
           },
           "mode": "markers",
           "name": "AC, Industrial",
           "orientation": "v",
           "showlegend": true,
           "type": "scatter",
           "x": [
            2
           ],
           "xaxis": "x",
           "y": [
            1
           ],
           "yaxis": "y"
          },
          {
           "hovertemplate": "SigUF=AC<br>DscClasseConsumo=Residencial<br>Ano=2023<br>Mes=%{x}<br>NumCPFCNPJ=%{y}<extra></extra>",
           "legendgroup": "AC, Residencial",
           "marker": {
            "color": "#1CA71C",
            "symbol": "diamond"
           },
           "mode": "markers",
           "name": "AC, Residencial",
           "orientation": "v",
           "showlegend": true,
           "type": "scatter",
           "x": [
            1,
            2
           ],
           "xaxis": "x",
           "y": [
            144,
            85
           ],
           "yaxis": "y"
          },
          {
           "hovertemplate": "SigUF=AC<br>DscClasseConsumo=Comercial<br>Ano=2023<br>Mes=%{x}<br>NumCPFCNPJ=%{y}<extra></extra>",
           "legendgroup": "AC, Comercial",
           "marker": {
            "color": "#1CA71C",
            "symbol": "square"
           },
           "mode": "markers",
           "name": "AC, Comercial",
           "orientation": "v",
           "showlegend": true,
           "type": "scatter",
           "x": [
            1,
            2
           ],
           "xaxis": "x",
           "y": [
            18,
            19
           ],
           "yaxis": "y"
          },
          {
           "hovertemplate": "SigUF=AC<br>DscClasseConsumo=Rural<br>Ano=2023<br>Mes=%{x}<br>NumCPFCNPJ=%{y}<extra></extra>",
           "legendgroup": "AC, Rural",
           "marker": {
            "color": "#1CA71C",
            "symbol": "x"
           },
           "mode": "markers",
           "name": "AC, Rural",
           "orientation": "v",
           "showlegend": true,
           "type": "scatter",
           "x": [
            1,
            2
           ],
           "xaxis": "x",
           "y": [
            12,
            5
           ],
           "yaxis": "y"
          },
          {
           "hovertemplate": "SigUF=AM<br>DscClasseConsumo=Industrial<br>Ano=2023<br>Mes=%{x}<br>NumCPFCNPJ=%{y}<extra></extra>",
           "legendgroup": "AM, Industrial",
           "marker": {
            "color": "#FB0D0D",
            "symbol": "circle"
           },
           "mode": "markers",
           "name": "AM, Industrial",
           "orientation": "v",
           "showlegend": true,
           "type": "scatter",
           "x": [
            1,
            2,
            3
           ],
           "xaxis": "x",
           "y": [
            5,
            1,
            1
           ],
           "yaxis": "y"
          },
          {
           "hovertemplate": "SigUF=AM<br>DscClasseConsumo=Residencial<br>Ano=2023<br>Mes=%{x}<br>NumCPFCNPJ=%{y}<extra></extra>",
           "legendgroup": "AM, Residencial",
           "marker": {
            "color": "#FB0D0D",
            "symbol": "diamond"
           },
           "mode": "markers",
           "name": "AM, Residencial",
           "orientation": "v",
           "showlegend": true,
           "type": "scatter",
           "x": [
            1,
            2,
            3
           ],
           "xaxis": "x",
           "y": [
            463,
            290,
            21
           ],
           "yaxis": "y"
          },
          {
           "hovertemplate": "SigUF=AM<br>DscClasseConsumo=Comercial<br>Ano=2023<br>Mes=%{x}<br>NumCPFCNPJ=%{y}<extra></extra>",
           "legendgroup": "AM, Comercial",
           "marker": {
            "color": "#FB0D0D",
            "symbol": "square"
           },
           "mode": "markers",
           "name": "AM, Comercial",
           "orientation": "v",
           "showlegend": true,
           "type": "scatter",
           "x": [
            1,
            2,
            3
           ],
           "xaxis": "x",
           "y": [
            53,
            33,
            1
           ],
           "yaxis": "y"
          },
          {
           "hovertemplate": "SigUF=AM<br>DscClasseConsumo=Rural<br>Ano=2023<br>Mes=%{x}<br>NumCPFCNPJ=%{y}<extra></extra>",
           "legendgroup": "AM, Rural",
           "marker": {
            "color": "#FB0D0D",
            "symbol": "x"
           },
           "mode": "markers",
           "name": "AM, Rural",
           "orientation": "v",
           "showlegend": true,
           "type": "scatter",
           "x": [
            1,
            2
           ],
           "xaxis": "x",
           "y": [
            8,
            2
           ],
           "yaxis": "y"
          },
          {
           "hovertemplate": "SigUF=AM<br>DscClasseConsumo=Poder Público<br>Ano=2023<br>Mes=%{x}<br>NumCPFCNPJ=%{y}<extra></extra>",
           "legendgroup": "AM, Poder Público",
           "marker": {
            "color": "#FB0D0D",
            "symbol": "cross"
           },
           "mode": "markers",
           "name": "AM, Poder Público",
           "orientation": "v",
           "showlegend": true,
           "type": "scatter",
           "x": [
            2
           ],
           "xaxis": "x",
           "y": [
            1
           ],
           "yaxis": "y"
          },
          {
           "hovertemplate": "SigUF=AP<br>DscClasseConsumo=Residencial<br>Ano=2023<br>Mes=%{x}<br>NumCPFCNPJ=%{y}<extra></extra>",
           "legendgroup": "AP, Residencial",
           "marker": {
            "color": "#DA16FF",
            "symbol": "diamond"
           },
           "mode": "markers",
           "name": "AP, Residencial",
           "orientation": "v",
           "showlegend": true,
           "type": "scatter",
           "x": [
            1,
            2,
            3
           ],
           "xaxis": "x",
           "y": [
            198,
            259,
            85
           ],
           "yaxis": "y"
          },
          {
           "hovertemplate": "SigUF=AP<br>DscClasseConsumo=Comercial<br>Ano=2023<br>Mes=%{x}<br>NumCPFCNPJ=%{y}<extra></extra>",
           "legendgroup": "AP, Comercial",
           "marker": {
            "color": "#DA16FF",
            "symbol": "square"
           },
           "mode": "markers",
           "name": "AP, Comercial",
           "orientation": "v",
           "showlegend": true,
           "type": "scatter",
           "x": [
            1,
            2,
            3
           ],
           "xaxis": "x",
           "y": [
            10,
            4,
            3
           ],
           "yaxis": "y"
          },
          {
           "hovertemplate": "SigUF=AP<br>DscClasseConsumo=Poder Público<br>Ano=2023<br>Mes=%{x}<br>NumCPFCNPJ=%{y}<extra></extra>",
           "legendgroup": "AP, Poder Público",
           "marker": {
            "color": "#DA16FF",
            "symbol": "cross"
           },
           "mode": "markers",
           "name": "AP, Poder Público",
           "orientation": "v",
           "showlegend": true,
           "type": "scatter",
           "x": [
            2
           ],
           "xaxis": "x",
           "y": [
            1
           ],
           "yaxis": "y"
          },
          {
           "hovertemplate": "SigUF=PA<br>DscClasseConsumo=Residencial<br>Ano=2023<br>Mes=%{x}<br>NumCPFCNPJ=%{y}<extra></extra>",
           "legendgroup": "PA, Residencial",
           "marker": {
            "color": "#222A2A",
            "symbol": "diamond"
           },
           "mode": "markers",
           "name": "PA, Residencial",
           "orientation": "v",
           "showlegend": true,
           "type": "scatter",
           "x": [
            1,
            2,
            3
           ],
           "xaxis": "x",
           "y": [
            1,
            1,
            2
           ],
           "yaxis": "y"
          },
          {
           "hovertemplate": "SigUF=PA<br>DscClasseConsumo=Comercial<br>Ano=2023<br>Mes=%{x}<br>NumCPFCNPJ=%{y}<extra></extra>",
           "legendgroup": "PA, Comercial",
           "marker": {
            "color": "#222A2A",
            "symbol": "square"
           },
           "mode": "markers",
           "name": "PA, Comercial",
           "orientation": "v",
           "showlegend": true,
           "type": "scatter",
           "x": [
            3
           ],
           "xaxis": "x",
           "y": [
            1
           ],
           "yaxis": "y"
          },
          {
           "hovertemplate": "SigUF=SP<br>DscClasseConsumo=Residencial<br>Ano=2023<br>Mes=%{x}<br>NumCPFCNPJ=%{y}<extra></extra>",
           "legendgroup": "SP, Residencial",
           "marker": {
            "color": "#B68100",
            "symbol": "diamond"
           },
           "mode": "markers",
           "name": "SP, Residencial",
           "orientation": "v",
           "showlegend": true,
           "type": "scatter",
           "x": [
            1
           ],
           "xaxis": "x",
           "y": [
            1
           ],
           "yaxis": "y"
          },
          {
           "hovertemplate": "SigUF=MA<br>DscClasseConsumo=Residencial<br>Ano=2023<br>Mes=%{x}<br>NumCPFCNPJ=%{y}<extra></extra>",
           "legendgroup": "MA, Residencial",
           "marker": {
            "color": "#750D86",
            "symbol": "diamond"
           },
           "mode": "markers",
           "name": "MA, Residencial",
           "orientation": "v",
           "showlegend": true,
           "type": "scatter",
           "x": [
            3
           ],
           "xaxis": "x",
           "y": [
            1
           ],
           "yaxis": "y"
          },
          {
           "hovertemplate": "SigUF=PI<br>DscClasseConsumo=Residencial<br>Ano=2023<br>Mes=%{x}<br>NumCPFCNPJ=%{y}<extra></extra>",
           "legendgroup": "PI, Residencial",
           "marker": {
            "color": "#EB663B",
            "symbol": "diamond"
           },
           "mode": "markers",
           "name": "PI, Residencial",
           "orientation": "v",
           "showlegend": true,
           "type": "scatter",
           "x": [
            3
           ],
           "xaxis": "x",
           "y": [
            1
           ],
           "yaxis": "y"
          },
          {
           "hovertemplate": "SigUF=PI<br>DscClasseConsumo=Comercial<br>Ano=2023<br>Mes=%{x}<br>NumCPFCNPJ=%{y}<extra></extra>",
           "legendgroup": "PI, Comercial",
           "marker": {
            "color": "#EB663B",
            "symbol": "square"
           },
           "mode": "markers",
           "name": "PI, Comercial",
           "orientation": "v",
           "showlegend": true,
           "type": "scatter",
           "x": [
            3
           ],
           "xaxis": "x",
           "y": [
            1
           ],
           "yaxis": "y"
          }
         ],
         "name": "2023"
        }
       ],
       "layout": {
        "legend": {
         "title": {
          "text": "SigUF, DscClasseConsumo"
         },
         "tracegroupgap": 0
        },
        "margin": {
         "t": 60
        },
        "sliders": [
         {
          "active": 0,
          "currentvalue": {
           "prefix": "Ano="
          },
          "len": 0.9,
          "pad": {
           "b": 10,
           "t": 60
          },
          "steps": [
           {
            "args": [
             [
              "2012"
             ],
             {
              "frame": {
               "duration": 0,
               "redraw": false
              },
              "fromcurrent": true,
              "mode": "immediate",
              "transition": {
               "duration": 0,
               "easing": "linear"
              }
             }
            ],
            "label": "2012",
            "method": "animate"
           },
           {
            "args": [
             [
              "2013"
             ],
             {
              "frame": {
               "duration": 0,
               "redraw": false
              },
              "fromcurrent": true,
              "mode": "immediate",
              "transition": {
               "duration": 0,
               "easing": "linear"
              }
             }
            ],
            "label": "2013",
            "method": "animate"
           },
           {
            "args": [
             [
              "2014"
             ],
             {
              "frame": {
               "duration": 0,
               "redraw": false
              },
              "fromcurrent": true,
              "mode": "immediate",
              "transition": {
               "duration": 0,
               "easing": "linear"
              }
             }
            ],
            "label": "2014",
            "method": "animate"
           },
           {
            "args": [
             [
              "2015"
             ],
             {
              "frame": {
               "duration": 0,
               "redraw": false
              },
              "fromcurrent": true,
              "mode": "immediate",
              "transition": {
               "duration": 0,
               "easing": "linear"
              }
             }
            ],
            "label": "2015",
            "method": "animate"
           },
           {
            "args": [
             [
              "2016"
             ],
             {
              "frame": {
               "duration": 0,
               "redraw": false
              },
              "fromcurrent": true,
              "mode": "immediate",
              "transition": {
               "duration": 0,
               "easing": "linear"
              }
             }
            ],
            "label": "2016",
            "method": "animate"
           },
           {
            "args": [
             [
              "2017"
             ],
             {
              "frame": {
               "duration": 0,
               "redraw": false
              },
              "fromcurrent": true,
              "mode": "immediate",
              "transition": {
               "duration": 0,
               "easing": "linear"
              }
             }
            ],
            "label": "2017",
            "method": "animate"
           },
           {
            "args": [
             [
              "2018"
             ],
             {
              "frame": {
               "duration": 0,
               "redraw": false
              },
              "fromcurrent": true,
              "mode": "immediate",
              "transition": {
               "duration": 0,
               "easing": "linear"
              }
             }
            ],
            "label": "2018",
            "method": "animate"
           },
           {
            "args": [
             [
              "2019"
             ],
             {
              "frame": {
               "duration": 0,
               "redraw": false
              },
              "fromcurrent": true,
              "mode": "immediate",
              "transition": {
               "duration": 0,
               "easing": "linear"
              }
             }
            ],
            "label": "2019",
            "method": "animate"
           },
           {
            "args": [
             [
              "2020"
             ],
             {
              "frame": {
               "duration": 0,
               "redraw": false
              },
              "fromcurrent": true,
              "mode": "immediate",
              "transition": {
               "duration": 0,
               "easing": "linear"
              }
             }
            ],
            "label": "2020",
            "method": "animate"
           },
           {
            "args": [
             [
              "2021"
             ],
             {
              "frame": {
               "duration": 0,
               "redraw": false
              },
              "fromcurrent": true,
              "mode": "immediate",
              "transition": {
               "duration": 0,
               "easing": "linear"
              }
             }
            ],
            "label": "2021",
            "method": "animate"
           },
           {
            "args": [
             [
              "2022"
             ],
             {
              "frame": {
               "duration": 0,
               "redraw": false
              },
              "fromcurrent": true,
              "mode": "immediate",
              "transition": {
               "duration": 0,
               "easing": "linear"
              }
             }
            ],
            "label": "2022",
            "method": "animate"
           },
           {
            "args": [
             [
              "2023"
             ],
             {
              "frame": {
               "duration": 0,
               "redraw": false
              },
              "fromcurrent": true,
              "mode": "immediate",
              "transition": {
               "duration": 0,
               "easing": "linear"
              }
             }
            ],
            "label": "2023",
            "method": "animate"
           }
          ],
          "x": 0.1,
          "xanchor": "left",
          "y": 0,
          "yanchor": "top"
         }
        ],
        "template": {
         "data": {
          "bar": [
           {
            "error_x": {
             "color": "#2a3f5f"
            },
            "error_y": {
             "color": "#2a3f5f"
            },
            "marker": {
             "line": {
              "color": "white",
              "width": 0.5
             },
             "pattern": {
              "fillmode": "overlay",
              "size": 10,
              "solidity": 0.2
             }
            },
            "type": "bar"
           }
          ],
          "barpolar": [
           {
            "marker": {
             "line": {
              "color": "white",
              "width": 0.5
             },
             "pattern": {
              "fillmode": "overlay",
              "size": 10,
              "solidity": 0.2
             }
            },
            "type": "barpolar"
           }
          ],
          "carpet": [
           {
            "aaxis": {
             "endlinecolor": "#2a3f5f",
             "gridcolor": "#C8D4E3",
             "linecolor": "#C8D4E3",
             "minorgridcolor": "#C8D4E3",
             "startlinecolor": "#2a3f5f"
            },
            "baxis": {
             "endlinecolor": "#2a3f5f",
             "gridcolor": "#C8D4E3",
             "linecolor": "#C8D4E3",
             "minorgridcolor": "#C8D4E3",
             "startlinecolor": "#2a3f5f"
            },
            "type": "carpet"
           }
          ],
          "choropleth": [
           {
            "colorbar": {
             "outlinewidth": 0,
             "ticks": ""
            },
            "type": "choropleth"
           }
          ],
          "contour": [
           {
            "colorbar": {
             "outlinewidth": 0,
             "ticks": ""
            },
            "colorscale": [
             [
              0,
              "#0d0887"
             ],
             [
              0.1111111111111111,
              "#46039f"
             ],
             [
              0.2222222222222222,
              "#7201a8"
             ],
             [
              0.3333333333333333,
              "#9c179e"
             ],
             [
              0.4444444444444444,
              "#bd3786"
             ],
             [
              0.5555555555555556,
              "#d8576b"
             ],
             [
              0.6666666666666666,
              "#ed7953"
             ],
             [
              0.7777777777777778,
              "#fb9f3a"
             ],
             [
              0.8888888888888888,
              "#fdca26"
             ],
             [
              1,
              "#f0f921"
             ]
            ],
            "type": "contour"
           }
          ],
          "contourcarpet": [
           {
            "colorbar": {
             "outlinewidth": 0,
             "ticks": ""
            },
            "type": "contourcarpet"
           }
          ],
          "heatmap": [
           {
            "colorbar": {
             "outlinewidth": 0,
             "ticks": ""
            },
            "colorscale": [
             [
              0,
              "#0d0887"
             ],
             [
              0.1111111111111111,
              "#46039f"
             ],
             [
              0.2222222222222222,
              "#7201a8"
             ],
             [
              0.3333333333333333,
              "#9c179e"
             ],
             [
              0.4444444444444444,
              "#bd3786"
             ],
             [
              0.5555555555555556,
              "#d8576b"
             ],
             [
              0.6666666666666666,
              "#ed7953"
             ],
             [
              0.7777777777777778,
              "#fb9f3a"
             ],
             [
              0.8888888888888888,
              "#fdca26"
             ],
             [
              1,
              "#f0f921"
             ]
            ],
            "type": "heatmap"
           }
          ],
          "heatmapgl": [
           {
            "colorbar": {
             "outlinewidth": 0,
             "ticks": ""
            },
            "colorscale": [
             [
              0,
              "#0d0887"
             ],
             [
              0.1111111111111111,
              "#46039f"
             ],
             [
              0.2222222222222222,
              "#7201a8"
             ],
             [
              0.3333333333333333,
              "#9c179e"
             ],
             [
              0.4444444444444444,
              "#bd3786"
             ],
             [
              0.5555555555555556,
              "#d8576b"
             ],
             [
              0.6666666666666666,
              "#ed7953"
             ],
             [
              0.7777777777777778,
              "#fb9f3a"
             ],
             [
              0.8888888888888888,
              "#fdca26"
             ],
             [
              1,
              "#f0f921"
             ]
            ],
            "type": "heatmapgl"
           }
          ],
          "histogram": [
           {
            "marker": {
             "pattern": {
              "fillmode": "overlay",
              "size": 10,
              "solidity": 0.2
             }
            },
            "type": "histogram"
           }
          ],
          "histogram2d": [
           {
            "colorbar": {
             "outlinewidth": 0,
             "ticks": ""
            },
            "colorscale": [
             [
              0,
              "#0d0887"
             ],
             [
              0.1111111111111111,
              "#46039f"
             ],
             [
              0.2222222222222222,
              "#7201a8"
             ],
             [
              0.3333333333333333,
              "#9c179e"
             ],
             [
              0.4444444444444444,
              "#bd3786"
             ],
             [
              0.5555555555555556,
              "#d8576b"
             ],
             [
              0.6666666666666666,
              "#ed7953"
             ],
             [
              0.7777777777777778,
              "#fb9f3a"
             ],
             [
              0.8888888888888888,
              "#fdca26"
             ],
             [
              1,
              "#f0f921"
             ]
            ],
            "type": "histogram2d"
           }
          ],
          "histogram2dcontour": [
           {
            "colorbar": {
             "outlinewidth": 0,
             "ticks": ""
            },
            "colorscale": [
             [
              0,
              "#0d0887"
             ],
             [
              0.1111111111111111,
              "#46039f"
             ],
             [
              0.2222222222222222,
              "#7201a8"
             ],
             [
              0.3333333333333333,
              "#9c179e"
             ],
             [
              0.4444444444444444,
              "#bd3786"
             ],
             [
              0.5555555555555556,
              "#d8576b"
             ],
             [
              0.6666666666666666,
              "#ed7953"
             ],
             [
              0.7777777777777778,
              "#fb9f3a"
             ],
             [
              0.8888888888888888,
              "#fdca26"
             ],
             [
              1,
              "#f0f921"
             ]
            ],
            "type": "histogram2dcontour"
           }
          ],
          "mesh3d": [
           {
            "colorbar": {
             "outlinewidth": 0,
             "ticks": ""
            },
            "type": "mesh3d"
           }
          ],
          "parcoords": [
           {
            "line": {
             "colorbar": {
              "outlinewidth": 0,
              "ticks": ""
             }
            },
            "type": "parcoords"
           }
          ],
          "pie": [
           {
            "automargin": true,
            "type": "pie"
           }
          ],
          "scatter": [
           {
            "fillpattern": {
             "fillmode": "overlay",
             "size": 10,
             "solidity": 0.2
            },
            "type": "scatter"
           }
          ],
          "scatter3d": [
           {
            "line": {
             "colorbar": {
              "outlinewidth": 0,
              "ticks": ""
             }
            },
            "marker": {
             "colorbar": {
              "outlinewidth": 0,
              "ticks": ""
             }
            },
            "type": "scatter3d"
           }
          ],
          "scattercarpet": [
           {
            "marker": {
             "colorbar": {
              "outlinewidth": 0,
              "ticks": ""
             }
            },
            "type": "scattercarpet"
           }
          ],
          "scattergeo": [
           {
            "marker": {
             "colorbar": {
              "outlinewidth": 0,
              "ticks": ""
             }
            },
            "type": "scattergeo"
           }
          ],
          "scattergl": [
           {
            "marker": {
             "colorbar": {
              "outlinewidth": 0,
              "ticks": ""
             }
            },
            "type": "scattergl"
           }
          ],
          "scattermapbox": [
           {
            "marker": {
             "colorbar": {
              "outlinewidth": 0,
              "ticks": ""
             }
            },
            "type": "scattermapbox"
           }
          ],
          "scatterpolar": [
           {
            "marker": {
             "colorbar": {
              "outlinewidth": 0,
              "ticks": ""
             }
            },
            "type": "scatterpolar"
           }
          ],
          "scatterpolargl": [
           {
            "marker": {
             "colorbar": {
              "outlinewidth": 0,
              "ticks": ""
             }
            },
            "type": "scatterpolargl"
           }
          ],
          "scatterternary": [
           {
            "marker": {
             "colorbar": {
              "outlinewidth": 0,
              "ticks": ""
             }
            },
            "type": "scatterternary"
           }
          ],
          "surface": [
           {
            "colorbar": {
             "outlinewidth": 0,
             "ticks": ""
            },
            "colorscale": [
             [
              0,
              "#0d0887"
             ],
             [
              0.1111111111111111,
              "#46039f"
             ],
             [
              0.2222222222222222,
              "#7201a8"
             ],
             [
              0.3333333333333333,
              "#9c179e"
             ],
             [
              0.4444444444444444,
              "#bd3786"
             ],
             [
              0.5555555555555556,
              "#d8576b"
             ],
             [
              0.6666666666666666,
              "#ed7953"
             ],
             [
              0.7777777777777778,
              "#fb9f3a"
             ],
             [
              0.8888888888888888,
              "#fdca26"
             ],
             [
              1,
              "#f0f921"
             ]
            ],
            "type": "surface"
           }
          ],
          "table": [
           {
            "cells": {
             "fill": {
              "color": "#EBF0F8"
             },
             "line": {
              "color": "white"
             }
            },
            "header": {
             "fill": {
              "color": "#C8D4E3"
             },
             "line": {
              "color": "white"
             }
            },
            "type": "table"
           }
          ]
         },
         "layout": {
          "annotationdefaults": {
           "arrowcolor": "#2a3f5f",
           "arrowhead": 0,
           "arrowwidth": 1
          },
          "autotypenumbers": "strict",
          "coloraxis": {
           "colorbar": {
            "outlinewidth": 0,
            "ticks": ""
           }
          },
          "colorscale": {
           "diverging": [
            [
             0,
             "#8e0152"
            ],
            [
             0.1,
             "#c51b7d"
            ],
            [
             0.2,
             "#de77ae"
            ],
            [
             0.3,
             "#f1b6da"
            ],
            [
             0.4,
             "#fde0ef"
            ],
            [
             0.5,
             "#f7f7f7"
            ],
            [
             0.6,
             "#e6f5d0"
            ],
            [
             0.7,
             "#b8e186"
            ],
            [
             0.8,
             "#7fbc41"
            ],
            [
             0.9,
             "#4d9221"
            ],
            [
             1,
             "#276419"
            ]
           ],
           "sequential": [
            [
             0,
             "#0d0887"
            ],
            [
             0.1111111111111111,
             "#46039f"
            ],
            [
             0.2222222222222222,
             "#7201a8"
            ],
            [
             0.3333333333333333,
             "#9c179e"
            ],
            [
             0.4444444444444444,
             "#bd3786"
            ],
            [
             0.5555555555555556,
             "#d8576b"
            ],
            [
             0.6666666666666666,
             "#ed7953"
            ],
            [
             0.7777777777777778,
             "#fb9f3a"
            ],
            [
             0.8888888888888888,
             "#fdca26"
            ],
            [
             1,
             "#f0f921"
            ]
           ],
           "sequentialminus": [
            [
             0,
             "#0d0887"
            ],
            [
             0.1111111111111111,
             "#46039f"
            ],
            [
             0.2222222222222222,
             "#7201a8"
            ],
            [
             0.3333333333333333,
             "#9c179e"
            ],
            [
             0.4444444444444444,
             "#bd3786"
            ],
            [
             0.5555555555555556,
             "#d8576b"
            ],
            [
             0.6666666666666666,
             "#ed7953"
            ],
            [
             0.7777777777777778,
             "#fb9f3a"
            ],
            [
             0.8888888888888888,
             "#fdca26"
            ],
            [
             1,
             "#f0f921"
            ]
           ]
          },
          "colorway": [
           "#636efa",
           "#EF553B",
           "#00cc96",
           "#ab63fa",
           "#FFA15A",
           "#19d3f3",
           "#FF6692",
           "#B6E880",
           "#FF97FF",
           "#FECB52"
          ],
          "font": {
           "color": "#2a3f5f"
          },
          "geo": {
           "bgcolor": "white",
           "lakecolor": "white",
           "landcolor": "white",
           "showlakes": true,
           "showland": true,
           "subunitcolor": "#C8D4E3"
          },
          "hoverlabel": {
           "align": "left"
          },
          "hovermode": "closest",
          "mapbox": {
           "style": "light"
          },
          "paper_bgcolor": "white",
          "plot_bgcolor": "white",
          "polar": {
           "angularaxis": {
            "gridcolor": "#EBF0F8",
            "linecolor": "#EBF0F8",
            "ticks": ""
           },
           "bgcolor": "white",
           "radialaxis": {
            "gridcolor": "#EBF0F8",
            "linecolor": "#EBF0F8",
            "ticks": ""
           }
          },
          "scene": {
           "xaxis": {
            "backgroundcolor": "white",
            "gridcolor": "#DFE8F3",
            "gridwidth": 2,
            "linecolor": "#EBF0F8",
            "showbackground": true,
            "ticks": "",
            "zerolinecolor": "#EBF0F8"
           },
           "yaxis": {
            "backgroundcolor": "white",
            "gridcolor": "#DFE8F3",
            "gridwidth": 2,
            "linecolor": "#EBF0F8",
            "showbackground": true,
            "ticks": "",
            "zerolinecolor": "#EBF0F8"
           },
           "zaxis": {
            "backgroundcolor": "white",
            "gridcolor": "#DFE8F3",
            "gridwidth": 2,
            "linecolor": "#EBF0F8",
            "showbackground": true,
            "ticks": "",
            "zerolinecolor": "#EBF0F8"
           }
          },
          "shapedefaults": {
           "line": {
            "color": "#2a3f5f"
           }
          },
          "ternary": {
           "aaxis": {
            "gridcolor": "#DFE8F3",
            "linecolor": "#A2B1C6",
            "ticks": ""
           },
           "baxis": {
            "gridcolor": "#DFE8F3",
            "linecolor": "#A2B1C6",
            "ticks": ""
           },
           "bgcolor": "white",
           "caxis": {
            "gridcolor": "#DFE8F3",
            "linecolor": "#A2B1C6",
            "ticks": ""
           }
          },
          "title": {
           "x": 0.05
          },
          "xaxis": {
           "automargin": true,
           "gridcolor": "#EBF0F8",
           "linecolor": "#EBF0F8",
           "ticks": "",
           "title": {
            "standoff": 15
           },
           "zerolinecolor": "#EBF0F8",
           "zerolinewidth": 2
          },
          "yaxis": {
           "automargin": true,
           "gridcolor": "#EBF0F8",
           "linecolor": "#EBF0F8",
           "ticks": "",
           "title": {
            "standoff": 15
           },
           "zerolinecolor": "#EBF0F8",
           "zerolinewidth": 2
          }
         }
        },
        "title": {
         "text": "Número de empreendimentos por mês e UF",
         "x": 0.5,
         "xanchor": "center",
         "y": 0.95,
         "yanchor": "top"
        },
        "updatemenus": [
         {
          "buttons": [
           {
            "args": [
             null,
             {
              "frame": {
               "duration": 500,
               "redraw": false
              },
              "fromcurrent": true,
              "mode": "immediate",
              "transition": {
               "duration": 500,
               "easing": "linear"
              }
             }
            ],
            "label": "&#9654;",
            "method": "animate"
           },
           {
            "args": [
             [
              null
             ],
             {
              "frame": {
               "duration": 0,
               "redraw": false
              },
              "fromcurrent": true,
              "mode": "immediate",
              "transition": {
               "duration": 0,
               "easing": "linear"
              }
             }
            ],
            "label": "&#9724;",
            "method": "animate"
           }
          ],
          "direction": "left",
          "pad": {
           "r": 10,
           "t": 70
          },
          "showactive": false,
          "type": "buttons",
          "x": 0.1,
          "xanchor": "right",
          "y": 0,
          "yanchor": "top"
         }
        ],
        "xaxis": {
         "anchor": "y",
         "domain": [
          0,
          1
         ],
         "range": [
          1,
          12
         ],
         "tickfont": {
          "size": 14
         },
         "title": {
          "text": "Mês"
         }
        },
        "yaxis": {
         "anchor": "x",
         "domain": [
          0,
          1
         ],
         "range": [
          -10,
          200
         ],
         "tickfont": {
          "size": 14
         },
         "title": {
          "text": "Número de empreendimentos"
         }
        }
       }
      }
     },
     "metadata": {},
     "output_type": "display_data"
    }
   ],
   "source": [
    "# PE ESSA PORRTA TA FILTRANDO A BAHIA???\n",
    "\n",
    "import pandas as pd\n",
    "import plotly.express as px\n",
    "\n",
    "# Extrair mês e ano de DthAtualizaCadastralEmpreend\n",
    "df['Mes'] = pd.DatetimeIndex(df['DthAtualizaCadastralEmpreend']).month\n",
    "df['Ano'] = pd.DatetimeIndex(df['DthAtualizaCadastralEmpreend']).year\n",
    "\n",
    "# Agrupar empreendimentos por Ano, Mês, SigUF e DscClasseConsumo\n",
    "counts = df.groupby(['Ano', 'Mes', 'SigUF', 'DscClasseConsumo']).count().reset_index()\n",
    "\n",
    "# Criar o scatterplot\n",
    "fig = px.scatter(counts, x='Mes', y='NumCPFCNPJ', color='SigUF', symbol='DscClasseConsumo', animation_frame='Ano',\n",
    "                 range_x=[1, 12], range_y=[-10, 200], color_discrete_sequence=px.colors.qualitative.Dark24)\n",
    "\n",
    "# Adicionar títulos dos eixos e do gráfico\n",
    "fig.update_layout(\n",
    "    xaxis_title='Mês',\n",
    "    yaxis_title='Número de empreendimentos',\n",
    "    title={\n",
    "        'text': 'Número de empreendimentos por mês e UF',\n",
    "        'x': 0.5,\n",
    "        'y': 0.95,\n",
    "        'xanchor': 'center',\n",
    "        'yanchor': 'top'\n",
    "    },\n",
    "    xaxis_tickfont=dict(size=14),\n",
    "    yaxis_tickfont=dict(size=14),\n",
    "    template='plotly_white'\n",
    ")\n",
    "\n",
    "# Exibir o gráfico\n",
    "fig.show()\n"
   ]
  },
  {
   "cell_type": "code",
   "execution_count": null,
   "id": "ea60e4b0",
   "metadata": {},
   "outputs": [],
   "source": [
    "# INCREMENTO1  GRAFICO 1  - cria visualização lateral tipo JoinGrid\n",
    "\n",
    "html.Div([    dcc.Graph(        id='scatter-plot',        figure=fig    ),    dcc.Graph(        id='histogram-plot',        figure={            'data': [go.Histogram(x=df['NumCPFCNPJ'], nbinsx=30)],\n",
    "            'layout': go.Layout(\n",
    "                title='Distribuição de NumCPFCNPJ',\n",
    "                xaxis=dict(title='NumCPFCNPJ'),\n",
    "                yaxis=dict(title='Frequência'),\n",
    "                margin=dict(l=10, r=10, t=30, b=10),\n",
    "                height=200\n",
    "            )\n",
    "        },\n",
    "        style={'height': '200px', 'margin-left': '10px', 'margin-right': '10px'}\n",
    "    )\n",
    "], style={'display': 'flex', 'flex-direction': 'row', 'justify-content': 'center'})\n"
   ]
  },
  {
   "attachments": {},
   "cell_type": "markdown",
   "id": "51f3de3a",
   "metadata": {},
   "source": [
    "#INCREMENTO2 GRAFICO 1  - cria um mapa com os mesmos dados\n",
    "\n",
    "# Extrair mês e ano de DthAtualizaCadastralEmpreend\n",
    "df['Mes'] = pd.DatetimeIndex(df['DthAtualizaCadastralEmpreend']).month\n",
    "df['Ano'] = pd.DatetimeIndex(df['DthAtualizaCadastralEmpreend']).year\n",
    "\n",
    "# Agrupar empreendimentos por Ano, Mês, SigUF e DscClasseConsumo\n",
    "counts = df.groupby(['Ano', 'Mes', 'SigUF', 'DscClasseConsumo']).count().reset_index()\n",
    "\n",
    "# Agregar por estado\n",
    "counts = counts.groupby(['SigUF']).sum().reset_index()\n",
    "\n",
    "# Adicionar coordenadas geográficas dos estados\n",
    "coords = pd.read_csv('coords_estados.csv')\n",
    "counts = counts.merge(coords, left_on='SigUF', right_on='UF')\n",
    "\n",
    "# Criar mapa de calor\n",
    "fig = px.scatter_geo(counts, lat='Latitude', lon='Longitude', color='NumCPFCNPJ',\n",
    "                     hover_name='SigUF', size='NumCPFCNPJ', animation_frame='Ano',\n",
    "                     projection='albers usa', range_color=[0, counts['NumCPFCNPJ'].max() + 1],\n",
    "                     scope='south america')\n",
    "\n",
    "# Adicionar título\n",
    "fig.update_layout(title='Número de Empreendimentos por Estado')\n",
    "\n",
    "# Exibir o mapa\n",
    "fig.show()"
   ]
  },
  {
   "cell_type": "code",
   "execution_count": 3,
   "id": "85208a11",
   "metadata": {},
   "outputs": [
    {
     "data": {
      "text/plain": [
       "3"
      ]
     },
     "execution_count": 3,
     "metadata": {},
     "output_type": "execute_result"
    }
   ],
   "source": [
    "# Grafico 2"
   ]
  },
  {
   "cell_type": "code",
   "execution_count": 161,
   "id": "b65d87d5",
   "metadata": {},
   "outputs": [
    {
     "data": {
      "application/vnd.plotly.v1+json": {
       "config": {
        "plotlyServerURL": "https://plot.ly"
       },
       "data": [
        {
         "alignmentgroup": "True",
         "hovertemplate": "SigUF=BA<br>Ano=%{x}<br>PotenciaCumulativa=%{y}<extra></extra>",
         "legendgroup": "BA",
         "marker": {
          "color": "#636efa",
          "pattern": {
           "shape": ""
          }
         },
         "name": "BA",
         "offsetgroup": "BA",
         "orientation": "v",
         "showlegend": true,
         "textposition": "auto",
         "type": "bar",
         "x": [
          2012,
          2013,
          2014,
          2015,
          2016,
          2017,
          2018,
          2019,
          2020,
          2021,
          2022,
          2023
         ],
         "xaxis": "x",
         "y": [
          403,
          405.4,
          534,
          796.1700000000001,
          1561.75,
          4415.889999999999,
          10542.17,
          10582.57,
          10619.69,
          10659.56,
          10864.81,
          10901.01
         ],
         "yaxis": "y"
        },
        {
         "alignmentgroup": "True",
         "hovertemplate": "SigUF=AC<br>Ano=%{x}<br>PotenciaCumulativa=%{y}<extra></extra>",
         "legendgroup": "AC",
         "marker": {
          "color": "#EF553B",
          "pattern": {
           "shape": ""
          }
         },
         "name": "AC",
         "offsetgroup": "AC",
         "orientation": "v",
         "showlegend": true,
         "textposition": "auto",
         "type": "bar",
         "x": [
          2015,
          2016,
          2017,
          2018,
          2019,
          2020,
          2021,
          2022,
          2023
         ],
         "xaxis": "x",
         "y": [
          38.5,
          40.5,
          253.41,
          776.11,
          2536.19,
          8902.12,
          24834.1,
          44200.28,
          47392.5
         ],
         "yaxis": "y"
        },
        {
         "alignmentgroup": "True",
         "hovertemplate": "SigUF=AL<br>Ano=%{x}<br>PotenciaCumulativa=%{y}<extra></extra>",
         "legendgroup": "AL",
         "marker": {
          "color": "#00cc96",
          "pattern": {
           "shape": ""
          }
         },
         "name": "AL",
         "offsetgroup": "AL",
         "orientation": "v",
         "showlegend": true,
         "textposition": "auto",
         "type": "bar",
         "x": [
          2015,
          2016,
          2017,
          2018,
          2019,
          2020,
          2021,
          2022,
          2023
         ],
         "xaxis": "x",
         "y": [
          93.07,
          260.19,
          703.39,
          2782.21,
          10795.41,
          34781.020000000004,
          75431.4,
          163993.22,
          193827.15
         ],
         "yaxis": "y"
        },
        {
         "alignmentgroup": "True",
         "hovertemplate": "SigUF=AM<br>Ano=%{x}<br>PotenciaCumulativa=%{y}<extra></extra>",
         "legendgroup": "AM",
         "marker": {
          "color": "#ab63fa",
          "pattern": {
           "shape": ""
          }
         },
         "name": "AM",
         "offsetgroup": "AM",
         "orientation": "v",
         "showlegend": true,
         "textposition": "auto",
         "type": "bar",
         "x": [
          2015,
          2016,
          2017,
          2018,
          2019,
          2020,
          2021,
          2022,
          2023
         ],
         "xaxis": "x",
         "y": [
          26.52,
          54.86,
          280.55,
          1133.1200000000001,
          6107.599999999999,
          20492.85,
          49292.52,
          94976.98999999999,
          107326.55
         ],
         "yaxis": "y"
        },
        {
         "alignmentgroup": "True",
         "hovertemplate": "SigUF=AP<br>Ano=%{x}<br>PotenciaCumulativa=%{y}<extra></extra>",
         "legendgroup": "AP",
         "marker": {
          "color": "#FFA15A",
          "pattern": {
           "shape": ""
          }
         },
         "name": "AP",
         "offsetgroup": "AP",
         "orientation": "v",
         "showlegend": true,
         "textposition": "auto",
         "type": "bar",
         "x": [
          2017,
          2018,
          2019,
          2020,
          2021,
          2022,
          2023
         ],
         "xaxis": "x",
         "y": [
          555,
          1006.69,
          2633.63,
          5908.08,
          13259.52,
          22475.73,
          27523.51
         ],
         "yaxis": "y"
        },
        {
         "alignmentgroup": "True",
         "hovertemplate": "SigUF=MA<br>Ano=%{x}<br>PotenciaCumulativa=%{y}<extra></extra>",
         "legendgroup": "MA",
         "marker": {
          "color": "#19d3f3",
          "pattern": {
           "shape": ""
          }
         },
         "name": "MA",
         "offsetgroup": "MA",
         "orientation": "v",
         "showlegend": true,
         "textposition": "auto",
         "type": "bar",
         "x": [
          2023
         ],
         "xaxis": "x",
         "y": [
          24.2
         ],
         "yaxis": "y"
        },
        {
         "alignmentgroup": "True",
         "hovertemplate": "SigUF=PA<br>Ano=%{x}<br>PotenciaCumulativa=%{y}<extra></extra>",
         "legendgroup": "PA",
         "marker": {
          "color": "#FF6692",
          "pattern": {
           "shape": ""
          }
         },
         "name": "PA",
         "offsetgroup": "PA",
         "orientation": "v",
         "showlegend": true,
         "textposition": "auto",
         "type": "bar",
         "x": [
          2023
         ],
         "xaxis": "x",
         "y": [
          43.15
         ],
         "yaxis": "y"
        },
        {
         "alignmentgroup": "True",
         "hovertemplate": "SigUF=PI<br>Ano=%{x}<br>PotenciaCumulativa=%{y}<extra></extra>",
         "legendgroup": "PI",
         "marker": {
          "color": "#B6E880",
          "pattern": {
           "shape": ""
          }
         },
         "name": "PI",
         "offsetgroup": "PI",
         "orientation": "v",
         "showlegend": true,
         "textposition": "auto",
         "type": "bar",
         "x": [
          2023
         ],
         "xaxis": "x",
         "y": [
          21
         ],
         "yaxis": "y"
        },
        {
         "alignmentgroup": "True",
         "hovertemplate": "SigUF=SP<br>Ano=%{x}<br>PotenciaCumulativa=%{y}<extra></extra>",
         "legendgroup": "SP",
         "marker": {
          "color": "#FF97FF",
          "pattern": {
           "shape": ""
          }
         },
         "name": "SP",
         "offsetgroup": "SP",
         "orientation": "v",
         "showlegend": true,
         "textposition": "auto",
         "type": "bar",
         "x": [
          2023
         ],
         "xaxis": "x",
         "y": [
          3.3
         ],
         "yaxis": "y"
        }
       ],
       "layout": {
        "barmode": "relative",
        "font": {
         "size": 14
        },
        "hovermode": "x unified",
        "legend": {
         "title": {
          "text": "Estado"
         },
         "tracegroupgap": 0
        },
        "margin": {
         "t": 60
        },
        "template": {
         "data": {
          "bar": [
           {
            "error_x": {
             "color": "#2a3f5f"
            },
            "error_y": {
             "color": "#2a3f5f"
            },
            "marker": {
             "line": {
              "color": "#E5ECF6",
              "width": 0.5
             },
             "pattern": {
              "fillmode": "overlay",
              "size": 10,
              "solidity": 0.2
             }
            },
            "type": "bar"
           }
          ],
          "barpolar": [
           {
            "marker": {
             "line": {
              "color": "#E5ECF6",
              "width": 0.5
             },
             "pattern": {
              "fillmode": "overlay",
              "size": 10,
              "solidity": 0.2
             }
            },
            "type": "barpolar"
           }
          ],
          "carpet": [
           {
            "aaxis": {
             "endlinecolor": "#2a3f5f",
             "gridcolor": "white",
             "linecolor": "white",
             "minorgridcolor": "white",
             "startlinecolor": "#2a3f5f"
            },
            "baxis": {
             "endlinecolor": "#2a3f5f",
             "gridcolor": "white",
             "linecolor": "white",
             "minorgridcolor": "white",
             "startlinecolor": "#2a3f5f"
            },
            "type": "carpet"
           }
          ],
          "choropleth": [
           {
            "colorbar": {
             "outlinewidth": 0,
             "ticks": ""
            },
            "type": "choropleth"
           }
          ],
          "contour": [
           {
            "colorbar": {
             "outlinewidth": 0,
             "ticks": ""
            },
            "colorscale": [
             [
              0,
              "#0d0887"
             ],
             [
              0.1111111111111111,
              "#46039f"
             ],
             [
              0.2222222222222222,
              "#7201a8"
             ],
             [
              0.3333333333333333,
              "#9c179e"
             ],
             [
              0.4444444444444444,
              "#bd3786"
             ],
             [
              0.5555555555555556,
              "#d8576b"
             ],
             [
              0.6666666666666666,
              "#ed7953"
             ],
             [
              0.7777777777777778,
              "#fb9f3a"
             ],
             [
              0.8888888888888888,
              "#fdca26"
             ],
             [
              1,
              "#f0f921"
             ]
            ],
            "type": "contour"
           }
          ],
          "contourcarpet": [
           {
            "colorbar": {
             "outlinewidth": 0,
             "ticks": ""
            },
            "type": "contourcarpet"
           }
          ],
          "heatmap": [
           {
            "colorbar": {
             "outlinewidth": 0,
             "ticks": ""
            },
            "colorscale": [
             [
              0,
              "#0d0887"
             ],
             [
              0.1111111111111111,
              "#46039f"
             ],
             [
              0.2222222222222222,
              "#7201a8"
             ],
             [
              0.3333333333333333,
              "#9c179e"
             ],
             [
              0.4444444444444444,
              "#bd3786"
             ],
             [
              0.5555555555555556,
              "#d8576b"
             ],
             [
              0.6666666666666666,
              "#ed7953"
             ],
             [
              0.7777777777777778,
              "#fb9f3a"
             ],
             [
              0.8888888888888888,
              "#fdca26"
             ],
             [
              1,
              "#f0f921"
             ]
            ],
            "type": "heatmap"
           }
          ],
          "heatmapgl": [
           {
            "colorbar": {
             "outlinewidth": 0,
             "ticks": ""
            },
            "colorscale": [
             [
              0,
              "#0d0887"
             ],
             [
              0.1111111111111111,
              "#46039f"
             ],
             [
              0.2222222222222222,
              "#7201a8"
             ],
             [
              0.3333333333333333,
              "#9c179e"
             ],
             [
              0.4444444444444444,
              "#bd3786"
             ],
             [
              0.5555555555555556,
              "#d8576b"
             ],
             [
              0.6666666666666666,
              "#ed7953"
             ],
             [
              0.7777777777777778,
              "#fb9f3a"
             ],
             [
              0.8888888888888888,
              "#fdca26"
             ],
             [
              1,
              "#f0f921"
             ]
            ],
            "type": "heatmapgl"
           }
          ],
          "histogram": [
           {
            "marker": {
             "pattern": {
              "fillmode": "overlay",
              "size": 10,
              "solidity": 0.2
             }
            },
            "type": "histogram"
           }
          ],
          "histogram2d": [
           {
            "colorbar": {
             "outlinewidth": 0,
             "ticks": ""
            },
            "colorscale": [
             [
              0,
              "#0d0887"
             ],
             [
              0.1111111111111111,
              "#46039f"
             ],
             [
              0.2222222222222222,
              "#7201a8"
             ],
             [
              0.3333333333333333,
              "#9c179e"
             ],
             [
              0.4444444444444444,
              "#bd3786"
             ],
             [
              0.5555555555555556,
              "#d8576b"
             ],
             [
              0.6666666666666666,
              "#ed7953"
             ],
             [
              0.7777777777777778,
              "#fb9f3a"
             ],
             [
              0.8888888888888888,
              "#fdca26"
             ],
             [
              1,
              "#f0f921"
             ]
            ],
            "type": "histogram2d"
           }
          ],
          "histogram2dcontour": [
           {
            "colorbar": {
             "outlinewidth": 0,
             "ticks": ""
            },
            "colorscale": [
             [
              0,
              "#0d0887"
             ],
             [
              0.1111111111111111,
              "#46039f"
             ],
             [
              0.2222222222222222,
              "#7201a8"
             ],
             [
              0.3333333333333333,
              "#9c179e"
             ],
             [
              0.4444444444444444,
              "#bd3786"
             ],
             [
              0.5555555555555556,
              "#d8576b"
             ],
             [
              0.6666666666666666,
              "#ed7953"
             ],
             [
              0.7777777777777778,
              "#fb9f3a"
             ],
             [
              0.8888888888888888,
              "#fdca26"
             ],
             [
              1,
              "#f0f921"
             ]
            ],
            "type": "histogram2dcontour"
           }
          ],
          "mesh3d": [
           {
            "colorbar": {
             "outlinewidth": 0,
             "ticks": ""
            },
            "type": "mesh3d"
           }
          ],
          "parcoords": [
           {
            "line": {
             "colorbar": {
              "outlinewidth": 0,
              "ticks": ""
             }
            },
            "type": "parcoords"
           }
          ],
          "pie": [
           {
            "automargin": true,
            "type": "pie"
           }
          ],
          "scatter": [
           {
            "fillpattern": {
             "fillmode": "overlay",
             "size": 10,
             "solidity": 0.2
            },
            "type": "scatter"
           }
          ],
          "scatter3d": [
           {
            "line": {
             "colorbar": {
              "outlinewidth": 0,
              "ticks": ""
             }
            },
            "marker": {
             "colorbar": {
              "outlinewidth": 0,
              "ticks": ""
             }
            },
            "type": "scatter3d"
           }
          ],
          "scattercarpet": [
           {
            "marker": {
             "colorbar": {
              "outlinewidth": 0,
              "ticks": ""
             }
            },
            "type": "scattercarpet"
           }
          ],
          "scattergeo": [
           {
            "marker": {
             "colorbar": {
              "outlinewidth": 0,
              "ticks": ""
             }
            },
            "type": "scattergeo"
           }
          ],
          "scattergl": [
           {
            "marker": {
             "colorbar": {
              "outlinewidth": 0,
              "ticks": ""
             }
            },
            "type": "scattergl"
           }
          ],
          "scattermapbox": [
           {
            "marker": {
             "colorbar": {
              "outlinewidth": 0,
              "ticks": ""
             }
            },
            "type": "scattermapbox"
           }
          ],
          "scatterpolar": [
           {
            "marker": {
             "colorbar": {
              "outlinewidth": 0,
              "ticks": ""
             }
            },
            "type": "scatterpolar"
           }
          ],
          "scatterpolargl": [
           {
            "marker": {
             "colorbar": {
              "outlinewidth": 0,
              "ticks": ""
             }
            },
            "type": "scatterpolargl"
           }
          ],
          "scatterternary": [
           {
            "marker": {
             "colorbar": {
              "outlinewidth": 0,
              "ticks": ""
             }
            },
            "type": "scatterternary"
           }
          ],
          "surface": [
           {
            "colorbar": {
             "outlinewidth": 0,
             "ticks": ""
            },
            "colorscale": [
             [
              0,
              "#0d0887"
             ],
             [
              0.1111111111111111,
              "#46039f"
             ],
             [
              0.2222222222222222,
              "#7201a8"
             ],
             [
              0.3333333333333333,
              "#9c179e"
             ],
             [
              0.4444444444444444,
              "#bd3786"
             ],
             [
              0.5555555555555556,
              "#d8576b"
             ],
             [
              0.6666666666666666,
              "#ed7953"
             ],
             [
              0.7777777777777778,
              "#fb9f3a"
             ],
             [
              0.8888888888888888,
              "#fdca26"
             ],
             [
              1,
              "#f0f921"
             ]
            ],
            "type": "surface"
           }
          ],
          "table": [
           {
            "cells": {
             "fill": {
              "color": "#EBF0F8"
             },
             "line": {
              "color": "white"
             }
            },
            "header": {
             "fill": {
              "color": "#C8D4E3"
             },
             "line": {
              "color": "white"
             }
            },
            "type": "table"
           }
          ]
         },
         "layout": {
          "annotationdefaults": {
           "arrowcolor": "#2a3f5f",
           "arrowhead": 0,
           "arrowwidth": 1
          },
          "autotypenumbers": "strict",
          "coloraxis": {
           "colorbar": {
            "outlinewidth": 0,
            "ticks": ""
           }
          },
          "colorscale": {
           "diverging": [
            [
             0,
             "#8e0152"
            ],
            [
             0.1,
             "#c51b7d"
            ],
            [
             0.2,
             "#de77ae"
            ],
            [
             0.3,
             "#f1b6da"
            ],
            [
             0.4,
             "#fde0ef"
            ],
            [
             0.5,
             "#f7f7f7"
            ],
            [
             0.6,
             "#e6f5d0"
            ],
            [
             0.7,
             "#b8e186"
            ],
            [
             0.8,
             "#7fbc41"
            ],
            [
             0.9,
             "#4d9221"
            ],
            [
             1,
             "#276419"
            ]
           ],
           "sequential": [
            [
             0,
             "#0d0887"
            ],
            [
             0.1111111111111111,
             "#46039f"
            ],
            [
             0.2222222222222222,
             "#7201a8"
            ],
            [
             0.3333333333333333,
             "#9c179e"
            ],
            [
             0.4444444444444444,
             "#bd3786"
            ],
            [
             0.5555555555555556,
             "#d8576b"
            ],
            [
             0.6666666666666666,
             "#ed7953"
            ],
            [
             0.7777777777777778,
             "#fb9f3a"
            ],
            [
             0.8888888888888888,
             "#fdca26"
            ],
            [
             1,
             "#f0f921"
            ]
           ],
           "sequentialminus": [
            [
             0,
             "#0d0887"
            ],
            [
             0.1111111111111111,
             "#46039f"
            ],
            [
             0.2222222222222222,
             "#7201a8"
            ],
            [
             0.3333333333333333,
             "#9c179e"
            ],
            [
             0.4444444444444444,
             "#bd3786"
            ],
            [
             0.5555555555555556,
             "#d8576b"
            ],
            [
             0.6666666666666666,
             "#ed7953"
            ],
            [
             0.7777777777777778,
             "#fb9f3a"
            ],
            [
             0.8888888888888888,
             "#fdca26"
            ],
            [
             1,
             "#f0f921"
            ]
           ]
          },
          "colorway": [
           "#636efa",
           "#EF553B",
           "#00cc96",
           "#ab63fa",
           "#FFA15A",
           "#19d3f3",
           "#FF6692",
           "#B6E880",
           "#FF97FF",
           "#FECB52"
          ],
          "font": {
           "color": "#2a3f5f"
          },
          "geo": {
           "bgcolor": "white",
           "lakecolor": "white",
           "landcolor": "#E5ECF6",
           "showlakes": true,
           "showland": true,
           "subunitcolor": "white"
          },
          "hoverlabel": {
           "align": "left"
          },
          "hovermode": "closest",
          "mapbox": {
           "style": "light"
          },
          "paper_bgcolor": "white",
          "plot_bgcolor": "#E5ECF6",
          "polar": {
           "angularaxis": {
            "gridcolor": "white",
            "linecolor": "white",
            "ticks": ""
           },
           "bgcolor": "#E5ECF6",
           "radialaxis": {
            "gridcolor": "white",
            "linecolor": "white",
            "ticks": ""
           }
          },
          "scene": {
           "xaxis": {
            "backgroundcolor": "#E5ECF6",
            "gridcolor": "white",
            "gridwidth": 2,
            "linecolor": "white",
            "showbackground": true,
            "ticks": "",
            "zerolinecolor": "white"
           },
           "yaxis": {
            "backgroundcolor": "#E5ECF6",
            "gridcolor": "white",
            "gridwidth": 2,
            "linecolor": "white",
            "showbackground": true,
            "ticks": "",
            "zerolinecolor": "white"
           },
           "zaxis": {
            "backgroundcolor": "#E5ECF6",
            "gridcolor": "white",
            "gridwidth": 2,
            "linecolor": "white",
            "showbackground": true,
            "ticks": "",
            "zerolinecolor": "white"
           }
          },
          "shapedefaults": {
           "line": {
            "color": "#2a3f5f"
           }
          },
          "ternary": {
           "aaxis": {
            "gridcolor": "white",
            "linecolor": "white",
            "ticks": ""
           },
           "baxis": {
            "gridcolor": "white",
            "linecolor": "white",
            "ticks": ""
           },
           "bgcolor": "#E5ECF6",
           "caxis": {
            "gridcolor": "white",
            "linecolor": "white",
            "ticks": ""
           }
          },
          "title": {
           "x": 0.05
          },
          "xaxis": {
           "automargin": true,
           "gridcolor": "white",
           "linecolor": "white",
           "ticks": "",
           "title": {
            "standoff": 15
           },
           "zerolinecolor": "white",
           "zerolinewidth": 2
          },
          "yaxis": {
           "automargin": true,
           "gridcolor": "white",
           "linecolor": "white",
           "ticks": "",
           "title": {
            "standoff": 15
           },
           "zerolinecolor": "white",
           "zerolinewidth": 2
          }
         }
        },
        "title": {
         "text": "Evolução da Potência Instalada Total (KW) por Estado"
        },
        "xaxis": {
         "anchor": "y",
         "domain": [
          0,
          1
         ],
         "title": {
          "text": "Ano"
         }
        },
        "yaxis": {
         "anchor": "x",
         "domain": [
          0,
          1
         ],
         "title": {
          "text": "Potência Instalada Total (KW)"
         }
        }
       }
      }
     },
     "metadata": {},
     "output_type": "display_data"
    }
   ],
   "source": [
    "# Somatório de crescimento de Potencia instalada KW por\n",
    "\n",
    "import pandas as pd\n",
    "import plotly.express as px\n",
    "import plotly.graph_objects as go\n",
    "\n",
    "\n",
    "# Manipulações para Gráfico 2 - evolução temporal da Potência Instalada Total (KW) por Estado;\n",
    "df['Mes'] = pd.DatetimeIndex(df['DthAtualizaCadastralEmpreend']).month\n",
    "df['Ano'] = pd.DatetimeIndex(df['DthAtualizaCadastralEmpreend']).year\n",
    "df['NumCPFCNPJ'] = pd.to_numeric(df['NumCPFCNPJ'], errors='coerce')\n",
    "df['MdaPotenciaInstaladaKW'] = df['MdaPotenciaInstaladaKW'].astype('str')\n",
    "df['MdaPotenciaInstaladaKW'] = df['MdaPotenciaInstaladaKW'].str.replace(',', '.')\n",
    "df['MdaPotenciaInstaladaKW'] = pd.to_numeric(df['MdaPotenciaInstaladaKW'], errors='coerce')\n",
    "\n",
    "# Agrupar dados e somar as potências instaladas\n",
    "counts2 = df.groupby(['Ano', 'SigUF']).agg({'MdaPotenciaInstaladaKW': 'sum', 'NumCPFCNPJ': 'sum'}).reset_index()\n",
    "\n",
    "# Adicionar coluna com o somatório da potência instalada ao longo do tempo\n",
    "counts2['PotenciaCumulativa'] = counts2.groupby(['SigUF'])['MdaPotenciaInstaladaKW'].cumsum()\n",
    "counts2['Crescimento'] = counts2.groupby('SigUF')['MdaPotenciaInstaladaKW'].pct_change()\n",
    "\n",
    "# Criar o gráfico de dispersão\n",
    "fig2 = px.bar(counts2, x='Ano', y='PotenciaCumulativa', color='SigUF', facet_col_wrap=2,\n",
    "               barmode='relative')\n",
    "# Atualizar o layout do gráfico\n",
    "fig2.update_layout(\n",
    "    title='Evolução da Potência Instalada Total (KW) por Estado',\n",
    "    xaxis_title='Ano',\n",
    "    yaxis_title='Potência Instalada Total (KW)',\n",
    "    legend_title='Estado',\n",
    "    font=dict(size=14),\n",
    "    hovermode='x unified'\n",
    ")\n",
    "\n",
    "# Adicionar a linha de tendência para o crescimento médio de cada estado\n",
    "\n",
    "\n",
    "# acrescentar card com KPI por estado\n",
    "#tabela_crescimento = counts2.groupby(['SigUF', 'Ano'])['Crescimento'].mean().unstack()\n",
    "#print(tabela_crescimento)\n",
    "\n",
    "# Mostrar o gráfico\n",
    "fig2.show()"
   ]
  },
  {
   "cell_type": "code",
   "execution_count": null,
   "id": "ab9aa329",
   "metadata": {},
   "outputs": [],
   "source": []
  },
  {
   "cell_type": "code",
   "execution_count": 128,
   "id": "8467696f",
   "metadata": {},
   "outputs": [],
   "source": [
    "# Regressão Linear: um modelo que tenta ajustar uma reta aos pontos de dados para prever o valor de uma variável dependente (potência instalada total) com base em uma ou mais variáveis independentes (como ano, estado, município, entre outras).\n",
    "\n",
    "# prever crescimento em Potencia Instalada Total nos próximos 12 meses de estados e municípios  relacionando com dados da API IBGE"
   ]
  },
  {
   "cell_type": "code",
   "execution_count": 145,
   "id": "b7e48e86",
   "metadata": {},
   "outputs": [
    {
     "ename": "KeyError",
     "evalue": "'localidade'",
     "output_type": "error",
     "traceback": [
      "\u001b[1;31m---------------------------------------------------------------------------\u001b[0m",
      "\u001b[1;31mKeyError\u001b[0m                                  Traceback (most recent call last)",
      "\u001b[1;32m~\\AppData\\Local\\Temp\\ipykernel_7124\\4029344053.py\u001b[0m in \u001b[0;36m<module>\u001b[1;34m\u001b[0m\n\u001b[0;32m     45\u001b[0m \u001b[1;33m\u001b[0m\u001b[0m\n\u001b[0;32m     46\u001b[0m \u001b[0mgc\u001b[0m \u001b[1;33m=\u001b[0m \u001b[0mGenerateCSV\u001b[0m\u001b[1;33m(\u001b[0m\u001b[1;33m)\u001b[0m\u001b[1;33m\u001b[0m\u001b[1;33m\u001b[0m\u001b[0m\n\u001b[1;32m---> 47\u001b[1;33m \u001b[0mdf_ibge\u001b[0m \u001b[1;33m=\u001b[0m \u001b[0mgc\u001b[0m\u001b[1;33m.\u001b[0m\u001b[0mget_states_data\u001b[0m\u001b[1;33m(\u001b[0m\u001b[1;33m)\u001b[0m\u001b[1;33m\u001b[0m\u001b[1;33m\u001b[0m\u001b[0m\n\u001b[0m\u001b[0;32m     48\u001b[0m \u001b[0mprint\u001b[0m\u001b[1;33m(\u001b[0m\u001b[0mdf_ibge\u001b[0m\u001b[1;33m)\u001b[0m\u001b[1;33m\u001b[0m\u001b[1;33m\u001b[0m\u001b[0m\n",
      "\u001b[1;32m~\\AppData\\Local\\Temp\\ipykernel_7124\\4029344053.py\u001b[0m in \u001b[0;36mget_states_data\u001b[1;34m(self)\u001b[0m\n\u001b[0;32m     39\u001b[0m         \u001b[0mdf_ibge\u001b[0m \u001b[1;33m=\u001b[0m \u001b[0mpd\u001b[0m\u001b[1;33m.\u001b[0m\u001b[0mDataFrame\u001b[0m\u001b[1;33m(\u001b[0m\u001b[1;33m)\u001b[0m\u001b[1;33m\u001b[0m\u001b[1;33m\u001b[0m\u001b[0m\n\u001b[0;32m     40\u001b[0m         \u001b[1;32mfor\u001b[0m \u001b[0mstate\u001b[0m \u001b[1;32min\u001b[0m \u001b[0mstates\u001b[0m\u001b[1;33m:\u001b[0m\u001b[1;33m\u001b[0m\u001b[1;33m\u001b[0m\u001b[0m\n\u001b[1;32m---> 41\u001b[1;33m             \u001b[0mstate_data\u001b[0m \u001b[1;33m=\u001b[0m \u001b[0mself\u001b[0m\u001b[1;33m.\u001b[0m\u001b[0mget_state\u001b[0m\u001b[1;33m(\u001b[0m\u001b[0mstate\u001b[0m\u001b[1;33m)\u001b[0m\u001b[1;33m\u001b[0m\u001b[1;33m\u001b[0m\u001b[0m\n\u001b[0m\u001b[0;32m     42\u001b[0m             \u001b[0mstate_data\u001b[0m\u001b[1;33m[\u001b[0m\u001b[1;34m'Estado'\u001b[0m\u001b[1;33m]\u001b[0m \u001b[1;33m=\u001b[0m \u001b[0mstate\u001b[0m\u001b[1;33m\u001b[0m\u001b[1;33m\u001b[0m\u001b[0m\n\u001b[0;32m     43\u001b[0m             \u001b[0mdf_ibge\u001b[0m \u001b[1;33m=\u001b[0m \u001b[0mpd\u001b[0m\u001b[1;33m.\u001b[0m\u001b[0mconcat\u001b[0m\u001b[1;33m(\u001b[0m\u001b[1;33m[\u001b[0m\u001b[0mdf_ibge\u001b[0m\u001b[1;33m,\u001b[0m \u001b[0mstate_data\u001b[0m\u001b[1;33m]\u001b[0m\u001b[1;33m)\u001b[0m\u001b[1;33m\u001b[0m\u001b[1;33m\u001b[0m\u001b[0m\n",
      "\u001b[1;32m~\\AppData\\Local\\Temp\\ipykernel_7124\\4029344053.py\u001b[0m in \u001b[0;36mget_state\u001b[1;34m(self, state)\u001b[0m\n\u001b[0;32m     29\u001b[0m         \u001b[0mdata\u001b[0m \u001b[1;33m=\u001b[0m \u001b[1;33m[\u001b[0m\u001b[1;33m]\u001b[0m\u001b[1;33m\u001b[0m\u001b[1;33m\u001b[0m\u001b[0m\n\u001b[0;32m     30\u001b[0m         \u001b[1;32mfor\u001b[0m \u001b[0mitem\u001b[0m \u001b[1;32min\u001b[0m \u001b[0mresponse_json\u001b[0m\u001b[1;33m:\u001b[0m\u001b[1;33m\u001b[0m\u001b[1;33m\u001b[0m\u001b[0m\n\u001b[1;32m---> 31\u001b[1;33m             \u001b[0mcity\u001b[0m \u001b[1;33m=\u001b[0m \u001b[0mitem\u001b[0m\u001b[1;33m[\u001b[0m\u001b[1;34m'localidade'\u001b[0m\u001b[1;33m]\u001b[0m\u001b[1;33m[\u001b[0m\u001b[1;34m'nome'\u001b[0m\u001b[1;33m]\u001b[0m\u001b[1;33m\u001b[0m\u001b[1;33m\u001b[0m\u001b[0m\n\u001b[0m\u001b[0;32m     32\u001b[0m             \u001b[0mpopulation\u001b[0m \u001b[1;33m=\u001b[0m \u001b[0mitem\u001b[0m\u001b[1;33m[\u001b[0m\u001b[1;34m'projecao'\u001b[0m\u001b[1;33m]\u001b[0m\u001b[1;33m[\u001b[0m\u001b[1;34m'populacao'\u001b[0m\u001b[1;33m]\u001b[0m\u001b[1;33m\u001b[0m\u001b[1;33m\u001b[0m\u001b[0m\n\u001b[0;32m     33\u001b[0m             \u001b[0mdata\u001b[0m\u001b[1;33m.\u001b[0m\u001b[0mappend\u001b[0m\u001b[1;33m(\u001b[0m\u001b[1;33m[\u001b[0m\u001b[0mcity\u001b[0m\u001b[1;33m,\u001b[0m \u001b[0mpopulation\u001b[0m\u001b[1;33m]\u001b[0m\u001b[1;33m)\u001b[0m\u001b[1;33m\u001b[0m\u001b[1;33m\u001b[0m\u001b[0m\n",
      "\u001b[1;31mKeyError\u001b[0m: 'localidade'"
     ]
    }
   ],
   "source": [
    "import requests\n",
    "import pandas as pd\n",
    "\n",
    "class GenerateCSV:\n",
    "    def export_csv(self, data, uf):\n",
    "        formatted_data = self._formatted_data(data)\n",
    "        csv = pd.DataFrame(formatted_data)\n",
    "        csv.to_csv(f'csv/{uf}.csv', header=['Cidade', 'Habitantes'], index=False)\n",
    "        print('Arquivo CSV criado com sucesso!')\n",
    "\n",
    "    def _formatted_data(self, data):\n",
    "        base = data[0]['resultados'][0]['series']\n",
    "        list_city = []\n",
    "        list_population = []\n",
    "\n",
    "        for x in range(0, len(base)):\n",
    "            list_city.append(base[x]['localidade']['nome'])\n",
    "            list_population.append(base[x]['serie']['2021'])\n",
    "        \n",
    "        response = list(zip(list_city, list_population))\n",
    "\n",
    "        return response\n",
    "\n",
    "    def get_state(self, state):\n",
    "        cod = {'RO': '11', 'AC': '12', 'AM': '13', 'RR': '14', 'PA': '15', 'AP': '16', 'TO': '17', 'MA': '21', 'PI': '22', 'CE': '23', 'RN': '24', 'PB': '25', 'PE': '26', 'AL': '27', 'SE': '28', 'BA': '29', 'MG': '31', 'ES': '32', 'RJ': '33', 'SP': '35', 'PR': '41', 'SC': '42', 'RS': '43', 'MS': '50', 'MT': '51', 'GO': '52', 'DF': '53'}.get(state.upper())\n",
    "        api = f'https://servicodados.ibge.gov.br/api/v3/agregados/6579/periodos/2021/variaveis/9324?localidades=N6[N3[{cod}]]'\n",
    "        response = requests.get(api)\n",
    "        response_json = response.json()\n",
    "        data = []\n",
    "        for item in response_json:\n",
    "            city = item['localidade']['nome']\n",
    "            population = item['projecao']['populacao']\n",
    "            data.append([city, population])\n",
    "        df2 = pd.DataFrame(data, columns=['Cidade', 'População'])\n",
    "        return df2\n",
    "    \n",
    "    def get_states_data(self):\n",
    "        states = ['RO', 'AC', 'AM', 'RR', 'PA', 'AP', 'TO', 'MA', 'PI', 'CE', 'RN', 'PB', 'PE', 'AL', 'SE', 'BA', 'MG', 'ES', 'RJ', 'SP', 'PR', 'SC', 'RS', 'MS', 'MT', 'GO', 'DF']\n",
    "        df_ibge = pd.DataFrame()\n",
    "        for state in states:\n",
    "            state_data = self.get_state(state)\n",
    "            state_data['Estado'] = state\n",
    "            df_ibge = pd.concat([df_ibge, state_data])\n",
    "        return df_ibge\n",
    "    \n",
    "gc = GenerateCSV()\n",
    "df_ibge = gc.get_states_data()\n",
    "print(df_ibge)"
   ]
  },
  {
   "cell_type": "code",
   "execution_count": null,
   "id": "6be5fa36",
   "metadata": {},
   "outputs": [],
   "source": []
  },
  {
   "cell_type": "code",
   "execution_count": null,
   "id": "f8d89ddd",
   "metadata": {},
   "outputs": [],
   "source": []
  },
  {
   "cell_type": "code",
   "execution_count": 226,
   "id": "281abcb5",
   "metadata": {},
   "outputs": [
    {
     "data": {
      "text/plain": [
       "Index(['_id', 'DatGeracaoConjuntoDados', 'AnmPeriodoReferencia',\n",
       "       'NumCNPJDistribuidora', 'SigAgente', 'NomAgente', 'CodClasseConsumo',\n",
       "       'DscClasseConsumo', 'CodSubGrupoTarifario', 'DscSubGrupoTarifario',\n",
       "       'codUFibge', 'SigUF', 'codRegiao', 'NomRegiao', 'CodMunicipioIbge',\n",
       "       'NomMunicipio', 'CodCEP', 'SigTipoConsumidor', 'NumCPFCNPJ',\n",
       "       'NomeTitularEmpreendimento', 'CodEmpreendimento',\n",
       "       'DthAtualizaCadastralEmpreend', 'SigModalidadeEmpreendimento',\n",
       "       'DscModalidadeHabilitado', 'QtdUCRecebeCredito', 'SigTipoGeracao',\n",
       "       'DscFonteGeracao', 'DscPorte', 'MdaPotenciaInstaladaKW',\n",
       "       'NumCoordNEmpreendimento', 'NumCoordEEmpreendimento', 'NomSubEstacao',\n",
       "       'NumCoordESub', 'NumCoordNSub', 'Bandeira', 'Nome_agente', 'Mes',\n",
       "       'Ano'],\n",
       "      dtype='object')"
      ]
     },
     "execution_count": 226,
     "metadata": {},
     "output_type": "execute_result"
    }
   ],
   "source": [
    "#Regressão Logística: um modelo utilizado para prever uma variável binária (como, por exemplo, se um município ou estado terá um crescimento acima ou abaixo da média) com base em uma ou mais variáveis independentes.\n",
    "\n",
    "#prever o formato de energia que terá maior crescimento em cada estado nos próximos 12 meses\n",
    "\n",
    "df.columns"
   ]
  },
  {
   "cell_type": "code",
   "execution_count": 227,
   "id": "09b090ad",
   "metadata": {},
   "outputs": [
    {
     "name": "stdout",
     "output_type": "stream",
     "text": [
      "          data   previsao\n",
      "0   2023-04-20  12.095902\n",
      "1   2023-05-20  12.095902\n",
      "2   2023-06-19  12.095902\n",
      "3   2023-07-19  12.095902\n",
      "4   2023-08-18  12.095902\n",
      "5   2023-09-17  12.095902\n",
      "6   2023-10-17  12.095902\n",
      "7   2023-11-16  12.095902\n",
      "8   2023-12-16  12.095902\n",
      "9   2024-01-15  12.095902\n",
      "10  2024-02-14  12.095902\n",
      "11  2024-03-15  12.095902\n"
     ]
    }
   ],
   "source": [
    "import pandas as pd\n",
    "from sklearn.linear_model import LinearRegression\n",
    "from datetime import datetime, timedelta\n",
    "\n",
    "# Selecionar as colunas necessárias para a análise\n",
    "df['MdaPotenciaInstaladaKW'] = df['MdaPotenciaInstaladaKW'].astype('str')\n",
    "df['MdaPotenciaInstaladaKW'] = df['MdaPotenciaInstaladaKW'].str.replace(',', '.')\n",
    "df['MdaPotenciaInstaladaKW'] = pd.to_numeric(df['MdaPotenciaInstaladaKW'], errors='coerce')\n",
    "df['DthAtualizaCadastralEmpreend'] = pd.to_datetime(df['DthAtualizaCadastralEmpreend'])\n",
    "df['DthAtualizaCadastralEmpreend'] = df['DthAtualizaCadastralEmpreend'].apply(lambda x: x.timestamp())\n",
    "\n",
    "X = df['DthAtualizaCadastralEmpreend'].values.reshape(-1, 1)\n",
    "y = df['MdaPotenciaInstaladaKW'].values\n",
    "\n",
    "# Instanciar o modelo de regressão linear\n",
    "model = LinearRegression()\n",
    "\n",
    "# Treinar o modelo com os dados selecionados\n",
    "model.fit(X, y)\n",
    "\n",
    "# Fazer a previsão para os próximos 12 meses\n",
    "previsao = model.predict([[df['DthAtualizaCadastralEmpreend'].max() + i] for i in range(1, 13)])\n",
    "\n",
    "# Criar um dataframe com as previsões\n",
    "data_atual = datetime.now()\n",
    "previsoes = []\n",
    "for i, p in enumerate(previsao):\n",
    "    data = (data_atual + timedelta(days=30*(i+1))).strftime('%Y-%m-%d')\n",
    "    previsoes.append({'data': data, 'previsao': p})\n",
    "df_previsoes = pd.DataFrame(previsoes)\n",
    "\n",
    "# Imprimir as previsões\n",
    "print(df_previsoes)\n",
    "\n",
    "\n",
    "no dataframe df os falores de MdaPotenciaInstaladaKW são segmentados por tipo de geração na coluna DscClasseConsumo, é possível segmentar a previsão pelo mesmo critério?"
   ]
  },
  {
   "cell_type": "code",
   "execution_count": 236,
   "id": "1d5feba5",
   "metadata": {},
   "outputs": [
    {
     "name": "stdout",
     "output_type": "stream",
     "text": [
      "Previsões para Comercial:\n",
      "          data   previsao\n",
      "0   2023-04-20  32.121854\n",
      "1   2023-05-20  32.121854\n",
      "2   2023-06-19  32.121854\n",
      "3   2023-07-19  32.121854\n",
      "4   2023-08-18  32.121854\n",
      "5   2023-09-17  32.121854\n",
      "6   2023-10-17  32.121854\n",
      "7   2023-11-16  32.121854\n",
      "8   2023-12-16  32.121854\n",
      "9   2024-01-15  32.121854\n",
      "10  2024-02-14  32.121854\n",
      "11  2024-03-15  32.121854\n",
      "Previsões para Industrial:\n",
      "          data   previsao\n",
      "0   2023-04-20  63.679409\n",
      "1   2023-05-20  63.679409\n",
      "2   2023-06-19  63.679409\n",
      "3   2023-07-19  63.679409\n",
      "4   2023-08-18  63.679409\n",
      "5   2023-09-17  63.679409\n",
      "6   2023-10-17  63.679409\n",
      "7   2023-11-16  63.679409\n",
      "8   2023-12-16  63.679409\n",
      "9   2024-01-15  63.679409\n",
      "10  2024-02-14  63.679409\n",
      "11  2024-03-15  63.679409\n",
      "Previsões para Poder Público:\n",
      "          data   previsao\n",
      "0   2023-04-20  51.436063\n",
      "1   2023-05-20  51.436063\n",
      "2   2023-06-19  51.436063\n",
      "3   2023-07-19  51.436063\n",
      "4   2023-08-18  51.436063\n",
      "5   2023-09-17  51.436063\n",
      "6   2023-10-17  51.436063\n",
      "7   2023-11-16  51.436063\n",
      "8   2023-12-16  51.436063\n",
      "9   2024-01-15  51.436063\n",
      "10  2024-02-14  51.436063\n",
      "11  2024-03-15  51.436063\n",
      "Previsões para Residencial:\n",
      "          data  previsao\n",
      "0   2023-04-20  7.857964\n",
      "1   2023-05-20  7.857964\n",
      "2   2023-06-19  7.857964\n",
      "3   2023-07-19  7.857964\n",
      "4   2023-08-18  7.857964\n",
      "5   2023-09-17  7.857964\n",
      "6   2023-10-17  7.857964\n",
      "7   2023-11-16  7.857964\n",
      "8   2023-12-16  7.857964\n",
      "9   2024-01-15  7.857964\n",
      "10  2024-02-14  7.857964\n",
      "11  2024-03-15  7.857964\n",
      "Previsões para Rural:\n",
      "          data   previsao\n",
      "0   2023-04-20  18.314226\n",
      "1   2023-05-20  18.314226\n",
      "2   2023-06-19  18.314226\n",
      "3   2023-07-19  18.314226\n",
      "4   2023-08-18  18.314226\n",
      "5   2023-09-17  18.314226\n",
      "6   2023-10-17  18.314226\n",
      "7   2023-11-16  18.314226\n",
      "8   2023-12-16  18.314226\n",
      "9   2024-01-15  18.314226\n",
      "10  2024-02-14  18.314226\n",
      "11  2024-03-15  18.314226\n",
      "Previsões para Serviço Público:\n",
      "          data   previsao\n",
      "0   2023-04-20  53.166667\n",
      "1   2023-05-20  53.166667\n",
      "2   2023-06-19  53.166667\n",
      "3   2023-07-19  53.166667\n",
      "4   2023-08-18  53.166667\n",
      "5   2023-09-17  53.166667\n",
      "6   2023-10-17  53.166667\n",
      "7   2023-11-16  53.166667\n",
      "8   2023-12-16  53.166667\n",
      "9   2024-01-15  53.166667\n",
      "10  2024-02-14  53.166667\n",
      "11  2024-03-15  53.166667\n",
      "Object `critério` not found.\n"
     ]
    }
   ],
   "source": [
    "import pandas as pd\n",
    "from sklearn.linear_model import LinearRegression\n",
    "from datetime import datetime, timedelta\n",
    "\n",
    "# Selecionar as colunas necessárias para a análise\n",
    "df['MdaPotenciaInstaladaKW'] = df['MdaPotenciaInstaladaKW'].astype('str')\n",
    "df['MdaPotenciaInstaladaKW'] = df['MdaPotenciaInstaladaKW'].str.replace(',', '.')\n",
    "df['MdaPotenciaInstaladaKW'] = pd.to_numeric(df['MdaPotenciaInstaladaKW'], errors='coerce')\n",
    "df['DthAtualizaCadastralEmpreend'] = pd.to_datetime(df['DthAtualizaCadastralEmpreend'])\n",
    "df['DthAtualizaCadastralEmpreend'] = df['DthAtualizaCadastralEmpreend'].apply(lambda x: x.timestamp())\n",
    "\n",
    "# Agrupar o dataframe por tipo de geração\n",
    "groups = df.groupby('DscClasseConsumo')\n",
    "\n",
    "# Criar um dicionário para armazenar as previsões de cada grupo\n",
    "predictions = {}\n",
    "\n",
    "# Iterar sobre os grupos e aplicar o modelo de regressão linear\n",
    "for name, group in groups:\n",
    "    X = group['DthAtualizaCadastralEmpreend'].values.reshape(-1, 1)\n",
    "    y = group['MdaPotenciaInstaladaKW'].values\n",
    "    \n",
    "    # Instanciar o modelo de regressão linear\n",
    "    model = LinearRegression()\n",
    "    \n",
    "    # Treinar o modelo com os dados selecionados\n",
    "    model.fit(X, y)\n",
    "    \n",
    "    # Fazer a previsão para os próximos 12 meses\n",
    "    previsao = model.predict([[group['DthAtualizaCadastralEmpreend'].max() + i] for i in range(1, 13)])\n",
    "    \n",
    "    # Criar um dataframe com as previsões\n",
    "    data_atual = datetime.now()\n",
    "    previsoes = []\n",
    "    for i, p in enumerate(previsao):\n",
    "        data = (data_atual + timedelta(days=30*(i+1))).strftime('%Y-%m-%d')\n",
    "        previsoes.append({'data': data, 'previsao': p})\n",
    "        \n",
    "    df_previsoes = pd.DataFrame(previsoes)\n",
    "    \n",
    "    # Armazenar o dataframe no dicionário com o nome do grupo como chave\n",
    "    predictions[name] = df_previsoes\n",
    "    \n",
    "# Imprimir as previsões de cada grupo\n",
    "for key, value in predictions.items():\n",
    "    print(f'Previsões para {key}:')\n",
    "    print(value)\n",
    "\n",
    "no dataframe df os falores de MdaPotenciaInstaladaKW são segmentados por estado na coluna DscClasseConsumo, é possível segmentar a previsão pelo mesmo critério?"
   ]
  },
  {
   "cell_type": "markdown",
   "metadata": {},
   "source": [
    "Existem diferentes maneiras de validar se suas previsões estão corretas. Uma maneira é aplicar seu modelo a outro conjunto de dados e verificar seu desempenho1. Você pode usar métricas como R-quadrado, erro quadrático médio ou erro absoluto médio para medir o quão bem seu modelo se ajusta aos novos dados. Você também pode plotar um gráfico de dispersão dos valores previstos versus os valores observados e ver o quão próximos eles estão de uma linha reta.\n",
    "\n",
    "Outra maneira é verificar as suposições da regressão linear, como linearidade, normalidade, homocedasticidade, independência dos erros e ausência de multicolinearidade2. Você pode usar gráficos diagnósticos como gráfico de resíduos, gráfico Q-Q, gráfico de alavancagem ou valores VIF (fator de inflação da variância) para testar essas suposições e ver se seu modelo precisa de algum ajuste.\n",
    "\n",
    "Uma terceira maneira é validar externamente seu modelo de previsão usando um método chamado calibração34. Isso envolve comparar as probabilidades previstas com os resultados observados em um novo conjunto de dados e ver o quão bem eles concordam. Você pode usar estatísticas como inclinação e interceptação da calibração ou gráficos como curva ou diagrama de confiabilidade da calibração para avaliar a calibração do seu modelo."
   ]
  },
  {
   "cell_type": "code",
   "execution_count": null,
   "id": "11cf5f40",
   "metadata": {},
   "outputs": [],
   "source": []
  },
  {
   "cell_type": "code",
   "execution_count": null,
   "id": "4fdf4808",
   "metadata": {},
   "outputs": [],
   "source": []
  },
  {
   "cell_type": "code",
   "execution_count": null,
   "id": "c107b74f",
   "metadata": {},
   "outputs": [],
   "source": []
  }
 ],
 "metadata": {
  "kernelspec": {
   "display_name": "Python 3 (ipykernel)",
   "language": "python",
   "name": "python3"
  },
  "language_info": {
   "codemirror_mode": {
    "name": "ipython",
    "version": 3
   },
   "file_extension": ".py",
   "mimetype": "text/x-python",
   "name": "python",
   "nbconvert_exporter": "python",
   "pygments_lexer": "ipython3",
   "version": "3.9.13"
  }
 },
 "nbformat": 4,
 "nbformat_minor": 5
}
