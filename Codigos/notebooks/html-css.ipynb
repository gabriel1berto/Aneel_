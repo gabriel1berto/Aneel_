{
 "cells": [
  {
   "attachments": {},
   "cell_type": "markdown",
   "id": "3181b92a",
   "metadata": {},
   "source": [
    "## 0. Boas práticas"
   ]
  },
  {
   "attachments": {},
   "cell_type": "markdown",
   "id": "b7f9cc7d",
   "metadata": {},
   "source": [
    "#### Boas práticas aplicadas:\n",
    "        - A versão só é finalizada com códigos comentados\n",
    "        - Operação no ambiente vistual definido\n",
    "        - Commit diário no git, independente de atualização finalizada.\n",
    "\n",
    "\n",
    "#### O ambiente de trabalho usado foi o aneel_energisa_3.8:\n",
    "        - Algumas bibliotecas não estavam atualizadas para py3.9\n",
    "        - Requirements.txt atualizados diariamenteapós cada etapa do projeto\n",
    "\n",
    "\n",
    "#### Commit no git\n",
    "        - Commit diário e comentado da pasta\n"
   ]
  },
  {
   "attachments": {},
   "cell_type": "markdown",
   "id": "2478860a",
   "metadata": {},
   "source": [
    "## 1. HTML\n",
    "#### (estrutura inicial)\n"
   ]
  },
  {
   "cell_type": "code",
   "execution_count": 2,
   "id": "259bec4b",
   "metadata": {},
   "outputs": [
    {
     "ename": "SyntaxError",
     "evalue": "invalid syntax (722869912.py, line 3)",
     "output_type": "error",
     "traceback": [
      "\u001b[1;36m  Cell \u001b[1;32mIn[2], line 3\u001b[1;36m\u001b[0m\n\u001b[1;33m    <html>: Define o início e o fim do documento HTML.\u001b[0m\n\u001b[1;37m    ^\u001b[0m\n\u001b[1;31mSyntaxError\u001b[0m\u001b[1;31m:\u001b[0m invalid syntax\n"
     ]
    }
   ],
   "source": [
    "# sintaxe html\n",
    "\n",
    "<html>: Define o início e o fim do documento HTML.\n",
    "<head>: Define o cabeçalho do documento, que pode incluir títulos, metadados, links para estilos e scripts, entre outras coisas.\n",
    "<title>: Define o título da página, que é exibido na guia do navegador.\n",
    "<body>: Define o corpo do documento, que contém todo o conteúdo visível na página.\n",
    "<h1>, <h2>, <h3>, <h4>, <h5>, <h6>: Define os títulos de diferentes níveis de importância, do mais importante (h1) ao menos importante (h6).\n",
    "<p>: Define um parágrafo de texto.\n",
    "<a>: Define um link para outra página ou para uma seção específica da mesma página.\n",
    "<img>: Exibe uma imagem na página.\n",
    "<ul>, <ol>: Define uma lista não ordenada e ordenada, respectivamente.\n",
    "<li>: Define um item em uma lista.\n",
    "<table>: Define uma tabela de dados.\n",
    "<tr>, <th>, <td>: Define uma linha de tabela, um cabeçalho de coluna e uma célula de dados, respectivamente.\n",
    "<form>: Define um formulário que pode ser preenchido pelo usuário e enviado para um servidor.\n",
    "<input>, <select>, <textarea>: Define elementos de formulário para entrada de texto, seleção de opções e entrada de texto de várias linhas, respectivamente.\n",
    "<button>: Define um botão clicável.\n",
    "<div>, <span>: São elementos genéricos que permitem agrupar e estilizar outros elementos em blocos (div) ou em linha (span)."
   ]
  },
  {
   "cell_type": "code",
   "execution_count": 1,
   "id": "b6008dfd",
   "metadata": {},
   "outputs": [
    {
     "ename": "SyntaxError",
     "evalue": "invalid syntax (991209114.py, line 1)",
     "output_type": "error",
     "traceback": [
      "\u001b[1;36m  Cell \u001b[1;32mIn[1], line 1\u001b[1;36m\u001b[0m\n\u001b[1;33m    <!DOCTYPE html> <!-- Define a versão do HTML utilizada -->\u001b[0m\n\u001b[1;37m    ^\u001b[0m\n\u001b[1;31mSyntaxError\u001b[0m\u001b[1;31m:\u001b[0m invalid syntax\n"
     ]
    }
   ],
   "source": [
    "https://nicepage.com/html5-template?term=dashboard\n",
    "https://freebiesbug.com/code-stuff/shards-dashboard-lite/\n",
    "https://colorlib.com/wp/free-admin-templates/"
   ]
  },
  {
   "attachments": {},
   "cell_type": "markdown",
   "metadata": {},
   "source": [
    "## 2. implementação de css"
   ]
  },
  {
   "attachments": {},
   "cell_type": "markdown",
   "id": "d312e08a",
   "metadata": {},
   "source": [
    "### 2.1 - ---"
   ]
  },
  {
   "attachments": {},
   "cell_type": "markdown",
   "id": "f5c12407",
   "metadata": {},
   "source": [
    "\n",
    " #### Análises realizadas : verificações obtidas\n",
    "    - Formato de dados: inicialmente, algumas colunas do DataFrame possuíam valores do tipo 'object', que foram atualizados para as classes corretas (e.g. 'datetime', 'float', 'int').\n",
    "    - Análise de valores vazios: não foi identificado um padrão de valores vazios no DataFrame, porém isso não deve ser um problema, uma vez que não pretendemos utilizá-los.\n",
    "    - Análise de valores nulos: também não foi identificado um padrão de valores nulos no DataFrame, o que não deve ser um problema para nossas análises.\n",
    "    - Análise de valores duplicados: felizmente, não encontramos valores duplicados no DataFrame, o que é sempre um bom sinal."
   ]
  },
  {
   "cell_type": "code",
   "execution_count": 3,
   "id": "75d21a86",
   "metadata": {},
   "outputs": [
    {
     "name": "stdout",
     "output_type": "stream",
     "text": [
      "Colunas duplicadas:  []\n",
      "Linhas duplicadas:  0\n",
      "                             +       %\n",
      "Nome_agente              32000  100.00\n",
      "Bandeira                 32000  100.00\n",
      "NumCoordNSub             31965   99.89\n",
      "NumCoordESub             31965   99.89\n",
      "NomSubEstacao            31965   99.89\n",
      "NumCoordEEmpreendimento  27814   86.92\n",
      "NumCoordNEmpreendimento  27814   86.92\n",
      "codRegiao                   49    0.15\n",
      "codUFibge                   49    0.15\n",
      "CodEmpreendimento            2    0.01\n"
     ]
    }
   ],
   "source": [
    "/* Definindo o estilo da fonte do corpo da página */\n",
    "body {\n",
    "\tfont-family: Arial, sans-serif;\n",
    "\tfont-size: 16px;\n",
    "\tline-height: 1.5;\n",
    "\tcolor: #333;\n",
    "\tbackground-color: #f5f5f5;\n",
    "}\n",
    "\n",
    "/* Definindo o estilo da tag h1 */\n",
    "h1 {\n",
    "\tfont-size: 32px;\n",
    "\tcolor: #333333;\n",
    "\tmargin-top: 0;\n",
    "\tmargin-bottom: 20px;\n",
    "}\n",
    "\n",
    "/* Definindo o estilo da tag h2 */\n",
    "h2 {\n",
    "\tfont-size: 24px;\n",
    "\tcolor: #333;\n",
    "\tmargin-top: 0;\n",
    "\tmargin-bottom: 10px;\n",
    "}\n",
    "\n",
    "/* Definindo o estilo da tag h3 */\n",
    "h3 {\n",
    "\tfont-size: 20px;\n",
    "\tcolor: #333;\n",
    "\tmargin-top: 0;\n",
    "\tmargin-bottom: 10px;\n",
    "}\n",
    "\n",
    "/* Definindo o estilo da tag p */\n",
    "p {\n",
    "\tmargin-top: 0;\n",
    "\tmargin-bottom: 10px;\n",
    "}\n",
    "\n",
    "/* Definindo o estilo da tag a */\n",
    "a {\n",
    "\tcolor: #007bff;\n",
    "\ttext-decoration: none;\n",
    "}\n",
    "\n",
    "/* Definindo o estilo da tag a quando passa o mouse por cima */\n",
    "a:hover {\n",
    "\tcolor: #0056b3;\n",
    "\ttext-decoration: underline;\n",
    "}\n",
    "\n",
    "/* Definindo o estilo da tag button */\n",
    "button {\n",
    "\tdisplay: inline-block;\n",
    "\tpadding: 10px 20px;\n",
    "\tfont-size: 16px;\n",
    "\tfont-weight: bold;\n",
    "\tcolor: #fff;\n",
    "\tbackground-color: #007bff;\n",
    "\tborder: none;\n",
    "\tborder-radius: 5px;\n",
    "\tcursor: pointer;\n",
    "}\n",
    "\n",
    "/* Definindo o estilo da tag form */\n",
    "form {\n",
    "\tmargin-bottom: 20px;\n",
    "}\n",
    "\n",
    "/* Definindo o estilo da tag input */\n",
    "input[type=\"text\"],\n",
    "input[type=\"email\"],\n",
    "input[type=\"password\"] {\n",
    "\tdisplay: block;\n",
    "\twidth: 100%;\n",
    "\tpadding: 10px;\n",
    "\tfont-size: 16px;\n",
    "\tline-height: 1.5;\n",
    "\tcolor: #333;\n",
    "\tbackground-color: #fff;\n",
    "\tborder: 1px solid #ccc;\n",
    "\tborder-radius: 5px;\n",
    "\tbox-sizing: border-box;\n",
    "\tmargin-top: 10px;\n",
    "\tmargin-bottom: 20px;\n",
    "}\n",
    "\n",
    "/* Definindo o estilo da tag label */\n",
    "label {\n",
    "\tdisplay: block;\n",
    "\tfont-size: 16px;\n",
    "\tfont-weight: bold;\n",
    "\tcolor: #333;\n",
    "\tmargin-bottom: 5px;\n",
    "}\n",
    "\n",
    "/* Definindo o estilo da tag ul */\n",
    "ul {\n",
    "\tmargin: 0;\n",
    "\tpadding: 0;\n",
    "\tlist-style: none;\n",
    "}\n",
    "\n",
    "/* Definindo o estilo da tag li */\n",
    "li {\n",
    "\tmargin-bottom: 10px;\n",
    "}\n",
    "\n",
    "/* Definindo o estilo da tag table */\n",
    "table {\n",
    "\tborder-collapse: collapse;\n",
    "\twidth: 100%;\n",
    "}\n",
    "\n",
    "/* Definindo o estilo da tag th */\n",
    "th {\n",
    "\tfont-weight: bold;\n",
    "\ttext-align: left;\n",
    "\tborder-bottom: 2px solid #ccc;\n",
    "\tpadding: 10px;\n",
    "}\n",
    "\n",
    "/* Definindo o estilo da tag td */\n",
    "td {\n",
    "\tpadding: 10px;\n",
    "\tborder-bottom: 1px solid #ccc;\n",
    "}\n"
   ]
  },
  {
   "attachments": {},
   "cell_type": "markdown",
   "id": "d2e66a23",
   "metadata": {},
   "source": [
    "##### Objetivo principal: Estudar a serie temporal de novos usuários nos fatores\n",
    "        - Conhecer os dados (tendências, sazonalidades, resíduos, autocorrelações, distribuição e outliers)\n",
    "        - Definir os objetivos da previsão (interpretabilidade, simplicidade, escalabilidade, robustez)\n",
    "        - Teste e validação\n",
    "\n",
    "        \n",
    "\n",
    "##### Resultados obtidos com o estudo dos dados\n",
    " - Tendencia: crescente contínua\n",
    " - Sazonalidade: não há sazonalidade significativa nos dados, ou seja, não há padrões claros de repetição ao longo do tempo.\n",
    " - Resíduo: O gráfico não apresentou padrões significativos\n",
    " - Estacionariedade ADF: não podemos afirmar com certeza se a série é estacionária pois p valor p é 0.495 (49,5% de prob. serie ser estacionária)\n",
    " - Estacionariedade kpss: NÃO ESTACIONÁRIA, KPSS = 5,67, o que é maior que o valor crítico de 1% (0,74)\n",
    " - Autocorrelação:\n",
    " - Autocorrelação parcial: \n",
    " - Distribuição:\n",
    " - Outliers:"
   ]
  },
  {
   "cell_type": "code",
   "execution_count": null,
   "id": "5bd7f3e3",
   "metadata": {},
   "outputs": [],
   "source": []
  }
 ],
 "metadata": {
  "kernelspec": {
   "display_name": "aneel_energisa_3.8",
   "language": "python",
   "name": "python3"
  },
  "language_info": {
   "codemirror_mode": {
    "name": "ipython",
    "version": 3
   },
   "file_extension": ".py",
   "mimetype": "text/x-python",
   "name": "python",
   "nbconvert_exporter": "python",
   "pygments_lexer": "ipython3",
   "version": "3.8.16"
  },
  "vscode": {
   "interpreter": {
    "hash": "58d1f84db85b6d25e9bce9d0924d055311cc5daa7767bfc00c45d846a8a70090"
   }
  }
 },
 "nbformat": 4,
 "nbformat_minor": 5
}
