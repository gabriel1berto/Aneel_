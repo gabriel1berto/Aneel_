{
 "cells": [
  {
   "cell_type": "code",
   "execution_count": null,
   "id": "854f956e",
   "metadata": {},
   "outputs": [],
   "source": []
  },
  {
   "cell_type": "code",
   "execution_count": 502,
   "id": "b6008dfd",
   "metadata": {},
   "outputs": [
    {
     "name": "stdout",
     "output_type": "stream",
     "text": [
      "Requisição bem sucedida\n"
     ]
    }
   ],
   "source": [
    "# importa bibliotecas\n",
    "import requests\n",
    "import pandas as pd\n",
    "\n",
    "# define url incrementada para requisição de api (ate 1.000.000 registros)\n",
    "url = \"https://dadosabertos.aneel.gov.br/api/action/datastore_search?resource_id=b1bd71e7-d0ad-4214-9053-cbd58e9564a7&limit=1000000\"\n",
    "\n",
    "# tempo máximo de espera para a resposta da requisição\n",
    "timeout_seconds = 100   \n",
    "\n",
    "# Obter os dados da API\n",
    "def get_data(url, timeout_seconds):\n",
    "    try:\n",
    "        # Requisição GET com o tempo limite definido\n",
    "        response = requests.get(url, timeout=timeout_seconds)\n",
    "\n",
    "        #  Verifica erros HTTP\n",
    "        response.raise_for_status()\n",
    "    except requests.exceptions.RequestException as e:\n",
    "        print(\"Erro ao obter os dados:\", e)\n",
    "        return None\n",
    "\n",
    "    # Código de status da resposta HTTP=200, indicando que a requisição foi bem sucedida\n",
    "    if response.status_code == 200:\n",
    "        # Em caso de sucesso, obtenha os dados em formato JSON e imprima \"Requisição bem sucedida\"\n",
    "        data = response.json()\n",
    "        print(\"Requisição bem sucedida\")\n",
    "\n",
    "        # Verificar resposta da API\n",
    "        if data[\"success\"]:\n",
    "            # Gera lista de registros e a lista de colunas\n",
    "            records = data[\"result\"][\"records\"]\n",
    "            columns = data[\"result\"][\"fields\"]\n",
    "\n",
    "            # Adiciona as colunas \"Bandeira\" e \"Nome_agente\" na lista de colunas\n",
    "            columns.append({\"id\": \"Bandeira\", \"type\": \"text\"})\n",
    "            columns.append({\"id\": \"Nome_agente\", \"type\": \"text\"})\n",
    "\n",
    "            # Cria o DataFrame\n",
    "            df = pd.DataFrame.from_records(records, columns=[c[\"id\"] for c in columns])\n",
    "\n",
    "            # Retorne o DataFrame criado\n",
    "            return df\n",
    "        else:\n",
    "            # Em caso de erro, imprir uma mensagem de aviso e retorne None\n",
    "            print(\"A API não retornou dados.\")\n",
    "            return None\n",
    "    else:\n",
    "        # Se o código de status da resposta HTTP for diferente de 200, trate o erro de acordo com o código\n",
    "        if response.status_code == 400:\n",
    "            print(\"Requisição mal formada.\")\n",
    "        elif response.status_code == 401:\n",
    "            print(\"Não autorizado.\")\n",
    "        elif response.status_code == 403:\n",
    "            print(\"Acesso proibido.\")\n",
    "        elif response.status_code == 404:\n",
    "            print(\"Recurso não encontrado.\") \n",
    "        elif response.status_code == 500:\n",
    "            print(\"Erro interno do servidor.\")\n",
    "        else:\n",
    "            print(\"Erro desconhecido ao obter os dados.\")\n",
    "\n",
    "        return None\n",
    "\n",
    "# Chame a função get_data para obter um DataFrame com os dados da API\n",
    "df = get_data(url, timeout_seconds)"
   ]
  },
  {
   "cell_type": "code",
   "execution_count": 509,
   "id": "91012b3c",
   "metadata": {},
   "outputs": [
    {
     "data": {
      "application/vnd.plotly.v1+json": {
       "config": {
        "plotlyServerURL": "https://plot.ly"
       },
       "data": [
        {
         "alignmentgroup": "True",
         "hovertemplate": "DscClasseConsumo=Industrial<br>SigUF=BA<br>Ano=%{x}<br>NumCPFCNPJ=%{y}<extra></extra>",
         "legendgroup": "Industrial",
         "marker": {
          "color": "#636efa",
          "pattern": {
           "shape": ""
          }
         },
         "name": "Industrial",
         "offsetgroup": "Industrial",
         "orientation": "v",
         "showlegend": true,
         "textposition": "auto",
         "type": "bar",
         "x": [
          2012,
          2014,
          2016,
          2017,
          2018,
          2021,
          2023
         ],
         "xaxis": "x",
         "y": [
          1,
          1,
          2,
          2,
          7,
          1,
          1
         ],
         "yaxis": "y"
        },
        {
         "alignmentgroup": "True",
         "hovertemplate": "DscClasseConsumo=Residencial<br>SigUF=BA<br>Ano=%{x}<br>NumCPFCNPJ=%{y}<extra></extra>",
         "legendgroup": "Residencial",
         "marker": {
          "color": "#EF553B",
          "pattern": {
           "shape": ""
          }
         },
         "name": "Residencial",
         "offsetgroup": "Residencial",
         "orientation": "v",
         "showlegend": true,
         "textposition": "auto",
         "type": "bar",
         "x": [
          2013,
          2014,
          2015,
          2016,
          2017,
          2018,
          2019,
          2020,
          2021,
          2022,
          2023
         ],
         "xaxis": "x",
         "y": [
          1,
          8,
          27,
          77,
          184,
          194,
          3,
          3,
          2,
          4,
          1
         ],
         "yaxis": "y"
        },
        {
         "alignmentgroup": "True",
         "hovertemplate": "DscClasseConsumo=Comercial<br>SigUF=BA<br>Ano=%{x}<br>NumCPFCNPJ=%{y}<extra></extra>",
         "legendgroup": "Comercial",
         "marker": {
          "color": "#00cc96",
          "pattern": {
           "shape": ""
          }
         },
         "name": "Comercial",
         "offsetgroup": "Comercial",
         "orientation": "v",
         "showlegend": true,
         "textposition": "auto",
         "type": "bar",
         "x": [
          2014,
          2015,
          2016,
          2017,
          2018,
          2019,
          2020,
          2021,
          2022
         ],
         "xaxis": "x",
         "y": [
          6,
          8,
          23,
          73,
          47,
          1,
          1,
          1,
          1
         ],
         "yaxis": "y"
        },
        {
         "alignmentgroup": "True",
         "hovertemplate": "DscClasseConsumo=Poder Público<br>SigUF=BA<br>Ano=%{x}<br>NumCPFCNPJ=%{y}<extra></extra>",
         "legendgroup": "Poder Público",
         "marker": {
          "color": "#ab63fa",
          "pattern": {
           "shape": ""
          }
         },
         "name": "Poder Público",
         "offsetgroup": "Poder Público",
         "orientation": "v",
         "showlegend": true,
         "textposition": "auto",
         "type": "bar",
         "x": [
          2016,
          2017,
          2018
         ],
         "xaxis": "x",
         "y": [
          1,
          5,
          3
         ],
         "yaxis": "y"
        },
        {
         "alignmentgroup": "True",
         "hovertemplate": "DscClasseConsumo=Rural<br>SigUF=BA<br>Ano=%{x}<br>NumCPFCNPJ=%{y}<extra></extra>",
         "legendgroup": "Rural",
         "marker": {
          "color": "#FFA15A",
          "pattern": {
           "shape": ""
          }
         },
         "name": "Rural",
         "offsetgroup": "Rural",
         "orientation": "v",
         "showlegend": true,
         "textposition": "auto",
         "type": "bar",
         "x": [
          2016,
          2017,
          2018,
          2022
         ],
         "xaxis": "x",
         "y": [
          3,
          5,
          12,
          1
         ],
         "yaxis": "y"
        },
        {
         "alignmentgroup": "True",
         "hovertemplate": "DscClasseConsumo=Serviço Público<br>SigUF=BA<br>Ano=%{x}<br>NumCPFCNPJ=%{y}<extra></extra>",
         "legendgroup": "Serviço Público",
         "marker": {
          "color": "#19d3f3",
          "pattern": {
           "shape": ""
          }
         },
         "name": "Serviço Público",
         "offsetgroup": "Serviço Público",
         "orientation": "v",
         "showlegend": true,
         "textposition": "auto",
         "type": "bar",
         "x": [
          2022
         ],
         "xaxis": "x",
         "y": [
          1
         ],
         "yaxis": "y"
        }
       ],
       "frames": [
        {
         "data": [
          {
           "alignmentgroup": "True",
           "hovertemplate": "DscClasseConsumo=Industrial<br>SigUF=BA<br>Ano=%{x}<br>NumCPFCNPJ=%{y}<extra></extra>",
           "legendgroup": "Industrial",
           "marker": {
            "color": "#636efa",
            "pattern": {
             "shape": ""
            }
           },
           "name": "Industrial",
           "offsetgroup": "Industrial",
           "orientation": "v",
           "showlegend": true,
           "textposition": "auto",
           "type": "bar",
           "x": [
            2012,
            2014,
            2016,
            2017,
            2018,
            2021,
            2023
           ],
           "xaxis": "x",
           "y": [
            1,
            1,
            2,
            2,
            7,
            1,
            1
           ],
           "yaxis": "y"
          },
          {
           "alignmentgroup": "True",
           "hovertemplate": "DscClasseConsumo=Residencial<br>SigUF=BA<br>Ano=%{x}<br>NumCPFCNPJ=%{y}<extra></extra>",
           "legendgroup": "Residencial",
           "marker": {
            "color": "#EF553B",
            "pattern": {
             "shape": ""
            }
           },
           "name": "Residencial",
           "offsetgroup": "Residencial",
           "orientation": "v",
           "showlegend": true,
           "textposition": "auto",
           "type": "bar",
           "x": [
            2013,
            2014,
            2015,
            2016,
            2017,
            2018,
            2019,
            2020,
            2021,
            2022,
            2023
           ],
           "xaxis": "x",
           "y": [
            1,
            8,
            27,
            77,
            184,
            194,
            3,
            3,
            2,
            4,
            1
           ],
           "yaxis": "y"
          },
          {
           "alignmentgroup": "True",
           "hovertemplate": "DscClasseConsumo=Comercial<br>SigUF=BA<br>Ano=%{x}<br>NumCPFCNPJ=%{y}<extra></extra>",
           "legendgroup": "Comercial",
           "marker": {
            "color": "#00cc96",
            "pattern": {
             "shape": ""
            }
           },
           "name": "Comercial",
           "offsetgroup": "Comercial",
           "orientation": "v",
           "showlegend": true,
           "textposition": "auto",
           "type": "bar",
           "x": [
            2014,
            2015,
            2016,
            2017,
            2018,
            2019,
            2020,
            2021,
            2022
           ],
           "xaxis": "x",
           "y": [
            6,
            8,
            23,
            73,
            47,
            1,
            1,
            1,
            1
           ],
           "yaxis": "y"
          },
          {
           "alignmentgroup": "True",
           "hovertemplate": "DscClasseConsumo=Poder Público<br>SigUF=BA<br>Ano=%{x}<br>NumCPFCNPJ=%{y}<extra></extra>",
           "legendgroup": "Poder Público",
           "marker": {
            "color": "#ab63fa",
            "pattern": {
             "shape": ""
            }
           },
           "name": "Poder Público",
           "offsetgroup": "Poder Público",
           "orientation": "v",
           "showlegend": true,
           "textposition": "auto",
           "type": "bar",
           "x": [
            2016,
            2017,
            2018
           ],
           "xaxis": "x",
           "y": [
            1,
            5,
            3
           ],
           "yaxis": "y"
          },
          {
           "alignmentgroup": "True",
           "hovertemplate": "DscClasseConsumo=Rural<br>SigUF=BA<br>Ano=%{x}<br>NumCPFCNPJ=%{y}<extra></extra>",
           "legendgroup": "Rural",
           "marker": {
            "color": "#FFA15A",
            "pattern": {
             "shape": ""
            }
           },
           "name": "Rural",
           "offsetgroup": "Rural",
           "orientation": "v",
           "showlegend": true,
           "textposition": "auto",
           "type": "bar",
           "x": [
            2016,
            2017,
            2018,
            2022
           ],
           "xaxis": "x",
           "y": [
            3,
            5,
            12,
            1
           ],
           "yaxis": "y"
          },
          {
           "alignmentgroup": "True",
           "hovertemplate": "DscClasseConsumo=Serviço Público<br>SigUF=BA<br>Ano=%{x}<br>NumCPFCNPJ=%{y}<extra></extra>",
           "legendgroup": "Serviço Público",
           "marker": {
            "color": "#19d3f3",
            "pattern": {
             "shape": ""
            }
           },
           "name": "Serviço Público",
           "offsetgroup": "Serviço Público",
           "orientation": "v",
           "showlegend": true,
           "textposition": "auto",
           "type": "bar",
           "x": [
            2022
           ],
           "xaxis": "x",
           "y": [
            1
           ],
           "yaxis": "y"
          }
         ],
         "name": "BA"
        },
        {
         "data": [
          {
           "alignmentgroup": "True",
           "hovertemplate": "DscClasseConsumo=Industrial<br>SigUF=AC<br>Ano=%{x}<br>NumCPFCNPJ=%{y}<extra></extra>",
           "legendgroup": "Industrial",
           "marker": {
            "color": "#636efa",
            "pattern": {
             "shape": ""
            }
           },
           "name": "Industrial",
           "offsetgroup": "Industrial",
           "orientation": "v",
           "showlegend": true,
           "textposition": "auto",
           "type": "bar",
           "x": [
            2018,
            2019,
            2020,
            2021,
            2022,
            2023
           ],
           "xaxis": "x",
           "y": [
            1,
            1,
            3,
            5,
            6,
            1
           ],
           "yaxis": "y"
          },
          {
           "alignmentgroup": "True",
           "hovertemplate": "DscClasseConsumo=Residencial<br>SigUF=AC<br>Ano=%{x}<br>NumCPFCNPJ=%{y}<extra></extra>",
           "legendgroup": "Residencial",
           "marker": {
            "color": "#EF553B",
            "pattern": {
             "shape": ""
            }
           },
           "name": "Residencial",
           "offsetgroup": "Residencial",
           "orientation": "v",
           "showlegend": true,
           "textposition": "auto",
           "type": "bar",
           "x": [
            2015,
            2016,
            2017,
            2018,
            2019,
            2020,
            2021,
            2022,
            2023
           ],
           "xaxis": "x",
           "y": [
            1,
            1,
            12,
            22,
            93,
            410,
            1143,
            1498,
            310
           ],
           "yaxis": "y"
          },
          {
           "alignmentgroup": "True",
           "hovertemplate": "DscClasseConsumo=Comercial<br>SigUF=AC<br>Ano=%{x}<br>NumCPFCNPJ=%{y}<extra></extra>",
           "legendgroup": "Comercial",
           "marker": {
            "color": "#00cc96",
            "pattern": {
             "shape": ""
            }
           },
           "name": "Comercial",
           "offsetgroup": "Comercial",
           "orientation": "v",
           "showlegend": true,
           "textposition": "auto",
           "type": "bar",
           "x": [
            2015,
            2017,
            2018,
            2019,
            2020,
            2021,
            2022,
            2023
           ],
           "xaxis": "x",
           "y": [
            2,
            4,
            8,
            31,
            73,
            193,
            185,
            44
           ],
           "yaxis": "y"
          },
          {
           "alignmentgroup": "True",
           "hovertemplate": "DscClasseConsumo=Poder Público<br>SigUF=AC<br>Ano=%{x}<br>NumCPFCNPJ=%{y}<extra></extra>",
           "legendgroup": "Poder Público",
           "marker": {
            "color": "#ab63fa",
            "pattern": {
             "shape": ""
            }
           },
           "name": "Poder Público",
           "offsetgroup": "Poder Público",
           "orientation": "v",
           "showlegend": true,
           "textposition": "auto",
           "type": "bar",
           "x": [
            2019,
            2021,
            2022
           ],
           "xaxis": "x",
           "y": [
            1,
            4,
            4
           ],
           "yaxis": "y"
          },
          {
           "alignmentgroup": "True",
           "hovertemplate": "DscClasseConsumo=Rural<br>SigUF=AC<br>Ano=%{x}<br>NumCPFCNPJ=%{y}<extra></extra>",
           "legendgroup": "Rural",
           "marker": {
            "color": "#FFA15A",
            "pattern": {
             "shape": ""
            }
           },
           "name": "Rural",
           "offsetgroup": "Rural",
           "orientation": "v",
           "showlegend": true,
           "textposition": "auto",
           "type": "bar",
           "x": [
            2019,
            2020,
            2021,
            2022,
            2023
           ],
           "xaxis": "x",
           "y": [
            6,
            17,
            64,
            99,
            20
           ],
           "yaxis": "y"
          },
          {
           "alignmentgroup": "True",
           "hovertemplate": "DscClasseConsumo=Serviço Público<br>SigUF=AC<br>Ano=%{x}<br>NumCPFCNPJ=%{y}<extra></extra>",
           "legendgroup": "Serviço Público",
           "marker": {
            "color": "#19d3f3",
            "pattern": {
             "shape": ""
            }
           },
           "name": "Serviço Público",
           "offsetgroup": "Serviço Público",
           "orientation": "v",
           "showlegend": true,
           "textposition": "auto",
           "type": "bar",
           "x": [
            2020
           ],
           "xaxis": "x",
           "y": [
            1
           ],
           "yaxis": "y"
          }
         ],
         "name": "AC"
        },
        {
         "data": [
          {
           "alignmentgroup": "True",
           "hovertemplate": "DscClasseConsumo=Industrial<br>SigUF=AL<br>Ano=%{x}<br>NumCPFCNPJ=%{y}<extra></extra>",
           "legendgroup": "Industrial",
           "marker": {
            "color": "#636efa",
            "pattern": {
             "shape": ""
            }
           },
           "name": "Industrial",
           "offsetgroup": "Industrial",
           "orientation": "v",
           "showlegend": true,
           "textposition": "auto",
           "type": "bar",
           "x": [
            2016,
            2018,
            2019,
            2020,
            2021,
            2022,
            2023
           ],
           "xaxis": "x",
           "y": [
            1,
            4,
            10,
            18,
            24,
            54,
            14
           ],
           "yaxis": "y"
          },
          {
           "alignmentgroup": "True",
           "hovertemplate": "DscClasseConsumo=Residencial<br>SigUF=AL<br>Ano=%{x}<br>NumCPFCNPJ=%{y}<extra></extra>",
           "legendgroup": "Residencial",
           "marker": {
            "color": "#EF553B",
            "pattern": {
             "shape": ""
            }
           },
           "name": "Residencial",
           "offsetgroup": "Residencial",
           "orientation": "v",
           "showlegend": true,
           "textposition": "auto",
           "type": "bar",
           "x": [
            2015,
            2016,
            2017,
            2018,
            2019,
            2020,
            2021,
            2022,
            2023
           ],
           "xaxis": "x",
           "y": [
            1,
            12,
            31,
            134,
            439,
            1190,
            2770,
            6912,
            2531
           ],
           "yaxis": "y"
          },
          {
           "alignmentgroup": "True",
           "hovertemplate": "DscClasseConsumo=Comercial<br>SigUF=AL<br>Ano=%{x}<br>NumCPFCNPJ=%{y}<extra></extra>",
           "legendgroup": "Comercial",
           "marker": {
            "color": "#00cc96",
            "pattern": {
             "shape": ""
            }
           },
           "name": "Comercial",
           "offsetgroup": "Comercial",
           "orientation": "v",
           "showlegend": true,
           "textposition": "auto",
           "type": "bar",
           "x": [
            2015,
            2016,
            2017,
            2018,
            2019,
            2020,
            2021,
            2022,
            2023
           ],
           "xaxis": "x",
           "y": [
            3,
            1,
            13,
            36,
            154,
            337,
            614,
            1001,
            287
           ],
           "yaxis": "y"
          },
          {
           "alignmentgroup": "True",
           "hovertemplate": "DscClasseConsumo=Poder Público<br>SigUF=AL<br>Ano=%{x}<br>NumCPFCNPJ=%{y}<extra></extra>",
           "legendgroup": "Poder Público",
           "marker": {
            "color": "#ab63fa",
            "pattern": {
             "shape": ""
            }
           },
           "name": "Poder Público",
           "offsetgroup": "Poder Público",
           "orientation": "v",
           "showlegend": true,
           "textposition": "auto",
           "type": "bar",
           "x": [
            2019,
            2020,
            2021,
            2022,
            2023
           ],
           "xaxis": "x",
           "y": [
            2,
            23,
            18,
            14,
            4
           ],
           "yaxis": "y"
          },
          {
           "alignmentgroup": "True",
           "hovertemplate": "DscClasseConsumo=Rural<br>SigUF=AL<br>Ano=%{x}<br>NumCPFCNPJ=%{y}<extra></extra>",
           "legendgroup": "Rural",
           "marker": {
            "color": "#FFA15A",
            "pattern": {
             "shape": ""
            }
           },
           "name": "Rural",
           "offsetgroup": "Rural",
           "orientation": "v",
           "showlegend": true,
           "textposition": "auto",
           "type": "bar",
           "x": [
            2017,
            2018,
            2019,
            2020,
            2021,
            2022,
            2023
           ],
           "xaxis": "x",
           "y": [
            2,
            1,
            12,
            45,
            69,
            171,
            82
           ],
           "yaxis": "y"
          },
          {
           "alignmentgroup": "True",
           "hovertemplate": "DscClasseConsumo=Serviço Público<br>SigUF=AL<br>Ano=%{x}<br>NumCPFCNPJ=%{y}<extra></extra>",
           "legendgroup": "Serviço Público",
           "marker": {
            "color": "#19d3f3",
            "pattern": {
             "shape": ""
            }
           },
           "name": "Serviço Público",
           "offsetgroup": "Serviço Público",
           "orientation": "v",
           "showlegend": true,
           "textposition": "auto",
           "type": "bar",
           "x": [
            2021
           ],
           "xaxis": "x",
           "y": [
            2
           ],
           "yaxis": "y"
          }
         ],
         "name": "AL"
        },
        {
         "data": [
          {
           "alignmentgroup": "True",
           "hovertemplate": "DscClasseConsumo=Industrial<br>SigUF=AM<br>Ano=%{x}<br>NumCPFCNPJ=%{y}<extra></extra>",
           "legendgroup": "Industrial",
           "marker": {
            "color": "#636efa",
            "pattern": {
             "shape": ""
            }
           },
           "name": "Industrial",
           "offsetgroup": "Industrial",
           "orientation": "v",
           "showlegend": true,
           "textposition": "auto",
           "type": "bar",
           "x": [
            2016,
            2018,
            2019,
            2020,
            2021,
            2022,
            2023
           ],
           "xaxis": "x",
           "y": [
            1,
            1,
            3,
            10,
            20,
            27,
            7
           ],
           "yaxis": "y"
          },
          {
           "alignmentgroup": "True",
           "hovertemplate": "DscClasseConsumo=Residencial<br>SigUF=AM<br>Ano=%{x}<br>NumCPFCNPJ=%{y}<extra></extra>",
           "legendgroup": "Residencial",
           "marker": {
            "color": "#EF553B",
            "pattern": {
             "shape": ""
            }
           },
           "name": "Residencial",
           "offsetgroup": "Residencial",
           "orientation": "v",
           "showlegend": true,
           "textposition": "auto",
           "type": "bar",
           "x": [
            2016,
            2017,
            2018,
            2019,
            2020,
            2021,
            2022,
            2023
           ],
           "xaxis": "x",
           "y": [
            4,
            19,
            68,
            375,
            731,
            1277,
            2406,
            761
           ],
           "yaxis": "y"
          },
          {
           "alignmentgroup": "True",
           "hovertemplate": "DscClasseConsumo=Comercial<br>SigUF=AM<br>Ano=%{x}<br>NumCPFCNPJ=%{y}<extra></extra>",
           "legendgroup": "Comercial",
           "marker": {
            "color": "#00cc96",
            "pattern": {
             "shape": ""
            }
           },
           "name": "Comercial",
           "offsetgroup": "Comercial",
           "orientation": "v",
           "showlegend": true,
           "textposition": "auto",
           "type": "bar",
           "x": [
            2015,
            2017,
            2018,
            2019,
            2020,
            2021,
            2022,
            2023
           ],
           "xaxis": "x",
           "y": [
            2,
            1,
            10,
            46,
            131,
            266,
            403,
            84
           ],
           "yaxis": "y"
          },
          {
           "alignmentgroup": "True",
           "hovertemplate": "DscClasseConsumo=Poder Público<br>SigUF=AM<br>Ano=%{x}<br>NumCPFCNPJ=%{y}<extra></extra>",
           "legendgroup": "Poder Público",
           "marker": {
            "color": "#ab63fa",
            "pattern": {
             "shape": ""
            }
           },
           "name": "Poder Público",
           "offsetgroup": "Poder Público",
           "orientation": "v",
           "showlegend": true,
           "textposition": "auto",
           "type": "bar",
           "x": [
            2018,
            2019,
            2020,
            2021,
            2022,
            2023
           ],
           "xaxis": "x",
           "y": [
            1,
            1,
            4,
            5,
            4,
            1
           ],
           "yaxis": "y"
          },
          {
           "alignmentgroup": "True",
           "hovertemplate": "DscClasseConsumo=Rural<br>SigUF=AM<br>Ano=%{x}<br>NumCPFCNPJ=%{y}<extra></extra>",
           "legendgroup": "Rural",
           "marker": {
            "color": "#FFA15A",
            "pattern": {
             "shape": ""
            }
           },
           "name": "Rural",
           "offsetgroup": "Rural",
           "orientation": "v",
           "showlegend": true,
           "textposition": "auto",
           "type": "bar",
           "x": [
            2018,
            2019,
            2020,
            2021,
            2022,
            2023
           ],
           "xaxis": "x",
           "y": [
            1,
            3,
            4,
            14,
            15,
            10
           ],
           "yaxis": "y"
          }
         ],
         "name": "AM"
        },
        {
         "data": [
          {
           "alignmentgroup": "True",
           "hovertemplate": "DscClasseConsumo=Industrial<br>SigUF=AP<br>Ano=%{x}<br>NumCPFCNPJ=%{y}<extra></extra>",
           "legendgroup": "Industrial",
           "marker": {
            "color": "#636efa",
            "pattern": {
             "shape": ""
            }
           },
           "name": "Industrial",
           "offsetgroup": "Industrial",
           "orientation": "v",
           "showlegend": true,
           "textposition": "auto",
           "type": "bar",
           "x": [
            2021,
            2022
           ],
           "xaxis": "x",
           "y": [
            2,
            1
           ],
           "yaxis": "y"
          },
          {
           "alignmentgroup": "True",
           "hovertemplate": "DscClasseConsumo=Residencial<br>SigUF=AP<br>Ano=%{x}<br>NumCPFCNPJ=%{y}<extra></extra>",
           "legendgroup": "Residencial",
           "marker": {
            "color": "#EF553B",
            "pattern": {
             "shape": ""
            }
           },
           "name": "Residencial",
           "offsetgroup": "Residencial",
           "orientation": "v",
           "showlegend": true,
           "textposition": "auto",
           "type": "bar",
           "x": [
            2018,
            2019,
            2020,
            2021,
            2022,
            2023
           ],
           "xaxis": "x",
           "y": [
            35,
            84,
            115,
            412,
            839,
            568
           ],
           "yaxis": "y"
          },
          {
           "alignmentgroup": "True",
           "hovertemplate": "DscClasseConsumo=Comercial<br>SigUF=AP<br>Ano=%{x}<br>NumCPFCNPJ=%{y}<extra></extra>",
           "legendgroup": "Comercial",
           "marker": {
            "color": "#00cc96",
            "pattern": {
             "shape": ""
            }
           },
           "name": "Comercial",
           "offsetgroup": "Comercial",
           "orientation": "v",
           "showlegend": true,
           "textposition": "auto",
           "type": "bar",
           "x": [
            2018,
            2019,
            2020,
            2021,
            2022,
            2023
           ],
           "xaxis": "x",
           "y": [
            1,
            21,
            28,
            59,
            62,
            18
           ],
           "yaxis": "y"
          },
          {
           "alignmentgroup": "True",
           "hovertemplate": "DscClasseConsumo=Poder Público<br>SigUF=AP<br>Ano=%{x}<br>NumCPFCNPJ=%{y}<extra></extra>",
           "legendgroup": "Poder Público",
           "marker": {
            "color": "#ab63fa",
            "pattern": {
             "shape": ""
            }
           },
           "name": "Poder Público",
           "offsetgroup": "Poder Público",
           "orientation": "v",
           "showlegend": true,
           "textposition": "auto",
           "type": "bar",
           "x": [
            2017,
            2019,
            2020,
            2021,
            2022,
            2023
           ],
           "xaxis": "x",
           "y": [
            2,
            2,
            2,
            3,
            5,
            1
           ],
           "yaxis": "y"
          },
          {
           "alignmentgroup": "True",
           "hovertemplate": "DscClasseConsumo=Rural<br>SigUF=AP<br>Ano=%{x}<br>NumCPFCNPJ=%{y}<extra></extra>",
           "legendgroup": "Rural",
           "marker": {
            "color": "#FFA15A",
            "pattern": {
             "shape": ""
            }
           },
           "name": "Rural",
           "offsetgroup": "Rural",
           "orientation": "v",
           "showlegend": true,
           "textposition": "auto",
           "type": "bar",
           "x": [
            2021,
            2022
           ],
           "xaxis": "x",
           "y": [
            1,
            1
           ],
           "yaxis": "y"
          },
          {
           "alignmentgroup": "True",
           "hovertemplate": "DscClasseConsumo=Serviço Público<br>SigUF=AP<br>Ano=%{x}<br>NumCPFCNPJ=%{y}<extra></extra>",
           "legendgroup": "Serviço Público",
           "marker": {
            "color": "#19d3f3",
            "pattern": {
             "shape": ""
            }
           },
           "name": "Serviço Público",
           "offsetgroup": "Serviço Público",
           "orientation": "v",
           "showlegend": true,
           "textposition": "auto",
           "type": "bar",
           "x": [
            2019
           ],
           "xaxis": "x",
           "y": [
            1
           ],
           "yaxis": "y"
          }
         ],
         "name": "AP"
        }
       ],
       "layout": {
        "barmode": "relative",
        "legend": {
         "title": {
          "text": "DscClasseConsumo"
         },
         "tracegroupgap": 0
        },
        "sliders": [
         {
          "active": 0,
          "currentvalue": {
           "prefix": "SigUF="
          },
          "len": 0.9,
          "pad": {
           "b": 10,
           "t": 60
          },
          "steps": [
           {
            "args": [
             [
              "BA"
             ],
             {
              "frame": {
               "duration": 0,
               "redraw": true
              },
              "fromcurrent": true,
              "mode": "immediate",
              "transition": {
               "duration": 0,
               "easing": "linear"
              }
             }
            ],
            "label": "BA",
            "method": "animate"
           },
           {
            "args": [
             [
              "AC"
             ],
             {
              "frame": {
               "duration": 0,
               "redraw": true
              },
              "fromcurrent": true,
              "mode": "immediate",
              "transition": {
               "duration": 0,
               "easing": "linear"
              }
             }
            ],
            "label": "AC",
            "method": "animate"
           },
           {
            "args": [
             [
              "AL"
             ],
             {
              "frame": {
               "duration": 0,
               "redraw": true
              },
              "fromcurrent": true,
              "mode": "immediate",
              "transition": {
               "duration": 0,
               "easing": "linear"
              }
             }
            ],
            "label": "AL",
            "method": "animate"
           },
           {
            "args": [
             [
              "AM"
             ],
             {
              "frame": {
               "duration": 0,
               "redraw": true
              },
              "fromcurrent": true,
              "mode": "immediate",
              "transition": {
               "duration": 0,
               "easing": "linear"
              }
             }
            ],
            "label": "AM",
            "method": "animate"
           },
           {
            "args": [
             [
              "AP"
             ],
             {
              "frame": {
               "duration": 0,
               "redraw": true
              },
              "fromcurrent": true,
              "mode": "immediate",
              "transition": {
               "duration": 0,
               "easing": "linear"
              }
             }
            ],
            "label": "AP",
            "method": "animate"
           }
          ],
          "x": 0.1,
          "xanchor": "left",
          "y": 0,
          "yanchor": "top"
         }
        ],
        "template": {
         "data": {
          "bar": [
           {
            "error_x": {
             "color": "#2a3f5f"
            },
            "error_y": {
             "color": "#2a3f5f"
            },
            "marker": {
             "line": {
              "color": "#E5ECF6",
              "width": 0.5
             },
             "pattern": {
              "fillmode": "overlay",
              "size": 10,
              "solidity": 0.2
             }
            },
            "type": "bar"
           }
          ],
          "barpolar": [
           {
            "marker": {
             "line": {
              "color": "#E5ECF6",
              "width": 0.5
             },
             "pattern": {
              "fillmode": "overlay",
              "size": 10,
              "solidity": 0.2
             }
            },
            "type": "barpolar"
           }
          ],
          "carpet": [
           {
            "aaxis": {
             "endlinecolor": "#2a3f5f",
             "gridcolor": "white",
             "linecolor": "white",
             "minorgridcolor": "white",
             "startlinecolor": "#2a3f5f"
            },
            "baxis": {
             "endlinecolor": "#2a3f5f",
             "gridcolor": "white",
             "linecolor": "white",
             "minorgridcolor": "white",
             "startlinecolor": "#2a3f5f"
            },
            "type": "carpet"
           }
          ],
          "choropleth": [
           {
            "colorbar": {
             "outlinewidth": 0,
             "ticks": ""
            },
            "type": "choropleth"
           }
          ],
          "contour": [
           {
            "colorbar": {
             "outlinewidth": 0,
             "ticks": ""
            },
            "colorscale": [
             [
              0,
              "#0d0887"
             ],
             [
              0.1111111111111111,
              "#46039f"
             ],
             [
              0.2222222222222222,
              "#7201a8"
             ],
             [
              0.3333333333333333,
              "#9c179e"
             ],
             [
              0.4444444444444444,
              "#bd3786"
             ],
             [
              0.5555555555555556,
              "#d8576b"
             ],
             [
              0.6666666666666666,
              "#ed7953"
             ],
             [
              0.7777777777777778,
              "#fb9f3a"
             ],
             [
              0.8888888888888888,
              "#fdca26"
             ],
             [
              1,
              "#f0f921"
             ]
            ],
            "type": "contour"
           }
          ],
          "contourcarpet": [
           {
            "colorbar": {
             "outlinewidth": 0,
             "ticks": ""
            },
            "type": "contourcarpet"
           }
          ],
          "heatmap": [
           {
            "colorbar": {
             "outlinewidth": 0,
             "ticks": ""
            },
            "colorscale": [
             [
              0,
              "#0d0887"
             ],
             [
              0.1111111111111111,
              "#46039f"
             ],
             [
              0.2222222222222222,
              "#7201a8"
             ],
             [
              0.3333333333333333,
              "#9c179e"
             ],
             [
              0.4444444444444444,
              "#bd3786"
             ],
             [
              0.5555555555555556,
              "#d8576b"
             ],
             [
              0.6666666666666666,
              "#ed7953"
             ],
             [
              0.7777777777777778,
              "#fb9f3a"
             ],
             [
              0.8888888888888888,
              "#fdca26"
             ],
             [
              1,
              "#f0f921"
             ]
            ],
            "type": "heatmap"
           }
          ],
          "heatmapgl": [
           {
            "colorbar": {
             "outlinewidth": 0,
             "ticks": ""
            },
            "colorscale": [
             [
              0,
              "#0d0887"
             ],
             [
              0.1111111111111111,
              "#46039f"
             ],
             [
              0.2222222222222222,
              "#7201a8"
             ],
             [
              0.3333333333333333,
              "#9c179e"
             ],
             [
              0.4444444444444444,
              "#bd3786"
             ],
             [
              0.5555555555555556,
              "#d8576b"
             ],
             [
              0.6666666666666666,
              "#ed7953"
             ],
             [
              0.7777777777777778,
              "#fb9f3a"
             ],
             [
              0.8888888888888888,
              "#fdca26"
             ],
             [
              1,
              "#f0f921"
             ]
            ],
            "type": "heatmapgl"
           }
          ],
          "histogram": [
           {
            "marker": {
             "pattern": {
              "fillmode": "overlay",
              "size": 10,
              "solidity": 0.2
             }
            },
            "type": "histogram"
           }
          ],
          "histogram2d": [
           {
            "colorbar": {
             "outlinewidth": 0,
             "ticks": ""
            },
            "colorscale": [
             [
              0,
              "#0d0887"
             ],
             [
              0.1111111111111111,
              "#46039f"
             ],
             [
              0.2222222222222222,
              "#7201a8"
             ],
             [
              0.3333333333333333,
              "#9c179e"
             ],
             [
              0.4444444444444444,
              "#bd3786"
             ],
             [
              0.5555555555555556,
              "#d8576b"
             ],
             [
              0.6666666666666666,
              "#ed7953"
             ],
             [
              0.7777777777777778,
              "#fb9f3a"
             ],
             [
              0.8888888888888888,
              "#fdca26"
             ],
             [
              1,
              "#f0f921"
             ]
            ],
            "type": "histogram2d"
           }
          ],
          "histogram2dcontour": [
           {
            "colorbar": {
             "outlinewidth": 0,
             "ticks": ""
            },
            "colorscale": [
             [
              0,
              "#0d0887"
             ],
             [
              0.1111111111111111,
              "#46039f"
             ],
             [
              0.2222222222222222,
              "#7201a8"
             ],
             [
              0.3333333333333333,
              "#9c179e"
             ],
             [
              0.4444444444444444,
              "#bd3786"
             ],
             [
              0.5555555555555556,
              "#d8576b"
             ],
             [
              0.6666666666666666,
              "#ed7953"
             ],
             [
              0.7777777777777778,
              "#fb9f3a"
             ],
             [
              0.8888888888888888,
              "#fdca26"
             ],
             [
              1,
              "#f0f921"
             ]
            ],
            "type": "histogram2dcontour"
           }
          ],
          "mesh3d": [
           {
            "colorbar": {
             "outlinewidth": 0,
             "ticks": ""
            },
            "type": "mesh3d"
           }
          ],
          "parcoords": [
           {
            "line": {
             "colorbar": {
              "outlinewidth": 0,
              "ticks": ""
             }
            },
            "type": "parcoords"
           }
          ],
          "pie": [
           {
            "automargin": true,
            "type": "pie"
           }
          ],
          "scatter": [
           {
            "fillpattern": {
             "fillmode": "overlay",
             "size": 10,
             "solidity": 0.2
            },
            "type": "scatter"
           }
          ],
          "scatter3d": [
           {
            "line": {
             "colorbar": {
              "outlinewidth": 0,
              "ticks": ""
             }
            },
            "marker": {
             "colorbar": {
              "outlinewidth": 0,
              "ticks": ""
             }
            },
            "type": "scatter3d"
           }
          ],
          "scattercarpet": [
           {
            "marker": {
             "colorbar": {
              "outlinewidth": 0,
              "ticks": ""
             }
            },
            "type": "scattercarpet"
           }
          ],
          "scattergeo": [
           {
            "marker": {
             "colorbar": {
              "outlinewidth": 0,
              "ticks": ""
             }
            },
            "type": "scattergeo"
           }
          ],
          "scattergl": [
           {
            "marker": {
             "colorbar": {
              "outlinewidth": 0,
              "ticks": ""
             }
            },
            "type": "scattergl"
           }
          ],
          "scattermapbox": [
           {
            "marker": {
             "colorbar": {
              "outlinewidth": 0,
              "ticks": ""
             }
            },
            "type": "scattermapbox"
           }
          ],
          "scatterpolar": [
           {
            "marker": {
             "colorbar": {
              "outlinewidth": 0,
              "ticks": ""
             }
            },
            "type": "scatterpolar"
           }
          ],
          "scatterpolargl": [
           {
            "marker": {
             "colorbar": {
              "outlinewidth": 0,
              "ticks": ""
             }
            },
            "type": "scatterpolargl"
           }
          ],
          "scatterternary": [
           {
            "marker": {
             "colorbar": {
              "outlinewidth": 0,
              "ticks": ""
             }
            },
            "type": "scatterternary"
           }
          ],
          "surface": [
           {
            "colorbar": {
             "outlinewidth": 0,
             "ticks": ""
            },
            "colorscale": [
             [
              0,
              "#0d0887"
             ],
             [
              0.1111111111111111,
              "#46039f"
             ],
             [
              0.2222222222222222,
              "#7201a8"
             ],
             [
              0.3333333333333333,
              "#9c179e"
             ],
             [
              0.4444444444444444,
              "#bd3786"
             ],
             [
              0.5555555555555556,
              "#d8576b"
             ],
             [
              0.6666666666666666,
              "#ed7953"
             ],
             [
              0.7777777777777778,
              "#fb9f3a"
             ],
             [
              0.8888888888888888,
              "#fdca26"
             ],
             [
              1,
              "#f0f921"
             ]
            ],
            "type": "surface"
           }
          ],
          "table": [
           {
            "cells": {
             "fill": {
              "color": "#EBF0F8"
             },
             "line": {
              "color": "white"
             }
            },
            "header": {
             "fill": {
              "color": "#C8D4E3"
             },
             "line": {
              "color": "white"
             }
            },
            "type": "table"
           }
          ]
         },
         "layout": {
          "annotationdefaults": {
           "arrowcolor": "#2a3f5f",
           "arrowhead": 0,
           "arrowwidth": 1
          },
          "autotypenumbers": "strict",
          "coloraxis": {
           "colorbar": {
            "outlinewidth": 0,
            "ticks": ""
           }
          },
          "colorscale": {
           "diverging": [
            [
             0,
             "#8e0152"
            ],
            [
             0.1,
             "#c51b7d"
            ],
            [
             0.2,
             "#de77ae"
            ],
            [
             0.3,
             "#f1b6da"
            ],
            [
             0.4,
             "#fde0ef"
            ],
            [
             0.5,
             "#f7f7f7"
            ],
            [
             0.6,
             "#e6f5d0"
            ],
            [
             0.7,
             "#b8e186"
            ],
            [
             0.8,
             "#7fbc41"
            ],
            [
             0.9,
             "#4d9221"
            ],
            [
             1,
             "#276419"
            ]
           ],
           "sequential": [
            [
             0,
             "#0d0887"
            ],
            [
             0.1111111111111111,
             "#46039f"
            ],
            [
             0.2222222222222222,
             "#7201a8"
            ],
            [
             0.3333333333333333,
             "#9c179e"
            ],
            [
             0.4444444444444444,
             "#bd3786"
            ],
            [
             0.5555555555555556,
             "#d8576b"
            ],
            [
             0.6666666666666666,
             "#ed7953"
            ],
            [
             0.7777777777777778,
             "#fb9f3a"
            ],
            [
             0.8888888888888888,
             "#fdca26"
            ],
            [
             1,
             "#f0f921"
            ]
           ],
           "sequentialminus": [
            [
             0,
             "#0d0887"
            ],
            [
             0.1111111111111111,
             "#46039f"
            ],
            [
             0.2222222222222222,
             "#7201a8"
            ],
            [
             0.3333333333333333,
             "#9c179e"
            ],
            [
             0.4444444444444444,
             "#bd3786"
            ],
            [
             0.5555555555555556,
             "#d8576b"
            ],
            [
             0.6666666666666666,
             "#ed7953"
            ],
            [
             0.7777777777777778,
             "#fb9f3a"
            ],
            [
             0.8888888888888888,
             "#fdca26"
            ],
            [
             1,
             "#f0f921"
            ]
           ]
          },
          "colorway": [
           "#636efa",
           "#EF553B",
           "#00cc96",
           "#ab63fa",
           "#FFA15A",
           "#19d3f3",
           "#FF6692",
           "#B6E880",
           "#FF97FF",
           "#FECB52"
          ],
          "font": {
           "color": "#2a3f5f"
          },
          "geo": {
           "bgcolor": "white",
           "lakecolor": "white",
           "landcolor": "#E5ECF6",
           "showlakes": true,
           "showland": true,
           "subunitcolor": "white"
          },
          "hoverlabel": {
           "align": "left"
          },
          "hovermode": "closest",
          "mapbox": {
           "style": "light"
          },
          "paper_bgcolor": "white",
          "plot_bgcolor": "#E5ECF6",
          "polar": {
           "angularaxis": {
            "gridcolor": "white",
            "linecolor": "white",
            "ticks": ""
           },
           "bgcolor": "#E5ECF6",
           "radialaxis": {
            "gridcolor": "white",
            "linecolor": "white",
            "ticks": ""
           }
          },
          "scene": {
           "xaxis": {
            "backgroundcolor": "#E5ECF6",
            "gridcolor": "white",
            "gridwidth": 2,
            "linecolor": "white",
            "showbackground": true,
            "ticks": "",
            "zerolinecolor": "white"
           },
           "yaxis": {
            "backgroundcolor": "#E5ECF6",
            "gridcolor": "white",
            "gridwidth": 2,
            "linecolor": "white",
            "showbackground": true,
            "ticks": "",
            "zerolinecolor": "white"
           },
           "zaxis": {
            "backgroundcolor": "#E5ECF6",
            "gridcolor": "white",
            "gridwidth": 2,
            "linecolor": "white",
            "showbackground": true,
            "ticks": "",
            "zerolinecolor": "white"
           }
          },
          "shapedefaults": {
           "line": {
            "color": "#2a3f5f"
           }
          },
          "ternary": {
           "aaxis": {
            "gridcolor": "white",
            "linecolor": "white",
            "ticks": ""
           },
           "baxis": {
            "gridcolor": "white",
            "linecolor": "white",
            "ticks": ""
           },
           "bgcolor": "#E5ECF6",
           "caxis": {
            "gridcolor": "white",
            "linecolor": "white",
            "ticks": ""
           }
          },
          "title": {
           "x": 0.05
          },
          "xaxis": {
           "automargin": true,
           "gridcolor": "white",
           "linecolor": "white",
           "ticks": "",
           "title": {
            "standoff": 15
           },
           "zerolinecolor": "white",
           "zerolinewidth": 2
          },
          "yaxis": {
           "automargin": true,
           "gridcolor": "white",
           "linecolor": "white",
           "ticks": "",
           "title": {
            "standoff": 15
           },
           "zerolinecolor": "white",
           "zerolinewidth": 2
          }
         }
        },
        "title": {
         "text": "Novos usuários da Energia distribuida"
        },
        "updatemenus": [
         {
          "buttons": [
           {
            "args": [
             null,
             {
              "frame": {
               "duration": 500,
               "redraw": true
              },
              "fromcurrent": true,
              "mode": "immediate",
              "transition": {
               "duration": 500,
               "easing": "linear"
              }
             }
            ],
            "label": "&#9654;",
            "method": "animate"
           },
           {
            "args": [
             [
              null
             ],
             {
              "frame": {
               "duration": 0,
               "redraw": true
              },
              "fromcurrent": true,
              "mode": "immediate",
              "transition": {
               "duration": 0,
               "easing": "linear"
              }
             }
            ],
            "label": "&#9724;",
            "method": "animate"
           }
          ],
          "direction": "left",
          "pad": {
           "r": 10,
           "t": 70
          },
          "showactive": false,
          "type": "buttons",
          "x": 0.1,
          "xanchor": "right",
          "y": 0,
          "yanchor": "top"
         }
        ],
        "xaxis": {
         "anchor": "y",
         "domain": [
          0,
          1
         ],
         "title": {
          "text": "Ano"
         }
        },
        "yaxis": {
         "anchor": "x",
         "domain": [
          0,
          1
         ],
         "range": [
          0,
          4500
         ],
         "title": {
          "text": "NumCPFCNPJ"
         }
        }
       }
      }
     },
     "metadata": {},
     "output_type": "display_data"
    }
   ],
   "source": [
    "# Análise de dados para elaboração de um gráfico mostrando a evolução temporal do Total Mensal de Empreendimentos por Estado e por Classe de Consumo;\n",
    "\n",
    "    # OBS1: estados com menos de 10 empreendimentos foram excluídos do gráfico;\n",
    "    # OBS2: os dados de 2023 representam um corte até hoje\n",
    "\n",
    "from dash import dcc\n",
    "import plotly.express as px\n",
    "import numpy as np\n",
    "\n",
    "df['Mes'] = pd.DatetimeIndex(df['DthAtualizaCadastralEmpreend']).month\n",
    "df['Ano'] = pd.DatetimeIndex(df['DthAtualizaCadastralEmpreend']).year\n",
    "\n",
    "# cria uma cópia do DataFrame sem valores nulos de NumCPFCNPJ\n",
    "df_clean = df.dropna(subset=['NumCPFCNPJ']).copy()\n",
    "\n",
    "# filtra apenas as SigUFs desejadas\n",
    "df_clean = df_clean[df_clean['SigUF'].isin(['BA', 'AL', 'AC', 'AM', 'AP'])]\n",
    "\n",
    "# agrupa os dados por ano, mês, SigUF e DscClasseConsumo\n",
    "counts = df_clean.groupby(['Ano', 'SigUF', 'DscClasseConsumo']).agg({'NumCPFCNPJ': 'nunique'}).reset_index()\n",
    "\n",
    "import numpy as np\n",
    "\n",
    "# cria o gráfico de áreas empilhadas animado\n",
    "fig_1 = px.bar(counts, x=\"Ano\", y=\"NumCPFCNPJ\", color=\"DscClasseConsumo\", animation_frame=\"SigUF\", \n",
    "               title=\"Novos usuários da Energia distribuida\")\n",
    "\n",
    "# calcula o valor máximo dos dados do eixo y\n",
    "y_max = counts['NumCPFCNPJ'].max()\n",
    "\n",
    "# Define a faixa de valores do eixo y de acordo com os dados do gráfico\n",
    "fig_1.update_yaxes(range=[0, 4500])\n",
    "\n",
    "# mostra o gráfico\n",
    "fig_1.show()"
   ]
  },
  {
   "cell_type": "code",
   "execution_count": null,
   "id": "723c4cce",
   "metadata": {},
   "outputs": [],
   "source": [
    "\n",
    "\n",
    "\n",
    "\n",
    "\n",
    "\n",
    "\n",
    "\n",
    "\n",
    "\n",
    "\n",
    "\n",
    "\n",
    "\n",
    "\n",
    "\n",
    "\n",
    "\n",
    "\n",
    "\n",
    "\n",
    "\n",
    "\n",
    "\n",
    "\n",
    "\n",
    "\n",
    "\n",
    "\n",
    "\n",
    "\n",
    "\n",
    "\n",
    "\n",
    "\n",
    "\n"
   ]
  },
  {
   "cell_type": "code",
   "execution_count": 525,
   "id": "4ce5c6e7",
   "metadata": {},
   "outputs": [
    {
     "data": {
      "application/vnd.plotly.v1+json": {
       "config": {
        "plotlyServerURL": "https://plot.ly"
       },
       "data": [
        {
         "alignmentgroup": "True",
         "hovertemplate": "DscClasseConsumo=Industrial<br>Ano_Mes=%{x}<br>NumCPFCNPJ=%{y}<extra></extra>",
         "legendgroup": "Industrial",
         "marker": {
          "color": "#636efa",
          "pattern": {
           "shape": ""
          }
         },
         "name": "Industrial",
         "offsetgroup": "Industrial",
         "orientation": "v",
         "showlegend": true,
         "textposition": "auto",
         "type": "bar",
         "x": [
          "2012-02",
          "2014-09",
          "2016-05",
          "2016-07",
          "2016-11",
          "2016-12",
          "2017-01",
          "2017-10",
          "2018-01",
          "2018-02",
          "2018-03",
          "2018-04",
          "2018-05",
          "2018-06",
          "2018-08",
          "2018-10",
          "2018-10",
          "2018-11",
          "2019-01",
          "2019-02",
          "2019-03",
          "2019-04",
          "2019-07",
          "2019-08",
          "2019-09",
          "2019-10",
          "2019-10",
          "2019-11",
          "2019-12",
          "2020-01",
          "2020-01",
          "2020-02",
          "2020-03",
          "2020-03",
          "2020-04",
          "2020-05",
          "2020-05",
          "2020-06",
          "2020-06",
          "2020-06",
          "2020-08",
          "2020-09",
          "2020-10",
          "2020-10",
          "2020-11",
          "2020-11",
          "2020-11",
          "2020-12",
          "2021-01",
          "2021-02",
          "2021-02",
          "2021-02",
          "2021-03",
          "2021-04",
          "2021-04",
          "2021-05",
          "2021-05",
          "2021-05",
          "2021-06",
          "2021-06",
          "2021-06",
          "2021-07",
          "2021-07",
          "2021-08",
          "2021-08",
          "2021-09",
          "2021-09",
          "2021-09",
          "2021-10",
          "2021-10",
          "2021-11",
          "2021-12",
          "2021-12",
          "2021-12",
          "2022-01",
          "2022-01",
          "2022-02",
          "2022-02",
          "2022-03",
          "2022-03",
          "2022-03",
          "2022-04",
          "2022-04",
          "2022-05",
          "2022-05",
          "2022-06",
          "2022-06",
          "2022-07",
          "2022-07",
          "2022-08",
          "2022-08",
          "2022-09",
          "2022-09",
          "2022-10",
          "2022-10",
          "2022-11",
          "2022-11",
          "2022-11",
          "2022-12",
          "2022-12",
          "2022-12",
          "2023-01",
          "2023-01",
          "2023-01",
          "2023-02",
          "2023-02",
          "2023-02",
          "2023-03",
          "2023-03"
         ],
         "xaxis": "x",
         "y": [
          1,
          1,
          1,
          1,
          1,
          1,
          1,
          1,
          2,
          1,
          3,
          1,
          1,
          1,
          1,
          1,
          1,
          1,
          2,
          1,
          2,
          1,
          1,
          1,
          1,
          1,
          1,
          1,
          2,
          1,
          2,
          3,
          1,
          1,
          1,
          1,
          2,
          1,
          4,
          1,
          1,
          3,
          1,
          1,
          1,
          3,
          2,
          1,
          3,
          2,
          1,
          1,
          1,
          1,
          2,
          1,
          4,
          3,
          1,
          2,
          2,
          5,
          1,
          2,
          1,
          1,
          5,
          3,
          1,
          4,
          1,
          1,
          2,
          1,
          1,
          2,
          3,
          1,
          1,
          9,
          4,
          1,
          6,
          7,
          3,
          1,
          2,
          4,
          1,
          3,
          5,
          3,
          3,
          9,
          3,
          2,
          7,
          2,
          1,
          3,
          2,
          4,
          5,
          1,
          1,
          4,
          1,
          6,
          1
         ],
         "yaxis": "y"
        },
        {
         "alignmentgroup": "True",
         "hovertemplate": "DscClasseConsumo=Residencial<br>Ano_Mes=%{x}<br>NumCPFCNPJ=%{y}<extra></extra>",
         "legendgroup": "Residencial",
         "marker": {
          "color": "#EF553B",
          "pattern": {
           "shape": ""
          }
         },
         "name": "Residencial",
         "offsetgroup": "Residencial",
         "orientation": "v",
         "showlegend": true,
         "textposition": "auto",
         "type": "bar",
         "x": [
          "2013-10",
          "2014-02",
          "2014-03",
          "2014-07",
          "2014-10",
          "2014-11",
          "2014-12",
          "2015-01",
          "2015-02",
          "2015-04",
          "2015-05",
          "2015-06",
          "2015-07",
          "2015-07",
          "2015-08",
          "2015-09",
          "2015-10",
          "2015-11",
          "2015-12",
          "2016-01",
          "2016-01",
          "2016-03",
          "2016-03",
          "2016-04",
          "2016-05",
          "2016-06",
          "2016-07",
          "2016-08",
          "2016-08",
          "2016-08",
          "2016-08",
          "2016-09",
          "2016-09",
          "2016-09",
          "2016-10",
          "2016-10",
          "2016-11",
          "2016-11",
          "2016-12",
          "2016-12",
          "2016-12",
          "2017-01",
          "2017-01",
          "2017-02",
          "2017-02",
          "2017-03",
          "2017-03",
          "2017-03",
          "2017-03",
          "2017-04",
          "2017-04",
          "2017-04",
          "2017-05",
          "2017-05",
          "2017-05",
          "2017-06",
          "2017-06",
          "2017-06",
          "2017-06",
          "2017-07",
          "2017-07",
          "2017-07",
          "2017-08",
          "2017-08",
          "2017-08",
          "2017-09",
          "2017-09",
          "2017-09",
          "2017-10",
          "2017-10",
          "2017-10",
          "2017-10",
          "2017-11",
          "2017-11",
          "2017-11",
          "2017-11",
          "2017-12",
          "2017-12",
          "2017-12",
          "2018-01",
          "2018-01",
          "2018-01",
          "2018-01",
          "2018-01",
          "2018-02",
          "2018-02",
          "2018-02",
          "2018-02",
          "2018-02",
          "2018-03",
          "2018-03",
          "2018-03",
          "2018-03",
          "2018-03",
          "2018-04",
          "2018-04",
          "2018-04",
          "2018-04",
          "2018-05",
          "2018-05",
          "2018-05",
          "2018-05",
          "2018-05",
          "2018-06",
          "2018-06",
          "2018-06",
          "2018-06",
          "2018-07",
          "2018-07",
          "2018-07",
          "2018-07",
          "2018-08",
          "2018-08",
          "2018-08",
          "2018-08",
          "2018-09",
          "2018-09",
          "2018-09",
          "2018-09",
          "2018-10",
          "2018-10",
          "2018-10",
          "2018-10",
          "2018-11",
          "2018-11",
          "2018-11",
          "2018-11",
          "2018-12",
          "2018-12",
          "2018-12",
          "2018-12",
          "2019-01",
          "2019-01",
          "2019-01",
          "2019-01",
          "2019-02",
          "2019-02",
          "2019-02",
          "2019-02",
          "2019-03",
          "2019-03",
          "2019-03",
          "2019-03",
          "2019-04",
          "2019-04",
          "2019-04",
          "2019-04",
          "2019-05",
          "2019-05",
          "2019-05",
          "2019-05",
          "2019-06",
          "2019-06",
          "2019-06",
          "2019-06",
          "2019-07",
          "2019-07",
          "2019-07",
          "2019-08",
          "2019-08",
          "2019-08",
          "2019-08",
          "2019-09",
          "2019-09",
          "2019-09",
          "2019-09",
          "2019-10",
          "2019-10",
          "2019-10",
          "2019-10",
          "2019-11",
          "2019-11",
          "2019-11",
          "2019-11",
          "2019-11",
          "2019-12",
          "2019-12",
          "2019-12",
          "2019-12",
          "2019-12",
          "2020-01",
          "2020-01",
          "2020-01",
          "2020-01",
          "2020-02",
          "2020-02",
          "2020-02",
          "2020-02",
          "2020-03",
          "2020-03",
          "2020-03",
          "2020-03",
          "2020-04",
          "2020-04",
          "2020-04",
          "2020-05",
          "2020-05",
          "2020-05",
          "2020-06",
          "2020-06",
          "2020-06",
          "2020-07",
          "2020-07",
          "2020-07",
          "2020-07",
          "2020-08",
          "2020-08",
          "2020-08",
          "2020-08",
          "2020-09",
          "2020-09",
          "2020-09",
          "2020-09",
          "2020-10",
          "2020-10",
          "2020-10",
          "2020-10",
          "2020-10",
          "2020-11",
          "2020-11",
          "2020-11",
          "2020-11",
          "2020-11",
          "2020-12",
          "2020-12",
          "2020-12",
          "2020-12",
          "2021-01",
          "2021-01",
          "2021-01",
          "2021-01",
          "2021-02",
          "2021-02",
          "2021-02",
          "2021-02",
          "2021-03",
          "2021-03",
          "2021-03",
          "2021-03",
          "2021-04",
          "2021-04",
          "2021-04",
          "2021-04",
          "2021-05",
          "2021-05",
          "2021-05",
          "2021-05",
          "2021-06",
          "2021-06",
          "2021-06",
          "2021-06",
          "2021-07",
          "2021-07",
          "2021-07",
          "2021-07",
          "2021-07",
          "2021-08",
          "2021-08",
          "2021-08",
          "2021-08",
          "2021-09",
          "2021-09",
          "2021-09",
          "2021-09",
          "2021-09",
          "2021-10",
          "2021-10",
          "2021-10",
          "2021-10",
          "2021-11",
          "2021-11",
          "2021-11",
          "2021-11",
          "2021-12",
          "2021-12",
          "2021-12",
          "2021-12",
          "2022-01",
          "2022-01",
          "2022-01",
          "2022-01",
          "2022-02",
          "2022-02",
          "2022-02",
          "2022-02",
          "2022-03",
          "2022-03",
          "2022-03",
          "2022-03",
          "2022-03",
          "2022-04",
          "2022-04",
          "2022-04",
          "2022-04",
          "2022-05",
          "2022-05",
          "2022-05",
          "2022-05",
          "2022-06",
          "2022-06",
          "2022-06",
          "2022-06",
          "2022-07",
          "2022-07",
          "2022-07",
          "2022-07",
          "2022-08",
          "2022-08",
          "2022-08",
          "2022-08",
          "2022-08",
          "2022-09",
          "2022-09",
          "2022-09",
          "2022-09",
          "2022-09",
          "2022-10",
          "2022-10",
          "2022-10",
          "2022-10",
          "2022-11",
          "2022-11",
          "2022-11",
          "2022-11",
          "2022-12",
          "2022-12",
          "2022-12",
          "2022-12",
          "2022-12",
          "2023-01",
          "2023-01",
          "2023-01",
          "2023-01",
          "2023-01",
          "2023-02",
          "2023-02",
          "2023-02",
          "2023-02",
          "2023-03",
          "2023-03",
          "2023-03"
         ],
         "xaxis": "x",
         "y": [
          1,
          1,
          1,
          1,
          1,
          3,
          1,
          2,
          1,
          1,
          3,
          4,
          1,
          4,
          2,
          2,
          5,
          2,
          2,
          2,
          7,
          1,
          7,
          6,
          2,
          7,
          6,
          1,
          1,
          1,
          5,
          3,
          1,
          17,
          1,
          9,
          1,
          4,
          4,
          1,
          7,
          2,
          11,
          3,
          7,
          2,
          4,
          2,
          10,
          1,
          2,
          8,
          7,
          1,
          23,
          1,
          3,
          4,
          16,
          1,
          1,
          15,
          1,
          4,
          23,
          1,
          2,
          16,
          1,
          4,
          2,
          8,
          1,
          2,
          4,
          28,
          5,
          1,
          20,
          2,
          5,
          1,
          1,
          37,
          3,
          2,
          2,
          1,
          24,
          1,
          8,
          10,
          1,
          29,
          13,
          3,
          3,
          37,
          1,
          4,
          4,
          5,
          42,
          6,
          3,
          2,
          25,
          3,
          4,
          4,
          3,
          3,
          12,
          9,
          2,
          1,
          14,
          6,
          1,
          4,
          20,
          8,
          2,
          1,
          24,
          7,
          5,
          3,
          23,
          11,
          10,
          8,
          33,
          25,
          5,
          3,
          14,
          20,
          8,
          6,
          19,
          11,
          5,
          7,
          38,
          18,
          3,
          3,
          42,
          19,
          3,
          12,
          38,
          13,
          3,
          7,
          38,
          37,
          10,
          23,
          27,
          8,
          4,
          72,
          48,
          10,
          11,
          46,
          43,
          8,
          7,
          42,
          52,
          14,
          2,
          15,
          35,
          62,
          17,
          1,
          14,
          92,
          66,
          10,
          23,
          114,
          58,
          11,
          30,
          98,
          58,
          15,
          16,
          75,
          45,
          45,
          79,
          40,
          20,
          121,
          45,
          37,
          131,
          51,
          1,
          38,
          98,
          58,
          1,
          39,
          145,
          72,
          12,
          32,
          73,
          65,
          28,
          1,
          52,
          71,
          77,
          14,
          2,
          67,
          100,
          99,
          24,
          49,
          98,
          72,
          19,
          48,
          112,
          72,
          20,
          51,
          191,
          90,
          22,
          121,
          177,
          96,
          23,
          80,
          201,
          83,
          23,
          96,
          211,
          93,
          23,
          101,
          322,
          75,
          30,
          1,
          92,
          233,
          115,
          43,
          96,
          341,
          134,
          37,
          1,
          99,
          259,
          127,
          54,
          157,
          239,
          149,
          81,
          164,
          425,
          178,
          41,
          188,
          436,
          179,
          45,
          174,
          413,
          157,
          82,
          190,
          588,
          199,
          103,
          1,
          156,
          558,
          164,
          40,
          112,
          613,
          149,
          44,
          148,
          587,
          189,
          47,
          103,
          556,
          239,
          56,
          108,
          776,
          209,
          60,
          1,
          67,
          508,
          232,
          63,
          1,
          88,
          569,
          173,
          68,
          95,
          669,
          269,
          95,
          83,
          843,
          284,
          141,
          1,
          184,
          1062,
          458,
          196,
          1,
          126,
          1018,
          286,
          258,
          476,
          21,
          118
         ],
         "yaxis": "y"
        },
        {
         "alignmentgroup": "True",
         "hovertemplate": "DscClasseConsumo=Comercial<br>Ano_Mes=%{x}<br>NumCPFCNPJ=%{y}<extra></extra>",
         "legendgroup": "Comercial",
         "marker": {
          "color": "#00cc96",
          "pattern": {
           "shape": ""
          }
         },
         "name": "Comercial",
         "offsetgroup": "Comercial",
         "orientation": "v",
         "showlegend": true,
         "textposition": "auto",
         "type": "bar",
         "x": [
          "2014-06",
          "2014-07",
          "2014-09",
          "2015-01",
          "2015-03",
          "2015-05",
          "2015-06",
          "2015-06",
          "2015-06",
          "2015-07",
          "2015-07",
          "2015-08",
          "2015-09",
          "2015-12",
          "2015-12",
          "2016-01",
          "2016-02",
          "2016-04",
          "2016-05",
          "2016-06",
          "2016-07",
          "2016-08",
          "2016-09",
          "2016-11",
          "2016-12",
          "2016-12",
          "2017-02",
          "2017-02",
          "2017-03",
          "2017-04",
          "2017-04",
          "2017-04",
          "2017-05",
          "2017-05",
          "2017-05",
          "2017-06",
          "2017-06",
          "2017-06",
          "2017-07",
          "2017-08",
          "2017-08",
          "2017-08",
          "2017-09",
          "2017-09",
          "2017-09",
          "2017-10",
          "2017-10",
          "2017-11",
          "2017-11",
          "2017-12",
          "2017-12",
          "2018-01",
          "2018-01",
          "2018-02",
          "2018-02",
          "2018-02",
          "2018-03",
          "2018-03",
          "2018-03",
          "2018-04",
          "2018-04",
          "2018-05",
          "2018-05",
          "2018-05",
          "2018-06",
          "2018-06",
          "2018-06",
          "2018-06",
          "2018-07",
          "2018-07",
          "2018-08",
          "2018-08",
          "2018-09",
          "2018-09",
          "2018-10",
          "2018-10",
          "2018-10",
          "2018-11",
          "2018-11",
          "2018-11",
          "2018-12",
          "2018-12",
          "2018-12",
          "2018-12",
          "2019-01",
          "2019-01",
          "2019-01",
          "2019-01",
          "2019-02",
          "2019-02",
          "2019-02",
          "2019-02",
          "2019-03",
          "2019-03",
          "2019-04",
          "2019-04",
          "2019-04",
          "2019-04",
          "2019-05",
          "2019-05",
          "2019-05",
          "2019-06",
          "2019-06",
          "2019-06",
          "2019-07",
          "2019-07",
          "2019-07",
          "2019-07",
          "2019-08",
          "2019-08",
          "2019-08",
          "2019-08",
          "2019-09",
          "2019-09",
          "2019-09",
          "2019-09",
          "2019-10",
          "2019-10",
          "2019-10",
          "2019-10",
          "2019-11",
          "2019-11",
          "2019-11",
          "2019-11",
          "2019-12",
          "2019-12",
          "2019-12",
          "2019-12",
          "2020-01",
          "2020-01",
          "2020-01",
          "2020-01",
          "2020-02",
          "2020-02",
          "2020-02",
          "2020-02",
          "2020-03",
          "2020-03",
          "2020-03",
          "2020-03",
          "2020-04",
          "2020-04",
          "2020-04",
          "2020-05",
          "2020-05",
          "2020-05",
          "2020-06",
          "2020-06",
          "2020-06",
          "2020-07",
          "2020-07",
          "2020-07",
          "2020-08",
          "2020-08",
          "2020-08",
          "2020-08",
          "2020-09",
          "2020-09",
          "2020-09",
          "2020-10",
          "2020-10",
          "2020-10",
          "2020-10",
          "2020-10",
          "2020-11",
          "2020-11",
          "2020-11",
          "2020-11",
          "2020-12",
          "2020-12",
          "2020-12",
          "2020-12",
          "2021-01",
          "2021-01",
          "2021-01",
          "2021-01",
          "2021-02",
          "2021-02",
          "2021-02",
          "2021-02",
          "2021-03",
          "2021-03",
          "2021-03",
          "2021-03",
          "2021-04",
          "2021-04",
          "2021-04",
          "2021-04",
          "2021-05",
          "2021-05",
          "2021-05",
          "2021-05",
          "2021-06",
          "2021-06",
          "2021-06",
          "2021-06",
          "2021-06",
          "2021-07",
          "2021-07",
          "2021-07",
          "2021-07",
          "2021-08",
          "2021-08",
          "2021-08",
          "2021-08",
          "2021-09",
          "2021-09",
          "2021-09",
          "2021-09",
          "2021-10",
          "2021-10",
          "2021-10",
          "2021-10",
          "2021-11",
          "2021-11",
          "2021-11",
          "2021-11",
          "2021-12",
          "2021-12",
          "2021-12",
          "2021-12",
          "2022-01",
          "2022-01",
          "2022-01",
          "2022-01",
          "2022-02",
          "2022-02",
          "2022-02",
          "2022-02",
          "2022-03",
          "2022-03",
          "2022-03",
          "2022-03",
          "2022-04",
          "2022-04",
          "2022-04",
          "2022-04",
          "2022-05",
          "2022-05",
          "2022-05",
          "2022-05",
          "2022-06",
          "2022-06",
          "2022-06",
          "2022-06",
          "2022-07",
          "2022-07",
          "2022-07",
          "2022-07",
          "2022-08",
          "2022-08",
          "2022-08",
          "2022-08",
          "2022-09",
          "2022-09",
          "2022-09",
          "2022-09",
          "2022-10",
          "2022-10",
          "2022-10",
          "2022-10",
          "2022-10",
          "2022-11",
          "2022-11",
          "2022-11",
          "2022-11",
          "2022-12",
          "2022-12",
          "2022-12",
          "2022-12",
          "2023-01",
          "2023-01",
          "2023-01",
          "2023-01",
          "2023-02",
          "2023-02",
          "2023-02",
          "2023-02",
          "2023-03",
          "2023-03",
          "2023-03"
         ],
         "xaxis": "x",
         "y": [
          1,
          4,
          1,
          1,
          1,
          1,
          1,
          1,
          3,
          1,
          1,
          1,
          1,
          1,
          2,
          3,
          2,
          2,
          2,
          1,
          1,
          1,
          4,
          5,
          1,
          2,
          3,
          6,
          3,
          1,
          2,
          7,
          1,
          1,
          3,
          1,
          1,
          8,
          3,
          1,
          1,
          13,
          1,
          2,
          9,
          1,
          8,
          1,
          1,
          1,
          13,
          3,
          7,
          2,
          1,
          8,
          1,
          1,
          10,
          2,
          5,
          1,
          1,
          15,
          1,
          3,
          1,
          4,
          2,
          1,
          3,
          1,
          5,
          1,
          2,
          3,
          2,
          2,
          6,
          1,
          1,
          6,
          2,
          1,
          3,
          7,
          4,
          1,
          1,
          8,
          1,
          2,
          1,
          6,
          2,
          19,
          1,
          1,
          8,
          5,
          4,
          3,
          16,
          5,
          2,
          9,
          5,
          4,
          2,
          12,
          4,
          2,
          6,
          21,
          8,
          4,
          5,
          18,
          5,
          2,
          3,
          19,
          4,
          2,
          3,
          11,
          4,
          1,
          4,
          37,
          6,
          6,
          10,
          29,
          8,
          5,
          8,
          30,
          8,
          4,
          3,
          29,
          4,
          7,
          14,
          11,
          4,
          32,
          11,
          6,
          44,
          10,
          3,
          17,
          15,
          2,
          8,
          28,
          22,
          7,
          24,
          14,
          2,
          1,
          8,
          21,
          10,
          3,
          6,
          40,
          15,
          6,
          8,
          37,
          17,
          5,
          11,
          29,
          12,
          1,
          7,
          51,
          19,
          2,
          15,
          53,
          15,
          6,
          15,
          42,
          21,
          5,
          11,
          40,
          25,
          7,
          1,
          19,
          64,
          28,
          4,
          14,
          56,
          34,
          6,
          26,
          67,
          26,
          3,
          18,
          46,
          22,
          7,
          28,
          49,
          22,
          8,
          23,
          94,
          33,
          8,
          20,
          78,
          33,
          6,
          18,
          58,
          35,
          6,
          21,
          81,
          29,
          11,
          16,
          82,
          42,
          6,
          15,
          87,
          34,
          3,
          13,
          60,
          33,
          2,
          22,
          64,
          37,
          11,
          17,
          100,
          39,
          4,
          8,
          102,
          36,
          3,
          12,
          107,
          22,
          2,
          1,
          10,
          99,
          40,
          8,
          16,
          109,
          40,
          2,
          24,
          126,
          52,
          10,
          20,
          107,
          31,
          4,
          54,
          1,
          4
         ],
         "yaxis": "y"
        },
        {
         "alignmentgroup": "True",
         "hovertemplate": "DscClasseConsumo=Rural<br>Ano_Mes=%{x}<br>NumCPFCNPJ=%{y}<extra></extra>",
         "legendgroup": "Rural",
         "marker": {
          "color": "#ab63fa",
          "pattern": {
           "shape": ""
          }
         },
         "name": "Rural",
         "offsetgroup": "Rural",
         "orientation": "v",
         "showlegend": true,
         "textposition": "auto",
         "type": "bar",
         "x": [
          "2016-03",
          "2016-04",
          "2016-11",
          "2017-03",
          "2017-05",
          "2017-07",
          "2017-08",
          "2017-11",
          "2017-12",
          "2018-01",
          "2018-02",
          "2018-03",
          "2018-04",
          "2018-05",
          "2018-08",
          "2018-09",
          "2019-01",
          "2019-02",
          "2019-04",
          "2019-04",
          "2019-05",
          "2019-05",
          "2019-07",
          "2019-07",
          "2019-09",
          "2019-09",
          "2019-10",
          "2019-10",
          "2019-11",
          "2019-12",
          "2019-12",
          "2020-01",
          "2020-01",
          "2020-02",
          "2020-02",
          "2020-03",
          "2020-03",
          "2020-03",
          "2020-04",
          "2020-04",
          "2020-05",
          "2020-05",
          "2020-05",
          "2020-06",
          "2020-06",
          "2020-07",
          "2020-07",
          "2020-08",
          "2020-08",
          "2020-09",
          "2020-09",
          "2020-09",
          "2020-10",
          "2020-10",
          "2020-11",
          "2020-11",
          "2020-12",
          "2020-12",
          "2021-01",
          "2021-01",
          "2021-01",
          "2021-02",
          "2021-02",
          "2021-03",
          "2021-03",
          "2021-04",
          "2021-04",
          "2021-04",
          "2021-05",
          "2021-05",
          "2021-05",
          "2021-06",
          "2021-06",
          "2021-06",
          "2021-07",
          "2021-07",
          "2021-07",
          "2021-08",
          "2021-08",
          "2021-09",
          "2021-09",
          "2021-10",
          "2021-10",
          "2021-10",
          "2021-11",
          "2021-11",
          "2021-11",
          "2021-11",
          "2021-12",
          "2021-12",
          "2021-12",
          "2022-01",
          "2022-01",
          "2022-02",
          "2022-02",
          "2022-03",
          "2022-03",
          "2022-03",
          "2022-04",
          "2022-04",
          "2022-04",
          "2022-05",
          "2022-05",
          "2022-06",
          "2022-06",
          "2022-06",
          "2022-06",
          "2022-07",
          "2022-07",
          "2022-07",
          "2022-08",
          "2022-08",
          "2022-08",
          "2022-09",
          "2022-09",
          "2022-09",
          "2022-10",
          "2022-10",
          "2022-10",
          "2022-10",
          "2022-11",
          "2022-11",
          "2022-12",
          "2022-12",
          "2022-12",
          "2023-01",
          "2023-01",
          "2023-01",
          "2023-02",
          "2023-02",
          "2023-02",
          "2023-03"
         ],
         "xaxis": "x",
         "y": [
          1,
          1,
          1,
          1,
          1,
          1,
          2,
          1,
          1,
          4,
          1,
          2,
          2,
          3,
          1,
          1,
          1,
          1,
          1,
          1,
          1,
          1,
          1,
          1,
          2,
          1,
          1,
          1,
          2,
          3,
          3,
          2,
          1,
          2,
          1,
          2,
          1,
          1,
          3,
          3,
          1,
          4,
          1,
          1,
          8,
          1,
          4,
          1,
          2,
          1,
          4,
          1,
          2,
          7,
          2,
          4,
          1,
          5,
          1,
          4,
          1,
          4,
          3,
          2,
          9,
          6,
          1,
          2,
          8,
          3,
          3,
          11,
          5,
          2,
          2,
          6,
          1,
          6,
          6,
          1,
          7,
          11,
          11,
          3,
          4,
          6,
          1,
          1,
          8,
          8,
          1,
          12,
          5,
          6,
          16,
          9,
          9,
          1,
          9,
          17,
          2,
          15,
          15,
          8,
          9,
          1,
          1,
          9,
          12,
          2,
          12,
          15,
          2,
          5,
          16,
          3,
          4,
          14,
          3,
          1,
          5,
          19,
          5,
          26,
          1,
          13,
          40,
          8,
          7,
          29,
          2,
          14
         ],
         "yaxis": "y"
        },
        {
         "alignmentgroup": "True",
         "hovertemplate": "DscClasseConsumo=Poder Público<br>Ano_Mes=%{x}<br>NumCPFCNPJ=%{y}<extra></extra>",
         "legendgroup": "Poder Público",
         "marker": {
          "color": "#FFA15A",
          "pattern": {
           "shape": ""
          }
         },
         "name": "Poder Público",
         "offsetgroup": "Poder Público",
         "orientation": "v",
         "showlegend": true,
         "textposition": "auto",
         "type": "bar",
         "x": [
          "2016-07",
          "2017-02",
          "2017-04",
          "2017-05",
          "2017-07",
          "2017-08",
          "2017-08",
          "2017-09",
          "2017-12",
          "2018-02",
          "2018-04",
          "2018-05",
          "2018-10",
          "2019-01",
          "2019-03",
          "2019-04",
          "2019-05",
          "2019-07",
          "2019-09",
          "2019-11",
          "2019-12",
          "2020-01",
          "2020-01",
          "2020-02",
          "2020-03",
          "2020-04",
          "2020-06",
          "2020-06",
          "2020-07",
          "2020-09",
          "2020-10",
          "2020-11",
          "2020-11",
          "2020-12",
          "2020-12",
          "2021-01",
          "2021-01",
          "2021-02",
          "2021-02",
          "2021-04",
          "2021-04",
          "2021-05",
          "2021-07",
          "2021-08",
          "2021-08",
          "2021-09",
          "2021-10",
          "2021-10",
          "2021-11",
          "2021-11",
          "2021-11",
          "2021-12",
          "2022-01",
          "2022-01",
          "2022-02",
          "2022-04",
          "2022-04",
          "2022-04",
          "2022-05",
          "2022-06",
          "2022-06",
          "2022-07",
          "2022-07",
          "2022-08",
          "2022-08",
          "2022-08",
          "2022-09",
          "2022-09",
          "2022-10",
          "2022-11",
          "2022-11",
          "2022-12",
          "2023-01",
          "2023-02",
          "2023-02",
          "2023-02"
         ],
         "xaxis": "x",
         "y": [
          1,
          1,
          1,
          1,
          1,
          1,
          1,
          1,
          1,
          1,
          1,
          1,
          1,
          1,
          1,
          1,
          1,
          1,
          1,
          1,
          1,
          2,
          2,
          1,
          2,
          2,
          1,
          1,
          2,
          2,
          2,
          2,
          2,
          9,
          1,
          4,
          1,
          2,
          4,
          2,
          1,
          1,
          1,
          3,
          1,
          2,
          1,
          3,
          1,
          2,
          1,
          1,
          1,
          1,
          1,
          1,
          1,
          1,
          1,
          1,
          2,
          2,
          1,
          1,
          3,
          1,
          2,
          1,
          1,
          1,
          1,
          3,
          1,
          3,
          1,
          1
         ],
         "yaxis": "y"
        },
        {
         "alignmentgroup": "True",
         "hovertemplate": "DscClasseConsumo=Serviço Público<br>Ano_Mes=%{x}<br>NumCPFCNPJ=%{y}<extra></extra>",
         "legendgroup": "Serviço Público",
         "marker": {
          "color": "#19d3f3",
          "pattern": {
           "shape": ""
          }
         },
         "name": "Serviço Público",
         "offsetgroup": "Serviço Público",
         "orientation": "v",
         "showlegend": true,
         "textposition": "auto",
         "type": "bar",
         "x": [
          "2019-01",
          "2020-04",
          "2021-03",
          "2021-06",
          "2022-04"
         ],
         "xaxis": "x",
         "y": [
          1,
          1,
          1,
          1,
          1
         ],
         "yaxis": "y"
        }
       ],
       "layout": {
        "barmode": "relative",
        "legend": {
         "title": {
          "text": "DscClasseConsumo"
         },
         "tracegroupgap": 0
        },
        "template": {
         "data": {
          "bar": [
           {
            "error_x": {
             "color": "#2a3f5f"
            },
            "error_y": {
             "color": "#2a3f5f"
            },
            "marker": {
             "line": {
              "color": "#E5ECF6",
              "width": 0.5
             },
             "pattern": {
              "fillmode": "overlay",
              "size": 10,
              "solidity": 0.2
             }
            },
            "type": "bar"
           }
          ],
          "barpolar": [
           {
            "marker": {
             "line": {
              "color": "#E5ECF6",
              "width": 0.5
             },
             "pattern": {
              "fillmode": "overlay",
              "size": 10,
              "solidity": 0.2
             }
            },
            "type": "barpolar"
           }
          ],
          "carpet": [
           {
            "aaxis": {
             "endlinecolor": "#2a3f5f",
             "gridcolor": "white",
             "linecolor": "white",
             "minorgridcolor": "white",
             "startlinecolor": "#2a3f5f"
            },
            "baxis": {
             "endlinecolor": "#2a3f5f",
             "gridcolor": "white",
             "linecolor": "white",
             "minorgridcolor": "white",
             "startlinecolor": "#2a3f5f"
            },
            "type": "carpet"
           }
          ],
          "choropleth": [
           {
            "colorbar": {
             "outlinewidth": 0,
             "ticks": ""
            },
            "type": "choropleth"
           }
          ],
          "contour": [
           {
            "colorbar": {
             "outlinewidth": 0,
             "ticks": ""
            },
            "colorscale": [
             [
              0,
              "#0d0887"
             ],
             [
              0.1111111111111111,
              "#46039f"
             ],
             [
              0.2222222222222222,
              "#7201a8"
             ],
             [
              0.3333333333333333,
              "#9c179e"
             ],
             [
              0.4444444444444444,
              "#bd3786"
             ],
             [
              0.5555555555555556,
              "#d8576b"
             ],
             [
              0.6666666666666666,
              "#ed7953"
             ],
             [
              0.7777777777777778,
              "#fb9f3a"
             ],
             [
              0.8888888888888888,
              "#fdca26"
             ],
             [
              1,
              "#f0f921"
             ]
            ],
            "type": "contour"
           }
          ],
          "contourcarpet": [
           {
            "colorbar": {
             "outlinewidth": 0,
             "ticks": ""
            },
            "type": "contourcarpet"
           }
          ],
          "heatmap": [
           {
            "colorbar": {
             "outlinewidth": 0,
             "ticks": ""
            },
            "colorscale": [
             [
              0,
              "#0d0887"
             ],
             [
              0.1111111111111111,
              "#46039f"
             ],
             [
              0.2222222222222222,
              "#7201a8"
             ],
             [
              0.3333333333333333,
              "#9c179e"
             ],
             [
              0.4444444444444444,
              "#bd3786"
             ],
             [
              0.5555555555555556,
              "#d8576b"
             ],
             [
              0.6666666666666666,
              "#ed7953"
             ],
             [
              0.7777777777777778,
              "#fb9f3a"
             ],
             [
              0.8888888888888888,
              "#fdca26"
             ],
             [
              1,
              "#f0f921"
             ]
            ],
            "type": "heatmap"
           }
          ],
          "heatmapgl": [
           {
            "colorbar": {
             "outlinewidth": 0,
             "ticks": ""
            },
            "colorscale": [
             [
              0,
              "#0d0887"
             ],
             [
              0.1111111111111111,
              "#46039f"
             ],
             [
              0.2222222222222222,
              "#7201a8"
             ],
             [
              0.3333333333333333,
              "#9c179e"
             ],
             [
              0.4444444444444444,
              "#bd3786"
             ],
             [
              0.5555555555555556,
              "#d8576b"
             ],
             [
              0.6666666666666666,
              "#ed7953"
             ],
             [
              0.7777777777777778,
              "#fb9f3a"
             ],
             [
              0.8888888888888888,
              "#fdca26"
             ],
             [
              1,
              "#f0f921"
             ]
            ],
            "type": "heatmapgl"
           }
          ],
          "histogram": [
           {
            "marker": {
             "pattern": {
              "fillmode": "overlay",
              "size": 10,
              "solidity": 0.2
             }
            },
            "type": "histogram"
           }
          ],
          "histogram2d": [
           {
            "colorbar": {
             "outlinewidth": 0,
             "ticks": ""
            },
            "colorscale": [
             [
              0,
              "#0d0887"
             ],
             [
              0.1111111111111111,
              "#46039f"
             ],
             [
              0.2222222222222222,
              "#7201a8"
             ],
             [
              0.3333333333333333,
              "#9c179e"
             ],
             [
              0.4444444444444444,
              "#bd3786"
             ],
             [
              0.5555555555555556,
              "#d8576b"
             ],
             [
              0.6666666666666666,
              "#ed7953"
             ],
             [
              0.7777777777777778,
              "#fb9f3a"
             ],
             [
              0.8888888888888888,
              "#fdca26"
             ],
             [
              1,
              "#f0f921"
             ]
            ],
            "type": "histogram2d"
           }
          ],
          "histogram2dcontour": [
           {
            "colorbar": {
             "outlinewidth": 0,
             "ticks": ""
            },
            "colorscale": [
             [
              0,
              "#0d0887"
             ],
             [
              0.1111111111111111,
              "#46039f"
             ],
             [
              0.2222222222222222,
              "#7201a8"
             ],
             [
              0.3333333333333333,
              "#9c179e"
             ],
             [
              0.4444444444444444,
              "#bd3786"
             ],
             [
              0.5555555555555556,
              "#d8576b"
             ],
             [
              0.6666666666666666,
              "#ed7953"
             ],
             [
              0.7777777777777778,
              "#fb9f3a"
             ],
             [
              0.8888888888888888,
              "#fdca26"
             ],
             [
              1,
              "#f0f921"
             ]
            ],
            "type": "histogram2dcontour"
           }
          ],
          "mesh3d": [
           {
            "colorbar": {
             "outlinewidth": 0,
             "ticks": ""
            },
            "type": "mesh3d"
           }
          ],
          "parcoords": [
           {
            "line": {
             "colorbar": {
              "outlinewidth": 0,
              "ticks": ""
             }
            },
            "type": "parcoords"
           }
          ],
          "pie": [
           {
            "automargin": true,
            "type": "pie"
           }
          ],
          "scatter": [
           {
            "fillpattern": {
             "fillmode": "overlay",
             "size": 10,
             "solidity": 0.2
            },
            "type": "scatter"
           }
          ],
          "scatter3d": [
           {
            "line": {
             "colorbar": {
              "outlinewidth": 0,
              "ticks": ""
             }
            },
            "marker": {
             "colorbar": {
              "outlinewidth": 0,
              "ticks": ""
             }
            },
            "type": "scatter3d"
           }
          ],
          "scattercarpet": [
           {
            "marker": {
             "colorbar": {
              "outlinewidth": 0,
              "ticks": ""
             }
            },
            "type": "scattercarpet"
           }
          ],
          "scattergeo": [
           {
            "marker": {
             "colorbar": {
              "outlinewidth": 0,
              "ticks": ""
             }
            },
            "type": "scattergeo"
           }
          ],
          "scattergl": [
           {
            "marker": {
             "colorbar": {
              "outlinewidth": 0,
              "ticks": ""
             }
            },
            "type": "scattergl"
           }
          ],
          "scattermapbox": [
           {
            "marker": {
             "colorbar": {
              "outlinewidth": 0,
              "ticks": ""
             }
            },
            "type": "scattermapbox"
           }
          ],
          "scatterpolar": [
           {
            "marker": {
             "colorbar": {
              "outlinewidth": 0,
              "ticks": ""
             }
            },
            "type": "scatterpolar"
           }
          ],
          "scatterpolargl": [
           {
            "marker": {
             "colorbar": {
              "outlinewidth": 0,
              "ticks": ""
             }
            },
            "type": "scatterpolargl"
           }
          ],
          "scatterternary": [
           {
            "marker": {
             "colorbar": {
              "outlinewidth": 0,
              "ticks": ""
             }
            },
            "type": "scatterternary"
           }
          ],
          "surface": [
           {
            "colorbar": {
             "outlinewidth": 0,
             "ticks": ""
            },
            "colorscale": [
             [
              0,
              "#0d0887"
             ],
             [
              0.1111111111111111,
              "#46039f"
             ],
             [
              0.2222222222222222,
              "#7201a8"
             ],
             [
              0.3333333333333333,
              "#9c179e"
             ],
             [
              0.4444444444444444,
              "#bd3786"
             ],
             [
              0.5555555555555556,
              "#d8576b"
             ],
             [
              0.6666666666666666,
              "#ed7953"
             ],
             [
              0.7777777777777778,
              "#fb9f3a"
             ],
             [
              0.8888888888888888,
              "#fdca26"
             ],
             [
              1,
              "#f0f921"
             ]
            ],
            "type": "surface"
           }
          ],
          "table": [
           {
            "cells": {
             "fill": {
              "color": "#EBF0F8"
             },
             "line": {
              "color": "white"
             }
            },
            "header": {
             "fill": {
              "color": "#C8D4E3"
             },
             "line": {
              "color": "white"
             }
            },
            "type": "table"
           }
          ]
         },
         "layout": {
          "annotationdefaults": {
           "arrowcolor": "#2a3f5f",
           "arrowhead": 0,
           "arrowwidth": 1
          },
          "autotypenumbers": "strict",
          "coloraxis": {
           "colorbar": {
            "outlinewidth": 0,
            "ticks": ""
           }
          },
          "colorscale": {
           "diverging": [
            [
             0,
             "#8e0152"
            ],
            [
             0.1,
             "#c51b7d"
            ],
            [
             0.2,
             "#de77ae"
            ],
            [
             0.3,
             "#f1b6da"
            ],
            [
             0.4,
             "#fde0ef"
            ],
            [
             0.5,
             "#f7f7f7"
            ],
            [
             0.6,
             "#e6f5d0"
            ],
            [
             0.7,
             "#b8e186"
            ],
            [
             0.8,
             "#7fbc41"
            ],
            [
             0.9,
             "#4d9221"
            ],
            [
             1,
             "#276419"
            ]
           ],
           "sequential": [
            [
             0,
             "#0d0887"
            ],
            [
             0.1111111111111111,
             "#46039f"
            ],
            [
             0.2222222222222222,
             "#7201a8"
            ],
            [
             0.3333333333333333,
             "#9c179e"
            ],
            [
             0.4444444444444444,
             "#bd3786"
            ],
            [
             0.5555555555555556,
             "#d8576b"
            ],
            [
             0.6666666666666666,
             "#ed7953"
            ],
            [
             0.7777777777777778,
             "#fb9f3a"
            ],
            [
             0.8888888888888888,
             "#fdca26"
            ],
            [
             1,
             "#f0f921"
            ]
           ],
           "sequentialminus": [
            [
             0,
             "#0d0887"
            ],
            [
             0.1111111111111111,
             "#46039f"
            ],
            [
             0.2222222222222222,
             "#7201a8"
            ],
            [
             0.3333333333333333,
             "#9c179e"
            ],
            [
             0.4444444444444444,
             "#bd3786"
            ],
            [
             0.5555555555555556,
             "#d8576b"
            ],
            [
             0.6666666666666666,
             "#ed7953"
            ],
            [
             0.7777777777777778,
             "#fb9f3a"
            ],
            [
             0.8888888888888888,
             "#fdca26"
            ],
            [
             1,
             "#f0f921"
            ]
           ]
          },
          "colorway": [
           "#636efa",
           "#EF553B",
           "#00cc96",
           "#ab63fa",
           "#FFA15A",
           "#19d3f3",
           "#FF6692",
           "#B6E880",
           "#FF97FF",
           "#FECB52"
          ],
          "font": {
           "color": "#2a3f5f"
          },
          "geo": {
           "bgcolor": "white",
           "lakecolor": "white",
           "landcolor": "#E5ECF6",
           "showlakes": true,
           "showland": true,
           "subunitcolor": "white"
          },
          "hoverlabel": {
           "align": "left"
          },
          "hovermode": "closest",
          "mapbox": {
           "style": "light"
          },
          "paper_bgcolor": "white",
          "plot_bgcolor": "#E5ECF6",
          "polar": {
           "angularaxis": {
            "gridcolor": "white",
            "linecolor": "white",
            "ticks": ""
           },
           "bgcolor": "#E5ECF6",
           "radialaxis": {
            "gridcolor": "white",
            "linecolor": "white",
            "ticks": ""
           }
          },
          "scene": {
           "xaxis": {
            "backgroundcolor": "#E5ECF6",
            "gridcolor": "white",
            "gridwidth": 2,
            "linecolor": "white",
            "showbackground": true,
            "ticks": "",
            "zerolinecolor": "white"
           },
           "yaxis": {
            "backgroundcolor": "#E5ECF6",
            "gridcolor": "white",
            "gridwidth": 2,
            "linecolor": "white",
            "showbackground": true,
            "ticks": "",
            "zerolinecolor": "white"
           },
           "zaxis": {
            "backgroundcolor": "#E5ECF6",
            "gridcolor": "white",
            "gridwidth": 2,
            "linecolor": "white",
            "showbackground": true,
            "ticks": "",
            "zerolinecolor": "white"
           }
          },
          "shapedefaults": {
           "line": {
            "color": "#2a3f5f"
           }
          },
          "ternary": {
           "aaxis": {
            "gridcolor": "white",
            "linecolor": "white",
            "ticks": ""
           },
           "baxis": {
            "gridcolor": "white",
            "linecolor": "white",
            "ticks": ""
           },
           "bgcolor": "#E5ECF6",
           "caxis": {
            "gridcolor": "white",
            "linecolor": "white",
            "ticks": ""
           }
          },
          "title": {
           "x": 0.05
          },
          "xaxis": {
           "automargin": true,
           "gridcolor": "white",
           "linecolor": "white",
           "ticks": "",
           "title": {
            "standoff": 15
           },
           "zerolinecolor": "white",
           "zerolinewidth": 2
          },
          "yaxis": {
           "automargin": true,
           "gridcolor": "white",
           "linecolor": "white",
           "ticks": "",
           "title": {
            "standoff": 15
           },
           "zerolinecolor": "white",
           "zerolinewidth": 2
          }
         }
        },
        "title": {
         "text": "Novos usuários da Energia distribuida"
        },
        "xaxis": {
         "anchor": "y",
         "domain": [
          0,
          1
         ],
         "title": {
          "text": "Ano_Mes"
         }
        },
        "yaxis": {
         "anchor": "x",
         "domain": [
          0,
          1
         ],
         "title": {
          "text": "NumCPFCNPJ"
         }
        }
       }
      }
     },
     "metadata": {},
     "output_type": "display_data"
    }
   ],
   "source": [
    "import plotly.express as px\n",
    "import pandas as pd\n",
    "import dash\n",
    "import dash_core_components as dcc\n",
    "import dash_html_components as html\n",
    "from dash.dependencies import Input, Output\n",
    "\n",
    "\n",
    "df['Mes'] = pd.DatetimeIndex(df['DthAtualizaCadastralEmpreend']).month\n",
    "df['Ano'] = pd.DatetimeIndex(df['DthAtualizaCadastralEmpreend']).year\n",
    "df['Ano_Mes'] = pd.to_datetime(df['DthAtualizaCadastralEmpreend']).dt.strftime('%Y-%m')\n",
    "\n",
    "\n",
    "# cria uma cópia do DataFrame sem valores nulos de NumCPFCNPJ\n",
    "df_clean = df.dropna(subset=['NumCPFCNPJ']).copy()\n",
    "\n",
    "# filtra apenas as SigUFs desejadas\n",
    "df_clean = df_clean[df_clean['SigUF'].isin(['BA', 'AL', 'AC', 'AM', 'AP'])]\n",
    "\n",
    "# agrupa os dados por ano, mês, SigUF e DscClasseConsumo\n",
    "counts = df_clean.groupby(['Ano_Mes', 'SigUF', 'DscClasseConsumo']).agg({'NumCPFCNPJ': 'nunique'}).reset_index()\n",
    "\n",
    "# Cria uma lista com as opções de SigUF\n",
    "sigufs = df_clean['SigUF'].unique()\n",
    "\n",
    "# cria o gráfico de áreas empilhadas animado\n",
    "fig_3 = px.bar(counts, x=\"Ano_Mes\", y=\"NumCPFCNPJ\", color=\"DscClasseConsumo\", title=\"Novos usuários da Energia distribuida\")\n",
    "\n",
    "# cria o aplicativo Dash\n",
    "app = dash.Dash(__name__)\n",
    "\n",
    "# cria a caixa de seleção\n",
    "siguf_dropdown = dcc.Dropdown(\n",
    "    id='siguf_dropdown',\n",
    "    options=[{'label': siguf, 'value': siguf} for siguf in sigufs],\n",
    "    value=sigufs[0]\n",
    ")\n",
    "\n",
    "# define o layout do aplicativo\n",
    "app.layout = html.Div([\n",
    "    html.H1('Novos usuários da Energia distribuida'),\n",
    "    siguf_dropdown,\n",
    "    dcc.Graph(id='grafico')\n",
    "])\n",
    "\n",
    "# define a função de callback que atualiza o gráfico quando a caixa de seleção é alterada\n",
    "@app.callback(\n",
    "    Output('grafico', 'figure'),\n",
    "    Input('siguf_dropdown', 'value')\n",
    ")\n",
    "def update_graph(siguf):\n",
    "    # filtra os dados de acordo com a SigUF selecionada na caixa de seleção\n",
    "    counts_filtered = counts[counts['SigUF'] == siguf]\n",
    "    # cria um novo gráfico com os dados filtrados\n",
    "    fig_3_filtered = px.bar(counts_filtered, x=\"Ano_Mes\", y=\"NumCPFCNPJ\", color=\"DscClasseConsumo\")\n",
    "    fig_3_filtered.update_layout(title_text=\"Novos usuários da Energia distribuida ({})\".format(siguf))\n",
    "    # retorna o novo gráfico\n",
    "    return fig_3_filtered\n",
    "\n",
    "\n"
   ]
  },
  {
   "cell_type": "code",
   "execution_count": null,
   "id": "3640f6dd",
   "metadata": {},
   "outputs": [],
   "source": [
    "\n",
    "\n",
    "\n",
    "\n",
    "\n",
    "\n",
    "\n",
    "\n",
    "\n",
    "\n",
    "\n",
    "\n",
    "\n",
    "\n",
    "\n",
    "\n",
    "\n",
    "\n",
    "\n",
    "\n",
    "\n",
    "\n",
    "\n",
    "\n",
    "\n",
    "\n",
    "\n",
    "\n",
    "\n",
    "\n",
    "\n",
    "\n",
    "\n",
    "\n",
    "\n",
    "\n",
    "\n",
    "\n",
    "\n",
    "\n",
    "\n",
    "\n",
    "\n",
    "\n",
    "\n",
    "\n",
    "\n",
    "\n",
    "\n"
   ]
  },
  {
   "cell_type": "code",
   "execution_count": 504,
   "id": "e5d8f2a1",
   "metadata": {},
   "outputs": [
    {
     "data": {
      "text/html": [
       "<div>\n",
       "<style scoped>\n",
       "    .dataframe tbody tr th:only-of-type {\n",
       "        vertical-align: middle;\n",
       "    }\n",
       "\n",
       "    .dataframe tbody tr th {\n",
       "        vertical-align: top;\n",
       "    }\n",
       "\n",
       "    .dataframe thead th {\n",
       "        text-align: right;\n",
       "    }\n",
       "</style>\n",
       "<table border=\"1\" class=\"dataframe\">\n",
       "  <thead>\n",
       "    <tr style=\"text-align: right;\">\n",
       "      <th>Ano</th>\n",
       "      <th>2012</th>\n",
       "      <th>2013</th>\n",
       "      <th>2014</th>\n",
       "      <th>2015</th>\n",
       "      <th>2016</th>\n",
       "      <th>2017</th>\n",
       "      <th>2018</th>\n",
       "      <th>2019</th>\n",
       "      <th>2020</th>\n",
       "      <th>2021</th>\n",
       "      <th>2022</th>\n",
       "      <th>2023</th>\n",
       "      <th>Total</th>\n",
       "    </tr>\n",
       "    <tr>\n",
       "      <th>SigUF</th>\n",
       "      <th></th>\n",
       "      <th></th>\n",
       "      <th></th>\n",
       "      <th></th>\n",
       "      <th></th>\n",
       "      <th></th>\n",
       "      <th></th>\n",
       "      <th></th>\n",
       "      <th></th>\n",
       "      <th></th>\n",
       "      <th></th>\n",
       "      <th></th>\n",
       "      <th></th>\n",
       "    </tr>\n",
       "  </thead>\n",
       "  <tbody>\n",
       "    <tr>\n",
       "      <th>AC</th>\n",
       "      <td>0.0</td>\n",
       "      <td>0.0</td>\n",
       "      <td>0.0</td>\n",
       "      <td>3.0</td>\n",
       "      <td>1.0</td>\n",
       "      <td>16.0</td>\n",
       "      <td>31.0</td>\n",
       "      <td>132.0</td>\n",
       "      <td>504.0</td>\n",
       "      <td>1409.0</td>\n",
       "      <td>1792.0</td>\n",
       "      <td>375.0</td>\n",
       "      <td>4263.0</td>\n",
       "    </tr>\n",
       "    <tr>\n",
       "      <th>AL</th>\n",
       "      <td>0.0</td>\n",
       "      <td>0.0</td>\n",
       "      <td>0.0</td>\n",
       "      <td>4.0</td>\n",
       "      <td>14.0</td>\n",
       "      <td>46.0</td>\n",
       "      <td>175.0</td>\n",
       "      <td>617.0</td>\n",
       "      <td>1613.0</td>\n",
       "      <td>3497.0</td>\n",
       "      <td>8152.0</td>\n",
       "      <td>2918.0</td>\n",
       "      <td>17036.0</td>\n",
       "    </tr>\n",
       "    <tr>\n",
       "      <th>AM</th>\n",
       "      <td>0.0</td>\n",
       "      <td>0.0</td>\n",
       "      <td>0.0</td>\n",
       "      <td>2.0</td>\n",
       "      <td>5.0</td>\n",
       "      <td>20.0</td>\n",
       "      <td>81.0</td>\n",
       "      <td>428.0</td>\n",
       "      <td>880.0</td>\n",
       "      <td>1582.0</td>\n",
       "      <td>2855.0</td>\n",
       "      <td>863.0</td>\n",
       "      <td>6716.0</td>\n",
       "    </tr>\n",
       "    <tr>\n",
       "      <th>AP</th>\n",
       "      <td>0.0</td>\n",
       "      <td>0.0</td>\n",
       "      <td>0.0</td>\n",
       "      <td>0.0</td>\n",
       "      <td>0.0</td>\n",
       "      <td>2.0</td>\n",
       "      <td>36.0</td>\n",
       "      <td>108.0</td>\n",
       "      <td>145.0</td>\n",
       "      <td>477.0</td>\n",
       "      <td>908.0</td>\n",
       "      <td>587.0</td>\n",
       "      <td>2263.0</td>\n",
       "    </tr>\n",
       "    <tr>\n",
       "      <th>BA</th>\n",
       "      <td>1.0</td>\n",
       "      <td>1.0</td>\n",
       "      <td>15.0</td>\n",
       "      <td>35.0</td>\n",
       "      <td>106.0</td>\n",
       "      <td>269.0</td>\n",
       "      <td>263.0</td>\n",
       "      <td>4.0</td>\n",
       "      <td>4.0</td>\n",
       "      <td>4.0</td>\n",
       "      <td>7.0</td>\n",
       "      <td>2.0</td>\n",
       "      <td>711.0</td>\n",
       "    </tr>\n",
       "  </tbody>\n",
       "</table>\n",
       "</div>"
      ],
      "text/plain": [
       "Ano    2012  2013  2014  2015   2016   2017   2018   2019    2020    2021  \\\n",
       "SigUF                                                                       \n",
       "AC      0.0   0.0   0.0   3.0    1.0   16.0   31.0  132.0   504.0  1409.0   \n",
       "AL      0.0   0.0   0.0   4.0   14.0   46.0  175.0  617.0  1613.0  3497.0   \n",
       "AM      0.0   0.0   0.0   2.0    5.0   20.0   81.0  428.0   880.0  1582.0   \n",
       "AP      0.0   0.0   0.0   0.0    0.0    2.0   36.0  108.0   145.0   477.0   \n",
       "BA      1.0   1.0  15.0  35.0  106.0  269.0  263.0    4.0     4.0     4.0   \n",
       "\n",
       "Ano      2022    2023    Total  \n",
       "SigUF                           \n",
       "AC     1792.0   375.0   4263.0  \n",
       "AL     8152.0  2918.0  17036.0  \n",
       "AM     2855.0   863.0   6716.0  \n",
       "AP      908.0   587.0   2263.0  \n",
       "BA        7.0     2.0    711.0  "
      ]
     },
     "execution_count": 504,
     "metadata": {},
     "output_type": "execute_result"
    }
   ],
   "source": [
    "\n",
    "##___________MATRIZES_____________##\n",
    "\n",
    "df['Mes'] = pd.DatetimeIndex(df['DthAtualizaCadastralEmpreend']).month\n",
    "df['Ano'] = pd.DatetimeIndex(df['DthAtualizaCadastralEmpreend']).year\n",
    "\n",
    "counts = df_clean.groupby(['Ano', 'SigUF', 'DscClasseConsumo']).agg({'NumCPFCNPJ': 'nunique'}).reset_index()\n",
    "tabela = counts.groupby(['Ano', 'SigUF'])['NumCPFCNPJ'].sum().reset_index()\n",
    "matriz = tabela.pivot(index='SigUF', columns='Ano', values='NumCPFCNPJ')\n",
    "\n",
    "matriz['Total'] = matriz.sum(axis=1)\n",
    "matriz = matriz.fillna(0)\n",
    "\n",
    "matriz_tx = matriz.iloc[:, :-1].pct_change(axis=1) * 100\n",
    "matriz_tx= matriz.applymap(lambda x: '{:.0f}%'.format(x) if not np.isinf(x) else '∞')\n",
    "\n",
    "matriz\n",
    "\n"
   ]
  },
  {
   "cell_type": "code",
   "execution_count": 353,
   "id": "95c9740e",
   "metadata": {},
   "outputs": [
    {
     "data": {
      "application/vnd.plotly.v1+json": {
       "config": {
        "plotlyServerURL": "https://plot.ly"
       },
       "data": [
        {
         "colorscale": [
          [
           0,
           "rgb(255,255,217)"
          ],
          [
           0.125,
           "rgb(237,248,177)"
          ],
          [
           0.25,
           "rgb(199,233,180)"
          ],
          [
           0.375,
           "rgb(127,205,187)"
          ],
          [
           0.5,
           "rgb(65,182,196)"
          ],
          [
           0.625,
           "rgb(29,145,192)"
          ],
          [
           0.75,
           "rgb(34,94,168)"
          ],
          [
           0.875,
           "rgb(37,52,148)"
          ],
          [
           1,
           "rgb(8,29,88)"
          ]
         ],
         "reversescale": false,
         "showscale": false,
         "type": "heatmap",
         "x": [
          2012,
          2013,
          2014,
          2015,
          2016,
          2017,
          2018,
          2019,
          2020,
          2021,
          2022,
          2023
         ],
         "y": [
          "AC",
          "AL",
          "AM",
          "AP",
          "BA",
          "BR"
         ],
         "z": [
          [
           0,
           0,
           0,
           3,
           1,
           16,
           31,
           132,
           504,
           1409,
           1792,
           375
          ],
          [
           0,
           0,
           0,
           4,
           14,
           46,
           175,
           617,
           1613,
           3497,
           8152,
           2918
          ],
          [
           0,
           0,
           0,
           2,
           5,
           20,
           81,
           428,
           880,
           1582,
           2855,
           863
          ],
          [
           0,
           0,
           0,
           0,
           0,
           2,
           36,
           108,
           145,
           477,
           908,
           587
          ],
          [
           1,
           1,
           15,
           35,
           106,
           269,
           263,
           4,
           4,
           4,
           7,
           2
          ],
          [
           1,
           1,
           15,
           44,
           126,
           353,
           586,
           1289,
           3146,
           6969,
           13714,
           4745
          ]
         ]
        }
       ],
       "layout": {
        "annotations": [
         {
          "font": {
           "color": "gray"
          },
          "showarrow": false,
          "text": "0.0",
          "x": 2012,
          "xref": "x",
          "y": "AC",
          "yref": "y"
         },
         {
          "font": {
           "color": "gray"
          },
          "showarrow": false,
          "text": "0.0",
          "x": 2013,
          "xref": "x",
          "y": "AC",
          "yref": "y"
         },
         {
          "font": {
           "color": "gray"
          },
          "showarrow": false,
          "text": "0.0",
          "x": 2014,
          "xref": "x",
          "y": "AC",
          "yref": "y"
         },
         {
          "font": {
           "color": "gray"
          },
          "showarrow": false,
          "text": "3.0",
          "x": 2015,
          "xref": "x",
          "y": "AC",
          "yref": "y"
         },
         {
          "font": {
           "color": "gray"
          },
          "showarrow": false,
          "text": "1.0",
          "x": 2016,
          "xref": "x",
          "y": "AC",
          "yref": "y"
         },
         {
          "font": {
           "color": "gray"
          },
          "showarrow": false,
          "text": "16.0",
          "x": 2017,
          "xref": "x",
          "y": "AC",
          "yref": "y"
         },
         {
          "font": {
           "color": "gray"
          },
          "showarrow": false,
          "text": "31.0",
          "x": 2018,
          "xref": "x",
          "y": "AC",
          "yref": "y"
         },
         {
          "font": {
           "color": "gray"
          },
          "showarrow": false,
          "text": "132.0",
          "x": 2019,
          "xref": "x",
          "y": "AC",
          "yref": "y"
         },
         {
          "font": {
           "color": "gray"
          },
          "showarrow": false,
          "text": "504.0",
          "x": 2020,
          "xref": "x",
          "y": "AC",
          "yref": "y"
         },
         {
          "font": {
           "color": "gray"
          },
          "showarrow": false,
          "text": "1409.0",
          "x": 2021,
          "xref": "x",
          "y": "AC",
          "yref": "y"
         },
         {
          "font": {
           "color": "gray"
          },
          "showarrow": false,
          "text": "1792.0",
          "x": 2022,
          "xref": "x",
          "y": "AC",
          "yref": "y"
         },
         {
          "font": {
           "color": "gray"
          },
          "showarrow": false,
          "text": "375.0",
          "x": 2023,
          "xref": "x",
          "y": "AC",
          "yref": "y"
         },
         {
          "font": {
           "color": "gray"
          },
          "showarrow": false,
          "text": "0.0",
          "x": 2012,
          "xref": "x",
          "y": "AL",
          "yref": "y"
         },
         {
          "font": {
           "color": "gray"
          },
          "showarrow": false,
          "text": "0.0",
          "x": 2013,
          "xref": "x",
          "y": "AL",
          "yref": "y"
         },
         {
          "font": {
           "color": "gray"
          },
          "showarrow": false,
          "text": "0.0",
          "x": 2014,
          "xref": "x",
          "y": "AL",
          "yref": "y"
         },
         {
          "font": {
           "color": "gray"
          },
          "showarrow": false,
          "text": "4.0",
          "x": 2015,
          "xref": "x",
          "y": "AL",
          "yref": "y"
         },
         {
          "font": {
           "color": "gray"
          },
          "showarrow": false,
          "text": "14.0",
          "x": 2016,
          "xref": "x",
          "y": "AL",
          "yref": "y"
         },
         {
          "font": {
           "color": "gray"
          },
          "showarrow": false,
          "text": "46.0",
          "x": 2017,
          "xref": "x",
          "y": "AL",
          "yref": "y"
         },
         {
          "font": {
           "color": "gray"
          },
          "showarrow": false,
          "text": "175.0",
          "x": 2018,
          "xref": "x",
          "y": "AL",
          "yref": "y"
         },
         {
          "font": {
           "color": "gray"
          },
          "showarrow": false,
          "text": "617.0",
          "x": 2019,
          "xref": "x",
          "y": "AL",
          "yref": "y"
         },
         {
          "font": {
           "color": "gray"
          },
          "showarrow": false,
          "text": "1613.0",
          "x": 2020,
          "xref": "x",
          "y": "AL",
          "yref": "y"
         },
         {
          "font": {
           "color": "gray"
          },
          "showarrow": false,
          "text": "3497.0",
          "x": 2021,
          "xref": "x",
          "y": "AL",
          "yref": "y"
         },
         {
          "font": {
           "color": "white"
          },
          "showarrow": false,
          "text": "8152.0",
          "x": 2022,
          "xref": "x",
          "y": "AL",
          "yref": "y"
         },
         {
          "font": {
           "color": "gray"
          },
          "showarrow": false,
          "text": "2918.0",
          "x": 2023,
          "xref": "x",
          "y": "AL",
          "yref": "y"
         },
         {
          "font": {
           "color": "gray"
          },
          "showarrow": false,
          "text": "0.0",
          "x": 2012,
          "xref": "x",
          "y": "AM",
          "yref": "y"
         },
         {
          "font": {
           "color": "gray"
          },
          "showarrow": false,
          "text": "0.0",
          "x": 2013,
          "xref": "x",
          "y": "AM",
          "yref": "y"
         },
         {
          "font": {
           "color": "gray"
          },
          "showarrow": false,
          "text": "0.0",
          "x": 2014,
          "xref": "x",
          "y": "AM",
          "yref": "y"
         },
         {
          "font": {
           "color": "gray"
          },
          "showarrow": false,
          "text": "2.0",
          "x": 2015,
          "xref": "x",
          "y": "AM",
          "yref": "y"
         },
         {
          "font": {
           "color": "gray"
          },
          "showarrow": false,
          "text": "5.0",
          "x": 2016,
          "xref": "x",
          "y": "AM",
          "yref": "y"
         },
         {
          "font": {
           "color": "gray"
          },
          "showarrow": false,
          "text": "20.0",
          "x": 2017,
          "xref": "x",
          "y": "AM",
          "yref": "y"
         },
         {
          "font": {
           "color": "gray"
          },
          "showarrow": false,
          "text": "81.0",
          "x": 2018,
          "xref": "x",
          "y": "AM",
          "yref": "y"
         },
         {
          "font": {
           "color": "gray"
          },
          "showarrow": false,
          "text": "428.0",
          "x": 2019,
          "xref": "x",
          "y": "AM",
          "yref": "y"
         },
         {
          "font": {
           "color": "gray"
          },
          "showarrow": false,
          "text": "880.0",
          "x": 2020,
          "xref": "x",
          "y": "AM",
          "yref": "y"
         },
         {
          "font": {
           "color": "gray"
          },
          "showarrow": false,
          "text": "1582.0",
          "x": 2021,
          "xref": "x",
          "y": "AM",
          "yref": "y"
         },
         {
          "font": {
           "color": "gray"
          },
          "showarrow": false,
          "text": "2855.0",
          "x": 2022,
          "xref": "x",
          "y": "AM",
          "yref": "y"
         },
         {
          "font": {
           "color": "gray"
          },
          "showarrow": false,
          "text": "863.0",
          "x": 2023,
          "xref": "x",
          "y": "AM",
          "yref": "y"
         },
         {
          "font": {
           "color": "gray"
          },
          "showarrow": false,
          "text": "0.0",
          "x": 2012,
          "xref": "x",
          "y": "AP",
          "yref": "y"
         },
         {
          "font": {
           "color": "gray"
          },
          "showarrow": false,
          "text": "0.0",
          "x": 2013,
          "xref": "x",
          "y": "AP",
          "yref": "y"
         },
         {
          "font": {
           "color": "gray"
          },
          "showarrow": false,
          "text": "0.0",
          "x": 2014,
          "xref": "x",
          "y": "AP",
          "yref": "y"
         },
         {
          "font": {
           "color": "gray"
          },
          "showarrow": false,
          "text": "0.0",
          "x": 2015,
          "xref": "x",
          "y": "AP",
          "yref": "y"
         },
         {
          "font": {
           "color": "gray"
          },
          "showarrow": false,
          "text": "0.0",
          "x": 2016,
          "xref": "x",
          "y": "AP",
          "yref": "y"
         },
         {
          "font": {
           "color": "gray"
          },
          "showarrow": false,
          "text": "2.0",
          "x": 2017,
          "xref": "x",
          "y": "AP",
          "yref": "y"
         },
         {
          "font": {
           "color": "gray"
          },
          "showarrow": false,
          "text": "36.0",
          "x": 2018,
          "xref": "x",
          "y": "AP",
          "yref": "y"
         },
         {
          "font": {
           "color": "gray"
          },
          "showarrow": false,
          "text": "108.0",
          "x": 2019,
          "xref": "x",
          "y": "AP",
          "yref": "y"
         },
         {
          "font": {
           "color": "gray"
          },
          "showarrow": false,
          "text": "145.0",
          "x": 2020,
          "xref": "x",
          "y": "AP",
          "yref": "y"
         },
         {
          "font": {
           "color": "gray"
          },
          "showarrow": false,
          "text": "477.0",
          "x": 2021,
          "xref": "x",
          "y": "AP",
          "yref": "y"
         },
         {
          "font": {
           "color": "gray"
          },
          "showarrow": false,
          "text": "908.0",
          "x": 2022,
          "xref": "x",
          "y": "AP",
          "yref": "y"
         },
         {
          "font": {
           "color": "gray"
          },
          "showarrow": false,
          "text": "587.0",
          "x": 2023,
          "xref": "x",
          "y": "AP",
          "yref": "y"
         },
         {
          "font": {
           "color": "gray"
          },
          "showarrow": false,
          "text": "1.0",
          "x": 2012,
          "xref": "x",
          "y": "BA",
          "yref": "y"
         },
         {
          "font": {
           "color": "gray"
          },
          "showarrow": false,
          "text": "1.0",
          "x": 2013,
          "xref": "x",
          "y": "BA",
          "yref": "y"
         },
         {
          "font": {
           "color": "gray"
          },
          "showarrow": false,
          "text": "15.0",
          "x": 2014,
          "xref": "x",
          "y": "BA",
          "yref": "y"
         },
         {
          "font": {
           "color": "gray"
          },
          "showarrow": false,
          "text": "35.0",
          "x": 2015,
          "xref": "x",
          "y": "BA",
          "yref": "y"
         },
         {
          "font": {
           "color": "gray"
          },
          "showarrow": false,
          "text": "106.0",
          "x": 2016,
          "xref": "x",
          "y": "BA",
          "yref": "y"
         },
         {
          "font": {
           "color": "gray"
          },
          "showarrow": false,
          "text": "269.0",
          "x": 2017,
          "xref": "x",
          "y": "BA",
          "yref": "y"
         },
         {
          "font": {
           "color": "gray"
          },
          "showarrow": false,
          "text": "263.0",
          "x": 2018,
          "xref": "x",
          "y": "BA",
          "yref": "y"
         },
         {
          "font": {
           "color": "gray"
          },
          "showarrow": false,
          "text": "4.0",
          "x": 2019,
          "xref": "x",
          "y": "BA",
          "yref": "y"
         },
         {
          "font": {
           "color": "gray"
          },
          "showarrow": false,
          "text": "4.0",
          "x": 2020,
          "xref": "x",
          "y": "BA",
          "yref": "y"
         },
         {
          "font": {
           "color": "gray"
          },
          "showarrow": false,
          "text": "4.0",
          "x": 2021,
          "xref": "x",
          "y": "BA",
          "yref": "y"
         },
         {
          "font": {
           "color": "gray"
          },
          "showarrow": false,
          "text": "7.0",
          "x": 2022,
          "xref": "x",
          "y": "BA",
          "yref": "y"
         },
         {
          "font": {
           "color": "gray"
          },
          "showarrow": false,
          "text": "2.0",
          "x": 2023,
          "xref": "x",
          "y": "BA",
          "yref": "y"
         },
         {
          "font": {
           "color": "gray"
          },
          "showarrow": false,
          "text": "1.0",
          "x": 2012,
          "xref": "x",
          "y": "BR",
          "yref": "y"
         },
         {
          "font": {
           "color": "gray"
          },
          "showarrow": false,
          "text": "1.0",
          "x": 2013,
          "xref": "x",
          "y": "BR",
          "yref": "y"
         },
         {
          "font": {
           "color": "gray"
          },
          "showarrow": false,
          "text": "15.0",
          "x": 2014,
          "xref": "x",
          "y": "BR",
          "yref": "y"
         },
         {
          "font": {
           "color": "gray"
          },
          "showarrow": false,
          "text": "44.0",
          "x": 2015,
          "xref": "x",
          "y": "BR",
          "yref": "y"
         },
         {
          "font": {
           "color": "gray"
          },
          "showarrow": false,
          "text": "126.0",
          "x": 2016,
          "xref": "x",
          "y": "BR",
          "yref": "y"
         },
         {
          "font": {
           "color": "gray"
          },
          "showarrow": false,
          "text": "353.0",
          "x": 2017,
          "xref": "x",
          "y": "BR",
          "yref": "y"
         },
         {
          "font": {
           "color": "gray"
          },
          "showarrow": false,
          "text": "586.0",
          "x": 2018,
          "xref": "x",
          "y": "BR",
          "yref": "y"
         },
         {
          "font": {
           "color": "gray"
          },
          "showarrow": false,
          "text": "1289.0",
          "x": 2019,
          "xref": "x",
          "y": "BR",
          "yref": "y"
         },
         {
          "font": {
           "color": "gray"
          },
          "showarrow": false,
          "text": "3146.0",
          "x": 2020,
          "xref": "x",
          "y": "BR",
          "yref": "y"
         },
         {
          "font": {
           "color": "white"
          },
          "showarrow": false,
          "text": "6969.0",
          "x": 2021,
          "xref": "x",
          "y": "BR",
          "yref": "y"
         },
         {
          "font": {
           "color": "white"
          },
          "showarrow": false,
          "text": "13714.0",
          "x": 2022,
          "xref": "x",
          "y": "BR",
          "yref": "y"
         },
         {
          "font": {
           "color": "gray"
          },
          "showarrow": false,
          "text": "4745.0",
          "x": 2023,
          "xref": "x",
          "y": "BR",
          "yref": "y"
         }
        ],
        "height": 600,
        "margin": {
         "t": 130
        },
        "template": {
         "data": {
          "bar": [
           {
            "error_x": {
             "color": "#2a3f5f"
            },
            "error_y": {
             "color": "#2a3f5f"
            },
            "marker": {
             "line": {
              "color": "#E5ECF6",
              "width": 0.5
             },
             "pattern": {
              "fillmode": "overlay",
              "size": 10,
              "solidity": 0.2
             }
            },
            "type": "bar"
           }
          ],
          "barpolar": [
           {
            "marker": {
             "line": {
              "color": "#E5ECF6",
              "width": 0.5
             },
             "pattern": {
              "fillmode": "overlay",
              "size": 10,
              "solidity": 0.2
             }
            },
            "type": "barpolar"
           }
          ],
          "carpet": [
           {
            "aaxis": {
             "endlinecolor": "#2a3f5f",
             "gridcolor": "white",
             "linecolor": "white",
             "minorgridcolor": "white",
             "startlinecolor": "#2a3f5f"
            },
            "baxis": {
             "endlinecolor": "#2a3f5f",
             "gridcolor": "white",
             "linecolor": "white",
             "minorgridcolor": "white",
             "startlinecolor": "#2a3f5f"
            },
            "type": "carpet"
           }
          ],
          "choropleth": [
           {
            "colorbar": {
             "outlinewidth": 0,
             "ticks": ""
            },
            "type": "choropleth"
           }
          ],
          "contour": [
           {
            "colorbar": {
             "outlinewidth": 0,
             "ticks": ""
            },
            "colorscale": [
             [
              0,
              "#0d0887"
             ],
             [
              0.1111111111111111,
              "#46039f"
             ],
             [
              0.2222222222222222,
              "#7201a8"
             ],
             [
              0.3333333333333333,
              "#9c179e"
             ],
             [
              0.4444444444444444,
              "#bd3786"
             ],
             [
              0.5555555555555556,
              "#d8576b"
             ],
             [
              0.6666666666666666,
              "#ed7953"
             ],
             [
              0.7777777777777778,
              "#fb9f3a"
             ],
             [
              0.8888888888888888,
              "#fdca26"
             ],
             [
              1,
              "#f0f921"
             ]
            ],
            "type": "contour"
           }
          ],
          "contourcarpet": [
           {
            "colorbar": {
             "outlinewidth": 0,
             "ticks": ""
            },
            "type": "contourcarpet"
           }
          ],
          "heatmap": [
           {
            "colorbar": {
             "outlinewidth": 0,
             "ticks": ""
            },
            "colorscale": [
             [
              0,
              "#0d0887"
             ],
             [
              0.1111111111111111,
              "#46039f"
             ],
             [
              0.2222222222222222,
              "#7201a8"
             ],
             [
              0.3333333333333333,
              "#9c179e"
             ],
             [
              0.4444444444444444,
              "#bd3786"
             ],
             [
              0.5555555555555556,
              "#d8576b"
             ],
             [
              0.6666666666666666,
              "#ed7953"
             ],
             [
              0.7777777777777778,
              "#fb9f3a"
             ],
             [
              0.8888888888888888,
              "#fdca26"
             ],
             [
              1,
              "#f0f921"
             ]
            ],
            "type": "heatmap"
           }
          ],
          "heatmapgl": [
           {
            "colorbar": {
             "outlinewidth": 0,
             "ticks": ""
            },
            "colorscale": [
             [
              0,
              "#0d0887"
             ],
             [
              0.1111111111111111,
              "#46039f"
             ],
             [
              0.2222222222222222,
              "#7201a8"
             ],
             [
              0.3333333333333333,
              "#9c179e"
             ],
             [
              0.4444444444444444,
              "#bd3786"
             ],
             [
              0.5555555555555556,
              "#d8576b"
             ],
             [
              0.6666666666666666,
              "#ed7953"
             ],
             [
              0.7777777777777778,
              "#fb9f3a"
             ],
             [
              0.8888888888888888,
              "#fdca26"
             ],
             [
              1,
              "#f0f921"
             ]
            ],
            "type": "heatmapgl"
           }
          ],
          "histogram": [
           {
            "marker": {
             "pattern": {
              "fillmode": "overlay",
              "size": 10,
              "solidity": 0.2
             }
            },
            "type": "histogram"
           }
          ],
          "histogram2d": [
           {
            "colorbar": {
             "outlinewidth": 0,
             "ticks": ""
            },
            "colorscale": [
             [
              0,
              "#0d0887"
             ],
             [
              0.1111111111111111,
              "#46039f"
             ],
             [
              0.2222222222222222,
              "#7201a8"
             ],
             [
              0.3333333333333333,
              "#9c179e"
             ],
             [
              0.4444444444444444,
              "#bd3786"
             ],
             [
              0.5555555555555556,
              "#d8576b"
             ],
             [
              0.6666666666666666,
              "#ed7953"
             ],
             [
              0.7777777777777778,
              "#fb9f3a"
             ],
             [
              0.8888888888888888,
              "#fdca26"
             ],
             [
              1,
              "#f0f921"
             ]
            ],
            "type": "histogram2d"
           }
          ],
          "histogram2dcontour": [
           {
            "colorbar": {
             "outlinewidth": 0,
             "ticks": ""
            },
            "colorscale": [
             [
              0,
              "#0d0887"
             ],
             [
              0.1111111111111111,
              "#46039f"
             ],
             [
              0.2222222222222222,
              "#7201a8"
             ],
             [
              0.3333333333333333,
              "#9c179e"
             ],
             [
              0.4444444444444444,
              "#bd3786"
             ],
             [
              0.5555555555555556,
              "#d8576b"
             ],
             [
              0.6666666666666666,
              "#ed7953"
             ],
             [
              0.7777777777777778,
              "#fb9f3a"
             ],
             [
              0.8888888888888888,
              "#fdca26"
             ],
             [
              1,
              "#f0f921"
             ]
            ],
            "type": "histogram2dcontour"
           }
          ],
          "mesh3d": [
           {
            "colorbar": {
             "outlinewidth": 0,
             "ticks": ""
            },
            "type": "mesh3d"
           }
          ],
          "parcoords": [
           {
            "line": {
             "colorbar": {
              "outlinewidth": 0,
              "ticks": ""
             }
            },
            "type": "parcoords"
           }
          ],
          "pie": [
           {
            "automargin": true,
            "type": "pie"
           }
          ],
          "scatter": [
           {
            "fillpattern": {
             "fillmode": "overlay",
             "size": 10,
             "solidity": 0.2
            },
            "type": "scatter"
           }
          ],
          "scatter3d": [
           {
            "line": {
             "colorbar": {
              "outlinewidth": 0,
              "ticks": ""
             }
            },
            "marker": {
             "colorbar": {
              "outlinewidth": 0,
              "ticks": ""
             }
            },
            "type": "scatter3d"
           }
          ],
          "scattercarpet": [
           {
            "marker": {
             "colorbar": {
              "outlinewidth": 0,
              "ticks": ""
             }
            },
            "type": "scattercarpet"
           }
          ],
          "scattergeo": [
           {
            "marker": {
             "colorbar": {
              "outlinewidth": 0,
              "ticks": ""
             }
            },
            "type": "scattergeo"
           }
          ],
          "scattergl": [
           {
            "marker": {
             "colorbar": {
              "outlinewidth": 0,
              "ticks": ""
             }
            },
            "type": "scattergl"
           }
          ],
          "scattermapbox": [
           {
            "marker": {
             "colorbar": {
              "outlinewidth": 0,
              "ticks": ""
             }
            },
            "type": "scattermapbox"
           }
          ],
          "scatterpolar": [
           {
            "marker": {
             "colorbar": {
              "outlinewidth": 0,
              "ticks": ""
             }
            },
            "type": "scatterpolar"
           }
          ],
          "scatterpolargl": [
           {
            "marker": {
             "colorbar": {
              "outlinewidth": 0,
              "ticks": ""
             }
            },
            "type": "scatterpolargl"
           }
          ],
          "scatterternary": [
           {
            "marker": {
             "colorbar": {
              "outlinewidth": 0,
              "ticks": ""
             }
            },
            "type": "scatterternary"
           }
          ],
          "surface": [
           {
            "colorbar": {
             "outlinewidth": 0,
             "ticks": ""
            },
            "colorscale": [
             [
              0,
              "#0d0887"
             ],
             [
              0.1111111111111111,
              "#46039f"
             ],
             [
              0.2222222222222222,
              "#7201a8"
             ],
             [
              0.3333333333333333,
              "#9c179e"
             ],
             [
              0.4444444444444444,
              "#bd3786"
             ],
             [
              0.5555555555555556,
              "#d8576b"
             ],
             [
              0.6666666666666666,
              "#ed7953"
             ],
             [
              0.7777777777777778,
              "#fb9f3a"
             ],
             [
              0.8888888888888888,
              "#fdca26"
             ],
             [
              1,
              "#f0f921"
             ]
            ],
            "type": "surface"
           }
          ],
          "table": [
           {
            "cells": {
             "fill": {
              "color": "#EBF0F8"
             },
             "line": {
              "color": "white"
             }
            },
            "header": {
             "fill": {
              "color": "#C8D4E3"
             },
             "line": {
              "color": "white"
             }
            },
            "type": "table"
           }
          ]
         },
         "layout": {
          "annotationdefaults": {
           "arrowcolor": "#2a3f5f",
           "arrowhead": 0,
           "arrowwidth": 1
          },
          "autotypenumbers": "strict",
          "coloraxis": {
           "colorbar": {
            "outlinewidth": 0,
            "ticks": ""
           }
          },
          "colorscale": {
           "diverging": [
            [
             0,
             "#8e0152"
            ],
            [
             0.1,
             "#c51b7d"
            ],
            [
             0.2,
             "#de77ae"
            ],
            [
             0.3,
             "#f1b6da"
            ],
            [
             0.4,
             "#fde0ef"
            ],
            [
             0.5,
             "#f7f7f7"
            ],
            [
             0.6,
             "#e6f5d0"
            ],
            [
             0.7,
             "#b8e186"
            ],
            [
             0.8,
             "#7fbc41"
            ],
            [
             0.9,
             "#4d9221"
            ],
            [
             1,
             "#276419"
            ]
           ],
           "sequential": [
            [
             0,
             "#0d0887"
            ],
            [
             0.1111111111111111,
             "#46039f"
            ],
            [
             0.2222222222222222,
             "#7201a8"
            ],
            [
             0.3333333333333333,
             "#9c179e"
            ],
            [
             0.4444444444444444,
             "#bd3786"
            ],
            [
             0.5555555555555556,
             "#d8576b"
            ],
            [
             0.6666666666666666,
             "#ed7953"
            ],
            [
             0.7777777777777778,
             "#fb9f3a"
            ],
            [
             0.8888888888888888,
             "#fdca26"
            ],
            [
             1,
             "#f0f921"
            ]
           ],
           "sequentialminus": [
            [
             0,
             "#0d0887"
            ],
            [
             0.1111111111111111,
             "#46039f"
            ],
            [
             0.2222222222222222,
             "#7201a8"
            ],
            [
             0.3333333333333333,
             "#9c179e"
            ],
            [
             0.4444444444444444,
             "#bd3786"
            ],
            [
             0.5555555555555556,
             "#d8576b"
            ],
            [
             0.6666666666666666,
             "#ed7953"
            ],
            [
             0.7777777777777778,
             "#fb9f3a"
            ],
            [
             0.8888888888888888,
             "#fdca26"
            ],
            [
             1,
             "#f0f921"
            ]
           ]
          },
          "colorway": [
           "#636efa",
           "#EF553B",
           "#00cc96",
           "#ab63fa",
           "#FFA15A",
           "#19d3f3",
           "#FF6692",
           "#B6E880",
           "#FF97FF",
           "#FECB52"
          ],
          "font": {
           "color": "#2a3f5f"
          },
          "geo": {
           "bgcolor": "white",
           "lakecolor": "white",
           "landcolor": "#E5ECF6",
           "showlakes": true,
           "showland": true,
           "subunitcolor": "white"
          },
          "hoverlabel": {
           "align": "left"
          },
          "hovermode": "closest",
          "mapbox": {
           "style": "light"
          },
          "paper_bgcolor": "white",
          "plot_bgcolor": "#E5ECF6",
          "polar": {
           "angularaxis": {
            "gridcolor": "white",
            "linecolor": "white",
            "ticks": ""
           },
           "bgcolor": "#E5ECF6",
           "radialaxis": {
            "gridcolor": "white",
            "linecolor": "white",
            "ticks": ""
           }
          },
          "scene": {
           "xaxis": {
            "backgroundcolor": "#E5ECF6",
            "gridcolor": "white",
            "gridwidth": 2,
            "linecolor": "white",
            "showbackground": true,
            "ticks": "",
            "zerolinecolor": "white"
           },
           "yaxis": {
            "backgroundcolor": "#E5ECF6",
            "gridcolor": "white",
            "gridwidth": 2,
            "linecolor": "white",
            "showbackground": true,
            "ticks": "",
            "zerolinecolor": "white"
           },
           "zaxis": {
            "backgroundcolor": "#E5ECF6",
            "gridcolor": "white",
            "gridwidth": 2,
            "linecolor": "white",
            "showbackground": true,
            "ticks": "",
            "zerolinecolor": "white"
           }
          },
          "shapedefaults": {
           "line": {
            "color": "#2a3f5f"
           }
          },
          "ternary": {
           "aaxis": {
            "gridcolor": "white",
            "linecolor": "white",
            "ticks": ""
           },
           "baxis": {
            "gridcolor": "white",
            "linecolor": "white",
            "ticks": ""
           },
           "bgcolor": "#E5ECF6",
           "caxis": {
            "gridcolor": "white",
            "linecolor": "white",
            "ticks": ""
           }
          },
          "title": {
           "x": 0.05
          },
          "xaxis": {
           "automargin": true,
           "gridcolor": "white",
           "linecolor": "white",
           "ticks": "",
           "title": {
            "standoff": 15
           },
           "zerolinecolor": "white",
           "zerolinewidth": 2
          },
          "yaxis": {
           "automargin": true,
           "gridcolor": "white",
           "linecolor": "white",
           "ticks": "",
           "title": {
            "standoff": 15
           },
           "zerolinecolor": "white",
           "zerolinewidth": 2
          }
         }
        },
        "title": {
         "font": {
          "size": 20
         },
         "text": "Novos usuários da Energia distribuida",
         "x": 0.5
        },
        "width": 1200,
        "xaxis": {
         "dtick": 1,
         "gridcolor": "rgb(0, 0, 0)",
         "side": "top",
         "tickfont": {
          "size": 14
         },
         "ticks": "",
         "title": {
          "font": {
           "size": 16
          },
          "text": "Ano"
         }
        },
        "yaxis": {
         "dtick": 1,
         "tickfont": {
          "size": 14
         },
         "ticks": "",
         "ticksuffix": "  ",
         "title": {
          "font": {
           "size": 16
          },
          "text": "SigUF"
         },
         "type": "category"
        }
       }
      }
     },
     "metadata": {},
     "output_type": "display_data"
    }
   ],
   "source": [
    "\n",
    "import plotly.graph_objs as go\n",
    "from plotly.subplots import make_subplots\n",
    "import plotly.figure_factory as ff\n",
    "\n",
    "df['Mes'] = pd.DatetimeIndex(df['DthAtualizaCadastralEmpreend']).month\n",
    "df['Ano'] = pd.DatetimeIndex(df['DthAtualizaCadastralEmpreend']).year\n",
    "\n",
    "counts = df_clean.groupby(['Ano', 'SigUF', 'DscClasseConsumo']).agg({'NumCPFCNPJ': 'nunique'}).reset_index()\n",
    "tabela = counts.groupby(['Ano', 'SigUF'])['NumCPFCNPJ'].sum().reset_index()\n",
    "matriz = tabela.pivot(index='SigUF', columns='Ano', values='NumCPFCNPJ')\n",
    "\n",
    "matriz['Total'] = matriz.sum(axis=1)\n",
    "matriz = matriz.fillna(0)\n",
    "\n",
    "matriz_tx = matriz.iloc[:, :-1].pct_change(axis=1) * 100\n",
    "matriz_tx= matriz.applymap(lambda x: '{:.0f}%'.format(x) if not np.isinf(x) else '∞')\n",
    "\n",
    "\n",
    "counts = df_clean.groupby(['Ano', 'SigUF', 'DscClasseConsumo']).agg({'NumCPFCNPJ': 'nunique'}).reset_index()\n",
    "tabela = counts.groupby(['Ano', 'SigUF'])['NumCPFCNPJ'].sum().reset_index()\n",
    "matriz = tabela.pivot(index='SigUF', columns='Ano', values='NumCPFCNPJ')\n",
    "\n",
    "matriz.loc['BR'] = matriz.sum()\n",
    "\n",
    "\n",
    "matriz = matriz.fillna(0)\n",
    "\n",
    "z_text = matriz.round(2).values.tolist()\n",
    "\n",
    "fig = ff.create_annotated_heatmap(z=matriz.values,\n",
    "                                  x=list(matriz.columns),\n",
    "                                  y=list(matriz.index),\n",
    "                                  annotation_text=z_text,\n",
    "                                  font_colors=['gray', 'white'],\n",
    "                                  colorscale='YlGnBu')\n",
    "\n",
    "fig.update_layout(yaxis={'type': 'category'})\n",
    "\n",
    "\n",
    "fig.update_layout(\n",
    "    width=1200,\n",
    "    height=600,\n",
    "    xaxis_title='Ano',\n",
    "    xaxis_title_font_size=16,\n",
    "    xaxis_tickfont_size=14,\n",
    "    yaxis_title='SigUF',\n",
    "    yaxis_title_font_size=16,\n",
    "    yaxis_tickfont_size=14,\n",
    "    title='Novos usuários da Energia distribuida',\n",
    "    title_font_size=20,\n",
    "    title_x=.5,\n",
    "    margin=dict(t=130)\n",
    ")\n",
    "\n",
    "fig.show()"
   ]
  },
  {
   "cell_type": "code",
   "execution_count": null,
   "id": "7469bc04",
   "metadata": {},
   "outputs": [],
   "source": [
    "\n",
    "\n",
    "\n",
    "\n",
    "\n",
    "\n",
    "\n",
    "\n",
    "\n",
    "\n",
    "\n"
   ]
  },
  {
   "cell_type": "code",
   "execution_count": 488,
   "id": "98c17515",
   "metadata": {},
   "outputs": [
    {
     "data": {
      "text/html": [
       "<div>\n",
       "<style scoped>\n",
       "    .dataframe tbody tr th:only-of-type {\n",
       "        vertical-align: middle;\n",
       "    }\n",
       "\n",
       "    .dataframe tbody tr th {\n",
       "        vertical-align: top;\n",
       "    }\n",
       "\n",
       "    .dataframe thead th {\n",
       "        text-align: right;\n",
       "    }\n",
       "</style>\n",
       "<table border=\"1\" class=\"dataframe\">\n",
       "  <thead>\n",
       "    <tr style=\"text-align: right;\">\n",
       "      <th>Ano</th>\n",
       "      <th>2012</th>\n",
       "      <th>2013</th>\n",
       "      <th>2014</th>\n",
       "      <th>2015</th>\n",
       "      <th>2016</th>\n",
       "      <th>2017</th>\n",
       "      <th>2018</th>\n",
       "      <th>2019</th>\n",
       "      <th>2020</th>\n",
       "      <th>2021</th>\n",
       "      <th>2022</th>\n",
       "      <th>2023</th>\n",
       "      <th>Total</th>\n",
       "      <th>med</th>\n",
       "      <th>2023</th>\n",
       "    </tr>\n",
       "    <tr>\n",
       "      <th>SigUF</th>\n",
       "      <th></th>\n",
       "      <th></th>\n",
       "      <th></th>\n",
       "      <th></th>\n",
       "      <th></th>\n",
       "      <th></th>\n",
       "      <th></th>\n",
       "      <th></th>\n",
       "      <th></th>\n",
       "      <th></th>\n",
       "      <th></th>\n",
       "      <th></th>\n",
       "      <th></th>\n",
       "      <th></th>\n",
       "      <th></th>\n",
       "    </tr>\n",
       "  </thead>\n",
       "  <tbody>\n",
       "    <tr>\n",
       "      <th>AC</th>\n",
       "      <td>nan%</td>\n",
       "      <td>nan%</td>\n",
       "      <td>nan%</td>\n",
       "      <td>inf%</td>\n",
       "      <td>-67%</td>\n",
       "      <td>1500%</td>\n",
       "      <td>94%</td>\n",
       "      <td>326%</td>\n",
       "      <td>282%</td>\n",
       "      <td>180%</td>\n",
       "      <td>27%</td>\n",
       "      <td>-79%</td>\n",
       "      <td>0</td>\n",
       "      <td>0</td>\n",
       "      <td>0</td>\n",
       "    </tr>\n",
       "    <tr>\n",
       "      <th>AL</th>\n",
       "      <td>nan%</td>\n",
       "      <td>nan%</td>\n",
       "      <td>nan%</td>\n",
       "      <td>inf%</td>\n",
       "      <td>250%</td>\n",
       "      <td>229%</td>\n",
       "      <td>280%</td>\n",
       "      <td>253%</td>\n",
       "      <td>161%</td>\n",
       "      <td>117%</td>\n",
       "      <td>133%</td>\n",
       "      <td>-64%</td>\n",
       "      <td>0</td>\n",
       "      <td>0</td>\n",
       "      <td>0</td>\n",
       "    </tr>\n",
       "    <tr>\n",
       "      <th>AM</th>\n",
       "      <td>nan%</td>\n",
       "      <td>nan%</td>\n",
       "      <td>nan%</td>\n",
       "      <td>inf%</td>\n",
       "      <td>150%</td>\n",
       "      <td>300%</td>\n",
       "      <td>305%</td>\n",
       "      <td>428%</td>\n",
       "      <td>106%</td>\n",
       "      <td>80%</td>\n",
       "      <td>80%</td>\n",
       "      <td>-70%</td>\n",
       "      <td>0</td>\n",
       "      <td>0</td>\n",
       "      <td>0</td>\n",
       "    </tr>\n",
       "    <tr>\n",
       "      <th>AP</th>\n",
       "      <td>nan%</td>\n",
       "      <td>nan%</td>\n",
       "      <td>nan%</td>\n",
       "      <td>nan%</td>\n",
       "      <td>nan%</td>\n",
       "      <td>inf%</td>\n",
       "      <td>1700%</td>\n",
       "      <td>200%</td>\n",
       "      <td>34%</td>\n",
       "      <td>229%</td>\n",
       "      <td>90%</td>\n",
       "      <td>-35%</td>\n",
       "      <td>0</td>\n",
       "      <td>0</td>\n",
       "      <td>0</td>\n",
       "    </tr>\n",
       "    <tr>\n",
       "      <th>BA</th>\n",
       "      <td>nan%</td>\n",
       "      <td>0%</td>\n",
       "      <td>1400%</td>\n",
       "      <td>133%</td>\n",
       "      <td>203%</td>\n",
       "      <td>154%</td>\n",
       "      <td>-2%</td>\n",
       "      <td>-98%</td>\n",
       "      <td>0%</td>\n",
       "      <td>0%</td>\n",
       "      <td>75%</td>\n",
       "      <td>-71%</td>\n",
       "      <td>0</td>\n",
       "      <td>0</td>\n",
       "      <td>0</td>\n",
       "    </tr>\n",
       "  </tbody>\n",
       "</table>\n",
       "</div>"
      ],
      "text/plain": [
       "Ano    2012  2013   2014  2015  2016   2017   2018  2019  2020  2021  2022  \\\n",
       "SigUF                                                                        \n",
       "AC     nan%  nan%   nan%  inf%  -67%  1500%    94%  326%  282%  180%   27%   \n",
       "AL     nan%  nan%   nan%  inf%  250%   229%   280%  253%  161%  117%  133%   \n",
       "AM     nan%  nan%   nan%  inf%  150%   300%   305%  428%  106%   80%   80%   \n",
       "AP     nan%  nan%   nan%  nan%  nan%   inf%  1700%  200%   34%  229%   90%   \n",
       "BA     nan%    0%  1400%  133%  203%   154%    -2%  -98%    0%    0%   75%   \n",
       "\n",
       "Ano    2023  Total  med  2023  \n",
       "SigUF                          \n",
       "AC     -79%      0    0     0  \n",
       "AL     -64%      0    0     0  \n",
       "AM     -70%      0    0     0  \n",
       "AP     -35%      0    0     0  \n",
       "BA     -71%      0    0     0  "
      ]
     },
     "execution_count": 488,
     "metadata": {},
     "output_type": "execute_result"
    }
   ],
   "source": [
    "\n",
    "matriz_tx"
   ]
  },
  {
   "cell_type": "code",
   "execution_count": 512,
   "id": "399ed3ce",
   "metadata": {},
   "outputs": [
    {
     "data": {
      "application/vnd.plotly.v1+json": {
       "config": {
        "plotlyServerURL": "https://plot.ly"
       },
       "data": [
        {
         "colorscale": [
          [
           0,
           "rgb(255,255,217)"
          ],
          [
           0.125,
           "rgb(237,248,177)"
          ],
          [
           0.25,
           "rgb(199,233,180)"
          ],
          [
           0.375,
           "rgb(127,205,187)"
          ],
          [
           0.5,
           "rgb(65,182,196)"
          ],
          [
           0.625,
           "rgb(29,145,192)"
          ],
          [
           0.75,
           "rgb(34,94,168)"
          ],
          [
           0.875,
           "rgb(37,52,148)"
          ],
          [
           1,
           "rgb(8,29,88)"
          ]
         ],
         "reversescale": false,
         "showscale": false,
         "type": "heatmap",
         "x": [
          2012,
          2013,
          2014,
          2015,
          2016,
          2017,
          2018,
          2019,
          2020,
          2021,
          2022,
          2023
         ],
         "y": [
          "AC",
          "AL",
          "AM",
          "AP",
          "BA",
          "BR"
         ],
         "z": [
          [
           0,
           0,
           0,
           3,
           1,
           16,
           31,
           132,
           504,
           1409,
           1792,
           375
          ],
          [
           0,
           0,
           0,
           4,
           14,
           46,
           175,
           617,
           1613,
           3497,
           8152,
           2918
          ],
          [
           0,
           0,
           0,
           2,
           5,
           20,
           81,
           428,
           880,
           1582,
           2855,
           863
          ],
          [
           0,
           0,
           0,
           0,
           0,
           2,
           36,
           108,
           145,
           477,
           908,
           587
          ],
          [
           1,
           1,
           15,
           35,
           106,
           269,
           263,
           4,
           4,
           4,
           7,
           2
          ],
          [
           1,
           1,
           15,
           44,
           126,
           353,
           586,
           1289,
           3146,
           6969,
           13714,
           4745
          ]
         ]
        }
       ],
       "layout": {
        "annotations": [
         {
          "font": {
           "color": "gray"
          },
          "showarrow": false,
          "text": "0.0<br> ",
          "x": 2012,
          "xref": "x",
          "y": "AC",
          "yref": "y"
         },
         {
          "font": {
           "color": "gray"
          },
          "showarrow": false,
          "text": "0.0<br> ",
          "x": 2013,
          "xref": "x",
          "y": "AC",
          "yref": "y"
         },
         {
          "font": {
           "color": "gray"
          },
          "showarrow": false,
          "text": "0.0<br> ",
          "x": 2014,
          "xref": "x",
          "y": "AC",
          "yref": "y"
         },
         {
          "font": {
           "color": "gray"
          },
          "showarrow": false,
          "text": "3.0<br>inf%",
          "x": 2015,
          "xref": "x",
          "y": "AC",
          "yref": "y"
         },
         {
          "font": {
           "color": "gray"
          },
          "showarrow": false,
          "text": "1.0<br>-67%",
          "x": 2016,
          "xref": "x",
          "y": "AC",
          "yref": "y"
         },
         {
          "font": {
           "color": "gray"
          },
          "showarrow": false,
          "text": "16.0<br>1500%",
          "x": 2017,
          "xref": "x",
          "y": "AC",
          "yref": "y"
         },
         {
          "font": {
           "color": "gray"
          },
          "showarrow": false,
          "text": "31.0<br>94%",
          "x": 2018,
          "xref": "x",
          "y": "AC",
          "yref": "y"
         },
         {
          "font": {
           "color": "gray"
          },
          "showarrow": false,
          "text": "132.0<br>326%",
          "x": 2019,
          "xref": "x",
          "y": "AC",
          "yref": "y"
         },
         {
          "font": {
           "color": "gray"
          },
          "showarrow": false,
          "text": "504.0<br>282%",
          "x": 2020,
          "xref": "x",
          "y": "AC",
          "yref": "y"
         },
         {
          "font": {
           "color": "gray"
          },
          "showarrow": false,
          "text": "1409.0<br>180%",
          "x": 2021,
          "xref": "x",
          "y": "AC",
          "yref": "y"
         },
         {
          "font": {
           "color": "gray"
          },
          "showarrow": false,
          "text": "1792.0<br>27%",
          "x": 2022,
          "xref": "x",
          "y": "AC",
          "yref": "y"
         },
         {
          "font": {
           "color": "gray"
          },
          "showarrow": false,
          "text": "375.0<br>-79%",
          "x": 2023,
          "xref": "x",
          "y": "AC",
          "yref": "y"
         },
         {
          "font": {
           "color": "gray"
          },
          "showarrow": false,
          "text": "0.0<br> ",
          "x": 2012,
          "xref": "x",
          "y": "AL",
          "yref": "y"
         },
         {
          "font": {
           "color": "gray"
          },
          "showarrow": false,
          "text": "0.0<br> ",
          "x": 2013,
          "xref": "x",
          "y": "AL",
          "yref": "y"
         },
         {
          "font": {
           "color": "gray"
          },
          "showarrow": false,
          "text": "0.0<br> ",
          "x": 2014,
          "xref": "x",
          "y": "AL",
          "yref": "y"
         },
         {
          "font": {
           "color": "gray"
          },
          "showarrow": false,
          "text": "4.0<br>inf%",
          "x": 2015,
          "xref": "x",
          "y": "AL",
          "yref": "y"
         },
         {
          "font": {
           "color": "gray"
          },
          "showarrow": false,
          "text": "14.0<br>250%",
          "x": 2016,
          "xref": "x",
          "y": "AL",
          "yref": "y"
         },
         {
          "font": {
           "color": "gray"
          },
          "showarrow": false,
          "text": "46.0<br>229%",
          "x": 2017,
          "xref": "x",
          "y": "AL",
          "yref": "y"
         },
         {
          "font": {
           "color": "gray"
          },
          "showarrow": false,
          "text": "175.0<br>280%",
          "x": 2018,
          "xref": "x",
          "y": "AL",
          "yref": "y"
         },
         {
          "font": {
           "color": "gray"
          },
          "showarrow": false,
          "text": "617.0<br>253%",
          "x": 2019,
          "xref": "x",
          "y": "AL",
          "yref": "y"
         },
         {
          "font": {
           "color": "gray"
          },
          "showarrow": false,
          "text": "1613.0<br>161%",
          "x": 2020,
          "xref": "x",
          "y": "AL",
          "yref": "y"
         },
         {
          "font": {
           "color": "gray"
          },
          "showarrow": false,
          "text": "3497.0<br>117%",
          "x": 2021,
          "xref": "x",
          "y": "AL",
          "yref": "y"
         },
         {
          "font": {
           "color": "white"
          },
          "showarrow": false,
          "text": "8152.0<br>133%",
          "x": 2022,
          "xref": "x",
          "y": "AL",
          "yref": "y"
         },
         {
          "font": {
           "color": "gray"
          },
          "showarrow": false,
          "text": "2918.0<br>-64%",
          "x": 2023,
          "xref": "x",
          "y": "AL",
          "yref": "y"
         },
         {
          "font": {
           "color": "gray"
          },
          "showarrow": false,
          "text": "0.0<br> ",
          "x": 2012,
          "xref": "x",
          "y": "AM",
          "yref": "y"
         },
         {
          "font": {
           "color": "gray"
          },
          "showarrow": false,
          "text": "0.0<br> ",
          "x": 2013,
          "xref": "x",
          "y": "AM",
          "yref": "y"
         },
         {
          "font": {
           "color": "gray"
          },
          "showarrow": false,
          "text": "0.0<br> ",
          "x": 2014,
          "xref": "x",
          "y": "AM",
          "yref": "y"
         },
         {
          "font": {
           "color": "gray"
          },
          "showarrow": false,
          "text": "2.0<br>inf%",
          "x": 2015,
          "xref": "x",
          "y": "AM",
          "yref": "y"
         },
         {
          "font": {
           "color": "gray"
          },
          "showarrow": false,
          "text": "5.0<br>150%",
          "x": 2016,
          "xref": "x",
          "y": "AM",
          "yref": "y"
         },
         {
          "font": {
           "color": "gray"
          },
          "showarrow": false,
          "text": "20.0<br>300%",
          "x": 2017,
          "xref": "x",
          "y": "AM",
          "yref": "y"
         },
         {
          "font": {
           "color": "gray"
          },
          "showarrow": false,
          "text": "81.0<br>305%",
          "x": 2018,
          "xref": "x",
          "y": "AM",
          "yref": "y"
         },
         {
          "font": {
           "color": "gray"
          },
          "showarrow": false,
          "text": "428.0<br>428%",
          "x": 2019,
          "xref": "x",
          "y": "AM",
          "yref": "y"
         },
         {
          "font": {
           "color": "gray"
          },
          "showarrow": false,
          "text": "880.0<br>106%",
          "x": 2020,
          "xref": "x",
          "y": "AM",
          "yref": "y"
         },
         {
          "font": {
           "color": "gray"
          },
          "showarrow": false,
          "text": "1582.0<br>80%",
          "x": 2021,
          "xref": "x",
          "y": "AM",
          "yref": "y"
         },
         {
          "font": {
           "color": "gray"
          },
          "showarrow": false,
          "text": "2855.0<br>80%",
          "x": 2022,
          "xref": "x",
          "y": "AM",
          "yref": "y"
         },
         {
          "font": {
           "color": "gray"
          },
          "showarrow": false,
          "text": "863.0<br>-70%",
          "x": 2023,
          "xref": "x",
          "y": "AM",
          "yref": "y"
         },
         {
          "font": {
           "color": "gray"
          },
          "showarrow": false,
          "text": "0.0<br> ",
          "x": 2012,
          "xref": "x",
          "y": "AP",
          "yref": "y"
         },
         {
          "font": {
           "color": "gray"
          },
          "showarrow": false,
          "text": "0.0<br> ",
          "x": 2013,
          "xref": "x",
          "y": "AP",
          "yref": "y"
         },
         {
          "font": {
           "color": "gray"
          },
          "showarrow": false,
          "text": "0.0<br> ",
          "x": 2014,
          "xref": "x",
          "y": "AP",
          "yref": "y"
         },
         {
          "font": {
           "color": "gray"
          },
          "showarrow": false,
          "text": "0.0<br> ",
          "x": 2015,
          "xref": "x",
          "y": "AP",
          "yref": "y"
         },
         {
          "font": {
           "color": "gray"
          },
          "showarrow": false,
          "text": "0.0<br> ",
          "x": 2016,
          "xref": "x",
          "y": "AP",
          "yref": "y"
         },
         {
          "font": {
           "color": "gray"
          },
          "showarrow": false,
          "text": "2.0<br>inf%",
          "x": 2017,
          "xref": "x",
          "y": "AP",
          "yref": "y"
         },
         {
          "font": {
           "color": "gray"
          },
          "showarrow": false,
          "text": "36.0<br>1700%",
          "x": 2018,
          "xref": "x",
          "y": "AP",
          "yref": "y"
         },
         {
          "font": {
           "color": "gray"
          },
          "showarrow": false,
          "text": "108.0<br>200%",
          "x": 2019,
          "xref": "x",
          "y": "AP",
          "yref": "y"
         },
         {
          "font": {
           "color": "gray"
          },
          "showarrow": false,
          "text": "145.0<br>34%",
          "x": 2020,
          "xref": "x",
          "y": "AP",
          "yref": "y"
         },
         {
          "font": {
           "color": "gray"
          },
          "showarrow": false,
          "text": "477.0<br>229%",
          "x": 2021,
          "xref": "x",
          "y": "AP",
          "yref": "y"
         },
         {
          "font": {
           "color": "gray"
          },
          "showarrow": false,
          "text": "908.0<br>90%",
          "x": 2022,
          "xref": "x",
          "y": "AP",
          "yref": "y"
         },
         {
          "font": {
           "color": "gray"
          },
          "showarrow": false,
          "text": "587.0<br>-35%",
          "x": 2023,
          "xref": "x",
          "y": "AP",
          "yref": "y"
         },
         {
          "font": {
           "color": "gray"
          },
          "showarrow": false,
          "text": "1.0<br> ",
          "x": 2012,
          "xref": "x",
          "y": "BA",
          "yref": "y"
         },
         {
          "font": {
           "color": "gray"
          },
          "showarrow": false,
          "text": "1.0<br> ",
          "x": 2013,
          "xref": "x",
          "y": "BA",
          "yref": "y"
         },
         {
          "font": {
           "color": "gray"
          },
          "showarrow": false,
          "text": "15.0<br>1400%",
          "x": 2014,
          "xref": "x",
          "y": "BA",
          "yref": "y"
         },
         {
          "font": {
           "color": "gray"
          },
          "showarrow": false,
          "text": "35.0<br>133%",
          "x": 2015,
          "xref": "x",
          "y": "BA",
          "yref": "y"
         },
         {
          "font": {
           "color": "gray"
          },
          "showarrow": false,
          "text": "106.0<br>203%",
          "x": 2016,
          "xref": "x",
          "y": "BA",
          "yref": "y"
         },
         {
          "font": {
           "color": "gray"
          },
          "showarrow": false,
          "text": "269.0<br>154%",
          "x": 2017,
          "xref": "x",
          "y": "BA",
          "yref": "y"
         },
         {
          "font": {
           "color": "gray"
          },
          "showarrow": false,
          "text": "263.0<br>-2%",
          "x": 2018,
          "xref": "x",
          "y": "BA",
          "yref": "y"
         },
         {
          "font": {
           "color": "gray"
          },
          "showarrow": false,
          "text": "4.0<br>-98%",
          "x": 2019,
          "xref": "x",
          "y": "BA",
          "yref": "y"
         },
         {
          "font": {
           "color": "gray"
          },
          "showarrow": false,
          "text": "4.0<br> ",
          "x": 2020,
          "xref": "x",
          "y": "BA",
          "yref": "y"
         },
         {
          "font": {
           "color": "gray"
          },
          "showarrow": false,
          "text": "4.0<br> ",
          "x": 2021,
          "xref": "x",
          "y": "BA",
          "yref": "y"
         },
         {
          "font": {
           "color": "gray"
          },
          "showarrow": false,
          "text": "7.0<br>75%",
          "x": 2022,
          "xref": "x",
          "y": "BA",
          "yref": "y"
         },
         {
          "font": {
           "color": "gray"
          },
          "showarrow": false,
          "text": "2.0<br>-71%",
          "x": 2023,
          "xref": "x",
          "y": "BA",
          "yref": "y"
         },
         {
          "font": {
           "color": "gray"
          },
          "showarrow": false,
          "text": "1.0<br> ",
          "x": 2012,
          "xref": "x",
          "y": "BR",
          "yref": "y"
         },
         {
          "font": {
           "color": "gray"
          },
          "showarrow": false,
          "text": "1.0<br> ",
          "x": 2013,
          "xref": "x",
          "y": "BR",
          "yref": "y"
         },
         {
          "font": {
           "color": "gray"
          },
          "showarrow": false,
          "text": "15.0<br>1400%",
          "x": 2014,
          "xref": "x",
          "y": "BR",
          "yref": "y"
         },
         {
          "font": {
           "color": "gray"
          },
          "showarrow": false,
          "text": "44.0<br>193%",
          "x": 2015,
          "xref": "x",
          "y": "BR",
          "yref": "y"
         },
         {
          "font": {
           "color": "gray"
          },
          "showarrow": false,
          "text": "126.0<br>186%",
          "x": 2016,
          "xref": "x",
          "y": "BR",
          "yref": "y"
         },
         {
          "font": {
           "color": "gray"
          },
          "showarrow": false,
          "text": "353.0<br>180%",
          "x": 2017,
          "xref": "x",
          "y": "BR",
          "yref": "y"
         },
         {
          "font": {
           "color": "gray"
          },
          "showarrow": false,
          "text": "586.0<br>66%",
          "x": 2018,
          "xref": "x",
          "y": "BR",
          "yref": "y"
         },
         {
          "font": {
           "color": "gray"
          },
          "showarrow": false,
          "text": "1289.0<br>120%",
          "x": 2019,
          "xref": "x",
          "y": "BR",
          "yref": "y"
         },
         {
          "font": {
           "color": "gray"
          },
          "showarrow": false,
          "text": "3146.0<br>144%",
          "x": 2020,
          "xref": "x",
          "y": "BR",
          "yref": "y"
         },
         {
          "font": {
           "color": "white"
          },
          "showarrow": false,
          "text": "6969.0<br>122%",
          "x": 2021,
          "xref": "x",
          "y": "BR",
          "yref": "y"
         },
         {
          "font": {
           "color": "white"
          },
          "showarrow": false,
          "text": "13714.0<br>97%",
          "x": 2022,
          "xref": "x",
          "y": "BR",
          "yref": "y"
         },
         {
          "font": {
           "color": "gray"
          },
          "showarrow": false,
          "text": "4745.0<br>-65%",
          "x": 2023,
          "xref": "x",
          "y": "BR",
          "yref": "y"
         }
        ],
        "height": 600,
        "margin": {
         "t": 130
        },
        "template": {
         "data": {
          "bar": [
           {
            "error_x": {
             "color": "#2a3f5f"
            },
            "error_y": {
             "color": "#2a3f5f"
            },
            "marker": {
             "line": {
              "color": "#E5ECF6",
              "width": 0.5
             },
             "pattern": {
              "fillmode": "overlay",
              "size": 10,
              "solidity": 0.2
             }
            },
            "type": "bar"
           }
          ],
          "barpolar": [
           {
            "marker": {
             "line": {
              "color": "#E5ECF6",
              "width": 0.5
             },
             "pattern": {
              "fillmode": "overlay",
              "size": 10,
              "solidity": 0.2
             }
            },
            "type": "barpolar"
           }
          ],
          "carpet": [
           {
            "aaxis": {
             "endlinecolor": "#2a3f5f",
             "gridcolor": "white",
             "linecolor": "white",
             "minorgridcolor": "white",
             "startlinecolor": "#2a3f5f"
            },
            "baxis": {
             "endlinecolor": "#2a3f5f",
             "gridcolor": "white",
             "linecolor": "white",
             "minorgridcolor": "white",
             "startlinecolor": "#2a3f5f"
            },
            "type": "carpet"
           }
          ],
          "choropleth": [
           {
            "colorbar": {
             "outlinewidth": 0,
             "ticks": ""
            },
            "type": "choropleth"
           }
          ],
          "contour": [
           {
            "colorbar": {
             "outlinewidth": 0,
             "ticks": ""
            },
            "colorscale": [
             [
              0,
              "#0d0887"
             ],
             [
              0.1111111111111111,
              "#46039f"
             ],
             [
              0.2222222222222222,
              "#7201a8"
             ],
             [
              0.3333333333333333,
              "#9c179e"
             ],
             [
              0.4444444444444444,
              "#bd3786"
             ],
             [
              0.5555555555555556,
              "#d8576b"
             ],
             [
              0.6666666666666666,
              "#ed7953"
             ],
             [
              0.7777777777777778,
              "#fb9f3a"
             ],
             [
              0.8888888888888888,
              "#fdca26"
             ],
             [
              1,
              "#f0f921"
             ]
            ],
            "type": "contour"
           }
          ],
          "contourcarpet": [
           {
            "colorbar": {
             "outlinewidth": 0,
             "ticks": ""
            },
            "type": "contourcarpet"
           }
          ],
          "heatmap": [
           {
            "colorbar": {
             "outlinewidth": 0,
             "ticks": ""
            },
            "colorscale": [
             [
              0,
              "#0d0887"
             ],
             [
              0.1111111111111111,
              "#46039f"
             ],
             [
              0.2222222222222222,
              "#7201a8"
             ],
             [
              0.3333333333333333,
              "#9c179e"
             ],
             [
              0.4444444444444444,
              "#bd3786"
             ],
             [
              0.5555555555555556,
              "#d8576b"
             ],
             [
              0.6666666666666666,
              "#ed7953"
             ],
             [
              0.7777777777777778,
              "#fb9f3a"
             ],
             [
              0.8888888888888888,
              "#fdca26"
             ],
             [
              1,
              "#f0f921"
             ]
            ],
            "type": "heatmap"
           }
          ],
          "heatmapgl": [
           {
            "colorbar": {
             "outlinewidth": 0,
             "ticks": ""
            },
            "colorscale": [
             [
              0,
              "#0d0887"
             ],
             [
              0.1111111111111111,
              "#46039f"
             ],
             [
              0.2222222222222222,
              "#7201a8"
             ],
             [
              0.3333333333333333,
              "#9c179e"
             ],
             [
              0.4444444444444444,
              "#bd3786"
             ],
             [
              0.5555555555555556,
              "#d8576b"
             ],
             [
              0.6666666666666666,
              "#ed7953"
             ],
             [
              0.7777777777777778,
              "#fb9f3a"
             ],
             [
              0.8888888888888888,
              "#fdca26"
             ],
             [
              1,
              "#f0f921"
             ]
            ],
            "type": "heatmapgl"
           }
          ],
          "histogram": [
           {
            "marker": {
             "pattern": {
              "fillmode": "overlay",
              "size": 10,
              "solidity": 0.2
             }
            },
            "type": "histogram"
           }
          ],
          "histogram2d": [
           {
            "colorbar": {
             "outlinewidth": 0,
             "ticks": ""
            },
            "colorscale": [
             [
              0,
              "#0d0887"
             ],
             [
              0.1111111111111111,
              "#46039f"
             ],
             [
              0.2222222222222222,
              "#7201a8"
             ],
             [
              0.3333333333333333,
              "#9c179e"
             ],
             [
              0.4444444444444444,
              "#bd3786"
             ],
             [
              0.5555555555555556,
              "#d8576b"
             ],
             [
              0.6666666666666666,
              "#ed7953"
             ],
             [
              0.7777777777777778,
              "#fb9f3a"
             ],
             [
              0.8888888888888888,
              "#fdca26"
             ],
             [
              1,
              "#f0f921"
             ]
            ],
            "type": "histogram2d"
           }
          ],
          "histogram2dcontour": [
           {
            "colorbar": {
             "outlinewidth": 0,
             "ticks": ""
            },
            "colorscale": [
             [
              0,
              "#0d0887"
             ],
             [
              0.1111111111111111,
              "#46039f"
             ],
             [
              0.2222222222222222,
              "#7201a8"
             ],
             [
              0.3333333333333333,
              "#9c179e"
             ],
             [
              0.4444444444444444,
              "#bd3786"
             ],
             [
              0.5555555555555556,
              "#d8576b"
             ],
             [
              0.6666666666666666,
              "#ed7953"
             ],
             [
              0.7777777777777778,
              "#fb9f3a"
             ],
             [
              0.8888888888888888,
              "#fdca26"
             ],
             [
              1,
              "#f0f921"
             ]
            ],
            "type": "histogram2dcontour"
           }
          ],
          "mesh3d": [
           {
            "colorbar": {
             "outlinewidth": 0,
             "ticks": ""
            },
            "type": "mesh3d"
           }
          ],
          "parcoords": [
           {
            "line": {
             "colorbar": {
              "outlinewidth": 0,
              "ticks": ""
             }
            },
            "type": "parcoords"
           }
          ],
          "pie": [
           {
            "automargin": true,
            "type": "pie"
           }
          ],
          "scatter": [
           {
            "fillpattern": {
             "fillmode": "overlay",
             "size": 10,
             "solidity": 0.2
            },
            "type": "scatter"
           }
          ],
          "scatter3d": [
           {
            "line": {
             "colorbar": {
              "outlinewidth": 0,
              "ticks": ""
             }
            },
            "marker": {
             "colorbar": {
              "outlinewidth": 0,
              "ticks": ""
             }
            },
            "type": "scatter3d"
           }
          ],
          "scattercarpet": [
           {
            "marker": {
             "colorbar": {
              "outlinewidth": 0,
              "ticks": ""
             }
            },
            "type": "scattercarpet"
           }
          ],
          "scattergeo": [
           {
            "marker": {
             "colorbar": {
              "outlinewidth": 0,
              "ticks": ""
             }
            },
            "type": "scattergeo"
           }
          ],
          "scattergl": [
           {
            "marker": {
             "colorbar": {
              "outlinewidth": 0,
              "ticks": ""
             }
            },
            "type": "scattergl"
           }
          ],
          "scattermapbox": [
           {
            "marker": {
             "colorbar": {
              "outlinewidth": 0,
              "ticks": ""
             }
            },
            "type": "scattermapbox"
           }
          ],
          "scatterpolar": [
           {
            "marker": {
             "colorbar": {
              "outlinewidth": 0,
              "ticks": ""
             }
            },
            "type": "scatterpolar"
           }
          ],
          "scatterpolargl": [
           {
            "marker": {
             "colorbar": {
              "outlinewidth": 0,
              "ticks": ""
             }
            },
            "type": "scatterpolargl"
           }
          ],
          "scatterternary": [
           {
            "marker": {
             "colorbar": {
              "outlinewidth": 0,
              "ticks": ""
             }
            },
            "type": "scatterternary"
           }
          ],
          "surface": [
           {
            "colorbar": {
             "outlinewidth": 0,
             "ticks": ""
            },
            "colorscale": [
             [
              0,
              "#0d0887"
             ],
             [
              0.1111111111111111,
              "#46039f"
             ],
             [
              0.2222222222222222,
              "#7201a8"
             ],
             [
              0.3333333333333333,
              "#9c179e"
             ],
             [
              0.4444444444444444,
              "#bd3786"
             ],
             [
              0.5555555555555556,
              "#d8576b"
             ],
             [
              0.6666666666666666,
              "#ed7953"
             ],
             [
              0.7777777777777778,
              "#fb9f3a"
             ],
             [
              0.8888888888888888,
              "#fdca26"
             ],
             [
              1,
              "#f0f921"
             ]
            ],
            "type": "surface"
           }
          ],
          "table": [
           {
            "cells": {
             "fill": {
              "color": "#EBF0F8"
             },
             "line": {
              "color": "white"
             }
            },
            "header": {
             "fill": {
              "color": "#C8D4E3"
             },
             "line": {
              "color": "white"
             }
            },
            "type": "table"
           }
          ]
         },
         "layout": {
          "annotationdefaults": {
           "arrowcolor": "#2a3f5f",
           "arrowhead": 0,
           "arrowwidth": 1
          },
          "autotypenumbers": "strict",
          "coloraxis": {
           "colorbar": {
            "outlinewidth": 0,
            "ticks": ""
           }
          },
          "colorscale": {
           "diverging": [
            [
             0,
             "#8e0152"
            ],
            [
             0.1,
             "#c51b7d"
            ],
            [
             0.2,
             "#de77ae"
            ],
            [
             0.3,
             "#f1b6da"
            ],
            [
             0.4,
             "#fde0ef"
            ],
            [
             0.5,
             "#f7f7f7"
            ],
            [
             0.6,
             "#e6f5d0"
            ],
            [
             0.7,
             "#b8e186"
            ],
            [
             0.8,
             "#7fbc41"
            ],
            [
             0.9,
             "#4d9221"
            ],
            [
             1,
             "#276419"
            ]
           ],
           "sequential": [
            [
             0,
             "#0d0887"
            ],
            [
             0.1111111111111111,
             "#46039f"
            ],
            [
             0.2222222222222222,
             "#7201a8"
            ],
            [
             0.3333333333333333,
             "#9c179e"
            ],
            [
             0.4444444444444444,
             "#bd3786"
            ],
            [
             0.5555555555555556,
             "#d8576b"
            ],
            [
             0.6666666666666666,
             "#ed7953"
            ],
            [
             0.7777777777777778,
             "#fb9f3a"
            ],
            [
             0.8888888888888888,
             "#fdca26"
            ],
            [
             1,
             "#f0f921"
            ]
           ],
           "sequentialminus": [
            [
             0,
             "#0d0887"
            ],
            [
             0.1111111111111111,
             "#46039f"
            ],
            [
             0.2222222222222222,
             "#7201a8"
            ],
            [
             0.3333333333333333,
             "#9c179e"
            ],
            [
             0.4444444444444444,
             "#bd3786"
            ],
            [
             0.5555555555555556,
             "#d8576b"
            ],
            [
             0.6666666666666666,
             "#ed7953"
            ],
            [
             0.7777777777777778,
             "#fb9f3a"
            ],
            [
             0.8888888888888888,
             "#fdca26"
            ],
            [
             1,
             "#f0f921"
            ]
           ]
          },
          "colorway": [
           "#636efa",
           "#EF553B",
           "#00cc96",
           "#ab63fa",
           "#FFA15A",
           "#19d3f3",
           "#FF6692",
           "#B6E880",
           "#FF97FF",
           "#FECB52"
          ],
          "font": {
           "color": "#2a3f5f"
          },
          "geo": {
           "bgcolor": "white",
           "lakecolor": "white",
           "landcolor": "#E5ECF6",
           "showlakes": true,
           "showland": true,
           "subunitcolor": "white"
          },
          "hoverlabel": {
           "align": "left"
          },
          "hovermode": "closest",
          "mapbox": {
           "style": "light"
          },
          "paper_bgcolor": "white",
          "plot_bgcolor": "#E5ECF6",
          "polar": {
           "angularaxis": {
            "gridcolor": "white",
            "linecolor": "white",
            "ticks": ""
           },
           "bgcolor": "#E5ECF6",
           "radialaxis": {
            "gridcolor": "white",
            "linecolor": "white",
            "ticks": ""
           }
          },
          "scene": {
           "xaxis": {
            "backgroundcolor": "#E5ECF6",
            "gridcolor": "white",
            "gridwidth": 2,
            "linecolor": "white",
            "showbackground": true,
            "ticks": "",
            "zerolinecolor": "white"
           },
           "yaxis": {
            "backgroundcolor": "#E5ECF6",
            "gridcolor": "white",
            "gridwidth": 2,
            "linecolor": "white",
            "showbackground": true,
            "ticks": "",
            "zerolinecolor": "white"
           },
           "zaxis": {
            "backgroundcolor": "#E5ECF6",
            "gridcolor": "white",
            "gridwidth": 2,
            "linecolor": "white",
            "showbackground": true,
            "ticks": "",
            "zerolinecolor": "white"
           }
          },
          "shapedefaults": {
           "line": {
            "color": "#2a3f5f"
           }
          },
          "ternary": {
           "aaxis": {
            "gridcolor": "white",
            "linecolor": "white",
            "ticks": ""
           },
           "baxis": {
            "gridcolor": "white",
            "linecolor": "white",
            "ticks": ""
           },
           "bgcolor": "#E5ECF6",
           "caxis": {
            "gridcolor": "white",
            "linecolor": "white",
            "ticks": ""
           }
          },
          "title": {
           "x": 0.05
          },
          "xaxis": {
           "automargin": true,
           "gridcolor": "white",
           "linecolor": "white",
           "ticks": "",
           "title": {
            "standoff": 15
           },
           "zerolinecolor": "white",
           "zerolinewidth": 2
          },
          "yaxis": {
           "automargin": true,
           "gridcolor": "white",
           "linecolor": "white",
           "ticks": "",
           "title": {
            "standoff": 15
           },
           "zerolinecolor": "white",
           "zerolinewidth": 2
          }
         }
        },
        "title": {
         "font": {
          "size": 20
         },
         "text": "Novos usuários da Energia distribuida",
         "x": 0.5
        },
        "width": 1200,
        "xaxis": {
         "dtick": 1,
         "gridcolor": "rgb(0, 0, 0)",
         "side": "top",
         "tickfont": {
          "size": 14
         },
         "ticks": "",
         "title": {
          "font": {
           "size": 16
          },
          "text": "Ano"
         }
        },
        "yaxis": {
         "dtick": 1,
         "tickfont": {
          "size": 14
         },
         "ticks": "",
         "ticksuffix": "  ",
         "title": {
          "font": {
           "size": 16
          },
          "text": "SigUF"
         }
        }
       }
      }
     },
     "metadata": {},
     "output_type": "display_data"
    }
   ],
   "source": [
    "\n",
    "\n",
    "df['Mes'] = pd.DatetimeIndex(df['DthAtualizaCadastralEmpreend']).month\n",
    "df['Ano'] = pd.DatetimeIndex(df['DthAtualizaCadastralEmpreend']).year\n",
    "\n",
    "counts = df_clean.groupby(['Ano', 'SigUF', 'DscClasseConsumo']).agg({'NumCPFCNPJ': 'nunique'}).reset_index()\n",
    "tabela = counts.groupby(['Ano', 'SigUF'])['NumCPFCNPJ'].sum().reset_index()\n",
    "\n",
    "matriz = tabela.pivot(index='SigUF', columns='Ano', values='NumCPFCNPJ')\n",
    "matriz = matriz.fillna(0)\n",
    "matriz.loc['BR'] = matriz.sum()\n",
    "\n",
    "matriz_tx = matriz.pct_change(axis=1) * 100\n",
    "matriz_tx = matriz_tx.applymap(lambda x: '{:.0f}%'.format(x) if not np.isnan(x) and x != 0 else ' ')\n",
    "matriz_tx['med'] = \"\"\n",
    "matriz_tx['Total'] = \"\"\n",
    "matriz_tx['2023'] = \"\"\n",
    "\n",
    "\n",
    "\n",
    "\n",
    "\n",
    "import plotly.graph_objs as go\n",
    "import plotly.figure_factory as ff\n",
    "import numpy as np\n",
    "\n",
    "# Criando uma lista de strings com valores da matriz e matriz_tx\n",
    "text = [[f\"{matriz.iloc[i,j]:}<br>{matriz_tx.iloc[i,j]}\" for j in range(len(matriz.columns))] for i in range(len(matriz.index))]\n",
    "# Criação do heatmap principal\n",
    "fig_2 = ff.create_annotated_heatmap(z=matriz.values,\n",
    "                                  x=list(matriz.columns),\n",
    "                                  y=list(matriz.index),\n",
    "                                  annotation_text=text,\n",
    "                                  font_colors=['gray', 'white'],\n",
    "                                  colorscale='YlGnBu')\n",
    "# Configurações de layout\n",
    "fig_2.update_layout(\n",
    "    width=1200,\n",
    "    height=600,\n",
    "    xaxis_title='Ano',\n",
    "    xaxis_title_font_size=16,\n",
    "    xaxis_tickfont_size=14,\n",
    "    yaxis_title='SigUF',\n",
    "    yaxis_title_font_size=16,\n",
    "    yaxis_tickfont_size=14,\n",
    "    title='Novos usuários da Energia distribuida',\n",
    "    title_font_size=20,\n",
    "    title_x=.5,\n",
    "    margin=dict(t=130)\n",
    ")    \n",
    "\n",
    "fig_2.show()\n",
    "\n"
   ]
  },
  {
   "cell_type": "code",
   "execution_count": null,
   "id": "c7731a2d",
   "metadata": {},
   "outputs": [],
   "source": [
    "\n",
    "\n",
    "\n",
    "\n",
    "\n",
    "\n",
    "\n",
    "\n",
    "\n",
    "\n",
    "\n",
    "\n",
    "\n",
    "\n",
    "\n",
    "\n",
    "\n",
    "\n",
    "\n",
    "\n",
    "\n",
    "\n",
    "\n",
    "\n",
    "\n",
    "\n",
    "\n",
    "\n",
    "\n",
    "\n",
    "\n",
    "\n",
    "\n",
    "\n",
    "\n",
    "\n",
    "\n",
    "\n",
    "\n",
    "\n",
    "\n",
    "\n",
    "\n",
    "\n",
    "\n",
    "\n",
    "\n",
    "\n",
    "\n",
    "\n",
    "\n",
    "\n",
    "\n",
    "\n",
    "\n",
    "\n",
    "\n",
    "\n"
   ]
  },
  {
   "cell_type": "code",
   "execution_count": null,
   "id": "896fb897",
   "metadata": {},
   "outputs": [
    {
     "data": {
      "application/vnd.plotly.v1+json": {
       "config": {
        "plotlyServerURL": "https://plot.ly"
       },
       "data": [
        {
         "alignmentgroup": "True",
         "hovertemplate": "SigUF=AC<br>Ano=%{x}<br>MdaPotenciaInstaladaKW=%{y}<extra></extra>",
         "legendgroup": "AC",
         "marker": {
          "color": "#636efa",
          "pattern": {
           "shape": ""
          }
         },
         "name": "AC",
         "offsetgroup": "AC",
         "orientation": "h",
         "showlegend": true,
         "textposition": "auto",
         "type": "bar",
         "x": [
          2015,
          2015,
          2015,
          2016,
          2017,
          2017,
          2017,
          2017,
          2017,
          2017,
          2017,
          2017,
          2017,
          2018,
          2018,
          2018,
          2018,
          2018,
          2018,
          2018,
          2018,
          2018,
          2018,
          2018,
          2019,
          2019,
          2019,
          2019,
          2019,
          2019,
          2019,
          2019,
          2019,
          2019,
          2019,
          2019,
          2020,
          2020,
          2020,
          2020,
          2020,
          2020,
          2020,
          2020,
          2020,
          2020,
          2020,
          2020,
          2021,
          2021,
          2021,
          2021,
          2021,
          2021,
          2021,
          2021,
          2021,
          2021,
          2021,
          2021,
          2022,
          2022,
          2022,
          2022,
          2022,
          2022,
          2022,
          2022,
          2022,
          2022,
          2022,
          2022,
          2023,
          2023
         ],
         "xaxis": "x",
         "y": [
          "4,00",
          "2,00",
          "32,50",
          "2,00",
          "5,0014,74",
          "18,7620,10",
          "11,52",
          "40,203,35",
          "5,00",
          "41,00",
          "8,20",
          "3,00",
          "10,406,507,807,2610,08",
          "5,005,00",
          "1,303,653,00",
          "51,489,45",
          "5,15128,20",
          "34,3217,82",
          "4,6210,5613,20",
          "10,403,303,96",
          "8,20",
          "2,6066,3033,0013,653,005,00",
          "33,0010,005,20",
          "5,2810,565,9410,56",
          "10,075,283,962,6429,7015,843,965,945,949,2444,5510,72",
          "10,567,2611,228,12",
          "3,9623,365,2810,229,2410,959,38",
          "2,646,0333,6643,8943,894,629,387,2620,108,203,00",
          "5,697,301,00",
          "9,383,847,373,357,476,6020,108,7112,065,3620,1020,108,718,714,0040,88",
          "20,165,289,246,183,356,704,6939,605,00",
          "8,7136,964,692,284,025,3625,466,706,036,706,375,00",
          "12,0637,526,0375,0410,7230,158,845,8546,2375,00",
          "12,068,208,808,764,807,372,6410,0560,306,706,7040,207,503,905,853,905,00",
          "8,0460,5910,0010,008,0448,245,005,005,4410,0010,006,7020,10",
          "10,0024,008,169,385,446,1210,005,367,485,443,409,184,005,367,2010,006,1230,155,006,705,00",
          "14,828,206,808,713,008,048,715,008,405,9420,107,355,005,0010,006,8023,205,0010,005,00",
          "56,9554,4020,106,705,7810,005,0010,724,088,007,3725,0012,005,005,007,9211,5530,0026,405,008,0028,6016,0810,057,3770,4751,7510,5315,003,005,005,005,00",
          "7,928,9116,4036,72100,008,205,3660,0010,006,7025,009,185,175,006,806,707,605,1710,004,008,003,406,486,2729,2620,008,208,208,005,005,005,005,005,005,005,005,005,005,005,00",
          "12,924,386,0067,675,004,0029,2024,604,0030,158,005,005,005,006,0033,508,203,0010,005,0012,005,005,005,00",
          "4,026,003,00105,195,007,505,009,2430,008,002,685,0010,0024,068,004,003,004,006,008,2010,008,2046,009,848,008,456,005,0013,006,005,0033,005,007,508,005,005,004,004,604,005,004,004,0040,003,961,206,502,405,8430,003,905,8455,005,00",
          "11,828,0075,0032,005,005,003,005,0010,004,765,003,005,0010,0010,004,6010,234,0010,235,0075,005,0014,041,3035,005,40",
          "5,0012,003,968,003,008,209,244,6915,005,005,007,206,0010,005,007,5010,006,0016,405,0030,006,003,004,009,008,208,008,007,507,5924,1210,005,006,807,186,005,004,005,006,0012,001,578,164,55",
          "3,1025,006,005,008,0015,008,206,008,2072,364,696,005,004,0011,208,208,048,0010,725,002,727,506,004,686,0014,748,008,006,4212,005,245,0011,226,005,206,035,005,0011,0019,125,2060,00",
          "156,007,508,008,0011,048,006,0060,0025,444,0033,006,0012,734,694,687,507,365,008,5018,007,406,608,168,0015,006,007,504,007,5015,004,628,205,001,703,003,004,763,004,204,606,706,3232,6425,464,693,005,006,0011,485,20",
          "5,0011,8827,0015,005,007,007,5027,5022,001,3048,244,763,908,406,004,768,208,005,007,4811,073,0015,005,005,007,5025,0031,507,0027,005,0010,003,905,008,2010,007,5011,725,004,20625,00",
          "8,004,007,504,693,0010,007,508,008,008,006,504,767,508,0010,005,005,004,027,488,205,005,004,004,008,008,004,007,007,5025,008,006,005,009,104,005,0022,008,005,0013,008,203,358,205,007,5075,004,808,008,206,008,2025,0033,005,005,003,003,006,007,826,005,0015,0036,00",
          "6,006,006,006,0010,505,004,005,008,003,005,005,0011,007,5018,005,0044,226,0017,106,006,008,205,008,0010,008,003,0012,007,5910,006,005,006,0050,005,0075,0010,008,0012,7312,207,5015,005,0012,8025,008,005,0033,003,007,508,007,205,005,006,002,505,745,7410,503,0010,505,005,009,008,008,0025,008,0010,005,007,925,008,007,00",
          "6,003,005,004,0025,007,8010,504,7616,4038,007,5020,003,003,008,0075,004,695,005,003,0075,006,008,002,728,007,924,0010,007,378,005,006,004,696,007,267,504,007,0027,505,006,0073,704,803,353,005,008,203,005,008,006,005,005,365,369,105,0020,0012,00",
          "10,006,0020,007,5011,0015,005,006,005,0013,205,005,0016,008,008,008,0010,508,205,008,001,985,008,004,0016,007,506,008,008,0015,005,0064,008,005,005,007,92120,0025,0048,843,005,0020,004,804,986,003,0050,008,005,006,005,0012,003,0013,008,008,005,005,0010,507,002,007,5058,004,00229,00",
          "48,144,4520,003,909,005,285,005,009,0030,005,0010,507,9314,746,005,007,986,006,005,006,005,005,005,005,004,805,005,0016,006,5620,005,005,006,005,004,2010,5074,464,695,007,371,204,005,0015,006,605,282,007,505,005,0015,008,005,006,009,908,006,007,653,90",
          "12,006,006,008,0023,765,007,005,005,0012,766,008,0036,046,0017,604,008,0050,0012,008,0011,045,008,008,0012,0010,006,405,008,0015,0010,005,008,006,0020,005,007,985,008,0010,003,006,005,0010,505,008,005,005,008,005,008,006,0020,0010,005,003,005,008,005,0010,005,0012,008,005,005,008,205,008,003,357,935,003,006,005,0012,005,005,006,008,004,0010,004,0016,008,007,483,008,005,003,6010,503,355,008,001,365,003,608,0010,0012,005,0010,5010,5010,008,207,5010,008,006,7010,003,005,008,005,004,698,0012,0011,485,008,209,686,0034,008,0010,005,005,0013,405,005,008,0022,503,008,005,00240,00436,004,0012,108,005,0024,198,005,0040,00",
          "3,005,008,3860,0027,2029,338,006,005,0010,507,503,008,005,007,835,445,008,003,006,006,004,7610,0010,0016,005,005,005,002,506,707,5030,005,0030,504,696,008,003,6016,4013,5025,005,0015,007,503,008,208,002,079,354,0010,205,004,925,007,504,923,005,004,024,0010,0060,005,008,005,0015,408,207,5016,0060,0060,0025,005,009,005,002,007,508,003,604,695,0010,006,0022,006,6020,0010,5010,005,0010,003,608,004,504,0025,005,0015,0016,0012,009,008,50190,006,0075,00",
          "8,0015,008,0010,004,8016,007,145,0012,005,005,005,006,006,005,008,004,407,008,005,006,0010,005,008,005,008,005,006,003,007,503,005,0010,0013,505,006,007,506,003,005,0015,004,847,5013,2610,005,008,007,005,008,005,005,004,926,006,008,008,006,008,0016,001,3610,0012,007,508,004,007,0010,504,004,0012,005,005,006,009,007,208,208,0010,5010,007,5015,0011,204,566,009,007,506,007,146,005,0025,005,002,008,008,004,4050,0016,008,0020,008,0011,005,007,5010,008,5025,006,008,2010,008,004,005,0010,203,0016,5016,00150,00",
          "12,006,006,0012,005,0036,308,006,002,5020,0016,008,005,005,0010,567,505,008,0012,0032,006,006,008,007,505,0051,006,005,005,003,005,0016,0010,0010,008,008,008,007,503,0025,006,004,005,0010,003,009,904,9210,006,004,766,006,007,148,0040,004,807,148,0016,0010,007,006,003,005,0018,197,504,408,009,4620,007,008,005,008,004,606,005,008,004,845,0060,006,004,958,206,005,008,005,007,5011,0018,007,505,285,008,008,008,004,499,004,7620,003,607,146,002,967,925,004,6013,006,004,766,004,003,006,0070,405,0012,0010,0035,003,003,00",
          "8,006,465,007,004,6210,008,005,004,008,715,0015,003,004,426,005,005,009,006,0010,006,005,874,006,008,006,004,508,003,007,4869,365,008,006,006,006,0010,004,605,006,933,008,206,006,005,006,0020,004,765,003,0025,006,0012,007,143,968,0010,008,005,001,505,0060,0013,507,207,148,5028,0060,005,003,0025,007,146,006,0015,005,0060,0010,505,003,006,005,004,004,005,0010,006,006,006,007,598,0010,503,005,005,008,305,005,005,003,908,005,0010,0020,004,428,5020,0025,005,009,1875,0075,0010,0020,00",
          "2,605,007,506,008,005,0018,006,003,009,005,005,006,3010,0075,004,2015,008,2075,005,0010,0014,006,005,0050,007,208,0036,004,0010,505,006,003,005,003,002,7215,006,005,0010,0010,0033,003,005,0010,0022,503,0033,005,0010,003,158,5015,0022,008,005,0016,006,0010,0030,005,008,003,003,008,0010,0014,0040,006,0020,8030,006,005,0020,003,008,005,0010,005,004,4210,006,005,0060,005,004,005,4033,005,008,5020,006,007,208,0025,7312,0010,008,008,005,006,006,004,9530,005,006,006,005,007,806,008,004,805,005,008,0021,003,0020,004,604,0050,0075,005,007,14",
          "9,4512,505,007,705,0027,008,003,005,005,453,566,755,007,704,766,007,125,004,006,005,004,698,006,0010,0010,007,095,008,508,505,005,007,484,696,0010,005,0010,004,697,654,0510,005,007,376,005,007,0011,003,0015,004,006,0035,006,003,2060,0010,004,914,428,006,0040,0020,005,008,0043,204,008,0010,008,003,0041,0010,004,958,005,004,808,002,7225,0014,7424,302,585,008,009,1810,004,0015,006,005,008,004,5011,396,008,0016,008,505,0013,003,0010,0013,504,0010,006,008,0013,506,005,005,005,0025,008,824,8213,5016,006,005,0070,004,805,003,003,004,00125,005,0030,005,0036,004,00",
          "40,008,008,0020,005,003,004,005,0015,004,505,004,694,768,008,505,005,005,0010,509,007,8210,008,008,005,008,0030,0025,5010,0010,005,007,388,0010,002,008,008,0040,005,006,7512,004,765,005,005,008,005,007,486,009,006,006,008,004,605,008,004,004,506,545,528,007,385,008,005,0013,005,008,508,007,509,203,008,005,007,505,005,002,508,003,005,0035,009,7912,5015,0018,005,007,207,146,008,004,608,0014,005,008,005,004,505,367,006,005,0022,008,008,007,488,0010,0011,004,804,8450,006,005,0021,0014,4913,505,0013,005,007,005,007,004,5020,005,008,003,695,0015,005,0010,005,0010,0010,0072,005,004,768,001,006,005,003,009,908,008,003,207,005,008,005,0027,546,0020,00280,005,008,005,0054,564,764,8012,0015,0010,008,0046,205,0015,0010,006,238,0030,008,008,0010,008,006,007,004,502,0420,004,008,0011,5018,0075,008,008,005,00",
          "10,604,088,006,005,0010,0010,005,0012,009,605,008,006,005,007,146,9735,005,005,005,0010,008,004,5010,006,003,003,008,005,006,008,005,004,954,008,005,0036,005,0040,0051,0015,005,458,008,007,6310,508,006,003,803,005,003,008,003,0015,005,003,066,003,005,009,606,008,005,405,006,004,6020,005,008,005,407,489,606,0010,003,003,0020,0010,002,725,009,445,004,914,505,006,008,007,508,0010,005,004,605,526,003,006,008,005,006,0075,007,144,959,443,004,765,406,008,3075,006,0075,005,0016,505,528,0030,0013,503,566,0010,006,007,205,528,006,004,005,008,0010,006,006,0010,008,008,0075,005,008,0014,746,007,5015,007,504,956,003,006,004,502,6720,008,0010,0015,004,005,001,206,0010,005,008,003,005,005,005,007,5015,005,006,006,008,005,005,006,004,9510,5010,006,0010,5012,008,008,006,308,008,004,694,6910,0010,008,006,005,008,006,006,003,56",
          "4,5010,002,508,0010,003,0015,0012,006,0025,008,008,005,0013,637,505,005,004,005,004,8075,007,206,0016,505,007,508,2825,004,0020,0010,004,005,004,003,008,006,004,505,004,058,008,003,006,005,005,006,008,205,003,005,009,608,283,003,606,008,006,007,097,208,004,604,507,707,705,007,709,009,814,5029,376,445,003,0010,005,009,004,425,005,005,0012,008,0075,006,009,609,6010,006,003,009,207,5020,0010,0015,008,745,008,006,0013,009,005,0035,008,004,369,2010,005,0010,0010,003,805,008,501,605,008,007,506,009,008,005,009,608,008,004,505,006,0010,454,502,5010,505,006,0010,5010,0010,0032,505,005,0011,575,004,955,005,0015,009,605,0010,508,005,006,007,285,0010,003,685,003,0030,0010,005,0010,003,005,005,005,003,606,003,005,005,0015,005,006,004,505,008,005,005,004,503,004,006,006,004,765,006,008,005,005,005,003,0010,5015,004,005,526,007,503,006,005,006,008,0010,005,525,004,6025,003,008,008,004,006,009,006,378,005,0016,605,004,505,005,00",
          "5,9420,006,0010,008,006,005,004,408,0010,008,003,002,6810,0015,005,008,005,4015,608,0015,007,635,006,008,007,504,405,004,4010,004,0010,008,003,006,0010,002,506,004,425,205,005,008,008,006,005,0020,256,0025,005,007,004,007,005,004,0016,504,008,0010,004,506,0013,0010,006,0020,0010,0015,407,3616,608,005,0010,004,955,005,008,004,503,008,007,508,5012,0010,005,006,756,007,504,605,508,508,0010,008,005,006,006,0013,507,703,208,005,0010,508,008,205,008,006,0013,009,901,5012,008,006,005,008,006,006,0010,005,005,006,004,007,005,006,0040,0010,004,007,005,005,005,0015,009,9036,0030,0013,0010,0029,005,0023,255,0020,007,205,0010,008,0015,005,004,0015,606,009,603,005,005,005,0016,007,924,0018,1516,005,6112,009,605,004,005,008,0015,408,005,407,707,5010,508,006,005,0020,008,005,005,007,709,604,406,005,004,868,009,006,006,008,005,008,005,007,878,00",
          "8,008,005,004,298,006,006,004,5013,006,0019,005,0010,0017,003,857,095,006,005,506,0015,407,156,0020,004,007,505,0010,005,0015,004,403,9051,6210,005,005,457,008,007,503,006,008,007,703,646,005,347,503,6875,003,004,285,006,004,009,725,505,404,006,0030,007,156,006,005,006,003,006,0014,007,005,005,004,5014,0015,005,004,009,008,005,007,875,006,003,857,485,508,005,007,3615,604,508,008,008,006,005,008,0012,007,503,068,0075,008,005,006,007,566,545,008,005,006,008,005,008,006,008,006,008,006,0012,0050,0050,003,005,505,004,008,208,005,503,0010,003,006,0033,004,0027,5010,006,002,966,005,008,004,008,004,245,005,502,505,006,004,4210,506,006,008,0010,003,005,003,004,004,958,005,008,008,0010,005,006,006,003,008,005,358,003,008,005,008,006,0038,507,508,008,004,005,005,0020,005,0016,006,0010,0010,006,004,828,007,705,006,005,0010,005,004,006,006,008,006,056,006,004,008,748,0025,006,005,007,709,0075,005,003,567,008,006,0010,006,00",
          "8,008,005,402,007,797,2015,408,005,506,004,866,007,7016,008,005,836,006,005,006,007,508,005,0016,007,2620,007,877,874,4017,004,0010,5010,008,003,0010,005,0030,007,825,0020,0018,008,005,005,526,445,005,505,005,0012,004,007,7057,205,064,5029,684,005,0010,006,604,505,604,605,008,003,006,005,005,005,0012,005,008,008,003,308,008,005,004,008,0019,005,5010,004,515,008,006,009,187,704,0025,005,006,005,008,005,002,828,0020,006,007,485,003,853,005,004,955,004,404,007,705,009,908,006,004,008,006,0010,004,005,005,403,008,003,7410,004,003,006,006,055,0010,005,005,002,755,006,755,006,0030,008,0012,0075,008,007,206,005,006,003,746,006,0012,606,006,003,003,007,5015,005,404,703,007,708,004,004,506,008,006,008,006,005,008,0010,924,008,004,865,0035,007,0020,0050,004,003,00",
          "15,1250,0010,008,007,0012,0014,114,5920,006,006,005,006,0040,007,705,005,407,008,007,486,005,005,008,002,686,0030,005,003,746,008,206,008,0023,606,005,008,0014,003,004,446,003,8510,005,008,006,007,701,808,004,508,006,005,403,0010,006,003,008,2010,5075,008,005,005,0015,003,006,008,005,0052,0012,0016,0010,0016,003,688,003,003,689,907,707,156,005,007,705,005,007,003,0036,008,003,005,0030,009,5575,008,0010,003,8520,0050,0010,008,003,003,0014,007,003,006,005,006,0075,0010,0030,007,876,0010,006,6050,007,009,275,004,605,0038,508,008,0010,008,0072,008,2010,508,006,005,006,007,704,005,008,0010,0010,506,004,844,0035,00",
          "5,007,875,5021,848,004,004,957,368,506,0010,008,005,008,0013,005,004,007,267,009,4010,005,008,008,005,649,0014,008,0011,0075,0015,008,0015,0015,404,008,008,0025,006,0060,004,772,758,009,408,005,648,008,005,005,0018,0012,602,824,004,807,704,005,008,006,004,5025,0046,466,005,008,0010,005,008,005,0010,005,004,708,005,0010,008,009,0025,003,0014,005,006,582,755,005,003,004,0025,007,365,007,706,0020,008,0011,302,764,006,008,005,003,005,0012,606,0010,008,005,004,015,005,525,005,007,508,008,005,004,955,008,306,005,407,5215,005,006,605,007,157,706,008,008,0036,006,003,008,006,005,005,008,004,009,4010,0014,857,2810,007,0042,005,008,0010,006,0050,007,507,475,0010,007,708,0011,284,4210,0015,007,0015,002,253,007,004,0075,00",
          "6,0060,003,128,005,0010,0030,006,0012,9810,006,005,005,005,008,0020,005,007,0735,208,008,008,007,705,0010,0012,0020,0010,0040,289,815,003,856,445,007,4814,608,006,006,0010,0070,006,0010,0010,0020,0010,0012,0049,505,904,008,006,549,908,0050,0040,005,004,958,005,005,0013,006,005,006,005,0016,008,005,004,005,0020,006,006,005,008,0020,008,005,526,005,0015,006,003,685,0017,006,008,005,004,6220,0033,006,009,202,508,0016,008,005,006,006,005,0010,0046,468,005,0024,388,0030,005,988,006,006,008,0090,005,00200,006,0014,0020,0075,006,003,005,005,005,003,006,008,006,002,708,005,008,008,00",
          "8,008,009,009,356,005,004,958,006,0024,0016,0015,405,009,006,0075,003,0025,0025,006,005,0010,008,0018,006,0015,405,0010,003,009,548,007,5030,0010,0015,0018,005,005,505,004,6675,0010,0010,006,008,80225,003,0015,008,008,008,0010,003,005,005,0030,0010,008,006,006,969,523,208,00490,008,0010,004,009,209,2024,008,008,0010,0032,139,0015,006,005,005,003,004,605,5220,0010,008,0066,003,689,205,525,0015,005,0016,002,205,006,006,007,5015,0012,008,0010,8010,006,008,003,004,3246,463,6027,264,008,0013,005,004,4010,0044,514,0020,909,6010,004,4216,004,006,005,004,008,508,008,008,004,008,005,0020,007,505,0010,006,00",
          "8,005,008,008,004,774,0010,008,405,0611,1110,5014,606,0015,0010,0015,0015,008,008,005,0012,0020,005,005,006,0031,9010,0015,003,005,003,0011,005,008,007,365,004,004,2836,0010,005,0020,008,004,9117,005,007,005,005,0011,0050,005,005,5210,005,004,606,007,708,0015,0010,0030,005,005,008,008,006,007,508,0010,0050,005,0010,005,008,008,0015,005,003,3014,007,20",
          "7,568,007,825,0015,0010,004,406,0050,0067,005,525,008,008,005,005,003,608,006,0010,006,005,0057,1544,828,008,3016,008,006,0010,005,006,056,003,005,0015,006,0010,008,008,0010,004,005,003,0015,4010,008,0050,008,008,003,0015,006,0045,004,007,704,9510,007,748,00108,355,005,006,445,005,005,0075,006,007,524,957,708,006,008,005,007,0020,005,004,628,005,004,4010,005,005,006,006,006,004,007,365,004,605,005,8912,007,5010,0030,005,005,005,525,008,203,30",
          "6,006,0019,605,0068,508,004,005,008,007,3620,009,007,503,0010,0060,005,407,003,0075,005,3410,008,0010,0010,008,008,006,004,1013,756,005,5210,005,005,008,0020,009,1013,007,363,0010,009,005,005,508,008,008,0021,0036,005,005,798,00270,0020,0012,3110,006,008,007,0010,0010,0010,004,006,008,006,006,005,0010,007,2227,0058,504,208,005,008,0015,007,0010,008,006,008,005,0016,008,0024,004,6010,0020,008,008,005,008,009,167,635,0010,007,007,5060,008,2816,006,6036,009,907,894,958,285,006,004,08",
          "4,007,428,005,004,958,0015,263,005,0020,005,009,2025,0050,005,0014,0010,0040,0011,005,646,0020,008,0018,005,0016,008,003,004,087,008,0075,006,007,708,0020,008,00336,005,0037,9513,507,5036,006,009,603,6825,006,008,005,528,006,0010,004,207,3610,009,188,008,004,596,008,0010,008,0012,005,008,008,0014,005,528,008,0030,003,008,0010,006,0016,004,606,007,216,0011,558,008,2515,005,0013,006,005,005,0012,5815,408,003,0012,006,442,705,0010,504,0020,007,3615,0050,00",
          "8,005,0010,005,008,0018,007,7032,503,219,206,0014,006,006,003,0010,005,5240,006,006,005,0014,008,006,1215,007,7025,0020,006,0011,006,376,008,008,005,0018,006,008,0018,0015,005,006,0010,0016,003,007,502,0012,5010,008,005,004,408,008,006,005,008,008,007,004,606,0040,0050,007,7739,608,005,5210,008,008,008,008,0020,004,006,0030,005,006,007,368,006,0010,5010,0014,3013,756,006,005,0012,008,0018,0010,008,004,007,775,007,5020,009,3513,603,689,358,005,005,006,006,006,002,0010,009,0020,0016,0060,006,906,007,008,0010,0015,003,305,0010,005,466,005,0010,006,006,112,506,0010,0035,0014,728,0010,505,004,6015,0025,0015,0014,005,009,2011,0014,305,0012,505,0010,005,007,706,007,2210,503,005,0040,2012,109,2010,003,2210,007,005,0016,005,005,0010,008,003,006,635,009,9020,008,008,004,0015,0015,005,006,005,008,007,3610,004,6030,006,004,604,604,406,4410,0035,007,706,006,486,0010,006,374,0016,0013,7510,008,307,505,008,308,008,006,006,0510,004,007,508,008,008,004,9511,007,70",
          "6,0020,0013,208,0070,005,005,008,255,0010,0016,0013,608,0035,004,0013,505,007,3616,5020,0020,004,778,0013,6010,003,8560,006,006,005,0027,606,0010,5016,0010,0024,007,008,0020,008,004,0075,007,508,008,0049,008,007,005,0060,009,105,106,005,005,5042,0010,504,956,0030,006,008,005,525,506,904,956,007,707,706,0010,506,006,004,608,0022,507,506,377,227,508,005,008,008,0010,0010,0020,0060,004,864,408,005,106,0075,007,367,008,003,003,008,008,006,008,0010,006,008,007,009,997,5011,043,005,007,506,6015,505,0020,006,4410,005,009,005,586,0021,008,005,006,006,0510,0020,0010,007,366,0010,007,006,006,0016,005,0013,325,107,7710,0010,006,907,507,0015,006,056,006,008,008,007,50"
         ],
         "yaxis": "y"
        },
        {
         "alignmentgroup": "True",
         "hovertemplate": "SigUF=AL<br>Ano=%{x}<br>MdaPotenciaInstaladaKW=%{y}<extra></extra>",
         "legendgroup": "AL",
         "marker": {
          "color": "#EF553B",
          "pattern": {
           "shape": ""
          }
         },
         "name": "AL",
         "offsetgroup": "AL",
         "orientation": "h",
         "showlegend": true,
         "textposition": "auto",
         "type": "bar",
         "x": [
          2015,
          2015,
          2015,
          2016,
          2016,
          2016,
          2016,
          2016,
          2016,
          2017,
          2017,
          2017,
          2017,
          2017,
          2017,
          2017,
          2017,
          2017,
          2017,
          2017,
          2017,
          2018,
          2018,
          2018,
          2018,
          2018,
          2018,
          2018,
          2018,
          2018,
          2018,
          2018,
          2018,
          2019,
          2019,
          2019,
          2019,
          2019,
          2019,
          2019,
          2019,
          2019,
          2019,
          2019,
          2019,
          2020,
          2020,
          2020,
          2020,
          2020,
          2020,
          2020,
          2020,
          2020,
          2020,
          2020,
          2020,
          2021,
          2021,
          2021,
          2021,
          2021,
          2021,
          2021,
          2021,
          2021,
          2021,
          2021,
          2021,
          2022,
          2022,
          2022,
          2022,
          2022,
          2022,
          2022,
          2022,
          2022,
          2022,
          2022,
          2022,
          2023,
          2023,
          2023
         ],
         "xaxis": "x",
         "y": [
          "15,00",
          "31,3610,71",
          "36,00",
          "5,0015,30",
          "3,203,20",
          "5,20",
          "2,002,002,00",
          "12,00",
          "2,503,003,1219,0070,0019,60",
          "2,004,00",
          "3,0012,0074,883,004,0020,00",
          "1,593,002,7015,00",
          "13,802,0012,7415,00",
          "5,001,503,8511,001,564,4820,006,002,12",
          "5,0043,5011,005,40",
          "10,80",
          "8,2012,00",
          "20,003,603,18",
          "7,0511,883,003,604,86",
          "4,6211,3910,005,00",
          "5,009,90",
          "5,208,205,0040,003,0040,002,971,825,00",
          "5,0020,005,002,97",
          "10,886,0011,604,805,613,756,006,003,00",
          "4,868,755,005,005,723,0025,002,758,202,436,005,002,643,0012,50",
          "60,001,628,205,708,00",
          "7,563,206,003,004,3217,507,804,593,57",
          "5,40268,243,905,008,2035,75",
          "4,0075,008,203,903,902,886,001,004,088,4514,5216,004,205,002,608,038,58",
          "115,023,003,904,0611,224,006,005,006,503,001,983,304,061,008,205,132,755,0020,00",
          "3,005,0011,8820,004,083,308,003,002,926,0010,564,005,005,203,002,605,005,005,002,0015,005,363,003,30",
          "5,003,0020,005,0030,007,0033,0615,004,005,003,008,003,638,207,805,0052,803,004,628,583,003,9616,4019,763,965,0010,403,005,0050,002,75",
          "36,005,008,145,006,002,0015,006,00150,003,0045,0072,006,006,001,326,001,508,203,003,961,006,008,002,702,643,003,004,623,96",
          "23,765,004,005,005,944,0027,6036,003,0050,002,0027,005,003,008,003,6350,005,005,005,002,973,003,003,003,003,002,643,906,0033,122,506,0010,007,003,002,0014,496,0027,0012,5012,003,30",
          "7,0012,5020,0040,005,005,004,005,002,641,986,003,335,0011,8871,6820,003,002,501,5012,504,008,0012,00",
          "12,005,0075,0027,008,205,006,008,202,0015,0050,005,006,005,006,003,00108,0027,003,003,0042,183,306,005,0020,003,003,0020,00",
          "5,2020,007,705,0027,0017,503,008,203,256,003,203,9015,006,003,6925,008,204,008,2011,882,9712,5015,009,9012,504,696,002,3111,884,003,0012,006,0017,006,6012,5040,008,2072,003,004,003,004,008,2012,503,005,008,206,008,203,305,0020,605,0012,405,003,0010,00250,00",
          "5,002,7013,006,008,204,026,004,0060,3025,006,005,006,0016,835,008,0016,403,002,688,2018,482,403,304,6225,0049,603,3024,846,003,004,6227,005,005,006,006,006,0067,008,205,007,805,003,006,008,004,008,206,002,6412,0012,5012,5053,005,00",
          "9,004,008,204,008,205,0017,5036,007,373,004,0035,6217,004,6227,003,005,004,008,304,385,008,2025,084,003,0012,508,2013,0012,0020,005,008,2040,0048,2412,504,0060,005,0010,0010,0011,408,209,9013,208,206,0075,008,043,0030,005,006,008,2010,00",
          "2,388,2012,005,001,505,006,005,006,005,003,0020,0017,528,044,693,0026,804,0011,883,0010,005,0020,008,306,008,205,0015,0036,0020,005,0019,098,2036,0012,004,006,0060,004,006,003,008,206,0012,505,005,002,6815,00",
          "5,003,004,0015,0036,007,377,5010,0020,0012,217,925,008,003,005,005,003,6820,00100,004,005,003,006,004,002,971,104,008,044,0022,507,379,3811,393,0030,0030,00",
          "4,504,787,378,204,0027,0010,224,004,697,505,007,702,4049,6810,0049,685,0020,006,007,508,005,005,003,0015,0010,0035,004,005,008,048,044,0042,8817,425,008,004,005,0015,006,005,005,0045,2215,0066,001,505,004,691,502,681,6052,8024,853,003,695,0011,393,005,005,008,303,003,002,683,003,0025,004,623,006,005,003,0020,003,003,966,7050,702,7511,344,626,005,003,0010,005,00,5015,967,0015,0097,282,685,006,0015,843,005,004,69108,00",
          "30,003,0020,005,003,004,004,0012,5012,005,005,0010,0042,215,004,0212,502,685,0033,505,002,682,6816,283,004,004,5018,004,009,0036,007,005,3612,006,004,0020,005,008,304,693,603,005,002,6812,505,005,007,7065,0013,005,007,508,304,601,9812,4136,0012,8012,5015,006,005,0040,008,0412,0011,8811,225,85",
          "6,0068,346,005,0027,0030,0017,496,005,005,006,001,0012,5013,005,008,201,506,006,003,004,005,005,005,0010,005,006,0050,705,0015,0049,643,0027,002,6010,005,008,008,003,0010,0033,003,7560,0025,0010,007,504,086,504,0017,002,004,0212,0025,005,004,027,375,006,0049,6420,0025,0011,885,00",
          "6,005,0050,0011,005,003,007,5054,0036,006,001,3427,0026,6723,366,004,003,005,005,0034,005,005,0046,7240,005,002,6015,003,0020,006,004,00200,0060,003,003,005,005,0010,0030,0012,005,004,005,0010,0010,0512,008,203,6918,4818,768,20",
          "20,0023,765,005,003,003,0996,0011,226,0027,605,005,003,007,9236,0012,0012,503,002,0019,763,0018,005,004,023,005,004,6920,0031,243,0049,6840,005,005,007,503,006,007,502,727,505,0015,0049,685,0010,006,008,2020,0010,0019,434,806,006,001,2075,0012,062,0060,003,0025,0049,6815,0015,004,005,0012,507,033,004,005,002,403,352,685,002,687,506,003,4024,125,007,2025,004,003,0020,006,0317,494,086,0025,005,0010,006,003,004,003,0022,5020,004,0012,00110,004,3610,0054,002,017,505,007,5012,406,0020,008,045,0053,606,008,043,001,988,2012,9215,0012,0033,006,0012,50102,003,908,3011,227,378,3035,0032,1627,008,306,00",
          "6,004,0072,2015,003,004,694,0015,0020,1040,005,0012,508,303,006,003,0016,4040,0025,007,502,6810,005,005,006,0010,008,0440,005,003,0010,005,006,003,003,3015,007,503,007,374,003,006,008,305,003,0030,005,005,005,0027,0040,004,002,685,003,005,0011,073,004,6949,8050,007,5027,005,004,0220,004,0015,00,608,203,005,0012,003,003,002,684,805,003,004,905,004,005,005,003,006,004,695,008,803,967,503,0074,402,3510,0010,893,0036,005,004,003,0012,5012,0024,126,466,0015,0010,0013,002,0011,003,0010,886,002,403,007,5011,8810,002,008,204,004,004,008,048,2068,005,00100,002,685,0012,5030,3482,505,002,404,0020,0040,0015,303,003,005,007,925,001,207,926,007,26",
          "3,0048,248,205,005,005,0015,008,0436,005,005,005,003,3524,1212,504,024,003,008,3010,0010,0015,006,004,698,204,0015,008,303,006,003,003,004,8010,0015,005,0012,0038,4010,645,006,004,024,026,0056,003,003,005,006,002,405,007,5015,005,003,002,684,023,002,0010,007,047,374,008,204,6938,4012,5013,004,004,0020,0036,007,379,727,507,504,0015,005,0012,001,6012,6016,757,507,606,0015,0010,006,008,2014,4421,783,0025,002,0036,0010,006,003,6027,006,0012,005,003,605,005,003,006,006,507,3711,2010,8015,0012,0050,005,004,693,0020,005,0036,007,501,00249,608,2025,0011,003,366,008,207,3716,4025,00",
          "8,0012,0012,008,205,0015,0012,0610,0014,763,0030,0025,0012,504,0238,006,005,005,003,005,005,008,0426,402,6840,008,0015,007,5019,444,693,004,695,004,004,006,005,004,3023,437,378,2025,004,008,2020,008,4015,0020,005,614,695,003,0036,0026,4035,2033,506,004,6920,0024,0012,065,008,2015,0040,0030,008,205,0036,007,5015,006,008,004,694,506,005,002,888,0415,008,201,988,205,004,005,004,0012,504,806,004,005,003,2015,2710,006,7524,093,407,5012,508,0412,5012,504,002,402,006,0059,8010,008,20",
          "7,507,5015,006,006,506,5052,8016,084,0012,0012,0011,043,003,007,804,006,5032,003,006,004,697,598,203,003,963,305,0016,405,008,205,006,0014,855,0012,205,0016,407,504,008,203,005,005,005,004,0020,005,006,002,6060,005,008,204,006,004,004,028,006,004,003,008,2040,004,808,2012,003,0010,008,008,2012,0040,004,695,004,807,373,906,0027,003,002,6858,963,0024,506,003,606,003,0047,577,3727,004,696,004,026,002,4072,004,00",
          "8,006,008,205,008,2025,004,005,006,003,0012,503,007,924,004,697,375,0010,0594,0013,405,006,004,6260,005,603,004,0033,007,5015,005,006,7025,0025,00960,008,207,504,0232,008,2050,007,5080,0072,004,004,083,007,3750,0016,5012,2420,006,005,008,0012,002,6832,855,008,044,005,003,006,005,008,044,022,682,4010,0011,014,003,008,2050,00324,002,685,008,2012,003,008,0420,004,0012,734,7625,0050,005,008,203,004,001,204,022,6815,003,007,374,697,003,008,0012,004,696,004,026,009,866,005,008,206,0020,006,0025,003,355,002,4018,0920,00100,007,5031,988,206,003,0020,1054,003,007,922,008,2850,0019,675,008,208,2024,806,008,205,004,0017,5020,001,203,003,002,3540,008,3010,005,008,2075,005,006,0010,566,005,007,5012,5030,003,006,0013,0015,00",
          "7,504,0012,0015,005,002,885,008,0027,008,173,005,003,296,0012,003,0012,005,005,0020,0020,0012,0612,0615,002,9625,004,6936,0018,468,2020,005,0011,008,978,973,655,004,002,007,375,006,004,0072,008,203,405,0015,004,7612,008,206,0014,743,008,0015,0019,8012,006,0025,003,605,003,006,002,6873,0025,004,021,121,2075,006,0075,002,7250,006,003,5340,008,208,3010,0127,608,005,807,508,048,005,005,0012,068,208,204,0025,008,005,002,685,005,008,3012,506,005,2016,084,696,004,005,002,88108,004,804,008,0050,0075,0060,0060,004,028,2012,5060,0015,2017,162,4050,004,008,004,006,204,695,005,004,024,008,008,047,503,003,006,008,0050,005,008,008,206,002,404,024,008,206,0016,324,003,204,0012,063,004,004,003,3575,008,0056,2824,1233,005,005,004,005,006,005,0016,0011,2225,004,087,505,364,0010,004,008,203,354,00",
          "3,603,356,005,0012,501,506,003,005,002,0440,003,004,0212,0024,123,002,725,204,084,003,0010,006,005,006,0075,002,6854,003,005,0016,0825,005,005,945,0020,005,205,003,008,005,004,083,005,004,693,006,008,0012,508,008,004,008,044,695,006,005,004,809,006,0014,628,203,005,0020,004,085,004,084,328,205,009,004,002,011,708,004,802,927,502,408,207,371,204,0010,004,005,003,004,808,001,5012,005,004,694,6914,855,003,603,0045,368,0012,505,005,006,0012,065,0024,0012,004,0016,758,0475,0040,0027,0012,008,30",
          "70,005,004,0011,888,504,0015,003,005,008,203,3025,0015,0030,008,4030,007,506,003,003,358,2024,002,0075,0054,005,005,003,0040,004,008,047,506,0012,50150,0025,004,086,003,005,007,505,006,003,904,0015,008,006,604,028,208,284,805,006,0074,003,004,6227,603,008,008,007,828,008,286,0010,0015,004,695,008,0440,0012,006,705,00216,008,0410,0012,066,6012,508,203,9010,002,4012,005,0020,005,003,008,208,042,924,0813,403,003,0027,003,004,6911,228,048,203,006,008,0010,052,5015,0011,523,001,908,0020,0017,426,5073,0060,005,003,0060,005,002,006,004,004,6936,188,205,004,0010,003,008,304,008,005,001,508,004,005,0018,6320,004,698,0020,008,008,204,021,604,008,006,002,405,006,008,006,007,375,006,008,005,008,2024,1211,306,00110,005,004,803,003,359,007,5020,002,404,005,0011,206,008,204,328,002,1315,004,00",
          "75,002,254,0012,001,60125,008,205,003,005,007,502,003,0024,128,3054,007,6020,0025,008,307,505,0054,004,004,005,0019,442,168,208,207,505,004,345,002,0017,507,503,0014,604,006,0013,603,006,003,003,00240,0015,007,5012,005,007,378,205,0060,0010,006,0025,004,504,008,716,0019,325,0019,885,003,005,004,6924,129,864,6848,2424,124,6820,004,0020,0043,6815,5827,0050,0012,005,0015,001,201,504,0012,5043,898,303,0015,4125,004,0825,009,206,007,5010,0012,005,008,208,0020,003,005,00",
          "4,8010,9275,0030,007,506,003,0035,644,004,005,001,203,0015,005,004,005,0012,0023,7625,004,803,003,6010,0023,123,007,5050,0043,525,0015,0025,0019,728,005,0010,005,405,0015,007,5015,1827,003,003,0016,408,005,001000,0032,003,007,505,003,0075,005,004,802,7230,004,805,0020,005,008,2016,755,0020,0050,005,006,704,003,006,003,005,005,0012,003,353,653,695,004,805,001,205,005,953,003,0010,8071,696,0069,006,002,072,408,3012,507,506,6020,0012,0025,00",
          "8,006,508,0015,008,004,005,001,204,0020,0012,0028,0010,001,504,007,5920,0075,003,0010,009,0075,0012,504,32100,0015,009,204,004,0024,1275,008,005,0080,0015,0010,003,005,0017,0043,202,5020,004,0020,006,003,855,005,006,0020,008,206,0025,002,168,0050,003,005,006,005,008,005,004,805,0027,008,0060,007,5027,002,403,0018,005,00180,005,004,003,006,0018,483,004,007,505,3625,0020,004,803,308,005,0075,003,005,003,007,503,604,354,006,004,804,8014,746,4087,008,403,0030,007,503,007,5020,0019,4420,0025,0021,877,008,206,0020,0017,426,006,005,006,008,003,0027,003,006,003,006,0012,006,008,108,006,002,683,003,0040,006,005,0025,007,504,925,006,006,003,303,0032,002,408,2012,5027,0027,008,40800,00",
          "8,005,008,203,005,009,0020,003,008,208,001,603,005,0015,006,005,0015,008,005,002,7926,2430,008,2027,003,001,123,006,0020,006,003,0020,0015,005,003,0015,001,6040,001,608,2013,5360,003,004,808,201,2020,001,60,803,007,5015,00150,0075,006,001,202,387,5920,003,004,005,007,507,208,007,5015,004,005,202,5222,6815,0012,5010,203,0040,003,006,003,008,0048,0011,7340,003,007,374,003,355,0015,0020,0024,1254,0021,403,0050,0015,003,0025,0033,004,005,006,003,0010,506,0059,941,028,203,006,003,404,804,505,0012,005,5020,008,005,0016,085,001,206,005,2020,002,7635,006,0010,006,006,0020,008,005,0027,003,0012,0015,008,043,0015,003,0020,00196,008,504,00",
          "1,2020,004,005,003,0017,002,688,044,505,003,005,006,003,603,004,008,2015,005,0015,002,507,5011,486,005,008,0016,0810,053,004,082,034,187,005,2854,002,406,005,007,384,3530,008,004,1023,205,006,003,005,0053,6012,306,007,503,128,302,505,003,603,0025,0075,003,0012,004,404,698,208,0030,006,002,504,005,005,002,403,005,008,206,279,1054,004,007,504,428,204,693,007,374,696,0020,002,683,008,005,003,004,008,206,563,0015,006,008,2016,0290,004,007,5027,006,277,207,5032,0027,0012,0025,005,0050,0013,205,003,008,003,006,0014,763,008,003,007,802,404,0012,008,0012,0017,603,0027,0015,003,0054,783,007,3720,0010,0054,003,006,005,003,0030,008,00",
          "19,365,003,004,026,0010,0012,508,504,028,308,506,0025,0015,414,505,0020,008,0012,0615,008,205,507,503,0025,008,003,005,006,0019,364,504,5025,554,006,006,005,006,003,0030,0020,0018,7615,005,003,005,004,008,005,006,004,108,2015,008,004,103,004,806,0030,007,604,9225,008,0015,002,683,003,005,603,0019,3675,002,687,4925,005,004,5012,004,401,5010,926,006,008,5812,505,007,5044,2812,005,0075,0040,005,363,604,766,004,006,2512,506,006,5620,0023,7824,128,308,2025,006,003,0014,624,188,0012,8010,0014,078,2013,4010,886,004,4016,4010,003,003,005,007,605,285,008,206,0072,001,605,007,923,607,504,8438,868,808,001,505,3220,0010,2010,004,026,004,2412,403,0075,008,004,003,0040,0015,007,208,0025,003,003,743,0049,2165,0023,0019,104,9210,004,0012,506,907,507,825,006,007,006,003,005,004,5027,8826,008,003,008,0013,128,002,003,0020,0016,003,004,0010,3644,804,263,302,007,505,004,005,0075,003,003,005,003,004,512,494,504,834,0060,008,0010,007,508,003,0024,8427,003,002,0050,0040,004,768,008,008,007,603,008,0073,003,009,203,003,0013,2013,6014,004,1010,002,562,035,006,0012,006,003,355,005,004,8026,005,003,006,00",
          "20,0014,003,008,006,8075,009,2874,003,008,004,005,008,204,503,008,0014,604,408,0014,4010,008,008,0015,0012,0020,008,006,003,004,005,007,503,003,004,0015,6010,0070,0011,2070,003,004,805,007,006,405,0015,606,002,005,7815,003,006,005,003,0030,1566,0054,003,605,615,003,008,204,806,004,003,005,006,005,0064,808,059,905,0012,004,385,005,005,0020,006,008,003,008,305,005,0012,003,006,007,384,8043,2011,488,004,0011,4820,0025,002,467,5025,002,503,005,008,0018,506,008,0075,006,0038,808,5011,487,4811,564,146,006,003,003,004,764,104,693,008,2010,005,008,0041,8210,0025,006,0012,1522,0020,002,503,005,0010,007,488,003,005,003,603,006,005,0020,2515,0010,001,2025,008,003,005,002,804,001,6015,004,004,155,006,0048,0030,006,003,0075,004,103,002,984,8014,764,0017,006,008,0011,405,283,009,6632,5020,005,007,5015,004,0040,0010,725,004,005,008,203,0015,0040,003,003,3012,004,928,0016,4010,0015,003,008,0010,5026,803,007,005,0010,5020,0026,0025,0060,005,003,002,006,009,5750,0010,006,003,0027,005,006,6420,008,203,0030,002,7816,32",
          "5,005,008,004,203,0025,001,508,208,003,003,0011,483,007,503,6022,005,0011,255,404,923,007,003,003,2421,4512,006,0018,368,0420,0020,0012,5012,505,283,6012,006,004,9512,504,842,403,287,228,806,003,006,009,104,008,002,665,283,004,001,605,004,004,208,2512,003,004,9220,0040,008,3015,0010,2650,005,005,008,006,003,004,927,385,004,2010,005,0050,005,006,006,004,002,503,008,003,005,005,0012,563,006,006,003,006,006,006,004,002,433,206,007,506,008,006,0020,005,0010,0015,004,698,003,003,0010,007,504,803,005,0015,006,003,008,3015,008,008,206,0017,004,003,002,648,006,005,007,504,0040,005,004,008,003,007,506,0045,008,003,007,004,008,3013,9568,3410,003,008,003,968,208,306,0027,008,203,008,004,0510,0012,803,007,508,001,506,005,005,006,654,008,001,502,644,0036,904,5114,447,507,50,604,5025,007,502,0010,008,0015,005,006,004,003,003,005,704,6975,007,504,408,007,505,003,358,2010,6440,005,287,006,008,207,503,005,004,108,282,508,006,004,106,003,963,0020,005,005,0010,8912,008,212,506,003,525,0015,004,0020,0015,0014,0718,007,505,008,006,503,001,606,005,007,386,4026,40",
          "30,003,0030,002,6812,001,2010,205,078,0012,001,208,002,586,005,003,002,72,603,006,005,0013,002,9154,003,966,005,003,003,006,842,4912,002,4013,112,403,603,308,005,0060,006,006,563,008,0012,303,0020,0010,002,5010,008,004,796,008,2025,005,004,804,021206,005,0015,0015,844,8410,004,685,0013,408,208,206,005,006,005,007,483,005,0060,006,003,006,004,003,005,006,003,006,008,003,003,003,3022,9610,006,005,0050,0012,872,5019,772,0015,0010,0053,306,004,739,903,302,7214,584,693,005,604,008,0020,006,003,001,463,006,004,401,506,005,008,002,404,003,002,035,0020,001,608,1069,368,203,006,0012,007,988,006,0020,008,0010,008,205,0070,0063,363,004,925,0020,007,502,003,003,0030,004,357,506,005,004,0020,0013,206,005,0013,505,006,0024,6040,009,004,793,002,313,003,0010,003,003,0025,006,008,205,0015,004,007,896,008,005,003,005,0014,5050,0025,0020,008,003,003,005,006,001,2010,0035,006,0015,002,508,003,0020,002,501,603,00,6015,006,004,578,2011,7010,008,505,005,00220,004,003,008,003,603,004,7730,006,008,206,002,504,8023,6010,0012,006,003,003,6515,006,0011,753,603,006,004,005,0017,0025,006,0015,004,986,007,504,7573,003,00",
          "5,005,004,004,5040,00,608,203,528,00,603,0060,007,305,004,8416,758,005,277,003,0015,005,0030,003,6025,005,003,003,0015,0030,003,003,0014,968,0012,303,00,608,006,007,483,005,605,005,005,673,004,805,001,858,004,0820,0015,002,9165,508,0015,005,005,605,0025,005,0014,943,605,003,003,008,008,006,0060,0025,005,746,6313,0015,003,604,845,001,5011,7020,0034,008,006,006,003,0027,605,288,004,8024,306,006,008,003,0017,003,004,0010,006,003,6010,005,005,002,503,525,008,008,003,004,003,0033,004,848,005,003,007,943,0019,778,005,0010,00,6025,003,0010,001,364,0227,003,0012,205,003,968,0010,003,008,209,001,126,003,006,008,008,006,008,007,703,0013,003,001,506,004,8072,006,006,008,004,408,005,004,506,0014,964,955,003,0020,0020,005,0012,006,0021,0019,274,765,008,003,2015,005,0028,353,0027,004,7913,005,006,0015,845,0014,587,835,004,801,505,003,008,808,504,865,002,803,0027,6060,0020,004,8412,006,008,0015,006,0075,0040,006,0050,004,575,001,204,984,504,003,0013,206,004,053,006,0010,534,002,765,0012,065,003,0018,045,004,006,006,006,007,506,005,004,204,2040,6415,0013,505,007,0036,002,9115,0022,006,0011,606,0012,003,0025,008,0013,943,0015,0012,7515,365,002,0016,089,001,505,004,0515,844,5030,004,0020,003,523,695,006,003,003,001,2011,202,646,005,2840,0075,0019,585,006,004,455,005,005,0014,986,008,006,002,408,1614,086,007,506,0015,00,6024,414,924,806,008,0040,003,122,004,9512,008,0050,006,005,005,001,508,0040,206,0060,007,501,505,007,924,003,006,006,005,004,5025,0020,002,7012,0011,3915,006,006,0014,764,324,4011,071,6011,398,5015,006,001,5012,063,006,004,57110,004,846,003,008,004,081,5012,324,084,385,855,006,005,005,0058,968,003,9635,0060,004,803,004,007,503,653,0020,005,004,006,006,0022,4113,944,004,208,007,386,003,002,6474,00",
          "20,003,002,503,007,006,005,0014,3525,004,006,004,208,002,727,503,2015,587,9212,0011,4812,605,108,006,003,002,505,006,0020,006,005,005,005,005,727,0015,0025,0020,003,008,0020,0011,708,005,001,503,008,0013,2012,0025,006,006,005,004,004,206,006,008,2049,2064,008,006,008,005,006,005,003,304,4220,0016,005,0017,001,604,983,002,641,3660,004,505,0010,006,009,003,006,0013,389,0016,003,007,504,0010,003,0010,002,7611,442,403,002,727,894,006,0014,1125,006,008,5014,793,003,308,0025,0024,1237,505,005,006,003,0015,005,0033,0040,0020,008,2050,006,006,003,005,0070,006,0012,005,605,003,0025,0036,005,0044,103,006,006,753,003,208,006,008,002,506,009,1040,005,0011,557,206,402,004,0048,00600,0025,005,005,286,007,208,005,006,0015,004,805,008,0015,008,204,2015,003,008,0040,0072,005,008,008,005,004,0070,005,002,506,004,407,204,5031,0011,2510,0012,7610,001,0016,008,0080,006,003,004,504,8010,003,007,637,929,003,008,306,003,0040,006,003,0025,001,6012,0025,006,006,0015,004,008,0075,003,008,004,456,005,002,4020,008,004,353,005,003,104,408,004,153,003,0024,301,50200,0048,60225,004,5075,003,0020,0012,0080,003,0020,0026,005,002,006,006,008,003,0016,004,028,004,0017,946,008,0012,6015,0057,008,0015,008,008,003,007,6517,0010,006,006,0024,3015,703,005,005,003,005,005,006,006,008,008,006,008,005,006,003,007,928,0010,00",
          "3,0020,005,284,4075,0060,0012,324,608,004,503,003,4030,007,2010,005,0010,5030,004,1075,002,504,403,008,004,108,0018,635,004,509,0020,006,008,2015,004,0018,453,006,008,006,004,102,496,002,1612,007,5025,0010,004,003,008,005,005,003,0021,123,004,2012,003,008,0033,003,007,504,504,506,006,0075,0050,0020,003,0020,002,504,003,3519,144,954,002,5012,063,0040,503,355,004,504,154,103,453,005,0020,004,083,0010,003,0010,4024,363,004,764,027,504,803,004,003,006,004,1011,508,004,809,0015,003,006,008,003,006,005,005,704,984,505,001,504,056,002,384,352,913,003,006,004,003,303,308,0029,583,003,526,408,005,006,0020,004,103,006,0015,007,004,404,458,006,003,005,003,3015,004,403,005,004,906,404,404,003,006,005,0072,983,005,005,003,0011,484,868,003,309,003,0012,003,004,503,006,006,003,006,008,005,0040,504,508,8012,324,406,008,0015,004,508,008,007,206,005,002,808,006,005,0010,006,002,003,004,002,5012,008,006,004,502,507,0025,004,503,7417,008,008,003,4073,003,002,0012,007,303,006,488,002,506,006,007,5020,0024,307,506,006,003,0075,005,005,001,602,705,003,0015,0015,005,005,0012,502,507,506,004,4025,008,0045,084,004,501,503,603,203,005,608,106,0012,004,503,004,506,006,008,004,804,2515,003,005,004,0215,005,004,0010,004,408,006,006,003,406,008,006,005,005,004,406,006,008,007,002,913,008,004,5010,004,506,0013,004,403,004,005,003,355,0012,002,206,004,1019,927,008,1048,605,002,506,034,143,0011,484,504,5020,005,007,0430,005,4013,004,008,004,006,004,0012,067,008,005,003,004,504,503,008,007,508,006,009,602,508,2050,008,006,008,206,403,303,006,0020,003,005,005,003,006,004,004,008,0026,666,004,508,006,0015,004,206,0020,0014,406,002,504,8060,009,006,002,008,006,003,003,0015,005,007,0060,003,3015,0010,5020,003,006,1225,002,64105,00110,00260,00143,0075,00182,0075,006,006,0023,20100,006,802,0072,003,003,0020,008,00",
          "4,5013,206,004,9511,8866,0015,008,002,496,006,0075,008,194,003,004,204,004,508,8410,003,003,0030,004,508,203,006,009,0034,008,004,502,0020,004,004,1012,005,004,505,003,004,924,104,922,0018,107,503,0017,103,002,503,4015,008,403,009,006,005,008,2010,003,0011,006,007,475,003,0015,0024,305,0015,0017,5013,503,0060,006,003,004,404,603,004,504,406,0015,004,005,003,004,006,004,059,9020,004,503,353,004,504,958,009,0015,0017,004,5015,004,553,304,506,004,5010,0018,006,008,008,003,353,404,003,3022,8875,003,003,006,006,004,406,004,008,003,754,401,504,504,504,155,005,0020,003,005,406,005,003,005,605,002,915,005,004,053,752,8815,002,005,004,0020,0012,0010,0011,567,923,004,005,003,0030,0012,6025,0012,006,423,4012,006,0060,003,4015,003,005,2510,003,352,0414,083,306,003,4010,908,003,004,004,007,206,003,405,006,008,003,008,003,009,008,009,904,401,203,305,0015,304,504,504,506,005,0025,005,004,295,408,004,505,0010,004,903,0025,004,006,004,005,6013,506,0020,003,3040,203,007,006,0015,0012,005,003,0011,505,0045,9020,005,006,008,004,9225,003,008,003,005,006,004,003,523,305,002,003,003,004,305,003,006,0014,248,504,503,152,005,003,3540,004,453,008,504,403,003,005,003,004,305,004,002,2075,008,008,004,323,004,457,003,009,0049,284,408,008,003,3010,005,008,005,008,0012,064,7310,0072,0010,0013,925,00400,008,006,004,508,008,00180,004,053,358,0075,003,005,0013,9220,004,38240,00",
          "8,004,143,0015,004,3212,004,923,004,805,004,506,003,203,562,0410,358,003,003,003,0020,008,4013,208,0015,005,006,005,0075,002,876,003,563,006,0025,008,008,503,003,008,005,0020,008,004,023,004,603,001,6020,006,009,0011,397,006,0024,033,0015,0010,006,303,009,0015,207,658,0015,004,801,505,528,005,003,004,004,006,004,004,356,001,325,3321,001,6015,003,0012,603,005,007,5016,006,004,763,003,003,503,005,003,003,0019,744,053,0016,0217,0025,006,009,008,0011,706,0015,003,004,003,007,0012,004,006,003,005,0033,005,008,404,003,0040,003,004,555,006,0010,007,509,904,005,004,504,5025,004,5015,008,0040,055,004,955,005,0041,305,405,055,008,006,003,0020,005,3010,008,0021,003,004,504,405,0010,004,0513,505,0012,004,403,006,004,004,203,0010,005,001,808,0055,297,2013,008,008,003,059,004,5016,3520,003,5610,003,0025,004,006,003,355,0015,774,153,3514,964,1015,004,0010,008,0025,008,5015,0010,003,0026,106,0012,007,508,5018,003,009,006,004,503,003,403,3554,005,006,003,353,004,004,006,006,003,755,004,204,5011,883,405,0020,0015,0075,008,0020,003,003,003,304,0011,703,754,508,0035,284,606,007,656,0012,065,005,406,003,003,006,308,405,007,20242,00100,007,502,005,001,632,684,504,913,005,0020,008,003,008,0010,007,208,003,008,0012,505,005,003,006,0020,0046,364,004,773,006,003,00",
          "3,003,0060,0012,005,002,244,502,706,004,5012,0013,505,817,9220,005,004,008,0015,008,004,804,133,3515,006,003,006,0017,1011,2015,005,454,134,405,004,4013,125,854,863,008,006,003,001,465,004,133,405,003,008,503,302,603,003,607,206,004,008,108,503,008,0060,003,003,004,505,525,4512,007,5012,068,253,244,503,355,0015,004,504,504,153,004,0010,003,003,006,003,0010,005,453,308,003,753,003,006,006,003,603,005,454,504,5012,009,903,004,1319,804,451,504,458,008,004,5010,0022,4115,503,005,008,006,0019,8015,006,004,455,204,5010,204,147,504,605,253,004,765,007,202,003,006,003,404,003,005,002,704,502,0047,254,0862,003,006,0010,004,152,503,004,604,808,008,005,008,008,004,505,005,005,004,0052,004,007,5030,0020,006,004,0010,003,0017,006,008,006,004,135,003,003,005,0012,505,005,005,5025,003,005,0011,0375,0023,323,304,157,006,005,001,503,005,008,5050,005,005,4530,002,206,123,564,506,0016,3220,004,508,004,005,257,202,003,003,407,7875,008,205,005,0012,503,0075,004,602,674,9555,0016,0815,0012,0025,0075,007,7010,005,305,006,005,007,4825,0015,005,006,0033,304,503,0015,008,304,0014,001,603,003,005,408,0010,005,006,004,324,9513,004,083,005,001,466,004,506,0012,006,0010,005,006,004,105,002,003,005,004,5075,004,208,004,504,504,504,505,004,004,103,001,503,005,0016,2010,0050,006,004,0020,003,005,003,605,008,505,8512,0620,0011,006,004,004,002,915,0015,006,003,0010,005,006,004,008,005,005,0025,0020,0015,008,304,003,002,504,003,304,8841,366,0012,003,568,006,005,0020,714,505,007,704,504,003,0075,004,103,0010,004,158,004,0048,143,3510,005,525,0015,004,208,1036,005,008,005,005,003,008,008,008,285,003,002,5020,005,003,603,744,5010,003,6036,003,007,003,0012,504,007,898,0020,003,005,408,206,004,5017,109,008,003,003,0019,0817,106,005,003,004,8610,009,003,004,008,003,004,7650,004,003,0014,965,007,605,004,463,006,0012,0011,834,005,003,758,204,003,003,0012,0010,0025,003,005,004,006,003,005,0015,003,0071,766,0015,006,0025,0029,163,0016,086,004,5025,006,0060,003,603,3014,721,506,005,008,006,0015,0010,005,507,204,005,004,006,008,007,375,0019,447,656,003,0042,305,003,0012,002,2515,0020,004,8010,004,805,206,003,154,005,008,5015,008,205,522,0020,303,004,203,008,004,4074,003,007,638,307,504,003,0011,833,004,955,001,804,057,5010,008,005,0060,008,001,508,0010,0011,70",
          "4,005,0010,003,453,0015,0018,962,008,0015,009,0024,572,001,806,004,003,004,8010,0010,504,506,0015,7515,752,005,856,008,006,003,004,3620,003,007,5010,008,203,6812,0030,004,954,608,007,2020,0048,1630,008,005,003,008,009,455,003,0015,008,303,004,003,0010,006,008,006,003,004,508,0015,006,0015,005,0019,448,005,002,505,0025,008,005,005,003,962,505,008,004,8575,003,008,205,0010,0060,004,427,505,003,0025,003,004,088,104,505,005,006,0025,0012,0023,604,507,505,004,803,008,001,0210,004,516,005,008,0025,006,008,009,0025,0010,002,5010,008,012,008,002,7612,0017,003,0019,005,007,504,005,004,006,003,005,004,808,303,0025,005,005,005,003,968,0020,0013,285,008,008,008,006,0015,0013,044,777,503,003,005,004,0015,0015,004,006,004,008,006,005,004,503,009,003,0012,605,0036,008,006,003,004,0012,008,007,361,848,005,006,303,0010,008,004,058,007,703,004,503,003,003,003,004,5010,0024,308,007,203,008,003,0018,046,003,006,005,008,007,927,205,006,0027,003,008,0018,902,0015,0015,009,454,243,249,0040,005,005,004,553,008,003,003,003,005,005,0011,004,145,005,0020,0015,003,004,605,006,004,0014,187,482,646,0030,005,402,7311,898,028,303,002,523,005,004,808,1015,008,003,0073,926,008,308,0013,645,003,005,525,003,005,005,003,0015,002,004,777,076,0012,606,004,051,843,005,004,606,004,504,863,004,505,0047,888,008,006,008,004,6040,002,008,206,003,004,2411,706,008,003,0025,003,004,912,003,0030,005,003,007,5012,003,008,005,006,002,7016,7530,004,104,0020,003,5615,0025,003,005,0029,6321,004,502,724,144,246,003,004,777,3620,003,004,504,2425,005,005,836,004,774,953,649,903,007,2026,8618,537,205,0010,004,695,008,004,055,005,007,708,0015,005,007,7020,003,005,003,6825,008,004,243,003,003,0058,803,226,003,005,004,5043,206,008,003,004,775,003,208,504,773,005,003,3013,503,0012,003,243,002,655,854,506,003,006,0019,803,0025,004,927,508,006,005,003,008,003,008,003,0010,005,002,683,003,005,004,002,509,005,0025,008,008,005,0015,002,0460,003,004,506,007,705,894,403,556,005,002,724,777,006,004,055,003,307,002,675,005,004,006,004,504,505,004,247,707,701,606,004,055,003,004,504,773,008,001,786,004,1460,0049,0515,005,009,106,0075,002,6010,003,003,003,004,954,761,306,008,005,284,6075,0060,004,243,003,005,0050,006,005,466,0013,40",
          "4,242,7220,003,0020,004,605,004,774,503,0040,003,547,655,003,005,0010,005,003,007,204,2415,005,003,004,775,005,007,004,002,6510,003,0010,005,003,002,722,006,0041,427,4810,005,005,528,0012,007,006,008,008,001,805,005,0010,006,002,678,005,003,3015,007,654,5030,003,604,003,003,005,0012,507,634,0020,706,001,506,0013,5020,006,002,6410,008,163,003,006,002,6020,006,006,001,506,004,248,009,003,6010,004,103,003,0010,005,5219,624,008,0020,0020,0025,0019,805,005,006,007,658,005,003,0020,006,008,005,003,007,0030,0013,5010,006,005,4020,0068,004,8660,006,0015,0030,0010,005,003,008,002,401,802,188,005,0033,004,501,309,006,006,005,004,282,4610,0016,008,005,003,0015,006,0015,0010,003,0022,573,001,806,0012,004,008,0020,008,003,005,0023,329,183,006,008,002,4015,006,009,4510,0024,0015,004,7712,878,033,005,007,008,508,003,0024,3639,016,005,006,0014,846,005,006,005,0030,007,483,212,257,503,1525,0015,006,003,0030,0015,003,003,008,0030,004,0014,086,003,002,405,859,102,728,005,004,3215,003,006,562,763,003,305,0025,005,0012,004,0014,728,005,005,004,243,007,9522,253,0075,006,006,008,503,305,003,007,003,0011,805,353,0015,002,003,005,525,005,008,208,004,508,009,0010,006,0010,007,4220,006,3025,0014,766,006,003,004,003,0012,503,002,5025,006,424,405,0012,604,0825,009,243,003,0630,005,5215,003,003,682,762,008,009,2014,0010,006,0015,005,008,0024,383,003,003,004,9511,208,006,005,0012,185,005,007,504,004,245,008,005,989,106,0015,004,0050,004,2415,003,008,003,006,0014,002,004,001,208,007,205,002,0012,005,003,001,805,005,008,004,004,0015,303,005,007,703,005,003,007,3630,005,004,004,6075,0015,777,708,006,003,003,0025,005,003,005,003,003,002,735,0040,283,0012,5030,002,739,005,0026,004,0010,005,005,005,0015,005,003,003,684,005,003,007,634,0036,008,004,0020,003,006,006,008,0025,006,0020,002,002,6775,008,003,005,0014,8410,006,007,205,002,753,6014,002,0017,0015,003,004,558,0017,504,3215,003,005,0040,003,0019,444,903,006,001,767,503,0011,773,8210,004,508,004,006,485,0020,006,0064,354,006,445,003,003,0011,756,006,001,005,006,0074,007,0015,0015,003,008,002,7214,725,004,294,323,0020,0010,004,5034,006,00",
          "5,006,006,003,007,633,302,764,866,484,404,5013,004,003,005,006,0040,004,0575,006,003,0020,003,003,005,004,503,004,003,006,004,509,003,0035,8811,704,9518,908,002,505,503,006,006,003,0018,003,006,0015,005,0012,002,6750,005,854,775,838,003,008,4815,009,103,9210,004,053,004,005,007,2025,004,142,675,405,005,005,0015,0050,0015,004,003,004,608,005,4015,003,3015,002,703,0015,0020,005,005,0027,005,003,008,007,6512,005,832,5030,003,008,004,008,2015,0016,004,502,958,004,1430,0012,188,005,005,007,8275,0075,005,009,004,826,0016,006,005,005,007,563,003,785,007,003,008,005,003,004,245,002,373,003,005,5275,003,005,005,005,8345,006,0010,003,001,805,003,603,006,0013,785,0015,0075,003,007,7023,763,0010,008,0025,0013,003,0012,187,1220,005,003,0010,006,0036,006,004,5010,0013,503,001,805,003,009,0013,403,0048,0610,0012,328,503,0010,005,0015,003,0030,003,0010,006,007,2010,003,003,004,002,708,005,003,303,005,0027,005,008,005,004,325,004,605,522,675,003,008,003,007,505,0010,006,0011,044,004,245,003,878,007,653,0015,003,003,006,003,003,004,243,0010,003,009,004,953,0015,001,509,003,006,0010,0020,005,0015,006,002,003,248,006,004,326,008,002,5075,005,0615,003,249,9033,007,703,004,723,005,005,0014,004,508,003,156,005,008,506,0010,0010,505,005,007,704,005,005,008,005,0025,002,707,2010,008,003,005,0010,0024,301,605,065,0060,003,0010,0025,003,002,768,004,008,005,005,006,005,0025,007,4910,0010,005,0025,0075,0060,004,364,915,524,003,003,006,005,003,605,008,005,003,002,002,704,002,006,0016,205,003,008,003,005,005,006,0025,007,505,4010,003,158,004,2975,0010,005,008,005,003,001,607,153,004,002,0025,0014,858,003,006,008,007,747,503,005,0015,0018,008,553,005,005,0010,008,0012,002,125,002,503,002,008,0010,004,002,7331,804,702,763,005,896,0019,8015,002,503,249,102,506,0055,205,004,005,003,003,003,004,003,003,002,4315,006,0075,0010,003,003,003,005,005,835,008,0013,056,0020,0026,007,505,0015,005,5010,003,005,006,004,953,003,008,004,005,0010,004,003,0010,505,8310,009,004,003,001,507,7033,005,003,003,2412,002,3816,003,004,7710,004,408,005,007,825,403,006,006,0012,0010,0011,7011,0015,004,505,008,0013,004,004,776,408,007,652,5019,804,864,6014,403,004,043,0014,4017,603,0016,505,005,002,758,004,323,005,005,007,705,005,007,5026,5022,193,006,005,005,405,003,605,004,953,006,0015,007,201,605,001,503,6810,505,005,7810,003,004,244,002,003,005,005,004,0010,006,903,006,008,008,004,7757,605,0010,003,008,005,526,005,002,004,955,005,005,006,005,003,009,818,006,005,0020,003,0010,0040,006,003,003,0010,002,508,003,003,007,654,505,008,0030,006,003,003,005,004,0024,305,1040,002,504,553,203,0010,0010,004,003,854,1015,003,003,008,0050,0025,006,003,007,5010,0015,005,008,0015,005,0014,314,0018,002,007,005,523,005,0018,005,358,302,703,008,003,005,005,006,005,896,004,605,9810,005,006,001840,007,747,36100,002,5015,003,005,007,002,505,0075,0050,0030,0024,008,003,305,003,0016,206,007,502,3810,503,006,006,0010,006,006,004,158,003,002500,0015,0016,20",
          "10,003,244,603,683,006,605,006,003,008,003,003,005,4040,2020,004,008,004,774,605,008,004,603,608,006,006,004,404,0050,006,0031,868,002,0015,008,004,608,003,6054,007,496,003,008,004,009,723,005,008,003,003,003,003,2710,006,003,003,0019,623,003,004,953,006,364,955,005,007,9215,004,5053,1010,003,004,954,405,008,007,7020,0010,006,008,006,004,504,605,005,4060,003,003,008,008,002,946,895,0010,006,003,005,505,4010,006,005,003,0012,6026,1610,005,002,003,002,5014,8514,173,0019,8010,008,046,893,0015,003,003,005,727,508,0015,007,429,005,005,004,988,003,004,772,6412,003,0015,003,0011,703,008,008,007,503,004,053,003,004,008,307,705,006,0012,605,053,004,506,002,763,003,006,006,006,006,008,204,0020,005,006,003,214,2425,006,005,004,0524,124,0575,003,004,7212,7212,606,005,5015,008,306,0060,009,003,003,003,003,008,204,953,0052,433,008,2036,005,005,008,504,005,004,913,007,704,007,2015,006,003,002,0575,002,0040,006,006,003,0660,003,006,0060,008,0060,0014,843,003,006,006,002,3075,0010,0027,0063,773,006,003,0060,003,8212,0014,286,002,6825,008,007,2014,5610,006,004,708,004,608,001,8012,6012,0095,006,005,006,003,003,0012,007,8710,003,008,005,005,005,002,1240,004,953,005,005,6760,006,008,007,657,707,204,503,006,003,005,003,303,005,526,003,0020,007,705,003,005,526,007,203,007,5010,005,008,007,705,006,006,003,003,006,002,504,7610,508,008,007,363,0015,005,005,005,0015,008,253,003,003,858,502,0327,005,8320,0015,0015,008,2527,004,006,003,008,005,005,0010,002,656,0010,003,003,0010,703,0075,0074,0011,707,7012,603,004,2425,004,7012,196,004,953,005,005,0025,0016,568,0050,008,0010,005,003,008,0025,003,784,0016,0420,007,955,003,005,006,003,004,003,603,004,053,006,006,0015,006,008,005,006,006,605,0025,004,606,003,9012,008,007,703,008,508,1020,004,0512,003,008,0010,004,003,005,004,5040,008,006,006,0048,246,908,006,0010,004,849,812,007,367,655,008,003,0030,0017,008,006,006,003,007,633,156,007,505,4030,002,502,4315,003,003,007,1515,005,404,807,205,5014,0013,4611,286,005,003,005,0072,008,1060,006,006,0012,608,005,002,046,005,066,007,045,004,0532,463,008,005,0015,006,006,008,0010,003,0075,006,0015,006,006,0025,004,323,006,005,004,003,006,005,00400,006,007,708,305,007,203,0025,004,243,004,606,0060,003,007,704,006,005,0011,884,008,009,008,003,0015,003,005,0010,004,053,005,008,005,005,003,004,915,305,006,002,505,0010,008,0015,001,501,8417,005,005,003,693,006,003,608,008,006,006,0050,00118,804,053,0010,0042,008,306,007,508,303,003,005,005,007,005,003,003,009,865,0020,008,206,003,002,757,504,7214,404,724,0015,004,363,0050,004,605,0010,0010,004,914,866,0075,003,003,007,708,006,0018,003,004,955,0011,304,245,003,004,605,00141,00183,005,005,007,5010,008,005,008,006,004,502,205,526,0013,906,008,726,0020,0014,287,706,004,403,006,005,4573,003,003,006,004,5015,933,008,006,003,007,0032,403,0015,0015,0040,0023,404,326,003,009,00",
          "14,0011,003,003,008,008,008,003,008,004,958,0012,006,0060,005,006,003,0014,5225,006,003,0011,705,0024,0025,005,403,006,003,225,526,405,003,004,0015,005,528,503,8530,005,005,005,832,643,007,424,053,005,006,008,504,057,504,595,406,0015,004,002,765,008,003,005,001,505,004,0040,004,006,376,0010,002,004,0018,9015,007,2010,3515,0028,097,5014,4010,005,003,008,002,303,0010,806,005,004,5030,007,7015,001,505,004,0015,0025,0015,004,918,007,585,0013,003,003,004,863,712,604,006,005,006,0012,003,0010,006,007,825,644,5039,9060,008,508,004,004,005,005,001,845,005,4030,003,008,004,861,505,505,006,007,585,005,003,007,505,617,2014,402,705,005,006,0015,005,8320,006,007,503,0014,5836,006,003,0012,605,945,0010,006,005,004,5015,002,707,654,9533,001,807,8212,002,506,3612,005,647,704,0025,0020,003,854,008,003,303,006,005,007,637,503,855,524,403,002,2016,006,006,0010,008,004,6050,006,003,0025,006,0012,007,0020,003,007,006,006,002,7014,403,006,003,715,0020,005,001,808,0018,0012,007,004,002,7010,002,163,003,004,953,0015,005,005,003,005,0015,004,326,005,0039,902,756,003,005,0020,006,002,014,325,008,0020,004,778,0015,003,008,006,002,003,004,007,953,005,0054,903,0050,005,0010,005,0036,0012,005,527,422,4012,192,008,004,608,0025,0020,146,727,653,0010,003,003,006,0020,005,003,003,605,0014,4020,004,507,5010,004,463,156,007,6524,301,5015,003,0020,0013,5020,0033,0040,004,053,008,005,003,005,006,0020,006,407,506,0060,008,284,325,006,0075,004,705,0027,005,006,006,005,404,003,0013,503,0024,30400,006,4811,003,003,0020,006,905,005,008,009,908,0019,803,003,002,703,007,958,005,0015,005,003,002,306,0018,007,824,143,008,003,005,401,988,0010,008,005,0010,0019,4412,0010,002,185,008,7475,003,006,005,503,004,006,003,003,606,004,366,004,957,006,004,004,502,0011,976,004,007,006,006,003,248,006,0012,608,003,008,008,006,005,0010,8020,008,305,0010,008,302,505,003,004,008,0012,605,003,0020,003,002,704,0020,004,504,406,003,243,2428,323,004,405,007,708,004,607,955,006,0030,004,004,405,007,702,005,004,776,005,002,6525,006,006,005,0018,0075,007,705,008,004,323,0010,005,003,003,008,004,5011,735,318,009,004,503,003,005,403,0020,004,002,508,0015,008,005,003,005,0017,005,5215,0030,003,008,004,704,008,3012,003,003,0025,002,003,008,162,733,005,005,004,006,003,686,005,0010,0020,004,953,0033,003,402,5010,074,603,005,002,554,0012,004,916,003,008,004,0050,003,854,004,0050,003,003,003,245,0015,0013,121,504,004,325,005,0010,502,0011,995,0010,006,005,006,005,003,224,0550,006,002,6816,0011,668,005,003,0012,008,003,005,003,004,0015,006,003,005,0020,004,502,704,146,00300,004,704,506,0010,004,505,0015,003,004,055,003,0015,005,009,007,206,0015,186,484,052,7010,008,0015,0010,003,008,004,704,5515,006,002,286,003,607,709,0015,0015,002,355,404,367,008,004,005,005,0075,008,005,002,004,245,007,527,705,003,0010,006,003,003,0010,0012,008,004,7728,085,005,0020,005,004,0015,008,5036,003,004,0020,005,009,0025,005,008,004,0010,002,6015,003,0012,003,006,005,0012,605,526,004,004,003,205,006,005,4010,004,008,0120,0040,007,56198,006,006,006,003,003,003,005,003,004,248,005,006,0025,006,0020,005,005,003,0010,0010,003,0010,004,608,00",
          "45,0010,0010,0075,006,0027,0015,003,156,003,004,003,004,504,006,0015,006,003,006,0010,003,003,003,856,004,763,004,006,404,005,004,246,005,646,003,005,006,008,004,327,503,005,007,3610,003,6015,005,6415,1215,008,008,006,003,608,008,005,0012,5010,0018,002,0021,003,006,0010,004,4045,6020,004,4030,003,824,0020,002,505,406,005,0012,0015,008,0015,002,364,0016,505,003,003,006,007,706,006,006,0010,0015,004,6821,206,0010,008,004,5514,564,773,007,632,025,003,004,005,0054,0075,005,064,708,004,056,008,004,0010,8010,004,003,606,544,148,0015,003,008,003,0030,006,005,001,529,1012,604,008,008,006,006,002,2024,303,005,004,004,006,008,003,0012,004,006,307,362,602,735,508,852,6710,003,005,836,002,703,006,0015,006,005,004,665,006,003,008,0012,009,003,005,006,005,316,005,403,0054,004,805,0010,002,5010,005,008,0012,466,0010,007,707,7015,0020,003,003,005,002,125,354,0065,005,003,002,737,653,002,642,0010,005,005,007,707,003,003,606,002,5027,006,006,007,075,006,003,2751,843,0014,1710,002,7525,003,008,004,508,305,003,003,0012,6010,004,005,0015,005,007,704,953,005,0012,5010,004,956,005,355,0027,008,008,0010,007,636,003,005,0075,009,006,005,908,005,005,008,009,716,0015,0015,404,0050,003,006,003,003,008,004,919,904,728,004,0015,0020,006,004,008,003,0015,004,005,0010,009,005,009,007,208,005,0010,009,005,009,0016,9015,006,004,503,004,205,983,005,003,0020,144,506,0010,005,006,0027,8020,008,005,002,5010,0015,0075,004,5074,0015,006,002,006,005,455,005,006,0015,126,006,005,003,306,0010,003,008,504,004,005,005,002,806,4815,005,005,675,0015,001,607,5212,005,409,0060,003,0025,0012,001,985,407,706,007,205,006,0015,005,0015,004,406,006,008,004,508,003,002,685,007,6510,003,602,764,0075,0010,003,003,008,005,0015,00120,004,368,003,305,004,326,005,005,003,004,95265,005,008,0075,0027,0010,0718,362,003,006,0025,005,004,365,004,504,954,007,704,5015,006,008,467,7010,008,006,003,788,002,0015,008,008,0075,001,704,508,004,832,6515,7325,0013,004,003,007,006,303,006,004,055,005,0012,006,003,006,004,7015,003,003,005,004,703,008,001,505,0015,005,003,006,008,503,006,603,003,005,0036,006,0015,007,506,007,503,005,007,708,006,008,006,008,004,766,0019,955,005,004,406,004,955,006,008,004,001,355,835,404,408,005,006,003,006,004,007,503,003,0029,927,824,508,004,9575,0049,905,0010,0015,9017,003,007,702,8457,244,864,006,004,106,003,604,405,906,005,008,0024,0015,003,005,003,004,7710,004,004,103,308,0015,0018,008,004,005,003,0010,005,505,0015,006,009,608,0015,005,004,906,005,0011,005,002,708,003,004,002,555,0010,003,858,005,005,4010,903,003,003,001,803,005,005,0015,004,706,003,003,0015,0020,0050,003,008,005,006,054,8314,4030,008,006,006,008,483,303,0031,9013,506,003,0010,0010,0014,6316,0018,705,0013,003,007,083,003,003,007,703,006,003,005,407,702,503,0015,004,0072,498,0014,006,008,006,0020,0027,705,0020,006,00",
          "6,0060,008,7023,006,004,004,0020,008,0015,0010,004,9150,0030,006,003,186,007,703,008,003,0020,008,004,7015,003,248,005,644,606,004,0010,009,408,204,0010,003,005,062,762,005,003,243,602,7220,005,005,003,005,5222,004,003,005,003,004,958,006,003,003,684,507,5012,003,003,006,005,0033,004,003,0040,001,8010,006,004,5512,003,0040,0012,003,003,003,002,5015,005,528,008,006,003,603,003,645,004,1415,006,005,0012,6010,005,003,002,766,608,004,004,915,4015,004,054,608,003,063,003,0021,003,005,9036,008,005,003,005,002,208,003,657,706,002,005,0041,258,006,006,003,004,603,005,004,954,008,308,505,006,004,504,5020,006,005,524,052,735,005,0015,003,605,4010,003,004,365,009,904,956,004,608,004,403,008,006,006,003,003,002,204,3225,007,824,003,002,005,005,905,0020,008,002,004,507,958,004,918,305,834,504,015,008,0075,008,006,305,005,0011,004,0010,0010,004,703,003,003,006,668,004,773,0015,008,305,006,003,213,0015,009,002,0015,008,005,006,003,009,003,6015,008,003,006,008,006,0020,0013,164,9510,007,009,003,856,005,003,682,465,528,003,008,008,005,406,006,006,003,0025,003,008,004,915,056,004,295,003,606,003,002,7519,323,002,356,005,0010,0015,003,006,006,0015,125,006,0022,055,0015,008,0020,0040,008,005,004,775,006,006,004,243,004,7010,004,0810,008,0019,805,0011,972,507,0012,004,006,0020,005,006,0035,3530,005,0015,904,5020,007,5836,0015,006,004,003,004,005,0014,722,183,003,683,006,003,852,3427,003,0010,0016,748,001,503,003,004,238,005,004,506,003,007,994,508,0020,004,504,005,005,0010,005,006,0010,008,0010,0012,608,0015,006,004,914,004,004,008,0012,005,006,308,006,0012,005,407,505,002,006,005,4015,0031,803,688,003,005,006,003,004,003,003,003,005,003,153,005,007,984,506,005,008,005,004,0540,004,244,505,005,007,368,007,505,0010,005,525,008,006,006,0015,008,505,003,763,6872,004,503,003,005,003,006,003,004,0016,7015,006,0033,553,004,006,002,603,245,004,555,004,005,1014,043,004,006,0015,004,504,708,205,004,007,708,003,684,004,777,704,7710,006,008,003,008,0010,004,804,203,005,307,0010,005,5214,043,963,603,005,002,508,509,909,005,5213,636,0014,0015,005,007,2060,0015,005,0059,404,7720,008,0015,008,204,904,958,004,914,912,508,553,859,006,003,004,7775,004,0046,806,0029,707,205,0015,0075,0075,007,707,0015,0015,0040,006,543,005,003,004,0010,0014,008,008,005,0020,004,008,306,004,057,0025,003,004,6075,006,006,0013,804,0025,008,507,0075,004,9560,0025,0018,005,005,0036,004,507,364,706,006,0075,0016,435,004,007,828,007,954,5015,003,005,0413,0012,0075,005,006,003,0015,0010,007,008,0075,002,506,0050,0020,008,006,0075,006,603,357,3060,006,0035,9915,6610,005,004,505,0015,004,9510,009,6025,002,206,002,7315,008,008,003,001,5015,005,0015,006,002,824,504,6012,001,504,6015,0015,007,7417,004,005,0040,006,008,009,0012,008,008,00",
          "23,304,1019,8030,005,003,003,0031,596,003,002,706,0010,005,003,128,0019,082,436,004,9520,004,0053,584,954,504,774,008,003,123,008,085,004,0060,006,008,009,006,002,5010,004,004,003,003,003,005,006,006,0012,001,596,0010,005,008,003,006,008,007,424,8610,003,006,004,002,5525,006,006,008,003,003,0010,008,0023,984,3210,005,002,3615,003,0010,0050,003,0014,007,205,003,004,0010,008,003,005,005,004,604,953,0015,008,00,024,0010,003,0020,004,001,506,005,0033,005,524,0515,004,4027,0025,007,676,0010,008,508,003,124,867,003,005,006,0012,003,005,005,005,005,008,5075,004,502,706,005,006,009,404,053,004,085,005,306,009,818,004,8640,007,7040,0015,004,053,005,002,503,008,008,0030,002,755,003,003,005,0015,006,0812,0015,004,0015,005,0020,147,5017,283,052,0015,0023,6515,404,698,003,004,406,003,008,5823,6522,505,642,503,006,006,004,004,918,003,003,006,005,008,0020,003,0010,004,605,466,006,0012,005,006,008,0110,004,0015,005,0010,004,0015,004,104,005,008,0030,0010,006,005,004,0875,005,056,006,005,015,523,003,0015,0015,008,5013,502,737,509,905,0010,806,005,008,503,605,002,004,607,1515,004,006,006,376,003,0018,885,0015,005,0015,004,325,003,0036,005,006,008,005,005,005,005,525,005,408,005,004,0010,0010,009,008,0015,002,355,008,915,0030,007,708,0015,406,303,008,008,505,003,008,004,915,007,636,0030,0010,003,004,5010,008,007,506,0010,0015,008,002,553,003,0016,0011,8312,003,003,0025,006,002,686,005,007,708,005,005,003,6010,007,528,007,709,015,006,003,0075,003,008,003,003,004,406,005,004,402,204,005,006,005,002,0075,0060,008,003,006,006,004,503,0014,405,0013,503,002,1820,0018,004,507,2820,003,0012,008,006,002,506,893,7516,208,744,003,005,005,0010,004,006,003,008,008,004,458,002,008,502,187,295,408,308,006,0075,002,705,003,0010,0017,294,005,526,009,0012,006,003,068,0016,507,0068,9012,008,0025,0053,606,447,914,503,007,005,0025,005,009,004,055,0010,0025,003,006,005,005,007,705,406,004,143,002,507,709,0025,004,009,002,507,262,504,408,002,007,954,505,523,004,407,702,3410,002,3674,253,004,368,004,554,607,201,605,355,005,406,003,0021,004,0025,482,606,008,5034,606,0015,006,004,957,0019,804,0030,0012,886,544,325,003,2715,003,6012,156,895,004,723,004,953,853,685,005,004,954,006,002,505,005,304,245,006,006,003,009,813,003,004,004,9515,905,004,004,543,008,284,005,003,009,444,958,0010,008,004,405,0010,005,002,006,004,103,0025,008,003,005,003,002,504,453,005,009,726,005,002,007,704,054,205,0016,005,0020,0015,008,104,0025,006,002,005,005,008,004,0012,0012,006,004,004,954,006,005,005,005,003,008,002,0020,246,0050,0033,0017,9915,004,248,008,003,005,004,462,0025,005,0015,004,865,0033,004,503,006,003,0010,267,263,006,005,454,8020,003,0025,003,005,0010,003,006,005,004,953,0019,80760,0010,002,5010,007,504,7712,004,406,007,2020,0075,004,0075,004,004,004,508,0030,0011,005,0015,004,556,0015,002,001,504,506,008,006,004,405,008,5011,565,0036,005,003,004,003,308,003,006,006,003,003,274,915,008,308,106,0010,003,005,0015,004,249,0012,008,508,005,524,953,007,703,6875,0010,003,003,009,005,2810,003,682,508,0021,005,007,707,953,826,003,005,6410,004,0512,004,149,812,507,3613,005,5210,003,002,285,006,003,005,0020,006,008,003,008,003,244,915,006,0051,5212,007,5013,168,006,005,0020,0015,0015,002,007,703,645,005,005,0019,898,0010,005,002,4316,003,9618,623,007,303,008,0030,0020,008,0515,003,005,002,203,007,506,0015,0031,5013,259,005,406,006,005,835,008,505,005,528,0013,508,008,504,866,0010,006,0010,0015,405,0015,003,525,006,007,427,008,005,004,0020,005,0010,006,003,0015,0028,007,025,0010,008,004,0010,005,0010,0060,008,003,008,008,003,0015,406,003,005,0018,003,005,0025,008,004,508,004,018,007,527,7030,0010,0050,0010,0040,0033,007,5015,003,007,443,6075,006,0010,004,005,644,0014,8510,0015,004,052,388,1014,9839,604,956,0010,0010,007,003,009,003,009,318,004,0014,7515,009,0015,003,006,0015,0060,005,005,006,006,006,004,777,0030,005,00",
          "12,003,6012,004,0010,4015,0024,205,0012,0014,305,003,005,524,006,006,008,004,0015,005,004,005,0015,906,0011,007,706,008,004,005,0040,002,004,409,313,004,002,0015,003,0015,008,5015,005,308,005,003,006,004,009,205,003,006,4420,0013,202,704,773,603,008,003,605,003,684,533,009,449,006,0020,005,0019,2775,005,004,0043,4633,005,0011,666,007,954,003,0015,004,004,403,007,706,003,856,005,672,003,008,206,006,0012,604,007,203,0011,6042,003,0020,005,006,005,003,0025,007,704,141,653,8119,897,486,003,546,005,008,0050,005,003,002,4310,0010,503,003,395,003,005,0010,003,007,709,905,006,005,008,007,506,004,917,5010,003,004,0021,505,0027,548,003,008,007,366,0060,003,005,005,0010,0042,005,404,0075,004,726,0050,004,403,687,707,954,0050,0050,005,004,0070,0054,539,004,954,003,0050,005,003,003,004,955,404,004,0010,0030,0015,003,2415,003,243,008,006,0030,004,407,5610,004,7712,1514,003,606,004,606,0012,004,005,455,005,3015,0027,0025,008,0016,008,006,0023,603,006,005,008,002,5016,603,004,0015,003,856,005,5210,006,006,0060,0010,0036,005,005,0011,0025,007,636,005,006,006,005,525,004,008,008,005,003,0015,345,005,003,228,0017,004,504,7720,004,0020,003,206,004,918,004,864,005,0010,003,546,004,0020,003,0015,003,002,004,049,565,0013,006,004,0039,604,0012,0075,0011,004,7022,6810,003,604,004,005,004,605,007,828,004,005,453,154,0025,085,0014,1610,007,004,0010,003,603,008,004,008,004,005,003,0044,0020,006,0010,002,757,7015,006,0010,008,006,003,007,824,008,506,005,004,403,0020,004,006,006,005,003,004,7750,003,005,003,0010,007,705,005,003,006,0020,005,002,706,006,006,008,0016,2024,206,005,6115,025,002,004,004,003,006,006,004,003,0012,0010,0016,205,005,454,8612,005,004,007,005,005,0010,006,003,006,004,404,003,005,018,304,006,005,0033,003,218,104,0014,4020,0012,003,0010,7025,005,0015,005,0010,004,9539,905,008,005,007,915,008,006,056,0010,005,007,7072,005,001,6017,293,0010,003,007,306,003,009,1015,0068,905,003,0015,004,6010,003,0020,0025,008,0020,008,0075,004,6010,0036,0024,309,1010,503,0015,004,773,005,0020,002,5015,005,005,004,603,0012,003,003,008,003,003,0022,253,003,006,004,0060,0030,004,003,006,004,591,324,145,008,0014,453,005,003,003,2415,003,006,0030,004,956,0019,2975,008,002,763,0015,003,002,5025,0054,009,816,006,0020,006,009,1010,0060,002,502,506,004,864,007,361,205,005,0012,005,005,904,008,008,0075,007,705,527,6575,009,665,4017,007,0015,0016,006,0015,002,003,004,404,0015,003,856,003,007,708,009,8120,003,0015,004,005,0023,108,003,007,308,006,0024,205,006,006,005,0020,0060,0070,0075,0036,007,508,006,006,006,003,005,005,505,003,858,0020,0025,0030,0030,0012,003,304,7020,0010,004,003,0030,003,004,006,545,0016,9616,003,008,0040,002,003,0020,009,0010,0023,9875,007,656,003,0012,0015,006,003,603,0020,006,0012,0014,723,004,0010,003,0012,005,524,243,006,05",
          "35,008,008,008,0018,0060,0060,0031,873,003,008,004,955,003,005,003,0059,407,006,656,002,553,001,504,503,004,5012,003,005,005,006,003,003,003,005,002,008,003,009,566,005,003,0040,008,006,003,003,003,009,4012,009,9015,0025,007,506,0015,0010,004,953,006,0042,5016,006,005,014,364,954,003,007,365,945,003,683,903,006,007,006,003,0015,002,2010,004,606,0010,0010,005,005,0025,273,007,3025,0050,008,0075,006,495,006,004,6020,0016,3075,006,004,003,005,006,008,008,006,006,007,505,005,003,003,006,0010,0020,003,003,006,002,203,004,407,637,825,008,0010,005,008,0030,003,004,054,003,004,086,004,507,2010,006,006,003,006,002,7619,628,003,007,286,006,007,0030,007,823,002,008,016,006,0015,007,0050,0075,0015,006,0025,0015,005,005,006,005,0015,404,007,368,0015,008,005,0015,006,003,0010,0050,4028,004,5575,0015,403,607,706,5460,004,104,007,7022,424,606,0010,005,007,705,0020,003,0023,461,6512,005,5045,005,006,3615,005,006,001,3510,003,003,0014,535,6410,0033,006,0012,008,006,0010,005,0040,005,005,004,406,003,006,0049,683,304,402,205,4025,008,003,0074,124,002,005,408,007,7010,003,686,008,002,164,6060,004,006,0020,005,006,007,144,0011,7650,884,606,005,004,007,956,0012,0020,003,008,006,097,306,005,062,554,865,006,0010,005,004,208,2075,007,366,003,004,406,004,403,002,704,404,4860,005,006,003,003,604,687,505,003,006,004,6012,885,5210,006,006,003,603,005,002,0375,007,827,786,003,8520,003,6515,0010,008,003,003,006,0060,008,003,825,0060,004,005,002,706,0020,0012,002,6514,3010,0022,005,004,4015,403,0010,365,003,004,728,007,958,003,6812,2110,005,002,754,723,005,003,003,005,007,8214,308,1911,962,523,003,006,006,006,003,606,006,0015,903,005,007,704,004,0820,004,147,702,504,7720,006,4415,008,004,0019,8010,903,308,004,139,005,005,006,006,0075,003,005,0013,805,006,0017,4420,003,0021,002,1220,004,003,005,004,605,523,036,005,005,0010,004,953,007,366,008,2823,407,705,0010,0040,004,7015,004,954,0075,005,408,008,006,005,0020,004,005,004,003,858,2820,0014,005,0017,4810,007,0010,0075,004,005,524,009,20295,006,009,0010,003,003,0010,008,304,9115,003,0010,006,004,605,455,523,0072,0015,008,0015,004,608,004,0010,8075,0015,005,003,003,006,003,003,007,826,0020,0020,0019,3220,0018,0010,004,408,2015,0015,0010,453,004,408,004,005,0040,003,005,005,003,004,5920,004,2460,0014,755,005,004,1460,006,008,006,002,127,007,203,858,0010,005,002,767,203,003,0020,005,0010,002,765,004,465,008,0010,005,008,0012,0015,006,005,004,603,001,604,105,005,008,005,835,656,0510,008,205,5610,267,2013,007,7010,005,005,006,006,0045,4311,508,006,363,006,009,908,003,524,866,0010,004,003,003,0010,0010,504,004,953,006,0012,004,0075,004,327,9510,0010,0020,006,005,003,0015,002,0010,0059,958,0017,0020,005,0011,003,004,403,305,005,007,826,0015,0020,005,007,709,908,005,0010,008,004,008,008,0040,005,004,004,543,005,005,002,844,006,005,408,003,0075,002,706,004,0024,204,006,508,0025,005,004,505,004,006,009,005,006,006,006,4960,002,733,003,0014,725,0019,2540,283,004,148,506,0012,004,008,006,0025,0060,006,006,004,604,0020,0015,0060,0020,00",
          "25,0019,085,0040,0040,0032,005,008,0060,003,008,006,0019,6122,5015,003,008,003,005,005,006,005,006,003,003,304,866,004,003,004,608,005,004,106,009,2025,0010,004,0015,005,0020,004,9570,003,0012,003,005,615,466,005,003,003,603,003,004,3612,002,006,0020,009,9510,004,003,006,003,008,003,003,003,004,366,003,008,008,002,555,528,5074,004,244,005,013,0012,003,004,008,006,002,706,0016,003,006,005,005,408,006,006,662,763,008,003,0030,002,005,003,008,002,534,6075,006,004,953,335,4414,8536,006,006,008,253,004,6011,135,009,0024,2014,008,1037,356,225,0010,006,008,0010,0015,004,3275,003,228,003,0015,0022,083,008,309,006,005,402,205,007,705,408,0010,005,453,008,0063,843,0010,006,005,006,006,003,686,004,595,005,942,003,005,004,594,006,002,504,008,005,004,505,008,005,007,8250,0015,0011,507,203,008,008,002,004,007,706,003,008,305,00175,003,859,002,7060,008,008,003,005,003,3010,003,6810,0014,756,006,0012,0015,0020,008,005,004,0020,005,003,007,705,467,703,006,009,996,007,706,003,0015,346,002,009,319,5610,0035,0010,004,0510,004,843,004,323,306,004,0810,003,0010,004,604,6050,006,005,508,108,0015,043,003,608,007,5012,0015,005,066,442,703,306,003,008,105,007,7014,753,247,703,0055,005,0020,008,505,003,008,006,0010,003,005,525,003,0020,004,004,6520,0020,0050,004,005,506,0015,002,5315,008,003,005,4010,0011,2810,003,712,504,608,006,005,004,654,953,00175,0012,008,006,004,606,0010,006,003,8560,0012,005,003,0013,208,004,575,0010,004,007,208,288,285,004,369,5012,004,005,0048,158,005,002,185,018,0010,0020,008,0010,004,0031,3220,003,006,003,065,0010,504,016,0015,006,0015,002,708,009,003,003,684,404,288,206,002,006,0017,9914,405,006,006,006,004,773,6820,003,0015,007,3611,5510,5015,0010,006,006,004,0020,005,003,0015,004,147,5011,284,002,757,0069,0015,007,007,653,2212,0015,005,006,005,003,005,467,508,004,556,003,5410,124,005,645,005,407,506,005,108,006,006,0022,5017,6011,286,007,705,004,507,3650,006,504,008,0012,005,003,008,006,005,005,0070,006,0015,003,003,002,006,005,0015,503,3010,0012,003,006,003,005,004,003,605,0033,203,005,006,004,7010,004,005,004,0015,003,004,555,524,0075,008,0030,005,007,505,0016,433,004,955,003,303,858,006,005,005,0066,433,005,007,364,087,305,466,001,8012,006,0010,007,505,4010,0010,003,005,0015,008,2020,003,685,003,004,806,003,0012,008,004,248,503,0020,006,0020,003,008,468,0060,0030,006,0010,006,005,0010,004,6015,004,9520,106,0045,004,0028,528,008,287,707,486,006,006,006,0010,006,0015,504,003,007,504,866,0012,0012,008,006,008,005,0030,0015,0010,008,0075,006,0012,008,0024,388,003,685,614,952,7527,956,0013,783,008,004,0015,007,2025,0015,005,004,915,009,906,003,006,005,005,006,004,556,003,006,003,785,4015,004,0015,009,004,593,682,0015,006,0075,0027,953,0075,007,288,0010,008,003,009,0010,0016,203,0016,507,145,004,083,006,008,007,806,006,0021,478,009,605,005,004,702,9575,007,7010,004,004,556,004,204,5015,0016,204,459,8120,0025,005,008,673,004,864,004,6036,002,766,0012,005,008,3075,006,008,106,0010,006,0010,0027,007,365,5015,0020,003,007,825,004,245,007,704,608,003,307,7010,0020,0040,004,776,606,004,596,0012,003,0015,006,004,148,003,004,056,006,004,0013,506,004,005,003,001,844,104,007,362,738,0030,006,5415,0015,006,003,3075,0075,006,0015,006,003,006,009,353,007,363,605,007,308,003,005,0010,0010,006,005,0010,4410,004,606,0015,003,308,255,6120,007,656,008,005,0020,005,005,006,008,004,0520,004,055,006,006,003,003,004,004,5410,005,465,004,005,005,903,008,007,706,0030,00",
          "9,006,0010,505,529,003,0035,0011,0025,003,6018,0023,0028,3055,007,506,005,0012,7225,0010,452,769,003,006,006,003,0015,004,0012,002,8250,003,0050,005,0013,758,005,004,604,6011,904,053,006,516,006,003,008,003,4510,0075,006,213,005,015,007,505,0010,0036,003,0012,305,005,004,006,003,605,006,508,001,6018,003,303,304,0021,003,459,1010,003,003,0072,005,004,008,004,043,004,0012,009,904,864,501,804,0030,007,423,002,534,243,004,005,013,003,004,003,006,003,003,004,005,008,003,004,005,003,3011,992,004,005,003,003,004,006,005,4040,0019,988,003,686,0011,046,0010,003,713,005,008,007,156,0010,004,004,002,555,007,508,003,004,724,003,851,538,0036,0036,008,0011,005,006,0010,003,005,005,0020,004,606,0030,003,003,0010,003,005,006,006,003,004,008,0014,308,008,004,846,404,507,3660,005,526,003,006,005,506,004,081,744,043,6850,004,0512,003,826,004,603,787,506,007,824,958,005,0030,003,063,003,767,508,003,006,0036,004,6050,003,005,003,008,0020,0010,006,006,0012,004,054,958,0011,706,0013,804,135,005,005,462,844,016,906,605,006,006,0010,003,007,594,4020,007,701,862,7340,003,004,4075,0012,002,504,005,006,007,707,303,003,008,504,0039,054,608,2013,505,004,325,008,0015,003,0018,623,004,443,008,003,0025,008,165,004,056,003,302,0060,007,155,0015,003,002,7520,005,947,776,0026,402,754,833,305,006,0075,003,005,0025,003,003,0010,003,001,8425,0015,006,003,003,008,2512,433,064,0064,806,0012,007,0012,004,008,004,007,703,0014,755,009,724,6051,3020,003,004,303,006,005,523,003,007,3039,056,005,004,721,5060,006,007,953,006,009,983,006,004,054,363,684,505,005,015,007,705,005,522,508,003,6025,003,008,254,006,006,003,005,0030,252,505,005,0010,805,946,0033,006,004,602,753,003,004,088,005,0615,004,593,004,009,723,003,005,003,002,845,013,0012,0012,106,004,404,956,003,007,304,958,005,0036,003,006,546,007,826,006,0012,0075,004,145,003,004,004,003,005,618,0016,003,682,0010,0018,704,008,003,005,005,009,904,0018,006,005,003,004,844,145,528,0010,007,826,003,303,6840,003,007,508,006,0010,008,005,006,0020,007,709,105,004,834,405,003,0020,007,9175,006,007,705,002,5010,005,008,007,153,893,035,008,008,003,003,008,003,002,7320,003,008,005,007,148,1060,005,005,006,006,002,686,005,058,008,008,003,8530,0032,136,633,106,229,002,0014,964,4040,006,005,004,1410,7015,0015,0027,0010,006,006,004,726,0060,0016,528,004,803,006,003,0025,006,006,007,5016,003,3075,006,006,0036,003,0012,006,004,0040,003,0020,008,007,704,0010,003,003,0010,005,007,703,302,7375,007,154,6011,555,0010,003,303,004,006,004,956,006,006,008,003,005,404,5915,006,002,006,007,0911,046,0010,007,706,005,005,003,006,114,2410,0030,008,007,7022,0060,007,822,7617,966,0020,0012,7220,006,003,0010,5015,008,003,0012,003,308,0030,0020,0020,0012,003,005,0010,002,402,505,504,0010,008,008,0023,763,003,603,005,0010,006,006,002,764,004,608,008,006,0015,007,7020,0015,0010,008,004,843,005,008,0011,104,605,505,001,8210,004,608,0018,0025,445,003,006,006,008,254,954,9120,006,004,953,0020,003,8516,008,505,008,505,353,005,0031,922,0010,005,008,008,005,008,0020,0014,653,6820,0015,005,008,007,7050,005,004,148,005,019,006,0030,005,5212,002,9510,0015,0075,0024,3820,004,0010,003,006,005,002,0075,003,008,003,008,3616,403,684,007,826,0010,002,7515,002,0010,0010,008,0010,005,0015,007,704,142,006,005,007,822,005,007,506,0010,004,0014,0016,525,004,1410,0022,004,056,006,0020,005,657,363,005,007,3611,966,0015,003,008,005,008,007,7015,0010,006,0060,005,883,0010,0015,004,606,005,0050,005,009,0014,6314,7525,0033,006,004,953,003,246,003,006,009,902,008,008,5012,006,006,006,008,003,0020,0010,004,608,008,004,554,003,008,105,006,004,402,006,006,0025,004,0012,005,366,009,986,005,523,687,366,003,0018,008,008,008,003,0010,5010,006,003,2433,004,408,002,504,324,8033,004,325,006,0023,313,003,008,004,865,007,705,0072,007,502,509,104,406,006,004,606,008,0010,927,9512,004,005,006,003,006,004,445,016,8075,008,003,0010,006,603,002,009,103,304,0019,951,8020,763,0020,004,5025,444,004,9515,008,0020,0012,8475,0060,006,004,836,0020,004,5960,0075,0010,003,307,702,0015,0019,804,008,0015,004,9515,006,004,006,005,008,006,424,604,956,005,0010,508,0010,0011,702,755,0010,006,6040,004,086,0015,0010,008,0075,005,005,005,4025,275,008,005,006,003,206,0020,008,004,6015,006,008,005,002,435,002,435,008,003,007,957,0020,00",
          "18,005,8424,004,0011,0011,005,0020,008,508,0011,608,0010,0020,0060,0046,556,006,003,005,008,2013,0010,0010,004,404,003,003,0015,004,005,5220,001,2013,6311,316,0010,647,7014,633,008,0024,205,004,506,003,003,003,003,008,005,529,102,5511,974,005,008,504,703,008,003,3012,009,665,002,9510,003,003,003,0015,0010,0016,009,1050,004,329,003,004,603,002,0024,005,0015,0012,7225,006,0010,008,203,0019,423,002,503,0015,0020,005,003,3012,985,0024,846,004,006,008,005,005,005,004,006,0075,003,005,553,2414,723,0014,435,003,0010,005,0033,002,0025,008,002,305,006,005,0015,0030,003,307,826,006,005,5214,8520,008,502,004,008,008,0025,004,003,006,006,0012,005,0015,0015,003,0015,005,526,005,002,006,0030,005,033,003,0020,006,0015,001,6513,206,0075,003,008,006,057,503,003,0025,003,003,573,545,928,006,003,003,457,368,006,005,408,009,9015,005,523,3010,005,0010,0011,046,005,004,603,684,659,006,003,306,006,0012,004,866,006,007,504,004,834,8014,175,006,008,0019,327,705,0016,607,003,0025,003,007,826,004,608,009,909,008,003,004,8610,003,004,443,683,001,803,003,004,4015,004,083,006,008,003,009,206,004,603,0015,008,008,003,003,606,608,003,3310,4516,635,404,146,0075,006,0050,006,006,002,753,2410,006,0015,0048,6040,004,087,825,528,802,008,006,0013,205,006,007,703,609,908,166,004,004,405,005,504,003,003,004,244,605,008,003,065,504,504,865,0010,002,406,007,827,8220,004,003,008,004,0010,5010,003,7132,005,008,003,0015,004,6010,004,367,003,508,004,605,003,3010,005,0027,005,0020,0073,005,0010,0010,007,302,0020,004,803,0060,004,605,002,768,7213,006,009,563,006,003,004,0010,0012,005,0060,3010,005,009,0012,0010,0015,003,003,763,304,868,005,529,905,005,613,003,006,006,001,6510,0015,403,006,0015,003,3020,005,005,004,503,339,545,032,766,052,408,006,663,0010,006,008,258,808,806,006,0020,009,904,3624,155,9447,846,003,0012,005,005,0012,005,949,905,008,004,007,125,003,003,606,654,957,364,004,004,0012,003,003,0010,006,009,003,685,003,005,523,006,009,1010,0016,0012,005,526,002,505,006,0036,005,404,958,0010,007,653,003,008,003,858,163,6021,067,224,606,004,708,253,003,001,148,0010,003,002,0010,003,854,606,606,0020,1425,003,003,0010,805,007,8430,003,0033,003,004,003,2020,0015,005,0020,003,0015,0013,508,003,006,0010,006,008,304,503,009,006,008,504,006,0015,007,823,852,006,006,007,705,0015,0035,203,008,007,5820,002,4010,003,0024,308,005,005,002,005,4010,0030,0012,009,729,816,004,724,606,006,007,306,005,0010,504,0025,005,004,005,002,6531,5011,048,003,0020,0010,008,0010,132,0025,004,005,0065,0010,0016,568,003,004,8674,404,405,523,0012,007,494,912,764,003,305,006,053,0030,0015,005,002,5515,005,0112,005,0021,003,065,466,0010,804,3215,0015,0010,003,008,005,006,003,005,005,405,003,306,003,005,0010,003,894,292,755,009,2010,903,0075,003,007,508,163,002,003,003,3010,003,009,355,003,003,005,003,008,003,008,001,205,0054,503,0016,656,0015,006,005,5624,752,003,008,004,007,704,008,005,003,004,955,002,005,003,6515,005,008,004,053,002,0015,003,686,008,008,253,003,003,003,006,004,003,6015,008,206,003,007,703,003,728,003,005,005,008,003,003,009,005,0075,002,506,003,003,004,8640,005,008,001,825,5512,006,002,7654,287,156,008,2512,0023,856,0030,0040,0025,003,009,004,605,002,7810,005,003,8510,003,0025,006,009,906,4410,005,0012,005,007,3055,1210,005,003,006,008,004,003,306,005,004,835,4020,0010,0036,005,0010,006,005,006,0510,006,007,7019,6210,006,005,833,003,003,006,0060,0025,004,505,504,605,006,002,754,298,009,003,685,004,869,106,003,003,0015,004,004,468,006,603,898,163,007,3610,004,606,005,003,8915,303,0015,004,597,022,004,7210,003,004,006,0010,1215,0020,003,302,654,005,204,143,006,003,005,003,007,368,002,768,0012,105,0011,7012,006,003,8933,008,004,009,0015,0016,0012,0020,005,004,007,703,0010,003,005,656,003,575,005,008,004,913,004,003,305,003,003,895,523,858,005,007,565,003,003,826,002,005,5812,104,006,006,001,605,004,406,0015,954,4011,003,685,606,0010,006,009,1075,002,227,564,0010,008,004,141,5033,007,023,685,004,838,005,003,007,705,006,005,0025,003,003,0060,003,0020,146,006,006,004,083,0017,605,523,004,0012,004,403,006,003,004,606,003,0029,7014,308,0050,008,256,007,3612,008,0075,0010,007,3036,0015,009,005,1050,003,005,525,005,003,003,0010,004,006,0015,0016,5014,244,005,002,5040,004,004,088,004,606,006,0010,006,006,003,005,4630,006,009,003,893,683,005,003,008,0010,004,593,006,006,0035,853,005,004,605,003,006,6010,005,004,006,005,004,002,343,003,245,008,005,003,2214,725,005,315,006,004,8410,004,007,502,503,007,505,004,004,005,003,002,7820,0020,005,005,0015,004,403,006,009,9011,303,004,003,0013,505,0024,7575,0015,0015,008,0012,3212,005,007,007,955,003,333,007,505,005,005,0016,524,604,005,002,764,404,823,003,008,007,7015,0012,104,836,005,4015,008,0010,0020,003,304,4010,0010,006,0015,0010,005,4016,006,005,004,009,444,008,003,008,008,008,008,0024,206,0015,009,108,003,0012,004,004,0012,008,005,004,6060,005,407,375,003,8912,0012,006,006,001,8240,004,007,704,0020,008,0010,003,2475,008,005,0010,002,005,006,004,602,005,006,006,005,525,406,005,4560,008,0066,556,006,003,0012,005,528,004,0040,0016,506,0055,003,0040,003,007,506,116,006,055,0015,0011,9660,008,007,7010,008,004,603,008,254,864,1466,5512,003,0020,006,005,0075,0020,008,004,4010,8075,0020,005,0020,008,008,004,008,003,003,005,838,005,509,008,008,006,003,004,408,0012,439,006,008,005,508,005,8315,007,2212,436,0020,003,306,008,004,0010,004,608,254,145,005,006,0575,003,0010,005,507,703,006,004,003,305,1012,003,002,007,704,006,0055,004,863,003,008,008,006,007,705,0011,965,3175,00",
          "10,007,597,005,0015,007,5124,103,6840,0036,005,0020,0025,004,0020,0020,0017,0024,009,096,604,193,5012,0055,0020,0012,003,007,823,0010,005,523,006,005,007,774,082,668,648,005,003,007,325,005,003,0010,005,003,302,503,004,958,006,003,004,0015,402,2020,0025,0012,008,007,5010,0010,007,6710,0020,007,004,0015,006,008,004,0020,0613,0015,0020,008,255,004,083,307,705,008,006,0075,008,0027,005,013,3015,005,0012,006,0015,005,008,004,004,004,003,007,703,005,504,005,0015,005,406,004,6025,008,002,003,4510,0012,006,0023,103,008,003,007,7015,0020,006,007,709,004,7015,006,004,006,004,959,005,0036,0040,003,006,0013,204,004,955,0020,007,705,0017,054,5920,0012,002,0025,005,009,003,003,604,556,0015,0013,006,007,707,703,003,454,006,005,006,007,705,003,0010,002,007,151,827,508,0020,007,705,406,002,766,004,6023,103,3612,0010,008,0010,008,008,003,606,007,704,954,555,403,009,271,827,829,004,148,005,007,1572,003,008,005,003,004,843,574,9510,006,005,007,5612,0010,007,7011,343,006,002,004,708,0011,345,003,302,506,4011,004,523,003,003,007,8215,004,008,0025,006,005,005,0016,007,223,003,0010,006,004,729,0075,0010,004,006,004,601,6031,854,003,208,006,001,3825,004,0520,002,505,007,777,7015,002,505,007,7020,004,0872,003,249,007,3015,008,007,003,7810,007,823,008,003,008,009,003,0012,005,0036,005,405,0056,403,0010,007,704,467,702,0010,0015,548,008,004,323,304,002,7615,004,594,002,763,004,868,006,002,007,7015,0020,007,823,208,001,609,007,0013,2015,006,002,5016,005,003,003,006,0075,0010,003,004,523,3011,0031,854,003,005,007,3020,003,0010,006,0015,008,003,2472,0014,005,615,526,635,005,005,006,004,005,003,005,328,007,153,0024,202,755,005,003,006,0015,0070,004,724,6010,006,007,504,0020,007,7010,003,007,7720,0020,0020,004,596,007,506,0025,004,006,006,003,006,0010,003,0010,006,005,003,006,0016,436,0025,006,004,5014,0010,004,054,9115,0025,003,7817,054,0060,003,005,007,821,385,003,004,007,773,008,0012,008,006,0012,008,0015,006,006,008,083,006,006,403,0020,005,005,526,635,003,009,2010,0015,003,004,084,605,613,405,006,002,004,0010,003,003,306,006,006,003,003,005,003,0010,007,504,005,002,5040,005,005,007,152,755,005,0010,006,006,0014,0015,005,3215,007,503,684,4025,005,002,755,005,949,0014,5612,003,0020,007,5012,003,005,945,504,408,003,6825,005,003,005,0014,563,003,002,759,005,558,0024,2011,0016,435,407,706,002,254,954,003,062,753,683,302,004,656,006,0014,853,003,004,003,0015,002,555,0015,005,004,143,0010,0010,003,0010,006,0025,005,5018,7019,959,353,305,0010,006,006,0012,0012,003,304,002,008,008,007,0015,002,7620,009,002,002,5016,003,825,003,3013,8010,0720,004,485,0015,008,287,706,0010,004,953,004,144,323,004,406,543,0020,002,735,0015,005,5815,006,0012,104,006,0025,004,954,003,006,002,736,003,305,643,0019,114,003,003,006,005,009,003,609,106,009,816,006,0036,006,009,2010,005,9011,004,6030,0015,003,006,003,006,007,007,703,003,008,004,593,008,004,656,008,006,0050,005,4610,003,005,9420,009,695,003,685,003,0040,0011,1036,006,008,0010,0020,003,007,706,004,006,003,004,0020,003,007,525,005,524,725,004,601,8012,004,508,007,7712,005,003,305,0010,004,526,006,003,605,924,1026,0022,006,002,0028,0075,0015,004,0015,008,004,955,009,109,906,008,205,527,773,003,305,529,005,0017,484,403,304,103,008,257,365,525,003,2711,104,8614,724,087,293,308,0015,003,065,007,503,0036,008,006,0010,009,105,0015,002,554,1020,003,003,963,0010,00,507,505,008,0020,001,655,005,104,005,505,006,005,004,002,764,603,004,7720,004,605,002,004,448,563,0017,4910,005,524,0030,006,003,003,0010,5075,004,6041,255,104,083,305,005,005,003,003,009,723,0012,0015,003,005,064,143,008,005,005,5030,0020,0010,004,723,003,008,0016,524,4010,005,0015,003,064,142,247,706,008,004,952,224,003,004,553,0047,8810,008,006,003,0020,003,006,0020,9020,0011,4515,006,0012,003,0010,007,706,002,007,303,003,004,144,0015,004,007,073,005,0010,003,007,653,005,003,004,958,003,394,6030,008,005,003,009,0025,003,005,008,002,206,003,993,006,005,506,008,005,5560,004,724,0015,006,004,866,007,703,003,304,365,003,855,501,336,002,006,009,0010,007,915,007,005,093,006,986,008,003,0021,4210,004,6019,954,005,3054,0020,0016,003,008,007,505,008,004,866,113,005,003,006,003,001,508,0012,005,005,004,363,003,002,658,004,402,532,0020,0015,008,005,004,005,007,003,8510,003,002,557,006,005,009,2710,004,952,303,0018,003,303,004,003,684,6010,006,003,602,509,103,003,857,823,0022,004,658,005,4615,348,003,306,003,005,405,0015,006,004,956,0015,0075,003,0020,005,003,003,607,704,325,005,0015,005,582,005,005,004,003,0011,735,004,5972,003,009,002,757,502,7510,005,0036,009,0060,004,6012,0015,003,007,704,148,003,2415,004,0010,003,3010,0015,005,005,0033,004,009,0014,0075,0013,806,004,005,002,733,854,0015,003,823,0011,732,004,774,003,003,005,0020,005,005,005,008,256,008,005,007,505,003,964,594,005,008,004,8415,0012,003,004,406,003,004,146,007,705,0010,004,408,105,004,603,0038,864,609,997,703,305,5510,005,007,506,005,064,004,005,005,005,0014,0016,0013,166,006,006,005,0025,007,504,006,008,0010,007,3036,008,006,006,545,0050,0015,1340,008,006,002,503,0015,543,002,005,503,308,0036,007,703,0015,003,0042,353,005,006,003,6015,006,008,0010,004,008,006,005,0015,003,859,405,004,953,3010,002,704,954,003,006,003,683,007,7030,006,4014,004,145,006,003,0040,0016,007,504,598,5015,003,004,002,006,0012,002,556,005,0010,5010,003,8510,004,4010,002,505,405,0310,003,305,003,004,2055,005,013,003,0010,3010,0050,003,6820,009,187,704,004,447,364,143,006,004,088,005,009,1812,003,0010,0014,314,8675,0015,0050,007,506,003,005,407,206,006,003,006,005,004,0073,002,4810,005,006,003,004,008,005,003,193,852,735,003,8256,003,003,005,006,004,006,008,008,0015,006,0015,005,008,003,3020,006,003,008,0015,009,4036,006,007,7010,007,7010,009,905,007,7774,005,462,007,003,008,0020,009,008,005,403,0010,003,635,009,528,002,5020,003,0020,008,007,7010,003,308,006,005,469,906,005,007,7712,108,0012,003,005,005,0010,0020,0020,006,003,574,006,007,706,006,0072,0010,008,003,3620,0615,007,5627,005,004,009,2012,0015,404,0020,008,0025,008,008,004,006,003,3010,008,0010,002,504,005,008,0810,007,5010,0011,454,142,5515,003,006,003,196,5430,095,006,005,002,228,009,904,9525,003,002,786,004,84",
          "20,002,0075,006,0028,0011,0016,606,002,8415,002,7515,003,007,144,1015,407,658,004,0015,0017,768,0030,0022,201,6012,008,005,003,008,008,004,446,006,0015,0045,007,707,653,7210,0020,005,003,0010,004,004,002,006,003,0040,008,003,0015,002,668,005,005,004,446,0010,004,9136,008,004,403,305,0036,006,008,252,686,002,704,406,004,505,009,0015,006,006,054,403,853,306,652,5012,005,007,565,0024,0011,553,004,005,504,402,789,003,008,005,523,004,6024,781,808,0020,0015,005,0014,007,826,0033,001,805,4650,0072,0020,0021,477,0050,005,0060,006,002,208,006,0020,105,002,534,604,003,007,704,448,006,005,315,4012,009,106,707,569,457,843,8520,403,303,895,0019,953,003,602,005,006,003,851,3025,006,008,0027,0030,004,4014,3016,0025,008,002,782,505,002,559,276,006,0075,002,209,005,007,4915,003,303,005,005,0010,003,004,147,025,0012,005,005,004,0010,008,655,0010,603,3050,003,006,0040,005,003,303,003,004,0010,003,3013,0010,0015,0010,005,0024,2010,5012,0030,008,004,6020,0019,086,007,7033,003,007,706,004,009,903,007,707,7010,004,6014,302,755,586,009,902,005,003,007,006,005,003,004,863,0010,0010,809,0040,0020,008,006,0010,008,0018,0010,005,004,004,6023,315,007,593,304,4030,009,904,449,106,006,005,003,004,404,0060,002,503,006,007,283,003,005,003,0025,003,857,303,766,6310,002,506,005,006,0017,282,758,004,008,003,006,0010,003,3036,0015,007,7012,0054,902,0033,0019,087,154,004,004,006,665,003,303,007,708,5025,003,0020,0010,003,0010,0039,0115,005,008,0020,003,004,007,4433,005,254,005,0040,004,055,0020,006,006,216,003,005,003,303,8515,0011,735,527,503,006,503,303,002,503,006,004,443,306,002,736,445,005,524,0010,005,525,365,008,004,004,153,006,0031,002,504,088,005,003,198,4810,002,766,006,006,005,007,562,003,308,008,006,0012,002,003,003,008,008,0010,0014,7520,0012,0075,003,005,0075,003,0015,006,0010,006,119,008,0020,0030,0010,006,008,005,005,009,006,008,505,0012,006,0013,887,828,004,4012,965,007,507,708,004,403,008,007,3636,005,305,008,0020,0010,006,0010,003,008,5017,009,008,003,009,909,203,004,004,7710,0075,005,0034,6515,003,003,991,0030,005,507,024,003,0610,005,004,598,255,0020,0036,005,403,003,006,005,005,006,008,004,864,005,004,604,008,004,008,004,805,0075,002,736,004,5920,005,525,002,008,0020,003,003,009,793,002,783,0010,005,017,523,003,003,008,007,143,003,005,004,955,006,004,002,756,006,0025,008,005,003,007,503,002,833,003,003,3015,0014,30"
         ],
         "yaxis": "y"
        },
        {
         "alignmentgroup": "True",
         "hovertemplate": "SigUF=AM<br>Ano=%{x}<br>MdaPotenciaInstaladaKW=%{y}<extra></extra>",
         "legendgroup": "AM",
         "marker": {
          "color": "#00cc96",
          "pattern": {
           "shape": ""
          }
         },
         "name": "AM",
         "offsetgroup": "AM",
         "orientation": "h",
         "showlegend": true,
         "textposition": "auto",
         "type": "bar",
         "x": [
          2015,
          2015,
          2016,
          2016,
          2016,
          2016,
          2017,
          2017,
          2017,
          2017,
          2017,
          2017,
          2017,
          2018,
          2018,
          2018,
          2018,
          2018,
          2018,
          2018,
          2018,
          2018,
          2018,
          2018,
          2018,
          2019,
          2019,
          2019,
          2019,
          2019,
          2019,
          2019,
          2019,
          2019,
          2019,
          2019,
          2019,
          2020,
          2020,
          2020,
          2020,
          2020,
          2020,
          2020,
          2020,
          2020,
          2020,
          2020,
          2020,
          2021,
          2021,
          2021,
          2021,
          2021,
          2021,
          2021,
          2021,
          2021,
          2021,
          2021,
          2021,
          2022,
          2022,
          2022,
          2022,
          2022,
          2022,
          2022,
          2022,
          2022,
          2022,
          2022,
          2022,
          2023,
          2023,
          2023
         ],
         "xaxis": "x",
         "y": [
          "15,00",
          "11,52",
          "10,00",
          "3,00",
          "2,861,50",
          "10,98",
          "11,473,00",
          "20,00",
          "5,006,004,0022,32",
          "16,406,0037,203,006,00",
          "5,008,30",
          "15,0012,00",
          "6,008,006,0025,00",
          "15,00",
          "29,708,2020,00",
          "20,0032,8010,564,004,003,005,0015,005,005,00",
          "10,4020,003,20",
          "30,003,003,0015,0012,00",
          "3,007,4810,567,26",
          "8,208,2015,006,604,00",
          "5,858,205,006,007,2612,5027,005,446,003,00",
          "5,2010,567,925,003,0012,008,202,00",
          "10,566,005,005,006,00132,003,004,8740,005,003,005,00",
          "5,003,006,006,004,003,4015,00",
          "9,004,0010,5620,002,005,0015,008,208,204,004,624,875,00",
          "12,005,006,0015,003,003,248,208,204,005,0010,561,605,003,7820,006,0015,0012,875,0010,003,008,204,9611,885,005,007,505,0013,50",
          "14,608,037,306,005,0010,0015,003,0011,0010,407,304,058,2020,006,0011,005,008,2030,006,0015,0020,00",
          "4,6215,008,202,6413,005,008,006,205,004,001,604,96",
          "8,2012,0010,5615,0013,1410,0017,1610,008,2010,008,208,205,0025,0069,604,005,005,0010,00",
          "8,208,034,008,208,2035,007,308,0310,0015,005,0023,7640,0066,0010,005,003,004,005,005,004,004,698,0012,738,20",
          "7,303,006,0010,0010,0027,009,9060,005,008,208,2027,0054,008,305,0015,0012,003,00",
          "20,0014,2310,0010,0010,006,005,0023,206,0014,195,0010,0015,0012,208,209,244,169,0010,7220,005,0020,0010,0033,0040,005,002,9760,008,028,208,2016,4036,006,508,035,0014,605,0010,0010,005,006,503,005,0040,0027,00",
          "6,002,005,006,004,698,205,005,006,0010,007,365,005,0018,567,5025,009,245,0022,787,505,007,505,006,007,404,007,5017,506,061,5015,00",
          "5,004,005,009,6027,0020,0010,0018,0075,005,008,2010,00200,0010,008,204,628,205,007,2666,0034,847,375,0020,0010,0015,008,0020,009,905,007,5022,0015,008,208,205,008,305,005,0059,4026,4012,005,009,104,085,006,0012,0010,005,0016,606,007,505,0010,004,695,00",
          "6,0010,005,005,004,698,207,503,005,0015,003,004,6922,007,505,005,005,008,0040,008,2030,0060,005,009,7210,0010,2433,0010,008,204,106,007,506,0011,883,0014,855,008,0210,003,0013,2012,005,007,5011,0010,005,005,007,37",
          "3,0015,0030,0015,007,378,208,208,206,0010,0015,0017,527,374,6212,008,209,106,577,507,507,504,694,0014,7415,004,697,145,004,693,0022,007,508,047,507,505,007,507,508,007,507,505,005,0010,005,006,003,00,909,9045,567,5010,0030,005,0012,004,905,00",
          "10,007,374,695,005,0013,205,006,577,379,947,5010,007,006,007,505,0010,0010,004,695,007,0040,0010,008,007,505,001,5030,0020,0016,4011,228,202,0422,007,506,008,0015,505,0043,2075,007,5010,007,507,505,008,525,003,005,005,006,066,0045,006,007,055,0510,0030,005,004,6915,004,563,0015,2015,20",
          "15,006,0012,005,0015,005,007,505,006,005,0030,0010,005,005,007,5016,406,035,007,375,0015,0094,5010,004,6915,0020,004,007,375,005,0015,0016,601,3075,008,02150,006,0010,0025,0010,0040,007,055,0030,0011,22,3710,0075,00135,006,0715,0010,0025,005,008,0215,005,005,0067,0212,007,058,025,0010,005,005,0042,007,058,027,057,0510,005,008,20",
          "7,5075,006,008,2027,0019,046,5020,0020,005,008,0210,008,206,0330,005,0015,0020,003,0015,0010,005,006,066,007,9210,0022,008,206,0010,008,205,0014,808,208,205,0020,004,007,055,0060,0011,0310,0010,007,0510,0014,5210,005,002,004,025,0014,0050,005,0015,0014,0012,0030,0014,7414,0012,009,945,008,0422,008,52",
          "72,0010,0020,008,5010,0012,008,004,2933,007,504,695,0010,008,205,0030,0030,005,007,504,878,207,506,008,005,005,0075,007,3745,0020,0010,004,5610,002,274,697,507,2612,0033,008,006,704,0275,0016,4010,0014,0060,004,0010,007,5011,555,0018,805,0020,005,008,2018,0012,788,0013,005,0010,0027,728,0016,607,507,506,008,20",
          "5,004,0090,0020,008,0012,008,0012,923,005,008,006,007,5010,009,9030,0030,005,0010,0027,005,005,008,001,987,5012,0015,2043,1215,208,208,008,2010,0017,163,005,0028,6010,008,0017,6025,008,004,208,0420,008,209,0020,005,008,2012,00",
          "51,1260,0011,305,008,007,507,505,008,005,008,007,508,007,508,0011,0011,0011,006,007,3760,008,0010,0050,006,008,2040,0022,7875,0014,285,008,0012,005,003,007,508,0075,0020,004,608,0090,0010,0040,0030,008,006,003,005,0010,009,247,26825,0035,989,0026,40",
          "14,628,2060,0023,208,0033,007,5010,0040,008,0030,007,5015,007,5015,207,37120,0030,0040,2010,003,9011,0010,0023,003,6016,005,005,003,0012,0016,6016,6012,008,2040,003,968,208,2028,563,9615,2015,208,001,348,524,2912,005,005,0014,748,0011,6020,006,505,008,0021,4475,005,00",
          "3,9611,008,204,6215,005,005,007,267,263,605,0030,005,008,0013,0012,0016,003,0032,0011,605,0015,204,6820,605,008,008,0010,0010,0075,005,005,0012,008,2010,006,008,2015,008,2010,008,0015,007,9212,009,905,0012,00200,0012,0022,005,00149,206,0011,6040,008,005,281,5018,001,3010,00",
          "6,0012,005,00200,005,0015,005,947,927,5011,6015,204,008,0010,004,808,004,625,008,008,008,008,506,003,006,0010,006,0030,0030,006,009,0045,6010,003,005,0060,008,0053,606,008,003,0014,005,0060,0020,00100,006,008,005,008,008,008,008,006,003,008,008,028,208,006,0050,008,0015,206,005,004,6920,005,006,0016,408,008,007,3775,00",
          "5,0010,005,0037,003,0033,001,609,906,0069,7010,008,207,5025,0010,003,006,005,0015,006,088,008,008,208,0026,008,0011,2230,0025,008,008,007,815,2820,0013,203,0013,0042,2425,006,007,378,00250,005,0012,008,008,008,006,008,0011,2233,0010,0010,0010,008,2035,007,3711,604,837,5024,489,9011,2215,2011,6014,745,005,005,007,0370,0013,005,948,005,5010,0015,003,0016,0075,005,0016,006,0011,22106,9212,008,2012,004,628,588,008,008,208,005,00",
          "75,003,0015,005,0052,808,5810,007,3766,007,5030,505,7825,0018,005,004,628,004,008,207,505,009,905,00480,407,508,208,007,505,0042,8810,007,377,507,506,0010,0075,0050,0075,0025,0028,148,205,945,005,0010,004,692,1619,807,508,0010,0028,717,5010,008,205,0015,008,005,005,008,0010,0026,404,625,007,504,0025,0010,008,2012,008,2015,208,0012,00120,0010,006,0350,00",
          "12,006,007,505,006,005,005,945,0025,00,055,0026,40,3325,0075,004,145,004,293,008,2020,007,267,2611,22,337,503,00,5025,003,007,378,004,4015,005,9430,008,008,007,3616,005,007,505,005,005,80,33,40,33,26,35,3310,0075,008,0033,002,604,7611,2222,9525,008,004,8018,008,0075,0017,4225,8415,008,00,3310,007,2015,008,008,004,838,007,706,607,5010,003,003,9614,008,8015,208,508,006,008,0012,00",
          "13,007,774,625,6811,9915,0060,005,007,504,8012,003,0060,0010,888,00,40,3310,72,3310,003,303,303,0011,002,80,386,008,208,00,33,408,009,186,607,508,006,0094,507,5066,002,858,205,4350,004,106,00,33,33,403,4010,007,6050,005,007,509,108,2010,008,006,007,488,2014,525,506,6050,0060,0023,1210,0012,00,38,33,33,41,408,00,4015,00,33,40,33,34,34,338,505,003,96,40,40,435,0010,00,33,335,001,50,336,008,0010,008,20,398,005,00,334,025,008,0020,00,331,5023,0014,745,0011,006,00",
          "6,298,004,0015,008,006,036,0015,008,008,008,005,0023,008,008,0010,0530,0027,006,005,005,007,505,005,005,007,2610,006,0031,2020,005,0015,2026,4075,008,0030,004,928,008,0060,005,525,008,0033,0015,965,0060,008,008,006,005,008,005,5011,604,025,005,007,5010,009,9010,807,595,0050,0030,009,902,5013,506,937,264,001,605,008,0035,007,2675,0015,008,005,0012,0010,008,0017,0050,004,6930,0020,0013,008,008,62",
          "6,006,007,5069,816,0025,008,2043,006,005,007,508,2013,505,008,509,506,608,508,505,008,208,804,028,008,008,0021,001000,006,009,1010,806,2715,204,007,501,206,0026,407,524,0011,6615,2010,0011,608,255,447,004,764,006,006,304,9016,0021,875,7411,223,008,0016,409,1210,0011,704,003,007,006,0018,004,2070,006,004,006,009,508,004,8020,1010,00300,0033,005,008,005,948,004,7627,755,00",
          "8,004,4020,104,695,0012,008,506,606,5068,888,005,0014,2815,003,968,003,003,009,008,004,625,001,5010,5060,008,7112,008,207,928,207,2010,8020,006,005,283,6324,008,008,008,006,006,008,006,006,005,008,006,005,003,005,005,0012,0020,0050,005,003,0016,8030,0024,004,008,0017,0030,0050,008,0036,4012,8010,006,008,008,005,0075,003,007,488,5029,486,008,205,004,005,003,005,006,005,0013,005,008,003,0015,009,601,207,007,268,2010,0030,008,0025,0020,5017,0030,004,008,008,006,003,3510,1020,008,00",
          "6,0033,007,007,506,006,007,005,005,005,0013,0011,005,003,006,0017,107,0020,005,805,004,6960,0028,006,0019,368,008,5011,078,001,50240,0010,0010,0010,005,108,008,5045,007,5020,0013,0015,0012,546,008,0012,007,001,506,005,006,005,855,0060,0010,0014,748,0020,0024,0024,0012,0012,508,006,0012,004,404,00150,008,9150,005,282,964,298,0030,008,1612,0015,0011,7075,0015,0026,4017,1040,0020,005,0010,668,0012,008,0015,005,008,0010,564,1017,0010,007,928,008,008,008,0025,4230,007,5010,008,006,0021,60643,204,6226,406,9015,005,0014,00",
          "4,0010,0010,0013,1210,5020,008,2010,008,004,008,008,005,0020,0020,0011,608,2011,606,005,006,0030,007,2613,601,207,3011,228,208,0011,2223,104,0026,405,0010,007,5021,006,005,0032,008,205,004,0020,0066,6012,005,0015,005,006,00180,005,0010,0012,004,607,5060,008,008,005,005,006,001,505,006,0030,809,0024,006,004,503,005,009,0013,6016,0010,0011,6010,008,0016,008,004,506,004,927,505,9135,3067,767,5030,0040,0020,0030,002,008,206,0022,449,546,0020,004,5050,005,003,0019,5050,001,3060,003,0042,684,9534,44",
          "5,0038,0060,005,008,008,3015,0026,403,207,004,0070,005,006,004,5020,006,008,007,008,007,927,0028,304,5024,005,0060,008,004,5030,005,0016,009,1020,005,0011,6010,004,405,003,608,2010,005,0018,002,008,0025,0075,008,0071,907,506,006,008,005,005,0015,0016,5014,0016,597,501,5016,001,5020,008,008,0010,0025,0015,004,765,009,0040,0020,006,0040,006,005,005,008,005,0016,0016,0011,507,505,0075,006,008,0036,007,503,308,0012,5020,008,3018,004,957,2612,001,308,00104,9410,006,1610,008,008,008,005,2050,408,008,008,0018,0017,605,0014,0020,004,624,00",
          "7,9226,323,403,009,004,5016,006,0012,005,005,004,7020,007,0010,0010,5060,0015,0020,1027,0020,0010,004,605,0013,005,00103,708,0030,006,006,008,008,006,0013,1250,006,008,205,008,506,006,006,0010,006,0012,0013,006,006,608,0024,0016,003,6010,008,004,488,004,808,008,006,0015,004,294,809,008,0030,0012,008,0036,003,00984,20984,2047,525,0015,0066,008,0030,0010,508,0015,007,3026,008,0016,0070,0030,0010,005,2610,5026,704,0010,0016,0033,6030,0030,005,0050,005,007,506,0030,0010,00",
          "25,4675,008,0011,006,008,0020,0025,008,003,965,008,0040,0075,008,0010,006,0015,008,0022,047,008,008,0010,505,0011,607,5010,004,623,3010,008,5016,005,0016,0045,003,307,385,008,006,006,007,388,0016,0010,006,007,0015,2010,0010,806,008,007,004,0016,008,0075,0014,526,008,0020,1060,0052,0075,0020,008,0010,0012,004,006,005,0058,0815,2015,205,006,007,008,003,0025,0010,007,206,0015,006,008,005,007,507,5013,506,008,7015,008,0075,005,006,004,005,0015,006,0010,008,5020,006,0015,006,006,806,0058,506,0040,005,005,408,0010,009,0012,0030,0020,0018,0075,008,0029,0025,0010,005,008,005,0010,004,055,968,0016,008,0032,005,9410,008,006,004,503,003,608,0033,0015,705,0021,60",
          "75,004,298,0012,0011,607,5010,5010,007,0016,0013,0010,006,004,006,005,008,207,5075,006,008,005,006,004,8023,003,0015,0075,001,6010,0014,408,0012,0010,0036,002,488,0066,0010,006,404,6210,0027,905,006,0014,4012,0060,005,606,008,009,008,005,4050,009,004,5010,009,9011,708,0025,0040,004,0015,0012,00135,008,005,008,006,008,1013,205,0010,003,008,0010,0069,708,0012,006,008,008,0010,006,0013,004,8025,008,4010,008,005,007,208,0012,007,008,008,008,0015,0012,008,007,2066,005,0010,006,0010,0010,005,007,5020,0050,006,009,008,009,0054,007,5016,0010,0010,008,006,002,006,006,004,508,5015,008,0014,005,0022,441,207,0011,2210,0024,007,003,2018,008,006,005,006,008,0010,004,0512,008,008,0010,006,0032,0015,005,0032,168,007,504,355,00",
          "5,3223,104,8010,0010,505,008,0010,008,3044,006,0056,176,0010,008,506,009,006,005,408,005,004,518,0013,0015,007,6516,9052,807,2016,0030,1010,0010,005,0020,043,247,008,0075,006,007,508,003,0025,008,008,0025,0015,006,008,0010,002,005,004,5045,0050,0012,006,0038,5015,008,0022,9511,0066,0050,005,0010,008,0015,005,007,208,007,207,386,004,505,405,0010,006,0010,0012,0010,0010,007,656,008,0020,006,004,005,406,006,004,509,0015,006,005,007,508,006,009,006,005,4013,5060,004,058,106,008,0010,507,0012,009,6013,508,008,007,008,006,008,009,9060,0010,004,502,705,0016,006,008,0045,004,028,008,005,007,655,00175,0015,00500,0010,0063,0010,0040,008,0075,006,0017,164,8015,007,407,001250,0010,0031,505,005,00",
          "23,207,008,003,005,005,008,005,004,805,0033,007,385,0020,008,007,5010,888,206,5030,003,006,0010,0010,009,1010,005,008,00230,004,5015,003,008,0010,007,505,003,008,5027,583,007,503,008,008,004,365,0060,008,008,1066,0036,006,005,008,005,00131,0510,008,008,0010,008,8018,0010,0025,008,507,206,003,004,0010,0020,006,007,206,039,008,0017,0066,0050,006,305,005,4010,0024,004,0012,0019,008,308,006,003,008,006,007,5010,003,008,008,008,0075,005,0016,008,0010,008,008,006,008,007,509,9010,005,0015,004,506,0024,008,0016,0025,006,005,0075,008,005,009,907,2010,008,507,508,006,006,008,008,003,006,308,006,005,0040,0010,003,008,004,507,635,505,0012,0026,705,006,001,804,0010,006,6312,008,0018,00950,008,0010,388,005,0010,008,007,502,408,003,605,0015,0050,005,004,50",
          "25,0016,0013,007,205,0033,0060,0010,808,0010,0010,0044,008,006,006,008,009,017,706,9010,0015,0018,9030,004,868,0015,0026,1011,7013,008,008,0026,556,0040,0020,008,5014,408,8010,007,7016,0010,0010,003,608,005,008,0010,0012,8075,006,008,0014,0025,008,0012,603,008,008,006,0011,004,057,208,0010,0016,008,0075,006,225,0012,007,606,008,0020,008,003,205,006,0016,0072,0010,304,105,008,0040,008,505,008,0015,0010,0020,1610,006,0016,0010,005,4010,006,004,008,0045,003,005,009,905,607,5760,0059,404,145,4013,008,009,0027,566,0010,0010,008,008,008,006,006,007,205,0016,0010,008,005,005,004,8010,008,008,004,808,005,002,504,5011,009,105,005,005,008,5060,3040,008,0020,008,0012,0013,5012,0023,004,697,5016,0030,007,2028,006,0015,188,308,0010,008,0011,576,0020,008,0015,0010,006,0025,007,704,806,006,0010,0040,007,205,009,008,006,0012,105,008,1010,008,006,008,5013,505,006,004,0060,005,0015,0036,009,027,2036,0010,0016,009,007,706,007,8210,005,0034,0422,50,556,00",
          "8,0025,004,505,0010,006,007,2011,5020,008,0010,008,0010,0037,5010,507,507,656,0010,0010,008,007,7014,988,105,0010,008,206,0060,0015,008,008,008,088,008,0025,008,0013,0018,007,7015,004,4033,006,006,008,009,203,0010,008,0010,608,108,0040,0010,008,308,0010,008,005,0010,0035,007,5010,008,008,507,507,505,2810,0020,0015,006,508,005,0030,0015,006,009,843,008,0010,00,5510,005,0033,001,4027,0014,584,3620,0012,0030,0028,009,0015,8110,007,2675,005,0012,006,008,008,00,5515,005,5010,006,0024,086,0010,005,00200,0012,005,008,108,506,405,006,005,008,0010,0011,5515,006,005,005,0050,006,407,502,508,103,85,556,5015,0013,506,005,0036,0020,008,308,005,507,5016,0010,006,003,008,508,005,009,205,007,634,508,0010,80,558,0024,008,005,006,008,0030,005,005,005,005,007,509,108,3016,0012,0011,2010,007,008,0014,987,7013,005,003,008,00,558,005,0070,0026,405,005,008,005,005,0025,003,9614,403,304,959,204,4050,004,865,0015,005,005,005,5030,006,009,0095,004,905,00",
          "28,0060,005,358,008,008,0025,006,508,008,506,005,0025,009,008,003,007,707,3610,0015,004,808,5027,6010,008,0010,006,0021,0020,0060,007,9216,004,0017,0010,008,006,009,509,5715,006,008,508,008,006,603,0010,008,366,005,0027,607,207,0220,0012,005,0010,0010,006,009,10,5420,009,2067,5015,0060,0011,005,0010,0014,005,0010,0010,0029,008,0027,0015,0027,0016,002,0020,0015,0020,0015,003,604,008,506,0020,006,0010,009,008,0020,009,8111,0025,0015,008,008,009,005,006,006,006,448,0010,0023,207,7010,0075,0013,008,0010,009,0010,0010,005,0016,0010,008,5014,0075,002,008,007,365,008,3018,0015,005,008,306,006,008,004,9510,006,008,006,0011,9925,005,467,365,0015,0035,0010,0014,3010,0010,004,006,006,0066,0060,003,006,603,247,7010,0015,005,508,005,005,009,9010,006,008,006,0010,006,0037,006,005,405,008,0025,005,008,008,008,5010,003,0015,005,005,005,0012,005,607,507,50",
          "8,3010,00,5510,005,0010,007,3615,0025,008,305,0010,008,0075,007,3615,0075,0010,004,909,2615,008,008,006,006,0020,005,0020,008,0010,006,006,008,005,008,007,008,0011,007,505,008,007,383,0010,003,0075,006,0012,0012,00,456,008,0025,0050,006,009,1025,0075,0033,0025,0010,008,005,405,006,9510,0015,0010,0010,0010,0020,005,506,007,70,337,707,706,008,0010,008,003,2015,0011,008,003,687,702,0020,006,005,0015,008,0010,007,5010,0030,006,003,0010,0015,0015,005,006,0010,005,404,0015,008,0013,008,5011,998,507,503,7010,003,007,703,808,007,008,508,0020,006,003,609,0073,443,007,825,0030,0010,006,009,105,4010,006,958,008,506,006,002,006,0015,407,504,2975,008,0011,045,998,0016,5020,003,001,508,007,153,007,7011,008,004,506,008,009,1020,008,003,008,0010,9010,0010,0010,004,958,005,008,0010,007,5036,005,507,508,003,008,0012,008,0015,0010,0015,907,3650,0012,9650,0010,0011,0018,903,0010,006,005,007,708,0010,003,0060,0010,004,5075,0035,008,0030,002,803,006,0036,005,406,0015,0020,0020,006,005,006,003,007,705,008,003,208,005,949,103,007,5010,00",
          "8,0010,003,204,0030,008,006,0010,005,007,7016,0010,008,108,3010,0715,008,003,008,0010,5016,205,0020,0015,0015,006,006,0010,005,0010,006,006,009,208,0010,0010,0025,0015,0020,003,0010,006,006,006,0025,007,506,0060,008,8020,0044,008,0020,004,606,0010,006,005,527,506,0013,0014,8510,007,2010,003,856,0016,503,008,009,107,296,4412,506,0040,0010,008,005,5010,0075,0012,001,8010,008,0025,006,005,007,709,1060,0060,008,008,0050,006,003,006,303,003,009,406,005,508,004,4010,003,0020,008,008,0033,007,505,008,002,806,429,109,106,005,0015,408,0010,458,0015,003,0020,002,009,9020,0020,0020,0015,0050,0015,0012,006,007,5215,0015,008,0015,008,5010,0025,007,506,003,004,7040,8760,0010,0010,008,0010,0028,0028,003,995,0013,0010,007,004,0015,408,007,006,3023,1030,7410,0015,004,0010,0015,008,0012,009,0022,0010,0010,003,6015,0010,006,0014,728,0018,368,0017,006,009,103,9612,7311,2012,969,9075,008,008,003,246,007,705,008,854,9510,7013,638,0030,003,25",
          "8,0030,002,006,008,002,758,0074,703,2412,0030,005,006,007,5010,108,508,0140,0025,0036,009,907,5025,008,0012,005,009,007,7044,0075,003,009,277,708,0014,006,4460,008,208,0012,008,008,005,065,0029,168,003,008,0069,764,9140,0045,003,296,0028,007,561,505,0010,006,0030,005,006,008,008,005,4067,588,003,8223,408,0010,0010,0036,009,2660,003,007,5015,0010,006,004,865,003,6820,008,008,0015,006,008,004,5010,0012,8812,006,604,808,008,0013,0020,0010,007,508,0010,0010,008,004,408,0016,0025,0072,0075,002,0010,0016,3510,0013,0015,4010,006,4915,008,008,0026,0020,0010,005,0020,005,4510,0015,008,0015,4014,85330,008,008,008,266,009,601,604,809,356,006,005,008,008,005,0040,0010,0010,0075,008,0019,505,006,008,008,007,7010,006,007,8710,0010,005,0035,008,0019,805,524,4011,558,006,005,358,004,956,008,0040,009,725,005,0026,4036,008,0010,009,9012,606,00",
          "3,008,005,408,0010,0014,305,006,006,008,1020,008,0010,007,155,004,005,0011,507,504,8025,0020,007,706,0019,2515,004,0512,0010,0010,005,009,906,004,9540,004,958,0014,005,0036,0022,505,508,0017,706,0011,505,004,508,008,004,955,058,0010,0014,176,005,008,008,0015,008,0010,006,008,0060,0010,004,007,2020,005,0015,006,0012,604,806,4415,005,526,007,7020,0016,005,0010,808,0012,0012,008,0010,0010,0011,005,0015,008,0014,7210,004,5015,003,6025,007,506,0060,005,9125,002,005,0015,0010,004,728,0010,0051,0013,708,0010,0035,005,505,0010,006,009,005,6410,008,0013,5010,003,305,0020,0010,008,007,7010,0066,0075,0015,0015,008,0015,008,004,205,0012,0021,006,0014,756,0020,0024,7515,008,004,957,5616,0010,005,008,007,7020,002,6440,006,0010,008,004,7015,0015,005,5214,7220,0024,0014,0010,006,005,008,0017,608,0075,008,008,004,726,4030,0025,007,563,006,003,006,0020,0015,406,008,008,0025,0010,008,0010,007,8225,008,0010,0015,008,0012,505,0013,503,306,0010,006,008,005,0018,003,1840,002,006,008,0030,0020,023,0020,0050,0015,008,0020,007,70",
          "16,207,0015,417,0010,8027,008,002,2014,005,008,0010,008,006,0016,0015,0010,009,1020,0035,005,004,004,8035,0015,006,006,008,0015,008,008,0014,265,5075,0013,0014,728,005,006,008,004,5018,5012,004,703,007,7010,008,008,005,407,7020,006,0020,005,0010,003,0010,0012,0020,009,105,9920,0027,1330,003,007,635,004,866,005,6475,0010,008,0020,004,288,0010,0015,008,005,006,005,0010,0033,0021,465,507,505,008,006,3015,005,008,0014,005,008,0010,004,408,003,6010,0075,008,0075,0010,0020,0075,005,4013,0015,0015,006,008,008,0010,0010,004,325,006,008,008,005,003,0030,007,089,0036,0036,006,909,664,4020,0010,006,005,5215,0010,0010,006,004,868,008,008,002,185,005,0015,006,002,004,006,4415,0010,0030,404,324,008,0015,008,007,658,0020,008,908,0012,0015,0010,506,0016,003,005,008,006,0015,006,007,3610,8020,005,006,004,0010,0012,008,006,166,0012,008,253,0015,009,813,005,507,364,008,005,003,658,0010,005,504,8610,005,6414,7260,006,0013,001,114,5010,508,004,146,008,0015,0030,152,1720,005,0010,007,708,0012,008,0023,0010,002,006,008,0050,008,3017,7049,6826,0013,807,958,3015,0030,0030,008,2810,008,004,009,0010,003,008,006,5428,004,002,0060,0029,684,0012,0030,0026,403,0020,003,538,009,4610,008,007,1550,006,507,708,009,008,0060,0015,0010,0075,0025,0030,006,008,00",
          "33,038,005,0018,0051,948,005,0010,0010,002,506,547,3010,005,007,308,004,043,006,005,0012,506,0010,008,008,006,4425,00110,009,9715,004,407,706,003,303,0030,0010,008,006,006,008,0010,008,5012,0050,6075,007,70330,0010,008,0012,006,0010,0010,007,7050,009,2011,0060,007,506,503,008,004,958,0014,727,708,008,005,0018,007,368,0012,0075,005,008,008,0010,008,0010,0010,006,0025,0011,886,0012,1075,0014,207,307,4212,5028,6052,804,008,005,465,502,7575,0011,006,604,005,008,005,0010,5010,008,007,507,7015,0010,0010,006,0012,0030,008,283,008,0012,007,706,8030,0010,007,307,307,506,007,367,705,006,0010,0012,105,507,703,0020,007,3010,005,9929,7014,3010,0015,008,0015,006,0010,006,006,009,008,0012,005,006,6013,3010,009,9020,028,008,003,004,865,997,708,505,0025,008,5013,756,008,0016,008,0047,1713,207,8210,007,028,007,707,707,5010,0010,008,007,007,5012,003,0018,737,703,0010,007,3642,7019,6520,009,0015,0010,0010,0015,004,6010,0035,0032,1510,0040,0015,007,506,0014,0030,0030,0011,0068,20100,007,638,006,006,0020,0075,0041,4260,0010,0030,005,006,0015,004,3210,0015,0010,006,008,0010,0075,008,005,0010,004,003,008,0010,0013,0810,006,008,0010,005,0010,005,0014,7227,007,65",
          "55,0019,8065,00218,00222,005,008,506,007,509,105,0013,007,4715,4010,687,509,107,506,008,009,005,5015,007,708,005,505,008,008,008,0010,006,0019,808,0015,008,005,009,908,009,203,6411,004,005,008,0010,0010,006,0020,0010,0010,0012,0036,006,006,005,0010,006,0012,837,7020,005,004,5013,786,007,006,00200,006,006,008,0012,008,007,1510,0047,328,004,5015,0010,606,0025,0020,0012,004,0075,0060,0012,008,008,005,008,507,202,725,003,004,917,576,008,00161,0015,005,0018,8875,007,635,007,707,508,0030,0010,0010,008,0050,005,8310,0010,088,0015,007,503,008,2510,006,0015,0018,0020,007,505,005,0012,008,001,8011,003,2730,006,005,009,9010,0025,006,006,5036,0075,0030,0020,0015,0020,0010,0010,0015,008,0040,004,953,278,507,638,0010,003,005,0012,009,9018,0019,255,004,007,703,0010,0015,0010,0020,007,1514,725,007,208,003,008,007,706,005,005,0010,0025,0010,0033,0016,00190,605,009,906,006,006,37660,006,0010,008,009,207,507,508,0020,0010,0015,0049,6810,008,288,0015,0010,006,008,0027,508,0033,3074,0012,0010,0013,0040,0075,0013,0043,2010,008,0010,505,008,003,006,607,7010,008,008,0010,007,5015,004,405,008,005,0025,007,707,2010,0010,0041,0410,005,4050,008,0016,008,005,0010,0012,008,005,004,0031,756,007,5012,0010,007,708,0012,007,007,502,4040,0040,0013,508,0013,005,40750,00",
          "5,0010,0013,2020,008,0010,0012,007,708,0026,9511,1310,009,9010,002,0010,006,0012,306,0010,0012,006,0011,665,0010,005,007,5020,0020,0011,508,006,377,206,006,006,007,7012,005,008,5010,0010,456,0010,0022,008,003,6012,0010,008,003,0025,008,0010,0015,007,5050,0010,0015,0010,006,0010,004,0016,0010,008,1710,008,0015,0010,005,526,0060,0512,006,008,007,7014,0015,6015,0060,004,149,208,007,5020,005,005,005,0011,5021,6020,007,368,0015,647,828,007,7013,009,356,4460,008,5010,007,7012,0036,0011,0010,005,9010,0014,508,008,0012,605,008,0013,007,7010,0010,008,008,008,002,208,0010,008,0028,506,0019,8010,007,476,006,007,506,603,002,25220,001,5240,5010,007,3015,005,007,704,4045,006,4411,9675,0010,0020,008,0010,005,4010,005,008,005,004,008,0025,008,008,0020,0021,004,0070,0016,205,657,3020,0015,007,709,1028,0015,004,0016,005,0080,0010,008,0016,0015,0015,0018,157,70120,00100,007,5010,007,7036,0010,004,0015,006,60265,608,008,00",
          "50,0015,705,9116,0013,0048,0012,0015,006,0014,728,003,303,3038,157,7010,004,008,0012,005,508,0014,1010,005,005,355,10300,0010,008,0028,149,9010,0015,0036,003,006,007,7010,0075,005,007,006,006,0010,006,0018,0020,0010,0015,0012,006,007,3028,085,0018,153,005,0015,002,5050,006,005,008,5012,006,006,006,009,3010,5010,5021,0014,0021,0015,0025,0050,004,608,008,0010,007,708,008,0015,001,008,007,1512,008,007,705,005,006,448,008,2533,0010,0012,0025,008,003,0014,0010,0010,0010,0025,005,007,307,705,505,007,708,0010,006,0015,002,008,0049,685,0075,007,4250,0019,625,0020,006,005,008,8015,0015,0025,005,0010,5014,3014,727,706,0014,006,008,005,5210,007,368,009,353,005,0016,008,0010,004,008,005,0075,004,6028,006,4015,6413,004,506,0024,0010,003,005,787,91900,008,004,0010,0010,008,0010,0015,0015,0012,004,906,0026,608,007,3620,0014,7210,008,0035,005,005,0011,003,2716,0010,006,008,008,008,0013,5010,008,0033,0033,008,5010,0059,9516,506,004,958,008,0016,005,004,008,267,367,308,0020,005,4012,605,0010,0020,007,7015,0035,005,5275,0020,007,368,005,5230,0011,005,006,5055,0015,006,007,9216,008,0075,0075,0050,0010,003,1810,0010,0016,006,0012,0030,005,506,006,0014,2014,008,004,6029,447,705,004,004,0060,009,005,4011,0016,008,0011,888,006,005,528,008,0012,0012,004,9521,808,806,009,0010,0011,046,006,007,507,5010,008,0010,0010,005,009,3535,005,526,006,0038,0075,006,008,0010,0040,009,008,007,008,0050,0012,008,00",
          "14,0030,005,0011,0012,807,7020,009,357,7018,5010,508,006,008,0010,006,0014,725,007,7015,0015,008,0012,8820,006,007,6712,0016,4016,0025,0010,007,506,0075,008,007,6312,0015,0075,005,0036,008,008,0015,0010,007,9924,6010,006,00265,6040,0014,858,022,005,004,0015,008,008,0010,009,0020,008,0016,005,005,008,0014,6910,008,006,4411,0415,008,257,504,606,6010,007,506,008,005,0010,008,005,9910,00250,0010,236,0012,006,0016,008,009,906,0020,658,005,005,403,008,0015,006,007,307,3612,007,3612,505,0075,0015,004,409,208,005,0032,008,008,009,449,904,0015,0012,008,0018,2010,0010,0010,5023,0013,807,367,365,0073,005,0025,005,008,009,909,908,006,0010,0010,004,005,008,0035,008,0010,0010,008,008,0010,0013,003,007,707,3616,004,6015,008,007,5060,007,365,506,0012,0010,0010,007,157,0045,005,005,0615,0010,008,008,008,007,7010,0025,004,008,0048,388,008,006,0024,0010,0075,0075,006,006,008,0010,008,0075,0010,0018,005,006,007,386,6030,008,008,0015,0010,005,0010,128,0015,4010,0010,0015,0011,5015,006,008,0012,0016,008,005,0012,0027,507,5070,0061,368,0010,508,0012,0010,505,0015,007,366,004,008,0015,005,0024,006,0074,002000,008,005,008,00120,008,003,007,5010,004,2010,0016,0020,0010,006,005,007,7016,006,0010,008,0015,005,0012,308,0010,0010,0020,008,009,0010,0012,308,6510,5010,0021,008,2815,0011,6812,0010,008,00150,005,0010,005,009,90240,006,638,5010,5025,008,0024,0012,0014,408,008,0010,0015,0012,008,007,707,155,0013,006,007,706,0032,0010,0015,0010,006,0060,0010,0063,0040,006,0075,0042,908,00",
          "12,205,0034,9030,0132,0015,5015,0023,504,0018,218,005,0011,558,007,509,209,0016,2075,0022,0030,0011,6012,007,70150,008,008,007,707,705,0010,0075,0010,0060,007,709,108,0015,0010,508,009,006,0028,006,005,0016,0030,003,306,0010,446,0025,008,008,008,0016,0015,008,005,006,008,0010,0075,007,005,505,006,008,008,006,008,006,0013,808,009,105,007,706,009,9016,0010,503,006,005,007,709,0010,001,626,0015,0010,0010,0013,6220,005,009,9010,00100,008,0016,508,008,007,7060,0015,0070,005,006,0010,0060,0016,0026,0010,0010,004,605,002,0012,008,0012,0012,0074,0060,0018,0075,0020,008,005,0020,008,0060,009,008,007,509,1810,0010,0010,006,0020,0050,0014,7220,0020,0020,006,0020,006,0012,006,376,448,0050,005,0049,509,008,0012,0015,0015,0038,0010,009,907,706,005,006,0010,008,008,0011,046,007,507,085,0016,0010,0075,0012,1012,108,0013,508,006,8910,006,0015,543,609,006,008,003,006,006,0012,006,0010,0013,0074,0024,0017,008,007,3612,006,006,0010,008,005,0012,007,7010,0020,0015,007,709,357,708,0019,8010,508,0050,005,0045,008,505,0013,754,0010,008,008,008,008,005,005,524,408,0030,0015,309,0010,008,507,709,105,008,008,0075,0020,0012,0075,005,007,708,006,006,008,0015,007,368,306,0024,008,0012,006,009,108,808,005,007,7060,0010,5015,006,0020,004,4020,004,506,0010,007,509,008,007,3010,005,0018,186,669,0050,004,8625,0025,0016,0040,0013,7512,0020,0010,005,005,008,005,008,006,6012,0010,006,005,008,8030,0015,007,368,008,005,527,7012,0018,008,0023,0015,0014,307,505,0012,0010,006,0011,048,008,005,506,007,5022,0010,0010,005,0010,008,007,008,0040,008,003,364,4021,9075,008,0010,008,0010,0050,0010,009,0035,004,4012,2110,507,708,004,00,558,0015,0015,006,508,0024,0010,507,5025,0010,5018,009,7214,608,008,0010,007,308,0014,585,0620,007,502,007,502,0036,0014,4015,0010,0016,008,655,007,706,007,7010,008,0020,005,008,0010,0015,953,307,3610,0010,0010,008,0018,407,708,0016,005,002,0014,163,008,006,009,9925,008,004,006,005,526,0015,005,006,0010,447,0025,003,007,708,004,005,506,0010,0015,008,0010,006,005,408,0015,0010,5045,008,0010,008,0010,0012,008,0014,0015,0012,0075,007,0010,005,008,0012,006,007,158,0010,008,0010,0015,0010,448,0010,0045,0049,5027,004,5510,0050,007,158,286,0013,3212,0022,404,327,917,7010,0010,0010,0010,0020,007,7010,0010,003,00200,0010,0033,008,008,005,005,004,4050,004,404,4016,0015,006,657,154,006,008,0024,009,0050,008,005,008,004,913,3646,005,0012,215,00",
          "11,008,006,0011,0010,0049,7615,003,0060,0018,5545,0010,005,0039,967,208,0016,008,001,005,004,958,009,1020,0022,2615,008,0010,0010,0020,0010,009,1010,0016,0050,0012,0015,007,507,706,0036,005,507,848,009,007,3025,0013,608,008,004,658,0050,008,0014,727,705,856,602,005,005,5211,559,1027,0010,003,004,087,705,0060,0060,0020,0011,1020,008,005,0020,0015,0010,008,009,696,007,447,706,058,0010,0020,0012,0040,006,008,0020,0020,005,008,5010,005,007,637,288,0012,007,706,008,007,005,508,0012,008,003,0010,009,278,0010,0026,008,0015,006,008,0010,009,667,2215,0018,159,2015,008,006,0010,007,507,508,002,208,004,004,008,007,7030,0020,0030,0010,006,0042,323,2712,0012,008,808,806,006,008,0015,3410,508,0050,007,5012,654,556,009,108,0060,0011,106,5013,323,225,508,0030,006,007,706,505,006,0032,404,403,007,776,0010,005,508,008,2810,0029,7020,007,2810,008,008,0018,008,0016,0015,008,008,008,0016,009,008,0018,1516,005,5010,5014,106,008,009,008,008,0033,005,0050,008,0021,0016,406,0016,0016,0014,438,0014,008,3015,0015,0010,5012,005,007,149,007,7012,0010,004,0020,0018,208,009,1010,5030,0030,006,0014,726,007,1410,008,0015,0020,0015,003,3011,2810,0016,008,005,005,406,0013,0075,0075,008,0034,008,0024,0010,0016,0013,0016,0015,008,0010,007,506,5075,0015,267,7030,0033,005,006,6026,0010,006,006,008,0014,0018,0015,008,5028,988,5022,009,309,009,005,0014,009,1013,8812,0010,005,008,5825,009,0014,0010,006,008,0015,0030,0016,007,1575,0060,005,0010,5010,0018,0010,008,0019,985,0075,00",
          "21,2015,0014,4025,0025,0012,005,0023,7010,0029,7632,008,806,0060,0015,008,8010,0015,0017,608,0020,005,947,02"
         ],
         "yaxis": "y"
        },
        {
         "alignmentgroup": "True",
         "hovertemplate": "SigUF=AP<br>Ano=%{x}<br>MdaPotenciaInstaladaKW=%{y}<extra></extra>",
         "legendgroup": "AP",
         "marker": {
          "color": "#ab63fa",
          "pattern": {
           "shape": ""
          }
         },
         "name": "AP",
         "offsetgroup": "AP",
         "orientation": "h",
         "showlegend": true,
         "textposition": "auto",
         "type": "bar",
         "x": [
          2017,
          2017,
          2017,
          2018,
          2018,
          2018,
          2018,
          2018,
          2018,
          2018,
          2018,
          2018,
          2018,
          2018,
          2018,
          2019,
          2019,
          2019,
          2019,
          2019,
          2019,
          2019,
          2019,
          2019,
          2019,
          2019,
          2019,
          2020,
          2020,
          2020,
          2020,
          2020,
          2020,
          2020,
          2020,
          2020,
          2021,
          2021,
          2021,
          2021,
          2021,
          2021,
          2021,
          2021,
          2021,
          2021,
          2021,
          2021,
          2022,
          2022,
          2022,
          2022,
          2022,
          2022,
          2022,
          2022,
          2022,
          2022,
          2022,
          2022,
          2023,
          2023,
          2023
         ],
         "xaxis": "x",
         "y": [
          "150,00",
          "345,00",
          "10,0010,0010,0010,0010,0010,00",
          "2,00",
          "5,00",
          "3,00",
          "5,004,8710,40",
          "5,002,006,005,855,00",
          "5,008,20",
          "7,003,004,76",
          "4,866,00",
          "4,00",
          "8,001,10",
          "5,006,5099,005,008,104,69",
          "149,7612,008,208,206,008,206,003,008,005,003,00",
          "132,008,2060,003,006,008,201,9812,00",
          "4,006,506,0010,0010,0099,006,003,004,6212,50",
          "1,324,009,005,005,00",
          "19,208,752,106,60",
          "4,0011,0030,0050,803,003,0060,00",
          "5,005,006,72",
          "45,00100,0022,505,005,00",
          "5,0010,004,695,0056,285,007,507,375,006,00",
          "11,5025,005,0020,006,0022,003,606,008,0020,005,003,0010,007,50",
          "15,009,244,005,0010,008,206,006,403,006,00",
          "33,5020,004,697,504,002,686,0012,802,506,009,3875,003,609,007,004,48",
          "5,00156,003,005,005,605,0020,005,005,008,206,505,005,005,006,006,505,0014,74",
          "8,405,002,885,00540,0080,002,905,004,0050,0020,0014,0080,007,505,0056,105,0020,00",
          "5,0025,0020,006,00712,005,008,204,803,003,0042,8844,0044,0040,005,0018,09",
          "3,967,502,0112,503,0018,007,006,0030,003,905,0042,885,699,0068,646,005,0015,0019,2013,50",
          "8,00",
          "9,6040,0025,50",
          "6,506,009,525,008,408,205,0023,564,695,008,005,00",
          "10,508,0018,708,204,766,0010,006,8010,005,004,628,005,504,693,003,007,507,488,0015,006,005,0020,0065,008,006,706,0028,307,203,00",
          "4,004,006,008,847,5010,003,7925,008,506,004,8023,5610,0010,008,2025,005,00",
          "6,003,305,007,2030,4014,2030,0020,004,005,006,0018,7675,0025,005,005,005,006,008,0010,006,506,687,3733,0015,0010,0010,0012,008,0038,40",
          "14,006,0026,005,0016,4020,006,004,008,205,003,0015,106,006,006,008,009,606,005,4410,006,0038,00260,0010,00",
          "6,004,8760,00265,004,005,005,008,408,408,005,008,008,0014,004,004,806,005,0035,008,2015,003,00",
          "3,756,004,878,0025,008,003,756,008,003,009,005,006,005,002,464,878,004,517,008,005,005,004,988,0015,00",
          "3,0025,0024,328,0025,0021,008,0025,0014,744,006,007,307,145,007,923,0075,008,008,008,506,008,0023,0016,4036,3015,007,923,005,608,008,0020,00",
          "60,0012,008,008,0033,5422,8035,0010,005,008,0022,324,0049,2022,8014,0630,008,003,304,8033,0010,004,0025,0050,0012,504,005,008,006,006,008,006,508,005,00249,00",
          "5,004,8617,5012,0011,505,006,007,928,004,4041,046,006,006,009,0015,005,004,925,0048,0010,008,0020,0060,008,007,20150,0050,2235,345,004,864,0030,00",
          "6,0010,0058,8010,00250,002,7225,844,955,0015,008,009,373,006,006,0014,0710,006,0060,0024,004,509,902,628,004,004,948,0016,008,507,988,008,0015,007,505,00",
          "10,006,0010,003,305,008,004,8010,0027,605,004,5024,006,005,005,008,506,006,003,008,004,205,008,0010,5010,00140,0028,0372,005,003,004,803,009,006,005,005,004,874,958,5016,006,008,003,0010,008,006,0025,009,0015,5060,00",
          "5,6070,006,008,505,008,508,005,003,009,9011,0025,0020,006,007,7410,008,008,005,008,008,106,005,004,876,007,005,408,008,008,006,008,506,008,0013,007,2075,008,0010,0026,4060,00",
          "4,406,007,878,0049,98200,005,0013,0013,506,005,004,505,008,0065,003,965,8510,006,0010,005,004,006,0010,008,009,354,125,005,6036,0024,308,0015,0015,0010,004,504,505,8525,0039,2010,003,004,503,004,508,008,0023,406,378,0064,0010,006,007,653,005,004,8712,006,008,0020,00",
          "1,125,004,128,008,0015,008,00150,008,5010,004,008,0021,206,006,003,0020,005,008,008,0010,004,8740,003,006,0010,008,0011,0018,008,5010,008,008,008,0024,0010,008,504,1215,006,0011,0020,004,6660,006,006,004,505,008,004,5715,004,872,503,006,0012,0010,0050,008,0010,005,005,006,375,004,5510,006,007,006,504,006,005,0015,0012,006,376,007,005,006,507,508,008,003,007,006,008,008,008,0010,009,106,00",
          "6,008,005,006,008,008,458,508,5036,0020,0010,006,0016,606,005,003,006,0036,004,504,006,0021,0012,004,504,028,008,005,0010,003,0012,008,007,2020,2525,008,008,0036,0015,0011,006,565,0015,0010,007,005,405,008,008,0036,00",
          "5,005,008,0025,0060,0037,5010,006,005,0034,209,4513,508,006,758,0015,006,008,008,0012,006,003,006,008,0010,008,006,005,008,008,008,006,0025,006,008,008,006,4410,004,4010,008,002,508,555,8560,004,008,504,843,006,508,004,50",
          "33,0021,153,006,004,002,006,008,553,0060,008,005,008,008,008,0016,004,776,0010,008,008,006,008,004,008,009,009,005,407,656,004,807,504,956,007,505,0030,005,004,5012,006,005,005,006,006,0025,005,006,008,0020,005,005,005,0011,004,878,0020,0010,005,404,506,006,0010,0018,005,004,008,005,005,984,955,003,004,2855,894,875,008,006,0010,0010,0015,643,0050,008,005,943,003,006,004,87",
          "6,006,006,008,003,605,0010,007,5060,005,0012,0010,0014,006,004,609,0014,008,508,009,0010,005,004,956,005,0010,008,008,008,508,0020,005,0025,005,0010,009,004,5010,008,0040,004,505,004,0030,008,008,007,505,0023,252,918,0010,008,006,005,008,005,0017,008,003,008,507,706,318,008,004,005,004,329,6010,005,008,004,208,0015,0015,0015,007,205,008,006,003,008,006,505,0025,005,006,0013,5015,006,408,006,006,0020,505,0010,001,6011,006,006,008,003,963,008,0010,005,008,004,7613,005,005,0010,006,00",
          "6,008,006,9620,008,008,004,404,406,0010,007,658,003,005,005,006,004,0046,507,5010,008,005,7220,0016,005,983,004,9523,007,008,557,1210,008,004,828,007,208,006,0010,006,009,9024,006,005,006,0020,009,00",
          "6,0017,108,006,006,008,003,006,0010,003,0010,006,008,0010,003,008,0010,0010,007,705,408,008,005,726,008,0010,006,003,008,009,0015,0010,0015,0016,008,007,658,007,866,0050,008,008,004,006,008,0010,005,00",
          "4,505,0025,006,005,0060,004,004,7016,206,758,003,008,0020,0012,006,008,008,003,0010,503,853,856,005,0010,0011,5010,005,0040,009,403,0010,003,006,001,7610,005,008,007,566,506,008,0015,008,006,006,446,503,006,508,005,0035,00",
          "6,008,009,816,009,5950,005,008,003,005,408,006,0013,112,705,0010,005,005,006,0015,0046,003,0056,006,008,006,004,403,006,0020,0010,008,0015,008,0050,006,0020,0040,006,0012,005,0014,403,006,006,003,006,004,707,524,958,009,9016,0010,004,5910,008,5015,0020,005,0036,002,0010,008,0010,006,506,008,003,0010,00",
          "17,6836,0012,888,006,008,006,005,007,367,0010,0015,355,005,0011,557,2015,005,505,005,0072,005,002,7620,008,506,006,0016,008,009,006,005,005,003,007,635,408,0013,006,006,009,006,0060,008,006,0047,907,708,005,008,006,008,005,005,0012,0025,005,0014,724,006,0053,004,248,508,00",
          "20,005,525,405,526,008,0060,005,508,005,404,0014,5015,0025,0025,0010,002,708,006,986,006,008,506,448,008,008,003,006,004,003,002,005,007,3650,009,2010,008,0016,008,007,365,524,848,006,006,008,007,008,008,0010,009,0950,008,004,007,368,005,5220,005,008,0010,006,008,004,6029,126,00",
          "6,445,987,915,008,006,005,9840,0015,007,368,008,0040,0013,005,067,823,6012,005,0010,006,006,005,0024,003,006,9020,005,008,005,0012,008,0010,5010,008,005,986,009,816,004,005,006,6025,007,005,005,003,686,005,0025,008,0018,008,006,006,006,008,008,006,008,0010,503,006,002,0012,0015,008,005,0025,0040,9512,5049,50",
          "6,907,009,3530,003,765,008,0036,006,0010,006,007,364,205,0010,006,008,008,004,603,008,004,006,009,9010,005,503,006,006,009,815,009,3510,006,058,0034,106,008,006,005,004,606,658,743,008,008,0011,005,006,005,005,006,003,009,2010,004,558,008,0060,0040,0030,0025,008,006,008,008,008,008,006,006,006,006,008,005,528,008,0010,0015,007,3611,558,008,008,0010,004,3614,6010,008,006,006,006,0010,008,0050,006,906,0040,0034,108,006,006,0010,009,20",
          "8,806,005,004,145,544,0013,003,685,004,386,006,448,006,006,008,003,186,006,006,508,0011,0010,005,525,008,508,008,0010,0012,0010,006,0010,008,006,005,003,008,0016,008,008,006,008,008,006,0014,0010,008,006,0012,007,008,004,009,206,008,008,006,008,008,008,0010,004,008,288,0042,9013,208,0020,005,5210,0035,425,508,008,007,006,008,005,1210,005,5215,005,008,003,005,924,6024,208,008,0010,006,006,004,008,0013,3210,004,405,006,005,0015,0012,103,005,464,5013,806,004,605,528,004,105,006,008,0012,0011,0012,305,0036,005,0015,4773,605,006,008,006,9010,002,008,008,5010,0010,0010,005,9875,009,2040,002,5021,006,004,145,0014,72",
          "5,006,008,0011,2515,003,006,006,006,0025,006,008,009,3510,007,365,0075,006,5015,006,008,004,0010,003,008,004,606,008,005,528,004,527,368,005,0015,006,006,906,005,5013,505,508,005,004,604,628,0010,0010,0015,0045,006,0016,356,005,528,006,0069,0012,005,0010,004,9510,008,006,006,0015,006,008,005,008,005,006,006,006,008,0014,728,002,005,0020,008,006,486,008,006,606,008,505,0020,008,503,303,004,608,008,006,0010,008,005,5214,7210,007,368,504,008,004,668,007,005,006,0014,726,003,0015,008,002,206,0013,808,0013,805,006,008,008,006,004,598,005,0610,006,005,066,0010,0010,0012,008,007,706,0010,125,0042,356,0059,808,0010,008,008,0010,004,0011,0410,006,006,0010,0010,006,448,006,008,006,006,0510,0030,003,307,262,508,003,006,003,008,7415,0011,048,0010,0010,0014,0020,006,905,507,209,005,008,005,003,006,005,007,004,007,848,0010,008,008,285,006,005,009,206,009,3010,005,006,005,5212,008,005,00",
          "4,9110,0014,8815,006,005,584,6511,207,0012,007,9215,407,7020,0033,556,008,006,008,003,008,007,008,368,365,005,588,0013,026,004,008,008,3617,679,5010,005,527,565,005,004,666,004,608,0015,005,006,445,008,006,006,008,0020,008,005,008,367,0010,0036,005,008,006,005,007,025,005,0010,006,005,008,0010,006,005,004,006,0060,005,008,005,006,005,004,328,508,005,004,406,0030,0010,006,006,0012,768,007,365,0010,458,0075,0015,406,0010,003,0013,008,365,005,007,507,2215,005,128,008,003,006,008,008,3610,0011,006,005,0010,005,003,008,0011,395,008,008,004,602,8033,956,005,004,655,0014,3013,8010,0020,007,7010,0010,507,706,007,6010,006,0036,005,126,005,006,058,366,0010,008,009,313,009,315,0012,005,008,006,0010,008,808,006,058,005,009,008,103,005,608,0010,003,005,005,008,008,008,0020,008,0017,2910,008,006,0010,005,005,004,005,004,003,007,496,006,006,447,505,283,9210,007,7010,006,0015,0010,0010,0010,0010,0010,0020,005,0020,006,004,486,0012,7613,003,008,006,006,0010,0018,008,008,0010,0010,006,0012,763,294,408,006,728,007,846,007,446,004,142,209,9036,0015,004,403,005,068,803,008,0010,0020,008,0010,0012,0060,005,006,007,507,5012,706,6010,00",
          "9,5015,008,008,369,007,447,707,8416,8034,1010,006,008,008,008,0013,006,005,127,705,006,006,0010,006,005,587,7010,0816,008,005,004,406,0025,006,0012,0030,008,006,726,008,006,006,008,006,0015,006,008,806,009,009,906,117,445,528,007,504,604,407,847,773,0010,0020,008,008,008,004,9510,005,122,758,365,006,006,005,5810,0014,008,0013,007,607,708,004,007,2810,0010,006,005,0010,005,006,003,858,9636,006,0010,008,006,006,008,8060,009,908,008,366,008,368,005,009,906,007,008,006,006,728,001,607,004,0514,005,5210,005,505,508,00"
         ],
         "yaxis": "y"
        },
        {
         "alignmentgroup": "True",
         "hovertemplate": "SigUF=BA<br>Ano=%{x}<br>MdaPotenciaInstaladaKW=%{y}<extra></extra>",
         "legendgroup": "BA",
         "marker": {
          "color": "#FFA15A",
          "pattern": {
           "shape": ""
          }
         },
         "name": "BA",
         "offsetgroup": "BA",
         "orientation": "h",
         "showlegend": true,
         "textposition": "auto",
         "type": "bar",
         "x": [
          2012,
          2013,
          2014,
          2014,
          2014,
          2014,
          2014,
          2014,
          2014,
          2014,
          2015,
          2015,
          2015,
          2015,
          2015,
          2015,
          2015,
          2015,
          2015,
          2015,
          2015,
          2016,
          2016,
          2016,
          2016,
          2016,
          2016,
          2016,
          2016,
          2016,
          2016,
          2016,
          2016,
          2017,
          2017,
          2017,
          2017,
          2017,
          2017,
          2017,
          2017,
          2017,
          2017,
          2017,
          2017,
          2018,
          2018,
          2018,
          2018,
          2018,
          2018,
          2019,
          2019,
          2020,
          2020,
          2021,
          2021,
          2021,
          2021,
          2022,
          2022,
          2022,
          2022,
          2022,
          2022,
          2023
         ],
         "xaxis": "x",
         "y": [
          "403,00",
          "2,40",
          "4,40",
          "3,00",
          "10,00",
          "20,0015,0015,0012,009,00",
          "10,0012,00",
          "3,00",
          "3,008,003,00",
          "1,20",
          "12,001,50",
          "6,00",
          "2,94",
          "2,403,002,003,00",
          "20,006,003,003,008,0012,0012,00",
          "1,5010,003,003,00",
          "21,801,50",
          "3,009,001,302,65",
          "1,502,886,003,002,00",
          "6,003,50",
          "35,0045,002,201,50",
          "9,564,605,001,5014,2514,2511,257,504,943,92",
          "14,255,63",
          "3,603,005,002,503,009,203,003,00",
          "2,001,2044,001,204,003,602,502,302,50",
          "15,103,6425,001,001,507,50",
          "6,002,6013,255,009,001,3025,0040,56",
          "3,705,0020,0046,492,603,004,083,122,50",
          "3,602,602,5010,002,506,00",
          "2,001,504,501,5065,008,842,008,003,002,503,602,502,004,967,2045,902,603,725,0010,007,20",
          "2,452,081,896,244,943,003,004,162,50",
          "6,003,605,205,206,002,504,602,0812,002,75",
          "2,803,005,103,002,002,503,002,002,08",
          "5,003,503,504,9417,502,458,2025,008,2012,002,505,00",
          "15,001,505,004,164,322,502,5017,509,2030,001,505,0023,406,001,50",
          "8,006,243,006,0010,008,205,00,258,206,001,308,198,005,00",
          "180,003,901,5020,006,006,001,005,008,008,323,856,705,004,245,0015,0070,23",
          "8,204,003,001,504,009,367,563,6010,003,003,005,204,505,005,008,003,004,801,5610,205,003,002,604,504,004,00",
          "4,104,376,002,253,505,206,0015,0015,005,0095,002,509,004,055,0018,908,203,006,003,2011,3079,922,605,004,002,56",
          "2,4833,003,004,0033,131,505,0015,003,0010,008,0010,0010,004,862,656,002,005,007,9350,00",
          "13,5212,008,203,003,005,443,0054,604,004,4815,003,005,124,601,306,002,003,003,004,6820,005,006,003,002,503,003,004,605,287,4210,005,203,003,7112,5015,0024,6017,503,00",
          "50,8818,363,714,005,007,361,288,202,703,0020,0069,934,603,003,003,003,006,006,0030,0035,0015,0015,003,002,6072,00",
          "6,004,2410,0010,00108,0025,0012,001,504,6010,003,008,101,8013,803,003,001,50",
          "6,894,003,006,001,503,003,006,005,003,006,001,988,201,608,205,943,083,202,162,163,783,003,001,6012,006,0012,005,003,00",
          "5,0010,001,8910,0017,502,5020,003,304,606,0050,0012,0015,005,002,8824,0310,0010,008,963,6015,0074,522,004,863,0016,0020,005,004,203,0045,0024,034,954,373,00",
          "3,003,0030,008,203,006,0030,002,974,206,008,202,166,002,003,004,205,003,788,2013,5021,6048,7510,005,674,003,002,203,3025,008,206,0023,765,003,781,5019,765,0020,005,004,203,303,001,006,009,453,0015,604,6214,045,002,00",
          "8,201,6047,7910,0023,004,8625,008,206,002,0026,0025,005,004,862,004,055,006,0012,007,4220,006,004,2025,001,305,943,003,992,165,0020,003,0023,995,006,40",
          "7,687,8015,0019,448,0019,50132,001,505,0024,702,7250,0033,0025,004,554,324,008,406,004,003,002,8810,003,001,504,006,001,5010,268,2045,005,008,202,008,458,451,503,7110,2615,003,714,201,505,0025,00",
          "50,0019,082,0010,002,482,0330,607,501,983,003,005,201,308,205,003,903,0060,003,0010,003,002,704,001,5014,202,162,643,004,556,004,864,558,205,536,005,005,4010,003,996,003,004,4840,0025,008,005,20",
          "37,009,0050,003,006,004,0011,005,003,362,003,001,0010,803,003,0011,702,756,006,003,008,203,005,007,563,3024,034,323,603,004,3515,004,0010,007,803,008,205,406,003,7810,0046,408,004,005,00,508,203,0040,003,003,005,005,004,955,408,1310,004,1620,108,008,2021,452,004,00",
          "3,0011,002,313,003,002,704,004,485,003,009,108,204,605,003,007,703,0020,008,205,005,005,006,008,454,5513,205,001,922,70",
          "4,0016,00",
          "16,404,00",
          "2,002,88",
          "4,7410,00",
          "20,00",
          "6,00",
          "9,00",
          "4,87",
          "11,00",
          "30,00",
          "4,00",
          "13,00",
          "3,1516,40",
          "5,00",
          "29,002,20"
         ],
         "yaxis": "y"
        },
        {
         "alignmentgroup": "True",
         "hovertemplate": "SigUF=PA<br>Ano=%{x}<br>MdaPotenciaInstaladaKW=%{y}<extra></extra>",
         "legendgroup": "PA",
         "marker": {
          "color": "#19d3f3",
          "pattern": {
           "shape": ""
          }
         },
         "name": "PA",
         "offsetgroup": "PA",
         "orientation": "h",
         "showlegend": true,
         "textposition": "auto",
         "type": "bar",
         "x": [
          2023,
          2023
         ],
         "xaxis": "x",
         "y": [
          "3,75",
          "3,60"
         ],
         "yaxis": "y"
        },
        {
         "alignmentgroup": "True",
         "hovertemplate": "SigUF=SP<br>Ano=%{x}<br>MdaPotenciaInstaladaKW=%{y}<extra></extra>",
         "legendgroup": "SP",
         "marker": {
          "color": "#FF6692",
          "pattern": {
           "shape": ""
          }
         },
         "name": "SP",
         "offsetgroup": "SP",
         "orientation": "h",
         "showlegend": true,
         "textposition": "auto",
         "type": "bar",
         "x": [
          2023
         ],
         "xaxis": "x",
         "y": [
          "3,30"
         ],
         "yaxis": "y"
        }
       ],
       "layout": {
        "barmode": "relative",
        "font": {
         "color": "#7f7f7f",
         "size": 14
        },
        "hovermode": "x unified",
        "legend": {
         "title": {
          "text": "Estado"
         },
         "tracegroupgap": 0
        },
        "margin": {
         "t": 60
        },
        "template": {
         "data": {
          "bar": [
           {
            "error_x": {
             "color": "#2a3f5f"
            },
            "error_y": {
             "color": "#2a3f5f"
            },
            "marker": {
             "line": {
              "color": "#E5ECF6",
              "width": 0.5
             },
             "pattern": {
              "fillmode": "overlay",
              "size": 10,
              "solidity": 0.2
             }
            },
            "type": "bar"
           }
          ],
          "barpolar": [
           {
            "marker": {
             "line": {
              "color": "#E5ECF6",
              "width": 0.5
             },
             "pattern": {
              "fillmode": "overlay",
              "size": 10,
              "solidity": 0.2
             }
            },
            "type": "barpolar"
           }
          ],
          "carpet": [
           {
            "aaxis": {
             "endlinecolor": "#2a3f5f",
             "gridcolor": "white",
             "linecolor": "white",
             "minorgridcolor": "white",
             "startlinecolor": "#2a3f5f"
            },
            "baxis": {
             "endlinecolor": "#2a3f5f",
             "gridcolor": "white",
             "linecolor": "white",
             "minorgridcolor": "white",
             "startlinecolor": "#2a3f5f"
            },
            "type": "carpet"
           }
          ],
          "choropleth": [
           {
            "colorbar": {
             "outlinewidth": 0,
             "ticks": ""
            },
            "type": "choropleth"
           }
          ],
          "contour": [
           {
            "colorbar": {
             "outlinewidth": 0,
             "ticks": ""
            },
            "colorscale": [
             [
              0,
              "#0d0887"
             ],
             [
              0.1111111111111111,
              "#46039f"
             ],
             [
              0.2222222222222222,
              "#7201a8"
             ],
             [
              0.3333333333333333,
              "#9c179e"
             ],
             [
              0.4444444444444444,
              "#bd3786"
             ],
             [
              0.5555555555555556,
              "#d8576b"
             ],
             [
              0.6666666666666666,
              "#ed7953"
             ],
             [
              0.7777777777777778,
              "#fb9f3a"
             ],
             [
              0.8888888888888888,
              "#fdca26"
             ],
             [
              1,
              "#f0f921"
             ]
            ],
            "type": "contour"
           }
          ],
          "contourcarpet": [
           {
            "colorbar": {
             "outlinewidth": 0,
             "ticks": ""
            },
            "type": "contourcarpet"
           }
          ],
          "heatmap": [
           {
            "colorbar": {
             "outlinewidth": 0,
             "ticks": ""
            },
            "colorscale": [
             [
              0,
              "#0d0887"
             ],
             [
              0.1111111111111111,
              "#46039f"
             ],
             [
              0.2222222222222222,
              "#7201a8"
             ],
             [
              0.3333333333333333,
              "#9c179e"
             ],
             [
              0.4444444444444444,
              "#bd3786"
             ],
             [
              0.5555555555555556,
              "#d8576b"
             ],
             [
              0.6666666666666666,
              "#ed7953"
             ],
             [
              0.7777777777777778,
              "#fb9f3a"
             ],
             [
              0.8888888888888888,
              "#fdca26"
             ],
             [
              1,
              "#f0f921"
             ]
            ],
            "type": "heatmap"
           }
          ],
          "heatmapgl": [
           {
            "colorbar": {
             "outlinewidth": 0,
             "ticks": ""
            },
            "colorscale": [
             [
              0,
              "#0d0887"
             ],
             [
              0.1111111111111111,
              "#46039f"
             ],
             [
              0.2222222222222222,
              "#7201a8"
             ],
             [
              0.3333333333333333,
              "#9c179e"
             ],
             [
              0.4444444444444444,
              "#bd3786"
             ],
             [
              0.5555555555555556,
              "#d8576b"
             ],
             [
              0.6666666666666666,
              "#ed7953"
             ],
             [
              0.7777777777777778,
              "#fb9f3a"
             ],
             [
              0.8888888888888888,
              "#fdca26"
             ],
             [
              1,
              "#f0f921"
             ]
            ],
            "type": "heatmapgl"
           }
          ],
          "histogram": [
           {
            "marker": {
             "pattern": {
              "fillmode": "overlay",
              "size": 10,
              "solidity": 0.2
             }
            },
            "type": "histogram"
           }
          ],
          "histogram2d": [
           {
            "colorbar": {
             "outlinewidth": 0,
             "ticks": ""
            },
            "colorscale": [
             [
              0,
              "#0d0887"
             ],
             [
              0.1111111111111111,
              "#46039f"
             ],
             [
              0.2222222222222222,
              "#7201a8"
             ],
             [
              0.3333333333333333,
              "#9c179e"
             ],
             [
              0.4444444444444444,
              "#bd3786"
             ],
             [
              0.5555555555555556,
              "#d8576b"
             ],
             [
              0.6666666666666666,
              "#ed7953"
             ],
             [
              0.7777777777777778,
              "#fb9f3a"
             ],
             [
              0.8888888888888888,
              "#fdca26"
             ],
             [
              1,
              "#f0f921"
             ]
            ],
            "type": "histogram2d"
           }
          ],
          "histogram2dcontour": [
           {
            "colorbar": {
             "outlinewidth": 0,
             "ticks": ""
            },
            "colorscale": [
             [
              0,
              "#0d0887"
             ],
             [
              0.1111111111111111,
              "#46039f"
             ],
             [
              0.2222222222222222,
              "#7201a8"
             ],
             [
              0.3333333333333333,
              "#9c179e"
             ],
             [
              0.4444444444444444,
              "#bd3786"
             ],
             [
              0.5555555555555556,
              "#d8576b"
             ],
             [
              0.6666666666666666,
              "#ed7953"
             ],
             [
              0.7777777777777778,
              "#fb9f3a"
             ],
             [
              0.8888888888888888,
              "#fdca26"
             ],
             [
              1,
              "#f0f921"
             ]
            ],
            "type": "histogram2dcontour"
           }
          ],
          "mesh3d": [
           {
            "colorbar": {
             "outlinewidth": 0,
             "ticks": ""
            },
            "type": "mesh3d"
           }
          ],
          "parcoords": [
           {
            "line": {
             "colorbar": {
              "outlinewidth": 0,
              "ticks": ""
             }
            },
            "type": "parcoords"
           }
          ],
          "pie": [
           {
            "automargin": true,
            "type": "pie"
           }
          ],
          "scatter": [
           {
            "fillpattern": {
             "fillmode": "overlay",
             "size": 10,
             "solidity": 0.2
            },
            "type": "scatter"
           }
          ],
          "scatter3d": [
           {
            "line": {
             "colorbar": {
              "outlinewidth": 0,
              "ticks": ""
             }
            },
            "marker": {
             "colorbar": {
              "outlinewidth": 0,
              "ticks": ""
             }
            },
            "type": "scatter3d"
           }
          ],
          "scattercarpet": [
           {
            "marker": {
             "colorbar": {
              "outlinewidth": 0,
              "ticks": ""
             }
            },
            "type": "scattercarpet"
           }
          ],
          "scattergeo": [
           {
            "marker": {
             "colorbar": {
              "outlinewidth": 0,
              "ticks": ""
             }
            },
            "type": "scattergeo"
           }
          ],
          "scattergl": [
           {
            "marker": {
             "colorbar": {
              "outlinewidth": 0,
              "ticks": ""
             }
            },
            "type": "scattergl"
           }
          ],
          "scattermapbox": [
           {
            "marker": {
             "colorbar": {
              "outlinewidth": 0,
              "ticks": ""
             }
            },
            "type": "scattermapbox"
           }
          ],
          "scatterpolar": [
           {
            "marker": {
             "colorbar": {
              "outlinewidth": 0,
              "ticks": ""
             }
            },
            "type": "scatterpolar"
           }
          ],
          "scatterpolargl": [
           {
            "marker": {
             "colorbar": {
              "outlinewidth": 0,
              "ticks": ""
             }
            },
            "type": "scatterpolargl"
           }
          ],
          "scatterternary": [
           {
            "marker": {
             "colorbar": {
              "outlinewidth": 0,
              "ticks": ""
             }
            },
            "type": "scatterternary"
           }
          ],
          "surface": [
           {
            "colorbar": {
             "outlinewidth": 0,
             "ticks": ""
            },
            "colorscale": [
             [
              0,
              "#0d0887"
             ],
             [
              0.1111111111111111,
              "#46039f"
             ],
             [
              0.2222222222222222,
              "#7201a8"
             ],
             [
              0.3333333333333333,
              "#9c179e"
             ],
             [
              0.4444444444444444,
              "#bd3786"
             ],
             [
              0.5555555555555556,
              "#d8576b"
             ],
             [
              0.6666666666666666,
              "#ed7953"
             ],
             [
              0.7777777777777778,
              "#fb9f3a"
             ],
             [
              0.8888888888888888,
              "#fdca26"
             ],
             [
              1,
              "#f0f921"
             ]
            ],
            "type": "surface"
           }
          ],
          "table": [
           {
            "cells": {
             "fill": {
              "color": "#EBF0F8"
             },
             "line": {
              "color": "white"
             }
            },
            "header": {
             "fill": {
              "color": "#C8D4E3"
             },
             "line": {
              "color": "white"
             }
            },
            "type": "table"
           }
          ]
         },
         "layout": {
          "annotationdefaults": {
           "arrowcolor": "#2a3f5f",
           "arrowhead": 0,
           "arrowwidth": 1
          },
          "autotypenumbers": "strict",
          "coloraxis": {
           "colorbar": {
            "outlinewidth": 0,
            "ticks": ""
           }
          },
          "colorscale": {
           "diverging": [
            [
             0,
             "#8e0152"
            ],
            [
             0.1,
             "#c51b7d"
            ],
            [
             0.2,
             "#de77ae"
            ],
            [
             0.3,
             "#f1b6da"
            ],
            [
             0.4,
             "#fde0ef"
            ],
            [
             0.5,
             "#f7f7f7"
            ],
            [
             0.6,
             "#e6f5d0"
            ],
            [
             0.7,
             "#b8e186"
            ],
            [
             0.8,
             "#7fbc41"
            ],
            [
             0.9,
             "#4d9221"
            ],
            [
             1,
             "#276419"
            ]
           ],
           "sequential": [
            [
             0,
             "#0d0887"
            ],
            [
             0.1111111111111111,
             "#46039f"
            ],
            [
             0.2222222222222222,
             "#7201a8"
            ],
            [
             0.3333333333333333,
             "#9c179e"
            ],
            [
             0.4444444444444444,
             "#bd3786"
            ],
            [
             0.5555555555555556,
             "#d8576b"
            ],
            [
             0.6666666666666666,
             "#ed7953"
            ],
            [
             0.7777777777777778,
             "#fb9f3a"
            ],
            [
             0.8888888888888888,
             "#fdca26"
            ],
            [
             1,
             "#f0f921"
            ]
           ],
           "sequentialminus": [
            [
             0,
             "#0d0887"
            ],
            [
             0.1111111111111111,
             "#46039f"
            ],
            [
             0.2222222222222222,
             "#7201a8"
            ],
            [
             0.3333333333333333,
             "#9c179e"
            ],
            [
             0.4444444444444444,
             "#bd3786"
            ],
            [
             0.5555555555555556,
             "#d8576b"
            ],
            [
             0.6666666666666666,
             "#ed7953"
            ],
            [
             0.7777777777777778,
             "#fb9f3a"
            ],
            [
             0.8888888888888888,
             "#fdca26"
            ],
            [
             1,
             "#f0f921"
            ]
           ]
          },
          "colorway": [
           "#636efa",
           "#EF553B",
           "#00cc96",
           "#ab63fa",
           "#FFA15A",
           "#19d3f3",
           "#FF6692",
           "#B6E880",
           "#FF97FF",
           "#FECB52"
          ],
          "font": {
           "color": "#2a3f5f"
          },
          "geo": {
           "bgcolor": "white",
           "lakecolor": "white",
           "landcolor": "#E5ECF6",
           "showlakes": true,
           "showland": true,
           "subunitcolor": "white"
          },
          "hoverlabel": {
           "align": "left"
          },
          "hovermode": "closest",
          "mapbox": {
           "style": "light"
          },
          "paper_bgcolor": "white",
          "plot_bgcolor": "#E5ECF6",
          "polar": {
           "angularaxis": {
            "gridcolor": "white",
            "linecolor": "white",
            "ticks": ""
           },
           "bgcolor": "#E5ECF6",
           "radialaxis": {
            "gridcolor": "white",
            "linecolor": "white",
            "ticks": ""
           }
          },
          "scene": {
           "xaxis": {
            "backgroundcolor": "#E5ECF6",
            "gridcolor": "white",
            "gridwidth": 2,
            "linecolor": "white",
            "showbackground": true,
            "ticks": "",
            "zerolinecolor": "white"
           },
           "yaxis": {
            "backgroundcolor": "#E5ECF6",
            "gridcolor": "white",
            "gridwidth": 2,
            "linecolor": "white",
            "showbackground": true,
            "ticks": "",
            "zerolinecolor": "white"
           },
           "zaxis": {
            "backgroundcolor": "#E5ECF6",
            "gridcolor": "white",
            "gridwidth": 2,
            "linecolor": "white",
            "showbackground": true,
            "ticks": "",
            "zerolinecolor": "white"
           }
          },
          "shapedefaults": {
           "line": {
            "color": "#2a3f5f"
           }
          },
          "ternary": {
           "aaxis": {
            "gridcolor": "white",
            "linecolor": "white",
            "ticks": ""
           },
           "baxis": {
            "gridcolor": "white",
            "linecolor": "white",
            "ticks": ""
           },
           "bgcolor": "#E5ECF6",
           "caxis": {
            "gridcolor": "white",
            "linecolor": "white",
            "ticks": ""
           }
          },
          "title": {
           "x": 0.05
          },
          "xaxis": {
           "automargin": true,
           "gridcolor": "white",
           "linecolor": "white",
           "ticks": "",
           "title": {
            "standoff": 15
           },
           "zerolinecolor": "white",
           "zerolinewidth": 2
          },
          "yaxis": {
           "automargin": true,
           "gridcolor": "white",
           "linecolor": "white",
           "ticks": "",
           "title": {
            "standoff": 15
           },
           "zerolinecolor": "white",
           "zerolinewidth": 2
          }
         }
        },
        "title": {
         "text": "Evolução da Potência Instalada Total (KW) por Estado"
        },
        "xaxis": {
         "anchor": "y",
         "domain": [
          0,
          1
         ],
         "title": {
          "text": "Ano"
         }
        },
        "yaxis": {
         "anchor": "x",
         "domain": [
          0,
          1
         ],
         "title": {
          "text": "Potência Instalada Total (KW)"
         }
        }
       }
      }
     },
     "metadata": {},
     "output_type": "display_data"
    }
   ],
   "source": [
    "import pandas as pd\n",
    "import plotly.express as px\n",
    "\n",
    "# Manipulações para Gráfico - evolução temporal da Potência Instalada Total (KW) por Estado;\n",
    "df['Mes'] = pd.DatetimeIndex(df['DthAtualizaCadastralEmpreend']).month\n",
    "df['Ano'] = pd.DatetimeIndex(df['DthAtualizaCadastralEmpreend']).year\n",
    "\n",
    "# Agrupar dados por mês, ano e estado e somar as potências instaladas\n",
    "counts = df.groupby(['SigUF', 'Ano', 'Mes']).agg({'MdaPotenciaInstaladaKW': 'sum'}).reset_index()\n",
    "\n",
    "# Criar gráfico de barras empilhadas\n",
    "fig_2 = px.bar(counts, x=\"Ano\", y=\"MdaPotenciaInstaladaKW\", color=\"SigUF\", barmode=\"relative\")\n",
    "\n",
    "# Atualizar layout do gráfico\n",
    "fig_2.update_layout(\n",
    "    title='Evolução da Potência Instalada Total (KW) por Estado',\n",
    "    xaxis_title='Ano',\n",
    "    yaxis_title='Potência Instalada Total (KW)',\n",
    "    legend_title='Estado',\n",
    "    font=dict(size=14, color=\"#7f7f7f\"),\n",
    "    hovermode='x unified'\n",
    ")\n",
    "\n",
    "dcc.Graph(id='graph2', figure=fig_2)\n",
    "fig_2.show()"
   ]
  },
  {
   "cell_type": "code",
   "execution_count": null,
   "id": "370203a2",
   "metadata": {},
   "outputs": [],
   "source": []
  },
  {
   "cell_type": "code",
   "execution_count": null,
   "id": "ab9aa329",
   "metadata": {},
   "outputs": [],
   "source": []
  },
  {
   "cell_type": "code",
   "execution_count": 50,
   "id": "8311a563",
   "metadata": {},
   "outputs": [
    {
     "ename": "SyntaxError",
     "evalue": "invalid syntax (4215381843.py, line 4)",
     "output_type": "error",
     "traceback": [
      "\u001b[1;36m  Cell \u001b[1;32mIn[50], line 4\u001b[1;36m\u001b[0m\n\u001b[1;33m    mport pandas as pd\u001b[0m\n\u001b[1;37m          ^\u001b[0m\n\u001b[1;31mSyntaxError\u001b[0m\u001b[1;31m:\u001b[0m invalid syntax\n"
     ]
    }
   ],
   "source": [
    "###_________RPREVISAO__2023__________##\n",
    "\n",
    "\n",
    "mport pandas as pd\n",
    "import plotly.express as px\n",
    "from fbprophet import Prophet\n",
    "\n",
    "# Manipulações para Gráfico - evolução temporal da Potência Instalada Total (KW) por Estado;\n",
    "df['Mes'] = pd.DatetimeIndex(df['DthAtualizaCadastralEmpreend']).month\n",
    "df['Ano'] = pd.DatetimeIndex(df['DthAtualizaCadastralEmpreend']).year\n",
    "\n",
    "# Agrupar dados por mês, ano e estado e somar as potências instaladas\n",
    "counts = df.groupby(['SigUF', 'Ano', 'Mes']).agg({'MdaPotenciaInstaladaKW': 'sum'}).reset_index()\n",
    "\n",
    "# Renomear as colunas para ds e y, que são as convenções do Prophet\n",
    "counts = counts.rename(columns={'Ano': 'ds', 'MdaPotenciaInstaladaKW': 'y'})\n",
    "\n",
    "# Filtrar apenas os dados do estado desejado para fazer a previsão\n",
    "state_counts = counts[counts['SigUF'] == 'UF']\n",
    "\n",
    "# Ajustar um modelo com a biblioteca Prophet\n",
    "m = Prophet()\n",
    "m.fit(state_counts)\n",
    "\n",
    "# Fazer a previsão para o período desejado (2023)\n",
    "future = m.make_future_dataframe(periods=12*10, freq='M')  # 10 anos de previsão\n",
    "forecast = m.predict(future)\n",
    "\n",
    "# Criar gráfico com os dados históricos e a previsão\n",
    "fig = px.line(forecast, x='ds', y='yhat', title='Previsão de Potência Instalada em UF')\n",
    "fig.add_scatter(x=state_counts['ds'], y=state_counts['y'], name='Histórico', mode='markers')\n",
    "fig.show()"
   ]
  },
  {
   "cell_type": "code",
   "execution_count": null,
   "id": "e2faa193",
   "metadata": {},
   "outputs": [],
   "source": []
  },
  {
   "cell_type": "code",
   "execution_count": null,
   "id": "f48d0f01",
   "metadata": {},
   "outputs": [],
   "source": []
  },
  {
   "cell_type": "code",
   "execution_count": null,
   "id": "1d410da8",
   "metadata": {},
   "outputs": [],
   "source": []
  },
  {
   "cell_type": "code",
   "execution_count": null,
   "id": "8467696f",
   "metadata": {},
   "outputs": [],
   "source": [
    "# Regressão Linear: um modelo que tenta ajustar uma reta aos pontos de dados para prever o valor de uma variável dependente (potência instalada total) com base em uma ou mais variáveis independentes (como ano, estado, município, entre outras).\n",
    "\n",
    "# prever crescimento em Potencia Instalada Total nos próximos 12 meses de estados e municípios  relacionando com dados da API IBGE"
   ]
  },
  {
   "cell_type": "code",
   "execution_count": null,
   "id": "b7e48e86",
   "metadata": {},
   "outputs": [],
   "source": []
  },
  {
   "cell_type": "code",
   "execution_count": null,
   "id": "6be5fa36",
   "metadata": {},
   "outputs": [],
   "source": []
  },
  {
   "cell_type": "code",
   "execution_count": null,
   "id": "f8d89ddd",
   "metadata": {},
   "outputs": [],
   "source": []
  },
  {
   "cell_type": "code",
   "execution_count": null,
   "id": "281abcb5",
   "metadata": {},
   "outputs": [],
   "source": [
    "#Regressão Logística: um modelo utilizado para prever uma variável binária (como, por exemplo, se um município ou estado terá um crescimento acima ou abaixo da média) com base em uma ou mais variáveis independentes.\n",
    "\n",
    "#prever o formato de energia que terá maior crescimento em cada estado nos próximos 12 meses"
   ]
  },
  {
   "cell_type": "code",
   "execution_count": null,
   "id": "f8deacbb",
   "metadata": {},
   "outputs": [],
   "source": [
    "# importando bibs\n",
    "\n",
    "from prophet import Prophet\n",
    "import pandas as pd\n",
    "\n",
    "#carregando dados (obs: colunas obrigatoriamente tem que se chamar ds para a data e y para os valores\n",
    "\n",
    "dataframe = pd.read_excel(\"/content/aneel.xlsx\")\n",
    "dataframe = dataframe.rename(columns={'DS':'ds', 'Y':'y'})\n",
    "dataframe\n",
    "\n",
    "# instancia o objeto prophet\n",
    "m = Prophet()\n",
    "m.fit(dataframe)\n",
    "\n",
    "# define o quanto quer prever (no caso foi usado 12 meses, freq = M para meses, 'D' para dias.\n",
    "future = m.make_future_dataframe(periods = 12, freq='M')\n",
    "future.tail()\n",
    "\n",
    "#plotar o gráfico\n",
    "fig1 = m.plot(forecast)\n",
    "\n",
    "# plotando com a bibs plotly\n",
    "from prophet.plot import plot_plotly, plot_components_plotly\n",
    "\n",
    "plot_plotly(m, forecast)\n",
    "\n",
    "# decompondo a série\n",
    "fig2 = m.plot_components(forecast)"
   ]
  },
  {
   "cell_type": "code",
   "execution_count": null,
   "id": "c97a2847",
   "metadata": {},
   "outputs": [],
   "source": []
  },
  {
   "cell_type": "code",
   "execution_count": null,
   "id": "f6d79421",
   "metadata": {},
   "outputs": [],
   "source": []
  },
  {
   "cell_type": "code",
   "execution_count": null,
   "id": "b274ec85",
   "metadata": {},
   "outputs": [],
   "source": []
  },
  {
   "cell_type": "code",
   "execution_count": null,
   "id": "eb3d046c",
   "metadata": {},
   "outputs": [],
   "source": []
  },
  {
   "cell_type": "code",
   "execution_count": null,
   "id": "9d798c19",
   "metadata": {},
   "outputs": [],
   "source": []
  },
  {
   "cell_type": "code",
   "execution_count": null,
   "id": "1d5feba5",
   "metadata": {},
   "outputs": [
    {
     "name": "stdout",
     "output_type": "stream",
     "text": [
      "Previsões para Comercial:\n",
      "          data   previsao\n",
      "0   2023-04-20  32.121854\n",
      "1   2023-05-20  32.121854\n",
      "2   2023-06-19  32.121854\n",
      "3   2023-07-19  32.121854\n",
      "4   2023-08-18  32.121854\n",
      "5   2023-09-17  32.121854\n",
      "6   2023-10-17  32.121854\n",
      "7   2023-11-16  32.121854\n",
      "8   2023-12-16  32.121854\n",
      "9   2024-01-15  32.121854\n",
      "10  2024-02-14  32.121854\n",
      "11  2024-03-15  32.121854\n",
      "Previsões para Industrial:\n",
      "          data   previsao\n",
      "0   2023-04-20  63.679409\n",
      "1   2023-05-20  63.679409\n",
      "2   2023-06-19  63.679409\n",
      "3   2023-07-19  63.679409\n",
      "4   2023-08-18  63.679409\n",
      "5   2023-09-17  63.679409\n",
      "6   2023-10-17  63.679409\n",
      "7   2023-11-16  63.679409\n",
      "8   2023-12-16  63.679409\n",
      "9   2024-01-15  63.679409\n",
      "10  2024-02-14  63.679409\n",
      "11  2024-03-15  63.679409\n",
      "Previsões para Poder Público:\n",
      "          data   previsao\n",
      "0   2023-04-20  51.436063\n",
      "1   2023-05-20  51.436063\n",
      "2   2023-06-19  51.436063\n",
      "3   2023-07-19  51.436063\n",
      "4   2023-08-18  51.436063\n",
      "5   2023-09-17  51.436063\n",
      "6   2023-10-17  51.436063\n",
      "7   2023-11-16  51.436063\n",
      "8   2023-12-16  51.436063\n",
      "9   2024-01-15  51.436063\n",
      "10  2024-02-14  51.436063\n",
      "11  2024-03-15  51.436063\n",
      "Previsões para Residencial:\n",
      "          data  previsao\n",
      "0   2023-04-20  7.857964\n",
      "1   2023-05-20  7.857964\n",
      "2   2023-06-19  7.857964\n",
      "3   2023-07-19  7.857964\n",
      "4   2023-08-18  7.857964\n",
      "5   2023-09-17  7.857964\n",
      "6   2023-10-17  7.857964\n",
      "7   2023-11-16  7.857964\n",
      "8   2023-12-16  7.857964\n",
      "9   2024-01-15  7.857964\n",
      "10  2024-02-14  7.857964\n",
      "11  2024-03-15  7.857964\n",
      "Previsões para Rural:\n",
      "          data   previsao\n",
      "0   2023-04-20  18.314226\n",
      "1   2023-05-20  18.314226\n",
      "2   2023-06-19  18.314226\n",
      "3   2023-07-19  18.314226\n",
      "4   2023-08-18  18.314226\n",
      "5   2023-09-17  18.314226\n",
      "6   2023-10-17  18.314226\n",
      "7   2023-11-16  18.314226\n",
      "8   2023-12-16  18.314226\n",
      "9   2024-01-15  18.314226\n",
      "10  2024-02-14  18.314226\n",
      "11  2024-03-15  18.314226\n",
      "Previsões para Serviço Público:\n",
      "          data   previsao\n",
      "0   2023-04-20  53.166667\n",
      "1   2023-05-20  53.166667\n",
      "2   2023-06-19  53.166667\n",
      "3   2023-07-19  53.166667\n",
      "4   2023-08-18  53.166667\n",
      "5   2023-09-17  53.166667\n",
      "6   2023-10-17  53.166667\n",
      "7   2023-11-16  53.166667\n",
      "8   2023-12-16  53.166667\n",
      "9   2024-01-15  53.166667\n",
      "10  2024-02-14  53.166667\n",
      "11  2024-03-15  53.166667\n"
     ]
    },
    {
     "data": {
      "text/html": [
       "<div>\n",
       "<style scoped>\n",
       "    .dataframe tbody tr th:only-of-type {\n",
       "        vertical-align: middle;\n",
       "    }\n",
       "\n",
       "    .dataframe tbody tr th {\n",
       "        vertical-align: top;\n",
       "    }\n",
       "\n",
       "    .dataframe thead th {\n",
       "        text-align: right;\n",
       "    }\n",
       "</style>\n",
       "<table border=\"1\" class=\"dataframe\">\n",
       "  <thead>\n",
       "    <tr style=\"text-align: right;\">\n",
       "      <th></th>\n",
       "      <th>data</th>\n",
       "      <th>previsao</th>\n",
       "    </tr>\n",
       "  </thead>\n",
       "  <tbody>\n",
       "    <tr>\n",
       "      <th>0</th>\n",
       "      <td>2023-04-20</td>\n",
       "      <td>53.166667</td>\n",
       "    </tr>\n",
       "    <tr>\n",
       "      <th>1</th>\n",
       "      <td>2023-05-20</td>\n",
       "      <td>53.166667</td>\n",
       "    </tr>\n",
       "    <tr>\n",
       "      <th>2</th>\n",
       "      <td>2023-06-19</td>\n",
       "      <td>53.166667</td>\n",
       "    </tr>\n",
       "    <tr>\n",
       "      <th>3</th>\n",
       "      <td>2023-07-19</td>\n",
       "      <td>53.166667</td>\n",
       "    </tr>\n",
       "    <tr>\n",
       "      <th>4</th>\n",
       "      <td>2023-08-18</td>\n",
       "      <td>53.166667</td>\n",
       "    </tr>\n",
       "    <tr>\n",
       "      <th>5</th>\n",
       "      <td>2023-09-17</td>\n",
       "      <td>53.166667</td>\n",
       "    </tr>\n",
       "    <tr>\n",
       "      <th>6</th>\n",
       "      <td>2023-10-17</td>\n",
       "      <td>53.166667</td>\n",
       "    </tr>\n",
       "    <tr>\n",
       "      <th>7</th>\n",
       "      <td>2023-11-16</td>\n",
       "      <td>53.166667</td>\n",
       "    </tr>\n",
       "    <tr>\n",
       "      <th>8</th>\n",
       "      <td>2023-12-16</td>\n",
       "      <td>53.166667</td>\n",
       "    </tr>\n",
       "    <tr>\n",
       "      <th>9</th>\n",
       "      <td>2024-01-15</td>\n",
       "      <td>53.166667</td>\n",
       "    </tr>\n",
       "    <tr>\n",
       "      <th>10</th>\n",
       "      <td>2024-02-14</td>\n",
       "      <td>53.166667</td>\n",
       "    </tr>\n",
       "    <tr>\n",
       "      <th>11</th>\n",
       "      <td>2024-03-15</td>\n",
       "      <td>53.166667</td>\n",
       "    </tr>\n",
       "  </tbody>\n",
       "</table>\n",
       "</div>"
      ],
      "text/plain": [
       "          data   previsao\n",
       "0   2023-04-20  53.166667\n",
       "1   2023-05-20  53.166667\n",
       "2   2023-06-19  53.166667\n",
       "3   2023-07-19  53.166667\n",
       "4   2023-08-18  53.166667\n",
       "5   2023-09-17  53.166667\n",
       "6   2023-10-17  53.166667\n",
       "7   2023-11-16  53.166667\n",
       "8   2023-12-16  53.166667\n",
       "9   2024-01-15  53.166667\n",
       "10  2024-02-14  53.166667\n",
       "11  2024-03-15  53.166667"
      ]
     },
     "execution_count": 10,
     "metadata": {},
     "output_type": "execute_result"
    }
   ],
   "source": [
    "import pandas as pd\n",
    "import sklearn\n",
    "from sklearn.linear_model import LinearRegression\n",
    "from datetime import datetime, timedelta\n",
    "\n",
    "# Selecionar as colunas necessárias para a análise\n",
    "df['MdaPotenciaInstaladaKW'] = df['MdaPotenciaInstaladaKW'].astype('str')\n",
    "df['MdaPotenciaInstaladaKW'] = df['MdaPotenciaInstaladaKW'].str.replace(',', '.')\n",
    "df['MdaPotenciaInstaladaKW'] = pd.to_numeric(df['MdaPotenciaInstaladaKW'], errors='coerce')\n",
    "df['DthAtualizaCadastralEmpreend'] = pd.to_datetime(df['DthAtualizaCadastralEmpreend'])\n",
    "df['DthAtualizaCadastralEmpreend'] = df['DthAtualizaCadastralEmpreend'].apply(lambda x: x.timestamp())\n",
    "\n",
    "# Agrupar o dataframe por tipo de geração\n",
    "groups = df.groupby('DscClasseConsumo')\n",
    "\n",
    "# Criar um dicionário para armazenar as previsões de cada grupo\n",
    "predictions = {}\n",
    "\n",
    "# Iterar sobre os grupos e aplicar o modelo de regressão linear\n",
    "for name, group in groups:\n",
    "    X = group['DthAtualizaCadastralEmpreend'].values.reshape(-1, 1)\n",
    "    y = group['MdaPotenciaInstaladaKW'].values\n",
    "    \n",
    "    # Instanciar o modelo de regressão linear\n",
    "    model = LinearRegression()\n",
    "    \n",
    "    # Treinar o modelo com os dados selecionados\n",
    "    model.fit(X, y)\n",
    "    \n",
    "    # Fazer a previsão para os próximos 12 meses\n",
    "    previsao = model.predict([[group['DthAtualizaCadastralEmpreend'].max() + i] for i in range(1, 13)])\n",
    "    \n",
    "    # Criar um dataframe com as previsões\n",
    "    data_atual = datetime.now()\n",
    "    previsoes = []\n",
    "    for i, p in enumerate(previsao):\n",
    "        data = (data_atual + timedelta(days=30*(i+1))).strftime('%Y-%m-%d')\n",
    "        previsoes.append({'data': data, 'previsao': p})\n",
    "        \n",
    "    df_previsoes = pd.DataFrame(previsoes)\n",
    "    \n",
    "    # Armazenar o dataframe no dicionário com o nome do grupo como chave\n",
    "    predictions[name] = df_previsoes\n",
    "    \n",
    "# Imprimir as previsões de cada grupo\n",
    "for key, value in predictions.items():\n",
    "    print(f'Previsões para {key}:')\n",
    "    print(value)\n",
    "\n"
   ]
  },
  {
   "cell_type": "markdown",
   "id": "df46d606",
   "metadata": {},
   "source": [
    "Existem diferentes maneiras de validar se suas previsões estão corretas. Uma maneira é aplicar seu modelo a outro conjunto de dados e verificar seu desempenho1. Você pode usar métricas como R-quadrado, erro quadrático médio ou erro absoluto médio para medir o quão bem seu modelo se ajusta aos novos dados. Você também pode plotar um gráfico de dispersão dos valores previstos versus os valores observados e ver o quão próximos eles estão de uma linha reta.\n",
    "\n",
    "Outra maneira é verificar as suposições da regressão linear, como linearidade, normalidade, homocedasticidade, independência dos erros e ausência de multicolinearidade2. Você pode usar gráficos diagnósticos como gráfico de resíduos, gráfico Q-Q, gráfico de alavancagem ou valores VIF (fator de inflação da variância) para testar essas suposições e ver se seu modelo precisa de algum ajuste.\n",
    "\n",
    "Uma terceira maneira é validar externamente seu modelo de previsão usando um método chamado calibração34. Isso envolve comparar as probabilidades previstas com os resultados observados em um novo conjunto de dados e ver o quão bem eles concordam. Você pode usar estatísticas como inclinação e interceptação da calibração ou gráficos como curva ou diagrama de confiabilidade da calibração para avaliar a calibração do seu modelo."
   ]
  },
  {
   "cell_type": "code",
   "execution_count": null,
   "id": "11cf5f40",
   "metadata": {},
   "outputs": [],
   "source": []
  },
  {
   "cell_type": "code",
   "execution_count": null,
   "id": "4fdf4808",
   "metadata": {},
   "outputs": [],
   "source": []
  },
  {
   "cell_type": "code",
   "execution_count": null,
   "id": "c107b74f",
   "metadata": {},
   "outputs": [],
   "source": []
  },
  {
   "cell_type": "code",
   "execution_count": null,
   "id": "331a927b",
   "metadata": {},
   "outputs": [],
   "source": []
  },
  {
   "cell_type": "code",
   "execution_count": null,
   "id": "eaac40bc",
   "metadata": {},
   "outputs": [],
   "source": []
  },
  {
   "cell_type": "code",
   "execution_count": null,
   "id": "07124e53",
   "metadata": {},
   "outputs": [],
   "source": []
  },
  {
   "cell_type": "code",
   "execution_count": null,
   "id": "855304b9",
   "metadata": {},
   "outputs": [],
   "source": []
  },
  {
   "cell_type": "code",
   "execution_count": null,
   "id": "41875cc7",
   "metadata": {},
   "outputs": [],
   "source": []
  },
  {
   "cell_type": "code",
   "execution_count": null,
   "id": "81fce850",
   "metadata": {},
   "outputs": [],
   "source": []
  },
  {
   "cell_type": "code",
   "execution_count": 18,
   "id": "6fa077dd",
   "metadata": {},
   "outputs": [
    {
     "name": "stdout",
     "output_type": "stream",
     "text": [
      "Dash is running on http://127.0.0.1:8050/\n",
      "\n",
      " * Serving Flask app '__main__'\n",
      " * Debug mode: off\n"
     ]
    }
   ],
   "source": [
    "import dash_html_components as html\n",
    "from dash import Dash, dcc\n",
    "from dash.dependencies import Input, Output\n",
    "from dash.exceptions import PreventUpdate\n",
    "import plotly.graph_objs as go\n",
    "#import plotly.io as pio\n",
    "from dash_html_components import Iframe\n",
    "\n",
    "\n",
    "# Cores: (rgb(68,199,244)); rgb(37,143,185); rgb(245,145,6)\n",
    "\n",
    "# Carrega os gráficos do Desafio 1.inpn\n",
    "\n",
    "app = Dash(__name__)\n",
    "\n",
    "fig_style = {'padding': '0 20px'}\n",
    "\n",
    "# Defina o layout\n",
    "app.layout = html.Div(\n",
    "    style={\n",
    "        'display': 'flex',\n",
    "        'flex-direction': 'column',\n",
    "        'align-items': 'center',\n",
    "        'height': '100vh',\n",
    "        'background-color': 'rgb(68, 199, 244)',\n",
    "    },\n",
    "    children=[\n",
    "        html.Img(\n",
    "            src='https://i2.energisa.info/SiteAssets/topo-marca.png',\n",
    "            alt='Logo Energisa',\n",
    "            title='Energisa',\n",
    "            style={'height': '50px'},\n",
    "        ),\n",
    "        html.H1(\n",
    "            children='Desafi',\n",
    "            style={\n",
    "                'font-size': '36px',\n",
    "                'font-family': 'Arial, sans-serif',\n",
    "                'font-weight': 'bold',\n",
    "                'color': '#0074D9',\n",
    "                'margin-top': '30px',\n",
    "                'text-align': 'center',\n",
    "            },\n",
    "        ),\n",
    "        html.Div(\n",
    "            children='''OBS: Estou muito animado para compartilhar estes gráficos com você!''',\n",
    "            style={'margin-top': '20px'},\n",
    "        ),\n",
    "\n",
    "        html.Div(children=[\n",
    "            html.H2(children='Gráfico atualizado'),\n",
    "            dcc.Graph(figure=fig_1)\n",
    "        ]),\n",
    "\n",
    "        # Define as funções para atualização dos gráficos\n",
    "        html.Div(children=[\n",
    "            html.H2(children='Gráfico atualizado'),\n",
    "        #    dcc.Graph(id='graph2'),\n",
    "        #    dcc.Graph(id='graph3')\n",
    "        ], style={'backgroundColor': '#FFF5EE'})\n",
    "    ],\n",
    ")\n",
    "\n",
    "if __name__ == '__main__':\n",
    "    app.run_server(debug=True, port=8050)"
   ]
  }
 ],
 "metadata": {
  "kernelspec": {
   "display_name": "aneel_energisa",
   "language": "python",
   "name": "python3"
  },
  "language_info": {
   "codemirror_mode": {
    "name": "ipython",
    "version": 3
   },
   "file_extension": ".py",
   "mimetype": "text/x-python",
   "name": "python",
   "nbconvert_exporter": "python",
   "pygments_lexer": "ipython3",
   "version": "3.9.16"
  }
 },
 "nbformat": 4,
 "nbformat_minor": 5
}
