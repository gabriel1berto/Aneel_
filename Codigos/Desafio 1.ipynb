{
 "cells": [
  {
   "attachments": {},
   "cell_type": "markdown",
   "id": "3181b92a",
   "metadata": {},
   "source": [
    "## 0. Ambiente de trabalho e importação de bibliotecas"
   ]
  },
  {
   "cell_type": "code",
   "execution_count": 5,
   "id": "854f956e",
   "metadata": {},
   "outputs": [
    {
     "name": "stderr",
     "output_type": "stream",
     "text": [
      "C:\\Users\\ghumb\\AppData\\Local\\Temp\\ipykernel_21928\\1954264805.py:18: UserWarning:\n",
      "\n",
      "\n",
      "The dash_core_components package is deprecated. Please replace\n",
      "`import dash_core_components as dcc` with `from dash import dcc`\n",
      "\n",
      "C:\\Users\\ghumb\\AppData\\Local\\Temp\\ipykernel_21928\\1954264805.py:19: UserWarning:\n",
      "\n",
      "\n",
      "The dash_html_components package is deprecated. Please replace\n",
      "`import dash_html_components as html` with `from dash import html`\n",
      "\n"
     ]
    }
   ],
   "source": [
    "# Bibliotecas - API\n",
    "import requests\n",
    "\n",
    "# Bibliotecas - Gráficos\n",
    "import numpy as np\n",
    "import pandas as pd\n",
    "import seaborn as sns\n",
    "import missingno as msno\n",
    "import plotly.express as px\n",
    "import plotly.offline as pyo\n",
    "import plotly.graph_objs as go\n",
    "import matplotlib.pyplot as plt\n",
    "import plotly.figure_factory as ff\n",
    "\n",
    "# Bibliotecas - Dash\n",
    "import dash\n",
    "from dash import dcc\n",
    "import dash_core_components as dcc\n",
    "import dash_html_components as html\n",
    "from dash.dependencies import Input, Output"
   ]
  },
  {
   "attachments": {},
   "cell_type": "markdown",
   "id": "2478860a",
   "metadata": {},
   "source": [
    "## 1. ETL \n",
    "#### (extração de dados)\n"
   ]
  },
  {
   "cell_type": "code",
   "execution_count": 6,
   "id": "b6008dfd",
   "metadata": {},
   "outputs": [
    {
     "name": "stdout",
     "output_type": "stream",
     "text": [
      "Requisição bem sucedida\n"
     ]
    }
   ],
   "source": [
    "\n",
    "# define url incrementada para requisição de api (ate 1.000.000 registros)\n",
    "url = \"https://dadosabertos.aneel.gov.br/api/action/datastore_search?resource_id=b1bd71e7-d0ad-4214-9053-cbd58e9564a7&limit=1000000\"\n",
    "\n",
    "# tempo máximo de espera para a resposta da requisição\n",
    "timeout_seconds = 100   \n",
    "\n",
    "# Obter os dados da API\n",
    "def get_data(url, timeout_seconds):\n",
    "    try:\n",
    "        # Requisição GET com o tempo limite definido\n",
    "        response = requests.get(url, timeout=timeout_seconds)\n",
    "\n",
    "        #  Verifica erros HTTP\n",
    "        response.raise_for_status()\n",
    "    except requests.exceptions.RequestException as e:\n",
    "        print(\"Erro ao obter os dados:\", e)\n",
    "        return None\n",
    "\n",
    "    # Código de status da resposta HTTP=200, indicando que a requisição foi bem sucedida\n",
    "    if response.status_code == 200:\n",
    "        # Em caso de sucesso, obtenha os dados em formato JSON e imprima \"Requisição bem sucedida\"\n",
    "        data = response.json()\n",
    "        print(\"Requisição bem sucedida\")\n",
    "\n",
    "        # Verificar resposta da API\n",
    "        if data[\"success\"]:\n",
    "            # Gera lista de registros e a lista de colunas\n",
    "            records = data[\"result\"][\"records\"]\n",
    "            columns = data[\"result\"][\"fields\"]\n",
    "\n",
    "            # Adiciona as colunas \"Bandeira\" e \"Nome_agente\" na lista de colunas\n",
    "            columns.append({\"id\": \"Bandeira\", \"type\": \"text\"})\n",
    "            columns.append({\"id\": \"Nome_agente\", \"type\": \"text\"})\n",
    "\n",
    "            # Cria o DataFrame\n",
    "            df = pd.DataFrame.from_records(records, columns=[c[\"id\"] for c in columns])\n",
    "\n",
    "            # Retorne o DataFrame criado\n",
    "            return df\n",
    "        else:\n",
    "            # Em caso de erro, imprir uma mensagem de aviso e retorne None\n",
    "            print(\"A API não retornou dados.\")\n",
    "            return None\n",
    "    else:\n",
    "        # Se o código de status da resposta HTTP for diferente de 200, trate o erro de acordo com o código\n",
    "        if response.status_code == 400:\n",
    "            print(\"Requisição mal formada.\")\n",
    "        elif response.status_code == 401:\n",
    "            print(\"Não autorizado.\")\n",
    "        elif response.status_code == 403:\n",
    "            print(\"Acesso proibido.\")\n",
    "        elif response.status_code == 404:\n",
    "            print(\"Recurso não encontrado.\") \n",
    "        elif response.status_code == 500:\n",
    "            print(\"Erro interno do servidor.\")\n",
    "        else:\n",
    "            print(\"Erro desconhecido ao obter os dados.\")\n",
    "\n",
    "        return None\n",
    "\n",
    "# Chame a função get_data para obter um DataFrame com os dados da API\n",
    "df = get_data(url, timeout_seconds)"
   ]
  },
  {
   "attachments": {},
   "cell_type": "markdown",
   "metadata": {},
   "source": [
    "## 2. EDA\n",
    "#### (estudo dos dados)"
   ]
  },
  {
   "attachments": {},
   "cell_type": "markdown",
   "id": "d312e08a",
   "metadata": {},
   "source": [
    "### 2.1 - Tratamento de dados"
   ]
  },
  {
   "attachments": {},
   "cell_type": "markdown",
   "id": "f5c12407",
   "metadata": {},
   "source": [
    "\n",
    " #### Análises realizadas : verificações obtidas\n",
    "    - Formato de dados: inicialmente, algumas colunas do DataFrame possuíam valores do tipo 'object', que foram atualizados para as classes corretas (e.g. 'datetime', 'float', 'int').\n",
    "    - Análise de valores vazios: não foi identificado um padrão de valores vazios no DataFrame, porém isso não deve ser um problema, uma vez que não pretendemos utilizá-los.\n",
    "    - Análise de valores nulos: também não foi identificado um padrão de valores nulos no DataFrame, o que não deve ser um problema para nossas análises.\n",
    "    - Análise de valores duplicados: felizmente, não encontramos valores duplicados no DataFrame, o que é sempre um bom sinal."
   ]
  },
  {
   "cell_type": "code",
   "execution_count": 13,
   "id": "75d21a86",
   "metadata": {},
   "outputs": [
    {
     "name": "stdout",
     "output_type": "stream",
     "text": [
      "Colunas duplicadas:  []\n",
      "Linhas duplicadas:  0\n",
      "                             +       %\n",
      "Nome_agente              32000  100.00\n",
      "Bandeira                 32000  100.00\n",
      "NumCoordNSub             31964   99.89\n",
      "NumCoordESub             31964   99.89\n",
      "NomSubEstacao            31964   99.89\n",
      "NumCoordEEmpreendimento  27821   86.94\n",
      "NumCoordNEmpreendimento  27821   86.94\n",
      "codUFibge                   54    0.17\n",
      "codRegiao                   54    0.17\n",
      "CodEmpreendimento            3    0.01\n"
     ]
    },
    {
     "name": "stderr",
     "output_type": "stream",
     "text": [
      "c:\\Users\\ghumb\\AppData\\Local\\Programs\\Python\\Python311\\Lib\\site-packages\\missingno\\missingno.py:61: UserWarning:\n",
      "\n",
      "Plotting a sparkline on an existing axis is not currently supported. To remove this warning, set sparkline=False.\n",
      "\n"
     ]
    },
    {
     "data": {
      "image/png": "[encoded data removed]",
      "text/plain": [
       "<Figure size 1000x600 with 1 Axes>"
      ]
     },
     "metadata": {},
     "output_type": "display_data"
    },
    {
     "data": {
      "text/html": [
       "<div>\n",
       "<style scoped>\n",
       "    .dataframe tbody tr th:only-of-type {\n",
       "        vertical-align: middle;\n",
       "    }\n",
       "\n",
       "    .dataframe tbody tr th {\n",
       "        vertical-align: top;\n",
       "    }\n",
       "\n",
       "    .dataframe thead th {\n",
       "        text-align: right;\n",
       "    }\n",
       "</style>\n",
       "<table border=\"1\" class=\"dataframe\">\n",
       "  <thead>\n",
       "    <tr style=\"text-align: right;\">\n",
       "      <th></th>\n",
       "      <th>_id</th>\n",
       "      <th>DatGeracaoConjuntoDados</th>\n",
       "      <th>AnmPeriodoReferencia</th>\n",
       "      <th>NumCNPJDistribuidora</th>\n",
       "      <th>SigAgente</th>\n",
       "      <th>NomAgente</th>\n",
       "      <th>CodClasseConsumo</th>\n",
       "      <th>DscClasseConsumo</th>\n",
       "      <th>CodSubGrupoTarifario</th>\n",
       "      <th>DscSubGrupoTarifario</th>\n",
       "      <th>...</th>\n",
       "      <th>NumCoordNEmpreendimento</th>\n",
       "      <th>NumCoordEEmpreendimento</th>\n",
       "      <th>NomSubEstacao</th>\n",
       "      <th>NumCoordESub</th>\n",
       "      <th>NumCoordNSub</th>\n",
       "      <th>Bandeira</th>\n",
       "      <th>Nome_agente</th>\n",
       "      <th>Mes</th>\n",
       "      <th>Ano</th>\n",
       "      <th>Ano_Mes</th>\n",
       "    </tr>\n",
       "  </thead>\n",
       "  <tbody>\n",
       "    <tr>\n",
       "      <th>0</th>\n",
       "      <td>1</td>\n",
       "      <td>2023-03-29</td>\n",
       "      <td>03/2023</td>\n",
       "      <td>33050196000188</td>\n",
       "      <td>CPFL-PAULISTA</td>\n",
       "      <td>COMPANHIA PAULISTA DE FORÇA E LUZ</td>\n",
       "      <td>1</td>\n",
       "      <td>Residencial</td>\n",
       "      <td>9</td>\n",
       "      <td>B1</td>\n",
       "      <td>...</td>\n",
       "      <td>None</td>\n",
       "      <td>None</td>\n",
       "      <td>None</td>\n",
       "      <td>None</td>\n",
       "      <td>None</td>\n",
       "      <td>NaN</td>\n",
       "      <td>NaN</td>\n",
       "      <td>1</td>\n",
       "      <td>2023</td>\n",
       "      <td>2023-01</td>\n",
       "    </tr>\n",
       "    <tr>\n",
       "      <th>1</th>\n",
       "      <td>2</td>\n",
       "      <td>2023-03-29</td>\n",
       "      <td>03/2023</td>\n",
       "      <td>4895728000180</td>\n",
       "      <td>Equatorial PA</td>\n",
       "      <td>EQUATORIAL PARÁ DISTRIBUIDORA DE ENERGIA S.A.</td>\n",
       "      <td>1</td>\n",
       "      <td>Residencial</td>\n",
       "      <td>9</td>\n",
       "      <td>B1</td>\n",
       "      <td>...</td>\n",
       "      <td>None</td>\n",
       "      <td>None</td>\n",
       "      <td>None</td>\n",
       "      <td>None</td>\n",
       "      <td>None</td>\n",
       "      <td>NaN</td>\n",
       "      <td>NaN</td>\n",
       "      <td>2</td>\n",
       "      <td>2023</td>\n",
       "      <td>2023-02</td>\n",
       "    </tr>\n",
       "    <tr>\n",
       "      <th>2</th>\n",
       "      <td>3</td>\n",
       "      <td>2023-03-29</td>\n",
       "      <td>03/2023</td>\n",
       "      <td>4895728000180</td>\n",
       "      <td>Equatorial PA</td>\n",
       "      <td>EQUATORIAL PARÁ DISTRIBUIDORA DE ENERGIA S.A.</td>\n",
       "      <td>1</td>\n",
       "      <td>Residencial</td>\n",
       "      <td>9</td>\n",
       "      <td>B1</td>\n",
       "      <td>...</td>\n",
       "      <td>None</td>\n",
       "      <td>None</td>\n",
       "      <td>None</td>\n",
       "      <td>None</td>\n",
       "      <td>None</td>\n",
       "      <td>NaN</td>\n",
       "      <td>NaN</td>\n",
       "      <td>1</td>\n",
       "      <td>2023</td>\n",
       "      <td>2023-01</td>\n",
       "    </tr>\n",
       "    <tr>\n",
       "      <th>3</th>\n",
       "      <td>4</td>\n",
       "      <td>2023-03-29</td>\n",
       "      <td>03/2023</td>\n",
       "      <td>4065033000170</td>\n",
       "      <td>ELETROACRE</td>\n",
       "      <td>ENERGISA ACRE - DISTRIBUIDORA DE ENERGIA S.A</td>\n",
       "      <td>2</td>\n",
       "      <td>Comercial</td>\n",
       "      <td>11</td>\n",
       "      <td>B3</td>\n",
       "      <td>...</td>\n",
       "      <td>-67,85</td>\n",
       "      <td>-9,96</td>\n",
       "      <td>None</td>\n",
       "      <td>None</td>\n",
       "      <td>None</td>\n",
       "      <td>NaN</td>\n",
       "      <td>NaN</td>\n",
       "      <td>7</td>\n",
       "      <td>2015</td>\n",
       "      <td>2015-07</td>\n",
       "    </tr>\n",
       "    <tr>\n",
       "      <th>4</th>\n",
       "      <td>5</td>\n",
       "      <td>2023-03-29</td>\n",
       "      <td>03/2023</td>\n",
       "      <td>4065033000170</td>\n",
       "      <td>ELETROACRE</td>\n",
       "      <td>ENERGISA ACRE - DISTRIBUIDORA DE ENERGIA S.A</td>\n",
       "      <td>1</td>\n",
       "      <td>Residencial</td>\n",
       "      <td>9</td>\n",
       "      <td>B1</td>\n",
       "      <td>...</td>\n",
       "      <td>-70,78</td>\n",
       "      <td>-8,15</td>\n",
       "      <td>None</td>\n",
       "      <td>None</td>\n",
       "      <td>None</td>\n",
       "      <td>NaN</td>\n",
       "      <td>NaN</td>\n",
       "      <td>4</td>\n",
       "      <td>2015</td>\n",
       "      <td>2015-04</td>\n",
       "    </tr>\n",
       "    <tr>\n",
       "      <th>...</th>\n",
       "      <td>...</td>\n",
       "      <td>...</td>\n",
       "      <td>...</td>\n",
       "      <td>...</td>\n",
       "      <td>...</td>\n",
       "      <td>...</td>\n",
       "      <td>...</td>\n",
       "      <td>...</td>\n",
       "      <td>...</td>\n",
       "      <td>...</td>\n",
       "      <td>...</td>\n",
       "      <td>...</td>\n",
       "      <td>...</td>\n",
       "      <td>...</td>\n",
       "      <td>...</td>\n",
       "      <td>...</td>\n",
       "      <td>...</td>\n",
       "      <td>...</td>\n",
       "      <td>...</td>\n",
       "      <td>...</td>\n",
       "      <td>...</td>\n",
       "    </tr>\n",
       "    <tr>\n",
       "      <th>31995</th>\n",
       "      <td>31996</td>\n",
       "      <td>2023-03-29</td>\n",
       "      <td>03/2023</td>\n",
       "      <td>15139629000194</td>\n",
       "      <td>COELBA</td>\n",
       "      <td>COMPANHIA DE ELETRICIDADE DO ESTADO DA BAHIA C...</td>\n",
       "      <td>2</td>\n",
       "      <td>Comercial</td>\n",
       "      <td>11</td>\n",
       "      <td>B3</td>\n",
       "      <td>...</td>\n",
       "      <td>None</td>\n",
       "      <td>None</td>\n",
       "      <td>None</td>\n",
       "      <td>None</td>\n",
       "      <td>None</td>\n",
       "      <td>NaN</td>\n",
       "      <td>NaN</td>\n",
       "      <td>3</td>\n",
       "      <td>2018</td>\n",
       "      <td>2018-03</td>\n",
       "    </tr>\n",
       "    <tr>\n",
       "      <th>31996</th>\n",
       "      <td>31997</td>\n",
       "      <td>2023-03-29</td>\n",
       "      <td>03/2023</td>\n",
       "      <td>15139629000194</td>\n",
       "      <td>COELBA</td>\n",
       "      <td>COMPANHIA DE ELETRICIDADE DO ESTADO DA BAHIA C...</td>\n",
       "      <td>2</td>\n",
       "      <td>Comercial</td>\n",
       "      <td>11</td>\n",
       "      <td>B3</td>\n",
       "      <td>...</td>\n",
       "      <td>None</td>\n",
       "      <td>None</td>\n",
       "      <td>None</td>\n",
       "      <td>None</td>\n",
       "      <td>None</td>\n",
       "      <td>NaN</td>\n",
       "      <td>NaN</td>\n",
       "      <td>3</td>\n",
       "      <td>2018</td>\n",
       "      <td>2018-03</td>\n",
       "    </tr>\n",
       "    <tr>\n",
       "      <th>31997</th>\n",
       "      <td>31998</td>\n",
       "      <td>2023-03-29</td>\n",
       "      <td>03/2023</td>\n",
       "      <td>15139629000194</td>\n",
       "      <td>COELBA</td>\n",
       "      <td>COMPANHIA DE ELETRICIDADE DO ESTADO DA BAHIA C...</td>\n",
       "      <td>3</td>\n",
       "      <td>Rural</td>\n",
       "      <td>10</td>\n",
       "      <td>B2</td>\n",
       "      <td>...</td>\n",
       "      <td>None</td>\n",
       "      <td>None</td>\n",
       "      <td>None</td>\n",
       "      <td>None</td>\n",
       "      <td>None</td>\n",
       "      <td>NaN</td>\n",
       "      <td>NaN</td>\n",
       "      <td>3</td>\n",
       "      <td>2018</td>\n",
       "      <td>2018-03</td>\n",
       "    </tr>\n",
       "    <tr>\n",
       "      <th>31998</th>\n",
       "      <td>31999</td>\n",
       "      <td>2023-03-29</td>\n",
       "      <td>03/2023</td>\n",
       "      <td>15139629000194</td>\n",
       "      <td>COELBA</td>\n",
       "      <td>COMPANHIA DE ELETRICIDADE DO ESTADO DA BAHIA C...</td>\n",
       "      <td>2</td>\n",
       "      <td>Comercial</td>\n",
       "      <td>11</td>\n",
       "      <td>B3</td>\n",
       "      <td>...</td>\n",
       "      <td>None</td>\n",
       "      <td>None</td>\n",
       "      <td>None</td>\n",
       "      <td>None</td>\n",
       "      <td>None</td>\n",
       "      <td>NaN</td>\n",
       "      <td>NaN</td>\n",
       "      <td>3</td>\n",
       "      <td>2018</td>\n",
       "      <td>2018-03</td>\n",
       "    </tr>\n",
       "    <tr>\n",
       "      <th>31999</th>\n",
       "      <td>32000</td>\n",
       "      <td>2023-03-29</td>\n",
       "      <td>03/2023</td>\n",
       "      <td>15139629000194</td>\n",
       "      <td>COELBA</td>\n",
       "      <td>COMPANHIA DE ELETRICIDADE DO ESTADO DA BAHIA C...</td>\n",
       "      <td>4</td>\n",
       "      <td>Industrial</td>\n",
       "      <td>7</td>\n",
       "      <td>A4</td>\n",
       "      <td>...</td>\n",
       "      <td>None</td>\n",
       "      <td>None</td>\n",
       "      <td>None</td>\n",
       "      <td>None</td>\n",
       "      <td>None</td>\n",
       "      <td>NaN</td>\n",
       "      <td>NaN</td>\n",
       "      <td>3</td>\n",
       "      <td>2018</td>\n",
       "      <td>2018-03</td>\n",
       "    </tr>\n",
       "  </tbody>\n",
       "</table>\n",
       "<p>32000 rows × 39 columns</p>\n",
       "</div>"
      ],
      "text/plain": [
       "         _id DatGeracaoConjuntoDados AnmPeriodoReferencia  \\\n",
       "0          1              2023-03-29              03/2023   \n",
       "1          2              2023-03-29              03/2023   \n",
       "2          3              2023-03-29              03/2023   \n",
       "3          4              2023-03-29              03/2023   \n",
       "4          5              2023-03-29              03/2023   \n",
       "...      ...                     ...                  ...   \n",
       "31995  31996              2023-03-29              03/2023   \n",
       "31996  31997              2023-03-29              03/2023   \n",
       "31997  31998              2023-03-29              03/2023   \n",
       "31998  31999              2023-03-29              03/2023   \n",
       "31999  32000              2023-03-29              03/2023   \n",
       "\n",
       "       NumCNPJDistribuidora      SigAgente  \\\n",
       "0            33050196000188  CPFL-PAULISTA   \n",
       "1             4895728000180  Equatorial PA   \n",
       "2             4895728000180  Equatorial PA   \n",
       "3             4065033000170     ELETROACRE   \n",
       "4             4065033000170     ELETROACRE   \n",
       "...                     ...            ...   \n",
       "31995        15139629000194         COELBA   \n",
       "31996        15139629000194         COELBA   \n",
       "31997        15139629000194         COELBA   \n",
       "31998        15139629000194         COELBA   \n",
       "31999        15139629000194         COELBA   \n",
       "\n",
       "                                               NomAgente  CodClasseConsumo  \\\n",
       "0                      COMPANHIA PAULISTA DE FORÇA E LUZ                 1   \n",
       "1          EQUATORIAL PARÁ DISTRIBUIDORA DE ENERGIA S.A.                 1   \n",
       "2          EQUATORIAL PARÁ DISTRIBUIDORA DE ENERGIA S.A.                 1   \n",
       "3           ENERGISA ACRE - DISTRIBUIDORA DE ENERGIA S.A                 2   \n",
       "4           ENERGISA ACRE - DISTRIBUIDORA DE ENERGIA S.A                 1   \n",
       "...                                                  ...               ...   \n",
       "31995  COMPANHIA DE ELETRICIDADE DO ESTADO DA BAHIA C...                 2   \n",
       "31996  COMPANHIA DE ELETRICIDADE DO ESTADO DA BAHIA C...                 2   \n",
       "31997  COMPANHIA DE ELETRICIDADE DO ESTADO DA BAHIA C...                 3   \n",
       "31998  COMPANHIA DE ELETRICIDADE DO ESTADO DA BAHIA C...                 2   \n",
       "31999  COMPANHIA DE ELETRICIDADE DO ESTADO DA BAHIA C...                 4   \n",
       "\n",
       "      DscClasseConsumo  CodSubGrupoTarifario DscSubGrupoTarifario  ...  \\\n",
       "0          Residencial                     9                   B1  ...   \n",
       "1          Residencial                     9                   B1  ...   \n",
       "2          Residencial                     9                   B1  ...   \n",
       "3            Comercial                    11                   B3  ...   \n",
       "4          Residencial                     9                   B1  ...   \n",
       "...                ...                   ...                  ...  ...   \n",
       "31995        Comercial                    11                   B3  ...   \n",
       "31996        Comercial                    11                   B3  ...   \n",
       "31997            Rural                    10                   B2  ...   \n",
       "31998        Comercial                    11                   B3  ...   \n",
       "31999       Industrial                     7                   A4  ...   \n",
       "\n",
       "       NumCoordNEmpreendimento NumCoordEEmpreendimento  NomSubEstacao  \\\n",
       "0                         None                    None           None   \n",
       "1                         None                    None           None   \n",
       "2                         None                    None           None   \n",
       "3                       -67,85                   -9,96           None   \n",
       "4                       -70,78                   -8,15           None   \n",
       "...                        ...                     ...            ...   \n",
       "31995                     None                    None           None   \n",
       "31996                     None                    None           None   \n",
       "31997                     None                    None           None   \n",
       "31998                     None                    None           None   \n",
       "31999                     None                    None           None   \n",
       "\n",
       "      NumCoordESub  NumCoordNSub Bandeira Nome_agente Mes   Ano  Ano_Mes  \n",
       "0             None          None      NaN         NaN   1  2023  2023-01  \n",
       "1             None          None      NaN         NaN   2  2023  2023-02  \n",
       "2             None          None      NaN         NaN   1  2023  2023-01  \n",
       "3             None          None      NaN         NaN   7  2015  2015-07  \n",
       "4             None          None      NaN         NaN   4  2015  2015-04  \n",
       "...            ...           ...      ...         ...  ..   ...      ...  \n",
       "31995         None          None      NaN         NaN   3  2018  2018-03  \n",
       "31996         None          None      NaN         NaN   3  2018  2018-03  \n",
       "31997         None          None      NaN         NaN   3  2018  2018-03  \n",
       "31998         None          None      NaN         NaN   3  2018  2018-03  \n",
       "31999         None          None      NaN         NaN   3  2018  2018-03  \n",
       "\n",
       "[32000 rows x 39 columns]"
      ]
     },
     "execution_count": 13,
     "metadata": {},
     "output_type": "execute_result"
    }
   ],
   "source": [
    "\n",
    "# Atualizando formato de colunas\n",
    "def atualiza_formato_colunas(df):\n",
    "    df = df.astype({\n",
    "        \"NumCNPJDistribuidora\": np.int64,\n",
    "        \"CodClasseConsumo\": np.int64,\n",
    "        \"CodSubGrupoTarifario\": np.int64,\n",
    "        \"codUFibge\": np.float64,\n",
    "        \"codRegiao\": np.float64,\n",
    "        \"CodMunicipioIbge\": np.float64,\n",
    "        \"QtdUCRecebeCredito\": np.int64,\n",
    "    })\n",
    "    return df\n",
    "df = atualiza_formato_colunas(df)\n",
    "\n",
    "# análise de vazios\n",
    "def analyze_dataframe(df):\n",
    "    # Análise de colunas duplicadas\n",
    "    duplicated_cols = df.columns[df.columns.duplicated(keep=False)]\n",
    "    df_duplicated_col = df[duplicated_cols].sum()\n",
    "    print('Colunas duplicadas: ', df_duplicated_col.tolist())\n",
    "\n",
    "    # Análise de linhas duplicadas\n",
    "    duplicated_rows = df.duplicated(keep=False)\n",
    "    df_duplicated_line = duplicated_rows.sum()\n",
    "    print('Linhas duplicadas: ', df_duplicated_line.tolist())\n",
    "\n",
    "    # Análise de valores nulos\n",
    "    na_tot = df.isna().sum().sort_values(ascending=False)\n",
    "    na_perc = (df.isna().sum() / df.shape[0] * 100).round(2).sort_values(ascending=False)\n",
    "    na = pd.concat([na_tot, na_perc], axis=1, keys=['+', '%'])\n",
    "    print(na.head(10))\n",
    "analyze_dataframe(df)\n",
    "\n",
    "def check_duplicates(df):\n",
    "    # Verifica colunas duplicadas\n",
    "    duplicated_cols = df.columns[df.columns.duplicated(keep=False)]\n",
    "    num_duplicated_cols = len(duplicated_cols)\n",
    "    \n",
    "    # Verifica linhas duplicadas\n",
    "    duplicated_rows = df.duplicated(keep=False)\n",
    "    num_duplicated_rows = duplicated_rows.sum()\n",
    "    \n",
    "    # Retorna o resultado\n",
    "    return num_duplicated_cols, num_duplicated_rows\n",
    "\n",
    "\n",
    "\n",
    "def visualizar_nulos(df):\n",
    "    sorted_df = df.sort_values(by='NumCoordEEmpreendimento')\n",
    "    fig, ax = plt.subplots(figsize=(10, 6))\n",
    "\n",
    "    # Cria a matriz de visualização de nulos com o eixo x em rotação vertical e tamanho de fonte menor\n",
    "    matriz_nulos = msno.matrix(sorted_df, ax=ax)\n",
    "    ax.set_xticklabels(ax.get_xticklabels(), rotation=90, fontsize=8)\n",
    "    \n",
    "    plt.show()\n",
    "visualizar_nulos(df)\n",
    "\n",
    "\n",
    "# Adicionando as colunas Ano, Mes e Ano_Mes\n",
    "def adiciona_colunas(df):\n",
    "    df['Mes'] = pd.DatetimeIndex(df['DthAtualizaCadastralEmpreend']).month\n",
    "    df['Ano'] = pd.DatetimeIndex(df['DthAtualizaCadastralEmpreend']).year\n",
    "    df['Ano_Mes'] = pd.to_datetime(df['DthAtualizaCadastralEmpreend']).dt.strftime('%Y-%m')\n",
    "    return df\n",
    "adiciona_colunas(df)\n"
   ]
  },
  {
   "attachments": {},
   "cell_type": "markdown",
   "id": "bf168ead",
   "metadata": {},
   "source": [
    "### 2.2 - Estudando os dados - novos usuários"
   ]
  },
  {
   "attachments": {},
   "cell_type": "markdown",
   "id": "d2e66a23",
   "metadata": {},
   "source": [
    "##### Objetivo principal: Estudar a serie temporal nos fatores\n",
    "        - Conhecer os dados (tendências, sazonalidades, resíduos, autocorrelações, distribuição e outliers)\n",
    "        - Definir os objetivos da previsão (interpretabilidade, simplicidade, escalabilidade, robustez)\n",
    "        - Teste e validação"
   ]
  },
  {
   "attachments": {},
   "cell_type": "markdown",
   "id": "5cfa1002",
   "metadata": {},
   "source": [
    "#### 2.2.1 - Organizando dfs p/ estudo (ts)"
   ]
  },
  {
   "cell_type": "code",
   "execution_count": 28,
   "metadata": {},
   "outputs": [],
   "source": [
    "# Para não causar conflitos nos dados, criatemos df específicos para cada análise oriundos de simplificações de df\n",
    "\n",
    "df_clean = df.dropna(subset=['NumCPFCNPJ']).copy()\n",
    "ts = df_clean.groupby(['DthAtualizaCadastralEmpreend', 'SigUF','SigTipoConsumidor', 'DscClasseConsumo']).agg({'NumCPFCNPJ': 'nunique'}).reset_index()\n",
    "ts = ts.sort_values('DthAtualizaCadastralEmpreend')\n",
    "ts = ts.set_index('DthAtualizaCadastralEmpreend')\n",
    "ts_clean = ts.drop(['SigUF', 'SigTipoConsumidor','DscClasseConsumo'], axis=1)\n",
    "ts_clean = ts_clean.groupby('DthAtualizaCadastralEmpreend').sum()"
   ]
  },
  {
   "attachments": {},
   "cell_type": "markdown",
   "id": "6ecfa416",
   "metadata": {},
   "source": [
    "#### 2.2.2 Análises iniciais (Tendencia, estacionariedade, sazonalidade, residuo )"
   ]
  },
  {
   "cell_type": "code",
   "execution_count": 29,
   "id": "105ab8f3",
   "metadata": {},
   "outputs": [],
   "source": [
    "import statsmodels.api\n",
    "from statsmodels.tsa.seasonal import seasonal_decompose\n",
    "resultado = seasonal_decompose(ts_clean['NumCPFCNPJ'], period = 12)\n",
    "\n",
    "tendencia = resultado.trend\n",
    "sazonalidade = resultado.seasonal\n",
    "residuo = resultado.resid"
   ]
  },
  {
   "attachments": {},
   "cell_type": "markdown",
   "id": "3d768cf7",
   "metadata": {},
   "source": [
    "#### 2.2.3 Visualização gerao de novos usuários da rede por dia"
   ]
  },
  {
   "cell_type": "code",
   "execution_count": 49,
   "id": "2885aedb",
   "metadata": {},
   "outputs": [
    {
     "data": {
      "image/png": "[encoded data removed]",
      "text/plain": [
       "<Figure size 640x480 with 1 Axes>"
      ]
     },
     "metadata": {},
     "output_type": "display_data"
    }
   ],
   "source": [
    "ts_clean.plot()\n",
    "plt.xlabel('DthAtualizaCadastralEmpreend')\n",
    "plt.ylabel('NumCPFCNPJ')\n",
    "plt.tight_layout()"
   ]
  },
  {
   "attachments": {},
   "cell_type": "markdown",
   "id": "28e9e647",
   "metadata": {},
   "source": [
    "#### 2.2.4 - tendencia"
   ]
  },
  {
   "cell_type": "code",
   "execution_count": 45,
   "id": "2686ce45",
   "metadata": {},
   "outputs": [
    {
     "data": {
      "text/plain": [
       "Text(0.5, 1.0, 'Tendência')"
      ]
     },
     "execution_count": 45,
     "metadata": {},
     "output_type": "execute_result"
    },
    {
     "data": {
      "image/png": "[encoded data removed]",
      "text/plain": [
       "<Figure size 1000x500 with 1 Axes>"
      ]
     },
     "metadata": {},
     "output_type": "display_data"
    }
   ],
   "source": [
    "fig, ax = plt.subplots(figsize=(10, 5))\n",
    "ax.plot(tendencia)\n",
    "ax.set_xlabel('DthAtualizaCadastralEmpreend')\n",
    "ax.set_xticks(range(0, len(ts_clean), 300))\n",
    "ax.set_ylabel('NumCPFCNPJ')\n",
    "ax.set_title('Tendência')\n",
    "\n",
    "# A tendencia de novos usuários por dia apresenta uma crescente até o fim de 2022"
   ]
  },
  {
   "attachments": {},
   "cell_type": "markdown",
   "id": "17005d16",
   "metadata": {},
   "source": [
    "#### 2.2.5 - sazonalidade"
   ]
  },
  {
   "cell_type": "code",
   "execution_count": 55,
   "id": "311bf721",
   "metadata": {},
   "outputs": [
    {
     "data": {
      "text/plain": [
       "Text(0.5, 1.0, 'sazonalidade')"
      ]
     },
     "execution_count": 55,
     "metadata": {},
     "output_type": "execute_result"
    },
    {
     "data": {
      "image/png": "[encoded data removed]",
      "text/plain": [
       "<Figure size 1000x500 with 1 Axes>"
      ]
     },
     "metadata": {},
     "output_type": "display_data"
    }
   ],
   "source": [
    "fig, ax = plt.subplots(figsize=(10, 5))\n",
    "ax.plot(sazonalidade)\n",
    "ax.set_xlabel('DthAtualizaCadastralEmpreend')\n",
    "ax.set_xticks(range(0, len(ts_clean), 300))\n",
    "ax.set_ylabel('NumCPFCNPJ')\n",
    "ax.set_title('sazonalidade')\n"
   ]
  },
  {
   "attachments": {},
   "cell_type": "markdown",
   "id": "bad0b096",
   "metadata": {},
   "source": [
    "#### 2.2.6 - resíduo"
   ]
  },
  {
   "cell_type": "code",
   "execution_count": 58,
   "id": "ed8b94bb",
   "metadata": {},
   "outputs": [
    {
     "data": {
      "text/plain": [
       "Text(0.5, 1.0, 'residuo')"
      ]
     },
     "execution_count": 58,
     "metadata": {},
     "output_type": "execute_result"
    },
    {
     "data": {
      "image/png": "[encoded data removed]",
      "text/plain": [
       "<Figure size 1000x500 with 1 Axes>"
      ]
     },
     "metadata": {},
     "output_type": "display_data"
    }
   ],
   "source": [
    "fig, ax = plt.subplots(figsize=(10, 5))\n",
    "ax.plot(residuo)\n",
    "ax.set_xlabel('DthAtualizaCadastralEmpreend')\n",
    "ax.set_xticks(range(0, len(ts_clean), 300))\n",
    "ax.set_ylabel('NumCPFCNPJ')\n",
    "ax.set_title('residuo')\n",
    "\n",
    "# O resíduo é a componente aleatória da série que não pode ser explicada pela tendência ou pela sazonalidade. O resíduo representa o erro do modelo e deve ser aleatório e não mostrar nenhum padrão discernível.\n",
    "# O crescimento do resíduo pode indicar que o modelo não está capturando toda a variação nos dados ou que há algum padrão nos dados que o modelo não está conseguindo capturar1."
   ]
  },
  {
   "attachments": {},
   "cell_type": "markdown",
   "id": "6b60ae6a",
   "metadata": {},
   "source": [
    "#### 2.2.7 - Estacionariedade"
   ]
  },
  {
   "attachments": {},
   "cell_type": "markdown",
   "id": "e83fdb84",
   "metadata": {},
   "source": [
    "Uma série temporal é estacionária se a média e a variância da série não mudam ao longo do tempo. \n",
    "\n",
    "A estacionariedade é importante porque muitos modelos de séries temporais assumem que a série é estacionária ou que pode ser transformada em uma série estacionária."
   ]
  },
  {
   "attachments": {},
   "cell_type": "markdown",
   "id": "4761656f",
   "metadata": {},
   "source": [
    "##### 2.2.7.1 - ADF"
   ]
  },
  {
   "cell_type": "code",
   "execution_count": 63,
   "id": "c8039132",
   "metadata": {},
   "outputs": [
    {
     "name": "stdout",
     "output_type": "stream",
     "text": [
      "Estatística ADF: -1.58\n",
      "Número de atrasos: 24\n",
      "Valor p: 0.495\n",
      "Valores críticos:\n",
      "1%, -3.43\n",
      "Valores críticos:\n",
      "5%, -2.86\n",
      "Valores críticos:\n",
      "10%, -2.57\n"
     ]
    }
   ],
   "source": [
    "from statsmodels.tsa.stattools import adfuller\n",
    "\n",
    "resultado_ts = adfuller(ts_clean, autolag='AIC')\n",
    "print('Estatística ADF: {:0.2f}'.format(resultado_ts[0]))\n",
    "print('Número de atrasos: {}'.format(resultado_ts[2]))\n",
    "\n",
    "# p<5% é um padrão estacionário, crescente controlado\n",
    "print('Valor p: {:0.3f}'.format(resultado_ts[1]))\n",
    "for key, value in resultado_ts[4].items():\n",
    "    print('Valores críticos:')\n",
    "    print(\"{}, {:0.2f}\".format(key,value))\n",
    "\n",
    "\n",
    "# ADF = -1.58 é um valor negativo, mas não muito negativo. Isso indica que a série é um pouco fria (um pouco estacionária), mas não o suficiente para rejeitar a hipótese nula de que a série tem uma raiz unitária (não é estacionária).\n",
    "\n",
    "# P = 0.495 significa que há uma probabilidade de 49,5% de obter um valor da estatística ADF igual ou mais extremo do que o observado, assumindo que a hipótese nula é verdadeira. Isso é um valor p alto, o que sugere que não há evidência suficiente para rejeitar a hipótese nula de que a série tem uma raiz unitária (não é estacionária)."
   ]
  },
  {
   "attachments": {},
   "cell_type": "markdown",
   "id": "8171e41d",
   "metadata": {},
   "source": [
    "##### 2.2.7.2 - KPSS"
   ]
  },
  {
   "attachments": {},
   "cell_type": "markdown",
   "id": "61234977",
   "metadata": {},
   "source": [
    "KPSS = 5.67  é um valor muito alto, que indica que a série é muito não-estacionária - \n",
    "https://en.wikipedia.org/wiki/KPSS_test\n",
    "\n",
    "O valor p de 0.01 significa que há uma probabilidade de 1% de obter um valor da estatística KPSS igual ou mais extremo do que o observado"
   ]
  },
  {
   "cell_type": "code",
   "execution_count": 64,
   "id": "7aeb8d1c",
   "metadata": {},
   "outputs": [
    {
     "name": "stdout",
     "output_type": "stream",
     "text": [
      "Estatística ADF: -1.58\n",
      "Número de atrasos: 24\n",
      "Valor p: 0.495\n",
      "Valores críticos:\n",
      "1%, -3.43\n",
      "Valores críticos:\n",
      "5%, -2.86\n",
      "Valores críticos:\n",
      "10%, -2.57\n"
     ]
    }
   ],
   "source": [
    "\n",
    "from statsmodels.tsa.stattools import adfuller\n",
    "\n",
    "resultado_ts = adfuller(ts_clean, autolag='AIC')\n",
    "print('Estatística ADF: {:0.2f}'.format(resultado_ts[0]))\n",
    "print('Número de atrasos: {}'.format(resultado_ts[2]))\n",
    "\n",
    "# p<5% é um padrão estacionário, crescente controlado\n",
    "print('Valor p: {:0.3f}'.format(resultado_ts[1]))\n",
    "for key, value in resultado_ts[4].items():\n",
    "    print('Valores críticos:')\n",
    "    print(\"{}, {:0.2f}\".format(key,value))\n",
    "\n",
    "\n",
    "# KPSS é 5.67. Isso é um valor muito alto, que indica que a série é muito não-estacionária. - https://en.wikipedia.org/wiki/KPSS_test\n",
    "# O valor p de 0.01 significa que há uma probabilidade de 1% de obter um valor da estatística KPSS igual ou mais extremo do que o observado"
   ]
  },
  {
   "attachments": {},
   "cell_type": "markdown",
   "id": "6316f1e9",
   "metadata": {},
   "source": [
    "#### 2.2.8 - ACF (autocorrelação)"
   ]
  },
  {
   "attachments": {},
   "cell_type": "markdown",
   "id": "2fd8ceb1",
   "metadata": {},
   "source": [
    "Mede a relação entre os valores da série e os seus valores anteriores em diferentes defasagens. \n",
    "\n",
    "Um ACF com um decaimento rápido sugere que há pouca ou nenhuma correlação entre as observações defasadas da série temporal.\n",
    "\n",
    "    - Autocorrenação de pearson\n",
    "        - acf > 0 = correlação positiva\n",
    "        - acf < 0 = correlação negativa\n",
    "        - acf = 0 = nenhuma correlação\n",
    "\n"
   ]
  },
  {
   "cell_type": "code",
   "execution_count": 65,
   "id": "acd6e9b9",
   "metadata": {},
   "outputs": [
    {
     "data": {
      "image/png": "[encoded data removed]",
      "text/plain": [
       "<Figure size 640x480 with 1 Axes>"
      ]
     },
     "metadata": {},
     "output_type": "display_data"
    }
   ],
   "source": [
    "from statsmodels.graphics.tsaplots import plot_acf\n",
    "\n",
    "plot_acf(ts['NumCPFCNPJ'], lags=40)\n",
    "plt.xlabel('Lag')\n",
    "plt.ylabel('ACF')\n",
    "plt.show()\n",
    "\n",
    "# https://www.statsmodels.org/dev/generated/statsmodels.graphics.tsaplots.plot_acf.html\n",
    "\n",
    "# Se uma autocorrelação está fora do intervalo \"mancha azul\", significa que ela é significativamente diferente de zero e indica algum padrão na série.\n",
    "# A autocorrelação no lag 1 é positiva e está fora do intervalo de confiança, o que significa que há uma relação significativa entre o valor atual da série e o valor anterior. Isso pode indicar que a série tem algum componente autoregressivo (AR), ou seja, que depende dos seus próprios valores passados.\n",
    "# As autocorrelações nos demais lags são próximas de zero e estão dentro do intervalo de confiança, o que significa que não há relações significativas entre o valor atual da série e os valores mais distantes no tempo. Isso pode indicar que a série não tem nenhum componente de média móvel (MA), ou seja, que não depende dos erros passados."
   ]
  },
  {
   "attachments": {},
   "cell_type": "markdown",
   "id": "2fd5df4e",
   "metadata": {},
   "source": [
    "#### 2.2.9 - PACF (autocorrelação parcial)"
   ]
  },
  {
   "attachments": {},
   "cell_type": "markdown",
   "id": "b2d87a67",
   "metadata": {},
   "source": [
    "A autocorrelação parcial é útil para identificar os termos autoregressivos (AR) em um modelo ARIMA. Se a autocorrelação parcial é significativa em um determinado lag, isso significa que há uma relação direta entre a observação atual e a observação nesse lag. O número de lags significativos indica a ordem do termo AR."
   ]
  },
  {
   "cell_type": "code",
   "execution_count": 72,
   "id": "c764ac35",
   "metadata": {},
   "outputs": [
    {
     "data": {
      "image/png": "[encoded data removed]",
      "text/plain": [
       "<Figure size 640x480 with 1 Axes>"
      ]
     },
     "metadata": {},
     "output_type": "display_data"
    }
   ],
   "source": [
    "plot_acf(ts['NumCPFCNPJ'], lags=10, alpha=0.05)\n",
    "plt.xlabel('Lag')\n",
    "plt.ylabel('PACF')\n",
    "plt.xlim([-1, 10])\n",
    "plt.show()\n",
    "\n",
    "# lag 0 é igual a 1, o que é esperado, pois significa que a série está correlacionada consigo mesma."
   ]
  },
  {
   "attachments": {},
   "cell_type": "markdown",
   "id": "a7ad59a3",
   "metadata": {},
   "source": [
    "### 2.3 - Análises de interesse:"
   ]
  },
  {
   "attachments": {},
   "cell_type": "markdown",
   "id": "7c4ed6bd",
   "metadata": {},
   "source": [
    "\n",
    "##### Análises da potencia instalada por tempo, segmentado por: \n",
    "        - SigTipoConsumigor (pf/pj) e SigUF(uf)\n",
    "        - \n",
    "\n",
    "##### Análises o agente instalada por grupo tarifario, segmentado por: \n",
    "        - SigTipoConsumigor (pf/pj) e SigUF(uf)\n",
    "        - \n",
    "\n",
    "\n",
    "##### Colunas adequadas para utilização: \n",
    "\n",
    "        - SigUF - nome do estado do empreendimento\n",
    "        - NomMunicipio - nome do município do empreendimento\n",
    "\n",
    "        - SigTipoConsumidor (PF ou PJ)\n",
    "        - DthAtualizaCadastralEmpreend\n",
    "\n",
    "        - DscClasseConsumo - descrição da classe de consumo do empreendimento\n",
    "        - CodSubGrupoTarifario - código do subgrupo tarifário do empreendimento\n",
    "\n",
    "        - DscFonteGeracao - descrição da fonte de geração do empreendimento\n",
    "\n",
    "        - NomAgente - nome do agente \n",
    "        - DscPorte - descrição do porte do agente\n",
    "        - MdaPotenciaInstaladaKW - potência instalada do agente em kW"
   ]
  },
  {
   "attachments": {},
   "cell_type": "markdown",
   "id": "3c87636d",
   "metadata": {},
   "source": [
    "##### Evoluções do número de usuários por tempo, segmentado por: "
   ]
  },
  {
   "attachments": {},
   "cell_type": "markdown",
   "id": "b9cd3f6d",
   "metadata": {},
   "source": [
    "        - SigTipoConsumigor (pf/pj) e SigUF(uf)\n",
    "        - DscClasseConsumo (resid/comercial/industrial) e SigUF(uf)\n"
   ]
  },
  {
   "cell_type": "code",
   "execution_count": 74,
   "id": "b6cb771e",
   "metadata": {},
   "outputs": [
    {
     "data": {
      "application/vnd.plotly.v1+json": {
       "config": {
        "plotlyServerURL": "https://plot.ly"
       },
       "data": [
        {
         "alignmentgroup": "True",
         "hovertemplate": "SigTipoConsumidor=PF<br>Ano=%{x}<br>NumCPFCNPJ=%{y}<extra></extra>",
         "legendgroup": "PF",
         "marker": {
          "color": "#636efa",
          "pattern": {
           "shape": ""
          }
         },
         "name": "PF",
         "offsetgroup": "PF",
         "orientation": "v",
         "showlegend": true,
         "textposition": "auto",
         "type": "bar",
         "x": [
          2018,
          2018,
          2018,
          2018,
          2018,
          2018,
          2018,
          2018,
          2018,
          2018,
          2018,
          2018,
          2018,
          2018,
          2018,
          2018,
          2019,
          2019,
          2019,
          2019,
          2019,
          2019,
          2019,
          2019,
          2019,
          2019,
          2019,
          2019,
          2019,
          2019,
          2020,
          2020,
          2020,
          2020,
          2020,
          2020,
          2020,
          2020,
          2020,
          2020,
          2020,
          2020,
          2020,
          2020,
          2020,
          2021,
          2021,
          2021,
          2021,
          2021,
          2021,
          2021,
          2021,
          2021,
          2021,
          2021,
          2021,
          2021,
          2021,
          2021,
          2021,
          2021,
          2021,
          2021,
          2021,
          2022,
          2022,
          2022,
          2022,
          2022,
          2022,
          2022,
          2022,
          2022,
          2022,
          2022,
          2022,
          2022,
          2022,
          2022,
          2022,
          2022,
          2022,
          2023,
          2023,
          2023,
          2023,
          2023,
          2023,
          2023,
          2023,
          2023,
          2023,
          2023,
          2023,
          2023,
          2023,
          2023,
          2023,
          2023,
          2023
         ],
         "xaxis": "x",
         "y": [
          3,
          1,
          22,
          12,
          1,
          131,
          1,
          5,
          1,
          68,
          1,
          33,
          7,
          1,
          55,
          4,
          22,
          1,
          92,
          6,
          68,
          3,
          434,
          10,
          13,
          367,
          3,
          10,
          82,
          3,
          35,
          401,
          16,
          57,
          5,
          16,
          1156,
          38,
          53,
          1,
          2,
          711,
          3,
          15,
          113,
          108,
          1,
          2,
          1127,
          63,
          57,
          1,
          12,
          2689,
          64,
          138,
          9,
          2,
          1239,
          12,
          37,
          1,
          410,
          1,
          1,
          101,
          1,
          1469,
          96,
          316,
          21,
          12,
          6741,
          160,
          214,
          6,
          2332,
          13,
          27,
          4,
          832,
          1,
          2,
          20,
          304,
          18,
          134,
          7,
          2,
          2583,
          79,
          37,
          2,
          1,
          743,
          9,
          1,
          1,
          579,
          2,
          1
         ],
         "yaxis": "y"
        },
        {
         "alignmentgroup": "True",
         "hovertemplate": "SigTipoConsumidor=PJ<br>Ano=%{x}<br>NumCPFCNPJ=%{y}<extra></extra>",
         "legendgroup": "PJ",
         "marker": {
          "color": "#EF553B",
          "pattern": {
           "shape": ""
          }
         },
         "name": "PJ",
         "offsetgroup": "PJ",
         "orientation": "v",
         "showlegend": true,
         "textposition": "auto",
         "type": "bar",
         "x": [
          2018,
          2018,
          2018,
          2018,
          2018,
          2018,
          2018,
          2018,
          2018,
          2018,
          2018,
          2018,
          2019,
          2019,
          2019,
          2019,
          2019,
          2019,
          2019,
          2019,
          2019,
          2019,
          2019,
          2019,
          2019,
          2019,
          2019,
          2019,
          2019,
          2020,
          2020,
          2020,
          2020,
          2020,
          2020,
          2020,
          2020,
          2020,
          2020,
          2020,
          2020,
          2020,
          2020,
          2020,
          2020,
          2020,
          2020,
          2020,
          2021,
          2021,
          2021,
          2021,
          2021,
          2021,
          2021,
          2021,
          2021,
          2021,
          2021,
          2021,
          2021,
          2021,
          2021,
          2021,
          2021,
          2021,
          2021,
          2021,
          2021,
          2022,
          2022,
          2022,
          2022,
          2022,
          2022,
          2022,
          2022,
          2022,
          2022,
          2022,
          2022,
          2022,
          2022,
          2022,
          2022,
          2022,
          2022,
          2022,
          2022,
          2023,
          2023,
          2023,
          2023,
          2023,
          2023,
          2023,
          2023,
          2023,
          2023,
          2023,
          2023,
          2023,
          2023,
          2023,
          2023
         ],
         "xaxis": "x",
         "y": [
          5,
          23,
          3,
          2,
          5,
          1,
          1,
          2,
          13,
          3,
          5,
          2,
          9,
          1,
          1,
          86,
          7,
          2,
          5,
          2,
          33,
          3,
          1,
          8,
          11,
          2,
          2,
          1,
          1,
          38,
          3,
          9,
          1,
          1,
          280,
          13,
          7,
          33,
          7,
          78,
          9,
          2,
          20,
          1,
          13,
          2,
          2,
          1,
          85,
          4,
          2,
          16,
          1,
          558,
          23,
          6,
          80,
          4,
          2,
          128,
          11,
          3,
          38,
          2,
          22,
          2,
          2,
          2,
          2,
          88,
          5,
          4,
          30,
          3,
          685,
          33,
          2,
          171,
          11,
          189,
          21,
          4,
          74,
          2,
          35,
          1,
          1,
          7,
          1,
          24,
          1,
          6,
          2,
          173,
          8,
          2,
          91,
          7,
          47,
          5,
          18,
          1,
          17,
          8,
          1
         ],
         "yaxis": "y"
        }
       ],
       "layout": {
        "barmode": "relative",
        "height": 600,
        "legend": {
         "title": {
          "text": "SigTipoConsumidor"
         },
         "tracegroupgap": 0
        },
        "margin": {
         "t": 60
        },
        "template": {
         "data": {
          "bar": [
           {
            "error_x": {
             "color": "#2a3f5f"
            },
            "error_y": {
             "color": "#2a3f5f"
            },
            "marker": {
             "line": {
              "color": "#E5ECF6",
              "width": 0.5
             },
             "pattern": {
              "fillmode": "overlay",
              "size": 10,
              "solidity": 0.2
             }
            },
            "type": "bar"
           }
          ],
          "barpolar": [
           {
            "marker": {
             "line": {
              "color": "#E5ECF6",
              "width": 0.5
             },
             "pattern": {
              "fillmode": "overlay",
              "size": 10,
              "solidity": 0.2
             }
            },
            "type": "barpolar"
           }
          ],
          "carpet": [
           {
            "aaxis": {
             "endlinecolor": "#2a3f5f",
             "gridcolor": "white",
             "linecolor": "white",
             "minorgridcolor": "white",
             "startlinecolor": "#2a3f5f"
            },
            "baxis": {
             "endlinecolor": "#2a3f5f",
             "gridcolor": "white",
             "linecolor": "white",
             "minorgridcolor": "white",
             "startlinecolor": "#2a3f5f"
            },
            "type": "carpet"
           }
          ],
          "choropleth": [
           {
            "colorbar": {
             "outlinewidth": 0,
             "ticks": ""
            },
            "type": "choropleth"
           }
          ],
          "contour": [
           {
            "colorbar": {
             "outlinewidth": 0,
             "ticks": ""
            },
            "colorscale": [
             [
              0,
              "#0d0887"
             ],
             [
              0.1111111111111111,
              "#46039f"
             ],
             [
              0.2222222222222222,
              "#7201a8"
             ],
             [
              0.3333333333333333,
              "#9c179e"
             ],
             [
              0.4444444444444444,
              "#bd3786"
             ],
             [
              0.5555555555555556,
              "#d8576b"
             ],
             [
              0.6666666666666666,
              "#ed7953"
             ],
             [
              0.7777777777777778,
              "#fb9f3a"
             ],
             [
              0.8888888888888888,
              "#fdca26"
             ],
             [
              1,
              "#f0f921"
             ]
            ],
            "type": "contour"
           }
          ],
          "contourcarpet": [
           {
            "colorbar": {
             "outlinewidth": 0,
             "ticks": ""
            },
            "type": "contourcarpet"
           }
          ],
          "heatmap": [
           {
            "colorbar": {
             "outlinewidth": 0,
             "ticks": ""
            },
            "colorscale": [
             [
              0,
              "#0d0887"
             ],
             [
              0.1111111111111111,
              "#46039f"
             ],
             [
              0.2222222222222222,
              "#7201a8"
             ],
             [
              0.3333333333333333,
              "#9c179e"
             ],
             [
              0.4444444444444444,
              "#bd3786"
             ],
             [
              0.5555555555555556,
              "#d8576b"
             ],
             [
              0.6666666666666666,
              "#ed7953"
             ],
             [
              0.7777777777777778,
              "#fb9f3a"
             ],
             [
              0.8888888888888888,
              "#fdca26"
             ],
             [
              1,
              "#f0f921"
             ]
            ],
            "type": "heatmap"
           }
          ],
          "heatmapgl": [
           {
            "colorbar": {
             "outlinewidth": 0,
             "ticks": ""
            },
            "colorscale": [
             [
              0,
              "#0d0887"
             ],
             [
              0.1111111111111111,
              "#46039f"
             ],
             [
              0.2222222222222222,
              "#7201a8"
             ],
             [
              0.3333333333333333,
              "#9c179e"
             ],
             [
              0.4444444444444444,
              "#bd3786"
             ],
             [
              0.5555555555555556,
              "#d8576b"
             ],
             [
              0.6666666666666666,
              "#ed7953"
             ],
             [
              0.7777777777777778,
              "#fb9f3a"
             ],
             [
              0.8888888888888888,
              "#fdca26"
             ],
             [
              1,
              "#f0f921"
             ]
            ],
            "type": "heatmapgl"
           }
          ],
          "histogram": [
           {
            "marker": {
             "pattern": {
              "fillmode": "overlay",
              "size": 10,
              "solidity": 0.2
             }
            },
            "type": "histogram"
           }
          ],
          "histogram2d": [
           {
            "colorbar": {
             "outlinewidth": 0,
             "ticks": ""
            },
            "colorscale": [
             [
              0,
              "#0d0887"
             ],
             [
              0.1111111111111111,
              "#46039f"
             ],
             [
              0.2222222222222222,
              "#7201a8"
             ],
             [
              0.3333333333333333,
              "#9c179e"
             ],
             [
              0.4444444444444444,
              "#bd3786"
             ],
             [
              0.5555555555555556,
              "#d8576b"
             ],
             [
              0.6666666666666666,
              "#ed7953"
             ],
             [
              0.7777777777777778,
              "#fb9f3a"
             ],
             [
              0.8888888888888888,
              "#fdca26"
             ],
             [
              1,
              "#f0f921"
             ]
            ],
            "type": "histogram2d"
           }
          ],
          "histogram2dcontour": [
           {
            "colorbar": {
             "outlinewidth": 0,
             "ticks": ""
            },
            "colorscale": [
             [
              0,
              "#0d0887"
             ],
             [
              0.1111111111111111,
              "#46039f"
             ],
             [
              0.2222222222222222,
              "#7201a8"
             ],
             [
              0.3333333333333333,
              "#9c179e"
             ],
             [
              0.4444444444444444,
              "#bd3786"
             ],
             [
              0.5555555555555556,
              "#d8576b"
             ],
             [
              0.6666666666666666,
              "#ed7953"
             ],
             [
              0.7777777777777778,
              "#fb9f3a"
             ],
             [
              0.8888888888888888,
              "#fdca26"
             ],
             [
              1,
              "#f0f921"
             ]
            ],
            "type": "histogram2dcontour"
           }
          ],
          "mesh3d": [
           {
            "colorbar": {
             "outlinewidth": 0,
             "ticks": ""
            },
            "type": "mesh3d"
           }
          ],
          "parcoords": [
           {
            "line": {
             "colorbar": {
              "outlinewidth": 0,
              "ticks": ""
             }
            },
            "type": "parcoords"
           }
          ],
          "pie": [
           {
            "automargin": true,
            "type": "pie"
           }
          ],
          "scatter": [
           {
            "fillpattern": {
             "fillmode": "overlay",
             "size": 10,
             "solidity": 0.2
            },
            "type": "scatter"
           }
          ],
          "scatter3d": [
           {
            "line": {
             "colorbar": {
              "outlinewidth": 0,
              "ticks": ""
             }
            },
            "marker": {
             "colorbar": {
              "outlinewidth": 0,
              "ticks": ""
             }
            },
            "type": "scatter3d"
           }
          ],
          "scattercarpet": [
           {
            "marker": {
             "colorbar": {
              "outlinewidth": 0,
              "ticks": ""
             }
            },
            "type": "scattercarpet"
           }
          ],
          "scattergeo": [
           {
            "marker": {
             "colorbar": {
              "outlinewidth": 0,
              "ticks": ""
             }
            },
            "type": "scattergeo"
           }
          ],
          "scattergl": [
           {
            "marker": {
             "colorbar": {
              "outlinewidth": 0,
              "ticks": ""
             }
            },
            "type": "scattergl"
           }
          ],
          "scattermapbox": [
           {
            "marker": {
             "colorbar": {
              "outlinewidth": 0,
              "ticks": ""
             }
            },
            "type": "scattermapbox"
           }
          ],
          "scatterpolar": [
           {
            "marker": {
             "colorbar": {
              "outlinewidth": 0,
              "ticks": ""
             }
            },
            "type": "scatterpolar"
           }
          ],
          "scatterpolargl": [
           {
            "marker": {
             "colorbar": {
              "outlinewidth": 0,
              "ticks": ""
             }
            },
            "type": "scatterpolargl"
           }
          ],
          "scatterternary": [
           {
            "marker": {
             "colorbar": {
              "outlinewidth": 0,
              "ticks": ""
             }
            },
            "type": "scatterternary"
           }
          ],
          "surface": [
           {
            "colorbar": {
             "outlinewidth": 0,
             "ticks": ""
            },
            "colorscale": [
             [
              0,
              "#0d0887"
             ],
             [
              0.1111111111111111,
              "#46039f"
             ],
             [
              0.2222222222222222,
              "#7201a8"
             ],
             [
              0.3333333333333333,
              "#9c179e"
             ],
             [
              0.4444444444444444,
              "#bd3786"
             ],
             [
              0.5555555555555556,
              "#d8576b"
             ],
             [
              0.6666666666666666,
              "#ed7953"
             ],
             [
              0.7777777777777778,
              "#fb9f3a"
             ],
             [
              0.8888888888888888,
              "#fdca26"
             ],
             [
              1,
              "#f0f921"
             ]
            ],
            "type": "surface"
           }
          ],
          "table": [
           {
            "cells": {
             "fill": {
              "color": "#EBF0F8"
             },
             "line": {
              "color": "white"
             }
            },
            "header": {
             "fill": {
              "color": "#C8D4E3"
             },
             "line": {
              "color": "white"
             }
            },
            "type": "table"
           }
          ]
         },
         "layout": {
          "annotationdefaults": {
           "arrowcolor": "#2a3f5f",
           "arrowhead": 0,
           "arrowwidth": 1
          },
          "autotypenumbers": "strict",
          "coloraxis": {
           "colorbar": {
            "outlinewidth": 0,
            "ticks": ""
           }
          },
          "colorscale": {
           "diverging": [
            [
             0,
             "#8e0152"
            ],
            [
             0.1,
             "#c51b7d"
            ],
            [
             0.2,
             "#de77ae"
            ],
            [
             0.3,
             "#f1b6da"
            ],
            [
             0.4,
             "#fde0ef"
            ],
            [
             0.5,
             "#f7f7f7"
            ],
            [
             0.6,
             "#e6f5d0"
            ],
            [
             0.7,
             "#b8e186"
            ],
            [
             0.8,
             "#7fbc41"
            ],
            [
             0.9,
             "#4d9221"
            ],
            [
             1,
             "#276419"
            ]
           ],
           "sequential": [
            [
             0,
             "#0d0887"
            ],
            [
             0.1111111111111111,
             "#46039f"
            ],
            [
             0.2222222222222222,
             "#7201a8"
            ],
            [
             0.3333333333333333,
             "#9c179e"
            ],
            [
             0.4444444444444444,
             "#bd3786"
            ],
            [
             0.5555555555555556,
             "#d8576b"
            ],
            [
             0.6666666666666666,
             "#ed7953"
            ],
            [
             0.7777777777777778,
             "#fb9f3a"
            ],
            [
             0.8888888888888888,
             "#fdca26"
            ],
            [
             1,
             "#f0f921"
            ]
           ],
           "sequentialminus": [
            [
             0,
             "#0d0887"
            ],
            [
             0.1111111111111111,
             "#46039f"
            ],
            [
             0.2222222222222222,
             "#7201a8"
            ],
            [
             0.3333333333333333,
             "#9c179e"
            ],
            [
             0.4444444444444444,
             "#bd3786"
            ],
            [
             0.5555555555555556,
             "#d8576b"
            ],
            [
             0.6666666666666666,
             "#ed7953"
            ],
            [
             0.7777777777777778,
             "#fb9f3a"
            ],
            [
             0.8888888888888888,
             "#fdca26"
            ],
            [
             1,
             "#f0f921"
            ]
           ]
          },
          "colorway": [
           "#636efa",
           "#EF553B",
           "#00cc96",
           "#ab63fa",
           "#FFA15A",
           "#19d3f3",
           "#FF6692",
           "#B6E880",
           "#FF97FF",
           "#FECB52"
          ],
          "font": {
           "color": "#2a3f5f"
          },
          "geo": {
           "bgcolor": "white",
           "lakecolor": "white",
           "landcolor": "#E5ECF6",
           "showlakes": true,
           "showland": true,
           "subunitcolor": "white"
          },
          "hoverlabel": {
           "align": "left"
          },
          "hovermode": "closest",
          "mapbox": {
           "style": "light"
          },
          "paper_bgcolor": "white",
          "plot_bgcolor": "#E5ECF6",
          "polar": {
           "angularaxis": {
            "gridcolor": "white",
            "linecolor": "white",
            "ticks": ""
           },
           "bgcolor": "#E5ECF6",
           "radialaxis": {
            "gridcolor": "white",
            "linecolor": "white",
            "ticks": ""
           }
          },
          "scene": {
           "xaxis": {
            "backgroundcolor": "#E5ECF6",
            "gridcolor": "white",
            "gridwidth": 2,
            "linecolor": "white",
            "showbackground": true,
            "ticks": "",
            "zerolinecolor": "white"
           },
           "yaxis": {
            "backgroundcolor": "#E5ECF6",
            "gridcolor": "white",
            "gridwidth": 2,
            "linecolor": "white",
            "showbackground": true,
            "ticks": "",
            "zerolinecolor": "white"
           },
           "zaxis": {
            "backgroundcolor": "#E5ECF6",
            "gridcolor": "white",
            "gridwidth": 2,
            "linecolor": "white",
            "showbackground": true,
            "ticks": "",
            "zerolinecolor": "white"
           }
          },
          "shapedefaults": {
           "line": {
            "color": "#2a3f5f"
           }
          },
          "ternary": {
           "aaxis": {
            "gridcolor": "white",
            "linecolor": "white",
            "ticks": ""
           },
           "baxis": {
            "gridcolor": "white",
            "linecolor": "white",
            "ticks": ""
           },
           "bgcolor": "#E5ECF6",
           "caxis": {
            "gridcolor": "white",
            "linecolor": "white",
            "ticks": ""
           }
          },
          "title": {
           "x": 0.05
          },
          "xaxis": {
           "automargin": true,
           "gridcolor": "white",
           "linecolor": "white",
           "ticks": "",
           "title": {
            "standoff": 15
           },
           "zerolinecolor": "white",
           "zerolinewidth": 2
          },
          "yaxis": {
           "automargin": true,
           "gridcolor": "white",
           "linecolor": "white",
           "ticks": "",
           "title": {
            "standoff": 15
           },
           "zerolinecolor": "white",
           "zerolinewidth": 2
          }
         }
        },
        "title": {
         "font": {
          "size": 20
         },
         "text": "Novos usuários por tipo de consumo",
         "x": 0.5
        },
        "width": 1200,
        "xaxis": {
         "anchor": "y",
         "domain": [
          0,
          1
         ],
         "title": {
          "font": {
           "size": 16
          },
          "text": "Ano"
         }
        },
        "yaxis": {
         "anchor": "x",
         "domain": [
          0,
          1
         ],
         "title": {
          "font": {
           "size": 16
          },
          "text": "Novos usuários"
         }
        }
       }
      }
     },
     "metadata": {},
     "output_type": "display_data"
    },
    {
     "data": {
      "application/vnd.plotly.v1+json": {
       "config": {
        "plotlyServerURL": "https://plot.ly"
       },
       "data": [
        {
         "alignmentgroup": "True",
         "hovertemplate": "SigTipoConsumidor=PF<br>SigUF=AC<br>Ano=%{x}<br>NumCPFCNPJ=%{y}<extra></extra>",
         "legendgroup": "PF",
         "marker": {
          "color": "#636efa",
          "pattern": {
           "shape": ""
          }
         },
         "name": "PF",
         "offsetgroup": "PF",
         "orientation": "v",
         "showlegend": true,
         "textposition": "auto",
         "type": "bar",
         "x": [
          2018,
          2018,
          2018,
          2019,
          2019,
          2019,
          2019,
          2020,
          2020,
          2020,
          2021,
          2021,
          2021,
          2021,
          2021,
          2022,
          2022,
          2022,
          2022,
          2023,
          2023,
          2023
         ],
         "xaxis": "x7",
         "y": [
          3,
          1,
          22,
          22,
          1,
          92,
          6,
          35,
          401,
          16,
          108,
          1,
          2,
          1127,
          63,
          101,
          1,
          1469,
          96,
          20,
          304,
          18
         ],
         "yaxis": "y7"
        },
        {
         "alignmentgroup": "True",
         "hovertemplate": "SigTipoConsumidor=PF<br>SigUF=AL<br>Ano=%{x}<br>NumCPFCNPJ=%{y}<extra></extra>",
         "legendgroup": "PF",
         "marker": {
          "color": "#636efa",
          "pattern": {
           "shape": ""
          }
         },
         "name": "PF",
         "offsetgroup": "PF",
         "orientation": "v",
         "showlegend": false,
         "textposition": "auto",
         "type": "bar",
         "x": [
          2018,
          2018,
          2018,
          2018,
          2019,
          2019,
          2019,
          2019,
          2020,
          2020,
          2020,
          2020,
          2020,
          2021,
          2021,
          2021,
          2021,
          2021,
          2022,
          2022,
          2022,
          2022,
          2022,
          2023,
          2023,
          2023,
          2023,
          2023
         ],
         "xaxis": "x6",
         "y": [
          12,
          1,
          131,
          1,
          68,
          3,
          434,
          10,
          57,
          5,
          16,
          1156,
          38,
          57,
          1,
          12,
          2689,
          64,
          316,
          21,
          12,
          6741,
          160,
          134,
          7,
          2,
          2583,
          79
         ],
         "yaxis": "y6"
        },
        {
         "alignmentgroup": "True",
         "hovertemplate": "SigTipoConsumidor=PF<br>SigUF=AM<br>Ano=%{x}<br>NumCPFCNPJ=%{y}<extra></extra>",
         "legendgroup": "PF",
         "marker": {
          "color": "#636efa",
          "pattern": {
           "shape": ""
          }
         },
         "name": "PF",
         "offsetgroup": "PF",
         "orientation": "v",
         "showlegend": false,
         "textposition": "auto",
         "type": "bar",
         "x": [
          2018,
          2018,
          2018,
          2018,
          2019,
          2019,
          2019,
          2020,
          2020,
          2020,
          2020,
          2020,
          2021,
          2021,
          2021,
          2021,
          2021,
          2022,
          2022,
          2022,
          2022,
          2023,
          2023,
          2023,
          2023,
          2023
         ],
         "xaxis": "x5",
         "y": [
          5,
          1,
          68,
          1,
          13,
          367,
          3,
          53,
          1,
          2,
          711,
          3,
          138,
          9,
          2,
          1239,
          12,
          214,
          6,
          2332,
          13,
          37,
          2,
          1,
          743,
          9
         ],
         "yaxis": "y5"
        },
        {
         "alignmentgroup": "True",
         "hovertemplate": "SigTipoConsumidor=PF<br>SigUF=AP<br>Ano=%{x}<br>NumCPFCNPJ=%{y}<extra></extra>",
         "legendgroup": "PF",
         "marker": {
          "color": "#636efa",
          "pattern": {
           "shape": ""
          }
         },
         "name": "PF",
         "offsetgroup": "PF",
         "orientation": "v",
         "showlegend": false,
         "textposition": "auto",
         "type": "bar",
         "x": [
          2018,
          2019,
          2019,
          2020,
          2020,
          2021,
          2021,
          2021,
          2021,
          2022,
          2022,
          2022,
          2022,
          2023,
          2023,
          2023
         ],
         "xaxis": "x4",
         "y": [
          33,
          10,
          82,
          15,
          113,
          37,
          1,
          410,
          1,
          27,
          4,
          832,
          1,
          1,
          1,
          579
         ],
         "yaxis": "y4"
        },
        {
         "alignmentgroup": "True",
         "hovertemplate": "SigTipoConsumidor=PF<br>SigUF=BA<br>Ano=%{x}<br>NumCPFCNPJ=%{y}<extra></extra>",
         "legendgroup": "PF",
         "marker": {
          "color": "#636efa",
          "pattern": {
           "shape": ""
          }
         },
         "name": "PF",
         "offsetgroup": "PF",
         "orientation": "v",
         "showlegend": false,
         "textposition": "auto",
         "type": "bar",
         "x": [
          2018,
          2018,
          2018,
          2018,
          2019,
          2021,
          2022
         ],
         "xaxis": "x3",
         "y": [
          7,
          1,
          55,
          4,
          3,
          1,
          2
         ],
         "yaxis": "y3"
        },
        {
         "alignmentgroup": "True",
         "hovertemplate": "SigTipoConsumidor=PF<br>SigUF=PA<br>Ano=%{x}<br>NumCPFCNPJ=%{y}<extra></extra>",
         "legendgroup": "PF",
         "marker": {
          "color": "#636efa",
          "pattern": {
           "shape": ""
          }
         },
         "name": "PF",
         "offsetgroup": "PF",
         "orientation": "v",
         "showlegend": false,
         "textposition": "auto",
         "type": "bar",
         "x": [
          2023
         ],
         "xaxis": "x2",
         "y": [
          2
         ],
         "yaxis": "y2"
        },
        {
         "alignmentgroup": "True",
         "hovertemplate": "SigTipoConsumidor=PF<br>SigUF=SP<br>Ano=%{x}<br>NumCPFCNPJ=%{y}<extra></extra>",
         "legendgroup": "PF",
         "marker": {
          "color": "#636efa",
          "pattern": {
           "shape": ""
          }
         },
         "name": "PF",
         "offsetgroup": "PF",
         "orientation": "v",
         "showlegend": false,
         "textposition": "auto",
         "type": "bar",
         "x": [
          2023
         ],
         "xaxis": "x",
         "y": [
          1
         ],
         "yaxis": "y"
        },
        {
         "alignmentgroup": "True",
         "hovertemplate": "SigTipoConsumidor=PJ<br>SigUF=AC<br>Ano=%{x}<br>NumCPFCNPJ=%{y}<extra></extra>",
         "legendgroup": "PJ",
         "marker": {
          "color": "#EF553B",
          "pattern": {
           "shape": ""
          }
         },
         "name": "PJ",
         "offsetgroup": "PJ",
         "orientation": "v",
         "showlegend": true,
         "textposition": "auto",
         "type": "bar",
         "x": [
          2018,
          2019,
          2019,
          2019,
          2020,
          2020,
          2020,
          2020,
          2020,
          2021,
          2021,
          2021,
          2021,
          2021,
          2022,
          2022,
          2022,
          2022,
          2022,
          2023,
          2023,
          2023,
          2023
         ],
         "xaxis": "x7",
         "y": [
          5,
          9,
          1,
          1,
          38,
          3,
          9,
          1,
          1,
          85,
          4,
          2,
          16,
          1,
          88,
          5,
          4,
          30,
          3,
          24,
          1,
          6,
          2
         ],
         "yaxis": "y7"
        },
        {
         "alignmentgroup": "True",
         "hovertemplate": "SigTipoConsumidor=PJ<br>SigUF=AL<br>Ano=%{x}<br>NumCPFCNPJ=%{y}<extra></extra>",
         "legendgroup": "PJ",
         "marker": {
          "color": "#EF553B",
          "pattern": {
           "shape": ""
          }
         },
         "name": "PJ",
         "offsetgroup": "PJ",
         "orientation": "v",
         "showlegend": false,
         "textposition": "auto",
         "type": "bar",
         "x": [
          2018,
          2018,
          2018,
          2019,
          2019,
          2019,
          2019,
          2019,
          2020,
          2020,
          2020,
          2020,
          2020,
          2021,
          2021,
          2021,
          2021,
          2021,
          2021,
          2022,
          2022,
          2022,
          2022,
          2022,
          2023,
          2023,
          2023,
          2023,
          2023
         ],
         "xaxis": "x6",
         "y": [
          23,
          3,
          2,
          86,
          7,
          2,
          5,
          2,
          280,
          13,
          7,
          33,
          7,
          558,
          23,
          6,
          80,
          4,
          2,
          685,
          33,
          2,
          171,
          11,
          173,
          8,
          2,
          91,
          7
         ],
         "yaxis": "y6"
        },
        {
         "alignmentgroup": "True",
         "hovertemplate": "SigTipoConsumidor=PJ<br>SigUF=AM<br>Ano=%{x}<br>NumCPFCNPJ=%{y}<extra></extra>",
         "legendgroup": "PJ",
         "marker": {
          "color": "#EF553B",
          "pattern": {
           "shape": ""
          }
         },
         "name": "PJ",
         "offsetgroup": "PJ",
         "orientation": "v",
         "showlegend": false,
         "textposition": "auto",
         "type": "bar",
         "x": [
          2018,
          2018,
          2019,
          2019,
          2019,
          2019,
          2020,
          2020,
          2020,
          2020,
          2020,
          2021,
          2021,
          2021,
          2021,
          2021,
          2022,
          2022,
          2022,
          2022,
          2022,
          2023,
          2023,
          2023,
          2023
         ],
         "xaxis": "x5",
         "y": [
          5,
          1,
          33,
          3,
          1,
          8,
          78,
          9,
          2,
          20,
          1,
          128,
          11,
          3,
          38,
          2,
          189,
          21,
          4,
          74,
          2,
          47,
          5,
          18,
          1
         ],
         "yaxis": "y5"
        },
        {
         "alignmentgroup": "True",
         "hovertemplate": "SigTipoConsumidor=PJ<br>SigUF=AP<br>Ano=%{x}<br>NumCPFCNPJ=%{y}<extra></extra>",
         "legendgroup": "PJ",
         "marker": {
          "color": "#EF553B",
          "pattern": {
           "shape": ""
          }
         },
         "name": "PJ",
         "offsetgroup": "PJ",
         "orientation": "v",
         "showlegend": false,
         "textposition": "auto",
         "type": "bar",
         "x": [
          2018,
          2018,
          2019,
          2019,
          2019,
          2019,
          2020,
          2020,
          2020,
          2021,
          2021,
          2021,
          2021,
          2022,
          2022,
          2022,
          2022,
          2023,
          2023
         ],
         "xaxis": "x4",
         "y": [
          1,
          2,
          11,
          2,
          2,
          1,
          13,
          2,
          2,
          22,
          2,
          2,
          2,
          35,
          1,
          1,
          7,
          17,
          8
         ],
         "yaxis": "y4"
        },
        {
         "alignmentgroup": "True",
         "hovertemplate": "SigTipoConsumidor=PJ<br>SigUF=BA<br>Ano=%{x}<br>NumCPFCNPJ=%{y}<extra></extra>",
         "legendgroup": "PJ",
         "marker": {
          "color": "#EF553B",
          "pattern": {
           "shape": ""
          }
         },
         "name": "PJ",
         "offsetgroup": "PJ",
         "orientation": "v",
         "showlegend": false,
         "textposition": "auto",
         "type": "bar",
         "x": [
          2018,
          2018,
          2018,
          2018,
          2019,
          2020,
          2021,
          2022,
          2023
         ],
         "xaxis": "x3",
         "y": [
          13,
          3,
          5,
          2,
          1,
          1,
          2,
          1,
          1
         ],
         "yaxis": "y3"
        }
       ],
       "layout": {
        "annotations": [
         {
          "font": {},
          "showarrow": false,
          "text": "SigUF=SP",
          "textangle": 90,
          "x": 0.98,
          "xanchor": "left",
          "xref": "paper",
          "y": 0.05857142857142857,
          "yanchor": "middle",
          "yref": "paper"
         },
         {
          "font": {},
          "showarrow": false,
          "text": "SigUF=PA",
          "textangle": 90,
          "x": 0.98,
          "xanchor": "left",
          "xref": "paper",
          "y": 0.2057142857142857,
          "yanchor": "middle",
          "yref": "paper"
         },
         {
          "font": {},
          "showarrow": false,
          "text": "SigUF=BA",
          "textangle": 90,
          "x": 0.98,
          "xanchor": "left",
          "xref": "paper",
          "y": 0.35285714285714287,
          "yanchor": "middle",
          "yref": "paper"
         },
         {
          "font": {},
          "showarrow": false,
          "text": "SigUF=AP",
          "textangle": 90,
          "x": 0.98,
          "xanchor": "left",
          "xref": "paper",
          "y": 0.49999999999999994,
          "yanchor": "middle",
          "yref": "paper"
         },
         {
          "font": {},
          "showarrow": false,
          "text": "SigUF=AM",
          "textangle": 90,
          "x": 0.98,
          "xanchor": "left",
          "xref": "paper",
          "y": 0.647142857142857,
          "yanchor": "middle",
          "yref": "paper"
         },
         {
          "font": {},
          "showarrow": false,
          "text": "SigUF=AL",
          "textangle": 90,
          "x": 0.98,
          "xanchor": "left",
          "xref": "paper",
          "y": 0.7942857142857143,
          "yanchor": "middle",
          "yref": "paper"
         },
         {
          "font": {},
          "showarrow": false,
          "text": "SigUF=AC",
          "textangle": 90,
          "x": 0.98,
          "xanchor": "left",
          "xref": "paper",
          "y": 0.9414285714285713,
          "yanchor": "middle",
          "yref": "paper"
         }
        ],
        "barmode": "group",
        "height": 600,
        "legend": {
         "title": {
          "text": "SigTipoConsumidor"
         },
         "tracegroupgap": 0
        },
        "margin": {
         "t": 60
        },
        "template": {
         "data": {
          "bar": [
           {
            "error_x": {
             "color": "#2a3f5f"
            },
            "error_y": {
             "color": "#2a3f5f"
            },
            "marker": {
             "line": {
              "color": "#E5ECF6",
              "width": 0.5
             },
             "pattern": {
              "fillmode": "overlay",
              "size": 10,
              "solidity": 0.2
             }
            },
            "type": "bar"
           }
          ],
          "barpolar": [
           {
            "marker": {
             "line": {
              "color": "#E5ECF6",
              "width": 0.5
             },
             "pattern": {
              "fillmode": "overlay",
              "size": 10,
              "solidity": 0.2
             }
            },
            "type": "barpolar"
           }
          ],
          "carpet": [
           {
            "aaxis": {
             "endlinecolor": "#2a3f5f",
             "gridcolor": "white",
             "linecolor": "white",
             "minorgridcolor": "white",
             "startlinecolor": "#2a3f5f"
            },
            "baxis": {
             "endlinecolor": "#2a3f5f",
             "gridcolor": "white",
             "linecolor": "white",
             "minorgridcolor": "white",
             "startlinecolor": "#2a3f5f"
            },
            "type": "carpet"
           }
          ],
          "choropleth": [
           {
            "colorbar": {
             "outlinewidth": 0,
             "ticks": ""
            },
            "type": "choropleth"
           }
          ],
          "contour": [
           {
            "colorbar": {
             "outlinewidth": 0,
             "ticks": ""
            },
            "colorscale": [
             [
              0,
              "#0d0887"
             ],
             [
              0.1111111111111111,
              "#46039f"
             ],
             [
              0.2222222222222222,
              "#7201a8"
             ],
             [
              0.3333333333333333,
              "#9c179e"
             ],
             [
              0.4444444444444444,
              "#bd3786"
             ],
             [
              0.5555555555555556,
              "#d8576b"
             ],
             [
              0.6666666666666666,
              "#ed7953"
             ],
             [
              0.7777777777777778,
              "#fb9f3a"
             ],
             [
              0.8888888888888888,
              "#fdca26"
             ],
             [
              1,
              "#f0f921"
             ]
            ],
            "type": "contour"
           }
          ],
          "contourcarpet": [
           {
            "colorbar": {
             "outlinewidth": 0,
             "ticks": ""
            },
            "type": "contourcarpet"
           }
          ],
          "heatmap": [
           {
            "colorbar": {
             "outlinewidth": 0,
             "ticks": ""
            },
            "colorscale": [
             [
              0,
              "#0d0887"
             ],
             [
              0.1111111111111111,
              "#46039f"
             ],
             [
              0.2222222222222222,
              "#7201a8"
             ],
             [
              0.3333333333333333,
              "#9c179e"
             ],
             [
              0.4444444444444444,
              "#bd3786"
             ],
             [
              0.5555555555555556,
              "#d8576b"
             ],
             [
              0.6666666666666666,
              "#ed7953"
             ],
             [
              0.7777777777777778,
              "#fb9f3a"
             ],
             [
              0.8888888888888888,
              "#fdca26"
             ],
             [
              1,
              "#f0f921"
             ]
            ],
            "type": "heatmap"
           }
          ],
          "heatmapgl": [
           {
            "colorbar": {
             "outlinewidth": 0,
             "ticks": ""
            },
            "colorscale": [
             [
              0,
              "#0d0887"
             ],
             [
              0.1111111111111111,
              "#46039f"
             ],
             [
              0.2222222222222222,
              "#7201a8"
             ],
             [
              0.3333333333333333,
              "#9c179e"
             ],
             [
              0.4444444444444444,
              "#bd3786"
             ],
             [
              0.5555555555555556,
              "#d8576b"
             ],
             [
              0.6666666666666666,
              "#ed7953"
             ],
             [
              0.7777777777777778,
              "#fb9f3a"
             ],
             [
              0.8888888888888888,
              "#fdca26"
             ],
             [
              1,
              "#f0f921"
             ]
            ],
            "type": "heatmapgl"
           }
          ],
          "histogram": [
           {
            "marker": {
             "pattern": {
              "fillmode": "overlay",
              "size": 10,
              "solidity": 0.2
             }
            },
            "type": "histogram"
           }
          ],
          "histogram2d": [
           {
            "colorbar": {
             "outlinewidth": 0,
             "ticks": ""
            },
            "colorscale": [
             [
              0,
              "#0d0887"
             ],
             [
              0.1111111111111111,
              "#46039f"
             ],
             [
              0.2222222222222222,
              "#7201a8"
             ],
             [
              0.3333333333333333,
              "#9c179e"
             ],
             [
              0.4444444444444444,
              "#bd3786"
             ],
             [
              0.5555555555555556,
              "#d8576b"
             ],
             [
              0.6666666666666666,
              "#ed7953"
             ],
             [
              0.7777777777777778,
              "#fb9f3a"
             ],
             [
              0.8888888888888888,
              "#fdca26"
             ],
             [
              1,
              "#f0f921"
             ]
            ],
            "type": "histogram2d"
           }
          ],
          "histogram2dcontour": [
           {
            "colorbar": {
             "outlinewidth": 0,
             "ticks": ""
            },
            "colorscale": [
             [
              0,
              "#0d0887"
             ],
             [
              0.1111111111111111,
              "#46039f"
             ],
             [
              0.2222222222222222,
              "#7201a8"
             ],
             [
              0.3333333333333333,
              "#9c179e"
             ],
             [
              0.4444444444444444,
              "#bd3786"
             ],
             [
              0.5555555555555556,
              "#d8576b"
             ],
             [
              0.6666666666666666,
              "#ed7953"
             ],
             [
              0.7777777777777778,
              "#fb9f3a"
             ],
             [
              0.8888888888888888,
              "#fdca26"
             ],
             [
              1,
              "#f0f921"
             ]
            ],
            "type": "histogram2dcontour"
           }
          ],
          "mesh3d": [
           {
            "colorbar": {
             "outlinewidth": 0,
             "ticks": ""
            },
            "type": "mesh3d"
           }
          ],
          "parcoords": [
           {
            "line": {
             "colorbar": {
              "outlinewidth": 0,
              "ticks": ""
             }
            },
            "type": "parcoords"
           }
          ],
          "pie": [
           {
            "automargin": true,
            "type": "pie"
           }
          ],
          "scatter": [
           {
            "fillpattern": {
             "fillmode": "overlay",
             "size": 10,
             "solidity": 0.2
            },
            "type": "scatter"
           }
          ],
          "scatter3d": [
           {
            "line": {
             "colorbar": {
              "outlinewidth": 0,
              "ticks": ""
             }
            },
            "marker": {
             "colorbar": {
              "outlinewidth": 0,
              "ticks": ""
             }
            },
            "type": "scatter3d"
           }
          ],
          "scattercarpet": [
           {
            "marker": {
             "colorbar": {
              "outlinewidth": 0,
              "ticks": ""
             }
            },
            "type": "scattercarpet"
           }
          ],
          "scattergeo": [
           {
            "marker": {
             "colorbar": {
              "outlinewidth": 0,
              "ticks": ""
             }
            },
            "type": "scattergeo"
           }
          ],
          "scattergl": [
           {
            "marker": {
             "colorbar": {
              "outlinewidth": 0,
              "ticks": ""
             }
            },
            "type": "scattergl"
           }
          ],
          "scattermapbox": [
           {
            "marker": {
             "colorbar": {
              "outlinewidth": 0,
              "ticks": ""
             }
            },
            "type": "scattermapbox"
           }
          ],
          "scatterpolar": [
           {
            "marker": {
             "colorbar": {
              "outlinewidth": 0,
              "ticks": ""
             }
            },
            "type": "scatterpolar"
           }
          ],
          "scatterpolargl": [
           {
            "marker": {
             "colorbar": {
              "outlinewidth": 0,
              "ticks": ""
             }
            },
            "type": "scatterpolargl"
           }
          ],
          "scatterternary": [
           {
            "marker": {
             "colorbar": {
              "outlinewidth": 0,
              "ticks": ""
             }
            },
            "type": "scatterternary"
           }
          ],
          "surface": [
           {
            "colorbar": {
             "outlinewidth": 0,
             "ticks": ""
            },
            "colorscale": [
             [
              0,
              "#0d0887"
             ],
             [
              0.1111111111111111,
              "#46039f"
             ],
             [
              0.2222222222222222,
              "#7201a8"
             ],
             [
              0.3333333333333333,
              "#9c179e"
             ],
             [
              0.4444444444444444,
              "#bd3786"
             ],
             [
              0.5555555555555556,
              "#d8576b"
             ],
             [
              0.6666666666666666,
              "#ed7953"
             ],
             [
              0.7777777777777778,
              "#fb9f3a"
             ],
             [
              0.8888888888888888,
              "#fdca26"
             ],
             [
              1,
              "#f0f921"
             ]
            ],
            "type": "surface"
           }
          ],
          "table": [
           {
            "cells": {
             "fill": {
              "color": "#EBF0F8"
             },
             "line": {
              "color": "white"
             }
            },
            "header": {
             "fill": {
              "color": "#C8D4E3"
             },
             "line": {
              "color": "white"
             }
            },
            "type": "table"
           }
          ]
         },
         "layout": {
          "annotationdefaults": {
           "arrowcolor": "#2a3f5f",
           "arrowhead": 0,
           "arrowwidth": 1
          },
          "autotypenumbers": "strict",
          "coloraxis": {
           "colorbar": {
            "outlinewidth": 0,
            "ticks": ""
           }
          },
          "colorscale": {
           "diverging": [
            [
             0,
             "#8e0152"
            ],
            [
             0.1,
             "#c51b7d"
            ],
            [
             0.2,
             "#de77ae"
            ],
            [
             0.3,
             "#f1b6da"
            ],
            [
             0.4,
             "#fde0ef"
            ],
            [
             0.5,
             "#f7f7f7"
            ],
            [
             0.6,
             "#e6f5d0"
            ],
            [
             0.7,
             "#b8e186"
            ],
            [
             0.8,
             "#7fbc41"
            ],
            [
             0.9,
             "#4d9221"
            ],
            [
             1,
             "#276419"
            ]
           ],
           "sequential": [
            [
             0,
             "#0d0887"
            ],
            [
             0.1111111111111111,
             "#46039f"
            ],
            [
             0.2222222222222222,
             "#7201a8"
            ],
            [
             0.3333333333333333,
             "#9c179e"
            ],
            [
             0.4444444444444444,
             "#bd3786"
            ],
            [
             0.5555555555555556,
             "#d8576b"
            ],
            [
             0.6666666666666666,
             "#ed7953"
            ],
            [
             0.7777777777777778,
             "#fb9f3a"
            ],
            [
             0.8888888888888888,
             "#fdca26"
            ],
            [
             1,
             "#f0f921"
            ]
           ],
           "sequentialminus": [
            [
             0,
             "#0d0887"
            ],
            [
             0.1111111111111111,
             "#46039f"
            ],
            [
             0.2222222222222222,
             "#7201a8"
            ],
            [
             0.3333333333333333,
             "#9c179e"
            ],
            [
             0.4444444444444444,
             "#bd3786"
            ],
            [
             0.5555555555555556,
             "#d8576b"
            ],
            [
             0.6666666666666666,
             "#ed7953"
            ],
            [
             0.7777777777777778,
             "#fb9f3a"
            ],
            [
             0.8888888888888888,
             "#fdca26"
            ],
            [
             1,
             "#f0f921"
            ]
           ]
          },
          "colorway": [
           "#636efa",
           "#EF553B",
           "#00cc96",
           "#ab63fa",
           "#FFA15A",
           "#19d3f3",
           "#FF6692",
           "#B6E880",
           "#FF97FF",
           "#FECB52"
          ],
          "font": {
           "color": "#2a3f5f"
          },
          "geo": {
           "bgcolor": "white",
           "lakecolor": "white",
           "landcolor": "#E5ECF6",
           "showlakes": true,
           "showland": true,
           "subunitcolor": "white"
          },
          "hoverlabel": {
           "align": "left"
          },
          "hovermode": "closest",
          "mapbox": {
           "style": "light"
          },
          "paper_bgcolor": "white",
          "plot_bgcolor": "#E5ECF6",
          "polar": {
           "angularaxis": {
            "gridcolor": "white",
            "linecolor": "white",
            "ticks": ""
           },
           "bgcolor": "#E5ECF6",
           "radialaxis": {
            "gridcolor": "white",
            "linecolor": "white",
            "ticks": ""
           }
          },
          "scene": {
           "xaxis": {
            "backgroundcolor": "#E5ECF6",
            "gridcolor": "white",
            "gridwidth": 2,
            "linecolor": "white",
            "showbackground": true,
            "ticks": "",
            "zerolinecolor": "white"
           },
           "yaxis": {
            "backgroundcolor": "#E5ECF6",
            "gridcolor": "white",
            "gridwidth": 2,
            "linecolor": "white",
            "showbackground": true,
            "ticks": "",
            "zerolinecolor": "white"
           },
           "zaxis": {
            "backgroundcolor": "#E5ECF6",
            "gridcolor": "white",
            "gridwidth": 2,
            "linecolor": "white",
            "showbackground": true,
            "ticks": "",
            "zerolinecolor": "white"
           }
          },
          "shapedefaults": {
           "line": {
            "color": "#2a3f5f"
           }
          },
          "ternary": {
           "aaxis": {
            "gridcolor": "white",
            "linecolor": "white",
            "ticks": ""
           },
           "baxis": {
            "gridcolor": "white",
            "linecolor": "white",
            "ticks": ""
           },
           "bgcolor": "#E5ECF6",
           "caxis": {
            "gridcolor": "white",
            "linecolor": "white",
            "ticks": ""
           }
          },
          "title": {
           "x": 0.05
          },
          "xaxis": {
           "automargin": true,
           "gridcolor": "white",
           "linecolor": "white",
           "ticks": "",
           "title": {
            "standoff": 15
           },
           "zerolinecolor": "white",
           "zerolinewidth": 2
          },
          "yaxis": {
           "automargin": true,
           "gridcolor": "white",
           "linecolor": "white",
           "ticks": "",
           "title": {
            "standoff": 15
           },
           "zerolinecolor": "white",
           "zerolinewidth": 2
          }
         }
        },
        "title": {
         "text": "Novos usuários",
         "x": 0.5,
         "xanchor": "center",
         "y": 0.95,
         "yanchor": "top"
        },
        "width": 800,
        "xaxis": {
         "anchor": "y",
         "domain": [
          0,
          0.98
         ],
         "title": {
          "text": "Ano"
         }
        },
        "xaxis2": {
         "anchor": "y2",
         "domain": [
          0,
          0.98
         ],
         "matches": "x",
         "showticklabels": false
        },
        "xaxis3": {
         "anchor": "y3",
         "domain": [
          0,
          0.98
         ],
         "matches": "x",
         "showticklabels": false
        },
        "xaxis4": {
         "anchor": "y4",
         "domain": [
          0,
          0.98
         ],
         "matches": "x",
         "showticklabels": false
        },
        "xaxis5": {
         "anchor": "y5",
         "domain": [
          0,
          0.98
         ],
         "matches": "x",
         "showticklabels": false
        },
        "xaxis6": {
         "anchor": "y6",
         "domain": [
          0,
          0.98
         ],
         "matches": "x",
         "showticklabels": false
        },
        "xaxis7": {
         "anchor": "y7",
         "domain": [
          0,
          0.98
         ],
         "matches": "x",
         "showticklabels": false
        },
        "yaxis": {
         "anchor": "x",
         "domain": [
          0,
          0.11714285714285715
         ],
         "title": {
          "text": "NumCPFCNPJ"
         }
        },
        "yaxis2": {
         "anchor": "x2",
         "domain": [
          0.14714285714285713,
          0.2642857142857143
         ],
         "matches": "y",
         "title": {
          "text": "NumCPFCNPJ"
         }
        },
        "yaxis3": {
         "anchor": "x3",
         "domain": [
          0.29428571428571426,
          0.4114285714285714
         ],
         "matches": "y",
         "title": {
          "text": "NumCPFCNPJ"
         }
        },
        "yaxis4": {
         "anchor": "x4",
         "domain": [
          0.4414285714285714,
          0.5585714285714285
         ],
         "matches": "y",
         "title": {
          "text": "NumCPFCNPJ"
         }
        },
        "yaxis5": {
         "anchor": "x5",
         "domain": [
          0.5885714285714285,
          0.7057142857142856
         ],
         "matches": "y",
         "title": {
          "text": "NumCPFCNPJ"
         }
        },
        "yaxis6": {
         "anchor": "x6",
         "domain": [
          0.7357142857142858,
          0.8528571428571429
         ],
         "matches": "y",
         "title": {
          "text": "NumCPFCNPJ"
         }
        },
        "yaxis7": {
         "anchor": "x7",
         "domain": [
          0.8828571428571428,
          0.9999999999999999
         ],
         "matches": "y",
         "title": {
          "text": "NumCPFCNPJ"
         }
        }
       }
      }
     },
     "metadata": {},
     "output_type": "display_data"
    }
   ],
   "source": [
    "\n",
    "# agrupa os dados\n",
    "counts = df_clean.groupby(['Ano', 'SigUF','SigTipoConsumidor', 'DscClasseConsumo']).agg({'NumCPFCNPJ': 'nunique'}).reset_index()\n",
    "# ERRADO - tx_anual_tipo = counts.groupby(['NumCPFCNPJ', 'SigTipoConsumidor'])['Ano'].apply(lambda x: x.pct_change().mean())\n",
    "# ERRADO - tx_anual_classe = counts.groupby(['NumCPFCNPJ', 'DscClasseConsumo'])['Ano'].apply(lambda x: x.pct_change().mean())\n",
    "\n",
    "\n",
    "# seria bom adicionar uma linha com a taxa de crescimento anual por Tipo de Consumidor\n",
    "def grafico_novos_usuarios_tipo(counts):\n",
    "    counts_filtered = counts.query('Ano >= 2018')\n",
    "    fig_novos_tipo = px.bar(counts_filtered, x=\"Ano\", y=\"NumCPFCNPJ\", color='SigTipoConsumidor')\n",
    "    fig_novos_tipo.update_layout(\n",
    "        width=1200,\n",
    "        height=600,\n",
    "        xaxis_title='Ano',\n",
    "        xaxis_title_font_size=16,\n",
    "        yaxis_title='Novos usuários',\n",
    "        yaxis_title_font_size=16,\n",
    "        title='Novos usuários por tipo de consumo',\n",
    "        title_font_size=20,\n",
    "        title_x=.5\n",
    "    )\n",
    "    fig_novos_tipo.show()\n",
    "grafico_novos_usuarios_tipo(counts)\n",
    "#grafico_novos_usuarios_tipo(counts)\n",
    "\n",
    "\n",
    "# Tornar a o eixo y variável pelo max de cada UF\n",
    "def grafico_novos_usuarios_tipo_UF(counts):\n",
    "    counts_filtered = counts.query('Ano >= 2018')\n",
    "    fig_novos_tipo_uf = px.bar(counts_filtered, x=\"Ano\", y=\"NumCPFCNPJ\", color='SigTipoConsumidor',barmode=\"group\", facet_row=\"SigUF\")\n",
    "    fig_novos_tipo_uf.update_layout(\n",
    "        width=800,\n",
    "        height=600,\n",
    "        title={\n",
    "        'text': \"Novos usuários\",\n",
    "        'y':0.95,\n",
    "        'x':0.5,\n",
    "        'xanchor': 'center',\n",
    "        'yanchor': 'top'}\n",
    "        )\n",
    "\n",
    "    fig_novos_tipo_uf.show()\n",
    "grafico_novos_usuarios_tipo_UF(counts)\n"
   ]
  },
  {
   "cell_type": "code",
   "execution_count": 7,
   "id": "aacdd84a",
   "metadata": {},
   "outputs": [
    {
     "data": {
      "application/vnd.plotly.v1+json": {
       "config": {
        "plotlyServerURL": "https://plot.ly"
       },
       "data": [
        {
         "alignmentgroup": "True",
         "hovertemplate": "DscClasseConsumo=Comercial<br>Ano=%{x}<br>NumCPFCNPJ=%{y}<extra></extra>",
         "legendgroup": "Comercial",
         "marker": {
          "color": "#636efa",
          "pattern": {
           "shape": ""
          }
         },
         "name": "Comercial",
         "offsetgroup": "Comercial",
         "orientation": "v",
         "showlegend": true,
         "textposition": "auto",
         "type": "bar",
         "x": [
          2018,
          2018,
          2018,
          2018,
          2018,
          2018,
          2018,
          2019,
          2019,
          2019,
          2019,
          2019,
          2019,
          2019,
          2019,
          2020,
          2020,
          2020,
          2020,
          2020,
          2020,
          2020,
          2020,
          2021,
          2021,
          2021,
          2021,
          2021,
          2021,
          2021,
          2021,
          2022,
          2022,
          2022,
          2022,
          2022,
          2022,
          2022,
          2022,
          2023,
          2023,
          2023,
          2023,
          2023,
          2023,
          2023,
          2023
         ],
         "xaxis": "x",
         "y": [
          3,
          5,
          13,
          23,
          5,
          5,
          1,
          22,
          9,
          68,
          86,
          13,
          33,
          10,
          11,
          35,
          38,
          57,
          280,
          53,
          78,
          15,
          13,
          108,
          85,
          57,
          558,
          138,
          128,
          37,
          22,
          101,
          88,
          316,
          685,
          214,
          189,
          27,
          35,
          20,
          24,
          131,
          171,
          37,
          47,
          1,
          17
         ],
         "yaxis": "y"
        },
        {
         "alignmentgroup": "True",
         "hovertemplate": "DscClasseConsumo=Industrial<br>Ano=%{x}<br>NumCPFCNPJ=%{y}<extra></extra>",
         "legendgroup": "Industrial",
         "marker": {
          "color": "#EF553B",
          "pattern": {
           "shape": ""
          }
         },
         "name": "Industrial",
         "offsetgroup": "Industrial",
         "orientation": "v",
         "showlegend": true,
         "textposition": "auto",
         "type": "bar",
         "x": [
          2018,
          2018,
          2018,
          2018,
          2019,
          2019,
          2019,
          2019,
          2020,
          2020,
          2020,
          2020,
          2020,
          2021,
          2021,
          2021,
          2021,
          2021,
          2021,
          2021,
          2022,
          2022,
          2022,
          2022,
          2022,
          2022,
          2022,
          2023,
          2023,
          2023,
          2023,
          2023
         ],
         "xaxis": "x",
         "y": [
          1,
          1,
          3,
          1,
          1,
          3,
          7,
          3,
          3,
          5,
          13,
          1,
          9,
          1,
          4,
          1,
          23,
          9,
          11,
          2,
          1,
          5,
          21,
          33,
          6,
          21,
          1,
          1,
          6,
          8,
          2,
          5
         ],
         "yaxis": "y"
        },
        {
         "alignmentgroup": "True",
         "hovertemplate": "DscClasseConsumo=Residencial<br>Ano=%{x}<br>NumCPFCNPJ=%{y}<extra></extra>",
         "legendgroup": "Residencial",
         "marker": {
          "color": "#00cc96",
          "pattern": {
           "shape": ""
          }
         },
         "name": "Residencial",
         "offsetgroup": "Residencial",
         "orientation": "v",
         "showlegend": true,
         "textposition": "auto",
         "type": "bar",
         "x": [
          2018,
          2018,
          2018,
          2018,
          2018,
          2018,
          2019,
          2019,
          2019,
          2019,
          2019,
          2019,
          2019,
          2019,
          2020,
          2020,
          2020,
          2020,
          2020,
          2020,
          2020,
          2020,
          2021,
          2021,
          2021,
          2021,
          2021,
          2021,
          2021,
          2021,
          2022,
          2022,
          2022,
          2022,
          2022,
          2022,
          2022,
          2022,
          2023,
          2023,
          2023,
          2023,
          2023,
          2023,
          2023,
          2023
         ],
         "xaxis": "x",
         "y": [
          22,
          131,
          2,
          68,
          33,
          2,
          92,
          1,
          434,
          5,
          367,
          8,
          82,
          2,
          401,
          9,
          1157,
          33,
          711,
          20,
          113,
          2,
          1127,
          16,
          2689,
          80,
          1239,
          38,
          410,
          2,
          1469,
          30,
          6741,
          171,
          2332,
          74,
          832,
          7,
          304,
          6,
          2545,
          90,
          743,
          18,
          577,
          7
         ],
         "yaxis": "y"
        },
        {
         "alignmentgroup": "True",
         "hovertemplate": "DscClasseConsumo=Rural<br>Ano=%{x}<br>NumCPFCNPJ=%{y}<extra></extra>",
         "legendgroup": "Rural",
         "marker": {
          "color": "#ab63fa",
          "pattern": {
           "shape": ""
          }
         },
         "name": "Rural",
         "offsetgroup": "Rural",
         "orientation": "v",
         "showlegend": true,
         "textposition": "auto",
         "type": "bar",
         "x": [
          2018,
          2018,
          2019,
          2019,
          2019,
          2019,
          2020,
          2020,
          2020,
          2020,
          2020,
          2020,
          2021,
          2021,
          2021,
          2021,
          2021,
          2021,
          2021,
          2022,
          2022,
          2022,
          2022,
          2022,
          2022,
          2022,
          2023,
          2023,
          2023,
          2023,
          2023,
          2023
         ],
         "xaxis": "x",
         "y": [
          1,
          1,
          6,
          10,
          2,
          3,
          16,
          1,
          38,
          7,
          3,
          1,
          63,
          1,
          64,
          4,
          12,
          2,
          1,
          96,
          3,
          160,
          11,
          13,
          2,
          1,
          18,
          2,
          77,
          7,
          9,
          1
         ],
         "yaxis": "y"
        },
        {
         "alignmentgroup": "True",
         "hovertemplate": "DscClasseConsumo=Poder Público<br>Ano=%{x}<br>NumCPFCNPJ=%{y}<extra></extra>",
         "legendgroup": "Poder Público",
         "marker": {
          "color": "#FFA15A",
          "pattern": {
           "shape": ""
          }
         },
         "name": "Poder Público",
         "offsetgroup": "Poder Público",
         "orientation": "v",
         "showlegend": true,
         "textposition": "auto",
         "type": "bar",
         "x": [
          2018,
          2019,
          2019,
          2019,
          2019,
          2020,
          2020,
          2020,
          2020,
          2020,
          2021,
          2021,
          2021,
          2021,
          2021,
          2021,
          2021,
          2021,
          2022,
          2022,
          2022,
          2022,
          2022,
          2022,
          2023,
          2023,
          2023,
          2023
         ],
         "xaxis": "x",
         "y": [
          1,
          1,
          2,
          1,
          2,
          16,
          7,
          2,
          2,
          2,
          2,
          2,
          12,
          6,
          2,
          3,
          1,
          2,
          4,
          12,
          2,
          4,
          4,
          1,
          2,
          2,
          1,
          1
         ],
         "yaxis": "y"
        },
        {
         "alignmentgroup": "True",
         "hovertemplate": "DscClasseConsumo=Serviço Público<br>Ano=%{x}<br>NumCPFCNPJ=%{y}<extra></extra>",
         "legendgroup": "Serviço Público",
         "marker": {
          "color": "#19d3f3",
          "pattern": {
           "shape": ""
          }
         },
         "name": "Serviço Público",
         "offsetgroup": "Serviço Público",
         "orientation": "v",
         "showlegend": true,
         "textposition": "auto",
         "type": "bar",
         "x": [
          2019,
          2020,
          2021
         ],
         "xaxis": "x",
         "y": [
          1,
          1,
          2
         ],
         "yaxis": "y"
        }
       ],
       "layout": {
        "barmode": "relative",
        "height": 600,
        "legend": {
         "title": {
          "text": "DscClasseConsumo"
         },
         "tracegroupgap": 0
        },
        "margin": {
         "t": 60
        },
        "template": {
         "data": {
          "bar": [
           {
            "error_x": {
             "color": "#2a3f5f"
            },
            "error_y": {
             "color": "#2a3f5f"
            },
            "marker": {
             "line": {
              "color": "#E5ECF6",
              "width": 0.5
             },
             "pattern": {
              "fillmode": "overlay",
              "size": 10,
              "solidity": 0.2
             }
            },
            "type": "bar"
           }
          ],
          "barpolar": [
           {
            "marker": {
             "line": {
              "color": "#E5ECF6",
              "width": 0.5
             },
             "pattern": {
              "fillmode": "overlay",
              "size": 10,
              "solidity": 0.2
             }
            },
            "type": "barpolar"
           }
          ],
          "carpet": [
           {
            "aaxis": {
             "endlinecolor": "#2a3f5f",
             "gridcolor": "white",
             "linecolor": "white",
             "minorgridcolor": "white",
             "startlinecolor": "#2a3f5f"
            },
            "baxis": {
             "endlinecolor": "#2a3f5f",
             "gridcolor": "white",
             "linecolor": "white",
             "minorgridcolor": "white",
             "startlinecolor": "#2a3f5f"
            },
            "type": "carpet"
           }
          ],
          "choropleth": [
           {
            "colorbar": {
             "outlinewidth": 0,
             "ticks": ""
            },
            "type": "choropleth"
           }
          ],
          "contour": [
           {
            "colorbar": {
             "outlinewidth": 0,
             "ticks": ""
            },
            "colorscale": [
             [
              0,
              "#0d0887"
             ],
             [
              0.1111111111111111,
              "#46039f"
             ],
             [
              0.2222222222222222,
              "#7201a8"
             ],
             [
              0.3333333333333333,
              "#9c179e"
             ],
             [
              0.4444444444444444,
              "#bd3786"
             ],
             [
              0.5555555555555556,
              "#d8576b"
             ],
             [
              0.6666666666666666,
              "#ed7953"
             ],
             [
              0.7777777777777778,
              "#fb9f3a"
             ],
             [
              0.8888888888888888,
              "#fdca26"
             ],
             [
              1,
              "#f0f921"
             ]
            ],
            "type": "contour"
           }
          ],
          "contourcarpet": [
           {
            "colorbar": {
             "outlinewidth": 0,
             "ticks": ""
            },
            "type": "contourcarpet"
           }
          ],
          "heatmap": [
           {
            "colorbar": {
             "outlinewidth": 0,
             "ticks": ""
            },
            "colorscale": [
             [
              0,
              "#0d0887"
             ],
             [
              0.1111111111111111,
              "#46039f"
             ],
             [
              0.2222222222222222,
              "#7201a8"
             ],
             [
              0.3333333333333333,
              "#9c179e"
             ],
             [
              0.4444444444444444,
              "#bd3786"
             ],
             [
              0.5555555555555556,
              "#d8576b"
             ],
             [
              0.6666666666666666,
              "#ed7953"
             ],
             [
              0.7777777777777778,
              "#fb9f3a"
             ],
             [
              0.8888888888888888,
              "#fdca26"
             ],
             [
              1,
              "#f0f921"
             ]
            ],
            "type": "heatmap"
           }
          ],
          "heatmapgl": [
           {
            "colorbar": {
             "outlinewidth": 0,
             "ticks": ""
            },
            "colorscale": [
             [
              0,
              "#0d0887"
             ],
             [
              0.1111111111111111,
              "#46039f"
             ],
             [
              0.2222222222222222,
              "#7201a8"
             ],
             [
              0.3333333333333333,
              "#9c179e"
             ],
             [
              0.4444444444444444,
              "#bd3786"
             ],
             [
              0.5555555555555556,
              "#d8576b"
             ],
             [
              0.6666666666666666,
              "#ed7953"
             ],
             [
              0.7777777777777778,
              "#fb9f3a"
             ],
             [
              0.8888888888888888,
              "#fdca26"
             ],
             [
              1,
              "#f0f921"
             ]
            ],
            "type": "heatmapgl"
           }
          ],
          "histogram": [
           {
            "marker": {
             "pattern": {
              "fillmode": "overlay",
              "size": 10,
              "solidity": 0.2
             }
            },
            "type": "histogram"
           }
          ],
          "histogram2d": [
           {
            "colorbar": {
             "outlinewidth": 0,
             "ticks": ""
            },
            "colorscale": [
             [
              0,
              "#0d0887"
             ],
             [
              0.1111111111111111,
              "#46039f"
             ],
             [
              0.2222222222222222,
              "#7201a8"
             ],
             [
              0.3333333333333333,
              "#9c179e"
             ],
             [
              0.4444444444444444,
              "#bd3786"
             ],
             [
              0.5555555555555556,
              "#d8576b"
             ],
             [
              0.6666666666666666,
              "#ed7953"
             ],
             [
              0.7777777777777778,
              "#fb9f3a"
             ],
             [
              0.8888888888888888,
              "#fdca26"
             ],
             [
              1,
              "#f0f921"
             ]
            ],
            "type": "histogram2d"
           }
          ],
          "histogram2dcontour": [
           {
            "colorbar": {
             "outlinewidth": 0,
             "ticks": ""
            },
            "colorscale": [
             [
              0,
              "#0d0887"
             ],
             [
              0.1111111111111111,
              "#46039f"
             ],
             [
              0.2222222222222222,
              "#7201a8"
             ],
             [
              0.3333333333333333,
              "#9c179e"
             ],
             [
              0.4444444444444444,
              "#bd3786"
             ],
             [
              0.5555555555555556,
              "#d8576b"
             ],
             [
              0.6666666666666666,
              "#ed7953"
             ],
             [
              0.7777777777777778,
              "#fb9f3a"
             ],
             [
              0.8888888888888888,
              "#fdca26"
             ],
             [
              1,
              "#f0f921"
             ]
            ],
            "type": "histogram2dcontour"
           }
          ],
          "mesh3d": [
           {
            "colorbar": {
             "outlinewidth": 0,
             "ticks": ""
            },
            "type": "mesh3d"
           }
          ],
          "parcoords": [
           {
            "line": {
             "colorbar": {
              "outlinewidth": 0,
              "ticks": ""
             }
            },
            "type": "parcoords"
           }
          ],
          "pie": [
           {
            "automargin": true,
            "type": "pie"
           }
          ],
          "scatter": [
           {
            "fillpattern": {
             "fillmode": "overlay",
             "size": 10,
             "solidity": 0.2
            },
            "type": "scatter"
           }
          ],
          "scatter3d": [
           {
            "line": {
             "colorbar": {
              "outlinewidth": 0,
              "ticks": ""
             }
            },
            "marker": {
             "colorbar": {
              "outlinewidth": 0,
              "ticks": ""
             }
            },
            "type": "scatter3d"
           }
          ],
          "scattercarpet": [
           {
            "marker": {
             "colorbar": {
              "outlinewidth": 0,
              "ticks": ""
             }
            },
            "type": "scattercarpet"
           }
          ],
          "scattergeo": [
           {
            "marker": {
             "colorbar": {
              "outlinewidth": 0,
              "ticks": ""
             }
            },
            "type": "scattergeo"
           }
          ],
          "scattergl": [
           {
            "marker": {
             "colorbar": {
              "outlinewidth": 0,
              "ticks": ""
             }
            },
            "type": "scattergl"
           }
          ],
          "scattermapbox": [
           {
            "marker": {
             "colorbar": {
              "outlinewidth": 0,
              "ticks": ""
             }
            },
            "type": "scattermapbox"
           }
          ],
          "scatterpolar": [
           {
            "marker": {
             "colorbar": {
              "outlinewidth": 0,
              "ticks": ""
             }
            },
            "type": "scatterpolar"
           }
          ],
          "scatterpolargl": [
           {
            "marker": {
             "colorbar": {
              "outlinewidth": 0,
              "ticks": ""
             }
            },
            "type": "scatterpolargl"
           }
          ],
          "scatterternary": [
           {
            "marker": {
             "colorbar": {
              "outlinewidth": 0,
              "ticks": ""
             }
            },
            "type": "scatterternary"
           }
          ],
          "surface": [
           {
            "colorbar": {
             "outlinewidth": 0,
             "ticks": ""
            },
            "colorscale": [
             [
              0,
              "#0d0887"
             ],
             [
              0.1111111111111111,
              "#46039f"
             ],
             [
              0.2222222222222222,
              "#7201a8"
             ],
             [
              0.3333333333333333,
              "#9c179e"
             ],
             [
              0.4444444444444444,
              "#bd3786"
             ],
             [
              0.5555555555555556,
              "#d8576b"
             ],
             [
              0.6666666666666666,
              "#ed7953"
             ],
             [
              0.7777777777777778,
              "#fb9f3a"
             ],
             [
              0.8888888888888888,
              "#fdca26"
             ],
             [
              1,
              "#f0f921"
             ]
            ],
            "type": "surface"
           }
          ],
          "table": [
           {
            "cells": {
             "fill": {
              "color": "#EBF0F8"
             },
             "line": {
              "color": "white"
             }
            },
            "header": {
             "fill": {
              "color": "#C8D4E3"
             },
             "line": {
              "color": "white"
             }
            },
            "type": "table"
           }
          ]
         },
         "layout": {
          "annotationdefaults": {
           "arrowcolor": "#2a3f5f",
           "arrowhead": 0,
           "arrowwidth": 1
          },
          "autotypenumbers": "strict",
          "coloraxis": {
           "colorbar": {
            "outlinewidth": 0,
            "ticks": ""
           }
          },
          "colorscale": {
           "diverging": [
            [
             0,
             "#8e0152"
            ],
            [
             0.1,
             "#c51b7d"
            ],
            [
             0.2,
             "#de77ae"
            ],
            [
             0.3,
             "#f1b6da"
            ],
            [
             0.4,
             "#fde0ef"
            ],
            [
             0.5,
             "#f7f7f7"
            ],
            [
             0.6,
             "#e6f5d0"
            ],
            [
             0.7,
             "#b8e186"
            ],
            [
             0.8,
             "#7fbc41"
            ],
            [
             0.9,
             "#4d9221"
            ],
            [
             1,
             "#276419"
            ]
           ],
           "sequential": [
            [
             0,
             "#0d0887"
            ],
            [
             0.1111111111111111,
             "#46039f"
            ],
            [
             0.2222222222222222,
             "#7201a8"
            ],
            [
             0.3333333333333333,
             "#9c179e"
            ],
            [
             0.4444444444444444,
             "#bd3786"
            ],
            [
             0.5555555555555556,
             "#d8576b"
            ],
            [
             0.6666666666666666,
             "#ed7953"
            ],
            [
             0.7777777777777778,
             "#fb9f3a"
            ],
            [
             0.8888888888888888,
             "#fdca26"
            ],
            [
             1,
             "#f0f921"
            ]
           ],
           "sequentialminus": [
            [
             0,
             "#0d0887"
            ],
            [
             0.1111111111111111,
             "#46039f"
            ],
            [
             0.2222222222222222,
             "#7201a8"
            ],
            [
             0.3333333333333333,
             "#9c179e"
            ],
            [
             0.4444444444444444,
             "#bd3786"
            ],
            [
             0.5555555555555556,
             "#d8576b"
            ],
            [
             0.6666666666666666,
             "#ed7953"
            ],
            [
             0.7777777777777778,
             "#fb9f3a"
            ],
            [
             0.8888888888888888,
             "#fdca26"
            ],
            [
             1,
             "#f0f921"
            ]
           ]
          },
          "colorway": [
           "#636efa",
           "#EF553B",
           "#00cc96",
           "#ab63fa",
           "#FFA15A",
           "#19d3f3",
           "#FF6692",
           "#B6E880",
           "#FF97FF",
           "#FECB52"
          ],
          "font": {
           "color": "#2a3f5f"
          },
          "geo": {
           "bgcolor": "white",
           "lakecolor": "white",
           "landcolor": "#E5ECF6",
           "showlakes": true,
           "showland": true,
           "subunitcolor": "white"
          },
          "hoverlabel": {
           "align": "left"
          },
          "hovermode": "closest",
          "mapbox": {
           "style": "light"
          },
          "paper_bgcolor": "white",
          "plot_bgcolor": "#E5ECF6",
          "polar": {
           "angularaxis": {
            "gridcolor": "white",
            "linecolor": "white",
            "ticks": ""
           },
           "bgcolor": "#E5ECF6",
           "radialaxis": {
            "gridcolor": "white",
            "linecolor": "white",
            "ticks": ""
           }
          },
          "scene": {
           "xaxis": {
            "backgroundcolor": "#E5ECF6",
            "gridcolor": "white",
            "gridwidth": 2,
            "linecolor": "white",
            "showbackground": true,
            "ticks": "",
            "zerolinecolor": "white"
           },
           "yaxis": {
            "backgroundcolor": "#E5ECF6",
            "gridcolor": "white",
            "gridwidth": 2,
            "linecolor": "white",
            "showbackground": true,
            "ticks": "",
            "zerolinecolor": "white"
           },
           "zaxis": {
            "backgroundcolor": "#E5ECF6",
            "gridcolor": "white",
            "gridwidth": 2,
            "linecolor": "white",
            "showbackground": true,
            "ticks": "",
            "zerolinecolor": "white"
           }
          },
          "shapedefaults": {
           "line": {
            "color": "#2a3f5f"
           }
          },
          "ternary": {
           "aaxis": {
            "gridcolor": "white",
            "linecolor": "white",
            "ticks": ""
           },
           "baxis": {
            "gridcolor": "white",
            "linecolor": "white",
            "ticks": ""
           },
           "bgcolor": "#E5ECF6",
           "caxis": {
            "gridcolor": "white",
            "linecolor": "white",
            "ticks": ""
           }
          },
          "title": {
           "x": 0.05
          },
          "xaxis": {
           "automargin": true,
           "gridcolor": "white",
           "linecolor": "white",
           "ticks": "",
           "title": {
            "standoff": 15
           },
           "zerolinecolor": "white",
           "zerolinewidth": 2
          },
          "yaxis": {
           "automargin": true,
           "gridcolor": "white",
           "linecolor": "white",
           "ticks": "",
           "title": {
            "standoff": 15
           },
           "zerolinecolor": "white",
           "zerolinewidth": 2
          }
         }
        },
        "title": {
         "font": {
          "size": 20
         },
         "text": "Novos usuários por tipo de consumo",
         "x": 0.5
        },
        "width": 1200,
        "xaxis": {
         "anchor": "y",
         "domain": [
          0,
          1
         ],
         "title": {
          "font": {
           "size": 16
          },
          "text": "Ano"
         }
        },
        "yaxis": {
         "anchor": "x",
         "domain": [
          0,
          1
         ],
         "title": {
          "font": {
           "size": 16
          },
          "text": "Novos usuários"
         }
        }
       }
      }
     },
     "metadata": {},
     "output_type": "display_data"
    },
    {
     "data": {
      "application/vnd.plotly.v1+json": {
       "config": {
        "plotlyServerURL": "https://plot.ly"
       },
       "data": [
        {
         "alignmentgroup": "True",
         "hovertemplate": "DscClasseConsumo=Comercial<br>SigUF=AC<br>Ano=%{x}<br>NumCPFCNPJ=%{y}<extra></extra>",
         "legendgroup": "Comercial",
         "marker": {
          "color": "#636efa",
          "pattern": {
           "shape": ""
          }
         },
         "name": "Comercial",
         "offsetgroup": "Comercial",
         "orientation": "v",
         "showlegend": true,
         "textposition": "auto",
         "type": "bar",
         "x": [
          2018,
          2018,
          2019,
          2019,
          2020,
          2020,
          2021,
          2021,
          2022,
          2022,
          2023,
          2023
         ],
         "xaxis": "x4",
         "y": [
          3,
          5,
          22,
          9,
          35,
          38,
          108,
          85,
          101,
          88,
          20,
          24
         ],
         "yaxis": "y4"
        },
        {
         "alignmentgroup": "True",
         "hovertemplate": "DscClasseConsumo=Comercial<br>SigUF=AL<br>Ano=%{x}<br>NumCPFCNPJ=%{y}<extra></extra>",
         "legendgroup": "Comercial",
         "marker": {
          "color": "#636efa",
          "pattern": {
           "shape": ""
          }
         },
         "name": "Comercial",
         "offsetgroup": "Comercial",
         "orientation": "v",
         "showlegend": false,
         "textposition": "auto",
         "type": "bar",
         "x": [
          2018,
          2018,
          2019,
          2019,
          2020,
          2020,
          2021,
          2021,
          2022,
          2022,
          2023,
          2023
         ],
         "xaxis": "x3",
         "y": [
          13,
          23,
          68,
          86,
          57,
          280,
          57,
          558,
          316,
          685,
          131,
          171
         ],
         "yaxis": "y3"
        },
        {
         "alignmentgroup": "True",
         "hovertemplate": "DscClasseConsumo=Comercial<br>SigUF=AM<br>Ano=%{x}<br>NumCPFCNPJ=%{y}<extra></extra>",
         "legendgroup": "Comercial",
         "marker": {
          "color": "#636efa",
          "pattern": {
           "shape": ""
          }
         },
         "name": "Comercial",
         "offsetgroup": "Comercial",
         "orientation": "v",
         "showlegend": false,
         "textposition": "auto",
         "type": "bar",
         "x": [
          2018,
          2018,
          2019,
          2019,
          2020,
          2020,
          2021,
          2021,
          2022,
          2022,
          2023,
          2023
         ],
         "xaxis": "x2",
         "y": [
          5,
          5,
          13,
          33,
          53,
          78,
          138,
          128,
          214,
          189,
          37,
          47
         ],
         "yaxis": "y2"
        },
        {
         "alignmentgroup": "True",
         "hovertemplate": "DscClasseConsumo=Comercial<br>SigUF=AP<br>Ano=%{x}<br>NumCPFCNPJ=%{y}<extra></extra>",
         "legendgroup": "Comercial",
         "marker": {
          "color": "#636efa",
          "pattern": {
           "shape": ""
          }
         },
         "name": "Comercial",
         "offsetgroup": "Comercial",
         "orientation": "v",
         "showlegend": false,
         "textposition": "auto",
         "type": "bar",
         "x": [
          2018,
          2019,
          2019,
          2020,
          2020,
          2021,
          2021,
          2022,
          2022,
          2023,
          2023
         ],
         "xaxis": "x",
         "y": [
          1,
          10,
          11,
          15,
          13,
          37,
          22,
          27,
          35,
          1,
          17
         ],
         "yaxis": "y"
        },
        {
         "alignmentgroup": "True",
         "hovertemplate": "DscClasseConsumo=Industrial<br>SigUF=AC<br>Ano=%{x}<br>NumCPFCNPJ=%{y}<extra></extra>",
         "legendgroup": "Industrial",
         "marker": {
          "color": "#EF553B",
          "pattern": {
           "shape": ""
          }
         },
         "name": "Industrial",
         "offsetgroup": "Industrial",
         "orientation": "v",
         "showlegend": true,
         "textposition": "auto",
         "type": "bar",
         "x": [
          2018,
          2019,
          2020,
          2021,
          2021,
          2022,
          2022,
          2023
         ],
         "xaxis": "x4",
         "y": [
          1,
          1,
          3,
          1,
          4,
          1,
          5,
          1
         ],
         "yaxis": "y4"
        },
        {
         "alignmentgroup": "True",
         "hovertemplate": "DscClasseConsumo=Industrial<br>SigUF=AL<br>Ano=%{x}<br>NumCPFCNPJ=%{y}<extra></extra>",
         "legendgroup": "Industrial",
         "marker": {
          "color": "#EF553B",
          "pattern": {
           "shape": ""
          }
         },
         "name": "Industrial",
         "offsetgroup": "Industrial",
         "orientation": "v",
         "showlegend": false,
         "textposition": "auto",
         "type": "bar",
         "x": [
          2018,
          2018,
          2019,
          2019,
          2020,
          2020,
          2021,
          2021,
          2022,
          2022,
          2023,
          2023
         ],
         "xaxis": "x3",
         "y": [
          1,
          3,
          3,
          7,
          5,
          13,
          1,
          23,
          21,
          33,
          6,
          8
         ],
         "yaxis": "y3"
        },
        {
         "alignmentgroup": "True",
         "hovertemplate": "DscClasseConsumo=Industrial<br>SigUF=AM<br>Ano=%{x}<br>NumCPFCNPJ=%{y}<extra></extra>",
         "legendgroup": "Industrial",
         "marker": {
          "color": "#EF553B",
          "pattern": {
           "shape": ""
          }
         },
         "name": "Industrial",
         "offsetgroup": "Industrial",
         "orientation": "v",
         "showlegend": false,
         "textposition": "auto",
         "type": "bar",
         "x": [
          2018,
          2019,
          2020,
          2020,
          2021,
          2021,
          2022,
          2022,
          2023,
          2023
         ],
         "xaxis": "x2",
         "y": [
          1,
          3,
          1,
          9,
          9,
          11,
          6,
          21,
          2,
          5
         ],
         "yaxis": "y2"
        },
        {
         "alignmentgroup": "True",
         "hovertemplate": "DscClasseConsumo=Industrial<br>SigUF=AP<br>Ano=%{x}<br>NumCPFCNPJ=%{y}<extra></extra>",
         "legendgroup": "Industrial",
         "marker": {
          "color": "#EF553B",
          "pattern": {
           "shape": ""
          }
         },
         "name": "Industrial",
         "offsetgroup": "Industrial",
         "orientation": "v",
         "showlegend": false,
         "textposition": "auto",
         "type": "bar",
         "x": [
          2021,
          2022
         ],
         "xaxis": "x",
         "y": [
          2,
          1
         ],
         "yaxis": "y"
        },
        {
         "alignmentgroup": "True",
         "hovertemplate": "DscClasseConsumo=Residencial<br>SigUF=AC<br>Ano=%{x}<br>NumCPFCNPJ=%{y}<extra></extra>",
         "legendgroup": "Residencial",
         "marker": {
          "color": "#00cc96",
          "pattern": {
           "shape": ""
          }
         },
         "name": "Residencial",
         "offsetgroup": "Residencial",
         "orientation": "v",
         "showlegend": true,
         "textposition": "auto",
         "type": "bar",
         "x": [
          2018,
          2019,
          2019,
          2020,
          2020,
          2021,
          2021,
          2022,
          2022,
          2023,
          2023
         ],
         "xaxis": "x4",
         "y": [
          22,
          92,
          1,
          401,
          9,
          1127,
          16,
          1469,
          30,
          304,
          6
         ],
         "yaxis": "y4"
        },
        {
         "alignmentgroup": "True",
         "hovertemplate": "DscClasseConsumo=Residencial<br>SigUF=AL<br>Ano=%{x}<br>NumCPFCNPJ=%{y}<extra></extra>",
         "legendgroup": "Residencial",
         "marker": {
          "color": "#00cc96",
          "pattern": {
           "shape": ""
          }
         },
         "name": "Residencial",
         "offsetgroup": "Residencial",
         "orientation": "v",
         "showlegend": false,
         "textposition": "auto",
         "type": "bar",
         "x": [
          2018,
          2018,
          2019,
          2019,
          2020,
          2020,
          2021,
          2021,
          2022,
          2022,
          2023,
          2023
         ],
         "xaxis": "x3",
         "y": [
          131,
          2,
          434,
          5,
          1157,
          33,
          2689,
          80,
          6741,
          171,
          2545,
          90
         ],
         "yaxis": "y3"
        },
        {
         "alignmentgroup": "True",
         "hovertemplate": "DscClasseConsumo=Residencial<br>SigUF=AM<br>Ano=%{x}<br>NumCPFCNPJ=%{y}<extra></extra>",
         "legendgroup": "Residencial",
         "marker": {
          "color": "#00cc96",
          "pattern": {
           "shape": ""
          }
         },
         "name": "Residencial",
         "offsetgroup": "Residencial",
         "orientation": "v",
         "showlegend": false,
         "textposition": "auto",
         "type": "bar",
         "x": [
          2018,
          2019,
          2019,
          2020,
          2020,
          2021,
          2021,
          2022,
          2022,
          2023,
          2023
         ],
         "xaxis": "x2",
         "y": [
          68,
          367,
          8,
          711,
          20,
          1239,
          38,
          2332,
          74,
          743,
          18
         ],
         "yaxis": "y2"
        },
        {
         "alignmentgroup": "True",
         "hovertemplate": "DscClasseConsumo=Residencial<br>SigUF=AP<br>Ano=%{x}<br>NumCPFCNPJ=%{y}<extra></extra>",
         "legendgroup": "Residencial",
         "marker": {
          "color": "#00cc96",
          "pattern": {
           "shape": ""
          }
         },
         "name": "Residencial",
         "offsetgroup": "Residencial",
         "orientation": "v",
         "showlegend": false,
         "textposition": "auto",
         "type": "bar",
         "x": [
          2018,
          2018,
          2019,
          2019,
          2020,
          2020,
          2021,
          2021,
          2022,
          2022,
          2023,
          2023
         ],
         "xaxis": "x",
         "y": [
          33,
          2,
          82,
          2,
          113,
          2,
          410,
          2,
          832,
          7,
          577,
          7
         ],
         "yaxis": "y"
        },
        {
         "alignmentgroup": "True",
         "hovertemplate": "DscClasseConsumo=Rural<br>SigUF=AC<br>Ano=%{x}<br>NumCPFCNPJ=%{y}<extra></extra>",
         "legendgroup": "Rural",
         "marker": {
          "color": "#ab63fa",
          "pattern": {
           "shape": ""
          }
         },
         "name": "Rural",
         "offsetgroup": "Rural",
         "orientation": "v",
         "showlegend": true,
         "textposition": "auto",
         "type": "bar",
         "x": [
          2019,
          2020,
          2020,
          2021,
          2021,
          2022,
          2022,
          2023,
          2023
         ],
         "xaxis": "x4",
         "y": [
          6,
          16,
          1,
          63,
          1,
          96,
          3,
          18,
          2
         ],
         "yaxis": "y4"
        },
        {
         "alignmentgroup": "True",
         "hovertemplate": "DscClasseConsumo=Rural<br>SigUF=AL<br>Ano=%{x}<br>NumCPFCNPJ=%{y}<extra></extra>",
         "legendgroup": "Rural",
         "marker": {
          "color": "#ab63fa",
          "pattern": {
           "shape": ""
          }
         },
         "name": "Rural",
         "offsetgroup": "Rural",
         "orientation": "v",
         "showlegend": false,
         "textposition": "auto",
         "type": "bar",
         "x": [
          2018,
          2019,
          2019,
          2020,
          2020,
          2021,
          2021,
          2022,
          2022,
          2023,
          2023
         ],
         "xaxis": "x3",
         "y": [
          1,
          10,
          2,
          38,
          7,
          64,
          4,
          160,
          11,
          77,
          7
         ],
         "yaxis": "y3"
        },
        {
         "alignmentgroup": "True",
         "hovertemplate": "DscClasseConsumo=Rural<br>SigUF=AM<br>Ano=%{x}<br>NumCPFCNPJ=%{y}<extra></extra>",
         "legendgroup": "Rural",
         "marker": {
          "color": "#ab63fa",
          "pattern": {
           "shape": ""
          }
         },
         "name": "Rural",
         "offsetgroup": "Rural",
         "orientation": "v",
         "showlegend": false,
         "textposition": "auto",
         "type": "bar",
         "x": [
          2018,
          2019,
          2020,
          2020,
          2021,
          2021,
          2022,
          2022,
          2023,
          2023
         ],
         "xaxis": "x2",
         "y": [
          1,
          3,
          3,
          1,
          12,
          2,
          13,
          2,
          9,
          1
         ],
         "yaxis": "y2"
        },
        {
         "alignmentgroup": "True",
         "hovertemplate": "DscClasseConsumo=Rural<br>SigUF=AP<br>Ano=%{x}<br>NumCPFCNPJ=%{y}<extra></extra>",
         "legendgroup": "Rural",
         "marker": {
          "color": "#ab63fa",
          "pattern": {
           "shape": ""
          }
         },
         "name": "Rural",
         "offsetgroup": "Rural",
         "orientation": "v",
         "showlegend": false,
         "textposition": "auto",
         "type": "bar",
         "x": [
          2021,
          2022
         ],
         "xaxis": "x",
         "y": [
          1,
          1
         ],
         "yaxis": "y"
        },
        {
         "alignmentgroup": "True",
         "hovertemplate": "DscClasseConsumo=Poder Público<br>SigUF=AC<br>Ano=%{x}<br>NumCPFCNPJ=%{y}<extra></extra>",
         "legendgroup": "Poder Público",
         "marker": {
          "color": "#FFA15A",
          "pattern": {
           "shape": ""
          }
         },
         "name": "Poder Público",
         "offsetgroup": "Poder Público",
         "orientation": "v",
         "showlegend": true,
         "textposition": "auto",
         "type": "bar",
         "x": [
          2019,
          2021,
          2021,
          2022
         ],
         "xaxis": "x4",
         "y": [
          1,
          2,
          2,
          4
         ],
         "yaxis": "y4"
        },
        {
         "alignmentgroup": "True",
         "hovertemplate": "DscClasseConsumo=Poder Público<br>SigUF=AL<br>Ano=%{x}<br>NumCPFCNPJ=%{y}<extra></extra>",
         "legendgroup": "Poder Público",
         "marker": {
          "color": "#FFA15A",
          "pattern": {
           "shape": ""
          }
         },
         "name": "Poder Público",
         "offsetgroup": "Poder Público",
         "orientation": "v",
         "showlegend": false,
         "textposition": "auto",
         "type": "bar",
         "x": [
          2019,
          2020,
          2020,
          2021,
          2021,
          2022,
          2022,
          2023,
          2023
         ],
         "xaxis": "x3",
         "y": [
          2,
          16,
          7,
          12,
          6,
          12,
          2,
          2,
          2
         ],
         "yaxis": "y3"
        },
        {
         "alignmentgroup": "True",
         "hovertemplate": "DscClasseConsumo=Poder Público<br>SigUF=AM<br>Ano=%{x}<br>NumCPFCNPJ=%{y}<extra></extra>",
         "legendgroup": "Poder Público",
         "marker": {
          "color": "#FFA15A",
          "pattern": {
           "shape": ""
          }
         },
         "name": "Poder Público",
         "offsetgroup": "Poder Público",
         "orientation": "v",
         "showlegend": false,
         "textposition": "auto",
         "type": "bar",
         "x": [
          2018,
          2019,
          2020,
          2020,
          2021,
          2021,
          2022,
          2023
         ],
         "xaxis": "x2",
         "y": [
          1,
          1,
          2,
          2,
          2,
          3,
          4,
          1
         ],
         "yaxis": "y2"
        },
        {
         "alignmentgroup": "True",
         "hovertemplate": "DscClasseConsumo=Poder Público<br>SigUF=AP<br>Ano=%{x}<br>NumCPFCNPJ=%{y}<extra></extra>",
         "legendgroup": "Poder Público",
         "marker": {
          "color": "#FFA15A",
          "pattern": {
           "shape": ""
          }
         },
         "name": "Poder Público",
         "offsetgroup": "Poder Público",
         "orientation": "v",
         "showlegend": false,
         "textposition": "auto",
         "type": "bar",
         "x": [
          2019,
          2020,
          2021,
          2021,
          2022,
          2022,
          2023
         ],
         "xaxis": "x",
         "y": [
          2,
          2,
          1,
          2,
          4,
          1,
          1
         ],
         "yaxis": "y"
        },
        {
         "alignmentgroup": "True",
         "hovertemplate": "DscClasseConsumo=Serviço Público<br>SigUF=AC<br>Ano=%{x}<br>NumCPFCNPJ=%{y}<extra></extra>",
         "legendgroup": "Serviço Público",
         "marker": {
          "color": "#19d3f3",
          "pattern": {
           "shape": ""
          }
         },
         "name": "Serviço Público",
         "offsetgroup": "Serviço Público",
         "orientation": "v",
         "showlegend": true,
         "textposition": "auto",
         "type": "bar",
         "x": [
          2020
         ],
         "xaxis": "x4",
         "y": [
          1
         ],
         "yaxis": "y4"
        },
        {
         "alignmentgroup": "True",
         "hovertemplate": "DscClasseConsumo=Serviço Público<br>SigUF=AL<br>Ano=%{x}<br>NumCPFCNPJ=%{y}<extra></extra>",
         "legendgroup": "Serviço Público",
         "marker": {
          "color": "#19d3f3",
          "pattern": {
           "shape": ""
          }
         },
         "name": "Serviço Público",
         "offsetgroup": "Serviço Público",
         "orientation": "v",
         "showlegend": false,
         "textposition": "auto",
         "type": "bar",
         "x": [
          2021
         ],
         "xaxis": "x3",
         "y": [
          2
         ],
         "yaxis": "y3"
        },
        {
         "alignmentgroup": "True",
         "hovertemplate": "DscClasseConsumo=Serviço Público<br>SigUF=AP<br>Ano=%{x}<br>NumCPFCNPJ=%{y}<extra></extra>",
         "legendgroup": "Serviço Público",
         "marker": {
          "color": "#19d3f3",
          "pattern": {
           "shape": ""
          }
         },
         "name": "Serviço Público",
         "offsetgroup": "Serviço Público",
         "orientation": "v",
         "showlegend": false,
         "textposition": "auto",
         "type": "bar",
         "x": [
          2019
         ],
         "xaxis": "x",
         "y": [
          1
         ],
         "yaxis": "y"
        }
       ],
       "layout": {
        "annotations": [
         {
          "font": {},
          "showarrow": false,
          "text": "SigUF=AP",
          "textangle": 90,
          "x": 0.98,
          "xanchor": "left",
          "xref": "paper",
          "y": 0.11375,
          "yanchor": "middle",
          "yref": "paper"
         },
         {
          "font": {},
          "showarrow": false,
          "text": "SigUF=AM",
          "textangle": 90,
          "x": 0.98,
          "xanchor": "left",
          "xref": "paper",
          "y": 0.37124999999999997,
          "yanchor": "middle",
          "yref": "paper"
         },
         {
          "font": {},
          "showarrow": false,
          "text": "SigUF=AL",
          "textangle": 90,
          "x": 0.98,
          "xanchor": "left",
          "xref": "paper",
          "y": 0.62875,
          "yanchor": "middle",
          "yref": "paper"
         },
         {
          "font": {},
          "showarrow": false,
          "text": "SigUF=AC",
          "textangle": 90,
          "x": 0.98,
          "xanchor": "left",
          "xref": "paper",
          "y": 0.88625,
          "yanchor": "middle",
          "yref": "paper"
         }
        ],
        "barmode": "group",
        "height": 600,
        "legend": {
         "title": {
          "text": "DscClasseConsumo"
         },
         "tracegroupgap": 0
        },
        "margin": {
         "t": 60
        },
        "template": {
         "data": {
          "bar": [
           {
            "error_x": {
             "color": "#2a3f5f"
            },
            "error_y": {
             "color": "#2a3f5f"
            },
            "marker": {
             "line": {
              "color": "#E5ECF6",
              "width": 0.5
             },
             "pattern": {
              "fillmode": "overlay",
              "size": 10,
              "solidity": 0.2
             }
            },
            "type": "bar"
           }
          ],
          "barpolar": [
           {
            "marker": {
             "line": {
              "color": "#E5ECF6",
              "width": 0.5
             },
             "pattern": {
              "fillmode": "overlay",
              "size": 10,
              "solidity": 0.2
             }
            },
            "type": "barpolar"
           }
          ],
          "carpet": [
           {
            "aaxis": {
             "endlinecolor": "#2a3f5f",
             "gridcolor": "white",
             "linecolor": "white",
             "minorgridcolor": "white",
             "startlinecolor": "#2a3f5f"
            },
            "baxis": {
             "endlinecolor": "#2a3f5f",
             "gridcolor": "white",
             "linecolor": "white",
             "minorgridcolor": "white",
             "startlinecolor": "#2a3f5f"
            },
            "type": "carpet"
           }
          ],
          "choropleth": [
           {
            "colorbar": {
             "outlinewidth": 0,
             "ticks": ""
            },
            "type": "choropleth"
           }
          ],
          "contour": [
           {
            "colorbar": {
             "outlinewidth": 0,
             "ticks": ""
            },
            "colorscale": [
             [
              0,
              "#0d0887"
             ],
             [
              0.1111111111111111,
              "#46039f"
             ],
             [
              0.2222222222222222,
              "#7201a8"
             ],
             [
              0.3333333333333333,
              "#9c179e"
             ],
             [
              0.4444444444444444,
              "#bd3786"
             ],
             [
              0.5555555555555556,
              "#d8576b"
             ],
             [
              0.6666666666666666,
              "#ed7953"
             ],
             [
              0.7777777777777778,
              "#fb9f3a"
             ],
             [
              0.8888888888888888,
              "#fdca26"
             ],
             [
              1,
              "#f0f921"
             ]
            ],
            "type": "contour"
           }
          ],
          "contourcarpet": [
           {
            "colorbar": {
             "outlinewidth": 0,
             "ticks": ""
            },
            "type": "contourcarpet"
           }
          ],
          "heatmap": [
           {
            "colorbar": {
             "outlinewidth": 0,
             "ticks": ""
            },
            "colorscale": [
             [
              0,
              "#0d0887"
             ],
             [
              0.1111111111111111,
              "#46039f"
             ],
             [
              0.2222222222222222,
              "#7201a8"
             ],
             [
              0.3333333333333333,
              "#9c179e"
             ],
             [
              0.4444444444444444,
              "#bd3786"
             ],
             [
              0.5555555555555556,
              "#d8576b"
             ],
             [
              0.6666666666666666,
              "#ed7953"
             ],
             [
              0.7777777777777778,
              "#fb9f3a"
             ],
             [
              0.8888888888888888,
              "#fdca26"
             ],
             [
              1,
              "#f0f921"
             ]
            ],
            "type": "heatmap"
           }
          ],
          "heatmapgl": [
           {
            "colorbar": {
             "outlinewidth": 0,
             "ticks": ""
            },
            "colorscale": [
             [
              0,
              "#0d0887"
             ],
             [
              0.1111111111111111,
              "#46039f"
             ],
             [
              0.2222222222222222,
              "#7201a8"
             ],
             [
              0.3333333333333333,
              "#9c179e"
             ],
             [
              0.4444444444444444,
              "#bd3786"
             ],
             [
              0.5555555555555556,
              "#d8576b"
             ],
             [
              0.6666666666666666,
              "#ed7953"
             ],
             [
              0.7777777777777778,
              "#fb9f3a"
             ],
             [
              0.8888888888888888,
              "#fdca26"
             ],
             [
              1,
              "#f0f921"
             ]
            ],
            "type": "heatmapgl"
           }
          ],
          "histogram": [
           {
            "marker": {
             "pattern": {
              "fillmode": "overlay",
              "size": 10,
              "solidity": 0.2
             }
            },
            "type": "histogram"
           }
          ],
          "histogram2d": [
           {
            "colorbar": {
             "outlinewidth": 0,
             "ticks": ""
            },
            "colorscale": [
             [
              0,
              "#0d0887"
             ],
             [
              0.1111111111111111,
              "#46039f"
             ],
             [
              0.2222222222222222,
              "#7201a8"
             ],
             [
              0.3333333333333333,
              "#9c179e"
             ],
             [
              0.4444444444444444,
              "#bd3786"
             ],
             [
              0.5555555555555556,
              "#d8576b"
             ],
             [
              0.6666666666666666,
              "#ed7953"
             ],
             [
              0.7777777777777778,
              "#fb9f3a"
             ],
             [
              0.8888888888888888,
              "#fdca26"
             ],
             [
              1,
              "#f0f921"
             ]
            ],
            "type": "histogram2d"
           }
          ],
          "histogram2dcontour": [
           {
            "colorbar": {
             "outlinewidth": 0,
             "ticks": ""
            },
            "colorscale": [
             [
              0,
              "#0d0887"
             ],
             [
              0.1111111111111111,
              "#46039f"
             ],
             [
              0.2222222222222222,
              "#7201a8"
             ],
             [
              0.3333333333333333,
              "#9c179e"
             ],
             [
              0.4444444444444444,
              "#bd3786"
             ],
             [
              0.5555555555555556,
              "#d8576b"
             ],
             [
              0.6666666666666666,
              "#ed7953"
             ],
             [
              0.7777777777777778,
              "#fb9f3a"
             ],
             [
              0.8888888888888888,
              "#fdca26"
             ],
             [
              1,
              "#f0f921"
             ]
            ],
            "type": "histogram2dcontour"
           }
          ],
          "mesh3d": [
           {
            "colorbar": {
             "outlinewidth": 0,
             "ticks": ""
            },
            "type": "mesh3d"
           }
          ],
          "parcoords": [
           {
            "line": {
             "colorbar": {
              "outlinewidth": 0,
              "ticks": ""
             }
            },
            "type": "parcoords"
           }
          ],
          "pie": [
           {
            "automargin": true,
            "type": "pie"
           }
          ],
          "scatter": [
           {
            "fillpattern": {
             "fillmode": "overlay",
             "size": 10,
             "solidity": 0.2
            },
            "type": "scatter"
           }
          ],
          "scatter3d": [
           {
            "line": {
             "colorbar": {
              "outlinewidth": 0,
              "ticks": ""
             }
            },
            "marker": {
             "colorbar": {
              "outlinewidth": 0,
              "ticks": ""
             }
            },
            "type": "scatter3d"
           }
          ],
          "scattercarpet": [
           {
            "marker": {
             "colorbar": {
              "outlinewidth": 0,
              "ticks": ""
             }
            },
            "type": "scattercarpet"
           }
          ],
          "scattergeo": [
           {
            "marker": {
             "colorbar": {
              "outlinewidth": 0,
              "ticks": ""
             }
            },
            "type": "scattergeo"
           }
          ],
          "scattergl": [
           {
            "marker": {
             "colorbar": {
              "outlinewidth": 0,
              "ticks": ""
             }
            },
            "type": "scattergl"
           }
          ],
          "scattermapbox": [
           {
            "marker": {
             "colorbar": {
              "outlinewidth": 0,
              "ticks": ""
             }
            },
            "type": "scattermapbox"
           }
          ],
          "scatterpolar": [
           {
            "marker": {
             "colorbar": {
              "outlinewidth": 0,
              "ticks": ""
             }
            },
            "type": "scatterpolar"
           }
          ],
          "scatterpolargl": [
           {
            "marker": {
             "colorbar": {
              "outlinewidth": 0,
              "ticks": ""
             }
            },
            "type": "scatterpolargl"
           }
          ],
          "scatterternary": [
           {
            "marker": {
             "colorbar": {
              "outlinewidth": 0,
              "ticks": ""
             }
            },
            "type": "scatterternary"
           }
          ],
          "surface": [
           {
            "colorbar": {
             "outlinewidth": 0,
             "ticks": ""
            },
            "colorscale": [
             [
              0,
              "#0d0887"
             ],
             [
              0.1111111111111111,
              "#46039f"
             ],
             [
              0.2222222222222222,
              "#7201a8"
             ],
             [
              0.3333333333333333,
              "#9c179e"
             ],
             [
              0.4444444444444444,
              "#bd3786"
             ],
             [
              0.5555555555555556,
              "#d8576b"
             ],
             [
              0.6666666666666666,
              "#ed7953"
             ],
             [
              0.7777777777777778,
              "#fb9f3a"
             ],
             [
              0.8888888888888888,
              "#fdca26"
             ],
             [
              1,
              "#f0f921"
             ]
            ],
            "type": "surface"
           }
          ],
          "table": [
           {
            "cells": {
             "fill": {
              "color": "#EBF0F8"
             },
             "line": {
              "color": "white"
             }
            },
            "header": {
             "fill": {
              "color": "#C8D4E3"
             },
             "line": {
              "color": "white"
             }
            },
            "type": "table"
           }
          ]
         },
         "layout": {
          "annotationdefaults": {
           "arrowcolor": "#2a3f5f",
           "arrowhead": 0,
           "arrowwidth": 1
          },
          "autotypenumbers": "strict",
          "coloraxis": {
           "colorbar": {
            "outlinewidth": 0,
            "ticks": ""
           }
          },
          "colorscale": {
           "diverging": [
            [
             0,
             "#8e0152"
            ],
            [
             0.1,
             "#c51b7d"
            ],
            [
             0.2,
             "#de77ae"
            ],
            [
             0.3,
             "#f1b6da"
            ],
            [
             0.4,
             "#fde0ef"
            ],
            [
             0.5,
             "#f7f7f7"
            ],
            [
             0.6,
             "#e6f5d0"
            ],
            [
             0.7,
             "#b8e186"
            ],
            [
             0.8,
             "#7fbc41"
            ],
            [
             0.9,
             "#4d9221"
            ],
            [
             1,
             "#276419"
            ]
           ],
           "sequential": [
            [
             0,
             "#0d0887"
            ],
            [
             0.1111111111111111,
             "#46039f"
            ],
            [
             0.2222222222222222,
             "#7201a8"
            ],
            [
             0.3333333333333333,
             "#9c179e"
            ],
            [
             0.4444444444444444,
             "#bd3786"
            ],
            [
             0.5555555555555556,
             "#d8576b"
            ],
            [
             0.6666666666666666,
             "#ed7953"
            ],
            [
             0.7777777777777778,
             "#fb9f3a"
            ],
            [
             0.8888888888888888,
             "#fdca26"
            ],
            [
             1,
             "#f0f921"
            ]
           ],
           "sequentialminus": [
            [
             0,
             "#0d0887"
            ],
            [
             0.1111111111111111,
             "#46039f"
            ],
            [
             0.2222222222222222,
             "#7201a8"
            ],
            [
             0.3333333333333333,
             "#9c179e"
            ],
            [
             0.4444444444444444,
             "#bd3786"
            ],
            [
             0.5555555555555556,
             "#d8576b"
            ],
            [
             0.6666666666666666,
             "#ed7953"
            ],
            [
             0.7777777777777778,
             "#fb9f3a"
            ],
            [
             0.8888888888888888,
             "#fdca26"
            ],
            [
             1,
             "#f0f921"
            ]
           ]
          },
          "colorway": [
           "#636efa",
           "#EF553B",
           "#00cc96",
           "#ab63fa",
           "#FFA15A",
           "#19d3f3",
           "#FF6692",
           "#B6E880",
           "#FF97FF",
           "#FECB52"
          ],
          "font": {
           "color": "#2a3f5f"
          },
          "geo": {
           "bgcolor": "white",
           "lakecolor": "white",
           "landcolor": "#E5ECF6",
           "showlakes": true,
           "showland": true,
           "subunitcolor": "white"
          },
          "hoverlabel": {
           "align": "left"
          },
          "hovermode": "closest",
          "mapbox": {
           "style": "light"
          },
          "paper_bgcolor": "white",
          "plot_bgcolor": "#E5ECF6",
          "polar": {
           "angularaxis": {
            "gridcolor": "white",
            "linecolor": "white",
            "ticks": ""
           },
           "bgcolor": "#E5ECF6",
           "radialaxis": {
            "gridcolor": "white",
            "linecolor": "white",
            "ticks": ""
           }
          },
          "scene": {
           "xaxis": {
            "backgroundcolor": "#E5ECF6",
            "gridcolor": "white",
            "gridwidth": 2,
            "linecolor": "white",
            "showbackground": true,
            "ticks": "",
            "zerolinecolor": "white"
           },
           "yaxis": {
            "backgroundcolor": "#E5ECF6",
            "gridcolor": "white",
            "gridwidth": 2,
            "linecolor": "white",
            "showbackground": true,
            "ticks": "",
            "zerolinecolor": "white"
           },
           "zaxis": {
            "backgroundcolor": "#E5ECF6",
            "gridcolor": "white",
            "gridwidth": 2,
            "linecolor": "white",
            "showbackground": true,
            "ticks": "",
            "zerolinecolor": "white"
           }
          },
          "shapedefaults": {
           "line": {
            "color": "#2a3f5f"
           }
          },
          "ternary": {
           "aaxis": {
            "gridcolor": "white",
            "linecolor": "white",
            "ticks": ""
           },
           "baxis": {
            "gridcolor": "white",
            "linecolor": "white",
            "ticks": ""
           },
           "bgcolor": "#E5ECF6",
           "caxis": {
            "gridcolor": "white",
            "linecolor": "white",
            "ticks": ""
           }
          },
          "title": {
           "x": 0.05
          },
          "xaxis": {
           "automargin": true,
           "gridcolor": "white",
           "linecolor": "white",
           "ticks": "",
           "title": {
            "standoff": 15
           },
           "zerolinecolor": "white",
           "zerolinewidth": 2
          },
          "yaxis": {
           "automargin": true,
           "gridcolor": "white",
           "linecolor": "white",
           "ticks": "",
           "title": {
            "standoff": 15
           },
           "zerolinecolor": "white",
           "zerolinewidth": 2
          }
         }
        },
        "title": {
         "text": "Novos usuários",
         "x": 0.5,
         "xanchor": "center",
         "y": 0.95,
         "yanchor": "top"
        },
        "width": 800,
        "xaxis": {
         "anchor": "y",
         "domain": [
          0,
          0.98
         ],
         "title": {
          "text": "Ano"
         }
        },
        "xaxis2": {
         "anchor": "y2",
         "domain": [
          0,
          0.98
         ],
         "matches": "x",
         "showticklabels": false
        },
        "xaxis3": {
         "anchor": "y3",
         "domain": [
          0,
          0.98
         ],
         "matches": "x",
         "showticklabels": false
        },
        "xaxis4": {
         "anchor": "y4",
         "domain": [
          0,
          0.98
         ],
         "matches": "x",
         "showticklabels": false
        },
        "yaxis": {
         "anchor": "x",
         "domain": [
          0,
          0.2275
         ],
         "title": {
          "text": "NumCPFCNPJ"
         }
        },
        "yaxis2": {
         "anchor": "x2",
         "domain": [
          0.2575,
          0.485
         ],
         "matches": "y",
         "title": {
          "text": "NumCPFCNPJ"
         }
        },
        "yaxis3": {
         "anchor": "x3",
         "domain": [
          0.515,
          0.7425
         ],
         "matches": "y",
         "title": {
          "text": "NumCPFCNPJ"
         }
        },
        "yaxis4": {
         "anchor": "x4",
         "domain": [
          0.7725,
          1
         ],
         "matches": "y",
         "title": {
          "text": "NumCPFCNPJ"
         }
        }
       }
      }
     },
     "metadata": {},
     "output_type": "display_data"
    }
   ],
   "source": [
    "def grafico_novos_usuarios_classe(counts):\n",
    "    counts_filtered = counts.query('Ano >= 2018')\n",
    "    fig_novos_classe = px.bar(counts_filtered, x=\"Ano\", y=\"NumCPFCNPJ\", color='DscClasseConsumo')\n",
    "    fig_novos_classe.update_layout(\n",
    "        width=1200,\n",
    "        height=600,\n",
    "        xaxis_title='Ano',\n",
    "        xaxis_title_font_size=16,\n",
    "        yaxis_title='Novos usuários',\n",
    "        yaxis_title_font_size=16,\n",
    "        title='Novos usuários por tipo de consumo',\n",
    "        title_font_size=20,\n",
    "        title_x=.5\n",
    "    )\n",
    "    fig_novos_classe.show()\n",
    "grafico_novos_usuarios_classe(counts)\n",
    "\n",
    "\n",
    "def grafico_novos_usuarios_classe_UF(counts):\n",
    "    counts_filtered = counts.query('Ano >= 2018')\n",
    "    fig_novos_classe_uf = px.bar(counts_filtered, x=\"Ano\", y=\"NumCPFCNPJ\", color='DscClasseConsumo',barmode=\"group\", facet_row=\"SigUF\")\n",
    "    fig_novos_classe_uf.update_layout(\n",
    "        width=800,\n",
    "        height=600,\n",
    "        title={\n",
    "        'text': \"Novos usuários\",\n",
    "        'y':0.95,\n",
    "        'x':0.5,\n",
    "        'xanchor': 'center',\n",
    "        'yanchor': 'top'}\n",
    "        )\n",
    "    fig_novos_classe_uf.show()\n",
    "grafico_novos_usuarios_classe_UF(counts)\n"
   ]
  },
  {
   "cell_type": "code",
   "execution_count": null,
   "id": "a09fc156",
   "metadata": {},
   "outputs": [],
   "source": [
    "\n",
    "\n",
    "\n",
    "\n",
    "\n",
    "\n",
    "\n",
    "\n",
    "\n",
    "\n",
    "## tentativa de incrementar o gráfico com a taxa de crescimento anual\n",
    "\n",
    "counts2 = pd.DataFrame(df_clean.groupby(['Ano', 'SigUF','SigTipoConsumidor'])['NumCPFCNPJ'].nunique()).reset_index()\n",
    "counts2['TaxaCrescimento'] = counts.groupby(['SigTipoConsumidor', 'Ano'])['NumCPFCNPJ'].pct_change() * 100\n",
    "counts2['TaxaCrescimento'] = counts['TaxaCrescimento'].replace([np.inf, -np.inf], np.nan)\n",
    "\n",
    "counts2\n",
    "\n",
    "\n",
    "\n",
    "\n",
    "\n",
    "\n",
    "\n",
    "\n",
    "\n",
    "\n",
    "\n"
   ]
  },
  {
   "attachments": {},
   "cell_type": "markdown",
   "id": "dc4ae700",
   "metadata": {},
   "source": [
    "##### #_____________________GRÁFICOS DO app.py, MUITO CUIDADO!____________________#"
   ]
  },
  {
   "cell_type": "code",
   "execution_count": null,
   "id": "91012b3c",
   "metadata": {},
   "outputs": [
    {
     "data": {
      "application/vnd.plotly.v1+json": {
       "config": {
        "plotlyServerURL": "https://plot.ly"
       },
       "data": [
        {
         "alignmentgroup": "True",
         "hovertemplate": "DscClasseConsumo=Industrial<br>Ano_Mes=%{x}<br>NumCPFCNPJ=%{y}<extra></extra>",
         "legendgroup": "Industrial",
         "marker": {
          "color": "#636efa",
          "pattern": {
           "shape": ""
          }
         },
         "name": "Industrial",
         "offsetgroup": "Industrial",
         "orientation": "v",
         "showlegend": true,
         "textposition": "auto",
         "type": "bar",
         "x": [
          "2012-02",
          "2014-09",
          "2016-05",
          "2016-07",
          "2016-11",
          "2016-12",
          "2017-01",
          "2017-10",
          "2018-01",
          "2018-02",
          "2018-03",
          "2018-05",
          "2018-06",
          "2018-08",
          "2018-10",
          "2018-10",
          "2018-11",
          "2019-01",
          "2019-02",
          "2019-03",
          "2019-04",
          "2019-07",
          "2019-08",
          "2019-09",
          "2019-10",
          "2019-10",
          "2019-11",
          "2019-12",
          "2020-01",
          "2020-01",
          "2020-02",
          "2020-03",
          "2020-03",
          "2020-04",
          "2020-05",
          "2020-05",
          "2020-06",
          "2020-06",
          "2020-06",
          "2020-08",
          "2020-09",
          "2020-10",
          "2020-10",
          "2020-11",
          "2020-11",
          "2020-11",
          "2020-12",
          "2021-01",
          "2021-02",
          "2021-02",
          "2021-03",
          "2021-04",
          "2021-04",
          "2021-05",
          "2021-05",
          "2021-05",
          "2021-06",
          "2021-06",
          "2021-06",
          "2021-07",
          "2021-07",
          "2021-08",
          "2021-08",
          "2021-09",
          "2021-09",
          "2021-09",
          "2021-10",
          "2021-10",
          "2021-11",
          "2021-12",
          "2021-12",
          "2021-12",
          "2022-01",
          "2022-01",
          "2022-02",
          "2022-02",
          "2022-03",
          "2022-03",
          "2022-03",
          "2022-04",
          "2022-04",
          "2022-05",
          "2022-05",
          "2022-06",
          "2022-06",
          "2022-07",
          "2022-07",
          "2022-08",
          "2022-08",
          "2022-09",
          "2022-09",
          "2022-10",
          "2022-10",
          "2022-11",
          "2022-11",
          "2022-11",
          "2022-12",
          "2022-12",
          "2022-12",
          "2023-01",
          "2023-01",
          "2023-01",
          "2023-02",
          "2023-02",
          "2023-02",
          "2023-03",
          "2023-03"
         ],
         "xaxis": "x",
         "y": [
          1,
          1,
          1,
          1,
          1,
          1,
          1,
          1,
          1,
          1,
          3,
          1,
          1,
          1,
          1,
          1,
          1,
          2,
          1,
          2,
          1,
          1,
          1,
          1,
          1,
          1,
          1,
          2,
          1,
          2,
          3,
          1,
          1,
          1,
          1,
          2,
          1,
          4,
          1,
          1,
          3,
          1,
          1,
          1,
          3,
          2,
          1,
          3,
          2,
          1,
          1,
          1,
          2,
          1,
          4,
          3,
          1,
          2,
          2,
          5,
          1,
          2,
          1,
          1,
          5,
          3,
          1,
          4,
          1,
          1,
          2,
          1,
          1,
          2,
          3,
          1,
          1,
          9,
          4,
          1,
          6,
          7,
          3,
          1,
          2,
          4,
          1,
          3,
          5,
          3,
          3,
          9,
          3,
          2,
          7,
          2,
          1,
          3,
          2,
          4,
          5,
          1,
          1,
          4,
          1,
          6,
          1
         ],
         "yaxis": "y"
        },
        {
         "alignmentgroup": "True",
         "hovertemplate": "DscClasseConsumo=Residencial<br>Ano_Mes=%{x}<br>NumCPFCNPJ=%{y}<extra></extra>",
         "legendgroup": "Residencial",
         "marker": {
          "color": "#EF553B",
          "pattern": {
           "shape": ""
          }
         },
         "name": "Residencial",
         "offsetgroup": "Residencial",
         "orientation": "v",
         "showlegend": true,
         "textposition": "auto",
         "type": "bar",
         "x": [
          "2013-10",
          "2014-02",
          "2014-03",
          "2014-07",
          "2014-10",
          "2014-11",
          "2014-12",
          "2015-01",
          "2015-02",
          "2015-04",
          "2015-05",
          "2015-06",
          "2015-07",
          "2015-07",
          "2015-08",
          "2015-09",
          "2015-10",
          "2015-11",
          "2015-12",
          "2016-01",
          "2016-01",
          "2016-03",
          "2016-03",
          "2016-04",
          "2016-05",
          "2016-06",
          "2016-07",
          "2016-08",
          "2016-08",
          "2016-08",
          "2016-08",
          "2016-09",
          "2016-09",
          "2016-09",
          "2016-10",
          "2016-10",
          "2016-11",
          "2016-11",
          "2016-12",
          "2016-12",
          "2016-12",
          "2017-01",
          "2017-01",
          "2017-02",
          "2017-02",
          "2017-03",
          "2017-03",
          "2017-03",
          "2017-03",
          "2017-04",
          "2017-04",
          "2017-04",
          "2017-05",
          "2017-05",
          "2017-05",
          "2017-06",
          "2017-06",
          "2017-06",
          "2017-06",
          "2017-07",
          "2017-07",
          "2017-07",
          "2017-08",
          "2017-08",
          "2017-08",
          "2017-09",
          "2017-09",
          "2017-09",
          "2017-10",
          "2017-10",
          "2017-10",
          "2017-10",
          "2017-11",
          "2017-11",
          "2017-11",
          "2017-11",
          "2017-12",
          "2017-12",
          "2017-12",
          "2018-01",
          "2018-01",
          "2018-01",
          "2018-01",
          "2018-01",
          "2018-02",
          "2018-02",
          "2018-02",
          "2018-02",
          "2018-02",
          "2018-03",
          "2018-03",
          "2018-03",
          "2018-03",
          "2018-03",
          "2018-04",
          "2018-04",
          "2018-04",
          "2018-04",
          "2018-05",
          "2018-05",
          "2018-05",
          "2018-05",
          "2018-06",
          "2018-06",
          "2018-06",
          "2018-07",
          "2018-07",
          "2018-07",
          "2018-07",
          "2018-08",
          "2018-08",
          "2018-08",
          "2018-08",
          "2018-09",
          "2018-09",
          "2018-09",
          "2018-09",
          "2018-10",
          "2018-10",
          "2018-10",
          "2018-10",
          "2018-11",
          "2018-11",
          "2018-11",
          "2018-11",
          "2018-12",
          "2018-12",
          "2018-12",
          "2018-12",
          "2019-01",
          "2019-01",
          "2019-01",
          "2019-01",
          "2019-02",
          "2019-02",
          "2019-02",
          "2019-02",
          "2019-03",
          "2019-03",
          "2019-03",
          "2019-03",
          "2019-04",
          "2019-04",
          "2019-04",
          "2019-04",
          "2019-05",
          "2019-05",
          "2019-05",
          "2019-05",
          "2019-06",
          "2019-06",
          "2019-06",
          "2019-06",
          "2019-07",
          "2019-07",
          "2019-07",
          "2019-08",
          "2019-08",
          "2019-08",
          "2019-08",
          "2019-09",
          "2019-09",
          "2019-09",
          "2019-09",
          "2019-10",
          "2019-10",
          "2019-10",
          "2019-10",
          "2019-11",
          "2019-11",
          "2019-11",
          "2019-11",
          "2019-11",
          "2019-12",
          "2019-12",
          "2019-12",
          "2019-12",
          "2019-12",
          "2020-01",
          "2020-01",
          "2020-01",
          "2020-01",
          "2020-02",
          "2020-02",
          "2020-02",
          "2020-02",
          "2020-03",
          "2020-03",
          "2020-03",
          "2020-03",
          "2020-04",
          "2020-04",
          "2020-04",
          "2020-05",
          "2020-05",
          "2020-05",
          "2020-06",
          "2020-06",
          "2020-06",
          "2020-07",
          "2020-07",
          "2020-07",
          "2020-07",
          "2020-08",
          "2020-08",
          "2020-08",
          "2020-08",
          "2020-09",
          "2020-09",
          "2020-09",
          "2020-09",
          "2020-10",
          "2020-10",
          "2020-10",
          "2020-10",
          "2020-11",
          "2020-11",
          "2020-11",
          "2020-11",
          "2020-11",
          "2020-12",
          "2020-12",
          "2020-12",
          "2020-12",
          "2021-01",
          "2021-01",
          "2021-01",
          "2021-01",
          "2021-02",
          "2021-02",
          "2021-02",
          "2021-02",
          "2021-03",
          "2021-03",
          "2021-03",
          "2021-03",
          "2021-04",
          "2021-04",
          "2021-04",
          "2021-04",
          "2021-05",
          "2021-05",
          "2021-05",
          "2021-05",
          "2021-06",
          "2021-06",
          "2021-06",
          "2021-06",
          "2021-07",
          "2021-07",
          "2021-07",
          "2021-07",
          "2021-07",
          "2021-08",
          "2021-08",
          "2021-08",
          "2021-08",
          "2021-09",
          "2021-09",
          "2021-09",
          "2021-09",
          "2021-10",
          "2021-10",
          "2021-10",
          "2021-10",
          "2021-11",
          "2021-11",
          "2021-11",
          "2021-11",
          "2021-12",
          "2021-12",
          "2021-12",
          "2021-12",
          "2022-01",
          "2022-01",
          "2022-01",
          "2022-01",
          "2022-02",
          "2022-02",
          "2022-02",
          "2022-02",
          "2022-03",
          "2022-03",
          "2022-03",
          "2022-03",
          "2022-03",
          "2022-04",
          "2022-04",
          "2022-04",
          "2022-04",
          "2022-05",
          "2022-05",
          "2022-05",
          "2022-05",
          "2022-06",
          "2022-06",
          "2022-06",
          "2022-06",
          "2022-07",
          "2022-07",
          "2022-07",
          "2022-07",
          "2022-08",
          "2022-08",
          "2022-08",
          "2022-08",
          "2022-09",
          "2022-09",
          "2022-09",
          "2022-09",
          "2022-10",
          "2022-10",
          "2022-10",
          "2022-10",
          "2022-11",
          "2022-11",
          "2022-11",
          "2022-11",
          "2022-12",
          "2022-12",
          "2022-12",
          "2022-12",
          "2022-12",
          "2023-01",
          "2023-01",
          "2023-01",
          "2023-01",
          "2023-02",
          "2023-02",
          "2023-02",
          "2023-02",
          "2023-03",
          "2023-03",
          "2023-03"
         ],
         "xaxis": "x",
         "y": [
          1,
          1,
          1,
          1,
          1,
          3,
          1,
          2,
          1,
          1,
          3,
          4,
          1,
          4,
          2,
          2,
          4,
          2,
          2,
          2,
          7,
          1,
          7,
          6,
          2,
          7,
          6,
          1,
          1,
          1,
          5,
          3,
          1,
          17,
          1,
          9,
          1,
          4,
          4,
          1,
          7,
          2,
          11,
          3,
          7,
          2,
          4,
          2,
          10,
          1,
          2,
          8,
          7,
          1,
          23,
          1,
          3,
          4,
          16,
          1,
          1,
          16,
          1,
          4,
          23,
          1,
          2,
          16,
          1,
          4,
          2,
          8,
          1,
          2,
          4,
          27,
          5,
          1,
          18,
          2,
          5,
          1,
          1,
          36,
          3,
          2,
          2,
          1,
          23,
          1,
          8,
          10,
          1,
          26,
          13,
          3,
          3,
          13,
          1,
          4,
          4,
          5,
          5,
          3,
          2,
          3,
          4,
          4,
          3,
          3,
          12,
          9,
          2,
          1,
          14,
          6,
          1,
          4,
          20,
          8,
          2,
          1,
          24,
          7,
          5,
          3,
          23,
          11,
          10,
          8,
          33,
          25,
          5,
          3,
          14,
          20,
          8,
          6,
          19,
          11,
          5,
          7,
          38,
          18,
          3,
          3,
          42,
          19,
          3,
          12,
          38,
          13,
          3,
          7,
          38,
          37,
          10,
          23,
          27,
          8,
          4,
          72,
          48,
          10,
          11,
          46,
          43,
          8,
          7,
          42,
          52,
          14,
          2,
          15,
          35,
          62,
          17,
          1,
          14,
          92,
          66,
          10,
          23,
          114,
          58,
          11,
          30,
          98,
          58,
          15,
          16,
          75,
          45,
          45,
          79,
          40,
          20,
          121,
          45,
          37,
          131,
          51,
          1,
          38,
          98,
          58,
          1,
          39,
          145,
          72,
          12,
          32,
          73,
          65,
          28,
          52,
          71,
          77,
          14,
          1,
          67,
          100,
          99,
          24,
          49,
          98,
          72,
          19,
          48,
          112,
          72,
          20,
          51,
          191,
          90,
          22,
          121,
          177,
          96,
          23,
          80,
          200,
          83,
          23,
          96,
          211,
          93,
          23,
          101,
          322,
          75,
          30,
          1,
          92,
          233,
          115,
          43,
          96,
          341,
          134,
          37,
          99,
          259,
          127,
          54,
          157,
          239,
          149,
          81,
          164,
          425,
          178,
          41,
          188,
          436,
          179,
          45,
          174,
          413,
          157,
          82,
          190,
          588,
          199,
          103,
          1,
          156,
          558,
          164,
          40,
          112,
          613,
          149,
          44,
          148,
          587,
          189,
          47,
          104,
          556,
          239,
          56,
          108,
          776,
          209,
          60,
          67,
          508,
          232,
          63,
          88,
          569,
          173,
          68,
          95,
          669,
          269,
          95,
          83,
          843,
          284,
          141,
          1,
          184,
          1062,
          458,
          196,
          126,
          1018,
          286,
          258,
          580,
          21,
          134
         ],
         "yaxis": "y"
        },
        {
         "alignmentgroup": "True",
         "hovertemplate": "DscClasseConsumo=Comercial<br>Ano_Mes=%{x}<br>NumCPFCNPJ=%{y}<extra></extra>",
         "legendgroup": "Comercial",
         "marker": {
          "color": "#00cc96",
          "pattern": {
           "shape": ""
          }
         },
         "name": "Comercial",
         "offsetgroup": "Comercial",
         "orientation": "v",
         "showlegend": true,
         "textposition": "auto",
         "type": "bar",
         "x": [
          "2014-06",
          "2014-07",
          "2014-09",
          "2015-01",
          "2015-03",
          "2015-05",
          "2015-06",
          "2015-06",
          "2015-06",
          "2015-07",
          "2015-07",
          "2015-08",
          "2015-09",
          "2015-12",
          "2015-12",
          "2016-01",
          "2016-02",
          "2016-04",
          "2016-05",
          "2016-06",
          "2016-07",
          "2016-08",
          "2016-09",
          "2016-11",
          "2016-12",
          "2016-12",
          "2017-02",
          "2017-02",
          "2017-03",
          "2017-04",
          "2017-04",
          "2017-04",
          "2017-05",
          "2017-05",
          "2017-05",
          "2017-06",
          "2017-06",
          "2017-06",
          "2017-07",
          "2017-08",
          "2017-08",
          "2017-08",
          "2017-09",
          "2017-09",
          "2017-09",
          "2017-10",
          "2017-10",
          "2017-11",
          "2017-11",
          "2017-12",
          "2017-12",
          "2018-01",
          "2018-01",
          "2018-02",
          "2018-02",
          "2018-02",
          "2018-03",
          "2018-03",
          "2018-03",
          "2018-04",
          "2018-04",
          "2018-05",
          "2018-05",
          "2018-06",
          "2018-06",
          "2018-06",
          "2018-07",
          "2018-07",
          "2018-08",
          "2018-08",
          "2018-09",
          "2018-09",
          "2018-10",
          "2018-10",
          "2018-10",
          "2018-11",
          "2018-11",
          "2018-11",
          "2018-12",
          "2018-12",
          "2018-12",
          "2018-12",
          "2019-01",
          "2019-01",
          "2019-01",
          "2019-01",
          "2019-02",
          "2019-02",
          "2019-02",
          "2019-02",
          "2019-03",
          "2019-03",
          "2019-04",
          "2019-04",
          "2019-04",
          "2019-04",
          "2019-05",
          "2019-05",
          "2019-05",
          "2019-06",
          "2019-06",
          "2019-06",
          "2019-07",
          "2019-07",
          "2019-07",
          "2019-07",
          "2019-08",
          "2019-08",
          "2019-08",
          "2019-08",
          "2019-09",
          "2019-09",
          "2019-09",
          "2019-09",
          "2019-10",
          "2019-10",
          "2019-10",
          "2019-10",
          "2019-11",
          "2019-11",
          "2019-11",
          "2019-11",
          "2019-12",
          "2019-12",
          "2019-12",
          "2019-12",
          "2020-01",
          "2020-01",
          "2020-01",
          "2020-01",
          "2020-02",
          "2020-02",
          "2020-02",
          "2020-02",
          "2020-03",
          "2020-03",
          "2020-03",
          "2020-03",
          "2020-04",
          "2020-04",
          "2020-04",
          "2020-05",
          "2020-05",
          "2020-05",
          "2020-06",
          "2020-06",
          "2020-06",
          "2020-07",
          "2020-07",
          "2020-07",
          "2020-08",
          "2020-08",
          "2020-08",
          "2020-08",
          "2020-09",
          "2020-09",
          "2020-09",
          "2020-10",
          "2020-10",
          "2020-10",
          "2020-10",
          "2020-10",
          "2020-11",
          "2020-11",
          "2020-11",
          "2020-11",
          "2020-12",
          "2020-12",
          "2020-12",
          "2020-12",
          "2021-01",
          "2021-01",
          "2021-01",
          "2021-01",
          "2021-02",
          "2021-02",
          "2021-02",
          "2021-02",
          "2021-02",
          "2021-03",
          "2021-03",
          "2021-03",
          "2021-03",
          "2021-04",
          "2021-04",
          "2021-04",
          "2021-04",
          "2021-05",
          "2021-05",
          "2021-05",
          "2021-05",
          "2021-06",
          "2021-06",
          "2021-06",
          "2021-06",
          "2021-06",
          "2021-07",
          "2021-07",
          "2021-07",
          "2021-07",
          "2021-08",
          "2021-08",
          "2021-08",
          "2021-08",
          "2021-09",
          "2021-09",
          "2021-09",
          "2021-09",
          "2021-10",
          "2021-10",
          "2021-10",
          "2021-10",
          "2021-11",
          "2021-11",
          "2021-11",
          "2021-11",
          "2021-12",
          "2021-12",
          "2021-12",
          "2021-12",
          "2022-01",
          "2022-01",
          "2022-01",
          "2022-01",
          "2022-02",
          "2022-02",
          "2022-02",
          "2022-02",
          "2022-03",
          "2022-03",
          "2022-03",
          "2022-03",
          "2022-04",
          "2022-04",
          "2022-04",
          "2022-04",
          "2022-05",
          "2022-05",
          "2022-05",
          "2022-05",
          "2022-06",
          "2022-06",
          "2022-06",
          "2022-06",
          "2022-07",
          "2022-07",
          "2022-07",
          "2022-07",
          "2022-08",
          "2022-08",
          "2022-08",
          "2022-08",
          "2022-09",
          "2022-09",
          "2022-09",
          "2022-09",
          "2022-10",
          "2022-10",
          "2022-10",
          "2022-10",
          "2022-10",
          "2022-11",
          "2022-11",
          "2022-11",
          "2022-11",
          "2022-12",
          "2022-12",
          "2022-12",
          "2022-12",
          "2023-01",
          "2023-01",
          "2023-01",
          "2023-01",
          "2023-02",
          "2023-02",
          "2023-02",
          "2023-02",
          "2023-03",
          "2023-03",
          "2023-03"
         ],
         "xaxis": "x",
         "y": [
          1,
          4,
          1,
          1,
          1,
          1,
          1,
          1,
          3,
          1,
          1,
          1,
          1,
          1,
          2,
          3,
          2,
          2,
          2,
          1,
          1,
          1,
          4,
          5,
          1,
          2,
          3,
          6,
          3,
          1,
          2,
          7,
          1,
          1,
          3,
          1,
          1,
          8,
          3,
          1,
          1,
          13,
          1,
          2,
          9,
          1,
          8,
          1,
          1,
          1,
          13,
          3,
          8,
          2,
          1,
          8,
          1,
          1,
          8,
          2,
          1,
          1,
          1,
          1,
          3,
          1,
          2,
          1,
          3,
          1,
          5,
          1,
          2,
          3,
          2,
          2,
          6,
          1,
          1,
          6,
          2,
          1,
          3,
          7,
          4,
          1,
          1,
          8,
          1,
          2,
          1,
          6,
          2,
          19,
          1,
          1,
          8,
          5,
          4,
          3,
          16,
          5,
          2,
          9,
          5,
          4,
          2,
          12,
          4,
          2,
          6,
          21,
          8,
          4,
          5,
          18,
          5,
          2,
          3,
          19,
          4,
          2,
          3,
          11,
          4,
          1,
          4,
          37,
          6,
          6,
          10,
          29,
          8,
          5,
          8,
          30,
          8,
          4,
          3,
          29,
          4,
          7,
          14,
          11,
          4,
          32,
          11,
          6,
          44,
          10,
          3,
          17,
          15,
          2,
          8,
          28,
          22,
          7,
          24,
          14,
          2,
          1,
          8,
          21,
          10,
          3,
          6,
          40,
          15,
          6,
          8,
          37,
          17,
          5,
          11,
          29,
          12,
          1,
          1,
          7,
          51,
          19,
          2,
          15,
          53,
          15,
          6,
          15,
          42,
          21,
          5,
          11,
          40,
          25,
          7,
          1,
          19,
          64,
          28,
          4,
          14,
          56,
          34,
          6,
          26,
          67,
          26,
          3,
          18,
          47,
          22,
          7,
          28,
          49,
          22,
          8,
          23,
          94,
          33,
          8,
          20,
          78,
          33,
          6,
          18,
          58,
          35,
          6,
          21,
          81,
          29,
          11,
          17,
          82,
          42,
          6,
          15,
          87,
          34,
          3,
          13,
          60,
          33,
          2,
          23,
          64,
          37,
          11,
          18,
          100,
          39,
          4,
          8,
          102,
          36,
          3,
          12,
          107,
          22,
          2,
          1,
          11,
          99,
          40,
          8,
          16,
          109,
          40,
          2,
          24,
          126,
          52,
          10,
          20,
          107,
          31,
          4,
          69,
          1,
          4
         ],
         "yaxis": "y"
        },
        {
         "alignmentgroup": "True",
         "hovertemplate": "DscClasseConsumo=Rural<br>Ano_Mes=%{x}<br>NumCPFCNPJ=%{y}<extra></extra>",
         "legendgroup": "Rural",
         "marker": {
          "color": "#ab63fa",
          "pattern": {
           "shape": ""
          }
         },
         "name": "Rural",
         "offsetgroup": "Rural",
         "orientation": "v",
         "showlegend": true,
         "textposition": "auto",
         "type": "bar",
         "x": [
          "2015-10",
          "2016-03",
          "2016-04",
          "2016-11",
          "2017-03",
          "2017-05",
          "2017-08",
          "2017-11",
          "2017-12",
          "2018-01",
          "2018-02",
          "2018-03",
          "2018-08",
          "2018-09",
          "2019-01",
          "2019-02",
          "2019-04",
          "2019-04",
          "2019-05",
          "2019-05",
          "2019-07",
          "2019-07",
          "2019-09",
          "2019-09",
          "2019-10",
          "2019-10",
          "2019-11",
          "2019-12",
          "2019-12",
          "2020-01",
          "2020-01",
          "2020-02",
          "2020-02",
          "2020-03",
          "2020-03",
          "2020-03",
          "2020-04",
          "2020-04",
          "2020-05",
          "2020-05",
          "2020-05",
          "2020-06",
          "2020-06",
          "2020-07",
          "2020-07",
          "2020-08",
          "2020-08",
          "2020-09",
          "2020-09",
          "2020-09",
          "2020-10",
          "2020-10",
          "2020-11",
          "2020-11",
          "2020-12",
          "2020-12",
          "2021-01",
          "2021-01",
          "2021-01",
          "2021-02",
          "2021-02",
          "2021-03",
          "2021-03",
          "2021-04",
          "2021-04",
          "2021-04",
          "2021-05",
          "2021-05",
          "2021-05",
          "2021-06",
          "2021-06",
          "2021-06",
          "2021-07",
          "2021-07",
          "2021-07",
          "2021-08",
          "2021-08",
          "2021-09",
          "2021-09",
          "2021-10",
          "2021-10",
          "2021-10",
          "2021-11",
          "2021-11",
          "2021-11",
          "2021-11",
          "2021-12",
          "2021-12",
          "2021-12",
          "2022-01",
          "2022-01",
          "2022-02",
          "2022-02",
          "2022-03",
          "2022-03",
          "2022-03",
          "2022-04",
          "2022-04",
          "2022-04",
          "2022-05",
          "2022-05",
          "2022-06",
          "2022-06",
          "2022-06",
          "2022-06",
          "2022-07",
          "2022-07",
          "2022-07",
          "2022-08",
          "2022-08",
          "2022-08",
          "2022-09",
          "2022-09",
          "2022-09",
          "2022-10",
          "2022-10",
          "2022-10",
          "2022-11",
          "2022-11",
          "2022-12",
          "2022-12",
          "2022-12",
          "2023-01",
          "2023-01",
          "2023-01",
          "2023-02",
          "2023-02",
          "2023-02",
          "2023-03"
         ],
         "xaxis": "x",
         "y": [
          1,
          1,
          1,
          1,
          1,
          1,
          2,
          1,
          1,
          4,
          1,
          2,
          1,
          1,
          1,
          1,
          1,
          1,
          1,
          1,
          1,
          1,
          2,
          1,
          1,
          1,
          2,
          3,
          3,
          2,
          1,
          2,
          1,
          2,
          1,
          1,
          3,
          3,
          1,
          4,
          1,
          1,
          8,
          1,
          4,
          1,
          2,
          1,
          4,
          1,
          2,
          7,
          2,
          4,
          1,
          5,
          1,
          4,
          1,
          4,
          3,
          2,
          9,
          6,
          1,
          2,
          8,
          3,
          3,
          11,
          5,
          2,
          2,
          6,
          1,
          6,
          6,
          1,
          7,
          11,
          10,
          3,
          4,
          6,
          1,
          1,
          8,
          8,
          1,
          12,
          5,
          6,
          16,
          9,
          9,
          1,
          9,
          17,
          2,
          15,
          15,
          8,
          9,
          1,
          1,
          9,
          12,
          2,
          12,
          15,
          2,
          5,
          16,
          3,
          4,
          14,
          3,
          5,
          19,
          5,
          26,
          1,
          13,
          40,
          8,
          7,
          29,
          2,
          16
         ],
         "yaxis": "y"
        },
        {
         "alignmentgroup": "True",
         "hovertemplate": "DscClasseConsumo=Poder Público<br>Ano_Mes=%{x}<br>NumCPFCNPJ=%{y}<extra></extra>",
         "legendgroup": "Poder Público",
         "marker": {
          "color": "#FFA15A",
          "pattern": {
           "shape": ""
          }
         },
         "name": "Poder Público",
         "offsetgroup": "Poder Público",
         "orientation": "v",
         "showlegend": true,
         "textposition": "auto",
         "type": "bar",
         "x": [
          "2016-07",
          "2017-02",
          "2017-04",
          "2017-05",
          "2017-07",
          "2017-08",
          "2017-08",
          "2017-09",
          "2017-12",
          "2018-02",
          "2018-10",
          "2019-01",
          "2019-03",
          "2019-04",
          "2019-05",
          "2019-07",
          "2019-09",
          "2019-11",
          "2019-12",
          "2020-01",
          "2020-01",
          "2020-02",
          "2020-03",
          "2020-04",
          "2020-06",
          "2020-06",
          "2020-07",
          "2020-09",
          "2020-10",
          "2020-11",
          "2020-11",
          "2020-12",
          "2020-12",
          "2021-01",
          "2021-01",
          "2021-02",
          "2021-02",
          "2021-04",
          "2021-04",
          "2021-05",
          "2021-07",
          "2021-08",
          "2021-08",
          "2021-09",
          "2021-10",
          "2021-10",
          "2021-11",
          "2021-11",
          "2021-11",
          "2021-12",
          "2022-01",
          "2022-01",
          "2022-02",
          "2022-04",
          "2022-04",
          "2022-04",
          "2022-05",
          "2022-06",
          "2022-06",
          "2022-07",
          "2022-07",
          "2022-08",
          "2022-08",
          "2022-08",
          "2022-09",
          "2022-09",
          "2022-10",
          "2022-11",
          "2022-11",
          "2022-12",
          "2023-01",
          "2023-02",
          "2023-02",
          "2023-02"
         ],
         "xaxis": "x",
         "y": [
          1,
          1,
          1,
          1,
          1,
          1,
          1,
          1,
          1,
          1,
          1,
          1,
          1,
          1,
          1,
          1,
          1,
          1,
          1,
          2,
          2,
          1,
          2,
          2,
          1,
          1,
          2,
          2,
          2,
          2,
          2,
          9,
          1,
          4,
          1,
          2,
          4,
          2,
          1,
          1,
          1,
          3,
          1,
          2,
          1,
          3,
          1,
          2,
          1,
          1,
          1,
          1,
          1,
          1,
          1,
          1,
          1,
          1,
          2,
          2,
          1,
          1,
          3,
          1,
          2,
          1,
          1,
          1,
          1,
          3,
          1,
          3,
          1,
          1
         ],
         "yaxis": "y"
        },
        {
         "alignmentgroup": "True",
         "hovertemplate": "DscClasseConsumo=Serviço Público<br>Ano_Mes=%{x}<br>NumCPFCNPJ=%{y}<extra></extra>",
         "legendgroup": "Serviço Público",
         "marker": {
          "color": "#19d3f3",
          "pattern": {
           "shape": ""
          }
         },
         "name": "Serviço Público",
         "offsetgroup": "Serviço Público",
         "orientation": "v",
         "showlegend": true,
         "textposition": "auto",
         "type": "bar",
         "x": [
          "2019-01",
          "2020-04",
          "2021-03",
          "2021-06"
         ],
         "xaxis": "x",
         "y": [
          1,
          1,
          1,
          1
         ],
         "yaxis": "y"
        }
       ],
       "layout": {
        "barmode": "relative",
        "height": 600,
        "legend": {
         "title": {
          "text": "DscClasseConsumo"
         },
         "tracegroupgap": 0
        },
        "margin": {
         "t": 130
        },
        "template": {
         "data": {
          "bar": [
           {
            "error_x": {
             "color": "#2a3f5f"
            },
            "error_y": {
             "color": "#2a3f5f"
            },
            "marker": {
             "line": {
              "color": "#E5ECF6",
              "width": 0.5
             },
             "pattern": {
              "fillmode": "overlay",
              "size": 10,
              "solidity": 0.2
             }
            },
            "type": "bar"
           }
          ],
          "barpolar": [
           {
            "marker": {
             "line": {
              "color": "#E5ECF6",
              "width": 0.5
             },
             "pattern": {
              "fillmode": "overlay",
              "size": 10,
              "solidity": 0.2
             }
            },
            "type": "barpolar"
           }
          ],
          "carpet": [
           {
            "aaxis": {
             "endlinecolor": "#2a3f5f",
             "gridcolor": "white",
             "linecolor": "white",
             "minorgridcolor": "white",
             "startlinecolor": "#2a3f5f"
            },
            "baxis": {
             "endlinecolor": "#2a3f5f",
             "gridcolor": "white",
             "linecolor": "white",
             "minorgridcolor": "white",
             "startlinecolor": "#2a3f5f"
            },
            "type": "carpet"
           }
          ],
          "choropleth": [
           {
            "colorbar": {
             "outlinewidth": 0,
             "ticks": ""
            },
            "type": "choropleth"
           }
          ],
          "contour": [
           {
            "colorbar": {
             "outlinewidth": 0,
             "ticks": ""
            },
            "colorscale": [
             [
              0,
              "#0d0887"
             ],
             [
              0.1111111111111111,
              "#46039f"
             ],
             [
              0.2222222222222222,
              "#7201a8"
             ],
             [
              0.3333333333333333,
              "#9c179e"
             ],
             [
              0.4444444444444444,
              "#bd3786"
             ],
             [
              0.5555555555555556,
              "#d8576b"
             ],
             [
              0.6666666666666666,
              "#ed7953"
             ],
             [
              0.7777777777777778,
              "#fb9f3a"
             ],
             [
              0.8888888888888888,
              "#fdca26"
             ],
             [
              1,
              "#f0f921"
             ]
            ],
            "type": "contour"
           }
          ],
          "contourcarpet": [
           {
            "colorbar": {
             "outlinewidth": 0,
             "ticks": ""
            },
            "type": "contourcarpet"
           }
          ],
          "heatmap": [
           {
            "colorbar": {
             "outlinewidth": 0,
             "ticks": ""
            },
            "colorscale": [
             [
              0,
              "#0d0887"
             ],
             [
              0.1111111111111111,
              "#46039f"
             ],
             [
              0.2222222222222222,
              "#7201a8"
             ],
             [
              0.3333333333333333,
              "#9c179e"
             ],
             [
              0.4444444444444444,
              "#bd3786"
             ],
             [
              0.5555555555555556,
              "#d8576b"
             ],
             [
              0.6666666666666666,
              "#ed7953"
             ],
             [
              0.7777777777777778,
              "#fb9f3a"
             ],
             [
              0.8888888888888888,
              "#fdca26"
             ],
             [
              1,
              "#f0f921"
             ]
            ],
            "type": "heatmap"
           }
          ],
          "heatmapgl": [
           {
            "colorbar": {
             "outlinewidth": 0,
             "ticks": ""
            },
            "colorscale": [
             [
              0,
              "#0d0887"
             ],
             [
              0.1111111111111111,
              "#46039f"
             ],
             [
              0.2222222222222222,
              "#7201a8"
             ],
             [
              0.3333333333333333,
              "#9c179e"
             ],
             [
              0.4444444444444444,
              "#bd3786"
             ],
             [
              0.5555555555555556,
              "#d8576b"
             ],
             [
              0.6666666666666666,
              "#ed7953"
             ],
             [
              0.7777777777777778,
              "#fb9f3a"
             ],
             [
              0.8888888888888888,
              "#fdca26"
             ],
             [
              1,
              "#f0f921"
             ]
            ],
            "type": "heatmapgl"
           }
          ],
          "histogram": [
           {
            "marker": {
             "pattern": {
              "fillmode": "overlay",
              "size": 10,
              "solidity": 0.2
             }
            },
            "type": "histogram"
           }
          ],
          "histogram2d": [
           {
            "colorbar": {
             "outlinewidth": 0,
             "ticks": ""
            },
            "colorscale": [
             [
              0,
              "#0d0887"
             ],
             [
              0.1111111111111111,
              "#46039f"
             ],
             [
              0.2222222222222222,
              "#7201a8"
             ],
             [
              0.3333333333333333,
              "#9c179e"
             ],
             [
              0.4444444444444444,
              "#bd3786"
             ],
             [
              0.5555555555555556,
              "#d8576b"
             ],
             [
              0.6666666666666666,
              "#ed7953"
             ],
             [
              0.7777777777777778,
              "#fb9f3a"
             ],
             [
              0.8888888888888888,
              "#fdca26"
             ],
             [
              1,
              "#f0f921"
             ]
            ],
            "type": "histogram2d"
           }
          ],
          "histogram2dcontour": [
           {
            "colorbar": {
             "outlinewidth": 0,
             "ticks": ""
            },
            "colorscale": [
             [
              0,
              "#0d0887"
             ],
             [
              0.1111111111111111,
              "#46039f"
             ],
             [
              0.2222222222222222,
              "#7201a8"
             ],
             [
              0.3333333333333333,
              "#9c179e"
             ],
             [
              0.4444444444444444,
              "#bd3786"
             ],
             [
              0.5555555555555556,
              "#d8576b"
             ],
             [
              0.6666666666666666,
              "#ed7953"
             ],
             [
              0.7777777777777778,
              "#fb9f3a"
             ],
             [
              0.8888888888888888,
              "#fdca26"
             ],
             [
              1,
              "#f0f921"
             ]
            ],
            "type": "histogram2dcontour"
           }
          ],
          "mesh3d": [
           {
            "colorbar": {
             "outlinewidth": 0,
             "ticks": ""
            },
            "type": "mesh3d"
           }
          ],
          "parcoords": [
           {
            "line": {
             "colorbar": {
              "outlinewidth": 0,
              "ticks": ""
             }
            },
            "type": "parcoords"
           }
          ],
          "pie": [
           {
            "automargin": true,
            "type": "pie"
           }
          ],
          "scatter": [
           {
            "fillpattern": {
             "fillmode": "overlay",
             "size": 10,
             "solidity": 0.2
            },
            "type": "scatter"
           }
          ],
          "scatter3d": [
           {
            "line": {
             "colorbar": {
              "outlinewidth": 0,
              "ticks": ""
             }
            },
            "marker": {
             "colorbar": {
              "outlinewidth": 0,
              "ticks": ""
             }
            },
            "type": "scatter3d"
           }
          ],
          "scattercarpet": [
           {
            "marker": {
             "colorbar": {
              "outlinewidth": 0,
              "ticks": ""
             }
            },
            "type": "scattercarpet"
           }
          ],
          "scattergeo": [
           {
            "marker": {
             "colorbar": {
              "outlinewidth": 0,
              "ticks": ""
             }
            },
            "type": "scattergeo"
           }
          ],
          "scattergl": [
           {
            "marker": {
             "colorbar": {
              "outlinewidth": 0,
              "ticks": ""
             }
            },
            "type": "scattergl"
           }
          ],
          "scattermapbox": [
           {
            "marker": {
             "colorbar": {
              "outlinewidth": 0,
              "ticks": ""
             }
            },
            "type": "scattermapbox"
           }
          ],
          "scatterpolar": [
           {
            "marker": {
             "colorbar": {
              "outlinewidth": 0,
              "ticks": ""
             }
            },
            "type": "scatterpolar"
           }
          ],
          "scatterpolargl": [
           {
            "marker": {
             "colorbar": {
              "outlinewidth": 0,
              "ticks": ""
             }
            },
            "type": "scatterpolargl"
           }
          ],
          "scatterternary": [
           {
            "marker": {
             "colorbar": {
              "outlinewidth": 0,
              "ticks": ""
             }
            },
            "type": "scatterternary"
           }
          ],
          "surface": [
           {
            "colorbar": {
             "outlinewidth": 0,
             "ticks": ""
            },
            "colorscale": [
             [
              0,
              "#0d0887"
             ],
             [
              0.1111111111111111,
              "#46039f"
             ],
             [
              0.2222222222222222,
              "#7201a8"
             ],
             [
              0.3333333333333333,
              "#9c179e"
             ],
             [
              0.4444444444444444,
              "#bd3786"
             ],
             [
              0.5555555555555556,
              "#d8576b"
             ],
             [
              0.6666666666666666,
              "#ed7953"
             ],
             [
              0.7777777777777778,
              "#fb9f3a"
             ],
             [
              0.8888888888888888,
              "#fdca26"
             ],
             [
              1,
              "#f0f921"
             ]
            ],
            "type": "surface"
           }
          ],
          "table": [
           {
            "cells": {
             "fill": {
              "color": "#EBF0F8"
             },
             "line": {
              "color": "white"
             }
            },
            "header": {
             "fill": {
              "color": "#C8D4E3"
             },
             "line": {
              "color": "white"
             }
            },
            "type": "table"
           }
          ]
         },
         "layout": {
          "annotationdefaults": {
           "arrowcolor": "#2a3f5f",
           "arrowhead": 0,
           "arrowwidth": 1
          },
          "autotypenumbers": "strict",
          "coloraxis": {
           "colorbar": {
            "outlinewidth": 0,
            "ticks": ""
           }
          },
          "colorscale": {
           "diverging": [
            [
             0,
             "#8e0152"
            ],
            [
             0.1,
             "#c51b7d"
            ],
            [
             0.2,
             "#de77ae"
            ],
            [
             0.3,
             "#f1b6da"
            ],
            [
             0.4,
             "#fde0ef"
            ],
            [
             0.5,
             "#f7f7f7"
            ],
            [
             0.6,
             "#e6f5d0"
            ],
            [
             0.7,
             "#b8e186"
            ],
            [
             0.8,
             "#7fbc41"
            ],
            [
             0.9,
             "#4d9221"
            ],
            [
             1,
             "#276419"
            ]
           ],
           "sequential": [
            [
             0,
             "#0d0887"
            ],
            [
             0.1111111111111111,
             "#46039f"
            ],
            [
             0.2222222222222222,
             "#7201a8"
            ],
            [
             0.3333333333333333,
             "#9c179e"
            ],
            [
             0.4444444444444444,
             "#bd3786"
            ],
            [
             0.5555555555555556,
             "#d8576b"
            ],
            [
             0.6666666666666666,
             "#ed7953"
            ],
            [
             0.7777777777777778,
             "#fb9f3a"
            ],
            [
             0.8888888888888888,
             "#fdca26"
            ],
            [
             1,
             "#f0f921"
            ]
           ],
           "sequentialminus": [
            [
             0,
             "#0d0887"
            ],
            [
             0.1111111111111111,
             "#46039f"
            ],
            [
             0.2222222222222222,
             "#7201a8"
            ],
            [
             0.3333333333333333,
             "#9c179e"
            ],
            [
             0.4444444444444444,
             "#bd3786"
            ],
            [
             0.5555555555555556,
             "#d8576b"
            ],
            [
             0.6666666666666666,
             "#ed7953"
            ],
            [
             0.7777777777777778,
             "#fb9f3a"
            ],
            [
             0.8888888888888888,
             "#fdca26"
            ],
            [
             1,
             "#f0f921"
            ]
           ]
          },
          "colorway": [
           "#636efa",
           "#EF553B",
           "#00cc96",
           "#ab63fa",
           "#FFA15A",
           "#19d3f3",
           "#FF6692",
           "#B6E880",
           "#FF97FF",
           "#FECB52"
          ],
          "font": {
           "color": "#2a3f5f"
          },
          "geo": {
           "bgcolor": "white",
           "lakecolor": "white",
           "landcolor": "#E5ECF6",
           "showlakes": true,
           "showland": true,
           "subunitcolor": "white"
          },
          "hoverlabel": {
           "align": "left"
          },
          "hovermode": "closest",
          "mapbox": {
           "style": "light"
          },
          "paper_bgcolor": "white",
          "plot_bgcolor": "#E5ECF6",
          "polar": {
           "angularaxis": {
            "gridcolor": "white",
            "linecolor": "white",
            "ticks": ""
           },
           "bgcolor": "#E5ECF6",
           "radialaxis": {
            "gridcolor": "white",
            "linecolor": "white",
            "ticks": ""
           }
          },
          "scene": {
           "xaxis": {
            "backgroundcolor": "#E5ECF6",
            "gridcolor": "white",
            "gridwidth": 2,
            "linecolor": "white",
            "showbackground": true,
            "ticks": "",
            "zerolinecolor": "white"
           },
           "yaxis": {
            "backgroundcolor": "#E5ECF6",
            "gridcolor": "white",
            "gridwidth": 2,
            "linecolor": "white",
            "showbackground": true,
            "ticks": "",
            "zerolinecolor": "white"
           },
           "zaxis": {
            "backgroundcolor": "#E5ECF6",
            "gridcolor": "white",
            "gridwidth": 2,
            "linecolor": "white",
            "showbackground": true,
            "ticks": "",
            "zerolinecolor": "white"
           }
          },
          "shapedefaults": {
           "line": {
            "color": "#2a3f5f"
           }
          },
          "ternary": {
           "aaxis": {
            "gridcolor": "white",
            "linecolor": "white",
            "ticks": ""
           },
           "baxis": {
            "gridcolor": "white",
            "linecolor": "white",
            "ticks": ""
           },
           "bgcolor": "#E5ECF6",
           "caxis": {
            "gridcolor": "white",
            "linecolor": "white",
            "ticks": ""
           }
          },
          "title": {
           "x": 0.05
          },
          "xaxis": {
           "automargin": true,
           "gridcolor": "white",
           "linecolor": "white",
           "ticks": "",
           "title": {
            "standoff": 15
           },
           "zerolinecolor": "white",
           "zerolinewidth": 2
          },
          "yaxis": {
           "automargin": true,
           "gridcolor": "white",
           "linecolor": "white",
           "ticks": "",
           "title": {
            "standoff": 15
           },
           "zerolinecolor": "white",
           "zerolinewidth": 2
          }
         }
        },
        "title": {
         "font": {
          "size": 20
         },
         "text": "Novos usuários da Energia distribuida",
         "x": 0.5
        },
        "width": 1200,
        "xaxis": {
         "anchor": "y",
         "domain": [
          0,
          1
         ],
         "tickfont": {
          "size": 14
         },
         "title": {
          "font": {
           "size": 16
          },
          "text": "Ano_Mes"
         }
        },
        "yaxis": {
         "anchor": "x",
         "domain": [
          0,
          1
         ],
         "range": [
          0,
          6000
         ],
         "tickfont": {
          "size": 14
         },
         "title": {
          "font": {
           "size": 16
          },
          "text": "NumCPFCNPJ"
         }
        }
       }
      }
     },
     "metadata": {},
     "output_type": "display_data"
    }
   ],
   "source": [
    "# O gráfico 1 mostra a evolução temporal do Total Mensal de Empreendimentos por Estado e por Classe de Consumo;\n",
    "\n",
    "    # OBS1: estados com menos de 10 empreendimentos foram excluídos do gráfico;\n",
    "    # OBS2: os dados de 2023 representam um corte até hoje\n",
    "\n",
    "\n",
    "# agrupa os dados\n",
    "counts = df_clean.groupby(['Ano_Mes', 'SigUF', 'DscClasseConsumo']).agg({'NumCPFCNPJ': 'nunique'}).reset_index()\n",
    "\n",
    "# Cria uma lista com as opções de SigUF para dropdown\n",
    "sigufs = df_clean['SigUF'].unique()\n",
    "\n",
    "# cria o gráfico de áreas empilhadas\n",
    "\n",
    "fig_3 = px.bar(counts, x=\"Ano_Mes\", y=\"NumCPFCNPJ\", color=\"DscClasseConsumo\", title=\"Novos usuários da rede distribuida\")\n",
    "\n",
    "# estilo do grafico\n",
    "fig_3.update_layout(\n",
    "    width=1200,\n",
    "    height=600,\n",
    "    xaxis_title='Ano_Mes',\n",
    "    xaxis_title_font_size=16,\n",
    "    xaxis_tickfont_size=14,\n",
    "    yaxis_title='NumCPFCNPJ',\n",
    "    yaxis_title_font_size=16,\n",
    "    yaxis_tickfont_size=14,\n",
    "    title='Novos usuários da Energia distribuida',\n",
    "    title_font_size=20,\n",
    "    title_x=.5,\n",
    "    margin=dict(t=130)\n",
    ")\n",
    "\n",
    "\n",
    "fig_3.update_yaxes(range=[0, 6000])"
   ]
  },
  {
   "cell_type": "code",
   "execution_count": null,
   "id": "723c4cce",
   "metadata": {},
   "outputs": [],
   "source": [
    "\n",
    "\n",
    "\n",
    "\n",
    "\n",
    "\n",
    "\n",
    "\n",
    "\n",
    "\n",
    "\n",
    "\n",
    "\n",
    "\n",
    "\n",
    "\n",
    "\n"
   ]
  },
  {
   "cell_type": "code",
   "execution_count": 76,
   "id": "4ce5c6e7",
   "metadata": {},
   "outputs": [
    {
     "data": {
      "application/vnd.plotly.v1+json": {
       "config": {
        "plotlyServerURL": "https://plot.ly"
       },
       "data": [
        {
         "alignmentgroup": "True",
         "hovertemplate": "DscClasseConsumo=Industrial<br>Ano_Mes=%{x}<br>NumCPFCNPJ=%{y}<extra></extra>",
         "legendgroup": "Industrial",
         "marker": {
          "color": "#636efa",
          "pattern": {
           "shape": ""
          }
         },
         "name": "Industrial",
         "offsetgroup": "Industrial",
         "orientation": "v",
         "showlegend": true,
         "textposition": "auto",
         "type": "bar",
         "x": [
          "2012-02",
          "2014-09",
          "2016-05",
          "2016-07",
          "2016-11",
          "2016-12",
          "2017-01",
          "2017-10",
          "2018-01",
          "2018-02",
          "2018-03",
          "2018-05",
          "2018-06",
          "2018-08",
          "2018-10",
          "2018-10",
          "2018-11",
          "2019-01",
          "2019-02",
          "2019-03",
          "2019-04",
          "2019-07",
          "2019-08",
          "2019-09",
          "2019-10",
          "2019-10",
          "2019-11",
          "2019-12",
          "2020-01",
          "2020-01",
          "2020-02",
          "2020-03",
          "2020-03",
          "2020-04",
          "2020-05",
          "2020-05",
          "2020-06",
          "2020-06",
          "2020-06",
          "2020-08",
          "2020-09",
          "2020-10",
          "2020-10",
          "2020-11",
          "2020-11",
          "2020-11",
          "2020-12",
          "2021-01",
          "2021-02",
          "2021-02",
          "2021-03",
          "2021-04",
          "2021-04",
          "2021-05",
          "2021-05",
          "2021-05",
          "2021-06",
          "2021-06",
          "2021-06",
          "2021-07",
          "2021-07",
          "2021-08",
          "2021-08",
          "2021-09",
          "2021-09",
          "2021-09",
          "2021-10",
          "2021-10",
          "2021-11",
          "2021-12",
          "2021-12",
          "2021-12",
          "2022-01",
          "2022-01",
          "2022-02",
          "2022-02",
          "2022-03",
          "2022-03",
          "2022-03",
          "2022-04",
          "2022-04",
          "2022-05",
          "2022-05",
          "2022-06",
          "2022-06",
          "2022-07",
          "2022-07",
          "2022-08",
          "2022-08",
          "2022-09",
          "2022-09",
          "2022-10",
          "2022-10",
          "2022-11",
          "2022-11",
          "2022-11",
          "2022-12",
          "2022-12",
          "2022-12",
          "2023-01",
          "2023-01",
          "2023-01",
          "2023-02",
          "2023-02",
          "2023-02",
          "2023-03",
          "2023-03"
         ],
         "xaxis": "x",
         "y": [
          1,
          1,
          1,
          1,
          1,
          1,
          1,
          1,
          1,
          1,
          1,
          1,
          1,
          1,
          1,
          1,
          1,
          2,
          1,
          2,
          1,
          1,
          1,
          1,
          1,
          1,
          1,
          2,
          1,
          2,
          3,
          1,
          1,
          1,
          1,
          2,
          1,
          4,
          1,
          1,
          3,
          1,
          1,
          1,
          3,
          2,
          1,
          3,
          2,
          1,
          1,
          1,
          2,
          1,
          4,
          3,
          1,
          2,
          2,
          5,
          1,
          2,
          1,
          1,
          5,
          3,
          1,
          4,
          1,
          1,
          2,
          1,
          1,
          2,
          3,
          1,
          1,
          9,
          4,
          1,
          6,
          7,
          3,
          1,
          2,
          4,
          1,
          3,
          5,
          3,
          3,
          9,
          3,
          2,
          7,
          2,
          1,
          3,
          2,
          4,
          5,
          1,
          1,
          4,
          1,
          7,
          1
         ],
         "yaxis": "y"
        },
        {
         "alignmentgroup": "True",
         "hovertemplate": "DscClasseConsumo=Residencial<br>Ano_Mes=%{x}<br>NumCPFCNPJ=%{y}<extra></extra>",
         "legendgroup": "Residencial",
         "marker": {
          "color": "#EF553B",
          "pattern": {
           "shape": ""
          }
         },
         "name": "Residencial",
         "offsetgroup": "Residencial",
         "orientation": "v",
         "showlegend": true,
         "textposition": "auto",
         "type": "bar",
         "x": [
          "2013-10",
          "2014-02",
          "2014-03",
          "2014-07",
          "2014-10",
          "2014-11",
          "2014-12",
          "2015-01",
          "2015-02",
          "2015-04",
          "2015-05",
          "2015-06",
          "2015-07",
          "2015-07",
          "2015-08",
          "2015-09",
          "2015-10",
          "2015-11",
          "2015-12",
          "2016-01",
          "2016-01",
          "2016-03",
          "2016-03",
          "2016-04",
          "2016-05",
          "2016-06",
          "2016-07",
          "2016-08",
          "2016-08",
          "2016-08",
          "2016-08",
          "2016-09",
          "2016-09",
          "2016-09",
          "2016-10",
          "2016-10",
          "2016-11",
          "2016-11",
          "2016-12",
          "2016-12",
          "2016-12",
          "2017-01",
          "2017-01",
          "2017-02",
          "2017-02",
          "2017-03",
          "2017-03",
          "2017-03",
          "2017-03",
          "2017-04",
          "2017-04",
          "2017-04",
          "2017-05",
          "2017-05",
          "2017-05",
          "2017-06",
          "2017-06",
          "2017-06",
          "2017-06",
          "2017-07",
          "2017-07",
          "2017-07",
          "2017-08",
          "2017-08",
          "2017-08",
          "2017-09",
          "2017-09",
          "2017-09",
          "2017-10",
          "2017-10",
          "2017-10",
          "2017-10",
          "2017-11",
          "2017-11",
          "2017-11",
          "2017-11",
          "2017-12",
          "2017-12",
          "2017-12",
          "2018-01",
          "2018-01",
          "2018-01",
          "2018-01",
          "2018-01",
          "2018-02",
          "2018-02",
          "2018-02",
          "2018-02",
          "2018-02",
          "2018-03",
          "2018-03",
          "2018-03",
          "2018-03",
          "2018-03",
          "2018-04",
          "2018-04",
          "2018-04",
          "2018-05",
          "2018-05",
          "2018-05",
          "2018-05",
          "2018-06",
          "2018-06",
          "2018-06",
          "2018-07",
          "2018-07",
          "2018-07",
          "2018-07",
          "2018-08",
          "2018-08",
          "2018-08",
          "2018-08",
          "2018-09",
          "2018-09",
          "2018-09",
          "2018-09",
          "2018-10",
          "2018-10",
          "2018-10",
          "2018-10",
          "2018-11",
          "2018-11",
          "2018-11",
          "2018-11",
          "2018-12",
          "2018-12",
          "2018-12",
          "2018-12",
          "2019-01",
          "2019-01",
          "2019-01",
          "2019-01",
          "2019-02",
          "2019-02",
          "2019-02",
          "2019-02",
          "2019-03",
          "2019-03",
          "2019-03",
          "2019-03",
          "2019-04",
          "2019-04",
          "2019-04",
          "2019-04",
          "2019-05",
          "2019-05",
          "2019-05",
          "2019-05",
          "2019-06",
          "2019-06",
          "2019-06",
          "2019-06",
          "2019-07",
          "2019-07",
          "2019-07",
          "2019-08",
          "2019-08",
          "2019-08",
          "2019-08",
          "2019-09",
          "2019-09",
          "2019-09",
          "2019-09",
          "2019-10",
          "2019-10",
          "2019-10",
          "2019-10",
          "2019-11",
          "2019-11",
          "2019-11",
          "2019-11",
          "2019-11",
          "2019-12",
          "2019-12",
          "2019-12",
          "2019-12",
          "2019-12",
          "2020-01",
          "2020-01",
          "2020-01",
          "2020-01",
          "2020-02",
          "2020-02",
          "2020-02",
          "2020-02",
          "2020-03",
          "2020-03",
          "2020-03",
          "2020-03",
          "2020-04",
          "2020-04",
          "2020-04",
          "2020-05",
          "2020-05",
          "2020-05",
          "2020-06",
          "2020-06",
          "2020-06",
          "2020-07",
          "2020-07",
          "2020-07",
          "2020-07",
          "2020-08",
          "2020-08",
          "2020-08",
          "2020-08",
          "2020-09",
          "2020-09",
          "2020-09",
          "2020-09",
          "2020-10",
          "2020-10",
          "2020-10",
          "2020-10",
          "2020-11",
          "2020-11",
          "2020-11",
          "2020-11",
          "2020-12",
          "2020-12",
          "2020-12",
          "2020-12",
          "2021-01",
          "2021-01",
          "2021-01",
          "2021-01",
          "2021-02",
          "2021-02",
          "2021-02",
          "2021-02",
          "2021-03",
          "2021-03",
          "2021-03",
          "2021-03",
          "2021-04",
          "2021-04",
          "2021-04",
          "2021-04",
          "2021-05",
          "2021-05",
          "2021-05",
          "2021-05",
          "2021-06",
          "2021-06",
          "2021-06",
          "2021-06",
          "2021-07",
          "2021-07",
          "2021-07",
          "2021-07",
          "2021-07",
          "2021-08",
          "2021-08",
          "2021-08",
          "2021-08",
          "2021-09",
          "2021-09",
          "2021-09",
          "2021-09",
          "2021-10",
          "2021-10",
          "2021-10",
          "2021-10",
          "2021-11",
          "2021-11",
          "2021-11",
          "2021-11",
          "2021-12",
          "2021-12",
          "2021-12",
          "2021-12",
          "2022-01",
          "2022-01",
          "2022-01",
          "2022-01",
          "2022-02",
          "2022-02",
          "2022-02",
          "2022-02",
          "2022-03",
          "2022-03",
          "2022-03",
          "2022-03",
          "2022-03",
          "2022-04",
          "2022-04",
          "2022-04",
          "2022-04",
          "2022-05",
          "2022-05",
          "2022-05",
          "2022-05",
          "2022-06",
          "2022-06",
          "2022-06",
          "2022-06",
          "2022-07",
          "2022-07",
          "2022-07",
          "2022-07",
          "2022-08",
          "2022-08",
          "2022-08",
          "2022-08",
          "2022-09",
          "2022-09",
          "2022-09",
          "2022-09",
          "2022-10",
          "2022-10",
          "2022-10",
          "2022-10",
          "2022-11",
          "2022-11",
          "2022-11",
          "2022-11",
          "2022-12",
          "2022-12",
          "2022-12",
          "2022-12",
          "2022-12",
          "2023-01",
          "2023-01",
          "2023-01",
          "2023-01",
          "2023-02",
          "2023-02",
          "2023-02",
          "2023-02",
          "2023-03",
          "2023-03",
          "2023-03"
         ],
         "xaxis": "x",
         "y": [
          1,
          1,
          1,
          1,
          1,
          3,
          1,
          2,
          1,
          1,
          3,
          4,
          1,
          4,
          2,
          2,
          4,
          2,
          2,
          2,
          7,
          1,
          7,
          6,
          2,
          7,
          6,
          1,
          1,
          1,
          5,
          3,
          1,
          17,
          1,
          9,
          1,
          4,
          4,
          1,
          7,
          2,
          11,
          3,
          7,
          2,
          4,
          2,
          10,
          1,
          2,
          8,
          7,
          1,
          23,
          1,
          3,
          4,
          16,
          1,
          1,
          16,
          1,
          4,
          23,
          1,
          2,
          16,
          1,
          4,
          2,
          8,
          1,
          2,
          4,
          27,
          5,
          1,
          18,
          2,
          5,
          1,
          1,
          36,
          3,
          2,
          2,
          1,
          23,
          1,
          8,
          10,
          1,
          1,
          13,
          3,
          3,
          1,
          4,
          4,
          5,
          5,
          3,
          2,
          3,
          4,
          4,
          3,
          3,
          12,
          9,
          2,
          1,
          14,
          6,
          1,
          4,
          20,
          8,
          2,
          1,
          24,
          7,
          5,
          3,
          23,
          11,
          10,
          8,
          33,
          25,
          5,
          3,
          14,
          20,
          8,
          6,
          19,
          11,
          5,
          7,
          38,
          18,
          3,
          3,
          42,
          19,
          3,
          12,
          38,
          13,
          3,
          7,
          38,
          37,
          10,
          23,
          27,
          8,
          4,
          72,
          48,
          10,
          11,
          46,
          43,
          8,
          7,
          42,
          52,
          14,
          2,
          15,
          35,
          62,
          17,
          1,
          14,
          92,
          66,
          10,
          23,
          114,
          58,
          11,
          30,
          98,
          58,
          15,
          16,
          75,
          45,
          45,
          79,
          40,
          20,
          121,
          45,
          37,
          131,
          51,
          1,
          38,
          97,
          58,
          1,
          39,
          145,
          72,
          12,
          32,
          73,
          65,
          28,
          52,
          71,
          77,
          14,
          67,
          100,
          99,
          24,
          49,
          98,
          72,
          19,
          48,
          112,
          72,
          20,
          51,
          191,
          90,
          22,
          121,
          177,
          96,
          23,
          80,
          200,
          83,
          23,
          96,
          211,
          93,
          23,
          101,
          322,
          75,
          30,
          1,
          92,
          233,
          115,
          43,
          96,
          341,
          134,
          37,
          99,
          259,
          127,
          54,
          157,
          239,
          149,
          81,
          164,
          425,
          178,
          41,
          188,
          436,
          179,
          45,
          174,
          413,
          157,
          82,
          190,
          588,
          199,
          103,
          1,
          156,
          558,
          164,
          40,
          112,
          613,
          149,
          44,
          148,
          587,
          189,
          47,
          104,
          556,
          239,
          56,
          108,
          776,
          209,
          60,
          67,
          508,
          232,
          63,
          88,
          569,
          173,
          68,
          95,
          669,
          269,
          95,
          83,
          843,
          284,
          141,
          1,
          184,
          1062,
          458,
          196,
          126,
          1020,
          286,
          258,
          617,
          21,
          137
         ],
         "yaxis": "y"
        },
        {
         "alignmentgroup": "True",
         "hovertemplate": "DscClasseConsumo=Comercial<br>Ano_Mes=%{x}<br>NumCPFCNPJ=%{y}<extra></extra>",
         "legendgroup": "Comercial",
         "marker": {
          "color": "#00cc96",
          "pattern": {
           "shape": ""
          }
         },
         "name": "Comercial",
         "offsetgroup": "Comercial",
         "orientation": "v",
         "showlegend": true,
         "textposition": "auto",
         "type": "bar",
         "x": [
          "2014-06",
          "2014-07",
          "2014-09",
          "2015-01",
          "2015-03",
          "2015-05",
          "2015-06",
          "2015-06",
          "2015-06",
          "2015-07",
          "2015-07",
          "2015-08",
          "2015-09",
          "2015-12",
          "2015-12",
          "2016-01",
          "2016-02",
          "2016-04",
          "2016-05",
          "2016-06",
          "2016-07",
          "2016-08",
          "2016-09",
          "2016-11",
          "2016-12",
          "2016-12",
          "2017-02",
          "2017-02",
          "2017-03",
          "2017-04",
          "2017-04",
          "2017-04",
          "2017-05",
          "2017-05",
          "2017-05",
          "2017-06",
          "2017-06",
          "2017-06",
          "2017-07",
          "2017-08",
          "2017-08",
          "2017-08",
          "2017-09",
          "2017-09",
          "2017-09",
          "2017-10",
          "2017-10",
          "2017-11",
          "2017-11",
          "2017-12",
          "2017-12",
          "2018-01",
          "2018-01",
          "2018-02",
          "2018-02",
          "2018-02",
          "2018-03",
          "2018-03",
          "2018-03",
          "2018-04",
          "2018-05",
          "2018-05",
          "2018-06",
          "2018-06",
          "2018-06",
          "2018-07",
          "2018-07",
          "2018-08",
          "2018-08",
          "2018-09",
          "2018-09",
          "2018-10",
          "2018-10",
          "2018-10",
          "2018-11",
          "2018-11",
          "2018-11",
          "2018-12",
          "2018-12",
          "2018-12",
          "2018-12",
          "2019-01",
          "2019-01",
          "2019-01",
          "2019-01",
          "2019-02",
          "2019-02",
          "2019-02",
          "2019-02",
          "2019-03",
          "2019-03",
          "2019-04",
          "2019-04",
          "2019-04",
          "2019-04",
          "2019-05",
          "2019-05",
          "2019-05",
          "2019-06",
          "2019-06",
          "2019-06",
          "2019-07",
          "2019-07",
          "2019-07",
          "2019-07",
          "2019-08",
          "2019-08",
          "2019-08",
          "2019-08",
          "2019-09",
          "2019-09",
          "2019-09",
          "2019-09",
          "2019-10",
          "2019-10",
          "2019-10",
          "2019-10",
          "2019-11",
          "2019-11",
          "2019-11",
          "2019-11",
          "2019-12",
          "2019-12",
          "2019-12",
          "2019-12",
          "2020-01",
          "2020-01",
          "2020-01",
          "2020-01",
          "2020-02",
          "2020-02",
          "2020-02",
          "2020-02",
          "2020-03",
          "2020-03",
          "2020-03",
          "2020-03",
          "2020-04",
          "2020-04",
          "2020-04",
          "2020-05",
          "2020-05",
          "2020-05",
          "2020-06",
          "2020-06",
          "2020-06",
          "2020-07",
          "2020-07",
          "2020-07",
          "2020-08",
          "2020-08",
          "2020-08",
          "2020-08",
          "2020-09",
          "2020-09",
          "2020-09",
          "2020-10",
          "2020-10",
          "2020-10",
          "2020-10",
          "2020-10",
          "2020-11",
          "2020-11",
          "2020-11",
          "2020-11",
          "2020-12",
          "2020-12",
          "2020-12",
          "2020-12",
          "2021-01",
          "2021-01",
          "2021-01",
          "2021-01",
          "2021-02",
          "2021-02",
          "2021-02",
          "2021-02",
          "2021-02",
          "2021-03",
          "2021-03",
          "2021-03",
          "2021-03",
          "2021-04",
          "2021-04",
          "2021-04",
          "2021-04",
          "2021-05",
          "2021-05",
          "2021-05",
          "2021-05",
          "2021-06",
          "2021-06",
          "2021-06",
          "2021-06",
          "2021-06",
          "2021-07",
          "2021-07",
          "2021-07",
          "2021-07",
          "2021-08",
          "2021-08",
          "2021-08",
          "2021-08",
          "2021-09",
          "2021-09",
          "2021-09",
          "2021-09",
          "2021-10",
          "2021-10",
          "2021-10",
          "2021-10",
          "2021-11",
          "2021-11",
          "2021-11",
          "2021-11",
          "2021-12",
          "2021-12",
          "2021-12",
          "2021-12",
          "2022-01",
          "2022-01",
          "2022-01",
          "2022-01",
          "2022-02",
          "2022-02",
          "2022-02",
          "2022-02",
          "2022-03",
          "2022-03",
          "2022-03",
          "2022-03",
          "2022-04",
          "2022-04",
          "2022-04",
          "2022-04",
          "2022-05",
          "2022-05",
          "2022-05",
          "2022-05",
          "2022-06",
          "2022-06",
          "2022-06",
          "2022-06",
          "2022-07",
          "2022-07",
          "2022-07",
          "2022-07",
          "2022-08",
          "2022-08",
          "2022-08",
          "2022-08",
          "2022-09",
          "2022-09",
          "2022-09",
          "2022-09",
          "2022-10",
          "2022-10",
          "2022-10",
          "2022-10",
          "2022-10",
          "2022-11",
          "2022-11",
          "2022-11",
          "2022-11",
          "2022-12",
          "2022-12",
          "2022-12",
          "2022-12",
          "2023-01",
          "2023-01",
          "2023-01",
          "2023-01",
          "2023-02",
          "2023-02",
          "2023-02",
          "2023-02",
          "2023-03",
          "2023-03",
          "2023-03"
         ],
         "xaxis": "x",
         "y": [
          1,
          4,
          1,
          1,
          1,
          1,
          1,
          1,
          3,
          1,
          1,
          1,
          1,
          1,
          2,
          3,
          2,
          2,
          2,
          1,
          1,
          1,
          4,
          5,
          1,
          2,
          3,
          6,
          3,
          1,
          2,
          7,
          1,
          1,
          3,
          1,
          1,
          8,
          3,
          1,
          1,
          13,
          1,
          2,
          9,
          1,
          8,
          1,
          1,
          1,
          13,
          3,
          8,
          2,
          1,
          8,
          1,
          1,
          4,
          2,
          1,
          1,
          1,
          3,
          1,
          2,
          1,
          3,
          1,
          4,
          1,
          2,
          3,
          2,
          2,
          6,
          1,
          1,
          6,
          2,
          1,
          3,
          7,
          4,
          1,
          1,
          8,
          1,
          2,
          1,
          6,
          2,
          19,
          1,
          1,
          8,
          5,
          4,
          3,
          16,
          5,
          2,
          9,
          5,
          4,
          2,
          12,
          4,
          2,
          6,
          21,
          8,
          4,
          5,
          18,
          5,
          2,
          3,
          19,
          4,
          2,
          3,
          11,
          4,
          1,
          4,
          37,
          6,
          6,
          10,
          29,
          8,
          5,
          8,
          30,
          8,
          4,
          3,
          29,
          4,
          7,
          14,
          11,
          4,
          32,
          11,
          6,
          44,
          10,
          3,
          17,
          15,
          2,
          8,
          28,
          22,
          7,
          24,
          14,
          2,
          1,
          8,
          21,
          10,
          3,
          6,
          40,
          15,
          6,
          8,
          37,
          17,
          5,
          11,
          29,
          12,
          1,
          1,
          7,
          51,
          19,
          2,
          15,
          53,
          15,
          6,
          15,
          42,
          21,
          5,
          11,
          40,
          25,
          7,
          1,
          19,
          64,
          28,
          4,
          14,
          56,
          34,
          6,
          26,
          67,
          26,
          3,
          18,
          47,
          22,
          7,
          28,
          49,
          22,
          8,
          23,
          94,
          33,
          8,
          20,
          78,
          33,
          6,
          18,
          58,
          35,
          6,
          21,
          81,
          29,
          11,
          17,
          82,
          42,
          6,
          15,
          87,
          34,
          3,
          13,
          60,
          33,
          2,
          23,
          64,
          37,
          11,
          18,
          100,
          39,
          4,
          8,
          102,
          36,
          3,
          12,
          107,
          22,
          2,
          1,
          11,
          99,
          40,
          8,
          16,
          109,
          40,
          2,
          24,
          126,
          52,
          10,
          20,
          107,
          31,
          4,
          74,
          1,
          4
         ],
         "yaxis": "y"
        },
        {
         "alignmentgroup": "True",
         "hovertemplate": "DscClasseConsumo=Rural<br>Ano_Mes=%{x}<br>NumCPFCNPJ=%{y}<extra></extra>",
         "legendgroup": "Rural",
         "marker": {
          "color": "#ab63fa",
          "pattern": {
           "shape": ""
          }
         },
         "name": "Rural",
         "offsetgroup": "Rural",
         "orientation": "v",
         "showlegend": true,
         "textposition": "auto",
         "type": "bar",
         "x": [
          "2015-10",
          "2016-03",
          "2016-04",
          "2016-11",
          "2017-03",
          "2017-05",
          "2017-08",
          "2017-11",
          "2017-12",
          "2018-01",
          "2018-02",
          "2018-03",
          "2018-08",
          "2018-09",
          "2019-01",
          "2019-02",
          "2019-04",
          "2019-04",
          "2019-05",
          "2019-05",
          "2019-07",
          "2019-07",
          "2019-09",
          "2019-09",
          "2019-10",
          "2019-10",
          "2019-11",
          "2019-12",
          "2019-12",
          "2020-01",
          "2020-01",
          "2020-02",
          "2020-02",
          "2020-03",
          "2020-03",
          "2020-03",
          "2020-04",
          "2020-04",
          "2020-05",
          "2020-05",
          "2020-05",
          "2020-06",
          "2020-06",
          "2020-07",
          "2020-07",
          "2020-08",
          "2020-08",
          "2020-09",
          "2020-09",
          "2020-09",
          "2020-10",
          "2020-10",
          "2020-11",
          "2020-11",
          "2020-12",
          "2020-12",
          "2021-01",
          "2021-01",
          "2021-01",
          "2021-02",
          "2021-02",
          "2021-03",
          "2021-03",
          "2021-04",
          "2021-04",
          "2021-04",
          "2021-05",
          "2021-05",
          "2021-05",
          "2021-06",
          "2021-06",
          "2021-06",
          "2021-07",
          "2021-07",
          "2021-07",
          "2021-08",
          "2021-08",
          "2021-09",
          "2021-09",
          "2021-10",
          "2021-10",
          "2021-10",
          "2021-11",
          "2021-11",
          "2021-11",
          "2021-11",
          "2021-12",
          "2021-12",
          "2021-12",
          "2022-01",
          "2022-01",
          "2022-02",
          "2022-02",
          "2022-03",
          "2022-03",
          "2022-03",
          "2022-04",
          "2022-04",
          "2022-04",
          "2022-05",
          "2022-05",
          "2022-06",
          "2022-06",
          "2022-06",
          "2022-06",
          "2022-07",
          "2022-07",
          "2022-07",
          "2022-08",
          "2022-08",
          "2022-08",
          "2022-09",
          "2022-09",
          "2022-09",
          "2022-10",
          "2022-10",
          "2022-10",
          "2022-11",
          "2022-11",
          "2022-12",
          "2022-12",
          "2022-12",
          "2023-01",
          "2023-01",
          "2023-01",
          "2023-02",
          "2023-02",
          "2023-02",
          "2023-03"
         ],
         "xaxis": "x",
         "y": [
          1,
          1,
          1,
          1,
          1,
          1,
          2,
          1,
          1,
          4,
          1,
          1,
          1,
          1,
          1,
          1,
          1,
          1,
          1,
          1,
          1,
          1,
          2,
          1,
          1,
          1,
          2,
          3,
          3,
          2,
          1,
          2,
          1,
          2,
          1,
          1,
          3,
          3,
          1,
          4,
          1,
          1,
          8,
          1,
          4,
          1,
          2,
          1,
          4,
          1,
          2,
          7,
          2,
          4,
          1,
          5,
          1,
          4,
          1,
          4,
          3,
          2,
          9,
          6,
          1,
          2,
          8,
          3,
          3,
          11,
          5,
          2,
          2,
          6,
          1,
          6,
          6,
          1,
          7,
          11,
          10,
          3,
          4,
          6,
          1,
          1,
          8,
          8,
          1,
          12,
          5,
          6,
          16,
          9,
          9,
          1,
          9,
          17,
          2,
          15,
          15,
          8,
          9,
          1,
          1,
          9,
          12,
          2,
          12,
          15,
          2,
          5,
          16,
          3,
          4,
          14,
          3,
          5,
          19,
          5,
          26,
          1,
          13,
          40,
          8,
          7,
          29,
          2,
          18
         ],
         "yaxis": "y"
        },
        {
         "alignmentgroup": "True",
         "hovertemplate": "DscClasseConsumo=Poder Público<br>Ano_Mes=%{x}<br>NumCPFCNPJ=%{y}<extra></extra>",
         "legendgroup": "Poder Público",
         "marker": {
          "color": "#FFA15A",
          "pattern": {
           "shape": ""
          }
         },
         "name": "Poder Público",
         "offsetgroup": "Poder Público",
         "orientation": "v",
         "showlegend": true,
         "textposition": "auto",
         "type": "bar",
         "x": [
          "2016-07",
          "2017-02",
          "2017-04",
          "2017-05",
          "2017-07",
          "2017-08",
          "2017-08",
          "2017-09",
          "2017-12",
          "2018-02",
          "2018-10",
          "2019-01",
          "2019-03",
          "2019-04",
          "2019-05",
          "2019-07",
          "2019-09",
          "2019-11",
          "2019-12",
          "2020-01",
          "2020-01",
          "2020-02",
          "2020-03",
          "2020-04",
          "2020-06",
          "2020-06",
          "2020-07",
          "2020-09",
          "2020-10",
          "2020-11",
          "2020-11",
          "2020-12",
          "2020-12",
          "2021-01",
          "2021-01",
          "2021-02",
          "2021-02",
          "2021-04",
          "2021-04",
          "2021-05",
          "2021-07",
          "2021-08",
          "2021-08",
          "2021-09",
          "2021-10",
          "2021-10",
          "2021-11",
          "2021-11",
          "2021-11",
          "2021-12",
          "2022-01",
          "2022-01",
          "2022-02",
          "2022-04",
          "2022-04",
          "2022-04",
          "2022-05",
          "2022-06",
          "2022-06",
          "2022-07",
          "2022-07",
          "2022-08",
          "2022-08",
          "2022-08",
          "2022-09",
          "2022-09",
          "2022-10",
          "2022-11",
          "2022-11",
          "2022-12",
          "2023-01",
          "2023-02",
          "2023-02",
          "2023-02"
         ],
         "xaxis": "x",
         "y": [
          1,
          1,
          1,
          1,
          1,
          1,
          1,
          1,
          1,
          1,
          1,
          1,
          1,
          1,
          1,
          1,
          1,
          1,
          1,
          2,
          2,
          1,
          2,
          2,
          1,
          1,
          2,
          2,
          2,
          2,
          2,
          9,
          1,
          4,
          1,
          2,
          4,
          2,
          1,
          1,
          1,
          3,
          1,
          2,
          1,
          3,
          1,
          2,
          1,
          1,
          1,
          1,
          1,
          1,
          1,
          1,
          1,
          1,
          2,
          2,
          1,
          1,
          3,
          1,
          2,
          1,
          1,
          1,
          1,
          3,
          1,
          3,
          1,
          1
         ],
         "yaxis": "y"
        },
        {
         "alignmentgroup": "True",
         "hovertemplate": "DscClasseConsumo=Serviço Público<br>Ano_Mes=%{x}<br>NumCPFCNPJ=%{y}<extra></extra>",
         "legendgroup": "Serviço Público",
         "marker": {
          "color": "#19d3f3",
          "pattern": {
           "shape": ""
          }
         },
         "name": "Serviço Público",
         "offsetgroup": "Serviço Público",
         "orientation": "v",
         "showlegend": true,
         "textposition": "auto",
         "type": "bar",
         "x": [
          "2019-01",
          "2020-04",
          "2021-03",
          "2021-06"
         ],
         "xaxis": "x",
         "y": [
          1,
          1,
          1,
          1
         ],
         "yaxis": "y"
        }
       ],
       "layout": {
        "barmode": "relative",
        "height": 600,
        "legend": {
         "title": {
          "text": "DscClasseConsumo"
         },
         "tracegroupgap": 0
        },
        "margin": {
         "t": 130
        },
        "template": {
         "data": {
          "bar": [
           {
            "error_x": {
             "color": "#2a3f5f"
            },
            "error_y": {
             "color": "#2a3f5f"
            },
            "marker": {
             "line": {
              "color": "#E5ECF6",
              "width": 0.5
             },
             "pattern": {
              "fillmode": "overlay",
              "size": 10,
              "solidity": 0.2
             }
            },
            "type": "bar"
           }
          ],
          "barpolar": [
           {
            "marker": {
             "line": {
              "color": "#E5ECF6",
              "width": 0.5
             },
             "pattern": {
              "fillmode": "overlay",
              "size": 10,
              "solidity": 0.2
             }
            },
            "type": "barpolar"
           }
          ],
          "carpet": [
           {
            "aaxis": {
             "endlinecolor": "#2a3f5f",
             "gridcolor": "white",
             "linecolor": "white",
             "minorgridcolor": "white",
             "startlinecolor": "#2a3f5f"
            },
            "baxis": {
             "endlinecolor": "#2a3f5f",
             "gridcolor": "white",
             "linecolor": "white",
             "minorgridcolor": "white",
             "startlinecolor": "#2a3f5f"
            },
            "type": "carpet"
           }
          ],
          "choropleth": [
           {
            "colorbar": {
             "outlinewidth": 0,
             "ticks": ""
            },
            "type": "choropleth"
           }
          ],
          "contour": [
           {
            "colorbar": {
             "outlinewidth": 0,
             "ticks": ""
            },
            "colorscale": [
             [
              0,
              "#0d0887"
             ],
             [
              0.1111111111111111,
              "#46039f"
             ],
             [
              0.2222222222222222,
              "#7201a8"
             ],
             [
              0.3333333333333333,
              "#9c179e"
             ],
             [
              0.4444444444444444,
              "#bd3786"
             ],
             [
              0.5555555555555556,
              "#d8576b"
             ],
             [
              0.6666666666666666,
              "#ed7953"
             ],
             [
              0.7777777777777778,
              "#fb9f3a"
             ],
             [
              0.8888888888888888,
              "#fdca26"
             ],
             [
              1,
              "#f0f921"
             ]
            ],
            "type": "contour"
           }
          ],
          "contourcarpet": [
           {
            "colorbar": {
             "outlinewidth": 0,
             "ticks": ""
            },
            "type": "contourcarpet"
           }
          ],
          "heatmap": [
           {
            "colorbar": {
             "outlinewidth": 0,
             "ticks": ""
            },
            "colorscale": [
             [
              0,
              "#0d0887"
             ],
             [
              0.1111111111111111,
              "#46039f"
             ],
             [
              0.2222222222222222,
              "#7201a8"
             ],
             [
              0.3333333333333333,
              "#9c179e"
             ],
             [
              0.4444444444444444,
              "#bd3786"
             ],
             [
              0.5555555555555556,
              "#d8576b"
             ],
             [
              0.6666666666666666,
              "#ed7953"
             ],
             [
              0.7777777777777778,
              "#fb9f3a"
             ],
             [
              0.8888888888888888,
              "#fdca26"
             ],
             [
              1,
              "#f0f921"
             ]
            ],
            "type": "heatmap"
           }
          ],
          "heatmapgl": [
           {
            "colorbar": {
             "outlinewidth": 0,
             "ticks": ""
            },
            "colorscale": [
             [
              0,
              "#0d0887"
             ],
             [
              0.1111111111111111,
              "#46039f"
             ],
             [
              0.2222222222222222,
              "#7201a8"
             ],
             [
              0.3333333333333333,
              "#9c179e"
             ],
             [
              0.4444444444444444,
              "#bd3786"
             ],
             [
              0.5555555555555556,
              "#d8576b"
             ],
             [
              0.6666666666666666,
              "#ed7953"
             ],
             [
              0.7777777777777778,
              "#fb9f3a"
             ],
             [
              0.8888888888888888,
              "#fdca26"
             ],
             [
              1,
              "#f0f921"
             ]
            ],
            "type": "heatmapgl"
           }
          ],
          "histogram": [
           {
            "marker": {
             "pattern": {
              "fillmode": "overlay",
              "size": 10,
              "solidity": 0.2
             }
            },
            "type": "histogram"
           }
          ],
          "histogram2d": [
           {
            "colorbar": {
             "outlinewidth": 0,
             "ticks": ""
            },
            "colorscale": [
             [
              0,
              "#0d0887"
             ],
             [
              0.1111111111111111,
              "#46039f"
             ],
             [
              0.2222222222222222,
              "#7201a8"
             ],
             [
              0.3333333333333333,
              "#9c179e"
             ],
             [
              0.4444444444444444,
              "#bd3786"
             ],
             [
              0.5555555555555556,
              "#d8576b"
             ],
             [
              0.6666666666666666,
              "#ed7953"
             ],
             [
              0.7777777777777778,
              "#fb9f3a"
             ],
             [
              0.8888888888888888,
              "#fdca26"
             ],
             [
              1,
              "#f0f921"
             ]
            ],
            "type": "histogram2d"
           }
          ],
          "histogram2dcontour": [
           {
            "colorbar": {
             "outlinewidth": 0,
             "ticks": ""
            },
            "colorscale": [
             [
              0,
              "#0d0887"
             ],
             [
              0.1111111111111111,
              "#46039f"
             ],
             [
              0.2222222222222222,
              "#7201a8"
             ],
             [
              0.3333333333333333,
              "#9c179e"
             ],
             [
              0.4444444444444444,
              "#bd3786"
             ],
             [
              0.5555555555555556,
              "#d8576b"
             ],
             [
              0.6666666666666666,
              "#ed7953"
             ],
             [
              0.7777777777777778,
              "#fb9f3a"
             ],
             [
              0.8888888888888888,
              "#fdca26"
             ],
             [
              1,
              "#f0f921"
             ]
            ],
            "type": "histogram2dcontour"
           }
          ],
          "mesh3d": [
           {
            "colorbar": {
             "outlinewidth": 0,
             "ticks": ""
            },
            "type": "mesh3d"
           }
          ],
          "parcoords": [
           {
            "line": {
             "colorbar": {
              "outlinewidth": 0,
              "ticks": ""
             }
            },
            "type": "parcoords"
           }
          ],
          "pie": [
           {
            "automargin": true,
            "type": "pie"
           }
          ],
          "scatter": [
           {
            "fillpattern": {
             "fillmode": "overlay",
             "size": 10,
             "solidity": 0.2
            },
            "type": "scatter"
           }
          ],
          "scatter3d": [
           {
            "line": {
             "colorbar": {
              "outlinewidth": 0,
              "ticks": ""
             }
            },
            "marker": {
             "colorbar": {
              "outlinewidth": 0,
              "ticks": ""
             }
            },
            "type": "scatter3d"
           }
          ],
          "scattercarpet": [
           {
            "marker": {
             "colorbar": {
              "outlinewidth": 0,
              "ticks": ""
             }
            },
            "type": "scattercarpet"
           }
          ],
          "scattergeo": [
           {
            "marker": {
             "colorbar": {
              "outlinewidth": 0,
              "ticks": ""
             }
            },
            "type": "scattergeo"
           }
          ],
          "scattergl": [
           {
            "marker": {
             "colorbar": {
              "outlinewidth": 0,
              "ticks": ""
             }
            },
            "type": "scattergl"
           }
          ],
          "scattermapbox": [
           {
            "marker": {
             "colorbar": {
              "outlinewidth": 0,
              "ticks": ""
             }
            },
            "type": "scattermapbox"
           }
          ],
          "scatterpolar": [
           {
            "marker": {
             "colorbar": {
              "outlinewidth": 0,
              "ticks": ""
             }
            },
            "type": "scatterpolar"
           }
          ],
          "scatterpolargl": [
           {
            "marker": {
             "colorbar": {
              "outlinewidth": 0,
              "ticks": ""
             }
            },
            "type": "scatterpolargl"
           }
          ],
          "scatterternary": [
           {
            "marker": {
             "colorbar": {
              "outlinewidth": 0,
              "ticks": ""
             }
            },
            "type": "scatterternary"
           }
          ],
          "surface": [
           {
            "colorbar": {
             "outlinewidth": 0,
             "ticks": ""
            },
            "colorscale": [
             [
              0,
              "#0d0887"
             ],
             [
              0.1111111111111111,
              "#46039f"
             ],
             [
              0.2222222222222222,
              "#7201a8"
             ],
             [
              0.3333333333333333,
              "#9c179e"
             ],
             [
              0.4444444444444444,
              "#bd3786"
             ],
             [
              0.5555555555555556,
              "#d8576b"
             ],
             [
              0.6666666666666666,
              "#ed7953"
             ],
             [
              0.7777777777777778,
              "#fb9f3a"
             ],
             [
              0.8888888888888888,
              "#fdca26"
             ],
             [
              1,
              "#f0f921"
             ]
            ],
            "type": "surface"
           }
          ],
          "table": [
           {
            "cells": {
             "fill": {
              "color": "#EBF0F8"
             },
             "line": {
              "color": "white"
             }
            },
            "header": {
             "fill": {
              "color": "#C8D4E3"
             },
             "line": {
              "color": "white"
             }
            },
            "type": "table"
           }
          ]
         },
         "layout": {
          "annotationdefaults": {
           "arrowcolor": "#2a3f5f",
           "arrowhead": 0,
           "arrowwidth": 1
          },
          "autotypenumbers": "strict",
          "coloraxis": {
           "colorbar": {
            "outlinewidth": 0,
            "ticks": ""
           }
          },
          "colorscale": {
           "diverging": [
            [
             0,
             "#8e0152"
            ],
            [
             0.1,
             "#c51b7d"
            ],
            [
             0.2,
             "#de77ae"
            ],
            [
             0.3,
             "#f1b6da"
            ],
            [
             0.4,
             "#fde0ef"
            ],
            [
             0.5,
             "#f7f7f7"
            ],
            [
             0.6,
             "#e6f5d0"
            ],
            [
             0.7,
             "#b8e186"
            ],
            [
             0.8,
             "#7fbc41"
            ],
            [
             0.9,
             "#4d9221"
            ],
            [
             1,
             "#276419"
            ]
           ],
           "sequential": [
            [
             0,
             "#0d0887"
            ],
            [
             0.1111111111111111,
             "#46039f"
            ],
            [
             0.2222222222222222,
             "#7201a8"
            ],
            [
             0.3333333333333333,
             "#9c179e"
            ],
            [
             0.4444444444444444,
             "#bd3786"
            ],
            [
             0.5555555555555556,
             "#d8576b"
            ],
            [
             0.6666666666666666,
             "#ed7953"
            ],
            [
             0.7777777777777778,
             "#fb9f3a"
            ],
            [
             0.8888888888888888,
             "#fdca26"
            ],
            [
             1,
             "#f0f921"
            ]
           ],
           "sequentialminus": [
            [
             0,
             "#0d0887"
            ],
            [
             0.1111111111111111,
             "#46039f"
            ],
            [
             0.2222222222222222,
             "#7201a8"
            ],
            [
             0.3333333333333333,
             "#9c179e"
            ],
            [
             0.4444444444444444,
             "#bd3786"
            ],
            [
             0.5555555555555556,
             "#d8576b"
            ],
            [
             0.6666666666666666,
             "#ed7953"
            ],
            [
             0.7777777777777778,
             "#fb9f3a"
            ],
            [
             0.8888888888888888,
             "#fdca26"
            ],
            [
             1,
             "#f0f921"
            ]
           ]
          },
          "colorway": [
           "#636efa",
           "#EF553B",
           "#00cc96",
           "#ab63fa",
           "#FFA15A",
           "#19d3f3",
           "#FF6692",
           "#B6E880",
           "#FF97FF",
           "#FECB52"
          ],
          "font": {
           "color": "#2a3f5f"
          },
          "geo": {
           "bgcolor": "white",
           "lakecolor": "white",
           "landcolor": "#E5ECF6",
           "showlakes": true,
           "showland": true,
           "subunitcolor": "white"
          },
          "hoverlabel": {
           "align": "left"
          },
          "hovermode": "closest",
          "mapbox": {
           "style": "light"
          },
          "paper_bgcolor": "white",
          "plot_bgcolor": "#E5ECF6",
          "polar": {
           "angularaxis": {
            "gridcolor": "white",
            "linecolor": "white",
            "ticks": ""
           },
           "bgcolor": "#E5ECF6",
           "radialaxis": {
            "gridcolor": "white",
            "linecolor": "white",
            "ticks": ""
           }
          },
          "scene": {
           "xaxis": {
            "backgroundcolor": "#E5ECF6",
            "gridcolor": "white",
            "gridwidth": 2,
            "linecolor": "white",
            "showbackground": true,
            "ticks": "",
            "zerolinecolor": "white"
           },
           "yaxis": {
            "backgroundcolor": "#E5ECF6",
            "gridcolor": "white",
            "gridwidth": 2,
            "linecolor": "white",
            "showbackground": true,
            "ticks": "",
            "zerolinecolor": "white"
           },
           "zaxis": {
            "backgroundcolor": "#E5ECF6",
            "gridcolor": "white",
            "gridwidth": 2,
            "linecolor": "white",
            "showbackground": true,
            "ticks": "",
            "zerolinecolor": "white"
           }
          },
          "shapedefaults": {
           "line": {
            "color": "#2a3f5f"
           }
          },
          "ternary": {
           "aaxis": {
            "gridcolor": "white",
            "linecolor": "white",
            "ticks": ""
           },
           "baxis": {
            "gridcolor": "white",
            "linecolor": "white",
            "ticks": ""
           },
           "bgcolor": "#E5ECF6",
           "caxis": {
            "gridcolor": "white",
            "linecolor": "white",
            "ticks": ""
           }
          },
          "title": {
           "x": 0.05
          },
          "xaxis": {
           "automargin": true,
           "gridcolor": "white",
           "linecolor": "white",
           "ticks": "",
           "title": {
            "standoff": 15
           },
           "zerolinecolor": "white",
           "zerolinewidth": 2
          },
          "yaxis": {
           "automargin": true,
           "gridcolor": "white",
           "linecolor": "white",
           "ticks": "",
           "title": {
            "standoff": 15
           },
           "zerolinecolor": "white",
           "zerolinewidth": 2
          }
         }
        },
        "title": {
         "font": {
          "size": 20
         },
         "text": "Novos usuários da Energia distribuida",
         "x": 0.5
        },
        "width": 1200,
        "xaxis": {
         "anchor": "y",
         "domain": [
          0,
          1
         ],
         "tickfont": {
          "size": 14
         },
         "title": {
          "font": {
           "size": 16
          },
          "text": "Ano_Mes"
         }
        },
        "yaxis": {
         "anchor": "x",
         "domain": [
          0,
          1
         ],
         "range": [
          0,
          7000
         ],
         "tickfont": {
          "size": 14
         },
         "title": {
          "font": {
           "size": 16
          },
          "text": "NumCPFCNPJ"
         }
        }
       }
      }
     },
     "metadata": {},
     "output_type": "display_data"
    }
   ],
   "source": [
    "#___________________________________________________Gráfico 2__________________________________________________#\n",
    "\n",
    "df['Mes'] = pd.DatetimeIndex(df['DthAtualizaCadastralEmpreend']).month\n",
    "df['Ano'] = pd.DatetimeIndex(df['DthAtualizaCadastralEmpreend']).year\n",
    "df['Ano_Mes'] = pd.to_datetime(df['DthAtualizaCadastralEmpreend']).dt.strftime('%Y-%m')\n",
    "\n",
    "# cria uma cópia do DataFrame sem valores nulos de NumCPFCNPJ\n",
    "df_clean = df.dropna(subset=['NumCPFCNPJ']).copy()\n",
    "\n",
    "# filtra apenas as SigUFs desejadas\n",
    "df_clean = df_clean[df_clean['SigUF'].isin(['BA', 'AL', 'AC', 'AM', 'AP'])]\n",
    "\n",
    "# agrupa os dados por ano, mês, SigUF e DscClasseConsumo\n",
    "counts = df_clean.groupby(['Ano_Mes', 'SigUF', 'DscClasseConsumo']).agg({'NumCPFCNPJ': 'nunique'}).reset_index()\n",
    "\n",
    "# Cria uma lista com as opções de SigUF\n",
    "sigufs = df_clean['SigUF'].unique()\n",
    "\n",
    "# cria o gráfico de áreas empilhadas animado\n",
    "\n",
    "fig_3 = px.bar(counts, x=\"Ano_Mes\", y=\"NumCPFCNPJ\", color=\"DscClasseConsumo\", title=\"Novos usuários da Energia distribuida\")\n",
    "\n",
    "fig_3.update_layout(\n",
    "    width=1200,\n",
    "    height=600,\n",
    "    xaxis_title='Ano_Mes',\n",
    "    xaxis_title_font_size=16,\n",
    "    xaxis_tickfont_size=14,\n",
    "    yaxis_title='NumCPFCNPJ',\n",
    "    yaxis_title_font_size=16,\n",
    "    yaxis_tickfont_size=14,\n",
    "    title='Novos usuários da Energia distribuida',\n",
    "    title_font_size=20,\n",
    "    title_x=.5,\n",
    "    margin=dict(t=130)\n",
    ")\n",
    "\n",
    "# Define a faixa de valores do eixo y de acordo com os dados do gráfico\n",
    "fig_3.update_yaxes(range=[0, 7000])"
   ]
  },
  {
   "cell_type": "code",
   "execution_count": null,
   "id": "3640f6dd",
   "metadata": {},
   "outputs": [],
   "source": [
    "\n",
    "\n",
    "\n",
    "\n",
    "\n",
    "\n",
    "\n",
    "\n",
    "\n",
    "\n",
    "\n",
    "\n",
    "\n",
    "\n",
    "\n",
    "\n",
    "\n",
    "\n",
    "\n",
    "\n",
    "\n",
    "\n",
    "\n",
    "\n",
    "\n"
   ]
  },
  {
   "cell_type": "code",
   "execution_count": 77,
   "id": "e5d8f2a1",
   "metadata": {},
   "outputs": [
    {
     "data": {
      "text/html": [
       "<div>\n",
       "<style scoped>\n",
       "    .dataframe tbody tr th:only-of-type {\n",
       "        vertical-align: middle;\n",
       "    }\n",
       "\n",
       "    .dataframe tbody tr th {\n",
       "        vertical-align: top;\n",
       "    }\n",
       "\n",
       "    .dataframe thead th {\n",
       "        text-align: right;\n",
       "    }\n",
       "</style>\n",
       "<table border=\"1\" class=\"dataframe\">\n",
       "  <thead>\n",
       "    <tr style=\"text-align: right;\">\n",
       "      <th>Ano</th>\n",
       "      <th>2012</th>\n",
       "      <th>2013</th>\n",
       "      <th>2014</th>\n",
       "      <th>2015</th>\n",
       "      <th>2016</th>\n",
       "      <th>2017</th>\n",
       "      <th>2018</th>\n",
       "      <th>2019</th>\n",
       "      <th>2020</th>\n",
       "      <th>2021</th>\n",
       "      <th>2022</th>\n",
       "      <th>2023</th>\n",
       "      <th>Total</th>\n",
       "    </tr>\n",
       "    <tr>\n",
       "      <th>SigUF</th>\n",
       "      <th></th>\n",
       "      <th></th>\n",
       "      <th></th>\n",
       "      <th></th>\n",
       "      <th></th>\n",
       "      <th></th>\n",
       "      <th></th>\n",
       "      <th></th>\n",
       "      <th></th>\n",
       "      <th></th>\n",
       "      <th></th>\n",
       "      <th></th>\n",
       "      <th></th>\n",
       "    </tr>\n",
       "  </thead>\n",
       "  <tbody>\n",
       "    <tr>\n",
       "      <th>AC</th>\n",
       "      <td>0.0</td>\n",
       "      <td>0.0</td>\n",
       "      <td>0.0</td>\n",
       "      <td>3.0</td>\n",
       "      <td>1.0</td>\n",
       "      <td>16.0</td>\n",
       "      <td>31.0</td>\n",
       "      <td>132.0</td>\n",
       "      <td>504.0</td>\n",
       "      <td>1409.0</td>\n",
       "      <td>1797.0</td>\n",
       "      <td>375.0</td>\n",
       "      <td>4268.0</td>\n",
       "    </tr>\n",
       "    <tr>\n",
       "      <th>AL</th>\n",
       "      <td>0.0</td>\n",
       "      <td>0.0</td>\n",
       "      <td>0.0</td>\n",
       "      <td>4.0</td>\n",
       "      <td>14.0</td>\n",
       "      <td>46.0</td>\n",
       "      <td>173.0</td>\n",
       "      <td>617.0</td>\n",
       "      <td>1612.0</td>\n",
       "      <td>3496.0</td>\n",
       "      <td>8152.0</td>\n",
       "      <td>3086.0</td>\n",
       "      <td>17200.0</td>\n",
       "    </tr>\n",
       "    <tr>\n",
       "      <th>AM</th>\n",
       "      <td>0.0</td>\n",
       "      <td>0.0</td>\n",
       "      <td>0.0</td>\n",
       "      <td>2.0</td>\n",
       "      <td>5.0</td>\n",
       "      <td>20.0</td>\n",
       "      <td>81.0</td>\n",
       "      <td>428.0</td>\n",
       "      <td>880.0</td>\n",
       "      <td>1582.0</td>\n",
       "      <td>2855.0</td>\n",
       "      <td>863.0</td>\n",
       "      <td>6716.0</td>\n",
       "    </tr>\n",
       "    <tr>\n",
       "      <th>AP</th>\n",
       "      <td>0.0</td>\n",
       "      <td>0.0</td>\n",
       "      <td>0.0</td>\n",
       "      <td>0.0</td>\n",
       "      <td>0.0</td>\n",
       "      <td>2.0</td>\n",
       "      <td>36.0</td>\n",
       "      <td>108.0</td>\n",
       "      <td>145.0</td>\n",
       "      <td>477.0</td>\n",
       "      <td>908.0</td>\n",
       "      <td>606.0</td>\n",
       "      <td>2282.0</td>\n",
       "    </tr>\n",
       "    <tr>\n",
       "      <th>BA</th>\n",
       "      <td>1.0</td>\n",
       "      <td>1.0</td>\n",
       "      <td>15.0</td>\n",
       "      <td>35.0</td>\n",
       "      <td>106.0</td>\n",
       "      <td>266.0</td>\n",
       "      <td>90.0</td>\n",
       "      <td>4.0</td>\n",
       "      <td>1.0</td>\n",
       "      <td>3.0</td>\n",
       "      <td>3.0</td>\n",
       "      <td>1.0</td>\n",
       "      <td>526.0</td>\n",
       "    </tr>\n",
       "  </tbody>\n",
       "</table>\n",
       "</div>"
      ],
      "text/plain": [
       "Ano    2012  2013  2014  2015   2016   2017   2018   2019    2020    2021  \\\n",
       "SigUF                                                                       \n",
       "AC      0.0   0.0   0.0   3.0    1.0   16.0   31.0  132.0   504.0  1409.0   \n",
       "AL      0.0   0.0   0.0   4.0   14.0   46.0  173.0  617.0  1612.0  3496.0   \n",
       "AM      0.0   0.0   0.0   2.0    5.0   20.0   81.0  428.0   880.0  1582.0   \n",
       "AP      0.0   0.0   0.0   0.0    0.0    2.0   36.0  108.0   145.0   477.0   \n",
       "BA      1.0   1.0  15.0  35.0  106.0  266.0   90.0    4.0     1.0     3.0   \n",
       "\n",
       "Ano      2022    2023    Total  \n",
       "SigUF                           \n",
       "AC     1797.0   375.0   4268.0  \n",
       "AL     8152.0  3086.0  17200.0  \n",
       "AM     2855.0   863.0   6716.0  \n",
       "AP      908.0   606.0   2282.0  \n",
       "BA        3.0     1.0    526.0  "
      ]
     },
     "execution_count": 77,
     "metadata": {},
     "output_type": "execute_result"
    }
   ],
   "source": [
    "\n",
    "##___________MATRIZES_____________##\n",
    "\n",
    "df['Mes'] = pd.DatetimeIndex(df['DthAtualizaCadastralEmpreend']).month\n",
    "df['Ano'] = pd.DatetimeIndex(df['DthAtualizaCadastralEmpreend']).year\n",
    "\n",
    "counts = df_clean.groupby(['Ano', 'SigUF', 'DscClasseConsumo']).agg({'NumCPFCNPJ': 'nunique'}).reset_index()\n",
    "tabela = counts.groupby(['Ano', 'SigUF'])['NumCPFCNPJ'].sum().reset_index()\n",
    "matriz = tabela.pivot(index='SigUF', columns='Ano', values='NumCPFCNPJ')\n",
    "\n",
    "matriz['Total'] = matriz.sum(axis=1)\n",
    "matriz = matriz.fillna(0)\n",
    "\n",
    "matriz_tx = matriz.iloc[:, :-1].pct_change(axis=1) * 100\n",
    "matriz_tx= matriz.applymap(lambda x: '{:.0f}%'.format(x) if not np.isinf(x) else '∞')\n",
    "\n",
    "matriz\n",
    "\n"
   ]
  },
  {
   "cell_type": "code",
   "execution_count": 78,
   "id": "95c9740e",
   "metadata": {},
   "outputs": [
    {
     "data": {
      "application/vnd.plotly.v1+json": {
       "config": {
        "plotlyServerURL": "https://plot.ly"
       },
       "data": [
        {
         "colorscale": [
          [
           0,
           "rgb(255,255,217)"
          ],
          [
           0.125,
           "rgb(237,248,177)"
          ],
          [
           0.25,
           "rgb(199,233,180)"
          ],
          [
           0.375,
           "rgb(127,205,187)"
          ],
          [
           0.5,
           "rgb(65,182,196)"
          ],
          [
           0.625,
           "rgb(29,145,192)"
          ],
          [
           0.75,
           "rgb(34,94,168)"
          ],
          [
           0.875,
           "rgb(37,52,148)"
          ],
          [
           1,
           "rgb(8,29,88)"
          ]
         ],
         "reversescale": false,
         "showscale": false,
         "type": "heatmap",
         "x": [
          2012,
          2013,
          2014,
          2015,
          2016,
          2017,
          2018,
          2019,
          2020,
          2021,
          2022,
          2023
         ],
         "y": [
          "AC",
          "AL",
          "AM",
          "AP",
          "BA",
          "BR"
         ],
         "z": [
          [
           0,
           0,
           0,
           3,
           1,
           16,
           31,
           132,
           504,
           1409,
           1797,
           375
          ],
          [
           0,
           0,
           0,
           4,
           14,
           46,
           173,
           617,
           1612,
           3496,
           8152,
           3086
          ],
          [
           0,
           0,
           0,
           2,
           5,
           20,
           81,
           428,
           880,
           1582,
           2855,
           863
          ],
          [
           0,
           0,
           0,
           0,
           0,
           2,
           36,
           108,
           145,
           477,
           908,
           606
          ],
          [
           1,
           1,
           15,
           35,
           106,
           266,
           90,
           4,
           1,
           3,
           3,
           1
          ],
          [
           1,
           1,
           15,
           44,
           126,
           350,
           411,
           1289,
           3142,
           6967,
           13715,
           4931
          ]
         ]
        }
       ],
       "layout": {
        "annotations": [
         {
          "font": {
           "color": "gray"
          },
          "showarrow": false,
          "text": "0.0",
          "x": 2012,
          "xref": "x",
          "y": "AC",
          "yref": "y"
         },
         {
          "font": {
           "color": "gray"
          },
          "showarrow": false,
          "text": "0.0",
          "x": 2013,
          "xref": "x",
          "y": "AC",
          "yref": "y"
         },
         {
          "font": {
           "color": "gray"
          },
          "showarrow": false,
          "text": "0.0",
          "x": 2014,
          "xref": "x",
          "y": "AC",
          "yref": "y"
         },
         {
          "font": {
           "color": "gray"
          },
          "showarrow": false,
          "text": "3.0",
          "x": 2015,
          "xref": "x",
          "y": "AC",
          "yref": "y"
         },
         {
          "font": {
           "color": "gray"
          },
          "showarrow": false,
          "text": "1.0",
          "x": 2016,
          "xref": "x",
          "y": "AC",
          "yref": "y"
         },
         {
          "font": {
           "color": "gray"
          },
          "showarrow": false,
          "text": "16.0",
          "x": 2017,
          "xref": "x",
          "y": "AC",
          "yref": "y"
         },
         {
          "font": {
           "color": "gray"
          },
          "showarrow": false,
          "text": "31.0",
          "x": 2018,
          "xref": "x",
          "y": "AC",
          "yref": "y"
         },
         {
          "font": {
           "color": "gray"
          },
          "showarrow": false,
          "text": "132.0",
          "x": 2019,
          "xref": "x",
          "y": "AC",
          "yref": "y"
         },
         {
          "font": {
           "color": "gray"
          },
          "showarrow": false,
          "text": "504.0",
          "x": 2020,
          "xref": "x",
          "y": "AC",
          "yref": "y"
         },
         {
          "font": {
           "color": "gray"
          },
          "showarrow": false,
          "text": "1409.0",
          "x": 2021,
          "xref": "x",
          "y": "AC",
          "yref": "y"
         },
         {
          "font": {
           "color": "gray"
          },
          "showarrow": false,
          "text": "1797.0",
          "x": 2022,
          "xref": "x",
          "y": "AC",
          "yref": "y"
         },
         {
          "font": {
           "color": "gray"
          },
          "showarrow": false,
          "text": "375.0",
          "x": 2023,
          "xref": "x",
          "y": "AC",
          "yref": "y"
         },
         {
          "font": {
           "color": "gray"
          },
          "showarrow": false,
          "text": "0.0",
          "x": 2012,
          "xref": "x",
          "y": "AL",
          "yref": "y"
         },
         {
          "font": {
           "color": "gray"
          },
          "showarrow": false,
          "text": "0.0",
          "x": 2013,
          "xref": "x",
          "y": "AL",
          "yref": "y"
         },
         {
          "font": {
           "color": "gray"
          },
          "showarrow": false,
          "text": "0.0",
          "x": 2014,
          "xref": "x",
          "y": "AL",
          "yref": "y"
         },
         {
          "font": {
           "color": "gray"
          },
          "showarrow": false,
          "text": "4.0",
          "x": 2015,
          "xref": "x",
          "y": "AL",
          "yref": "y"
         },
         {
          "font": {
           "color": "gray"
          },
          "showarrow": false,
          "text": "14.0",
          "x": 2016,
          "xref": "x",
          "y": "AL",
          "yref": "y"
         },
         {
          "font": {
           "color": "gray"
          },
          "showarrow": false,
          "text": "46.0",
          "x": 2017,
          "xref": "x",
          "y": "AL",
          "yref": "y"
         },
         {
          "font": {
           "color": "gray"
          },
          "showarrow": false,
          "text": "173.0",
          "x": 2018,
          "xref": "x",
          "y": "AL",
          "yref": "y"
         },
         {
          "font": {
           "color": "gray"
          },
          "showarrow": false,
          "text": "617.0",
          "x": 2019,
          "xref": "x",
          "y": "AL",
          "yref": "y"
         },
         {
          "font": {
           "color": "gray"
          },
          "showarrow": false,
          "text": "1612.0",
          "x": 2020,
          "xref": "x",
          "y": "AL",
          "yref": "y"
         },
         {
          "font": {
           "color": "gray"
          },
          "showarrow": false,
          "text": "3496.0",
          "x": 2021,
          "xref": "x",
          "y": "AL",
          "yref": "y"
         },
         {
          "font": {
           "color": "white"
          },
          "showarrow": false,
          "text": "8152.0",
          "x": 2022,
          "xref": "x",
          "y": "AL",
          "yref": "y"
         },
         {
          "font": {
           "color": "gray"
          },
          "showarrow": false,
          "text": "3086.0",
          "x": 2023,
          "xref": "x",
          "y": "AL",
          "yref": "y"
         },
         {
          "font": {
           "color": "gray"
          },
          "showarrow": false,
          "text": "0.0",
          "x": 2012,
          "xref": "x",
          "y": "AM",
          "yref": "y"
         },
         {
          "font": {
           "color": "gray"
          },
          "showarrow": false,
          "text": "0.0",
          "x": 2013,
          "xref": "x",
          "y": "AM",
          "yref": "y"
         },
         {
          "font": {
           "color": "gray"
          },
          "showarrow": false,
          "text": "0.0",
          "x": 2014,
          "xref": "x",
          "y": "AM",
          "yref": "y"
         },
         {
          "font": {
           "color": "gray"
          },
          "showarrow": false,
          "text": "2.0",
          "x": 2015,
          "xref": "x",
          "y": "AM",
          "yref": "y"
         },
         {
          "font": {
           "color": "gray"
          },
          "showarrow": false,
          "text": "5.0",
          "x": 2016,
          "xref": "x",
          "y": "AM",
          "yref": "y"
         },
         {
          "font": {
           "color": "gray"
          },
          "showarrow": false,
          "text": "20.0",
          "x": 2017,
          "xref": "x",
          "y": "AM",
          "yref": "y"
         },
         {
          "font": {
           "color": "gray"
          },
          "showarrow": false,
          "text": "81.0",
          "x": 2018,
          "xref": "x",
          "y": "AM",
          "yref": "y"
         },
         {
          "font": {
           "color": "gray"
          },
          "showarrow": false,
          "text": "428.0",
          "x": 2019,
          "xref": "x",
          "y": "AM",
          "yref": "y"
         },
         {
          "font": {
           "color": "gray"
          },
          "showarrow": false,
          "text": "880.0",
          "x": 2020,
          "xref": "x",
          "y": "AM",
          "yref": "y"
         },
         {
          "font": {
           "color": "gray"
          },
          "showarrow": false,
          "text": "1582.0",
          "x": 2021,
          "xref": "x",
          "y": "AM",
          "yref": "y"
         },
         {
          "font": {
           "color": "gray"
          },
          "showarrow": false,
          "text": "2855.0",
          "x": 2022,
          "xref": "x",
          "y": "AM",
          "yref": "y"
         },
         {
          "font": {
           "color": "gray"
          },
          "showarrow": false,
          "text": "863.0",
          "x": 2023,
          "xref": "x",
          "y": "AM",
          "yref": "y"
         },
         {
          "font": {
           "color": "gray"
          },
          "showarrow": false,
          "text": "0.0",
          "x": 2012,
          "xref": "x",
          "y": "AP",
          "yref": "y"
         },
         {
          "font": {
           "color": "gray"
          },
          "showarrow": false,
          "text": "0.0",
          "x": 2013,
          "xref": "x",
          "y": "AP",
          "yref": "y"
         },
         {
          "font": {
           "color": "gray"
          },
          "showarrow": false,
          "text": "0.0",
          "x": 2014,
          "xref": "x",
          "y": "AP",
          "yref": "y"
         },
         {
          "font": {
           "color": "gray"
          },
          "showarrow": false,
          "text": "0.0",
          "x": 2015,
          "xref": "x",
          "y": "AP",
          "yref": "y"
         },
         {
          "font": {
           "color": "gray"
          },
          "showarrow": false,
          "text": "0.0",
          "x": 2016,
          "xref": "x",
          "y": "AP",
          "yref": "y"
         },
         {
          "font": {
           "color": "gray"
          },
          "showarrow": false,
          "text": "2.0",
          "x": 2017,
          "xref": "x",
          "y": "AP",
          "yref": "y"
         },
         {
          "font": {
           "color": "gray"
          },
          "showarrow": false,
          "text": "36.0",
          "x": 2018,
          "xref": "x",
          "y": "AP",
          "yref": "y"
         },
         {
          "font": {
           "color": "gray"
          },
          "showarrow": false,
          "text": "108.0",
          "x": 2019,
          "xref": "x",
          "y": "AP",
          "yref": "y"
         },
         {
          "font": {
           "color": "gray"
          },
          "showarrow": false,
          "text": "145.0",
          "x": 2020,
          "xref": "x",
          "y": "AP",
          "yref": "y"
         },
         {
          "font": {
           "color": "gray"
          },
          "showarrow": false,
          "text": "477.0",
          "x": 2021,
          "xref": "x",
          "y": "AP",
          "yref": "y"
         },
         {
          "font": {
           "color": "gray"
          },
          "showarrow": false,
          "text": "908.0",
          "x": 2022,
          "xref": "x",
          "y": "AP",
          "yref": "y"
         },
         {
          "font": {
           "color": "gray"
          },
          "showarrow": false,
          "text": "606.0",
          "x": 2023,
          "xref": "x",
          "y": "AP",
          "yref": "y"
         },
         {
          "font": {
           "color": "gray"
          },
          "showarrow": false,
          "text": "1.0",
          "x": 2012,
          "xref": "x",
          "y": "BA",
          "yref": "y"
         },
         {
          "font": {
           "color": "gray"
          },
          "showarrow": false,
          "text": "1.0",
          "x": 2013,
          "xref": "x",
          "y": "BA",
          "yref": "y"
         },
         {
          "font": {
           "color": "gray"
          },
          "showarrow": false,
          "text": "15.0",
          "x": 2014,
          "xref": "x",
          "y": "BA",
          "yref": "y"
         },
         {
          "font": {
           "color": "gray"
          },
          "showarrow": false,
          "text": "35.0",
          "x": 2015,
          "xref": "x",
          "y": "BA",
          "yref": "y"
         },
         {
          "font": {
           "color": "gray"
          },
          "showarrow": false,
          "text": "106.0",
          "x": 2016,
          "xref": "x",
          "y": "BA",
          "yref": "y"
         },
         {
          "font": {
           "color": "gray"
          },
          "showarrow": false,
          "text": "266.0",
          "x": 2017,
          "xref": "x",
          "y": "BA",
          "yref": "y"
         },
         {
          "font": {
           "color": "gray"
          },
          "showarrow": false,
          "text": "90.0",
          "x": 2018,
          "xref": "x",
          "y": "BA",
          "yref": "y"
         },
         {
          "font": {
           "color": "gray"
          },
          "showarrow": false,
          "text": "4.0",
          "x": 2019,
          "xref": "x",
          "y": "BA",
          "yref": "y"
         },
         {
          "font": {
           "color": "gray"
          },
          "showarrow": false,
          "text": "1.0",
          "x": 2020,
          "xref": "x",
          "y": "BA",
          "yref": "y"
         },
         {
          "font": {
           "color": "gray"
          },
          "showarrow": false,
          "text": "3.0",
          "x": 2021,
          "xref": "x",
          "y": "BA",
          "yref": "y"
         },
         {
          "font": {
           "color": "gray"
          },
          "showarrow": false,
          "text": "3.0",
          "x": 2022,
          "xref": "x",
          "y": "BA",
          "yref": "y"
         },
         {
          "font": {
           "color": "gray"
          },
          "showarrow": false,
          "text": "1.0",
          "x": 2023,
          "xref": "x",
          "y": "BA",
          "yref": "y"
         },
         {
          "font": {
           "color": "gray"
          },
          "showarrow": false,
          "text": "1.0",
          "x": 2012,
          "xref": "x",
          "y": "BR",
          "yref": "y"
         },
         {
          "font": {
           "color": "gray"
          },
          "showarrow": false,
          "text": "1.0",
          "x": 2013,
          "xref": "x",
          "y": "BR",
          "yref": "y"
         },
         {
          "font": {
           "color": "gray"
          },
          "showarrow": false,
          "text": "15.0",
          "x": 2014,
          "xref": "x",
          "y": "BR",
          "yref": "y"
         },
         {
          "font": {
           "color": "gray"
          },
          "showarrow": false,
          "text": "44.0",
          "x": 2015,
          "xref": "x",
          "y": "BR",
          "yref": "y"
         },
         {
          "font": {
           "color": "gray"
          },
          "showarrow": false,
          "text": "126.0",
          "x": 2016,
          "xref": "x",
          "y": "BR",
          "yref": "y"
         },
         {
          "font": {
           "color": "gray"
          },
          "showarrow": false,
          "text": "350.0",
          "x": 2017,
          "xref": "x",
          "y": "BR",
          "yref": "y"
         },
         {
          "font": {
           "color": "gray"
          },
          "showarrow": false,
          "text": "411.0",
          "x": 2018,
          "xref": "x",
          "y": "BR",
          "yref": "y"
         },
         {
          "font": {
           "color": "gray"
          },
          "showarrow": false,
          "text": "1289.0",
          "x": 2019,
          "xref": "x",
          "y": "BR",
          "yref": "y"
         },
         {
          "font": {
           "color": "gray"
          },
          "showarrow": false,
          "text": "3142.0",
          "x": 2020,
          "xref": "x",
          "y": "BR",
          "yref": "y"
         },
         {
          "font": {
           "color": "white"
          },
          "showarrow": false,
          "text": "6967.0",
          "x": 2021,
          "xref": "x",
          "y": "BR",
          "yref": "y"
         },
         {
          "font": {
           "color": "white"
          },
          "showarrow": false,
          "text": "13715.0",
          "x": 2022,
          "xref": "x",
          "y": "BR",
          "yref": "y"
         },
         {
          "font": {
           "color": "gray"
          },
          "showarrow": false,
          "text": "4931.0",
          "x": 2023,
          "xref": "x",
          "y": "BR",
          "yref": "y"
         }
        ],
        "height": 600,
        "margin": {
         "t": 130
        },
        "template": {
         "data": {
          "bar": [
           {
            "error_x": {
             "color": "#2a3f5f"
            },
            "error_y": {
             "color": "#2a3f5f"
            },
            "marker": {
             "line": {
              "color": "#E5ECF6",
              "width": 0.5
             },
             "pattern": {
              "fillmode": "overlay",
              "size": 10,
              "solidity": 0.2
             }
            },
            "type": "bar"
           }
          ],
          "barpolar": [
           {
            "marker": {
             "line": {
              "color": "#E5ECF6",
              "width": 0.5
             },
             "pattern": {
              "fillmode": "overlay",
              "size": 10,
              "solidity": 0.2
             }
            },
            "type": "barpolar"
           }
          ],
          "carpet": [
           {
            "aaxis": {
             "endlinecolor": "#2a3f5f",
             "gridcolor": "white",
             "linecolor": "white",
             "minorgridcolor": "white",
             "startlinecolor": "#2a3f5f"
            },
            "baxis": {
             "endlinecolor": "#2a3f5f",
             "gridcolor": "white",
             "linecolor": "white",
             "minorgridcolor": "white",
             "startlinecolor": "#2a3f5f"
            },
            "type": "carpet"
           }
          ],
          "choropleth": [
           {
            "colorbar": {
             "outlinewidth": 0,
             "ticks": ""
            },
            "type": "choropleth"
           }
          ],
          "contour": [
           {
            "colorbar": {
             "outlinewidth": 0,
             "ticks": ""
            },
            "colorscale": [
             [
              0,
              "#0d0887"
             ],
             [
              0.1111111111111111,
              "#46039f"
             ],
             [
              0.2222222222222222,
              "#7201a8"
             ],
             [
              0.3333333333333333,
              "#9c179e"
             ],
             [
              0.4444444444444444,
              "#bd3786"
             ],
             [
              0.5555555555555556,
              "#d8576b"
             ],
             [
              0.6666666666666666,
              "#ed7953"
             ],
             [
              0.7777777777777778,
              "#fb9f3a"
             ],
             [
              0.8888888888888888,
              "#fdca26"
             ],
             [
              1,
              "#f0f921"
             ]
            ],
            "type": "contour"
           }
          ],
          "contourcarpet": [
           {
            "colorbar": {
             "outlinewidth": 0,
             "ticks": ""
            },
            "type": "contourcarpet"
           }
          ],
          "heatmap": [
           {
            "colorbar": {
             "outlinewidth": 0,
             "ticks": ""
            },
            "colorscale": [
             [
              0,
              "#0d0887"
             ],
             [
              0.1111111111111111,
              "#46039f"
             ],
             [
              0.2222222222222222,
              "#7201a8"
             ],
             [
              0.3333333333333333,
              "#9c179e"
             ],
             [
              0.4444444444444444,
              "#bd3786"
             ],
             [
              0.5555555555555556,
              "#d8576b"
             ],
             [
              0.6666666666666666,
              "#ed7953"
             ],
             [
              0.7777777777777778,
              "#fb9f3a"
             ],
             [
              0.8888888888888888,
              "#fdca26"
             ],
             [
              1,
              "#f0f921"
             ]
            ],
            "type": "heatmap"
           }
          ],
          "heatmapgl": [
           {
            "colorbar": {
             "outlinewidth": 0,
             "ticks": ""
            },
            "colorscale": [
             [
              0,
              "#0d0887"
             ],
             [
              0.1111111111111111,
              "#46039f"
             ],
             [
              0.2222222222222222,
              "#7201a8"
             ],
             [
              0.3333333333333333,
              "#9c179e"
             ],
             [
              0.4444444444444444,
              "#bd3786"
             ],
             [
              0.5555555555555556,
              "#d8576b"
             ],
             [
              0.6666666666666666,
              "#ed7953"
             ],
             [
              0.7777777777777778,
              "#fb9f3a"
             ],
             [
              0.8888888888888888,
              "#fdca26"
             ],
             [
              1,
              "#f0f921"
             ]
            ],
            "type": "heatmapgl"
           }
          ],
          "histogram": [
           {
            "marker": {
             "pattern": {
              "fillmode": "overlay",
              "size": 10,
              "solidity": 0.2
             }
            },
            "type": "histogram"
           }
          ],
          "histogram2d": [
           {
            "colorbar": {
             "outlinewidth": 0,
             "ticks": ""
            },
            "colorscale": [
             [
              0,
              "#0d0887"
             ],
             [
              0.1111111111111111,
              "#46039f"
             ],
             [
              0.2222222222222222,
              "#7201a8"
             ],
             [
              0.3333333333333333,
              "#9c179e"
             ],
             [
              0.4444444444444444,
              "#bd3786"
             ],
             [
              0.5555555555555556,
              "#d8576b"
             ],
             [
              0.6666666666666666,
              "#ed7953"
             ],
             [
              0.7777777777777778,
              "#fb9f3a"
             ],
             [
              0.8888888888888888,
              "#fdca26"
             ],
             [
              1,
              "#f0f921"
             ]
            ],
            "type": "histogram2d"
           }
          ],
          "histogram2dcontour": [
           {
            "colorbar": {
             "outlinewidth": 0,
             "ticks": ""
            },
            "colorscale": [
             [
              0,
              "#0d0887"
             ],
             [
              0.1111111111111111,
              "#46039f"
             ],
             [
              0.2222222222222222,
              "#7201a8"
             ],
             [
              0.3333333333333333,
              "#9c179e"
             ],
             [
              0.4444444444444444,
              "#bd3786"
             ],
             [
              0.5555555555555556,
              "#d8576b"
             ],
             [
              0.6666666666666666,
              "#ed7953"
             ],
             [
              0.7777777777777778,
              "#fb9f3a"
             ],
             [
              0.8888888888888888,
              "#fdca26"
             ],
             [
              1,
              "#f0f921"
             ]
            ],
            "type": "histogram2dcontour"
           }
          ],
          "mesh3d": [
           {
            "colorbar": {
             "outlinewidth": 0,
             "ticks": ""
            },
            "type": "mesh3d"
           }
          ],
          "parcoords": [
           {
            "line": {
             "colorbar": {
              "outlinewidth": 0,
              "ticks": ""
             }
            },
            "type": "parcoords"
           }
          ],
          "pie": [
           {
            "automargin": true,
            "type": "pie"
           }
          ],
          "scatter": [
           {
            "fillpattern": {
             "fillmode": "overlay",
             "size": 10,
             "solidity": 0.2
            },
            "type": "scatter"
           }
          ],
          "scatter3d": [
           {
            "line": {
             "colorbar": {
              "outlinewidth": 0,
              "ticks": ""
             }
            },
            "marker": {
             "colorbar": {
              "outlinewidth": 0,
              "ticks": ""
             }
            },
            "type": "scatter3d"
           }
          ],
          "scattercarpet": [
           {
            "marker": {
             "colorbar": {
              "outlinewidth": 0,
              "ticks": ""
             }
            },
            "type": "scattercarpet"
           }
          ],
          "scattergeo": [
           {
            "marker": {
             "colorbar": {
              "outlinewidth": 0,
              "ticks": ""
             }
            },
            "type": "scattergeo"
           }
          ],
          "scattergl": [
           {
            "marker": {
             "colorbar": {
              "outlinewidth": 0,
              "ticks": ""
             }
            },
            "type": "scattergl"
           }
          ],
          "scattermapbox": [
           {
            "marker": {
             "colorbar": {
              "outlinewidth": 0,
              "ticks": ""
             }
            },
            "type": "scattermapbox"
           }
          ],
          "scatterpolar": [
           {
            "marker": {
             "colorbar": {
              "outlinewidth": 0,
              "ticks": ""
             }
            },
            "type": "scatterpolar"
           }
          ],
          "scatterpolargl": [
           {
            "marker": {
             "colorbar": {
              "outlinewidth": 0,
              "ticks": ""
             }
            },
            "type": "scatterpolargl"
           }
          ],
          "scatterternary": [
           {
            "marker": {
             "colorbar": {
              "outlinewidth": 0,
              "ticks": ""
             }
            },
            "type": "scatterternary"
           }
          ],
          "surface": [
           {
            "colorbar": {
             "outlinewidth": 0,
             "ticks": ""
            },
            "colorscale": [
             [
              0,
              "#0d0887"
             ],
             [
              0.1111111111111111,
              "#46039f"
             ],
             [
              0.2222222222222222,
              "#7201a8"
             ],
             [
              0.3333333333333333,
              "#9c179e"
             ],
             [
              0.4444444444444444,
              "#bd3786"
             ],
             [
              0.5555555555555556,
              "#d8576b"
             ],
             [
              0.6666666666666666,
              "#ed7953"
             ],
             [
              0.7777777777777778,
              "#fb9f3a"
             ],
             [
              0.8888888888888888,
              "#fdca26"
             ],
             [
              1,
              "#f0f921"
             ]
            ],
            "type": "surface"
           }
          ],
          "table": [
           {
            "cells": {
             "fill": {
              "color": "#EBF0F8"
             },
             "line": {
              "color": "white"
             }
            },
            "header": {
             "fill": {
              "color": "#C8D4E3"
             },
             "line": {
              "color": "white"
             }
            },
            "type": "table"
           }
          ]
         },
         "layout": {
          "annotationdefaults": {
           "arrowcolor": "#2a3f5f",
           "arrowhead": 0,
           "arrowwidth": 1
          },
          "autotypenumbers": "strict",
          "coloraxis": {
           "colorbar": {
            "outlinewidth": 0,
            "ticks": ""
           }
          },
          "colorscale": {
           "diverging": [
            [
             0,
             "#8e0152"
            ],
            [
             0.1,
             "#c51b7d"
            ],
            [
             0.2,
             "#de77ae"
            ],
            [
             0.3,
             "#f1b6da"
            ],
            [
             0.4,
             "#fde0ef"
            ],
            [
             0.5,
             "#f7f7f7"
            ],
            [
             0.6,
             "#e6f5d0"
            ],
            [
             0.7,
             "#b8e186"
            ],
            [
             0.8,
             "#7fbc41"
            ],
            [
             0.9,
             "#4d9221"
            ],
            [
             1,
             "#276419"
            ]
           ],
           "sequential": [
            [
             0,
             "#0d0887"
            ],
            [
             0.1111111111111111,
             "#46039f"
            ],
            [
             0.2222222222222222,
             "#7201a8"
            ],
            [
             0.3333333333333333,
             "#9c179e"
            ],
            [
             0.4444444444444444,
             "#bd3786"
            ],
            [
             0.5555555555555556,
             "#d8576b"
            ],
            [
             0.6666666666666666,
             "#ed7953"
            ],
            [
             0.7777777777777778,
             "#fb9f3a"
            ],
            [
             0.8888888888888888,
             "#fdca26"
            ],
            [
             1,
             "#f0f921"
            ]
           ],
           "sequentialminus": [
            [
             0,
             "#0d0887"
            ],
            [
             0.1111111111111111,
             "#46039f"
            ],
            [
             0.2222222222222222,
             "#7201a8"
            ],
            [
             0.3333333333333333,
             "#9c179e"
            ],
            [
             0.4444444444444444,
             "#bd3786"
            ],
            [
             0.5555555555555556,
             "#d8576b"
            ],
            [
             0.6666666666666666,
             "#ed7953"
            ],
            [
             0.7777777777777778,
             "#fb9f3a"
            ],
            [
             0.8888888888888888,
             "#fdca26"
            ],
            [
             1,
             "#f0f921"
            ]
           ]
          },
          "colorway": [
           "#636efa",
           "#EF553B",
           "#00cc96",
           "#ab63fa",
           "#FFA15A",
           "#19d3f3",
           "#FF6692",
           "#B6E880",
           "#FF97FF",
           "#FECB52"
          ],
          "font": {
           "color": "#2a3f5f"
          },
          "geo": {
           "bgcolor": "white",
           "lakecolor": "white",
           "landcolor": "#E5ECF6",
           "showlakes": true,
           "showland": true,
           "subunitcolor": "white"
          },
          "hoverlabel": {
           "align": "left"
          },
          "hovermode": "closest",
          "mapbox": {
           "style": "light"
          },
          "paper_bgcolor": "white",
          "plot_bgcolor": "#E5ECF6",
          "polar": {
           "angularaxis": {
            "gridcolor": "white",
            "linecolor": "white",
            "ticks": ""
           },
           "bgcolor": "#E5ECF6",
           "radialaxis": {
            "gridcolor": "white",
            "linecolor": "white",
            "ticks": ""
           }
          },
          "scene": {
           "xaxis": {
            "backgroundcolor": "#E5ECF6",
            "gridcolor": "white",
            "gridwidth": 2,
            "linecolor": "white",
            "showbackground": true,
            "ticks": "",
            "zerolinecolor": "white"
           },
           "yaxis": {
            "backgroundcolor": "#E5ECF6",
            "gridcolor": "white",
            "gridwidth": 2,
            "linecolor": "white",
            "showbackground": true,
            "ticks": "",
            "zerolinecolor": "white"
           },
           "zaxis": {
            "backgroundcolor": "#E5ECF6",
            "gridcolor": "white",
            "gridwidth": 2,
            "linecolor": "white",
            "showbackground": true,
            "ticks": "",
            "zerolinecolor": "white"
           }
          },
          "shapedefaults": {
           "line": {
            "color": "#2a3f5f"
           }
          },
          "ternary": {
           "aaxis": {
            "gridcolor": "white",
            "linecolor": "white",
            "ticks": ""
           },
           "baxis": {
            "gridcolor": "white",
            "linecolor": "white",
            "ticks": ""
           },
           "bgcolor": "#E5ECF6",
           "caxis": {
            "gridcolor": "white",
            "linecolor": "white",
            "ticks": ""
           }
          },
          "title": {
           "x": 0.05
          },
          "xaxis": {
           "automargin": true,
           "gridcolor": "white",
           "linecolor": "white",
           "ticks": "",
           "title": {
            "standoff": 15
           },
           "zerolinecolor": "white",
           "zerolinewidth": 2
          },
          "yaxis": {
           "automargin": true,
           "gridcolor": "white",
           "linecolor": "white",
           "ticks": "",
           "title": {
            "standoff": 15
           },
           "zerolinecolor": "white",
           "zerolinewidth": 2
          }
         }
        },
        "title": {
         "font": {
          "size": 20
         },
         "text": "Novos usuários da Energia distribuida",
         "x": 0.5
        },
        "width": 1200,
        "xaxis": {
         "dtick": 1,
         "gridcolor": "rgb(0, 0, 0)",
         "side": "top",
         "tickfont": {
          "size": 14
         },
         "ticks": "",
         "title": {
          "font": {
           "size": 16
          },
          "text": "Ano"
         }
        },
        "yaxis": {
         "dtick": 1,
         "tickfont": {
          "size": 14
         },
         "ticks": "",
         "ticksuffix": "  ",
         "title": {
          "font": {
           "size": 16
          },
          "text": "SigUF"
         },
         "type": "category"
        }
       }
      }
     },
     "metadata": {},
     "output_type": "display_data"
    }
   ],
   "source": [
    "\n",
    "import plotly.graph_objs as go\n",
    "from plotly.subplots import make_subplots\n",
    "import plotly.figure_factory as ff\n",
    "\n",
    "df['Mes'] = pd.DatetimeIndex(df['DthAtualizaCadastralEmpreend']).month\n",
    "df['Ano'] = pd.DatetimeIndex(df['DthAtualizaCadastralEmpreend']).year\n",
    "\n",
    "counts = df_clean.groupby(['Ano', 'SigUF', 'DscClasseConsumo']).agg({'NumCPFCNPJ': 'nunique'}).reset_index()\n",
    "tabela = counts.groupby(['Ano', 'SigUF'])['NumCPFCNPJ'].sum().reset_index()\n",
    "matriz = tabela.pivot(index='SigUF', columns='Ano', values='NumCPFCNPJ')\n",
    "\n",
    "matriz['Total'] = matriz.sum(axis=1)\n",
    "matriz = matriz.fillna(0)\n",
    "\n",
    "matriz_tx = matriz.iloc[:, :-1].pct_change(axis=1) * 100\n",
    "matriz_tx= matriz.applymap(lambda x: '{:.0f}%'.format(x) if not np.isinf(x) else '∞')\n",
    "\n",
    "\n",
    "counts = df_clean.groupby(['Ano', 'SigUF', 'DscClasseConsumo']).agg({'NumCPFCNPJ': 'nunique'}).reset_index()\n",
    "tabela = counts.groupby(['Ano', 'SigUF'])['NumCPFCNPJ'].sum().reset_index()\n",
    "matriz = tabela.pivot(index='SigUF', columns='Ano', values='NumCPFCNPJ')\n",
    "\n",
    "matriz.loc['BR'] = matriz.sum()\n",
    "\n",
    "\n",
    "matriz = matriz.fillna(0)\n",
    "\n",
    "z_text = matriz.round(2).values.tolist()\n",
    "\n",
    "fig = ff.create_annotated_heatmap(z=matriz.values,\n",
    "                                  x=list(matriz.columns),\n",
    "                                  y=list(matriz.index),\n",
    "                                  annotation_text=z_text,\n",
    "                                  font_colors=['gray', 'white'],\n",
    "                                  colorscale='YlGnBu')\n",
    "\n",
    "fig.update_layout(yaxis={'type': 'category'})\n",
    "\n",
    "\n",
    "fig.update_layout(\n",
    "    width=1200,\n",
    "    height=600,\n",
    "    xaxis_title='Ano',\n",
    "    xaxis_title_font_size=16,\n",
    "    xaxis_tickfont_size=14,\n",
    "    yaxis_title='SigUF',\n",
    "    yaxis_title_font_size=16,\n",
    "    yaxis_tickfont_size=14,\n",
    "    title='Novos usuários da Energia distribuida',\n",
    "    title_font_size=20,\n",
    "    title_x=.5,\n",
    "    margin=dict(t=130)\n",
    ")\n",
    "\n",
    "fig.show()"
   ]
  },
  {
   "cell_type": "code",
   "execution_count": null,
   "id": "7469bc04",
   "metadata": {},
   "outputs": [],
   "source": []
  },
  {
   "cell_type": "code",
   "execution_count": 80,
   "id": "399ed3ce",
   "metadata": {},
   "outputs": [
    {
     "data": {
      "application/vnd.plotly.v1+json": {
       "config": {
        "plotlyServerURL": "https://plot.ly"
       },
       "data": [
        {
         "colorscale": [
          [
           0,
           "rgb(255,255,217)"
          ],
          [
           0.125,
           "rgb(237,248,177)"
          ],
          [
           0.25,
           "rgb(199,233,180)"
          ],
          [
           0.375,
           "rgb(127,205,187)"
          ],
          [
           0.5,
           "rgb(65,182,196)"
          ],
          [
           0.625,
           "rgb(29,145,192)"
          ],
          [
           0.75,
           "rgb(34,94,168)"
          ],
          [
           0.875,
           "rgb(37,52,148)"
          ],
          [
           1,
           "rgb(8,29,88)"
          ]
         ],
         "reversescale": false,
         "showscale": false,
         "type": "heatmap",
         "x": [
          2012,
          2013,
          2014,
          2015,
          2016,
          2017,
          2018,
          2019,
          2020,
          2021,
          2022,
          2023
         ],
         "y": [
          "AC",
          "AL",
          "AM",
          "AP",
          "BA",
          "BR"
         ],
         "z": [
          [
           0,
           0,
           0,
           3,
           1,
           16,
           31,
           132,
           504,
           1409,
           1797,
           375
          ],
          [
           0,
           0,
           0,
           4,
           14,
           46,
           173,
           617,
           1612,
           3496,
           8152,
           3086
          ],
          [
           0,
           0,
           0,
           2,
           5,
           20,
           81,
           428,
           880,
           1582,
           2855,
           863
          ],
          [
           0,
           0,
           0,
           0,
           0,
           2,
           36,
           108,
           145,
           477,
           908,
           606
          ],
          [
           1,
           1,
           15,
           35,
           106,
           266,
           90,
           4,
           1,
           3,
           3,
           1
          ],
          [
           1,
           1,
           15,
           44,
           126,
           350,
           411,
           1289,
           3142,
           6967,
           13715,
           4931
          ]
         ]
        }
       ],
       "layout": {
        "annotations": [
         {
          "font": {
           "color": "gray"
          },
          "showarrow": false,
          "text": "0.0<br> ",
          "x": 2012,
          "xref": "x",
          "y": "AC",
          "yref": "y"
         },
         {
          "font": {
           "color": "gray"
          },
          "showarrow": false,
          "text": "0.0<br> ",
          "x": 2013,
          "xref": "x",
          "y": "AC",
          "yref": "y"
         },
         {
          "font": {
           "color": "gray"
          },
          "showarrow": false,
          "text": "0.0<br> ",
          "x": 2014,
          "xref": "x",
          "y": "AC",
          "yref": "y"
         },
         {
          "font": {
           "color": "gray"
          },
          "showarrow": false,
          "text": "3.0<br>inf%",
          "x": 2015,
          "xref": "x",
          "y": "AC",
          "yref": "y"
         },
         {
          "font": {
           "color": "gray"
          },
          "showarrow": false,
          "text": "1.0<br>-67%",
          "x": 2016,
          "xref": "x",
          "y": "AC",
          "yref": "y"
         },
         {
          "font": {
           "color": "gray"
          },
          "showarrow": false,
          "text": "16.0<br>1500%",
          "x": 2017,
          "xref": "x",
          "y": "AC",
          "yref": "y"
         },
         {
          "font": {
           "color": "gray"
          },
          "showarrow": false,
          "text": "31.0<br>94%",
          "x": 2018,
          "xref": "x",
          "y": "AC",
          "yref": "y"
         },
         {
          "font": {
           "color": "gray"
          },
          "showarrow": false,
          "text": "132.0<br>326%",
          "x": 2019,
          "xref": "x",
          "y": "AC",
          "yref": "y"
         },
         {
          "font": {
           "color": "gray"
          },
          "showarrow": false,
          "text": "504.0<br>282%",
          "x": 2020,
          "xref": "x",
          "y": "AC",
          "yref": "y"
         },
         {
          "font": {
           "color": "gray"
          },
          "showarrow": false,
          "text": "1409.0<br>180%",
          "x": 2021,
          "xref": "x",
          "y": "AC",
          "yref": "y"
         },
         {
          "font": {
           "color": "gray"
          },
          "showarrow": false,
          "text": "1797.0<br>28%",
          "x": 2022,
          "xref": "x",
          "y": "AC",
          "yref": "y"
         },
         {
          "font": {
           "color": "gray"
          },
          "showarrow": false,
          "text": "375.0<br>-79%",
          "x": 2023,
          "xref": "x",
          "y": "AC",
          "yref": "y"
         },
         {
          "font": {
           "color": "gray"
          },
          "showarrow": false,
          "text": "0.0<br> ",
          "x": 2012,
          "xref": "x",
          "y": "AL",
          "yref": "y"
         },
         {
          "font": {
           "color": "gray"
          },
          "showarrow": false,
          "text": "0.0<br> ",
          "x": 2013,
          "xref": "x",
          "y": "AL",
          "yref": "y"
         },
         {
          "font": {
           "color": "gray"
          },
          "showarrow": false,
          "text": "0.0<br> ",
          "x": 2014,
          "xref": "x",
          "y": "AL",
          "yref": "y"
         },
         {
          "font": {
           "color": "gray"
          },
          "showarrow": false,
          "text": "4.0<br>inf%",
          "x": 2015,
          "xref": "x",
          "y": "AL",
          "yref": "y"
         },
         {
          "font": {
           "color": "gray"
          },
          "showarrow": false,
          "text": "14.0<br>250%",
          "x": 2016,
          "xref": "x",
          "y": "AL",
          "yref": "y"
         },
         {
          "font": {
           "color": "gray"
          },
          "showarrow": false,
          "text": "46.0<br>229%",
          "x": 2017,
          "xref": "x",
          "y": "AL",
          "yref": "y"
         },
         {
          "font": {
           "color": "gray"
          },
          "showarrow": false,
          "text": "173.0<br>276%",
          "x": 2018,
          "xref": "x",
          "y": "AL",
          "yref": "y"
         },
         {
          "font": {
           "color": "gray"
          },
          "showarrow": false,
          "text": "617.0<br>257%",
          "x": 2019,
          "xref": "x",
          "y": "AL",
          "yref": "y"
         },
         {
          "font": {
           "color": "gray"
          },
          "showarrow": false,
          "text": "1612.0<br>161%",
          "x": 2020,
          "xref": "x",
          "y": "AL",
          "yref": "y"
         },
         {
          "font": {
           "color": "gray"
          },
          "showarrow": false,
          "text": "3496.0<br>117%",
          "x": 2021,
          "xref": "x",
          "y": "AL",
          "yref": "y"
         },
         {
          "font": {
           "color": "white"
          },
          "showarrow": false,
          "text": "8152.0<br>133%",
          "x": 2022,
          "xref": "x",
          "y": "AL",
          "yref": "y"
         },
         {
          "font": {
           "color": "gray"
          },
          "showarrow": false,
          "text": "3086.0<br>-62%",
          "x": 2023,
          "xref": "x",
          "y": "AL",
          "yref": "y"
         },
         {
          "font": {
           "color": "gray"
          },
          "showarrow": false,
          "text": "0.0<br> ",
          "x": 2012,
          "xref": "x",
          "y": "AM",
          "yref": "y"
         },
         {
          "font": {
           "color": "gray"
          },
          "showarrow": false,
          "text": "0.0<br> ",
          "x": 2013,
          "xref": "x",
          "y": "AM",
          "yref": "y"
         },
         {
          "font": {
           "color": "gray"
          },
          "showarrow": false,
          "text": "0.0<br> ",
          "x": 2014,
          "xref": "x",
          "y": "AM",
          "yref": "y"
         },
         {
          "font": {
           "color": "gray"
          },
          "showarrow": false,
          "text": "2.0<br>inf%",
          "x": 2015,
          "xref": "x",
          "y": "AM",
          "yref": "y"
         },
         {
          "font": {
           "color": "gray"
          },
          "showarrow": false,
          "text": "5.0<br>150%",
          "x": 2016,
          "xref": "x",
          "y": "AM",
          "yref": "y"
         },
         {
          "font": {
           "color": "gray"
          },
          "showarrow": false,
          "text": "20.0<br>300%",
          "x": 2017,
          "xref": "x",
          "y": "AM",
          "yref": "y"
         },
         {
          "font": {
           "color": "gray"
          },
          "showarrow": false,
          "text": "81.0<br>305%",
          "x": 2018,
          "xref": "x",
          "y": "AM",
          "yref": "y"
         },
         {
          "font": {
           "color": "gray"
          },
          "showarrow": false,
          "text": "428.0<br>428%",
          "x": 2019,
          "xref": "x",
          "y": "AM",
          "yref": "y"
         },
         {
          "font": {
           "color": "gray"
          },
          "showarrow": false,
          "text": "880.0<br>106%",
          "x": 2020,
          "xref": "x",
          "y": "AM",
          "yref": "y"
         },
         {
          "font": {
           "color": "gray"
          },
          "showarrow": false,
          "text": "1582.0<br>80%",
          "x": 2021,
          "xref": "x",
          "y": "AM",
          "yref": "y"
         },
         {
          "font": {
           "color": "gray"
          },
          "showarrow": false,
          "text": "2855.0<br>80%",
          "x": 2022,
          "xref": "x",
          "y": "AM",
          "yref": "y"
         },
         {
          "font": {
           "color": "gray"
          },
          "showarrow": false,
          "text": "863.0<br>-70%",
          "x": 2023,
          "xref": "x",
          "y": "AM",
          "yref": "y"
         },
         {
          "font": {
           "color": "gray"
          },
          "showarrow": false,
          "text": "0.0<br> ",
          "x": 2012,
          "xref": "x",
          "y": "AP",
          "yref": "y"
         },
         {
          "font": {
           "color": "gray"
          },
          "showarrow": false,
          "text": "0.0<br> ",
          "x": 2013,
          "xref": "x",
          "y": "AP",
          "yref": "y"
         },
         {
          "font": {
           "color": "gray"
          },
          "showarrow": false,
          "text": "0.0<br> ",
          "x": 2014,
          "xref": "x",
          "y": "AP",
          "yref": "y"
         },
         {
          "font": {
           "color": "gray"
          },
          "showarrow": false,
          "text": "0.0<br> ",
          "x": 2015,
          "xref": "x",
          "y": "AP",
          "yref": "y"
         },
         {
          "font": {
           "color": "gray"
          },
          "showarrow": false,
          "text": "0.0<br> ",
          "x": 2016,
          "xref": "x",
          "y": "AP",
          "yref": "y"
         },
         {
          "font": {
           "color": "gray"
          },
          "showarrow": false,
          "text": "2.0<br>inf%",
          "x": 2017,
          "xref": "x",
          "y": "AP",
          "yref": "y"
         },
         {
          "font": {
           "color": "gray"
          },
          "showarrow": false,
          "text": "36.0<br>1700%",
          "x": 2018,
          "xref": "x",
          "y": "AP",
          "yref": "y"
         },
         {
          "font": {
           "color": "gray"
          },
          "showarrow": false,
          "text": "108.0<br>200%",
          "x": 2019,
          "xref": "x",
          "y": "AP",
          "yref": "y"
         },
         {
          "font": {
           "color": "gray"
          },
          "showarrow": false,
          "text": "145.0<br>34%",
          "x": 2020,
          "xref": "x",
          "y": "AP",
          "yref": "y"
         },
         {
          "font": {
           "color": "gray"
          },
          "showarrow": false,
          "text": "477.0<br>229%",
          "x": 2021,
          "xref": "x",
          "y": "AP",
          "yref": "y"
         },
         {
          "font": {
           "color": "gray"
          },
          "showarrow": false,
          "text": "908.0<br>90%",
          "x": 2022,
          "xref": "x",
          "y": "AP",
          "yref": "y"
         },
         {
          "font": {
           "color": "gray"
          },
          "showarrow": false,
          "text": "606.0<br>-33%",
          "x": 2023,
          "xref": "x",
          "y": "AP",
          "yref": "y"
         },
         {
          "font": {
           "color": "gray"
          },
          "showarrow": false,
          "text": "1.0<br> ",
          "x": 2012,
          "xref": "x",
          "y": "BA",
          "yref": "y"
         },
         {
          "font": {
           "color": "gray"
          },
          "showarrow": false,
          "text": "1.0<br> ",
          "x": 2013,
          "xref": "x",
          "y": "BA",
          "yref": "y"
         },
         {
          "font": {
           "color": "gray"
          },
          "showarrow": false,
          "text": "15.0<br>1400%",
          "x": 2014,
          "xref": "x",
          "y": "BA",
          "yref": "y"
         },
         {
          "font": {
           "color": "gray"
          },
          "showarrow": false,
          "text": "35.0<br>133%",
          "x": 2015,
          "xref": "x",
          "y": "BA",
          "yref": "y"
         },
         {
          "font": {
           "color": "gray"
          },
          "showarrow": false,
          "text": "106.0<br>203%",
          "x": 2016,
          "xref": "x",
          "y": "BA",
          "yref": "y"
         },
         {
          "font": {
           "color": "gray"
          },
          "showarrow": false,
          "text": "266.0<br>151%",
          "x": 2017,
          "xref": "x",
          "y": "BA",
          "yref": "y"
         },
         {
          "font": {
           "color": "gray"
          },
          "showarrow": false,
          "text": "90.0<br>-66%",
          "x": 2018,
          "xref": "x",
          "y": "BA",
          "yref": "y"
         },
         {
          "font": {
           "color": "gray"
          },
          "showarrow": false,
          "text": "4.0<br>-96%",
          "x": 2019,
          "xref": "x",
          "y": "BA",
          "yref": "y"
         },
         {
          "font": {
           "color": "gray"
          },
          "showarrow": false,
          "text": "1.0<br>-75%",
          "x": 2020,
          "xref": "x",
          "y": "BA",
          "yref": "y"
         },
         {
          "font": {
           "color": "gray"
          },
          "showarrow": false,
          "text": "3.0<br>200%",
          "x": 2021,
          "xref": "x",
          "y": "BA",
          "yref": "y"
         },
         {
          "font": {
           "color": "gray"
          },
          "showarrow": false,
          "text": "3.0<br> ",
          "x": 2022,
          "xref": "x",
          "y": "BA",
          "yref": "y"
         },
         {
          "font": {
           "color": "gray"
          },
          "showarrow": false,
          "text": "1.0<br>-67%",
          "x": 2023,
          "xref": "x",
          "y": "BA",
          "yref": "y"
         },
         {
          "font": {
           "color": "gray"
          },
          "showarrow": false,
          "text": "1.0<br> ",
          "x": 2012,
          "xref": "x",
          "y": "BR",
          "yref": "y"
         },
         {
          "font": {
           "color": "gray"
          },
          "showarrow": false,
          "text": "1.0<br> ",
          "x": 2013,
          "xref": "x",
          "y": "BR",
          "yref": "y"
         },
         {
          "font": {
           "color": "gray"
          },
          "showarrow": false,
          "text": "15.0<br>1400%",
          "x": 2014,
          "xref": "x",
          "y": "BR",
          "yref": "y"
         },
         {
          "font": {
           "color": "gray"
          },
          "showarrow": false,
          "text": "44.0<br>193%",
          "x": 2015,
          "xref": "x",
          "y": "BR",
          "yref": "y"
         },
         {
          "font": {
           "color": "gray"
          },
          "showarrow": false,
          "text": "126.0<br>186%",
          "x": 2016,
          "xref": "x",
          "y": "BR",
          "yref": "y"
         },
         {
          "font": {
           "color": "gray"
          },
          "showarrow": false,
          "text": "350.0<br>178%",
          "x": 2017,
          "xref": "x",
          "y": "BR",
          "yref": "y"
         },
         {
          "font": {
           "color": "gray"
          },
          "showarrow": false,
          "text": "411.0<br>17%",
          "x": 2018,
          "xref": "x",
          "y": "BR",
          "yref": "y"
         },
         {
          "font": {
           "color": "gray"
          },
          "showarrow": false,
          "text": "1289.0<br>214%",
          "x": 2019,
          "xref": "x",
          "y": "BR",
          "yref": "y"
         },
         {
          "font": {
           "color": "gray"
          },
          "showarrow": false,
          "text": "3142.0<br>144%",
          "x": 2020,
          "xref": "x",
          "y": "BR",
          "yref": "y"
         },
         {
          "font": {
           "color": "white"
          },
          "showarrow": false,
          "text": "6967.0<br>122%",
          "x": 2021,
          "xref": "x",
          "y": "BR",
          "yref": "y"
         },
         {
          "font": {
           "color": "white"
          },
          "showarrow": false,
          "text": "13715.0<br>97%",
          "x": 2022,
          "xref": "x",
          "y": "BR",
          "yref": "y"
         },
         {
          "font": {
           "color": "gray"
          },
          "showarrow": false,
          "text": "4931.0<br>-64%",
          "x": 2023,
          "xref": "x",
          "y": "BR",
          "yref": "y"
         }
        ],
        "height": 600,
        "margin": {
         "t": 130
        },
        "template": {
         "data": {
          "bar": [
           {
            "error_x": {
             "color": "#2a3f5f"
            },
            "error_y": {
             "color": "#2a3f5f"
            },
            "marker": {
             "line": {
              "color": "#E5ECF6",
              "width": 0.5
             },
             "pattern": {
              "fillmode": "overlay",
              "size": 10,
              "solidity": 0.2
             }
            },
            "type": "bar"
           }
          ],
          "barpolar": [
           {
            "marker": {
             "line": {
              "color": "#E5ECF6",
              "width": 0.5
             },
             "pattern": {
              "fillmode": "overlay",
              "size": 10,
              "solidity": 0.2
             }
            },
            "type": "barpolar"
           }
          ],
          "carpet": [
           {
            "aaxis": {
             "endlinecolor": "#2a3f5f",
             "gridcolor": "white",
             "linecolor": "white",
             "minorgridcolor": "white",
             "startlinecolor": "#2a3f5f"
            },
            "baxis": {
             "endlinecolor": "#2a3f5f",
             "gridcolor": "white",
             "linecolor": "white",
             "minorgridcolor": "white",
             "startlinecolor": "#2a3f5f"
            },
            "type": "carpet"
           }
          ],
          "choropleth": [
           {
            "colorbar": {
             "outlinewidth": 0,
             "ticks": ""
            },
            "type": "choropleth"
           }
          ],
          "contour": [
           {
            "colorbar": {
             "outlinewidth": 0,
             "ticks": ""
            },
            "colorscale": [
             [
              0,
              "#0d0887"
             ],
             [
              0.1111111111111111,
              "#46039f"
             ],
             [
              0.2222222222222222,
              "#7201a8"
             ],
             [
              0.3333333333333333,
              "#9c179e"
             ],
             [
              0.4444444444444444,
              "#bd3786"
             ],
             [
              0.5555555555555556,
              "#d8576b"
             ],
             [
              0.6666666666666666,
              "#ed7953"
             ],
             [
              0.7777777777777778,
              "#fb9f3a"
             ],
             [
              0.8888888888888888,
              "#fdca26"
             ],
             [
              1,
              "#f0f921"
             ]
            ],
            "type": "contour"
           }
          ],
          "contourcarpet": [
           {
            "colorbar": {
             "outlinewidth": 0,
             "ticks": ""
            },
            "type": "contourcarpet"
           }
          ],
          "heatmap": [
           {
            "colorbar": {
             "outlinewidth": 0,
             "ticks": ""
            },
            "colorscale": [
             [
              0,
              "#0d0887"
             ],
             [
              0.1111111111111111,
              "#46039f"
             ],
             [
              0.2222222222222222,
              "#7201a8"
             ],
             [
              0.3333333333333333,
              "#9c179e"
             ],
             [
              0.4444444444444444,
              "#bd3786"
             ],
             [
              0.5555555555555556,
              "#d8576b"
             ],
             [
              0.6666666666666666,
              "#ed7953"
             ],
             [
              0.7777777777777778,
              "#fb9f3a"
             ],
             [
              0.8888888888888888,
              "#fdca26"
             ],
             [
              1,
              "#f0f921"
             ]
            ],
            "type": "heatmap"
           }
          ],
          "heatmapgl": [
           {
            "colorbar": {
             "outlinewidth": 0,
             "ticks": ""
            },
            "colorscale": [
             [
              0,
              "#0d0887"
             ],
             [
              0.1111111111111111,
              "#46039f"
             ],
             [
              0.2222222222222222,
              "#7201a8"
             ],
             [
              0.3333333333333333,
              "#9c179e"
             ],
             [
              0.4444444444444444,
              "#bd3786"
             ],
             [
              0.5555555555555556,
              "#d8576b"
             ],
             [
              0.6666666666666666,
              "#ed7953"
             ],
             [
              0.7777777777777778,
              "#fb9f3a"
             ],
             [
              0.8888888888888888,
              "#fdca26"
             ],
             [
              1,
              "#f0f921"
             ]
            ],
            "type": "heatmapgl"
           }
          ],
          "histogram": [
           {
            "marker": {
             "pattern": {
              "fillmode": "overlay",
              "size": 10,
              "solidity": 0.2
             }
            },
            "type": "histogram"
           }
          ],
          "histogram2d": [
           {
            "colorbar": {
             "outlinewidth": 0,
             "ticks": ""
            },
            "colorscale": [
             [
              0,
              "#0d0887"
             ],
             [
              0.1111111111111111,
              "#46039f"
             ],
             [
              0.2222222222222222,
              "#7201a8"
             ],
             [
              0.3333333333333333,
              "#9c179e"
             ],
             [
              0.4444444444444444,
              "#bd3786"
             ],
             [
              0.5555555555555556,
              "#d8576b"
             ],
             [
              0.6666666666666666,
              "#ed7953"
             ],
             [
              0.7777777777777778,
              "#fb9f3a"
             ],
             [
              0.8888888888888888,
              "#fdca26"
             ],
             [
              1,
              "#f0f921"
             ]
            ],
            "type": "histogram2d"
           }
          ],
          "histogram2dcontour": [
           {
            "colorbar": {
             "outlinewidth": 0,
             "ticks": ""
            },
            "colorscale": [
             [
              0,
              "#0d0887"
             ],
             [
              0.1111111111111111,
              "#46039f"
             ],
             [
              0.2222222222222222,
              "#7201a8"
             ],
             [
              0.3333333333333333,
              "#9c179e"
             ],
             [
              0.4444444444444444,
              "#bd3786"
             ],
             [
              0.5555555555555556,
              "#d8576b"
             ],
             [
              0.6666666666666666,
              "#ed7953"
             ],
             [
              0.7777777777777778,
              "#fb9f3a"
             ],
             [
              0.8888888888888888,
              "#fdca26"
             ],
             [
              1,
              "#f0f921"
             ]
            ],
            "type": "histogram2dcontour"
           }
          ],
          "mesh3d": [
           {
            "colorbar": {
             "outlinewidth": 0,
             "ticks": ""
            },
            "type": "mesh3d"
           }
          ],
          "parcoords": [
           {
            "line": {
             "colorbar": {
              "outlinewidth": 0,
              "ticks": ""
             }
            },
            "type": "parcoords"
           }
          ],
          "pie": [
           {
            "automargin": true,
            "type": "pie"
           }
          ],
          "scatter": [
           {
            "fillpattern": {
             "fillmode": "overlay",
             "size": 10,
             "solidity": 0.2
            },
            "type": "scatter"
           }
          ],
          "scatter3d": [
           {
            "line": {
             "colorbar": {
              "outlinewidth": 0,
              "ticks": ""
             }
            },
            "marker": {
             "colorbar": {
              "outlinewidth": 0,
              "ticks": ""
             }
            },
            "type": "scatter3d"
           }
          ],
          "scattercarpet": [
           {
            "marker": {
             "colorbar": {
              "outlinewidth": 0,
              "ticks": ""
             }
            },
            "type": "scattercarpet"
           }
          ],
          "scattergeo": [
           {
            "marker": {
             "colorbar": {
              "outlinewidth": 0,
              "ticks": ""
             }
            },
            "type": "scattergeo"
           }
          ],
          "scattergl": [
           {
            "marker": {
             "colorbar": {
              "outlinewidth": 0,
              "ticks": ""
             }
            },
            "type": "scattergl"
           }
          ],
          "scattermapbox": [
           {
            "marker": {
             "colorbar": {
              "outlinewidth": 0,
              "ticks": ""
             }
            },
            "type": "scattermapbox"
           }
          ],
          "scatterpolar": [
           {
            "marker": {
             "colorbar": {
              "outlinewidth": 0,
              "ticks": ""
             }
            },
            "type": "scatterpolar"
           }
          ],
          "scatterpolargl": [
           {
            "marker": {
             "colorbar": {
              "outlinewidth": 0,
              "ticks": ""
             }
            },
            "type": "scatterpolargl"
           }
          ],
          "scatterternary": [
           {
            "marker": {
             "colorbar": {
              "outlinewidth": 0,
              "ticks": ""
             }
            },
            "type": "scatterternary"
           }
          ],
          "surface": [
           {
            "colorbar": {
             "outlinewidth": 0,
             "ticks": ""
            },
            "colorscale": [
             [
              0,
              "#0d0887"
             ],
             [
              0.1111111111111111,
              "#46039f"
             ],
             [
              0.2222222222222222,
              "#7201a8"
             ],
             [
              0.3333333333333333,
              "#9c179e"
             ],
             [
              0.4444444444444444,
              "#bd3786"
             ],
             [
              0.5555555555555556,
              "#d8576b"
             ],
             [
              0.6666666666666666,
              "#ed7953"
             ],
             [
              0.7777777777777778,
              "#fb9f3a"
             ],
             [
              0.8888888888888888,
              "#fdca26"
             ],
             [
              1,
              "#f0f921"
             ]
            ],
            "type": "surface"
           }
          ],
          "table": [
           {
            "cells": {
             "fill": {
              "color": "#EBF0F8"
             },
             "line": {
              "color": "white"
             }
            },
            "header": {
             "fill": {
              "color": "#C8D4E3"
             },
             "line": {
              "color": "white"
             }
            },
            "type": "table"
           }
          ]
         },
         "layout": {
          "annotationdefaults": {
           "arrowcolor": "#2a3f5f",
           "arrowhead": 0,
           "arrowwidth": 1
          },
          "autotypenumbers": "strict",
          "coloraxis": {
           "colorbar": {
            "outlinewidth": 0,
            "ticks": ""
           }
          },
          "colorscale": {
           "diverging": [
            [
             0,
             "#8e0152"
            ],
            [
             0.1,
             "#c51b7d"
            ],
            [
             0.2,
             "#de77ae"
            ],
            [
             0.3,
             "#f1b6da"
            ],
            [
             0.4,
             "#fde0ef"
            ],
            [
             0.5,
             "#f7f7f7"
            ],
            [
             0.6,
             "#e6f5d0"
            ],
            [
             0.7,
             "#b8e186"
            ],
            [
             0.8,
             "#7fbc41"
            ],
            [
             0.9,
             "#4d9221"
            ],
            [
             1,
             "#276419"
            ]
           ],
           "sequential": [
            [
             0,
             "#0d0887"
            ],
            [
             0.1111111111111111,
             "#46039f"
            ],
            [
             0.2222222222222222,
             "#7201a8"
            ],
            [
             0.3333333333333333,
             "#9c179e"
            ],
            [
             0.4444444444444444,
             "#bd3786"
            ],
            [
             0.5555555555555556,
             "#d8576b"
            ],
            [
             0.6666666666666666,
             "#ed7953"
            ],
            [
             0.7777777777777778,
             "#fb9f3a"
            ],
            [
             0.8888888888888888,
             "#fdca26"
            ],
            [
             1,
             "#f0f921"
            ]
           ],
           "sequentialminus": [
            [
             0,
             "#0d0887"
            ],
            [
             0.1111111111111111,
             "#46039f"
            ],
            [
             0.2222222222222222,
             "#7201a8"
            ],
            [
             0.3333333333333333,
             "#9c179e"
            ],
            [
             0.4444444444444444,
             "#bd3786"
            ],
            [
             0.5555555555555556,
             "#d8576b"
            ],
            [
             0.6666666666666666,
             "#ed7953"
            ],
            [
             0.7777777777777778,
             "#fb9f3a"
            ],
            [
             0.8888888888888888,
             "#fdca26"
            ],
            [
             1,
             "#f0f921"
            ]
           ]
          },
          "colorway": [
           "#636efa",
           "#EF553B",
           "#00cc96",
           "#ab63fa",
           "#FFA15A",
           "#19d3f3",
           "#FF6692",
           "#B6E880",
           "#FF97FF",
           "#FECB52"
          ],
          "font": {
           "color": "#2a3f5f"
          },
          "geo": {
           "bgcolor": "white",
           "lakecolor": "white",
           "landcolor": "#E5ECF6",
           "showlakes": true,
           "showland": true,
           "subunitcolor": "white"
          },
          "hoverlabel": {
           "align": "left"
          },
          "hovermode": "closest",
          "mapbox": {
           "style": "light"
          },
          "paper_bgcolor": "white",
          "plot_bgcolor": "#E5ECF6",
          "polar": {
           "angularaxis": {
            "gridcolor": "white",
            "linecolor": "white",
            "ticks": ""
           },
           "bgcolor": "#E5ECF6",
           "radialaxis": {
            "gridcolor": "white",
            "linecolor": "white",
            "ticks": ""
           }
          },
          "scene": {
           "xaxis": {
            "backgroundcolor": "#E5ECF6",
            "gridcolor": "white",
            "gridwidth": 2,
            "linecolor": "white",
            "showbackground": true,
            "ticks": "",
            "zerolinecolor": "white"
           },
           "yaxis": {
            "backgroundcolor": "#E5ECF6",
            "gridcolor": "white",
            "gridwidth": 2,
            "linecolor": "white",
            "showbackground": true,
            "ticks": "",
            "zerolinecolor": "white"
           },
           "zaxis": {
            "backgroundcolor": "#E5ECF6",
            "gridcolor": "white",
            "gridwidth": 2,
            "linecolor": "white",
            "showbackground": true,
            "ticks": "",
            "zerolinecolor": "white"
           }
          },
          "shapedefaults": {
           "line": {
            "color": "#2a3f5f"
           }
          },
          "ternary": {
           "aaxis": {
            "gridcolor": "white",
            "linecolor": "white",
            "ticks": ""
           },
           "baxis": {
            "gridcolor": "white",
            "linecolor": "white",
            "ticks": ""
           },
           "bgcolor": "#E5ECF6",
           "caxis": {
            "gridcolor": "white",
            "linecolor": "white",
            "ticks": ""
           }
          },
          "title": {
           "x": 0.05
          },
          "xaxis": {
           "automargin": true,
           "gridcolor": "white",
           "linecolor": "white",
           "ticks": "",
           "title": {
            "standoff": 15
           },
           "zerolinecolor": "white",
           "zerolinewidth": 2
          },
          "yaxis": {
           "automargin": true,
           "gridcolor": "white",
           "linecolor": "white",
           "ticks": "",
           "title": {
            "standoff": 15
           },
           "zerolinecolor": "white",
           "zerolinewidth": 2
          }
         }
        },
        "title": {
         "font": {
          "size": 20
         },
         "text": "Novos usuários da Energia distribuida",
         "x": 0.5
        },
        "width": 1200,
        "xaxis": {
         "dtick": 1,
         "gridcolor": "rgb(0, 0, 0)",
         "side": "top",
         "tickfont": {
          "size": 14
         },
         "ticks": "",
         "title": {
          "font": {
           "size": 16
          },
          "text": "Ano"
         }
        },
        "yaxis": {
         "dtick": 1,
         "tickfont": {
          "size": 14
         },
         "ticks": "",
         "ticksuffix": "  ",
         "title": {
          "font": {
           "size": 16
          },
          "text": "SigUF"
         }
        }
       }
      }
     },
     "metadata": {},
     "output_type": "display_data"
    }
   ],
   "source": [
    "\n",
    "\n",
    "df['Mes'] = pd.DatetimeIndex(df['DthAtualizaCadastralEmpreend']).month\n",
    "df['Ano'] = pd.DatetimeIndex(df['DthAtualizaCadastralEmpreend']).year\n",
    "\n",
    "counts = df_clean.groupby(['Ano', 'SigUF', 'DscClasseConsumo']).agg({'NumCPFCNPJ': 'nunique'}).reset_index()\n",
    "tabela = counts.groupby(['Ano', 'SigUF'])['NumCPFCNPJ'].sum().reset_index()\n",
    "\n",
    "matriz = tabela.pivot(index='SigUF', columns='Ano', values='NumCPFCNPJ')\n",
    "matriz = matriz.fillna(0)\n",
    "matriz.loc['BR'] = matriz.sum()\n",
    "\n",
    "matriz_tx = matriz.pct_change(axis=1) * 100\n",
    "matriz_tx = matriz_tx.applymap(lambda x: '{:.0f}%'.format(x) if not np.isnan(x) and x != 0 else ' ')\n",
    "matriz_tx['med'] = \"\"\n",
    "matriz_tx['Total'] = \"\"\n",
    "matriz_tx['2023'] = \"\"\n",
    "\n",
    "\n",
    "\n",
    "\n",
    "\n",
    "import plotly.graph_objs as go\n",
    "import plotly.figure_factory as ff\n",
    "import numpy as np\n",
    "\n",
    "# Criando uma lista de strings com valores da matriz e matriz_tx\n",
    "text = [[f\"{matriz.iloc[i,j]:}<br>{matriz_tx.iloc[i,j]}\" for j in range(len(matriz.columns))] for i in range(len(matriz.index))]\n",
    "# Criação do heatmap principal\n",
    "fig_2 = ff.create_annotated_heatmap(z=matriz.values,\n",
    "                                  x=list(matriz.columns),\n",
    "                                  y=list(matriz.index),\n",
    "                                  annotation_text=text,\n",
    "                                  font_colors=['gray', 'white'],\n",
    "                                  colorscale='YlGnBu')\n",
    "# Configurações de layout\n",
    "fig_2.update_layout(\n",
    "    width=1200,\n",
    "    height=600,\n",
    "    xaxis_title='Ano',\n",
    "    xaxis_title_font_size=16,\n",
    "    xaxis_tickfont_size=14,\n",
    "    yaxis_title='SigUF',\n",
    "    yaxis_title_font_size=16,\n",
    "    yaxis_tickfont_size=14,\n",
    "    title='Novos usuários da Energia distribuida',\n",
    "    title_font_size=20,\n",
    "    title_x=.5,\n",
    "    margin=dict(t=130)\n",
    ")    \n",
    "\n",
    "fig_2.show()\n",
    "\n"
   ]
  },
  {
   "cell_type": "code",
   "execution_count": null,
   "id": "c7731a2d",
   "metadata": {},
   "outputs": [],
   "source": [
    "\n",
    "\n",
    "\n",
    "\n",
    "\n",
    "\n",
    "\n",
    "\n",
    "\n",
    "\n",
    "\n",
    "\n",
    "\n",
    "\n",
    "\n",
    "\n",
    "\n",
    "\n",
    "\n",
    "\n",
    "\n",
    "\n",
    "\n",
    "\n",
    "\n",
    "\n",
    "\n",
    "\n",
    "\n",
    "\n",
    "\n",
    "\n",
    "\n",
    "\n",
    "\n",
    "\n",
    "\n",
    "\n",
    "\n",
    "\n",
    "\n",
    "\n",
    "\n",
    "\n",
    "\n",
    "\n",
    "\n",
    "\n",
    "\n",
    "\n",
    "\n",
    "\n",
    "\n",
    "\n",
    "\n",
    "\n",
    "\n",
    "\n"
   ]
  },
  {
   "cell_type": "code",
   "execution_count": 81,
   "id": "8311a563",
   "metadata": {},
   "outputs": [
    {
     "ename": "ModuleNotFoundError",
     "evalue": "No module named 'fbprophet'",
     "output_type": "error",
     "traceback": [
      "\u001b[1;31m---------------------------------------------------------------------------\u001b[0m",
      "\u001b[1;31mModuleNotFoundError\u001b[0m                       Traceback (most recent call last)",
      "Cell \u001b[1;32mIn[81], line 6\u001b[0m\n\u001b[0;32m      4\u001b[0m \u001b[39mimport\u001b[39;00m \u001b[39mpandas\u001b[39;00m \u001b[39mas\u001b[39;00m \u001b[39mpd\u001b[39;00m\n\u001b[0;32m      5\u001b[0m \u001b[39mimport\u001b[39;00m \u001b[39mplotly\u001b[39;00m\u001b[39m.\u001b[39;00m\u001b[39mexpress\u001b[39;00m \u001b[39mas\u001b[39;00m \u001b[39mpx\u001b[39;00m\n\u001b[1;32m----> 6\u001b[0m \u001b[39mfrom\u001b[39;00m \u001b[39mfbprophet\u001b[39;00m \u001b[39mimport\u001b[39;00m Prophet\n\u001b[0;32m      8\u001b[0m \u001b[39m# Manipulações para Gráfico - evolução temporal da Potência Instalada Total (KW) por Estado;\u001b[39;00m\n\u001b[0;32m      9\u001b[0m df[\u001b[39m'\u001b[39m\u001b[39mMes\u001b[39m\u001b[39m'\u001b[39m] \u001b[39m=\u001b[39m pd\u001b[39m.\u001b[39mDatetimeIndex(df[\u001b[39m'\u001b[39m\u001b[39mDthAtualizaCadastralEmpreend\u001b[39m\u001b[39m'\u001b[39m])\u001b[39m.\u001b[39mmonth\n",
      "\u001b[1;31mModuleNotFoundError\u001b[0m: No module named 'fbprophet'"
     ]
    }
   ],
   "source": [
    "###_________PROPHET__________##\n",
    "\n",
    "\n",
    "import pandas as pd\n",
    "import plotly.express as px\n",
    "from fbprophet import Prophet\n",
    "\n",
    "# Manipulações para Gráfico - evolução temporal da Potência Instalada Total (KW) por Estado;\n",
    "df['Mes'] = pd.DatetimeIndex(df['DthAtualizaCadastralEmpreend']).month\n",
    "df['Ano'] = pd.DatetimeIndex(df['DthAtualizaCadastralEmpreend']).year\n",
    "\n",
    "# Agrupar dados por mês, ano e estado e somar as potências instaladas\n",
    "counts = df.groupby(['SigUF', 'Ano', 'Mes']).agg({'MdaPotenciaInstaladaKW': 'sum'}).reset_index()\n",
    "\n",
    "# Renomear as colunas para ds e y, que são as convenções do Prophet\n",
    "counts = counts.rename(columns={'Ano': 'ds', 'MdaPotenciaInstaladaKW': 'y'})\n",
    "\n",
    "# Filtrar apenas os dados do estado desejado para fazer a previsão\n",
    "state_counts = counts[counts['SigUF'] == 'UF']\n",
    "\n",
    "# Ajustar um modelo com a biblioteca Prophet\n",
    "m = Prophet()\n",
    "m.fit(state_counts)\n",
    "\n",
    "# Fazer a previsão para o período desejado (2023)\n",
    "future = m.make_future_dataframe(periods=12*10, freq='M')  # 10 anos de previsão\n",
    "forecast = m.predict(future)\n",
    "\n",
    "# Criar gráfico com os dados históricos e a previsão\n",
    "fig = px.line(forecast, x='ds', y='yhat', title='Previsão de Potência Instalada em UF')\n",
    "fig.add_scatter(x=state_counts['ds'], y=state_counts['y'], name='Histórico', mode='markers')\n",
    "fig.show()"
   ]
  },
  {
   "attachments": {},
   "cell_type": "markdown",
   "id": "bf5531e7",
   "metadata": {},
   "source": [
    "\n",
    "\n",
    "\n",
    "\n",
    "\n",
    "\n",
    "\n",
    "\n",
    "\n",
    "\n",
    "\n",
    "\n",
    "\n",
    "\n",
    "\n",
    "\n",
    "\n",
    "\n",
    "\n",
    "\n",
    "\n",
    "\n",
    "\n",
    "\n",
    "\n",
    "\n",
    "\n",
    "\n",
    "\n",
    "\n",
    "\n",
    "\n",
    "\n",
    "\n",
    "\n",
    "\n",
    "\n",
    "\n",
    "\n",
    "\n",
    "\n"
   ]
  },
  {
   "attachments": {},
   "cell_type": "markdown",
   "id": "981dfac0",
   "metadata": {},
   "source": [
    "## EDA previsões"
   ]
  }
 ],
 "metadata": {
  "kernelspec": {
   "display_name": "aneel_energisa",
   "language": "python",
   "name": "aneel_energisa"
  },
  "language_info": {
   "codemirror_mode": {
    "name": "ipython",
    "version": 3
   },
   "file_extension": ".py",
   "mimetype": "text/x-python",
   "name": "python",
   "nbconvert_exporter": "python",
   "pygments_lexer": "ipython3",
   "version": "3.11.2"
  }
 },
 "nbformat": 4,
 "nbformat_minor": 5
}
