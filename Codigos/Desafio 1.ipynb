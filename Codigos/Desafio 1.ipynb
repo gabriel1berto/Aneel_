{
 "cells": [
  {
   "cell_type": "code",
   "execution_count": 2,
   "id": "854f956e",
   "metadata": {},
   "outputs": [
    {
     "name": "stderr",
     "output_type": "stream",
     "text": [
      "C:\\Users\\ghumb\\AppData\\Local\\Temp\\ipykernel_20040\\1954264805.py:18: UserWarning:\n",
      "\n",
      "\n",
      "The dash_core_components package is deprecated. Please replace\n",
      "`import dash_core_components as dcc` with `from dash import dcc`\n",
      "\n",
      "C:\\Users\\ghumb\\AppData\\Local\\Temp\\ipykernel_20040\\1954264805.py:19: UserWarning:\n",
      "\n",
      "\n",
      "The dash_html_components package is deprecated. Please replace\n",
      "`import dash_html_components as html` with `from dash import html`\n",
      "\n"
     ]
    }
   ],
   "source": [
    "# Bibliotecas - API\n",
    "import requests\n",
    "\n",
    "# Bibliotecas - Gráficos\n",
    "import numpy as np\n",
    "import pandas as pd\n",
    "import seaborn as sns\n",
    "import missingno as msno\n",
    "import plotly.express as px\n",
    "import plotly.offline as pyo\n",
    "import plotly.graph_objs as go\n",
    "import matplotlib.pyplot as plt\n",
    "import plotly.figure_factory as ff\n",
    "\n",
    "# Bibliotecas - Dash\n",
    "import dash\n",
    "from dash import dcc\n",
    "import dash_core_components as dcc\n",
    "import dash_html_components as html\n",
    "from dash.dependencies import Input, Output"
   ]
  },
  {
   "attachments": {},
   "cell_type": "markdown",
   "id": "2478860a",
   "metadata": {},
   "source": [
    "# etl 1 (extração de dados)\n"
   ]
  },
  {
   "cell_type": "code",
   "execution_count": 3,
   "id": "b6008dfd",
   "metadata": {},
   "outputs": [
    {
     "name": "stdout",
     "output_type": "stream",
     "text": [
      "Requisição bem sucedida\n"
     ]
    }
   ],
   "source": [
    "\n",
    "# define url incrementada para requisição de api (ate 1.000.000 registros)\n",
    "url = \"https://dadosabertos.aneel.gov.br/api/action/datastore_search?resource_id=b1bd71e7-d0ad-4214-9053-cbd58e9564a7&limit=1000000\"\n",
    "\n",
    "# tempo máximo de espera para a resposta da requisição\n",
    "timeout_seconds = 100   \n",
    "\n",
    "# Obter os dados da API\n",
    "def get_data(url, timeout_seconds):\n",
    "    try:\n",
    "        # Requisição GET com o tempo limite definido\n",
    "        response = requests.get(url, timeout=timeout_seconds)\n",
    "\n",
    "        #  Verifica erros HTTP\n",
    "        response.raise_for_status()\n",
    "    except requests.exceptions.RequestException as e:\n",
    "        print(\"Erro ao obter os dados:\", e)\n",
    "        return None\n",
    "\n",
    "    # Código de status da resposta HTTP=200, indicando que a requisição foi bem sucedida\n",
    "    if response.status_code == 200:\n",
    "        # Em caso de sucesso, obtenha os dados em formato JSON e imprima \"Requisição bem sucedida\"\n",
    "        data = response.json()\n",
    "        print(\"Requisição bem sucedida\")\n",
    "\n",
    "        # Verificar resposta da API\n",
    "        if data[\"success\"]:\n",
    "            # Gera lista de registros e a lista de colunas\n",
    "            records = data[\"result\"][\"records\"]\n",
    "            columns = data[\"result\"][\"fields\"]\n",
    "\n",
    "            # Adiciona as colunas \"Bandeira\" e \"Nome_agente\" na lista de colunas\n",
    "            columns.append({\"id\": \"Bandeira\", \"type\": \"text\"})\n",
    "            columns.append({\"id\": \"Nome_agente\", \"type\": \"text\"})\n",
    "\n",
    "            # Cria o DataFrame\n",
    "            df = pd.DataFrame.from_records(records, columns=[c[\"id\"] for c in columns])\n",
    "\n",
    "            # Retorne o DataFrame criado\n",
    "            return df\n",
    "        else:\n",
    "            # Em caso de erro, imprir uma mensagem de aviso e retorne None\n",
    "            print(\"A API não retornou dados.\")\n",
    "            return None\n",
    "    else:\n",
    "        # Se o código de status da resposta HTTP for diferente de 200, trate o erro de acordo com o código\n",
    "        if response.status_code == 400:\n",
    "            print(\"Requisição mal formada.\")\n",
    "        elif response.status_code == 401:\n",
    "            print(\"Não autorizado.\")\n",
    "        elif response.status_code == 403:\n",
    "            print(\"Acesso proibido.\")\n",
    "        elif response.status_code == 404:\n",
    "            print(\"Recurso não encontrado.\") \n",
    "        elif response.status_code == 500:\n",
    "            print(\"Erro interno do servidor.\")\n",
    "        else:\n",
    "            print(\"Erro desconhecido ao obter os dados.\")\n",
    "\n",
    "        return None\n",
    "\n",
    "# Chame a função get_data para obter um DataFrame com os dados da API\n",
    "df = get_data(url, timeout_seconds)"
   ]
  },
  {
   "attachments": {},
   "cell_type": "markdown",
   "id": "6df83774",
   "metadata": {},
   "source": [
    "## etl 1.2 (analisando a estrutura)\n",
    " \n",
    " Análises realizadas : verificações obtidas\n",
    " - Formato de dados: inicialmente, algumas colunas do DataFrame possuíam valores do tipo 'object', que foram atualizados para as classes corretas (e.g. 'datetime', 'float', 'int').\n",
    " - Análise de valores vazios: não foi identificado um padrão de valores vazios no DataFrame, porém isso não deve ser um problema, uma vez que não pretendemos utilizá-los.\n",
    "\n",
    " - Análise de valores nulos: também não foi identificado um padrão de valores nulos no DataFrame, o que não deve ser um problema para nossas análises.\n",
    " - Análise de valores duplicados: felizmente, não encontramos valores duplicados no DataFrame, o que é sempre um bom sinal."
   ]
  },
  {
   "cell_type": "code",
   "execution_count": 21,
   "id": "e2c3c5ac",
   "metadata": {},
   "outputs": [
    {
     "name": "stdout",
     "output_type": "stream",
     "text": [
      "Colunas duplicadas:  []\n",
      "Linhas duplicadas:  0\n",
      "                             +       %\n",
      "Nome_agente              32000  100.00\n",
      "Bandeira                 32000  100.00\n",
      "NumCoordNSub             31964   99.89\n",
      "NumCoordESub             31964   99.89\n",
      "NomSubEstacao            31964   99.89\n",
      "NumCoordEEmpreendimento  27824   86.95\n",
      "NumCoordNEmpreendimento  27824   86.95\n",
      "codRegiao                   57    0.18\n",
      "codUFibge                   57    0.18\n",
      "CodEmpreendimento            3    0.01\n"
     ]
    },
    {
     "ename": "AttributeError",
     "evalue": "module 'matplotlib' has no attribute 'subplots'",
     "output_type": "error",
     "traceback": [
      "\u001b[1;31m---------------------------------------------------------------------------\u001b[0m",
      "\u001b[1;31mAttributeError\u001b[0m                            Traceback (most recent call last)",
      "Cell \u001b[1;32mIn[21], line 57\u001b[0m\n\u001b[0;32m     54\u001b[0m     ax\u001b[39m.\u001b[39mset_xticklabels(ax\u001b[39m.\u001b[39mget_xticklabels(), rotation\u001b[39m=\u001b[39m\u001b[39m90\u001b[39m, fontsize\u001b[39m=\u001b[39m\u001b[39m8\u001b[39m)\n\u001b[0;32m     56\u001b[0m     plt\u001b[39m.\u001b[39mshow()\n\u001b[1;32m---> 57\u001b[0m visualizar_nulos(df)\n",
      "Cell \u001b[1;32mIn[21], line 50\u001b[0m, in \u001b[0;36mvisualizar_nulos\u001b[1;34m(df)\u001b[0m\n\u001b[0;32m     48\u001b[0m \u001b[39mdef\u001b[39;00m \u001b[39mvisualizar_nulos\u001b[39m(df):\n\u001b[0;32m     49\u001b[0m     sorted_df \u001b[39m=\u001b[39m df\u001b[39m.\u001b[39msort_values(by\u001b[39m=\u001b[39m\u001b[39m'\u001b[39m\u001b[39mNumCoordEEmpreendimento\u001b[39m\u001b[39m'\u001b[39m)\n\u001b[1;32m---> 50\u001b[0m     fig, ax \u001b[39m=\u001b[39m plt\u001b[39m.\u001b[39;49msubplots(figsize\u001b[39m=\u001b[39m(\u001b[39m10\u001b[39m, \u001b[39m6\u001b[39m))\n\u001b[0;32m     52\u001b[0m     \u001b[39m# Cria a matriz de visualização de nulos com o eixo x em rotação vertical e tamanho de fonte menor\u001b[39;00m\n\u001b[0;32m     53\u001b[0m     matriz_nulos \u001b[39m=\u001b[39m msno\u001b[39m.\u001b[39mmatrix(sorted_df, ax\u001b[39m=\u001b[39max)\n",
      "File \u001b[1;32mc:\\Users\\ghumb\\anaconda3\\envs\\aneel_energisa\\lib\\site-packages\\matplotlib\\_api\\__init__.py:226\u001b[0m, in \u001b[0;36mcaching_module_getattr.<locals>.__getattr__\u001b[1;34m(name)\u001b[0m\n\u001b[0;32m    224\u001b[0m \u001b[39mif\u001b[39;00m name \u001b[39min\u001b[39;00m props:\n\u001b[0;32m    225\u001b[0m     \u001b[39mreturn\u001b[39;00m props[name]\u001b[39m.\u001b[39m\u001b[39m__get__\u001b[39m(instance)\n\u001b[1;32m--> 226\u001b[0m \u001b[39mraise\u001b[39;00m \u001b[39mAttributeError\u001b[39;00m(\n\u001b[0;32m    227\u001b[0m     \u001b[39mf\u001b[39m\u001b[39m\"\u001b[39m\u001b[39mmodule \u001b[39m\u001b[39m{\u001b[39;00m\u001b[39mcls\u001b[39m\u001b[39m.\u001b[39m\u001b[39m__module__\u001b[39m\u001b[39m!r}\u001b[39;00m\u001b[39m has no attribute \u001b[39m\u001b[39m{\u001b[39;00mname\u001b[39m!r}\u001b[39;00m\u001b[39m\"\u001b[39m)\n",
      "\u001b[1;31mAttributeError\u001b[0m: module 'matplotlib' has no attribute 'subplots'"
     ]
    }
   ],
   "source": [
    "\n",
    "# Atualizando formato de colunas\n",
    "def atualiza_formato_colunas(df):\n",
    "    df = df.astype({\n",
    "        \"NumCNPJDistribuidora\": np.int64,\n",
    "        \"CodClasseConsumo\": np.int64,\n",
    "        \"CodSubGrupoTarifario\": np.int64,\n",
    "        \"codUFibge\": np.float64,\n",
    "        \"codRegiao\": np.float64,\n",
    "        \"CodMunicipioIbge\": np.float64,\n",
    "        \"QtdUCRecebeCredito\": np.int64,\n",
    "    })\n",
    "    return df\n",
    "df = atualiza_formato_colunas(df)\n",
    "\n",
    "# análise de vazios\n",
    "def analyze_dataframe(df):\n",
    "    # Análise de colunas duplicadas\n",
    "    duplicated_cols = df.columns[df.columns.duplicated(keep=False)]\n",
    "    df_duplicated_col = df[duplicated_cols].sum()\n",
    "    print('Colunas duplicadas: ', df_duplicated_col.tolist())\n",
    "\n",
    "    # Análise de linhas duplicadas\n",
    "    duplicated_rows = df.duplicated(keep=False)\n",
    "    df_duplicated_line = duplicated_rows.sum()\n",
    "    print('Linhas duplicadas: ', df_duplicated_line.tolist())\n",
    "\n",
    "    # Análise de valores nulos\n",
    "    na_tot = df.isna().sum().sort_values(ascending=False)\n",
    "    na_perc = (df.isna().sum() / df.shape[0] * 100).round(2).sort_values(ascending=False)\n",
    "    na = pd.concat([na_tot, na_perc], axis=1, keys=['+', '%'])\n",
    "    print(na.head(10))\n",
    "analyze_dataframe(df)\n",
    "\n",
    "def check_duplicates(df):\n",
    "    # Verifica colunas duplicadas\n",
    "    duplicated_cols = df.columns[df.columns.duplicated(keep=False)]\n",
    "    num_duplicated_cols = len(duplicated_cols)\n",
    "    \n",
    "    # Verifica linhas duplicadas\n",
    "    duplicated_rows = df.duplicated(keep=False)\n",
    "    num_duplicated_rows = duplicated_rows.sum()\n",
    "    \n",
    "    # Retorna o resultado\n",
    "    return num_duplicated_cols, num_duplicated_rows\n",
    "\n",
    "\n",
    "\n",
    "def visualizar_nulos(df):\n",
    "    sorted_df = df.sort_values(by='NumCoordEEmpreendimento')\n",
    "    fig, ax = plt.subplots(figsize=(10, 6))\n",
    "\n",
    "    # Cria a matriz de visualização de nulos com o eixo x em rotação vertical e tamanho de fonte menor\n",
    "    matriz_nulos = msno.matrix(sorted_df, ax=ax)\n",
    "    ax.set_xticklabels(ax.get_xticklabels(), rotation=90, fontsize=8)\n",
    "    \n",
    "    plt.show()\n",
    "visualizar_nulos(df)\n",
    "\n"
   ]
  },
  {
   "cell_type": "code",
   "execution_count": 163,
   "id": "57d7d2a1",
   "metadata": {},
   "outputs": [
    {
     "data": {
      "text/plain": [
       "Index(['_id', 'DatGeracaoConjuntoDados', 'AnmPeriodoReferencia',\n",
       "       'NumCNPJDistribuidora', 'SigAgente', 'NomAgente', 'CodClasseConsumo',\n",
       "       'DscClasseConsumo', 'CodSubGrupoTarifario', 'DscSubGrupoTarifario',\n",
       "       'codUFibge', 'SigUF', 'codRegiao', 'NomRegiao', 'CodMunicipioIbge',\n",
       "       'NomMunicipio', 'CodCEP', 'SigTipoConsumidor', 'NumCPFCNPJ',\n",
       "       'NomeTitularEmpreendimento', 'CodEmpreendimento',\n",
       "       'DthAtualizaCadastralEmpreend', 'SigModalidadeEmpreendimento',\n",
       "       'DscModalidadeHabilitado', 'QtdUCRecebeCredito', 'SigTipoGeracao',\n",
       "       'DscFonteGeracao', 'DscPorte', 'MdaPotenciaInstaladaKW',\n",
       "       'NumCoordNEmpreendimento', 'NumCoordEEmpreendimento', 'NomSubEstacao',\n",
       "       'NumCoordESub', 'NumCoordNSub', 'Bandeira', 'Nome_agente'],\n",
       "      dtype='object')"
      ]
     },
     "execution_count": 163,
     "metadata": {},
     "output_type": "execute_result"
    }
   ],
   "source": [
    "\n",
    "\n",
    "\n",
    "\n",
    "\n",
    "\n",
    "\n",
    "\n",
    "\n",
    "\n",
    "\n",
    "\n",
    "\n",
    "\n",
    "\n",
    "\n",
    "\n",
    "\n",
    "\n",
    "\n",
    "\n",
    "\n",
    "\n",
    "\n",
    "\n",
    "\n",
    "\n",
    "\n",
    "df.columns"
   ]
  },
  {
   "attachments": {},
   "cell_type": "markdown",
   "metadata": {},
   "source": [
    "# EDA\n",
    "\n",
    "Análises de interesse:\n",
    "\n",
    "    - Evoluções do número de usuários por tempo, segmentado por: \n",
    "        - SigTipoConsumigor (pf/pj) e SigUF(uf)\n",
    "        - DscClasseConsumo (resid/comercial/industrial) e SigUF(uf)\n",
    "        - \n",
    "\n",
    "    - Análises da potencia instalada por tempo, segmentado por: \n",
    "        - SigTipoConsumigor (pf/pj) e SigUF(uf)\n",
    "        - \n",
    "\n",
    "    - Análises o agente instalada por grupo tarifario, segmentado por: \n",
    "        - SigTipoConsumigor (pf/pj) e SigUF(uf)\n",
    "        - \n",
    "\n",
    "\n",
    "Colunas adequadas para utilização: \n",
    "\n",
    " - SigUF - nome do estado do empreendimento\n",
    " - NomMunicipio - nome do município do empreendimento\n",
    "\n",
    " - SigTipoConsumidor (PF ou PJ)\n",
    " - DthAtualizaCadastralEmpreend\n",
    "\n",
    " - DscClasseConsumo - descrição da classe de consumo do empreendimento\n",
    " - CodSubGrupoTarifario - código do subgrupo tarifário do empreendimento\n",
    "\n",
    " - DscFonteGeracao - descrição da fonte de geração do empreendimento\n",
    "\n",
    " - NomAgente - nome do agente \n",
    " - DscPorte - descrição do porte do agente\n",
    " - MdaPotenciaInstaladaKW - potência instalada do agente em kW"
   ]
  },
  {
   "cell_type": "code",
   "execution_count": 428,
   "id": "b6cb771e",
   "metadata": {},
   "outputs": [
    {
     "data": {
      "application/vnd.plotly.v1+json": {
       "config": {
        "plotlyServerURL": "https://plot.ly"
       },
       "data": [
        {
         "alignmentgroup": "True",
         "hovertemplate": "SigTipoConsumidor=PF<br>Ano=%{x}<br>NumCPFCNPJ=%{y}<extra></extra>",
         "legendgroup": "PF",
         "marker": {
          "color": "#636efa",
          "pattern": {
           "shape": ""
          }
         },
         "name": "PF",
         "offsetgroup": "PF",
         "orientation": "v",
         "showlegend": true,
         "textposition": "auto",
         "type": "bar",
         "x": [
          2018,
          2018,
          2018,
          2018,
          2018,
          2018,
          2018,
          2018,
          2018,
          2018,
          2018,
          2018,
          2019,
          2019,
          2019,
          2019,
          2019,
          2019,
          2019,
          2019,
          2019,
          2019,
          2019,
          2019,
          2019,
          2020,
          2020,
          2020,
          2020,
          2020,
          2020,
          2020,
          2020,
          2020,
          2020,
          2020,
          2020,
          2020,
          2020,
          2020,
          2021,
          2021,
          2021,
          2021,
          2021,
          2021,
          2021,
          2021,
          2021,
          2021,
          2021,
          2021,
          2021,
          2021,
          2021,
          2021,
          2021,
          2021,
          2021,
          2022,
          2022,
          2022,
          2022,
          2022,
          2022,
          2022,
          2022,
          2022,
          2022,
          2022,
          2022,
          2022,
          2022,
          2022,
          2022,
          2022,
          2023,
          2023,
          2023,
          2023,
          2023,
          2023,
          2023,
          2023,
          2023,
          2023,
          2023,
          2023,
          2023,
          2023,
          2023,
          2023
         ],
         "xaxis": "x",
         "y": [
          3,
          1,
          22,
          13,
          1,
          131,
          1,
          5,
          1,
          68,
          1,
          33,
          22,
          1,
          92,
          6,
          68,
          3,
          434,
          10,
          13,
          367,
          3,
          10,
          82,
          35,
          401,
          16,
          57,
          5,
          16,
          1157,
          38,
          53,
          1,
          2,
          711,
          3,
          15,
          113,
          108,
          1,
          2,
          1127,
          63,
          57,
          1,
          12,
          2689,
          64,
          138,
          9,
          2,
          1239,
          12,
          37,
          1,
          410,
          1,
          101,
          1,
          1469,
          96,
          316,
          21,
          12,
          6741,
          160,
          214,
          6,
          2332,
          13,
          27,
          4,
          832,
          1,
          20,
          304,
          18,
          131,
          6,
          2,
          2545,
          77,
          37,
          2,
          1,
          743,
          9,
          1,
          1,
          577
         ],
         "yaxis": "y"
        },
        {
         "alignmentgroup": "True",
         "hovertemplate": "SigTipoConsumidor=PJ<br>Ano=%{x}<br>NumCPFCNPJ=%{y}<extra></extra>",
         "legendgroup": "PJ",
         "marker": {
          "color": "#EF553B",
          "pattern": {
           "shape": ""
          }
         },
         "name": "PJ",
         "offsetgroup": "PJ",
         "orientation": "v",
         "showlegend": true,
         "textposition": "auto",
         "type": "bar",
         "x": [
          2018,
          2018,
          2018,
          2018,
          2018,
          2018,
          2018,
          2018,
          2019,
          2019,
          2019,
          2019,
          2019,
          2019,
          2019,
          2019,
          2019,
          2019,
          2019,
          2019,
          2019,
          2019,
          2019,
          2019,
          2020,
          2020,
          2020,
          2020,
          2020,
          2020,
          2020,
          2020,
          2020,
          2020,
          2020,
          2020,
          2020,
          2020,
          2020,
          2020,
          2020,
          2020,
          2021,
          2021,
          2021,
          2021,
          2021,
          2021,
          2021,
          2021,
          2021,
          2021,
          2021,
          2021,
          2021,
          2021,
          2021,
          2021,
          2021,
          2021,
          2021,
          2021,
          2022,
          2022,
          2022,
          2022,
          2022,
          2022,
          2022,
          2022,
          2022,
          2022,
          2022,
          2022,
          2022,
          2022,
          2022,
          2022,
          2022,
          2022,
          2022,
          2023,
          2023,
          2023,
          2023,
          2023,
          2023,
          2023,
          2023,
          2023,
          2023,
          2023,
          2023,
          2023,
          2023,
          2023
         ],
         "xaxis": "x",
         "y": [
          5,
          23,
          3,
          2,
          5,
          1,
          1,
          2,
          9,
          1,
          1,
          86,
          7,
          2,
          5,
          2,
          33,
          3,
          1,
          8,
          11,
          2,
          2,
          1,
          38,
          3,
          9,
          1,
          1,
          280,
          13,
          7,
          33,
          7,
          78,
          9,
          2,
          20,
          1,
          13,
          2,
          2,
          85,
          4,
          2,
          16,
          1,
          558,
          23,
          6,
          80,
          4,
          2,
          128,
          11,
          3,
          38,
          2,
          22,
          2,
          2,
          2,
          88,
          5,
          4,
          30,
          3,
          685,
          33,
          2,
          171,
          11,
          189,
          21,
          4,
          74,
          2,
          35,
          1,
          1,
          7,
          24,
          1,
          6,
          2,
          171,
          8,
          2,
          90,
          7,
          47,
          5,
          18,
          1,
          17,
          7
         ],
         "yaxis": "y"
        }
       ],
       "layout": {
        "barmode": "relative",
        "height": 600,
        "legend": {
         "title": {
          "text": "SigTipoConsumidor"
         },
         "tracegroupgap": 0
        },
        "margin": {
         "t": 60
        },
        "template": {
         "data": {
          "bar": [
           {
            "error_x": {
             "color": "#2a3f5f"
            },
            "error_y": {
             "color": "#2a3f5f"
            },
            "marker": {
             "line": {
              "color": "#E5ECF6",
              "width": 0.5
             },
             "pattern": {
              "fillmode": "overlay",
              "size": 10,
              "solidity": 0.2
             }
            },
            "type": "bar"
           }
          ],
          "barpolar": [
           {
            "marker": {
             "line": {
              "color": "#E5ECF6",
              "width": 0.5
             },
             "pattern": {
              "fillmode": "overlay",
              "size": 10,
              "solidity": 0.2
             }
            },
            "type": "barpolar"
           }
          ],
          "carpet": [
           {
            "aaxis": {
             "endlinecolor": "#2a3f5f",
             "gridcolor": "white",
             "linecolor": "white",
             "minorgridcolor": "white",
             "startlinecolor": "#2a3f5f"
            },
            "baxis": {
             "endlinecolor": "#2a3f5f",
             "gridcolor": "white",
             "linecolor": "white",
             "minorgridcolor": "white",
             "startlinecolor": "#2a3f5f"
            },
            "type": "carpet"
           }
          ],
          "choropleth": [
           {
            "colorbar": {
             "outlinewidth": 0,
             "ticks": ""
            },
            "type": "choropleth"
           }
          ],
          "contour": [
           {
            "colorbar": {
             "outlinewidth": 0,
             "ticks": ""
            },
            "colorscale": [
             [
              0,
              "#0d0887"
             ],
             [
              0.1111111111111111,
              "#46039f"
             ],
             [
              0.2222222222222222,
              "#7201a8"
             ],
             [
              0.3333333333333333,
              "#9c179e"
             ],
             [
              0.4444444444444444,
              "#bd3786"
             ],
             [
              0.5555555555555556,
              "#d8576b"
             ],
             [
              0.6666666666666666,
              "#ed7953"
             ],
             [
              0.7777777777777778,
              "#fb9f3a"
             ],
             [
              0.8888888888888888,
              "#fdca26"
             ],
             [
              1,
              "#f0f921"
             ]
            ],
            "type": "contour"
           }
          ],
          "contourcarpet": [
           {
            "colorbar": {
             "outlinewidth": 0,
             "ticks": ""
            },
            "type": "contourcarpet"
           }
          ],
          "heatmap": [
           {
            "colorbar": {
             "outlinewidth": 0,
             "ticks": ""
            },
            "colorscale": [
             [
              0,
              "#0d0887"
             ],
             [
              0.1111111111111111,
              "#46039f"
             ],
             [
              0.2222222222222222,
              "#7201a8"
             ],
             [
              0.3333333333333333,
              "#9c179e"
             ],
             [
              0.4444444444444444,
              "#bd3786"
             ],
             [
              0.5555555555555556,
              "#d8576b"
             ],
             [
              0.6666666666666666,
              "#ed7953"
             ],
             [
              0.7777777777777778,
              "#fb9f3a"
             ],
             [
              0.8888888888888888,
              "#fdca26"
             ],
             [
              1,
              "#f0f921"
             ]
            ],
            "type": "heatmap"
           }
          ],
          "heatmapgl": [
           {
            "colorbar": {
             "outlinewidth": 0,
             "ticks": ""
            },
            "colorscale": [
             [
              0,
              "#0d0887"
             ],
             [
              0.1111111111111111,
              "#46039f"
             ],
             [
              0.2222222222222222,
              "#7201a8"
             ],
             [
              0.3333333333333333,
              "#9c179e"
             ],
             [
              0.4444444444444444,
              "#bd3786"
             ],
             [
              0.5555555555555556,
              "#d8576b"
             ],
             [
              0.6666666666666666,
              "#ed7953"
             ],
             [
              0.7777777777777778,
              "#fb9f3a"
             ],
             [
              0.8888888888888888,
              "#fdca26"
             ],
             [
              1,
              "#f0f921"
             ]
            ],
            "type": "heatmapgl"
           }
          ],
          "histogram": [
           {
            "marker": {
             "pattern": {
              "fillmode": "overlay",
              "size": 10,
              "solidity": 0.2
             }
            },
            "type": "histogram"
           }
          ],
          "histogram2d": [
           {
            "colorbar": {
             "outlinewidth": 0,
             "ticks": ""
            },
            "colorscale": [
             [
              0,
              "#0d0887"
             ],
             [
              0.1111111111111111,
              "#46039f"
             ],
             [
              0.2222222222222222,
              "#7201a8"
             ],
             [
              0.3333333333333333,
              "#9c179e"
             ],
             [
              0.4444444444444444,
              "#bd3786"
             ],
             [
              0.5555555555555556,
              "#d8576b"
             ],
             [
              0.6666666666666666,
              "#ed7953"
             ],
             [
              0.7777777777777778,
              "#fb9f3a"
             ],
             [
              0.8888888888888888,
              "#fdca26"
             ],
             [
              1,
              "#f0f921"
             ]
            ],
            "type": "histogram2d"
           }
          ],
          "histogram2dcontour": [
           {
            "colorbar": {
             "outlinewidth": 0,
             "ticks": ""
            },
            "colorscale": [
             [
              0,
              "#0d0887"
             ],
             [
              0.1111111111111111,
              "#46039f"
             ],
             [
              0.2222222222222222,
              "#7201a8"
             ],
             [
              0.3333333333333333,
              "#9c179e"
             ],
             [
              0.4444444444444444,
              "#bd3786"
             ],
             [
              0.5555555555555556,
              "#d8576b"
             ],
             [
              0.6666666666666666,
              "#ed7953"
             ],
             [
              0.7777777777777778,
              "#fb9f3a"
             ],
             [
              0.8888888888888888,
              "#fdca26"
             ],
             [
              1,
              "#f0f921"
             ]
            ],
            "type": "histogram2dcontour"
           }
          ],
          "mesh3d": [
           {
            "colorbar": {
             "outlinewidth": 0,
             "ticks": ""
            },
            "type": "mesh3d"
           }
          ],
          "parcoords": [
           {
            "line": {
             "colorbar": {
              "outlinewidth": 0,
              "ticks": ""
             }
            },
            "type": "parcoords"
           }
          ],
          "pie": [
           {
            "automargin": true,
            "type": "pie"
           }
          ],
          "scatter": [
           {
            "fillpattern": {
             "fillmode": "overlay",
             "size": 10,
             "solidity": 0.2
            },
            "type": "scatter"
           }
          ],
          "scatter3d": [
           {
            "line": {
             "colorbar": {
              "outlinewidth": 0,
              "ticks": ""
             }
            },
            "marker": {
             "colorbar": {
              "outlinewidth": 0,
              "ticks": ""
             }
            },
            "type": "scatter3d"
           }
          ],
          "scattercarpet": [
           {
            "marker": {
             "colorbar": {
              "outlinewidth": 0,
              "ticks": ""
             }
            },
            "type": "scattercarpet"
           }
          ],
          "scattergeo": [
           {
            "marker": {
             "colorbar": {
              "outlinewidth": 0,
              "ticks": ""
             }
            },
            "type": "scattergeo"
           }
          ],
          "scattergl": [
           {
            "marker": {
             "colorbar": {
              "outlinewidth": 0,
              "ticks": ""
             }
            },
            "type": "scattergl"
           }
          ],
          "scattermapbox": [
           {
            "marker": {
             "colorbar": {
              "outlinewidth": 0,
              "ticks": ""
             }
            },
            "type": "scattermapbox"
           }
          ],
          "scatterpolar": [
           {
            "marker": {
             "colorbar": {
              "outlinewidth": 0,
              "ticks": ""
             }
            },
            "type": "scatterpolar"
           }
          ],
          "scatterpolargl": [
           {
            "marker": {
             "colorbar": {
              "outlinewidth": 0,
              "ticks": ""
             }
            },
            "type": "scatterpolargl"
           }
          ],
          "scatterternary": [
           {
            "marker": {
             "colorbar": {
              "outlinewidth": 0,
              "ticks": ""
             }
            },
            "type": "scatterternary"
           }
          ],
          "surface": [
           {
            "colorbar": {
             "outlinewidth": 0,
             "ticks": ""
            },
            "colorscale": [
             [
              0,
              "#0d0887"
             ],
             [
              0.1111111111111111,
              "#46039f"
             ],
             [
              0.2222222222222222,
              "#7201a8"
             ],
             [
              0.3333333333333333,
              "#9c179e"
             ],
             [
              0.4444444444444444,
              "#bd3786"
             ],
             [
              0.5555555555555556,
              "#d8576b"
             ],
             [
              0.6666666666666666,
              "#ed7953"
             ],
             [
              0.7777777777777778,
              "#fb9f3a"
             ],
             [
              0.8888888888888888,
              "#fdca26"
             ],
             [
              1,
              "#f0f921"
             ]
            ],
            "type": "surface"
           }
          ],
          "table": [
           {
            "cells": {
             "fill": {
              "color": "#EBF0F8"
             },
             "line": {
              "color": "white"
             }
            },
            "header": {
             "fill": {
              "color": "#C8D4E3"
             },
             "line": {
              "color": "white"
             }
            },
            "type": "table"
           }
          ]
         },
         "layout": {
          "annotationdefaults": {
           "arrowcolor": "#2a3f5f",
           "arrowhead": 0,
           "arrowwidth": 1
          },
          "autotypenumbers": "strict",
          "coloraxis": {
           "colorbar": {
            "outlinewidth": 0,
            "ticks": ""
           }
          },
          "colorscale": {
           "diverging": [
            [
             0,
             "#8e0152"
            ],
            [
             0.1,
             "#c51b7d"
            ],
            [
             0.2,
             "#de77ae"
            ],
            [
             0.3,
             "#f1b6da"
            ],
            [
             0.4,
             "#fde0ef"
            ],
            [
             0.5,
             "#f7f7f7"
            ],
            [
             0.6,
             "#e6f5d0"
            ],
            [
             0.7,
             "#b8e186"
            ],
            [
             0.8,
             "#7fbc41"
            ],
            [
             0.9,
             "#4d9221"
            ],
            [
             1,
             "#276419"
            ]
           ],
           "sequential": [
            [
             0,
             "#0d0887"
            ],
            [
             0.1111111111111111,
             "#46039f"
            ],
            [
             0.2222222222222222,
             "#7201a8"
            ],
            [
             0.3333333333333333,
             "#9c179e"
            ],
            [
             0.4444444444444444,
             "#bd3786"
            ],
            [
             0.5555555555555556,
             "#d8576b"
            ],
            [
             0.6666666666666666,
             "#ed7953"
            ],
            [
             0.7777777777777778,
             "#fb9f3a"
            ],
            [
             0.8888888888888888,
             "#fdca26"
            ],
            [
             1,
             "#f0f921"
            ]
           ],
           "sequentialminus": [
            [
             0,
             "#0d0887"
            ],
            [
             0.1111111111111111,
             "#46039f"
            ],
            [
             0.2222222222222222,
             "#7201a8"
            ],
            [
             0.3333333333333333,
             "#9c179e"
            ],
            [
             0.4444444444444444,
             "#bd3786"
            ],
            [
             0.5555555555555556,
             "#d8576b"
            ],
            [
             0.6666666666666666,
             "#ed7953"
            ],
            [
             0.7777777777777778,
             "#fb9f3a"
            ],
            [
             0.8888888888888888,
             "#fdca26"
            ],
            [
             1,
             "#f0f921"
            ]
           ]
          },
          "colorway": [
           "#636efa",
           "#EF553B",
           "#00cc96",
           "#ab63fa",
           "#FFA15A",
           "#19d3f3",
           "#FF6692",
           "#B6E880",
           "#FF97FF",
           "#FECB52"
          ],
          "font": {
           "color": "#2a3f5f"
          },
          "geo": {
           "bgcolor": "white",
           "lakecolor": "white",
           "landcolor": "#E5ECF6",
           "showlakes": true,
           "showland": true,
           "subunitcolor": "white"
          },
          "hoverlabel": {
           "align": "left"
          },
          "hovermode": "closest",
          "mapbox": {
           "style": "light"
          },
          "paper_bgcolor": "white",
          "plot_bgcolor": "#E5ECF6",
          "polar": {
           "angularaxis": {
            "gridcolor": "white",
            "linecolor": "white",
            "ticks": ""
           },
           "bgcolor": "#E5ECF6",
           "radialaxis": {
            "gridcolor": "white",
            "linecolor": "white",
            "ticks": ""
           }
          },
          "scene": {
           "xaxis": {
            "backgroundcolor": "#E5ECF6",
            "gridcolor": "white",
            "gridwidth": 2,
            "linecolor": "white",
            "showbackground": true,
            "ticks": "",
            "zerolinecolor": "white"
           },
           "yaxis": {
            "backgroundcolor": "#E5ECF6",
            "gridcolor": "white",
            "gridwidth": 2,
            "linecolor": "white",
            "showbackground": true,
            "ticks": "",
            "zerolinecolor": "white"
           },
           "zaxis": {
            "backgroundcolor": "#E5ECF6",
            "gridcolor": "white",
            "gridwidth": 2,
            "linecolor": "white",
            "showbackground": true,
            "ticks": "",
            "zerolinecolor": "white"
           }
          },
          "shapedefaults": {
           "line": {
            "color": "#2a3f5f"
           }
          },
          "ternary": {
           "aaxis": {
            "gridcolor": "white",
            "linecolor": "white",
            "ticks": ""
           },
           "baxis": {
            "gridcolor": "white",
            "linecolor": "white",
            "ticks": ""
           },
           "bgcolor": "#E5ECF6",
           "caxis": {
            "gridcolor": "white",
            "linecolor": "white",
            "ticks": ""
           }
          },
          "title": {
           "x": 0.05
          },
          "xaxis": {
           "automargin": true,
           "gridcolor": "white",
           "linecolor": "white",
           "ticks": "",
           "title": {
            "standoff": 15
           },
           "zerolinecolor": "white",
           "zerolinewidth": 2
          },
          "yaxis": {
           "automargin": true,
           "gridcolor": "white",
           "linecolor": "white",
           "ticks": "",
           "title": {
            "standoff": 15
           },
           "zerolinecolor": "white",
           "zerolinewidth": 2
          }
         }
        },
        "title": {
         "font": {
          "size": 20
         },
         "text": "Novos usuários por tipo de consumo",
         "x": 0.5
        },
        "width": 1200,
        "xaxis": {
         "anchor": "y",
         "domain": [
          0,
          1
         ],
         "title": {
          "font": {
           "size": 16
          },
          "text": "Ano"
         }
        },
        "yaxis": {
         "anchor": "x",
         "domain": [
          0,
          1
         ],
         "title": {
          "font": {
           "size": 16
          },
          "text": "Novos usuários"
         }
        }
       }
      }
     },
     "metadata": {},
     "output_type": "display_data"
    },
    {
     "data": {
      "application/vnd.plotly.v1+json": {
       "config": {
        "plotlyServerURL": "https://plot.ly"
       },
       "data": [
        {
         "alignmentgroup": "True",
         "hovertemplate": "SigTipoConsumidor=PF<br>SigUF=AC<br>Ano=%{x}<br>NumCPFCNPJ=%{y}<extra></extra>",
         "legendgroup": "PF",
         "marker": {
          "color": "#636efa",
          "pattern": {
           "shape": ""
          }
         },
         "name": "PF",
         "offsetgroup": "PF",
         "orientation": "v",
         "showlegend": true,
         "textposition": "auto",
         "type": "bar",
         "x": [
          2018,
          2018,
          2018,
          2019,
          2019,
          2019,
          2019,
          2020,
          2020,
          2020,
          2021,
          2021,
          2021,
          2021,
          2021,
          2022,
          2022,
          2022,
          2022,
          2023,
          2023,
          2023
         ],
         "xaxis": "x4",
         "y": [
          3,
          1,
          22,
          22,
          1,
          92,
          6,
          35,
          401,
          16,
          108,
          1,
          2,
          1127,
          63,
          101,
          1,
          1469,
          96,
          20,
          304,
          18
         ],
         "yaxis": "y4"
        },
        {
         "alignmentgroup": "True",
         "hovertemplate": "SigTipoConsumidor=PF<br>SigUF=AL<br>Ano=%{x}<br>NumCPFCNPJ=%{y}<extra></extra>",
         "legendgroup": "PF",
         "marker": {
          "color": "#636efa",
          "pattern": {
           "shape": ""
          }
         },
         "name": "PF",
         "offsetgroup": "PF",
         "orientation": "v",
         "showlegend": false,
         "textposition": "auto",
         "type": "bar",
         "x": [
          2018,
          2018,
          2018,
          2018,
          2019,
          2019,
          2019,
          2019,
          2020,
          2020,
          2020,
          2020,
          2020,
          2021,
          2021,
          2021,
          2021,
          2021,
          2022,
          2022,
          2022,
          2022,
          2022,
          2023,
          2023,
          2023,
          2023,
          2023
         ],
         "xaxis": "x3",
         "y": [
          13,
          1,
          131,
          1,
          68,
          3,
          434,
          10,
          57,
          5,
          16,
          1157,
          38,
          57,
          1,
          12,
          2689,
          64,
          316,
          21,
          12,
          6741,
          160,
          131,
          6,
          2,
          2545,
          77
         ],
         "yaxis": "y3"
        },
        {
         "alignmentgroup": "True",
         "hovertemplate": "SigTipoConsumidor=PF<br>SigUF=AM<br>Ano=%{x}<br>NumCPFCNPJ=%{y}<extra></extra>",
         "legendgroup": "PF",
         "marker": {
          "color": "#636efa",
          "pattern": {
           "shape": ""
          }
         },
         "name": "PF",
         "offsetgroup": "PF",
         "orientation": "v",
         "showlegend": false,
         "textposition": "auto",
         "type": "bar",
         "x": [
          2018,
          2018,
          2018,
          2018,
          2019,
          2019,
          2019,
          2020,
          2020,
          2020,
          2020,
          2020,
          2021,
          2021,
          2021,
          2021,
          2021,
          2022,
          2022,
          2022,
          2022,
          2023,
          2023,
          2023,
          2023,
          2023
         ],
         "xaxis": "x2",
         "y": [
          5,
          1,
          68,
          1,
          13,
          367,
          3,
          53,
          1,
          2,
          711,
          3,
          138,
          9,
          2,
          1239,
          12,
          214,
          6,
          2332,
          13,
          37,
          2,
          1,
          743,
          9
         ],
         "yaxis": "y2"
        },
        {
         "alignmentgroup": "True",
         "hovertemplate": "SigTipoConsumidor=PF<br>SigUF=AP<br>Ano=%{x}<br>NumCPFCNPJ=%{y}<extra></extra>",
         "legendgroup": "PF",
         "marker": {
          "color": "#636efa",
          "pattern": {
           "shape": ""
          }
         },
         "name": "PF",
         "offsetgroup": "PF",
         "orientation": "v",
         "showlegend": false,
         "textposition": "auto",
         "type": "bar",
         "x": [
          2018,
          2019,
          2019,
          2020,
          2020,
          2021,
          2021,
          2021,
          2021,
          2022,
          2022,
          2022,
          2022,
          2023,
          2023,
          2023
         ],
         "xaxis": "x",
         "y": [
          33,
          10,
          82,
          15,
          113,
          37,
          1,
          410,
          1,
          27,
          4,
          832,
          1,
          1,
          1,
          577
         ],
         "yaxis": "y"
        },
        {
         "alignmentgroup": "True",
         "hovertemplate": "SigTipoConsumidor=PJ<br>SigUF=AC<br>Ano=%{x}<br>NumCPFCNPJ=%{y}<extra></extra>",
         "legendgroup": "PJ",
         "marker": {
          "color": "#EF553B",
          "pattern": {
           "shape": ""
          }
         },
         "name": "PJ",
         "offsetgroup": "PJ",
         "orientation": "v",
         "showlegend": true,
         "textposition": "auto",
         "type": "bar",
         "x": [
          2018,
          2019,
          2019,
          2019,
          2020,
          2020,
          2020,
          2020,
          2020,
          2021,
          2021,
          2021,
          2021,
          2021,
          2022,
          2022,
          2022,
          2022,
          2022,
          2023,
          2023,
          2023,
          2023
         ],
         "xaxis": "x4",
         "y": [
          5,
          9,
          1,
          1,
          38,
          3,
          9,
          1,
          1,
          85,
          4,
          2,
          16,
          1,
          88,
          5,
          4,
          30,
          3,
          24,
          1,
          6,
          2
         ],
         "yaxis": "y4"
        },
        {
         "alignmentgroup": "True",
         "hovertemplate": "SigTipoConsumidor=PJ<br>SigUF=AL<br>Ano=%{x}<br>NumCPFCNPJ=%{y}<extra></extra>",
         "legendgroup": "PJ",
         "marker": {
          "color": "#EF553B",
          "pattern": {
           "shape": ""
          }
         },
         "name": "PJ",
         "offsetgroup": "PJ",
         "orientation": "v",
         "showlegend": false,
         "textposition": "auto",
         "type": "bar",
         "x": [
          2018,
          2018,
          2018,
          2019,
          2019,
          2019,
          2019,
          2019,
          2020,
          2020,
          2020,
          2020,
          2020,
          2021,
          2021,
          2021,
          2021,
          2021,
          2021,
          2022,
          2022,
          2022,
          2022,
          2022,
          2023,
          2023,
          2023,
          2023,
          2023
         ],
         "xaxis": "x3",
         "y": [
          23,
          3,
          2,
          86,
          7,
          2,
          5,
          2,
          280,
          13,
          7,
          33,
          7,
          558,
          23,
          6,
          80,
          4,
          2,
          685,
          33,
          2,
          171,
          11,
          171,
          8,
          2,
          90,
          7
         ],
         "yaxis": "y3"
        },
        {
         "alignmentgroup": "True",
         "hovertemplate": "SigTipoConsumidor=PJ<br>SigUF=AM<br>Ano=%{x}<br>NumCPFCNPJ=%{y}<extra></extra>",
         "legendgroup": "PJ",
         "marker": {
          "color": "#EF553B",
          "pattern": {
           "shape": ""
          }
         },
         "name": "PJ",
         "offsetgroup": "PJ",
         "orientation": "v",
         "showlegend": false,
         "textposition": "auto",
         "type": "bar",
         "x": [
          2018,
          2018,
          2019,
          2019,
          2019,
          2019,
          2020,
          2020,
          2020,
          2020,
          2020,
          2021,
          2021,
          2021,
          2021,
          2021,
          2022,
          2022,
          2022,
          2022,
          2022,
          2023,
          2023,
          2023,
          2023
         ],
         "xaxis": "x2",
         "y": [
          5,
          1,
          33,
          3,
          1,
          8,
          78,
          9,
          2,
          20,
          1,
          128,
          11,
          3,
          38,
          2,
          189,
          21,
          4,
          74,
          2,
          47,
          5,
          18,
          1
         ],
         "yaxis": "y2"
        },
        {
         "alignmentgroup": "True",
         "hovertemplate": "SigTipoConsumidor=PJ<br>SigUF=AP<br>Ano=%{x}<br>NumCPFCNPJ=%{y}<extra></extra>",
         "legendgroup": "PJ",
         "marker": {
          "color": "#EF553B",
          "pattern": {
           "shape": ""
          }
         },
         "name": "PJ",
         "offsetgroup": "PJ",
         "orientation": "v",
         "showlegend": false,
         "textposition": "auto",
         "type": "bar",
         "x": [
          2018,
          2018,
          2019,
          2019,
          2019,
          2019,
          2020,
          2020,
          2020,
          2021,
          2021,
          2021,
          2021,
          2022,
          2022,
          2022,
          2022,
          2023,
          2023
         ],
         "xaxis": "x",
         "y": [
          1,
          2,
          11,
          2,
          2,
          1,
          13,
          2,
          2,
          22,
          2,
          2,
          2,
          35,
          1,
          1,
          7,
          17,
          7
         ],
         "yaxis": "y"
        }
       ],
       "layout": {
        "annotations": [
         {
          "font": {},
          "showarrow": false,
          "text": "SigUF=AP",
          "textangle": 90,
          "x": 0.98,
          "xanchor": "left",
          "xref": "paper",
          "y": 0.11375,
          "yanchor": "middle",
          "yref": "paper"
         },
         {
          "font": {},
          "showarrow": false,
          "text": "SigUF=AM",
          "textangle": 90,
          "x": 0.98,
          "xanchor": "left",
          "xref": "paper",
          "y": 0.37124999999999997,
          "yanchor": "middle",
          "yref": "paper"
         },
         {
          "font": {},
          "showarrow": false,
          "text": "SigUF=AL",
          "textangle": 90,
          "x": 0.98,
          "xanchor": "left",
          "xref": "paper",
          "y": 0.62875,
          "yanchor": "middle",
          "yref": "paper"
         },
         {
          "font": {},
          "showarrow": false,
          "text": "SigUF=AC",
          "textangle": 90,
          "x": 0.98,
          "xanchor": "left",
          "xref": "paper",
          "y": 0.88625,
          "yanchor": "middle",
          "yref": "paper"
         }
        ],
        "barmode": "group",
        "height": 600,
        "legend": {
         "title": {
          "text": "SigTipoConsumidor"
         },
         "tracegroupgap": 0
        },
        "margin": {
         "t": 60
        },
        "template": {
         "data": {
          "bar": [
           {
            "error_x": {
             "color": "#2a3f5f"
            },
            "error_y": {
             "color": "#2a3f5f"
            },
            "marker": {
             "line": {
              "color": "#E5ECF6",
              "width": 0.5
             },
             "pattern": {
              "fillmode": "overlay",
              "size": 10,
              "solidity": 0.2
             }
            },
            "type": "bar"
           }
          ],
          "barpolar": [
           {
            "marker": {
             "line": {
              "color": "#E5ECF6",
              "width": 0.5
             },
             "pattern": {
              "fillmode": "overlay",
              "size": 10,
              "solidity": 0.2
             }
            },
            "type": "barpolar"
           }
          ],
          "carpet": [
           {
            "aaxis": {
             "endlinecolor": "#2a3f5f",
             "gridcolor": "white",
             "linecolor": "white",
             "minorgridcolor": "white",
             "startlinecolor": "#2a3f5f"
            },
            "baxis": {
             "endlinecolor": "#2a3f5f",
             "gridcolor": "white",
             "linecolor": "white",
             "minorgridcolor": "white",
             "startlinecolor": "#2a3f5f"
            },
            "type": "carpet"
           }
          ],
          "choropleth": [
           {
            "colorbar": {
             "outlinewidth": 0,
             "ticks": ""
            },
            "type": "choropleth"
           }
          ],
          "contour": [
           {
            "colorbar": {
             "outlinewidth": 0,
             "ticks": ""
            },
            "colorscale": [
             [
              0,
              "#0d0887"
             ],
             [
              0.1111111111111111,
              "#46039f"
             ],
             [
              0.2222222222222222,
              "#7201a8"
             ],
             [
              0.3333333333333333,
              "#9c179e"
             ],
             [
              0.4444444444444444,
              "#bd3786"
             ],
             [
              0.5555555555555556,
              "#d8576b"
             ],
             [
              0.6666666666666666,
              "#ed7953"
             ],
             [
              0.7777777777777778,
              "#fb9f3a"
             ],
             [
              0.8888888888888888,
              "#fdca26"
             ],
             [
              1,
              "#f0f921"
             ]
            ],
            "type": "contour"
           }
          ],
          "contourcarpet": [
           {
            "colorbar": {
             "outlinewidth": 0,
             "ticks": ""
            },
            "type": "contourcarpet"
           }
          ],
          "heatmap": [
           {
            "colorbar": {
             "outlinewidth": 0,
             "ticks": ""
            },
            "colorscale": [
             [
              0,
              "#0d0887"
             ],
             [
              0.1111111111111111,
              "#46039f"
             ],
             [
              0.2222222222222222,
              "#7201a8"
             ],
             [
              0.3333333333333333,
              "#9c179e"
             ],
             [
              0.4444444444444444,
              "#bd3786"
             ],
             [
              0.5555555555555556,
              "#d8576b"
             ],
             [
              0.6666666666666666,
              "#ed7953"
             ],
             [
              0.7777777777777778,
              "#fb9f3a"
             ],
             [
              0.8888888888888888,
              "#fdca26"
             ],
             [
              1,
              "#f0f921"
             ]
            ],
            "type": "heatmap"
           }
          ],
          "heatmapgl": [
           {
            "colorbar": {
             "outlinewidth": 0,
             "ticks": ""
            },
            "colorscale": [
             [
              0,
              "#0d0887"
             ],
             [
              0.1111111111111111,
              "#46039f"
             ],
             [
              0.2222222222222222,
              "#7201a8"
             ],
             [
              0.3333333333333333,
              "#9c179e"
             ],
             [
              0.4444444444444444,
              "#bd3786"
             ],
             [
              0.5555555555555556,
              "#d8576b"
             ],
             [
              0.6666666666666666,
              "#ed7953"
             ],
             [
              0.7777777777777778,
              "#fb9f3a"
             ],
             [
              0.8888888888888888,
              "#fdca26"
             ],
             [
              1,
              "#f0f921"
             ]
            ],
            "type": "heatmapgl"
           }
          ],
          "histogram": [
           {
            "marker": {
             "pattern": {
              "fillmode": "overlay",
              "size": 10,
              "solidity": 0.2
             }
            },
            "type": "histogram"
           }
          ],
          "histogram2d": [
           {
            "colorbar": {
             "outlinewidth": 0,
             "ticks": ""
            },
            "colorscale": [
             [
              0,
              "#0d0887"
             ],
             [
              0.1111111111111111,
              "#46039f"
             ],
             [
              0.2222222222222222,
              "#7201a8"
             ],
             [
              0.3333333333333333,
              "#9c179e"
             ],
             [
              0.4444444444444444,
              "#bd3786"
             ],
             [
              0.5555555555555556,
              "#d8576b"
             ],
             [
              0.6666666666666666,
              "#ed7953"
             ],
             [
              0.7777777777777778,
              "#fb9f3a"
             ],
             [
              0.8888888888888888,
              "#fdca26"
             ],
             [
              1,
              "#f0f921"
             ]
            ],
            "type": "histogram2d"
           }
          ],
          "histogram2dcontour": [
           {
            "colorbar": {
             "outlinewidth": 0,
             "ticks": ""
            },
            "colorscale": [
             [
              0,
              "#0d0887"
             ],
             [
              0.1111111111111111,
              "#46039f"
             ],
             [
              0.2222222222222222,
              "#7201a8"
             ],
             [
              0.3333333333333333,
              "#9c179e"
             ],
             [
              0.4444444444444444,
              "#bd3786"
             ],
             [
              0.5555555555555556,
              "#d8576b"
             ],
             [
              0.6666666666666666,
              "#ed7953"
             ],
             [
              0.7777777777777778,
              "#fb9f3a"
             ],
             [
              0.8888888888888888,
              "#fdca26"
             ],
             [
              1,
              "#f0f921"
             ]
            ],
            "type": "histogram2dcontour"
           }
          ],
          "mesh3d": [
           {
            "colorbar": {
             "outlinewidth": 0,
             "ticks": ""
            },
            "type": "mesh3d"
           }
          ],
          "parcoords": [
           {
            "line": {
             "colorbar": {
              "outlinewidth": 0,
              "ticks": ""
             }
            },
            "type": "parcoords"
           }
          ],
          "pie": [
           {
            "automargin": true,
            "type": "pie"
           }
          ],
          "scatter": [
           {
            "fillpattern": {
             "fillmode": "overlay",
             "size": 10,
             "solidity": 0.2
            },
            "type": "scatter"
           }
          ],
          "scatter3d": [
           {
            "line": {
             "colorbar": {
              "outlinewidth": 0,
              "ticks": ""
             }
            },
            "marker": {
             "colorbar": {
              "outlinewidth": 0,
              "ticks": ""
             }
            },
            "type": "scatter3d"
           }
          ],
          "scattercarpet": [
           {
            "marker": {
             "colorbar": {
              "outlinewidth": 0,
              "ticks": ""
             }
            },
            "type": "scattercarpet"
           }
          ],
          "scattergeo": [
           {
            "marker": {
             "colorbar": {
              "outlinewidth": 0,
              "ticks": ""
             }
            },
            "type": "scattergeo"
           }
          ],
          "scattergl": [
           {
            "marker": {
             "colorbar": {
              "outlinewidth": 0,
              "ticks": ""
             }
            },
            "type": "scattergl"
           }
          ],
          "scattermapbox": [
           {
            "marker": {
             "colorbar": {
              "outlinewidth": 0,
              "ticks": ""
             }
            },
            "type": "scattermapbox"
           }
          ],
          "scatterpolar": [
           {
            "marker": {
             "colorbar": {
              "outlinewidth": 0,
              "ticks": ""
             }
            },
            "type": "scatterpolar"
           }
          ],
          "scatterpolargl": [
           {
            "marker": {
             "colorbar": {
              "outlinewidth": 0,
              "ticks": ""
             }
            },
            "type": "scatterpolargl"
           }
          ],
          "scatterternary": [
           {
            "marker": {
             "colorbar": {
              "outlinewidth": 0,
              "ticks": ""
             }
            },
            "type": "scatterternary"
           }
          ],
          "surface": [
           {
            "colorbar": {
             "outlinewidth": 0,
             "ticks": ""
            },
            "colorscale": [
             [
              0,
              "#0d0887"
             ],
             [
              0.1111111111111111,
              "#46039f"
             ],
             [
              0.2222222222222222,
              "#7201a8"
             ],
             [
              0.3333333333333333,
              "#9c179e"
             ],
             [
              0.4444444444444444,
              "#bd3786"
             ],
             [
              0.5555555555555556,
              "#d8576b"
             ],
             [
              0.6666666666666666,
              "#ed7953"
             ],
             [
              0.7777777777777778,
              "#fb9f3a"
             ],
             [
              0.8888888888888888,
              "#fdca26"
             ],
             [
              1,
              "#f0f921"
             ]
            ],
            "type": "surface"
           }
          ],
          "table": [
           {
            "cells": {
             "fill": {
              "color": "#EBF0F8"
             },
             "line": {
              "color": "white"
             }
            },
            "header": {
             "fill": {
              "color": "#C8D4E3"
             },
             "line": {
              "color": "white"
             }
            },
            "type": "table"
           }
          ]
         },
         "layout": {
          "annotationdefaults": {
           "arrowcolor": "#2a3f5f",
           "arrowhead": 0,
           "arrowwidth": 1
          },
          "autotypenumbers": "strict",
          "coloraxis": {
           "colorbar": {
            "outlinewidth": 0,
            "ticks": ""
           }
          },
          "colorscale": {
           "diverging": [
            [
             0,
             "#8e0152"
            ],
            [
             0.1,
             "#c51b7d"
            ],
            [
             0.2,
             "#de77ae"
            ],
            [
             0.3,
             "#f1b6da"
            ],
            [
             0.4,
             "#fde0ef"
            ],
            [
             0.5,
             "#f7f7f7"
            ],
            [
             0.6,
             "#e6f5d0"
            ],
            [
             0.7,
             "#b8e186"
            ],
            [
             0.8,
             "#7fbc41"
            ],
            [
             0.9,
             "#4d9221"
            ],
            [
             1,
             "#276419"
            ]
           ],
           "sequential": [
            [
             0,
             "#0d0887"
            ],
            [
             0.1111111111111111,
             "#46039f"
            ],
            [
             0.2222222222222222,
             "#7201a8"
            ],
            [
             0.3333333333333333,
             "#9c179e"
            ],
            [
             0.4444444444444444,
             "#bd3786"
            ],
            [
             0.5555555555555556,
             "#d8576b"
            ],
            [
             0.6666666666666666,
             "#ed7953"
            ],
            [
             0.7777777777777778,
             "#fb9f3a"
            ],
            [
             0.8888888888888888,
             "#fdca26"
            ],
            [
             1,
             "#f0f921"
            ]
           ],
           "sequentialminus": [
            [
             0,
             "#0d0887"
            ],
            [
             0.1111111111111111,
             "#46039f"
            ],
            [
             0.2222222222222222,
             "#7201a8"
            ],
            [
             0.3333333333333333,
             "#9c179e"
            ],
            [
             0.4444444444444444,
             "#bd3786"
            ],
            [
             0.5555555555555556,
             "#d8576b"
            ],
            [
             0.6666666666666666,
             "#ed7953"
            ],
            [
             0.7777777777777778,
             "#fb9f3a"
            ],
            [
             0.8888888888888888,
             "#fdca26"
            ],
            [
             1,
             "#f0f921"
            ]
           ]
          },
          "colorway": [
           "#636efa",
           "#EF553B",
           "#00cc96",
           "#ab63fa",
           "#FFA15A",
           "#19d3f3",
           "#FF6692",
           "#B6E880",
           "#FF97FF",
           "#FECB52"
          ],
          "font": {
           "color": "#2a3f5f"
          },
          "geo": {
           "bgcolor": "white",
           "lakecolor": "white",
           "landcolor": "#E5ECF6",
           "showlakes": true,
           "showland": true,
           "subunitcolor": "white"
          },
          "hoverlabel": {
           "align": "left"
          },
          "hovermode": "closest",
          "mapbox": {
           "style": "light"
          },
          "paper_bgcolor": "white",
          "plot_bgcolor": "#E5ECF6",
          "polar": {
           "angularaxis": {
            "gridcolor": "white",
            "linecolor": "white",
            "ticks": ""
           },
           "bgcolor": "#E5ECF6",
           "radialaxis": {
            "gridcolor": "white",
            "linecolor": "white",
            "ticks": ""
           }
          },
          "scene": {
           "xaxis": {
            "backgroundcolor": "#E5ECF6",
            "gridcolor": "white",
            "gridwidth": 2,
            "linecolor": "white",
            "showbackground": true,
            "ticks": "",
            "zerolinecolor": "white"
           },
           "yaxis": {
            "backgroundcolor": "#E5ECF6",
            "gridcolor": "white",
            "gridwidth": 2,
            "linecolor": "white",
            "showbackground": true,
            "ticks": "",
            "zerolinecolor": "white"
           },
           "zaxis": {
            "backgroundcolor": "#E5ECF6",
            "gridcolor": "white",
            "gridwidth": 2,
            "linecolor": "white",
            "showbackground": true,
            "ticks": "",
            "zerolinecolor": "white"
           }
          },
          "shapedefaults": {
           "line": {
            "color": "#2a3f5f"
           }
          },
          "ternary": {
           "aaxis": {
            "gridcolor": "white",
            "linecolor": "white",
            "ticks": ""
           },
           "baxis": {
            "gridcolor": "white",
            "linecolor": "white",
            "ticks": ""
           },
           "bgcolor": "#E5ECF6",
           "caxis": {
            "gridcolor": "white",
            "linecolor": "white",
            "ticks": ""
           }
          },
          "title": {
           "x": 0.05
          },
          "xaxis": {
           "automargin": true,
           "gridcolor": "white",
           "linecolor": "white",
           "ticks": "",
           "title": {
            "standoff": 15
           },
           "zerolinecolor": "white",
           "zerolinewidth": 2
          },
          "yaxis": {
           "automargin": true,
           "gridcolor": "white",
           "linecolor": "white",
           "ticks": "",
           "title": {
            "standoff": 15
           },
           "zerolinecolor": "white",
           "zerolinewidth": 2
          }
         }
        },
        "title": {
         "text": "Novos usuários",
         "x": 0.5,
         "xanchor": "center",
         "y": 0.95,
         "yanchor": "top"
        },
        "width": 800,
        "xaxis": {
         "anchor": "y",
         "domain": [
          0,
          0.98
         ],
         "title": {
          "text": "Ano"
         }
        },
        "xaxis2": {
         "anchor": "y2",
         "domain": [
          0,
          0.98
         ],
         "matches": "x",
         "showticklabels": false
        },
        "xaxis3": {
         "anchor": "y3",
         "domain": [
          0,
          0.98
         ],
         "matches": "x",
         "showticklabels": false
        },
        "xaxis4": {
         "anchor": "y4",
         "domain": [
          0,
          0.98
         ],
         "matches": "x",
         "showticklabels": false
        },
        "yaxis": {
         "anchor": "x",
         "domain": [
          0,
          0.2275
         ],
         "title": {
          "text": "NumCPFCNPJ"
         }
        },
        "yaxis2": {
         "anchor": "x2",
         "domain": [
          0.2575,
          0.485
         ],
         "matches": "y",
         "title": {
          "text": "NumCPFCNPJ"
         }
        },
        "yaxis3": {
         "anchor": "x3",
         "domain": [
          0.515,
          0.7425
         ],
         "matches": "y",
         "title": {
          "text": "NumCPFCNPJ"
         }
        },
        "yaxis4": {
         "anchor": "x4",
         "domain": [
          0.7725,
          1
         ],
         "matches": "y",
         "title": {
          "text": "NumCPFCNPJ"
         }
        }
       }
      }
     },
     "metadata": {},
     "output_type": "display_data"
    }
   ],
   "source": [
    "df['Mes'] = pd.DatetimeIndex(df['DthAtualizaCadastralEmpreend']).month\n",
    "df['Ano'] = pd.DatetimeIndex(df['DthAtualizaCadastralEmpreend']).year\n",
    "df['Ano_Mes'] = pd.to_datetime(df['DthAtualizaCadastralEmpreend']).dt.strftime('%Y-%m')\n",
    "\n",
    "# exclui nulos\n",
    "df_clean = df.dropna(subset=['NumCPFCNPJ']).copy()\n",
    "\n",
    "# filtra SigUFs \n",
    "df_clean = df_clean[df_clean['SigUF'].isin(['AC', 'AL', 'AM', 'AP'])]\n",
    "\n",
    "# agrupa os dados\n",
    "counts = df_clean.groupby(['Ano', 'SigUF','SigTipoConsumidor', 'DscClasseConsumo']).agg({'NumCPFCNPJ': 'nunique'}).reset_index()\n",
    "# ERRADO - tx_anual_tipo = counts.groupby(['NumCPFCNPJ', 'SigTipoConsumidor'])['Ano'].apply(lambda x: x.pct_change().mean())\n",
    "# ERRADO - tx_anual_classe = counts.groupby(['NumCPFCNPJ', 'DscClasseConsumo'])['Ano'].apply(lambda x: x.pct_change().mean())\n",
    "\n",
    "\n",
    "# seria bom adicionar uma linha com a taxa de crescimento anual por Tipo de Consumidor\n",
    "def grafico_novos_usuarios_tipo(counts):\n",
    "    counts_filtered = counts.query('Ano >= 2018')\n",
    "    fig_novos_tipo = px.bar(counts_filtered, x=\"Ano\", y=\"NumCPFCNPJ\", color='SigTipoConsumidor')\n",
    "    fig_novos_tipo.update_layout(\n",
    "        width=1200,\n",
    "        height=600,\n",
    "        xaxis_title='Ano',\n",
    "        xaxis_title_font_size=16,\n",
    "        yaxis_title='Novos usuários',\n",
    "        yaxis_title_font_size=16,\n",
    "        title='Novos usuários por tipo de consumo',\n",
    "        title_font_size=20,\n",
    "        title_x=.5\n",
    "    )\n",
    "    fig_novos_tipo.show()\n",
    "grafico_novos_usuarios_tipo(counts)\n",
    "#grafico_novos_usuarios_tipo(counts)\n",
    "\n",
    "\n",
    "# Tornar a o eixo y variável pelo max de cada UF\n",
    "def grafico_novos_usuarios_tipo_UF(counts):\n",
    "    counts_filtered = counts.query('Ano >= 2018')\n",
    "    fig_novos_tipo_uf = px.bar(counts_filtered, x=\"Ano\", y=\"NumCPFCNPJ\", color='SigTipoConsumidor',barmode=\"group\", facet_row=\"SigUF\")\n",
    "    fig_novos_tipo_uf.update_layout(\n",
    "        width=800,\n",
    "        height=600,\n",
    "        title={\n",
    "        'text': \"Novos usuários\",\n",
    "        'y':0.95,\n",
    "        'x':0.5,\n",
    "        'xanchor': 'center',\n",
    "        'yanchor': 'top'}\n",
    "        )\n",
    "\n",
    "    fig_novos_tipo_uf.show()\n",
    "grafico_novos_usuarios_tipo_UF(counts)\n"
   ]
  },
  {
   "cell_type": "code",
   "execution_count": 423,
   "id": "aacdd84a",
   "metadata": {},
   "outputs": [
    {
     "data": {
      "application/vnd.plotly.v1+json": {
       "config": {
        "plotlyServerURL": "https://plot.ly"
       },
       "data": [
        {
         "alignmentgroup": "True",
         "hovertemplate": "DscClasseConsumo=Comercial<br>Ano=%{x}<br>NumCPFCNPJ=%{y}<extra></extra>",
         "legendgroup": "Comercial",
         "marker": {
          "color": "#636efa",
          "pattern": {
           "shape": ""
          }
         },
         "name": "Comercial",
         "offsetgroup": "Comercial",
         "orientation": "v",
         "showlegend": true,
         "textposition": "auto",
         "type": "bar",
         "x": [
          2018,
          2018,
          2018,
          2018,
          2018,
          2018,
          2018,
          2019,
          2019,
          2019,
          2019,
          2019,
          2019,
          2019,
          2019,
          2020,
          2020,
          2020,
          2020,
          2020,
          2020,
          2020,
          2020,
          2021,
          2021,
          2021,
          2021,
          2021,
          2021,
          2021,
          2021,
          2022,
          2022,
          2022,
          2022,
          2022,
          2022,
          2022,
          2022,
          2023,
          2023,
          2023,
          2023,
          2023,
          2023,
          2023,
          2023
         ],
         "xaxis": "x",
         "y": [
          3,
          5,
          13,
          23,
          5,
          5,
          1,
          22,
          9,
          68,
          86,
          13,
          33,
          10,
          11,
          35,
          38,
          57,
          280,
          53,
          78,
          15,
          13,
          108,
          85,
          57,
          558,
          138,
          128,
          37,
          22,
          101,
          88,
          316,
          685,
          214,
          189,
          27,
          35,
          20,
          24,
          131,
          171,
          37,
          47,
          1,
          17
         ],
         "yaxis": "y"
        },
        {
         "alignmentgroup": "True",
         "hovertemplate": "DscClasseConsumo=Industrial<br>Ano=%{x}<br>NumCPFCNPJ=%{y}<extra></extra>",
         "legendgroup": "Industrial",
         "marker": {
          "color": "#EF553B",
          "pattern": {
           "shape": ""
          }
         },
         "name": "Industrial",
         "offsetgroup": "Industrial",
         "orientation": "v",
         "showlegend": true,
         "textposition": "auto",
         "type": "bar",
         "x": [
          2018,
          2018,
          2018,
          2018,
          2019,
          2019,
          2019,
          2019,
          2020,
          2020,
          2020,
          2020,
          2020,
          2021,
          2021,
          2021,
          2021,
          2021,
          2021,
          2021,
          2022,
          2022,
          2022,
          2022,
          2022,
          2022,
          2022,
          2023,
          2023,
          2023,
          2023,
          2023
         ],
         "xaxis": "x",
         "y": [
          1,
          1,
          3,
          1,
          1,
          3,
          7,
          3,
          3,
          5,
          13,
          1,
          9,
          1,
          4,
          1,
          23,
          9,
          11,
          2,
          1,
          5,
          21,
          33,
          6,
          21,
          1,
          1,
          6,
          8,
          2,
          5
         ],
         "yaxis": "y"
        },
        {
         "alignmentgroup": "True",
         "hovertemplate": "DscClasseConsumo=Residencial<br>Ano=%{x}<br>NumCPFCNPJ=%{y}<extra></extra>",
         "legendgroup": "Residencial",
         "marker": {
          "color": "#00cc96",
          "pattern": {
           "shape": ""
          }
         },
         "name": "Residencial",
         "offsetgroup": "Residencial",
         "orientation": "v",
         "showlegend": true,
         "textposition": "auto",
         "type": "bar",
         "x": [
          2018,
          2018,
          2018,
          2018,
          2018,
          2018,
          2019,
          2019,
          2019,
          2019,
          2019,
          2019,
          2019,
          2019,
          2020,
          2020,
          2020,
          2020,
          2020,
          2020,
          2020,
          2020,
          2021,
          2021,
          2021,
          2021,
          2021,
          2021,
          2021,
          2021,
          2022,
          2022,
          2022,
          2022,
          2022,
          2022,
          2022,
          2022,
          2023,
          2023,
          2023,
          2023,
          2023,
          2023,
          2023,
          2023
         ],
         "xaxis": "x",
         "y": [
          22,
          131,
          2,
          68,
          33,
          2,
          92,
          1,
          434,
          5,
          367,
          8,
          82,
          2,
          401,
          9,
          1157,
          33,
          711,
          20,
          113,
          2,
          1127,
          16,
          2689,
          80,
          1239,
          38,
          410,
          2,
          1469,
          30,
          6741,
          171,
          2332,
          74,
          832,
          7,
          304,
          6,
          2545,
          90,
          743,
          18,
          577,
          7
         ],
         "yaxis": "y"
        },
        {
         "alignmentgroup": "True",
         "hovertemplate": "DscClasseConsumo=Rural<br>Ano=%{x}<br>NumCPFCNPJ=%{y}<extra></extra>",
         "legendgroup": "Rural",
         "marker": {
          "color": "#ab63fa",
          "pattern": {
           "shape": ""
          }
         },
         "name": "Rural",
         "offsetgroup": "Rural",
         "orientation": "v",
         "showlegend": true,
         "textposition": "auto",
         "type": "bar",
         "x": [
          2018,
          2018,
          2019,
          2019,
          2019,
          2019,
          2020,
          2020,
          2020,
          2020,
          2020,
          2020,
          2021,
          2021,
          2021,
          2021,
          2021,
          2021,
          2021,
          2022,
          2022,
          2022,
          2022,
          2022,
          2022,
          2022,
          2023,
          2023,
          2023,
          2023,
          2023,
          2023
         ],
         "xaxis": "x",
         "y": [
          1,
          1,
          6,
          10,
          2,
          3,
          16,
          1,
          38,
          7,
          3,
          1,
          63,
          1,
          64,
          4,
          12,
          2,
          1,
          96,
          3,
          160,
          11,
          13,
          2,
          1,
          18,
          2,
          77,
          7,
          9,
          1
         ],
         "yaxis": "y"
        },
        {
         "alignmentgroup": "True",
         "hovertemplate": "DscClasseConsumo=Poder Público<br>Ano=%{x}<br>NumCPFCNPJ=%{y}<extra></extra>",
         "legendgroup": "Poder Público",
         "marker": {
          "color": "#FFA15A",
          "pattern": {
           "shape": ""
          }
         },
         "name": "Poder Público",
         "offsetgroup": "Poder Público",
         "orientation": "v",
         "showlegend": true,
         "textposition": "auto",
         "type": "bar",
         "x": [
          2018,
          2019,
          2019,
          2019,
          2019,
          2020,
          2020,
          2020,
          2020,
          2020,
          2021,
          2021,
          2021,
          2021,
          2021,
          2021,
          2021,
          2021,
          2022,
          2022,
          2022,
          2022,
          2022,
          2022,
          2023,
          2023,
          2023,
          2023
         ],
         "xaxis": "x",
         "y": [
          1,
          1,
          2,
          1,
          2,
          16,
          7,
          2,
          2,
          2,
          2,
          2,
          12,
          6,
          2,
          3,
          1,
          2,
          4,
          12,
          2,
          4,
          4,
          1,
          2,
          2,
          1,
          1
         ],
         "yaxis": "y"
        },
        {
         "alignmentgroup": "True",
         "hovertemplate": "DscClasseConsumo=Serviço Público<br>Ano=%{x}<br>NumCPFCNPJ=%{y}<extra></extra>",
         "legendgroup": "Serviço Público",
         "marker": {
          "color": "#19d3f3",
          "pattern": {
           "shape": ""
          }
         },
         "name": "Serviço Público",
         "offsetgroup": "Serviço Público",
         "orientation": "v",
         "showlegend": true,
         "textposition": "auto",
         "type": "bar",
         "x": [
          2019,
          2020,
          2021
         ],
         "xaxis": "x",
         "y": [
          1,
          1,
          2
         ],
         "yaxis": "y"
        }
       ],
       "layout": {
        "barmode": "relative",
        "height": 600,
        "legend": {
         "title": {
          "text": "DscClasseConsumo"
         },
         "tracegroupgap": 0
        },
        "margin": {
         "t": 60
        },
        "template": {
         "data": {
          "bar": [
           {
            "error_x": {
             "color": "#2a3f5f"
            },
            "error_y": {
             "color": "#2a3f5f"
            },
            "marker": {
             "line": {
              "color": "#E5ECF6",
              "width": 0.5
             },
             "pattern": {
              "fillmode": "overlay",
              "size": 10,
              "solidity": 0.2
             }
            },
            "type": "bar"
           }
          ],
          "barpolar": [
           {
            "marker": {
             "line": {
              "color": "#E5ECF6",
              "width": 0.5
             },
             "pattern": {
              "fillmode": "overlay",
              "size": 10,
              "solidity": 0.2
             }
            },
            "type": "barpolar"
           }
          ],
          "carpet": [
           {
            "aaxis": {
             "endlinecolor": "#2a3f5f",
             "gridcolor": "white",
             "linecolor": "white",
             "minorgridcolor": "white",
             "startlinecolor": "#2a3f5f"
            },
            "baxis": {
             "endlinecolor": "#2a3f5f",
             "gridcolor": "white",
             "linecolor": "white",
             "minorgridcolor": "white",
             "startlinecolor": "#2a3f5f"
            },
            "type": "carpet"
           }
          ],
          "choropleth": [
           {
            "colorbar": {
             "outlinewidth": 0,
             "ticks": ""
            },
            "type": "choropleth"
           }
          ],
          "contour": [
           {
            "colorbar": {
             "outlinewidth": 0,
             "ticks": ""
            },
            "colorscale": [
             [
              0,
              "#0d0887"
             ],
             [
              0.1111111111111111,
              "#46039f"
             ],
             [
              0.2222222222222222,
              "#7201a8"
             ],
             [
              0.3333333333333333,
              "#9c179e"
             ],
             [
              0.4444444444444444,
              "#bd3786"
             ],
             [
              0.5555555555555556,
              "#d8576b"
             ],
             [
              0.6666666666666666,
              "#ed7953"
             ],
             [
              0.7777777777777778,
              "#fb9f3a"
             ],
             [
              0.8888888888888888,
              "#fdca26"
             ],
             [
              1,
              "#f0f921"
             ]
            ],
            "type": "contour"
           }
          ],
          "contourcarpet": [
           {
            "colorbar": {
             "outlinewidth": 0,
             "ticks": ""
            },
            "type": "contourcarpet"
           }
          ],
          "heatmap": [
           {
            "colorbar": {
             "outlinewidth": 0,
             "ticks": ""
            },
            "colorscale": [
             [
              0,
              "#0d0887"
             ],
             [
              0.1111111111111111,
              "#46039f"
             ],
             [
              0.2222222222222222,
              "#7201a8"
             ],
             [
              0.3333333333333333,
              "#9c179e"
             ],
             [
              0.4444444444444444,
              "#bd3786"
             ],
             [
              0.5555555555555556,
              "#d8576b"
             ],
             [
              0.6666666666666666,
              "#ed7953"
             ],
             [
              0.7777777777777778,
              "#fb9f3a"
             ],
             [
              0.8888888888888888,
              "#fdca26"
             ],
             [
              1,
              "#f0f921"
             ]
            ],
            "type": "heatmap"
           }
          ],
          "heatmapgl": [
           {
            "colorbar": {
             "outlinewidth": 0,
             "ticks": ""
            },
            "colorscale": [
             [
              0,
              "#0d0887"
             ],
             [
              0.1111111111111111,
              "#46039f"
             ],
             [
              0.2222222222222222,
              "#7201a8"
             ],
             [
              0.3333333333333333,
              "#9c179e"
             ],
             [
              0.4444444444444444,
              "#bd3786"
             ],
             [
              0.5555555555555556,
              "#d8576b"
             ],
             [
              0.6666666666666666,
              "#ed7953"
             ],
             [
              0.7777777777777778,
              "#fb9f3a"
             ],
             [
              0.8888888888888888,
              "#fdca26"
             ],
             [
              1,
              "#f0f921"
             ]
            ],
            "type": "heatmapgl"
           }
          ],
          "histogram": [
           {
            "marker": {
             "pattern": {
              "fillmode": "overlay",
              "size": 10,
              "solidity": 0.2
             }
            },
            "type": "histogram"
           }
          ],
          "histogram2d": [
           {
            "colorbar": {
             "outlinewidth": 0,
             "ticks": ""
            },
            "colorscale": [
             [
              0,
              "#0d0887"
             ],
             [
              0.1111111111111111,
              "#46039f"
             ],
             [
              0.2222222222222222,
              "#7201a8"
             ],
             [
              0.3333333333333333,
              "#9c179e"
             ],
             [
              0.4444444444444444,
              "#bd3786"
             ],
             [
              0.5555555555555556,
              "#d8576b"
             ],
             [
              0.6666666666666666,
              "#ed7953"
             ],
             [
              0.7777777777777778,
              "#fb9f3a"
             ],
             [
              0.8888888888888888,
              "#fdca26"
             ],
             [
              1,
              "#f0f921"
             ]
            ],
            "type": "histogram2d"
           }
          ],
          "histogram2dcontour": [
           {
            "colorbar": {
             "outlinewidth": 0,
             "ticks": ""
            },
            "colorscale": [
             [
              0,
              "#0d0887"
             ],
             [
              0.1111111111111111,
              "#46039f"
             ],
             [
              0.2222222222222222,
              "#7201a8"
             ],
             [
              0.3333333333333333,
              "#9c179e"
             ],
             [
              0.4444444444444444,
              "#bd3786"
             ],
             [
              0.5555555555555556,
              "#d8576b"
             ],
             [
              0.6666666666666666,
              "#ed7953"
             ],
             [
              0.7777777777777778,
              "#fb9f3a"
             ],
             [
              0.8888888888888888,
              "#fdca26"
             ],
             [
              1,
              "#f0f921"
             ]
            ],
            "type": "histogram2dcontour"
           }
          ],
          "mesh3d": [
           {
            "colorbar": {
             "outlinewidth": 0,
             "ticks": ""
            },
            "type": "mesh3d"
           }
          ],
          "parcoords": [
           {
            "line": {
             "colorbar": {
              "outlinewidth": 0,
              "ticks": ""
             }
            },
            "type": "parcoords"
           }
          ],
          "pie": [
           {
            "automargin": true,
            "type": "pie"
           }
          ],
          "scatter": [
           {
            "fillpattern": {
             "fillmode": "overlay",
             "size": 10,
             "solidity": 0.2
            },
            "type": "scatter"
           }
          ],
          "scatter3d": [
           {
            "line": {
             "colorbar": {
              "outlinewidth": 0,
              "ticks": ""
             }
            },
            "marker": {
             "colorbar": {
              "outlinewidth": 0,
              "ticks": ""
             }
            },
            "type": "scatter3d"
           }
          ],
          "scattercarpet": [
           {
            "marker": {
             "colorbar": {
              "outlinewidth": 0,
              "ticks": ""
             }
            },
            "type": "scattercarpet"
           }
          ],
          "scattergeo": [
           {
            "marker": {
             "colorbar": {
              "outlinewidth": 0,
              "ticks": ""
             }
            },
            "type": "scattergeo"
           }
          ],
          "scattergl": [
           {
            "marker": {
             "colorbar": {
              "outlinewidth": 0,
              "ticks": ""
             }
            },
            "type": "scattergl"
           }
          ],
          "scattermapbox": [
           {
            "marker": {
             "colorbar": {
              "outlinewidth": 0,
              "ticks": ""
             }
            },
            "type": "scattermapbox"
           }
          ],
          "scatterpolar": [
           {
            "marker": {
             "colorbar": {
              "outlinewidth": 0,
              "ticks": ""
             }
            },
            "type": "scatterpolar"
           }
          ],
          "scatterpolargl": [
           {
            "marker": {
             "colorbar": {
              "outlinewidth": 0,
              "ticks": ""
             }
            },
            "type": "scatterpolargl"
           }
          ],
          "scatterternary": [
           {
            "marker": {
             "colorbar": {
              "outlinewidth": 0,
              "ticks": ""
             }
            },
            "type": "scatterternary"
           }
          ],
          "surface": [
           {
            "colorbar": {
             "outlinewidth": 0,
             "ticks": ""
            },
            "colorscale": [
             [
              0,
              "#0d0887"
             ],
             [
              0.1111111111111111,
              "#46039f"
             ],
             [
              0.2222222222222222,
              "#7201a8"
             ],
             [
              0.3333333333333333,
              "#9c179e"
             ],
             [
              0.4444444444444444,
              "#bd3786"
             ],
             [
              0.5555555555555556,
              "#d8576b"
             ],
             [
              0.6666666666666666,
              "#ed7953"
             ],
             [
              0.7777777777777778,
              "#fb9f3a"
             ],
             [
              0.8888888888888888,
              "#fdca26"
             ],
             [
              1,
              "#f0f921"
             ]
            ],
            "type": "surface"
           }
          ],
          "table": [
           {
            "cells": {
             "fill": {
              "color": "#EBF0F8"
             },
             "line": {
              "color": "white"
             }
            },
            "header": {
             "fill": {
              "color": "#C8D4E3"
             },
             "line": {
              "color": "white"
             }
            },
            "type": "table"
           }
          ]
         },
         "layout": {
          "annotationdefaults": {
           "arrowcolor": "#2a3f5f",
           "arrowhead": 0,
           "arrowwidth": 1
          },
          "autotypenumbers": "strict",
          "coloraxis": {
           "colorbar": {
            "outlinewidth": 0,
            "ticks": ""
           }
          },
          "colorscale": {
           "diverging": [
            [
             0,
             "#8e0152"
            ],
            [
             0.1,
             "#c51b7d"
            ],
            [
             0.2,
             "#de77ae"
            ],
            [
             0.3,
             "#f1b6da"
            ],
            [
             0.4,
             "#fde0ef"
            ],
            [
             0.5,
             "#f7f7f7"
            ],
            [
             0.6,
             "#e6f5d0"
            ],
            [
             0.7,
             "#b8e186"
            ],
            [
             0.8,
             "#7fbc41"
            ],
            [
             0.9,
             "#4d9221"
            ],
            [
             1,
             "#276419"
            ]
           ],
           "sequential": [
            [
             0,
             "#0d0887"
            ],
            [
             0.1111111111111111,
             "#46039f"
            ],
            [
             0.2222222222222222,
             "#7201a8"
            ],
            [
             0.3333333333333333,
             "#9c179e"
            ],
            [
             0.4444444444444444,
             "#bd3786"
            ],
            [
             0.5555555555555556,
             "#d8576b"
            ],
            [
             0.6666666666666666,
             "#ed7953"
            ],
            [
             0.7777777777777778,
             "#fb9f3a"
            ],
            [
             0.8888888888888888,
             "#fdca26"
            ],
            [
             1,
             "#f0f921"
            ]
           ],
           "sequentialminus": [
            [
             0,
             "#0d0887"
            ],
            [
             0.1111111111111111,
             "#46039f"
            ],
            [
             0.2222222222222222,
             "#7201a8"
            ],
            [
             0.3333333333333333,
             "#9c179e"
            ],
            [
             0.4444444444444444,
             "#bd3786"
            ],
            [
             0.5555555555555556,
             "#d8576b"
            ],
            [
             0.6666666666666666,
             "#ed7953"
            ],
            [
             0.7777777777777778,
             "#fb9f3a"
            ],
            [
             0.8888888888888888,
             "#fdca26"
            ],
            [
             1,
             "#f0f921"
            ]
           ]
          },
          "colorway": [
           "#636efa",
           "#EF553B",
           "#00cc96",
           "#ab63fa",
           "#FFA15A",
           "#19d3f3",
           "#FF6692",
           "#B6E880",
           "#FF97FF",
           "#FECB52"
          ],
          "font": {
           "color": "#2a3f5f"
          },
          "geo": {
           "bgcolor": "white",
           "lakecolor": "white",
           "landcolor": "#E5ECF6",
           "showlakes": true,
           "showland": true,
           "subunitcolor": "white"
          },
          "hoverlabel": {
           "align": "left"
          },
          "hovermode": "closest",
          "mapbox": {
           "style": "light"
          },
          "paper_bgcolor": "white",
          "plot_bgcolor": "#E5ECF6",
          "polar": {
           "angularaxis": {
            "gridcolor": "white",
            "linecolor": "white",
            "ticks": ""
           },
           "bgcolor": "#E5ECF6",
           "radialaxis": {
            "gridcolor": "white",
            "linecolor": "white",
            "ticks": ""
           }
          },
          "scene": {
           "xaxis": {
            "backgroundcolor": "#E5ECF6",
            "gridcolor": "white",
            "gridwidth": 2,
            "linecolor": "white",
            "showbackground": true,
            "ticks": "",
            "zerolinecolor": "white"
           },
           "yaxis": {
            "backgroundcolor": "#E5ECF6",
            "gridcolor": "white",
            "gridwidth": 2,
            "linecolor": "white",
            "showbackground": true,
            "ticks": "",
            "zerolinecolor": "white"
           },
           "zaxis": {
            "backgroundcolor": "#E5ECF6",
            "gridcolor": "white",
            "gridwidth": 2,
            "linecolor": "white",
            "showbackground": true,
            "ticks": "",
            "zerolinecolor": "white"
           }
          },
          "shapedefaults": {
           "line": {
            "color": "#2a3f5f"
           }
          },
          "ternary": {
           "aaxis": {
            "gridcolor": "white",
            "linecolor": "white",
            "ticks": ""
           },
           "baxis": {
            "gridcolor": "white",
            "linecolor": "white",
            "ticks": ""
           },
           "bgcolor": "#E5ECF6",
           "caxis": {
            "gridcolor": "white",
            "linecolor": "white",
            "ticks": ""
           }
          },
          "title": {
           "x": 0.05
          },
          "xaxis": {
           "automargin": true,
           "gridcolor": "white",
           "linecolor": "white",
           "ticks": "",
           "title": {
            "standoff": 15
           },
           "zerolinecolor": "white",
           "zerolinewidth": 2
          },
          "yaxis": {
           "automargin": true,
           "gridcolor": "white",
           "linecolor": "white",
           "ticks": "",
           "title": {
            "standoff": 15
           },
           "zerolinecolor": "white",
           "zerolinewidth": 2
          }
         }
        },
        "title": {
         "font": {
          "size": 20
         },
         "text": "Novos usuários por tipo de consumo",
         "x": 0.5
        },
        "width": 1200,
        "xaxis": {
         "anchor": "y",
         "domain": [
          0,
          1
         ],
         "title": {
          "font": {
           "size": 16
          },
          "text": "Ano"
         }
        },
        "yaxis": {
         "anchor": "x",
         "domain": [
          0,
          1
         ],
         "title": {
          "font": {
           "size": 16
          },
          "text": "Novos usuários"
         }
        }
       }
      }
     },
     "metadata": {},
     "output_type": "display_data"
    },
    {
     "data": {
      "application/vnd.plotly.v1+json": {
       "config": {
        "plotlyServerURL": "https://plot.ly"
       },
       "data": [
        {
         "alignmentgroup": "True",
         "hovertemplate": "DscClasseConsumo=Comercial<br>SigUF=AC<br>Ano=%{x}<br>NumCPFCNPJ=%{y}<extra></extra>",
         "legendgroup": "Comercial",
         "marker": {
          "color": "#636efa",
          "pattern": {
           "shape": ""
          }
         },
         "name": "Comercial",
         "offsetgroup": "Comercial",
         "orientation": "v",
         "showlegend": true,
         "textposition": "auto",
         "type": "bar",
         "x": [
          2018,
          2018,
          2019,
          2019,
          2020,
          2020,
          2021,
          2021,
          2022,
          2022,
          2023,
          2023
         ],
         "xaxis": "x4",
         "y": [
          3,
          5,
          22,
          9,
          35,
          38,
          108,
          85,
          101,
          88,
          20,
          24
         ],
         "yaxis": "y4"
        },
        {
         "alignmentgroup": "True",
         "hovertemplate": "DscClasseConsumo=Comercial<br>SigUF=AL<br>Ano=%{x}<br>NumCPFCNPJ=%{y}<extra></extra>",
         "legendgroup": "Comercial",
         "marker": {
          "color": "#636efa",
          "pattern": {
           "shape": ""
          }
         },
         "name": "Comercial",
         "offsetgroup": "Comercial",
         "orientation": "v",
         "showlegend": false,
         "textposition": "auto",
         "type": "bar",
         "x": [
          2018,
          2018,
          2019,
          2019,
          2020,
          2020,
          2021,
          2021,
          2022,
          2022,
          2023,
          2023
         ],
         "xaxis": "x3",
         "y": [
          13,
          23,
          68,
          86,
          57,
          280,
          57,
          558,
          316,
          685,
          131,
          171
         ],
         "yaxis": "y3"
        },
        {
         "alignmentgroup": "True",
         "hovertemplate": "DscClasseConsumo=Comercial<br>SigUF=AM<br>Ano=%{x}<br>NumCPFCNPJ=%{y}<extra></extra>",
         "legendgroup": "Comercial",
         "marker": {
          "color": "#636efa",
          "pattern": {
           "shape": ""
          }
         },
         "name": "Comercial",
         "offsetgroup": "Comercial",
         "orientation": "v",
         "showlegend": false,
         "textposition": "auto",
         "type": "bar",
         "x": [
          2018,
          2018,
          2019,
          2019,
          2020,
          2020,
          2021,
          2021,
          2022,
          2022,
          2023,
          2023
         ],
         "xaxis": "x2",
         "y": [
          5,
          5,
          13,
          33,
          53,
          78,
          138,
          128,
          214,
          189,
          37,
          47
         ],
         "yaxis": "y2"
        },
        {
         "alignmentgroup": "True",
         "hovertemplate": "DscClasseConsumo=Comercial<br>SigUF=AP<br>Ano=%{x}<br>NumCPFCNPJ=%{y}<extra></extra>",
         "legendgroup": "Comercial",
         "marker": {
          "color": "#636efa",
          "pattern": {
           "shape": ""
          }
         },
         "name": "Comercial",
         "offsetgroup": "Comercial",
         "orientation": "v",
         "showlegend": false,
         "textposition": "auto",
         "type": "bar",
         "x": [
          2018,
          2019,
          2019,
          2020,
          2020,
          2021,
          2021,
          2022,
          2022,
          2023,
          2023
         ],
         "xaxis": "x",
         "y": [
          1,
          10,
          11,
          15,
          13,
          37,
          22,
          27,
          35,
          1,
          17
         ],
         "yaxis": "y"
        },
        {
         "alignmentgroup": "True",
         "hovertemplate": "DscClasseConsumo=Industrial<br>SigUF=AC<br>Ano=%{x}<br>NumCPFCNPJ=%{y}<extra></extra>",
         "legendgroup": "Industrial",
         "marker": {
          "color": "#EF553B",
          "pattern": {
           "shape": ""
          }
         },
         "name": "Industrial",
         "offsetgroup": "Industrial",
         "orientation": "v",
         "showlegend": true,
         "textposition": "auto",
         "type": "bar",
         "x": [
          2018,
          2019,
          2020,
          2021,
          2021,
          2022,
          2022,
          2023
         ],
         "xaxis": "x4",
         "y": [
          1,
          1,
          3,
          1,
          4,
          1,
          5,
          1
         ],
         "yaxis": "y4"
        },
        {
         "alignmentgroup": "True",
         "hovertemplate": "DscClasseConsumo=Industrial<br>SigUF=AL<br>Ano=%{x}<br>NumCPFCNPJ=%{y}<extra></extra>",
         "legendgroup": "Industrial",
         "marker": {
          "color": "#EF553B",
          "pattern": {
           "shape": ""
          }
         },
         "name": "Industrial",
         "offsetgroup": "Industrial",
         "orientation": "v",
         "showlegend": false,
         "textposition": "auto",
         "type": "bar",
         "x": [
          2018,
          2018,
          2019,
          2019,
          2020,
          2020,
          2021,
          2021,
          2022,
          2022,
          2023,
          2023
         ],
         "xaxis": "x3",
         "y": [
          1,
          3,
          3,
          7,
          5,
          13,
          1,
          23,
          21,
          33,
          6,
          8
         ],
         "yaxis": "y3"
        },
        {
         "alignmentgroup": "True",
         "hovertemplate": "DscClasseConsumo=Industrial<br>SigUF=AM<br>Ano=%{x}<br>NumCPFCNPJ=%{y}<extra></extra>",
         "legendgroup": "Industrial",
         "marker": {
          "color": "#EF553B",
          "pattern": {
           "shape": ""
          }
         },
         "name": "Industrial",
         "offsetgroup": "Industrial",
         "orientation": "v",
         "showlegend": false,
         "textposition": "auto",
         "type": "bar",
         "x": [
          2018,
          2019,
          2020,
          2020,
          2021,
          2021,
          2022,
          2022,
          2023,
          2023
         ],
         "xaxis": "x2",
         "y": [
          1,
          3,
          1,
          9,
          9,
          11,
          6,
          21,
          2,
          5
         ],
         "yaxis": "y2"
        },
        {
         "alignmentgroup": "True",
         "hovertemplate": "DscClasseConsumo=Industrial<br>SigUF=AP<br>Ano=%{x}<br>NumCPFCNPJ=%{y}<extra></extra>",
         "legendgroup": "Industrial",
         "marker": {
          "color": "#EF553B",
          "pattern": {
           "shape": ""
          }
         },
         "name": "Industrial",
         "offsetgroup": "Industrial",
         "orientation": "v",
         "showlegend": false,
         "textposition": "auto",
         "type": "bar",
         "x": [
          2021,
          2022
         ],
         "xaxis": "x",
         "y": [
          2,
          1
         ],
         "yaxis": "y"
        },
        {
         "alignmentgroup": "True",
         "hovertemplate": "DscClasseConsumo=Residencial<br>SigUF=AC<br>Ano=%{x}<br>NumCPFCNPJ=%{y}<extra></extra>",
         "legendgroup": "Residencial",
         "marker": {
          "color": "#00cc96",
          "pattern": {
           "shape": ""
          }
         },
         "name": "Residencial",
         "offsetgroup": "Residencial",
         "orientation": "v",
         "showlegend": true,
         "textposition": "auto",
         "type": "bar",
         "x": [
          2018,
          2019,
          2019,
          2020,
          2020,
          2021,
          2021,
          2022,
          2022,
          2023,
          2023
         ],
         "xaxis": "x4",
         "y": [
          22,
          92,
          1,
          401,
          9,
          1127,
          16,
          1469,
          30,
          304,
          6
         ],
         "yaxis": "y4"
        },
        {
         "alignmentgroup": "True",
         "hovertemplate": "DscClasseConsumo=Residencial<br>SigUF=AL<br>Ano=%{x}<br>NumCPFCNPJ=%{y}<extra></extra>",
         "legendgroup": "Residencial",
         "marker": {
          "color": "#00cc96",
          "pattern": {
           "shape": ""
          }
         },
         "name": "Residencial",
         "offsetgroup": "Residencial",
         "orientation": "v",
         "showlegend": false,
         "textposition": "auto",
         "type": "bar",
         "x": [
          2018,
          2018,
          2019,
          2019,
          2020,
          2020,
          2021,
          2021,
          2022,
          2022,
          2023,
          2023
         ],
         "xaxis": "x3",
         "y": [
          131,
          2,
          434,
          5,
          1157,
          33,
          2689,
          80,
          6741,
          171,
          2545,
          90
         ],
         "yaxis": "y3"
        },
        {
         "alignmentgroup": "True",
         "hovertemplate": "DscClasseConsumo=Residencial<br>SigUF=AM<br>Ano=%{x}<br>NumCPFCNPJ=%{y}<extra></extra>",
         "legendgroup": "Residencial",
         "marker": {
          "color": "#00cc96",
          "pattern": {
           "shape": ""
          }
         },
         "name": "Residencial",
         "offsetgroup": "Residencial",
         "orientation": "v",
         "showlegend": false,
         "textposition": "auto",
         "type": "bar",
         "x": [
          2018,
          2019,
          2019,
          2020,
          2020,
          2021,
          2021,
          2022,
          2022,
          2023,
          2023
         ],
         "xaxis": "x2",
         "y": [
          68,
          367,
          8,
          711,
          20,
          1239,
          38,
          2332,
          74,
          743,
          18
         ],
         "yaxis": "y2"
        },
        {
         "alignmentgroup": "True",
         "hovertemplate": "DscClasseConsumo=Residencial<br>SigUF=AP<br>Ano=%{x}<br>NumCPFCNPJ=%{y}<extra></extra>",
         "legendgroup": "Residencial",
         "marker": {
          "color": "#00cc96",
          "pattern": {
           "shape": ""
          }
         },
         "name": "Residencial",
         "offsetgroup": "Residencial",
         "orientation": "v",
         "showlegend": false,
         "textposition": "auto",
         "type": "bar",
         "x": [
          2018,
          2018,
          2019,
          2019,
          2020,
          2020,
          2021,
          2021,
          2022,
          2022,
          2023,
          2023
         ],
         "xaxis": "x",
         "y": [
          33,
          2,
          82,
          2,
          113,
          2,
          410,
          2,
          832,
          7,
          577,
          7
         ],
         "yaxis": "y"
        },
        {
         "alignmentgroup": "True",
         "hovertemplate": "DscClasseConsumo=Rural<br>SigUF=AC<br>Ano=%{x}<br>NumCPFCNPJ=%{y}<extra></extra>",
         "legendgroup": "Rural",
         "marker": {
          "color": "#ab63fa",
          "pattern": {
           "shape": ""
          }
         },
         "name": "Rural",
         "offsetgroup": "Rural",
         "orientation": "v",
         "showlegend": true,
         "textposition": "auto",
         "type": "bar",
         "x": [
          2019,
          2020,
          2020,
          2021,
          2021,
          2022,
          2022,
          2023,
          2023
         ],
         "xaxis": "x4",
         "y": [
          6,
          16,
          1,
          63,
          1,
          96,
          3,
          18,
          2
         ],
         "yaxis": "y4"
        },
        {
         "alignmentgroup": "True",
         "hovertemplate": "DscClasseConsumo=Rural<br>SigUF=AL<br>Ano=%{x}<br>NumCPFCNPJ=%{y}<extra></extra>",
         "legendgroup": "Rural",
         "marker": {
          "color": "#ab63fa",
          "pattern": {
           "shape": ""
          }
         },
         "name": "Rural",
         "offsetgroup": "Rural",
         "orientation": "v",
         "showlegend": false,
         "textposition": "auto",
         "type": "bar",
         "x": [
          2018,
          2019,
          2019,
          2020,
          2020,
          2021,
          2021,
          2022,
          2022,
          2023,
          2023
         ],
         "xaxis": "x3",
         "y": [
          1,
          10,
          2,
          38,
          7,
          64,
          4,
          160,
          11,
          77,
          7
         ],
         "yaxis": "y3"
        },
        {
         "alignmentgroup": "True",
         "hovertemplate": "DscClasseConsumo=Rural<br>SigUF=AM<br>Ano=%{x}<br>NumCPFCNPJ=%{y}<extra></extra>",
         "legendgroup": "Rural",
         "marker": {
          "color": "#ab63fa",
          "pattern": {
           "shape": ""
          }
         },
         "name": "Rural",
         "offsetgroup": "Rural",
         "orientation": "v",
         "showlegend": false,
         "textposition": "auto",
         "type": "bar",
         "x": [
          2018,
          2019,
          2020,
          2020,
          2021,
          2021,
          2022,
          2022,
          2023,
          2023
         ],
         "xaxis": "x2",
         "y": [
          1,
          3,
          3,
          1,
          12,
          2,
          13,
          2,
          9,
          1
         ],
         "yaxis": "y2"
        },
        {
         "alignmentgroup": "True",
         "hovertemplate": "DscClasseConsumo=Rural<br>SigUF=AP<br>Ano=%{x}<br>NumCPFCNPJ=%{y}<extra></extra>",
         "legendgroup": "Rural",
         "marker": {
          "color": "#ab63fa",
          "pattern": {
           "shape": ""
          }
         },
         "name": "Rural",
         "offsetgroup": "Rural",
         "orientation": "v",
         "showlegend": false,
         "textposition": "auto",
         "type": "bar",
         "x": [
          2021,
          2022
         ],
         "xaxis": "x",
         "y": [
          1,
          1
         ],
         "yaxis": "y"
        },
        {
         "alignmentgroup": "True",
         "hovertemplate": "DscClasseConsumo=Poder Público<br>SigUF=AC<br>Ano=%{x}<br>NumCPFCNPJ=%{y}<extra></extra>",
         "legendgroup": "Poder Público",
         "marker": {
          "color": "#FFA15A",
          "pattern": {
           "shape": ""
          }
         },
         "name": "Poder Público",
         "offsetgroup": "Poder Público",
         "orientation": "v",
         "showlegend": true,
         "textposition": "auto",
         "type": "bar",
         "x": [
          2019,
          2021,
          2021,
          2022
         ],
         "xaxis": "x4",
         "y": [
          1,
          2,
          2,
          4
         ],
         "yaxis": "y4"
        },
        {
         "alignmentgroup": "True",
         "hovertemplate": "DscClasseConsumo=Poder Público<br>SigUF=AL<br>Ano=%{x}<br>NumCPFCNPJ=%{y}<extra></extra>",
         "legendgroup": "Poder Público",
         "marker": {
          "color": "#FFA15A",
          "pattern": {
           "shape": ""
          }
         },
         "name": "Poder Público",
         "offsetgroup": "Poder Público",
         "orientation": "v",
         "showlegend": false,
         "textposition": "auto",
         "type": "bar",
         "x": [
          2019,
          2020,
          2020,
          2021,
          2021,
          2022,
          2022,
          2023,
          2023
         ],
         "xaxis": "x3",
         "y": [
          2,
          16,
          7,
          12,
          6,
          12,
          2,
          2,
          2
         ],
         "yaxis": "y3"
        },
        {
         "alignmentgroup": "True",
         "hovertemplate": "DscClasseConsumo=Poder Público<br>SigUF=AM<br>Ano=%{x}<br>NumCPFCNPJ=%{y}<extra></extra>",
         "legendgroup": "Poder Público",
         "marker": {
          "color": "#FFA15A",
          "pattern": {
           "shape": ""
          }
         },
         "name": "Poder Público",
         "offsetgroup": "Poder Público",
         "orientation": "v",
         "showlegend": false,
         "textposition": "auto",
         "type": "bar",
         "x": [
          2018,
          2019,
          2020,
          2020,
          2021,
          2021,
          2022,
          2023
         ],
         "xaxis": "x2",
         "y": [
          1,
          1,
          2,
          2,
          2,
          3,
          4,
          1
         ],
         "yaxis": "y2"
        },
        {
         "alignmentgroup": "True",
         "hovertemplate": "DscClasseConsumo=Poder Público<br>SigUF=AP<br>Ano=%{x}<br>NumCPFCNPJ=%{y}<extra></extra>",
         "legendgroup": "Poder Público",
         "marker": {
          "color": "#FFA15A",
          "pattern": {
           "shape": ""
          }
         },
         "name": "Poder Público",
         "offsetgroup": "Poder Público",
         "orientation": "v",
         "showlegend": false,
         "textposition": "auto",
         "type": "bar",
         "x": [
          2019,
          2020,
          2021,
          2021,
          2022,
          2022,
          2023
         ],
         "xaxis": "x",
         "y": [
          2,
          2,
          1,
          2,
          4,
          1,
          1
         ],
         "yaxis": "y"
        },
        {
         "alignmentgroup": "True",
         "hovertemplate": "DscClasseConsumo=Serviço Público<br>SigUF=AC<br>Ano=%{x}<br>NumCPFCNPJ=%{y}<extra></extra>",
         "legendgroup": "Serviço Público",
         "marker": {
          "color": "#19d3f3",
          "pattern": {
           "shape": ""
          }
         },
         "name": "Serviço Público",
         "offsetgroup": "Serviço Público",
         "orientation": "v",
         "showlegend": true,
         "textposition": "auto",
         "type": "bar",
         "x": [
          2020
         ],
         "xaxis": "x4",
         "y": [
          1
         ],
         "yaxis": "y4"
        },
        {
         "alignmentgroup": "True",
         "hovertemplate": "DscClasseConsumo=Serviço Público<br>SigUF=AL<br>Ano=%{x}<br>NumCPFCNPJ=%{y}<extra></extra>",
         "legendgroup": "Serviço Público",
         "marker": {
          "color": "#19d3f3",
          "pattern": {
           "shape": ""
          }
         },
         "name": "Serviço Público",
         "offsetgroup": "Serviço Público",
         "orientation": "v",
         "showlegend": false,
         "textposition": "auto",
         "type": "bar",
         "x": [
          2021
         ],
         "xaxis": "x3",
         "y": [
          2
         ],
         "yaxis": "y3"
        },
        {
         "alignmentgroup": "True",
         "hovertemplate": "DscClasseConsumo=Serviço Público<br>SigUF=AP<br>Ano=%{x}<br>NumCPFCNPJ=%{y}<extra></extra>",
         "legendgroup": "Serviço Público",
         "marker": {
          "color": "#19d3f3",
          "pattern": {
           "shape": ""
          }
         },
         "name": "Serviço Público",
         "offsetgroup": "Serviço Público",
         "orientation": "v",
         "showlegend": false,
         "textposition": "auto",
         "type": "bar",
         "x": [
          2019
         ],
         "xaxis": "x",
         "y": [
          1
         ],
         "yaxis": "y"
        }
       ],
       "layout": {
        "annotations": [
         {
          "font": {},
          "showarrow": false,
          "text": "SigUF=AP",
          "textangle": 90,
          "x": 0.98,
          "xanchor": "left",
          "xref": "paper",
          "y": 0.11375,
          "yanchor": "middle",
          "yref": "paper"
         },
         {
          "font": {},
          "showarrow": false,
          "text": "SigUF=AM",
          "textangle": 90,
          "x": 0.98,
          "xanchor": "left",
          "xref": "paper",
          "y": 0.37124999999999997,
          "yanchor": "middle",
          "yref": "paper"
         },
         {
          "font": {},
          "showarrow": false,
          "text": "SigUF=AL",
          "textangle": 90,
          "x": 0.98,
          "xanchor": "left",
          "xref": "paper",
          "y": 0.62875,
          "yanchor": "middle",
          "yref": "paper"
         },
         {
          "font": {},
          "showarrow": false,
          "text": "SigUF=AC",
          "textangle": 90,
          "x": 0.98,
          "xanchor": "left",
          "xref": "paper",
          "y": 0.88625,
          "yanchor": "middle",
          "yref": "paper"
         }
        ],
        "barmode": "group",
        "height": 600,
        "legend": {
         "title": {
          "text": "DscClasseConsumo"
         },
         "tracegroupgap": 0
        },
        "margin": {
         "t": 60
        },
        "template": {
         "data": {
          "bar": [
           {
            "error_x": {
             "color": "#2a3f5f"
            },
            "error_y": {
             "color": "#2a3f5f"
            },
            "marker": {
             "line": {
              "color": "#E5ECF6",
              "width": 0.5
             },
             "pattern": {
              "fillmode": "overlay",
              "size": 10,
              "solidity": 0.2
             }
            },
            "type": "bar"
           }
          ],
          "barpolar": [
           {
            "marker": {
             "line": {
              "color": "#E5ECF6",
              "width": 0.5
             },
             "pattern": {
              "fillmode": "overlay",
              "size": 10,
              "solidity": 0.2
             }
            },
            "type": "barpolar"
           }
          ],
          "carpet": [
           {
            "aaxis": {
             "endlinecolor": "#2a3f5f",
             "gridcolor": "white",
             "linecolor": "white",
             "minorgridcolor": "white",
             "startlinecolor": "#2a3f5f"
            },
            "baxis": {
             "endlinecolor": "#2a3f5f",
             "gridcolor": "white",
             "linecolor": "white",
             "minorgridcolor": "white",
             "startlinecolor": "#2a3f5f"
            },
            "type": "carpet"
           }
          ],
          "choropleth": [
           {
            "colorbar": {
             "outlinewidth": 0,
             "ticks": ""
            },
            "type": "choropleth"
           }
          ],
          "contour": [
           {
            "colorbar": {
             "outlinewidth": 0,
             "ticks": ""
            },
            "colorscale": [
             [
              0,
              "#0d0887"
             ],
             [
              0.1111111111111111,
              "#46039f"
             ],
             [
              0.2222222222222222,
              "#7201a8"
             ],
             [
              0.3333333333333333,
              "#9c179e"
             ],
             [
              0.4444444444444444,
              "#bd3786"
             ],
             [
              0.5555555555555556,
              "#d8576b"
             ],
             [
              0.6666666666666666,
              "#ed7953"
             ],
             [
              0.7777777777777778,
              "#fb9f3a"
             ],
             [
              0.8888888888888888,
              "#fdca26"
             ],
             [
              1,
              "#f0f921"
             ]
            ],
            "type": "contour"
           }
          ],
          "contourcarpet": [
           {
            "colorbar": {
             "outlinewidth": 0,
             "ticks": ""
            },
            "type": "contourcarpet"
           }
          ],
          "heatmap": [
           {
            "colorbar": {
             "outlinewidth": 0,
             "ticks": ""
            },
            "colorscale": [
             [
              0,
              "#0d0887"
             ],
             [
              0.1111111111111111,
              "#46039f"
             ],
             [
              0.2222222222222222,
              "#7201a8"
             ],
             [
              0.3333333333333333,
              "#9c179e"
             ],
             [
              0.4444444444444444,
              "#bd3786"
             ],
             [
              0.5555555555555556,
              "#d8576b"
             ],
             [
              0.6666666666666666,
              "#ed7953"
             ],
             [
              0.7777777777777778,
              "#fb9f3a"
             ],
             [
              0.8888888888888888,
              "#fdca26"
             ],
             [
              1,
              "#f0f921"
             ]
            ],
            "type": "heatmap"
           }
          ],
          "heatmapgl": [
           {
            "colorbar": {
             "outlinewidth": 0,
             "ticks": ""
            },
            "colorscale": [
             [
              0,
              "#0d0887"
             ],
             [
              0.1111111111111111,
              "#46039f"
             ],
             [
              0.2222222222222222,
              "#7201a8"
             ],
             [
              0.3333333333333333,
              "#9c179e"
             ],
             [
              0.4444444444444444,
              "#bd3786"
             ],
             [
              0.5555555555555556,
              "#d8576b"
             ],
             [
              0.6666666666666666,
              "#ed7953"
             ],
             [
              0.7777777777777778,
              "#fb9f3a"
             ],
             [
              0.8888888888888888,
              "#fdca26"
             ],
             [
              1,
              "#f0f921"
             ]
            ],
            "type": "heatmapgl"
           }
          ],
          "histogram": [
           {
            "marker": {
             "pattern": {
              "fillmode": "overlay",
              "size": 10,
              "solidity": 0.2
             }
            },
            "type": "histogram"
           }
          ],
          "histogram2d": [
           {
            "colorbar": {
             "outlinewidth": 0,
             "ticks": ""
            },
            "colorscale": [
             [
              0,
              "#0d0887"
             ],
             [
              0.1111111111111111,
              "#46039f"
             ],
             [
              0.2222222222222222,
              "#7201a8"
             ],
             [
              0.3333333333333333,
              "#9c179e"
             ],
             [
              0.4444444444444444,
              "#bd3786"
             ],
             [
              0.5555555555555556,
              "#d8576b"
             ],
             [
              0.6666666666666666,
              "#ed7953"
             ],
             [
              0.7777777777777778,
              "#fb9f3a"
             ],
             [
              0.8888888888888888,
              "#fdca26"
             ],
             [
              1,
              "#f0f921"
             ]
            ],
            "type": "histogram2d"
           }
          ],
          "histogram2dcontour": [
           {
            "colorbar": {
             "outlinewidth": 0,
             "ticks": ""
            },
            "colorscale": [
             [
              0,
              "#0d0887"
             ],
             [
              0.1111111111111111,
              "#46039f"
             ],
             [
              0.2222222222222222,
              "#7201a8"
             ],
             [
              0.3333333333333333,
              "#9c179e"
             ],
             [
              0.4444444444444444,
              "#bd3786"
             ],
             [
              0.5555555555555556,
              "#d8576b"
             ],
             [
              0.6666666666666666,
              "#ed7953"
             ],
             [
              0.7777777777777778,
              "#fb9f3a"
             ],
             [
              0.8888888888888888,
              "#fdca26"
             ],
             [
              1,
              "#f0f921"
             ]
            ],
            "type": "histogram2dcontour"
           }
          ],
          "mesh3d": [
           {
            "colorbar": {
             "outlinewidth": 0,
             "ticks": ""
            },
            "type": "mesh3d"
           }
          ],
          "parcoords": [
           {
            "line": {
             "colorbar": {
              "outlinewidth": 0,
              "ticks": ""
             }
            },
            "type": "parcoords"
           }
          ],
          "pie": [
           {
            "automargin": true,
            "type": "pie"
           }
          ],
          "scatter": [
           {
            "fillpattern": {
             "fillmode": "overlay",
             "size": 10,
             "solidity": 0.2
            },
            "type": "scatter"
           }
          ],
          "scatter3d": [
           {
            "line": {
             "colorbar": {
              "outlinewidth": 0,
              "ticks": ""
             }
            },
            "marker": {
             "colorbar": {
              "outlinewidth": 0,
              "ticks": ""
             }
            },
            "type": "scatter3d"
           }
          ],
          "scattercarpet": [
           {
            "marker": {
             "colorbar": {
              "outlinewidth": 0,
              "ticks": ""
             }
            },
            "type": "scattercarpet"
           }
          ],
          "scattergeo": [
           {
            "marker": {
             "colorbar": {
              "outlinewidth": 0,
              "ticks": ""
             }
            },
            "type": "scattergeo"
           }
          ],
          "scattergl": [
           {
            "marker": {
             "colorbar": {
              "outlinewidth": 0,
              "ticks": ""
             }
            },
            "type": "scattergl"
           }
          ],
          "scattermapbox": [
           {
            "marker": {
             "colorbar": {
              "outlinewidth": 0,
              "ticks": ""
             }
            },
            "type": "scattermapbox"
           }
          ],
          "scatterpolar": [
           {
            "marker": {
             "colorbar": {
              "outlinewidth": 0,
              "ticks": ""
             }
            },
            "type": "scatterpolar"
           }
          ],
          "scatterpolargl": [
           {
            "marker": {
             "colorbar": {
              "outlinewidth": 0,
              "ticks": ""
             }
            },
            "type": "scatterpolargl"
           }
          ],
          "scatterternary": [
           {
            "marker": {
             "colorbar": {
              "outlinewidth": 0,
              "ticks": ""
             }
            },
            "type": "scatterternary"
           }
          ],
          "surface": [
           {
            "colorbar": {
             "outlinewidth": 0,
             "ticks": ""
            },
            "colorscale": [
             [
              0,
              "#0d0887"
             ],
             [
              0.1111111111111111,
              "#46039f"
             ],
             [
              0.2222222222222222,
              "#7201a8"
             ],
             [
              0.3333333333333333,
              "#9c179e"
             ],
             [
              0.4444444444444444,
              "#bd3786"
             ],
             [
              0.5555555555555556,
              "#d8576b"
             ],
             [
              0.6666666666666666,
              "#ed7953"
             ],
             [
              0.7777777777777778,
              "#fb9f3a"
             ],
             [
              0.8888888888888888,
              "#fdca26"
             ],
             [
              1,
              "#f0f921"
             ]
            ],
            "type": "surface"
           }
          ],
          "table": [
           {
            "cells": {
             "fill": {
              "color": "#EBF0F8"
             },
             "line": {
              "color": "white"
             }
            },
            "header": {
             "fill": {
              "color": "#C8D4E3"
             },
             "line": {
              "color": "white"
             }
            },
            "type": "table"
           }
          ]
         },
         "layout": {
          "annotationdefaults": {
           "arrowcolor": "#2a3f5f",
           "arrowhead": 0,
           "arrowwidth": 1
          },
          "autotypenumbers": "strict",
          "coloraxis": {
           "colorbar": {
            "outlinewidth": 0,
            "ticks": ""
           }
          },
          "colorscale": {
           "diverging": [
            [
             0,
             "#8e0152"
            ],
            [
             0.1,
             "#c51b7d"
            ],
            [
             0.2,
             "#de77ae"
            ],
            [
             0.3,
             "#f1b6da"
            ],
            [
             0.4,
             "#fde0ef"
            ],
            [
             0.5,
             "#f7f7f7"
            ],
            [
             0.6,
             "#e6f5d0"
            ],
            [
             0.7,
             "#b8e186"
            ],
            [
             0.8,
             "#7fbc41"
            ],
            [
             0.9,
             "#4d9221"
            ],
            [
             1,
             "#276419"
            ]
           ],
           "sequential": [
            [
             0,
             "#0d0887"
            ],
            [
             0.1111111111111111,
             "#46039f"
            ],
            [
             0.2222222222222222,
             "#7201a8"
            ],
            [
             0.3333333333333333,
             "#9c179e"
            ],
            [
             0.4444444444444444,
             "#bd3786"
            ],
            [
             0.5555555555555556,
             "#d8576b"
            ],
            [
             0.6666666666666666,
             "#ed7953"
            ],
            [
             0.7777777777777778,
             "#fb9f3a"
            ],
            [
             0.8888888888888888,
             "#fdca26"
            ],
            [
             1,
             "#f0f921"
            ]
           ],
           "sequentialminus": [
            [
             0,
             "#0d0887"
            ],
            [
             0.1111111111111111,
             "#46039f"
            ],
            [
             0.2222222222222222,
             "#7201a8"
            ],
            [
             0.3333333333333333,
             "#9c179e"
            ],
            [
             0.4444444444444444,
             "#bd3786"
            ],
            [
             0.5555555555555556,
             "#d8576b"
            ],
            [
             0.6666666666666666,
             "#ed7953"
            ],
            [
             0.7777777777777778,
             "#fb9f3a"
            ],
            [
             0.8888888888888888,
             "#fdca26"
            ],
            [
             1,
             "#f0f921"
            ]
           ]
          },
          "colorway": [
           "#636efa",
           "#EF553B",
           "#00cc96",
           "#ab63fa",
           "#FFA15A",
           "#19d3f3",
           "#FF6692",
           "#B6E880",
           "#FF97FF",
           "#FECB52"
          ],
          "font": {
           "color": "#2a3f5f"
          },
          "geo": {
           "bgcolor": "white",
           "lakecolor": "white",
           "landcolor": "#E5ECF6",
           "showlakes": true,
           "showland": true,
           "subunitcolor": "white"
          },
          "hoverlabel": {
           "align": "left"
          },
          "hovermode": "closest",
          "mapbox": {
           "style": "light"
          },
          "paper_bgcolor": "white",
          "plot_bgcolor": "#E5ECF6",
          "polar": {
           "angularaxis": {
            "gridcolor": "white",
            "linecolor": "white",
            "ticks": ""
           },
           "bgcolor": "#E5ECF6",
           "radialaxis": {
            "gridcolor": "white",
            "linecolor": "white",
            "ticks": ""
           }
          },
          "scene": {
           "xaxis": {
            "backgroundcolor": "#E5ECF6",
            "gridcolor": "white",
            "gridwidth": 2,
            "linecolor": "white",
            "showbackground": true,
            "ticks": "",
            "zerolinecolor": "white"
           },
           "yaxis": {
            "backgroundcolor": "#E5ECF6",
            "gridcolor": "white",
            "gridwidth": 2,
            "linecolor": "white",
            "showbackground": true,
            "ticks": "",
            "zerolinecolor": "white"
           },
           "zaxis": {
            "backgroundcolor": "#E5ECF6",
            "gridcolor": "white",
            "gridwidth": 2,
            "linecolor": "white",
            "showbackground": true,
            "ticks": "",
            "zerolinecolor": "white"
           }
          },
          "shapedefaults": {
           "line": {
            "color": "#2a3f5f"
           }
          },
          "ternary": {
           "aaxis": {
            "gridcolor": "white",
            "linecolor": "white",
            "ticks": ""
           },
           "baxis": {
            "gridcolor": "white",
            "linecolor": "white",
            "ticks": ""
           },
           "bgcolor": "#E5ECF6",
           "caxis": {
            "gridcolor": "white",
            "linecolor": "white",
            "ticks": ""
           }
          },
          "title": {
           "x": 0.05
          },
          "xaxis": {
           "automargin": true,
           "gridcolor": "white",
           "linecolor": "white",
           "ticks": "",
           "title": {
            "standoff": 15
           },
           "zerolinecolor": "white",
           "zerolinewidth": 2
          },
          "yaxis": {
           "automargin": true,
           "gridcolor": "white",
           "linecolor": "white",
           "ticks": "",
           "title": {
            "standoff": 15
           },
           "zerolinecolor": "white",
           "zerolinewidth": 2
          }
         }
        },
        "title": {
         "text": "Novos usuários",
         "x": 0.5,
         "xanchor": "center",
         "y": 0.95,
         "yanchor": "top"
        },
        "width": 800,
        "xaxis": {
         "anchor": "y",
         "domain": [
          0,
          0.98
         ],
         "title": {
          "text": "Ano"
         }
        },
        "xaxis2": {
         "anchor": "y2",
         "domain": [
          0,
          0.98
         ],
         "matches": "x",
         "showticklabels": false
        },
        "xaxis3": {
         "anchor": "y3",
         "domain": [
          0,
          0.98
         ],
         "matches": "x",
         "showticklabels": false
        },
        "xaxis4": {
         "anchor": "y4",
         "domain": [
          0,
          0.98
         ],
         "matches": "x",
         "showticklabels": false
        },
        "yaxis": {
         "anchor": "x",
         "domain": [
          0,
          0.2275
         ],
         "title": {
          "text": "NumCPFCNPJ"
         }
        },
        "yaxis2": {
         "anchor": "x2",
         "domain": [
          0.2575,
          0.485
         ],
         "matches": "y",
         "title": {
          "text": "NumCPFCNPJ"
         }
        },
        "yaxis3": {
         "anchor": "x3",
         "domain": [
          0.515,
          0.7425
         ],
         "matches": "y",
         "title": {
          "text": "NumCPFCNPJ"
         }
        },
        "yaxis4": {
         "anchor": "x4",
         "domain": [
          0.7725,
          1
         ],
         "matches": "y",
         "title": {
          "text": "NumCPFCNPJ"
         }
        }
       }
      }
     },
     "metadata": {},
     "output_type": "display_data"
    }
   ],
   "source": [
    "def grafico_novos_usuarios_classe(counts):\n",
    "    counts_filtered = counts.query('Ano >= 2018')\n",
    "    fig_novos_classe = px.bar(counts_filtered, x=\"Ano\", y=\"NumCPFCNPJ\", color='DscClasseConsumo')\n",
    "    fig_novos_classe.update_layout(\n",
    "        width=1200,\n",
    "        height=600,\n",
    "        xaxis_title='Ano',\n",
    "        xaxis_title_font_size=16,\n",
    "        yaxis_title='Novos usuários',\n",
    "        yaxis_title_font_size=16,\n",
    "        title='Novos usuários por tipo de consumo',\n",
    "        title_font_size=20,\n",
    "        title_x=.5\n",
    "    )\n",
    "    fig_novos_classe.show()\n",
    "grafico_novos_usuarios_classe(counts)\n",
    "\n",
    "\n",
    "def grafico_novos_usuarios_classe_UF(counts):\n",
    "    counts_filtered = counts.query('Ano >= 2018')\n",
    "    fig_novos_classe_uf = px.bar(counts_filtered, x=\"Ano\", y=\"NumCPFCNPJ\", color='DscClasseConsumo',barmode=\"group\", facet_row=\"SigUF\")\n",
    "    fig_novos_classe_uf.update_layout(\n",
    "        width=800,\n",
    "        height=600,\n",
    "        title={\n",
    "        'text': \"Novos usuários\",\n",
    "        'y':0.95,\n",
    "        'x':0.5,\n",
    "        'xanchor': 'center',\n",
    "        'yanchor': 'top'}\n",
    "        )\n",
    "    fig_novos_classe_uf.show()\n",
    "grafico_novos_usuarios_classe_UF(counts)\n"
   ]
  },
  {
   "cell_type": "code",
   "execution_count": null,
   "id": "a09fc156",
   "metadata": {},
   "outputs": [],
   "source": [
    "\n",
    "\n",
    "\n",
    "\n",
    "\n",
    "\n",
    "\n",
    "\n",
    "\n",
    "\n",
    "\n",
    "\n",
    "\n"
   ]
  },
  {
   "cell_type": "code",
   "execution_count": 421,
   "id": "8ef12e58",
   "metadata": {},
   "outputs": [
    {
     "data": {
      "text/html": [
       "<div>\n",
       "<style scoped>\n",
       "    .dataframe tbody tr th:only-of-type {\n",
       "        vertical-align: middle;\n",
       "    }\n",
       "\n",
       "    .dataframe tbody tr th {\n",
       "        vertical-align: top;\n",
       "    }\n",
       "\n",
       "    .dataframe thead th {\n",
       "        text-align: right;\n",
       "    }\n",
       "</style>\n",
       "<table border=\"1\" class=\"dataframe\">\n",
       "  <thead>\n",
       "    <tr style=\"text-align: right;\">\n",
       "      <th></th>\n",
       "      <th>Ano</th>\n",
       "      <th>SigUF</th>\n",
       "      <th>SigTipoConsumidor</th>\n",
       "      <th>NumCPFCNPJ</th>\n",
       "      <th>TaxaCrescimento</th>\n",
       "    </tr>\n",
       "  </thead>\n",
       "  <tbody>\n",
       "    <tr>\n",
       "      <th>0</th>\n",
       "      <td>2012</td>\n",
       "      <td>BA</td>\n",
       "      <td>PJ</td>\n",
       "      <td>1</td>\n",
       "      <td>NaN</td>\n",
       "    </tr>\n",
       "    <tr>\n",
       "      <th>1</th>\n",
       "      <td>2013</td>\n",
       "      <td>BA</td>\n",
       "      <td>PF</td>\n",
       "      <td>1</td>\n",
       "      <td>NaN</td>\n",
       "    </tr>\n",
       "    <tr>\n",
       "      <th>2</th>\n",
       "      <td>2014</td>\n",
       "      <td>BA</td>\n",
       "      <td>PF</td>\n",
       "      <td>9</td>\n",
       "      <td>NaN</td>\n",
       "    </tr>\n",
       "    <tr>\n",
       "      <th>3</th>\n",
       "      <td>2014</td>\n",
       "      <td>BA</td>\n",
       "      <td>PJ</td>\n",
       "      <td>6</td>\n",
       "      <td>250.000000</td>\n",
       "    </tr>\n",
       "    <tr>\n",
       "      <th>4</th>\n",
       "      <td>2015</td>\n",
       "      <td>AC</td>\n",
       "      <td>PF</td>\n",
       "      <td>1</td>\n",
       "      <td>NaN</td>\n",
       "    </tr>\n",
       "    <tr>\n",
       "      <th>...</th>\n",
       "      <td>...</td>\n",
       "      <td>...</td>\n",
       "      <td>...</td>\n",
       "      <td>...</td>\n",
       "      <td>...</td>\n",
       "    </tr>\n",
       "    <tr>\n",
       "      <th>83</th>\n",
       "      <td>2023</td>\n",
       "      <td>AP</td>\n",
       "      <td>PF</td>\n",
       "      <td>579</td>\n",
       "      <td>-93.478261</td>\n",
       "    </tr>\n",
       "    <tr>\n",
       "      <th>84</th>\n",
       "      <td>2023</td>\n",
       "      <td>AP</td>\n",
       "      <td>PJ</td>\n",
       "      <td>23</td>\n",
       "      <td>NaN</td>\n",
       "    </tr>\n",
       "    <tr>\n",
       "      <th>85</th>\n",
       "      <td>2023</td>\n",
       "      <td>BA</td>\n",
       "      <td>PJ</td>\n",
       "      <td>1</td>\n",
       "      <td>-88.888889</td>\n",
       "    </tr>\n",
       "    <tr>\n",
       "      <th>86</th>\n",
       "      <td>2023</td>\n",
       "      <td>PA</td>\n",
       "      <td>PF</td>\n",
       "      <td>2</td>\n",
       "      <td>0.000000</td>\n",
       "    </tr>\n",
       "    <tr>\n",
       "      <th>87</th>\n",
       "      <td>2023</td>\n",
       "      <td>SP</td>\n",
       "      <td>PF</td>\n",
       "      <td>1</td>\n",
       "      <td>1033.333333</td>\n",
       "    </tr>\n",
       "  </tbody>\n",
       "</table>\n",
       "<p>88 rows × 5 columns</p>\n",
       "</div>"
      ],
      "text/plain": [
       "     Ano SigUF SigTipoConsumidor  NumCPFCNPJ  TaxaCrescimento\n",
       "0   2012    BA                PJ           1              NaN\n",
       "1   2013    BA                PF           1              NaN\n",
       "2   2014    BA                PF           9              NaN\n",
       "3   2014    BA                PJ           6       250.000000\n",
       "4   2015    AC                PF           1              NaN\n",
       "..   ...   ...               ...         ...              ...\n",
       "83  2023    AP                PF         579       -93.478261\n",
       "84  2023    AP                PJ          23              NaN\n",
       "85  2023    BA                PJ           1       -88.888889\n",
       "86  2023    PA                PF           2         0.000000\n",
       "87  2023    SP                PF           1      1033.333333\n",
       "\n",
       "[88 rows x 5 columns]"
      ]
     },
     "execution_count": 421,
     "metadata": {},
     "output_type": "execute_result"
    }
   ],
   "source": [
    "\n",
    "counts2 = pd.DataFrame(df_clean.groupby(['Ano', 'SigUF','SigTipoConsumidor'])['NumCPFCNPJ'].nunique()).reset_index()\n",
    "counts2['TaxaCrescimento'] = counts.groupby(['SigTipoConsumidor', 'Ano'])['NumCPFCNPJ'].pct_change() * 100\n",
    "counts2['TaxaCrescimento'] = counts['TaxaCrescimento'].replace([np.inf, -np.inf], np.nan)\n",
    "\n",
    "counts2"
   ]
  },
  {
   "cell_type": "code",
   "execution_count": null,
   "id": "ce0549ce",
   "metadata": {},
   "outputs": [],
   "source": [
    "\n",
    "\n",
    "\n",
    "\n",
    "\n",
    "\n",
    "\n",
    "\n",
    "\n",
    "\n",
    "\n",
    "\n",
    "\n",
    "\n",
    "\n",
    "\n",
    "\n",
    "\n",
    "\n",
    "\n",
    "\n"
   ]
  },
  {
   "cell_type": "code",
   "execution_count": 171,
   "id": "91012b3c",
   "metadata": {},
   "outputs": [
    {
     "data": {
      "application/vnd.plotly.v1+json": {
       "config": {
        "plotlyServerURL": "https://plot.ly"
       },
       "data": [
        {
         "alignmentgroup": "True",
         "hovertemplate": "DscClasseConsumo=Industrial<br>Ano_Mes=%{x}<br>NumCPFCNPJ=%{y}<extra></extra>",
         "legendgroup": "Industrial",
         "marker": {
          "color": "#636efa",
          "pattern": {
           "shape": ""
          }
         },
         "name": "Industrial",
         "offsetgroup": "Industrial",
         "orientation": "v",
         "showlegend": true,
         "textposition": "auto",
         "type": "bar",
         "x": [
          "2012-02",
          "2014-09",
          "2016-05",
          "2016-07",
          "2016-11",
          "2016-12",
          "2017-01",
          "2017-10",
          "2018-01",
          "2018-02",
          "2018-03",
          "2018-05",
          "2018-06",
          "2018-08",
          "2018-10",
          "2018-10",
          "2018-11",
          "2019-01",
          "2019-02",
          "2019-03",
          "2019-04",
          "2019-07",
          "2019-08",
          "2019-09",
          "2019-10",
          "2019-10",
          "2019-11",
          "2019-12",
          "2020-01",
          "2020-01",
          "2020-02",
          "2020-03",
          "2020-03",
          "2020-04",
          "2020-05",
          "2020-05",
          "2020-06",
          "2020-06",
          "2020-06",
          "2020-08",
          "2020-09",
          "2020-10",
          "2020-10",
          "2020-11",
          "2020-11",
          "2020-11",
          "2020-12",
          "2021-01",
          "2021-02",
          "2021-02",
          "2021-03",
          "2021-04",
          "2021-04",
          "2021-05",
          "2021-05",
          "2021-05",
          "2021-06",
          "2021-06",
          "2021-06",
          "2021-07",
          "2021-07",
          "2021-08",
          "2021-08",
          "2021-09",
          "2021-09",
          "2021-09",
          "2021-10",
          "2021-10",
          "2021-11",
          "2021-12",
          "2021-12",
          "2021-12",
          "2022-01",
          "2022-01",
          "2022-02",
          "2022-02",
          "2022-03",
          "2022-03",
          "2022-03",
          "2022-04",
          "2022-04",
          "2022-05",
          "2022-05",
          "2022-06",
          "2022-06",
          "2022-07",
          "2022-07",
          "2022-08",
          "2022-08",
          "2022-09",
          "2022-09",
          "2022-10",
          "2022-10",
          "2022-11",
          "2022-11",
          "2022-11",
          "2022-12",
          "2022-12",
          "2022-12",
          "2023-01",
          "2023-01",
          "2023-01",
          "2023-02",
          "2023-02",
          "2023-02",
          "2023-03",
          "2023-03"
         ],
         "xaxis": "x",
         "y": [
          1,
          1,
          1,
          1,
          1,
          1,
          1,
          1,
          1,
          1,
          3,
          1,
          1,
          1,
          1,
          1,
          1,
          2,
          1,
          2,
          1,
          1,
          1,
          1,
          1,
          1,
          1,
          2,
          1,
          2,
          3,
          1,
          1,
          1,
          1,
          2,
          1,
          4,
          1,
          1,
          3,
          1,
          1,
          1,
          3,
          2,
          1,
          3,
          2,
          1,
          1,
          1,
          2,
          1,
          4,
          3,
          1,
          2,
          2,
          5,
          1,
          2,
          1,
          1,
          5,
          3,
          1,
          4,
          1,
          1,
          2,
          1,
          1,
          2,
          3,
          1,
          1,
          9,
          4,
          1,
          6,
          7,
          3,
          1,
          2,
          4,
          1,
          3,
          5,
          3,
          3,
          9,
          3,
          2,
          7,
          2,
          1,
          3,
          2,
          4,
          5,
          1,
          1,
          4,
          1,
          6,
          1
         ],
         "yaxis": "y"
        },
        {
         "alignmentgroup": "True",
         "hovertemplate": "DscClasseConsumo=Residencial<br>Ano_Mes=%{x}<br>NumCPFCNPJ=%{y}<extra></extra>",
         "legendgroup": "Residencial",
         "marker": {
          "color": "#EF553B",
          "pattern": {
           "shape": ""
          }
         },
         "name": "Residencial",
         "offsetgroup": "Residencial",
         "orientation": "v",
         "showlegend": true,
         "textposition": "auto",
         "type": "bar",
         "x": [
          "2013-10",
          "2014-02",
          "2014-03",
          "2014-07",
          "2014-10",
          "2014-11",
          "2014-12",
          "2015-01",
          "2015-02",
          "2015-04",
          "2015-05",
          "2015-06",
          "2015-07",
          "2015-07",
          "2015-08",
          "2015-09",
          "2015-10",
          "2015-11",
          "2015-12",
          "2016-01",
          "2016-01",
          "2016-03",
          "2016-03",
          "2016-04",
          "2016-05",
          "2016-06",
          "2016-07",
          "2016-08",
          "2016-08",
          "2016-08",
          "2016-08",
          "2016-09",
          "2016-09",
          "2016-09",
          "2016-10",
          "2016-10",
          "2016-11",
          "2016-11",
          "2016-12",
          "2016-12",
          "2016-12",
          "2017-01",
          "2017-01",
          "2017-02",
          "2017-02",
          "2017-03",
          "2017-03",
          "2017-03",
          "2017-03",
          "2017-04",
          "2017-04",
          "2017-04",
          "2017-05",
          "2017-05",
          "2017-05",
          "2017-06",
          "2017-06",
          "2017-06",
          "2017-06",
          "2017-07",
          "2017-07",
          "2017-07",
          "2017-08",
          "2017-08",
          "2017-08",
          "2017-09",
          "2017-09",
          "2017-09",
          "2017-10",
          "2017-10",
          "2017-10",
          "2017-10",
          "2017-11",
          "2017-11",
          "2017-11",
          "2017-11",
          "2017-12",
          "2017-12",
          "2017-12",
          "2018-01",
          "2018-01",
          "2018-01",
          "2018-01",
          "2018-01",
          "2018-02",
          "2018-02",
          "2018-02",
          "2018-02",
          "2018-02",
          "2018-03",
          "2018-03",
          "2018-03",
          "2018-03",
          "2018-03",
          "2018-04",
          "2018-04",
          "2018-04",
          "2018-04",
          "2018-05",
          "2018-05",
          "2018-05",
          "2018-05",
          "2018-06",
          "2018-06",
          "2018-06",
          "2018-07",
          "2018-07",
          "2018-07",
          "2018-07",
          "2018-08",
          "2018-08",
          "2018-08",
          "2018-08",
          "2018-09",
          "2018-09",
          "2018-09",
          "2018-09",
          "2018-10",
          "2018-10",
          "2018-10",
          "2018-10",
          "2018-11",
          "2018-11",
          "2018-11",
          "2018-11",
          "2018-12",
          "2018-12",
          "2018-12",
          "2018-12",
          "2019-01",
          "2019-01",
          "2019-01",
          "2019-01",
          "2019-02",
          "2019-02",
          "2019-02",
          "2019-02",
          "2019-03",
          "2019-03",
          "2019-03",
          "2019-03",
          "2019-04",
          "2019-04",
          "2019-04",
          "2019-04",
          "2019-05",
          "2019-05",
          "2019-05",
          "2019-05",
          "2019-06",
          "2019-06",
          "2019-06",
          "2019-06",
          "2019-07",
          "2019-07",
          "2019-07",
          "2019-08",
          "2019-08",
          "2019-08",
          "2019-08",
          "2019-09",
          "2019-09",
          "2019-09",
          "2019-09",
          "2019-10",
          "2019-10",
          "2019-10",
          "2019-10",
          "2019-11",
          "2019-11",
          "2019-11",
          "2019-11",
          "2019-11",
          "2019-12",
          "2019-12",
          "2019-12",
          "2019-12",
          "2019-12",
          "2020-01",
          "2020-01",
          "2020-01",
          "2020-01",
          "2020-02",
          "2020-02",
          "2020-02",
          "2020-02",
          "2020-03",
          "2020-03",
          "2020-03",
          "2020-03",
          "2020-04",
          "2020-04",
          "2020-04",
          "2020-05",
          "2020-05",
          "2020-05",
          "2020-06",
          "2020-06",
          "2020-06",
          "2020-07",
          "2020-07",
          "2020-07",
          "2020-07",
          "2020-08",
          "2020-08",
          "2020-08",
          "2020-08",
          "2020-09",
          "2020-09",
          "2020-09",
          "2020-09",
          "2020-10",
          "2020-10",
          "2020-10",
          "2020-10",
          "2020-11",
          "2020-11",
          "2020-11",
          "2020-11",
          "2020-11",
          "2020-12",
          "2020-12",
          "2020-12",
          "2020-12",
          "2021-01",
          "2021-01",
          "2021-01",
          "2021-01",
          "2021-02",
          "2021-02",
          "2021-02",
          "2021-02",
          "2021-03",
          "2021-03",
          "2021-03",
          "2021-03",
          "2021-04",
          "2021-04",
          "2021-04",
          "2021-04",
          "2021-05",
          "2021-05",
          "2021-05",
          "2021-05",
          "2021-06",
          "2021-06",
          "2021-06",
          "2021-06",
          "2021-07",
          "2021-07",
          "2021-07",
          "2021-07",
          "2021-07",
          "2021-08",
          "2021-08",
          "2021-08",
          "2021-08",
          "2021-09",
          "2021-09",
          "2021-09",
          "2021-09",
          "2021-10",
          "2021-10",
          "2021-10",
          "2021-10",
          "2021-11",
          "2021-11",
          "2021-11",
          "2021-11",
          "2021-12",
          "2021-12",
          "2021-12",
          "2021-12",
          "2022-01",
          "2022-01",
          "2022-01",
          "2022-01",
          "2022-02",
          "2022-02",
          "2022-02",
          "2022-02",
          "2022-03",
          "2022-03",
          "2022-03",
          "2022-03",
          "2022-03",
          "2022-04",
          "2022-04",
          "2022-04",
          "2022-04",
          "2022-05",
          "2022-05",
          "2022-05",
          "2022-05",
          "2022-06",
          "2022-06",
          "2022-06",
          "2022-06",
          "2022-07",
          "2022-07",
          "2022-07",
          "2022-07",
          "2022-08",
          "2022-08",
          "2022-08",
          "2022-08",
          "2022-09",
          "2022-09",
          "2022-09",
          "2022-09",
          "2022-10",
          "2022-10",
          "2022-10",
          "2022-10",
          "2022-11",
          "2022-11",
          "2022-11",
          "2022-11",
          "2022-12",
          "2022-12",
          "2022-12",
          "2022-12",
          "2022-12",
          "2023-01",
          "2023-01",
          "2023-01",
          "2023-01",
          "2023-02",
          "2023-02",
          "2023-02",
          "2023-02",
          "2023-03",
          "2023-03",
          "2023-03"
         ],
         "xaxis": "x",
         "y": [
          1,
          1,
          1,
          1,
          1,
          3,
          1,
          2,
          1,
          1,
          3,
          4,
          1,
          4,
          2,
          2,
          4,
          2,
          2,
          2,
          7,
          1,
          7,
          6,
          2,
          7,
          6,
          1,
          1,
          1,
          5,
          3,
          1,
          17,
          1,
          9,
          1,
          4,
          4,
          1,
          7,
          2,
          11,
          3,
          7,
          2,
          4,
          2,
          10,
          1,
          2,
          8,
          7,
          1,
          23,
          1,
          3,
          4,
          16,
          1,
          1,
          16,
          1,
          4,
          23,
          1,
          2,
          16,
          1,
          4,
          2,
          8,
          1,
          2,
          4,
          27,
          5,
          1,
          18,
          2,
          5,
          1,
          1,
          36,
          3,
          2,
          2,
          1,
          23,
          1,
          8,
          10,
          1,
          26,
          13,
          3,
          3,
          13,
          1,
          4,
          4,
          5,
          5,
          3,
          2,
          3,
          4,
          4,
          3,
          3,
          12,
          9,
          2,
          1,
          14,
          6,
          1,
          4,
          20,
          8,
          2,
          1,
          24,
          7,
          5,
          3,
          23,
          11,
          10,
          8,
          33,
          25,
          5,
          3,
          14,
          20,
          8,
          6,
          19,
          11,
          5,
          7,
          38,
          18,
          3,
          3,
          42,
          19,
          3,
          12,
          38,
          13,
          3,
          7,
          38,
          37,
          10,
          23,
          27,
          8,
          4,
          72,
          48,
          10,
          11,
          46,
          43,
          8,
          7,
          42,
          52,
          14,
          2,
          15,
          35,
          62,
          17,
          1,
          14,
          92,
          66,
          10,
          23,
          114,
          58,
          11,
          30,
          98,
          58,
          15,
          16,
          75,
          45,
          45,
          79,
          40,
          20,
          121,
          45,
          37,
          131,
          51,
          1,
          38,
          98,
          58,
          1,
          39,
          145,
          72,
          12,
          32,
          73,
          65,
          28,
          52,
          71,
          77,
          14,
          1,
          67,
          100,
          99,
          24,
          49,
          98,
          72,
          19,
          48,
          112,
          72,
          20,
          51,
          191,
          90,
          22,
          121,
          177,
          96,
          23,
          80,
          200,
          83,
          23,
          96,
          211,
          93,
          23,
          101,
          322,
          75,
          30,
          1,
          92,
          233,
          115,
          43,
          96,
          341,
          134,
          37,
          99,
          259,
          127,
          54,
          157,
          239,
          149,
          81,
          164,
          425,
          178,
          41,
          188,
          436,
          179,
          45,
          174,
          413,
          157,
          82,
          190,
          588,
          199,
          103,
          1,
          156,
          558,
          164,
          40,
          112,
          613,
          149,
          44,
          148,
          587,
          189,
          47,
          104,
          556,
          239,
          56,
          108,
          776,
          209,
          60,
          67,
          508,
          232,
          63,
          88,
          569,
          173,
          68,
          95,
          669,
          269,
          95,
          83,
          843,
          284,
          141,
          1,
          184,
          1062,
          458,
          196,
          126,
          1018,
          286,
          258,
          580,
          21,
          134
         ],
         "yaxis": "y"
        },
        {
         "alignmentgroup": "True",
         "hovertemplate": "DscClasseConsumo=Comercial<br>Ano_Mes=%{x}<br>NumCPFCNPJ=%{y}<extra></extra>",
         "legendgroup": "Comercial",
         "marker": {
          "color": "#00cc96",
          "pattern": {
           "shape": ""
          }
         },
         "name": "Comercial",
         "offsetgroup": "Comercial",
         "orientation": "v",
         "showlegend": true,
         "textposition": "auto",
         "type": "bar",
         "x": [
          "2014-06",
          "2014-07",
          "2014-09",
          "2015-01",
          "2015-03",
          "2015-05",
          "2015-06",
          "2015-06",
          "2015-06",
          "2015-07",
          "2015-07",
          "2015-08",
          "2015-09",
          "2015-12",
          "2015-12",
          "2016-01",
          "2016-02",
          "2016-04",
          "2016-05",
          "2016-06",
          "2016-07",
          "2016-08",
          "2016-09",
          "2016-11",
          "2016-12",
          "2016-12",
          "2017-02",
          "2017-02",
          "2017-03",
          "2017-04",
          "2017-04",
          "2017-04",
          "2017-05",
          "2017-05",
          "2017-05",
          "2017-06",
          "2017-06",
          "2017-06",
          "2017-07",
          "2017-08",
          "2017-08",
          "2017-08",
          "2017-09",
          "2017-09",
          "2017-09",
          "2017-10",
          "2017-10",
          "2017-11",
          "2017-11",
          "2017-12",
          "2017-12",
          "2018-01",
          "2018-01",
          "2018-02",
          "2018-02",
          "2018-02",
          "2018-03",
          "2018-03",
          "2018-03",
          "2018-04",
          "2018-04",
          "2018-05",
          "2018-05",
          "2018-06",
          "2018-06",
          "2018-06",
          "2018-07",
          "2018-07",
          "2018-08",
          "2018-08",
          "2018-09",
          "2018-09",
          "2018-10",
          "2018-10",
          "2018-10",
          "2018-11",
          "2018-11",
          "2018-11",
          "2018-12",
          "2018-12",
          "2018-12",
          "2018-12",
          "2019-01",
          "2019-01",
          "2019-01",
          "2019-01",
          "2019-02",
          "2019-02",
          "2019-02",
          "2019-02",
          "2019-03",
          "2019-03",
          "2019-04",
          "2019-04",
          "2019-04",
          "2019-04",
          "2019-05",
          "2019-05",
          "2019-05",
          "2019-06",
          "2019-06",
          "2019-06",
          "2019-07",
          "2019-07",
          "2019-07",
          "2019-07",
          "2019-08",
          "2019-08",
          "2019-08",
          "2019-08",
          "2019-09",
          "2019-09",
          "2019-09",
          "2019-09",
          "2019-10",
          "2019-10",
          "2019-10",
          "2019-10",
          "2019-11",
          "2019-11",
          "2019-11",
          "2019-11",
          "2019-12",
          "2019-12",
          "2019-12",
          "2019-12",
          "2020-01",
          "2020-01",
          "2020-01",
          "2020-01",
          "2020-02",
          "2020-02",
          "2020-02",
          "2020-02",
          "2020-03",
          "2020-03",
          "2020-03",
          "2020-03",
          "2020-04",
          "2020-04",
          "2020-04",
          "2020-05",
          "2020-05",
          "2020-05",
          "2020-06",
          "2020-06",
          "2020-06",
          "2020-07",
          "2020-07",
          "2020-07",
          "2020-08",
          "2020-08",
          "2020-08",
          "2020-08",
          "2020-09",
          "2020-09",
          "2020-09",
          "2020-10",
          "2020-10",
          "2020-10",
          "2020-10",
          "2020-10",
          "2020-11",
          "2020-11",
          "2020-11",
          "2020-11",
          "2020-12",
          "2020-12",
          "2020-12",
          "2020-12",
          "2021-01",
          "2021-01",
          "2021-01",
          "2021-01",
          "2021-02",
          "2021-02",
          "2021-02",
          "2021-02",
          "2021-02",
          "2021-03",
          "2021-03",
          "2021-03",
          "2021-03",
          "2021-04",
          "2021-04",
          "2021-04",
          "2021-04",
          "2021-05",
          "2021-05",
          "2021-05",
          "2021-05",
          "2021-06",
          "2021-06",
          "2021-06",
          "2021-06",
          "2021-06",
          "2021-07",
          "2021-07",
          "2021-07",
          "2021-07",
          "2021-08",
          "2021-08",
          "2021-08",
          "2021-08",
          "2021-09",
          "2021-09",
          "2021-09",
          "2021-09",
          "2021-10",
          "2021-10",
          "2021-10",
          "2021-10",
          "2021-11",
          "2021-11",
          "2021-11",
          "2021-11",
          "2021-12",
          "2021-12",
          "2021-12",
          "2021-12",
          "2022-01",
          "2022-01",
          "2022-01",
          "2022-01",
          "2022-02",
          "2022-02",
          "2022-02",
          "2022-02",
          "2022-03",
          "2022-03",
          "2022-03",
          "2022-03",
          "2022-04",
          "2022-04",
          "2022-04",
          "2022-04",
          "2022-05",
          "2022-05",
          "2022-05",
          "2022-05",
          "2022-06",
          "2022-06",
          "2022-06",
          "2022-06",
          "2022-07",
          "2022-07",
          "2022-07",
          "2022-07",
          "2022-08",
          "2022-08",
          "2022-08",
          "2022-08",
          "2022-09",
          "2022-09",
          "2022-09",
          "2022-09",
          "2022-10",
          "2022-10",
          "2022-10",
          "2022-10",
          "2022-10",
          "2022-11",
          "2022-11",
          "2022-11",
          "2022-11",
          "2022-12",
          "2022-12",
          "2022-12",
          "2022-12",
          "2023-01",
          "2023-01",
          "2023-01",
          "2023-01",
          "2023-02",
          "2023-02",
          "2023-02",
          "2023-02",
          "2023-03",
          "2023-03",
          "2023-03"
         ],
         "xaxis": "x",
         "y": [
          1,
          4,
          1,
          1,
          1,
          1,
          1,
          1,
          3,
          1,
          1,
          1,
          1,
          1,
          2,
          3,
          2,
          2,
          2,
          1,
          1,
          1,
          4,
          5,
          1,
          2,
          3,
          6,
          3,
          1,
          2,
          7,
          1,
          1,
          3,
          1,
          1,
          8,
          3,
          1,
          1,
          13,
          1,
          2,
          9,
          1,
          8,
          1,
          1,
          1,
          13,
          3,
          8,
          2,
          1,
          8,
          1,
          1,
          8,
          2,
          1,
          1,
          1,
          1,
          3,
          1,
          2,
          1,
          3,
          1,
          5,
          1,
          2,
          3,
          2,
          2,
          6,
          1,
          1,
          6,
          2,
          1,
          3,
          7,
          4,
          1,
          1,
          8,
          1,
          2,
          1,
          6,
          2,
          19,
          1,
          1,
          8,
          5,
          4,
          3,
          16,
          5,
          2,
          9,
          5,
          4,
          2,
          12,
          4,
          2,
          6,
          21,
          8,
          4,
          5,
          18,
          5,
          2,
          3,
          19,
          4,
          2,
          3,
          11,
          4,
          1,
          4,
          37,
          6,
          6,
          10,
          29,
          8,
          5,
          8,
          30,
          8,
          4,
          3,
          29,
          4,
          7,
          14,
          11,
          4,
          32,
          11,
          6,
          44,
          10,
          3,
          17,
          15,
          2,
          8,
          28,
          22,
          7,
          24,
          14,
          2,
          1,
          8,
          21,
          10,
          3,
          6,
          40,
          15,
          6,
          8,
          37,
          17,
          5,
          11,
          29,
          12,
          1,
          1,
          7,
          51,
          19,
          2,
          15,
          53,
          15,
          6,
          15,
          42,
          21,
          5,
          11,
          40,
          25,
          7,
          1,
          19,
          64,
          28,
          4,
          14,
          56,
          34,
          6,
          26,
          67,
          26,
          3,
          18,
          47,
          22,
          7,
          28,
          49,
          22,
          8,
          23,
          94,
          33,
          8,
          20,
          78,
          33,
          6,
          18,
          58,
          35,
          6,
          21,
          81,
          29,
          11,
          17,
          82,
          42,
          6,
          15,
          87,
          34,
          3,
          13,
          60,
          33,
          2,
          23,
          64,
          37,
          11,
          18,
          100,
          39,
          4,
          8,
          102,
          36,
          3,
          12,
          107,
          22,
          2,
          1,
          11,
          99,
          40,
          8,
          16,
          109,
          40,
          2,
          24,
          126,
          52,
          10,
          20,
          107,
          31,
          4,
          69,
          1,
          4
         ],
         "yaxis": "y"
        },
        {
         "alignmentgroup": "True",
         "hovertemplate": "DscClasseConsumo=Rural<br>Ano_Mes=%{x}<br>NumCPFCNPJ=%{y}<extra></extra>",
         "legendgroup": "Rural",
         "marker": {
          "color": "#ab63fa",
          "pattern": {
           "shape": ""
          }
         },
         "name": "Rural",
         "offsetgroup": "Rural",
         "orientation": "v",
         "showlegend": true,
         "textposition": "auto",
         "type": "bar",
         "x": [
          "2015-10",
          "2016-03",
          "2016-04",
          "2016-11",
          "2017-03",
          "2017-05",
          "2017-08",
          "2017-11",
          "2017-12",
          "2018-01",
          "2018-02",
          "2018-03",
          "2018-08",
          "2018-09",
          "2019-01",
          "2019-02",
          "2019-04",
          "2019-04",
          "2019-05",
          "2019-05",
          "2019-07",
          "2019-07",
          "2019-09",
          "2019-09",
          "2019-10",
          "2019-10",
          "2019-11",
          "2019-12",
          "2019-12",
          "2020-01",
          "2020-01",
          "2020-02",
          "2020-02",
          "2020-03",
          "2020-03",
          "2020-03",
          "2020-04",
          "2020-04",
          "2020-05",
          "2020-05",
          "2020-05",
          "2020-06",
          "2020-06",
          "2020-07",
          "2020-07",
          "2020-08",
          "2020-08",
          "2020-09",
          "2020-09",
          "2020-09",
          "2020-10",
          "2020-10",
          "2020-11",
          "2020-11",
          "2020-12",
          "2020-12",
          "2021-01",
          "2021-01",
          "2021-01",
          "2021-02",
          "2021-02",
          "2021-03",
          "2021-03",
          "2021-04",
          "2021-04",
          "2021-04",
          "2021-05",
          "2021-05",
          "2021-05",
          "2021-06",
          "2021-06",
          "2021-06",
          "2021-07",
          "2021-07",
          "2021-07",
          "2021-08",
          "2021-08",
          "2021-09",
          "2021-09",
          "2021-10",
          "2021-10",
          "2021-10",
          "2021-11",
          "2021-11",
          "2021-11",
          "2021-11",
          "2021-12",
          "2021-12",
          "2021-12",
          "2022-01",
          "2022-01",
          "2022-02",
          "2022-02",
          "2022-03",
          "2022-03",
          "2022-03",
          "2022-04",
          "2022-04",
          "2022-04",
          "2022-05",
          "2022-05",
          "2022-06",
          "2022-06",
          "2022-06",
          "2022-06",
          "2022-07",
          "2022-07",
          "2022-07",
          "2022-08",
          "2022-08",
          "2022-08",
          "2022-09",
          "2022-09",
          "2022-09",
          "2022-10",
          "2022-10",
          "2022-10",
          "2022-11",
          "2022-11",
          "2022-12",
          "2022-12",
          "2022-12",
          "2023-01",
          "2023-01",
          "2023-01",
          "2023-02",
          "2023-02",
          "2023-02",
          "2023-03"
         ],
         "xaxis": "x",
         "y": [
          1,
          1,
          1,
          1,
          1,
          1,
          2,
          1,
          1,
          4,
          1,
          2,
          1,
          1,
          1,
          1,
          1,
          1,
          1,
          1,
          1,
          1,
          2,
          1,
          1,
          1,
          2,
          3,
          3,
          2,
          1,
          2,
          1,
          2,
          1,
          1,
          3,
          3,
          1,
          4,
          1,
          1,
          8,
          1,
          4,
          1,
          2,
          1,
          4,
          1,
          2,
          7,
          2,
          4,
          1,
          5,
          1,
          4,
          1,
          4,
          3,
          2,
          9,
          6,
          1,
          2,
          8,
          3,
          3,
          11,
          5,
          2,
          2,
          6,
          1,
          6,
          6,
          1,
          7,
          11,
          10,
          3,
          4,
          6,
          1,
          1,
          8,
          8,
          1,
          12,
          5,
          6,
          16,
          9,
          9,
          1,
          9,
          17,
          2,
          15,
          15,
          8,
          9,
          1,
          1,
          9,
          12,
          2,
          12,
          15,
          2,
          5,
          16,
          3,
          4,
          14,
          3,
          5,
          19,
          5,
          26,
          1,
          13,
          40,
          8,
          7,
          29,
          2,
          16
         ],
         "yaxis": "y"
        },
        {
         "alignmentgroup": "True",
         "hovertemplate": "DscClasseConsumo=Poder Público<br>Ano_Mes=%{x}<br>NumCPFCNPJ=%{y}<extra></extra>",
         "legendgroup": "Poder Público",
         "marker": {
          "color": "#FFA15A",
          "pattern": {
           "shape": ""
          }
         },
         "name": "Poder Público",
         "offsetgroup": "Poder Público",
         "orientation": "v",
         "showlegend": true,
         "textposition": "auto",
         "type": "bar",
         "x": [
          "2016-07",
          "2017-02",
          "2017-04",
          "2017-05",
          "2017-07",
          "2017-08",
          "2017-08",
          "2017-09",
          "2017-12",
          "2018-02",
          "2018-10",
          "2019-01",
          "2019-03",
          "2019-04",
          "2019-05",
          "2019-07",
          "2019-09",
          "2019-11",
          "2019-12",
          "2020-01",
          "2020-01",
          "2020-02",
          "2020-03",
          "2020-04",
          "2020-06",
          "2020-06",
          "2020-07",
          "2020-09",
          "2020-10",
          "2020-11",
          "2020-11",
          "2020-12",
          "2020-12",
          "2021-01",
          "2021-01",
          "2021-02",
          "2021-02",
          "2021-04",
          "2021-04",
          "2021-05",
          "2021-07",
          "2021-08",
          "2021-08",
          "2021-09",
          "2021-10",
          "2021-10",
          "2021-11",
          "2021-11",
          "2021-11",
          "2021-12",
          "2022-01",
          "2022-01",
          "2022-02",
          "2022-04",
          "2022-04",
          "2022-04",
          "2022-05",
          "2022-06",
          "2022-06",
          "2022-07",
          "2022-07",
          "2022-08",
          "2022-08",
          "2022-08",
          "2022-09",
          "2022-09",
          "2022-10",
          "2022-11",
          "2022-11",
          "2022-12",
          "2023-01",
          "2023-02",
          "2023-02",
          "2023-02"
         ],
         "xaxis": "x",
         "y": [
          1,
          1,
          1,
          1,
          1,
          1,
          1,
          1,
          1,
          1,
          1,
          1,
          1,
          1,
          1,
          1,
          1,
          1,
          1,
          2,
          2,
          1,
          2,
          2,
          1,
          1,
          2,
          2,
          2,
          2,
          2,
          9,
          1,
          4,
          1,
          2,
          4,
          2,
          1,
          1,
          1,
          3,
          1,
          2,
          1,
          3,
          1,
          2,
          1,
          1,
          1,
          1,
          1,
          1,
          1,
          1,
          1,
          1,
          2,
          2,
          1,
          1,
          3,
          1,
          2,
          1,
          1,
          1,
          1,
          3,
          1,
          3,
          1,
          1
         ],
         "yaxis": "y"
        },
        {
         "alignmentgroup": "True",
         "hovertemplate": "DscClasseConsumo=Serviço Público<br>Ano_Mes=%{x}<br>NumCPFCNPJ=%{y}<extra></extra>",
         "legendgroup": "Serviço Público",
         "marker": {
          "color": "#19d3f3",
          "pattern": {
           "shape": ""
          }
         },
         "name": "Serviço Público",
         "offsetgroup": "Serviço Público",
         "orientation": "v",
         "showlegend": true,
         "textposition": "auto",
         "type": "bar",
         "x": [
          "2019-01",
          "2020-04",
          "2021-03",
          "2021-06"
         ],
         "xaxis": "x",
         "y": [
          1,
          1,
          1,
          1
         ],
         "yaxis": "y"
        }
       ],
       "layout": {
        "barmode": "relative",
        "height": 600,
        "legend": {
         "title": {
          "text": "DscClasseConsumo"
         },
         "tracegroupgap": 0
        },
        "margin": {
         "t": 130
        },
        "template": {
         "data": {
          "bar": [
           {
            "error_x": {
             "color": "#2a3f5f"
            },
            "error_y": {
             "color": "#2a3f5f"
            },
            "marker": {
             "line": {
              "color": "#E5ECF6",
              "width": 0.5
             },
             "pattern": {
              "fillmode": "overlay",
              "size": 10,
              "solidity": 0.2
             }
            },
            "type": "bar"
           }
          ],
          "barpolar": [
           {
            "marker": {
             "line": {
              "color": "#E5ECF6",
              "width": 0.5
             },
             "pattern": {
              "fillmode": "overlay",
              "size": 10,
              "solidity": 0.2
             }
            },
            "type": "barpolar"
           }
          ],
          "carpet": [
           {
            "aaxis": {
             "endlinecolor": "#2a3f5f",
             "gridcolor": "white",
             "linecolor": "white",
             "minorgridcolor": "white",
             "startlinecolor": "#2a3f5f"
            },
            "baxis": {
             "endlinecolor": "#2a3f5f",
             "gridcolor": "white",
             "linecolor": "white",
             "minorgridcolor": "white",
             "startlinecolor": "#2a3f5f"
            },
            "type": "carpet"
           }
          ],
          "choropleth": [
           {
            "colorbar": {
             "outlinewidth": 0,
             "ticks": ""
            },
            "type": "choropleth"
           }
          ],
          "contour": [
           {
            "colorbar": {
             "outlinewidth": 0,
             "ticks": ""
            },
            "colorscale": [
             [
              0,
              "#0d0887"
             ],
             [
              0.1111111111111111,
              "#46039f"
             ],
             [
              0.2222222222222222,
              "#7201a8"
             ],
             [
              0.3333333333333333,
              "#9c179e"
             ],
             [
              0.4444444444444444,
              "#bd3786"
             ],
             [
              0.5555555555555556,
              "#d8576b"
             ],
             [
              0.6666666666666666,
              "#ed7953"
             ],
             [
              0.7777777777777778,
              "#fb9f3a"
             ],
             [
              0.8888888888888888,
              "#fdca26"
             ],
             [
              1,
              "#f0f921"
             ]
            ],
            "type": "contour"
           }
          ],
          "contourcarpet": [
           {
            "colorbar": {
             "outlinewidth": 0,
             "ticks": ""
            },
            "type": "contourcarpet"
           }
          ],
          "heatmap": [
           {
            "colorbar": {
             "outlinewidth": 0,
             "ticks": ""
            },
            "colorscale": [
             [
              0,
              "#0d0887"
             ],
             [
              0.1111111111111111,
              "#46039f"
             ],
             [
              0.2222222222222222,
              "#7201a8"
             ],
             [
              0.3333333333333333,
              "#9c179e"
             ],
             [
              0.4444444444444444,
              "#bd3786"
             ],
             [
              0.5555555555555556,
              "#d8576b"
             ],
             [
              0.6666666666666666,
              "#ed7953"
             ],
             [
              0.7777777777777778,
              "#fb9f3a"
             ],
             [
              0.8888888888888888,
              "#fdca26"
             ],
             [
              1,
              "#f0f921"
             ]
            ],
            "type": "heatmap"
           }
          ],
          "heatmapgl": [
           {
            "colorbar": {
             "outlinewidth": 0,
             "ticks": ""
            },
            "colorscale": [
             [
              0,
              "#0d0887"
             ],
             [
              0.1111111111111111,
              "#46039f"
             ],
             [
              0.2222222222222222,
              "#7201a8"
             ],
             [
              0.3333333333333333,
              "#9c179e"
             ],
             [
              0.4444444444444444,
              "#bd3786"
             ],
             [
              0.5555555555555556,
              "#d8576b"
             ],
             [
              0.6666666666666666,
              "#ed7953"
             ],
             [
              0.7777777777777778,
              "#fb9f3a"
             ],
             [
              0.8888888888888888,
              "#fdca26"
             ],
             [
              1,
              "#f0f921"
             ]
            ],
            "type": "heatmapgl"
           }
          ],
          "histogram": [
           {
            "marker": {
             "pattern": {
              "fillmode": "overlay",
              "size": 10,
              "solidity": 0.2
             }
            },
            "type": "histogram"
           }
          ],
          "histogram2d": [
           {
            "colorbar": {
             "outlinewidth": 0,
             "ticks": ""
            },
            "colorscale": [
             [
              0,
              "#0d0887"
             ],
             [
              0.1111111111111111,
              "#46039f"
             ],
             [
              0.2222222222222222,
              "#7201a8"
             ],
             [
              0.3333333333333333,
              "#9c179e"
             ],
             [
              0.4444444444444444,
              "#bd3786"
             ],
             [
              0.5555555555555556,
              "#d8576b"
             ],
             [
              0.6666666666666666,
              "#ed7953"
             ],
             [
              0.7777777777777778,
              "#fb9f3a"
             ],
             [
              0.8888888888888888,
              "#fdca26"
             ],
             [
              1,
              "#f0f921"
             ]
            ],
            "type": "histogram2d"
           }
          ],
          "histogram2dcontour": [
           {
            "colorbar": {
             "outlinewidth": 0,
             "ticks": ""
            },
            "colorscale": [
             [
              0,
              "#0d0887"
             ],
             [
              0.1111111111111111,
              "#46039f"
             ],
             [
              0.2222222222222222,
              "#7201a8"
             ],
             [
              0.3333333333333333,
              "#9c179e"
             ],
             [
              0.4444444444444444,
              "#bd3786"
             ],
             [
              0.5555555555555556,
              "#d8576b"
             ],
             [
              0.6666666666666666,
              "#ed7953"
             ],
             [
              0.7777777777777778,
              "#fb9f3a"
             ],
             [
              0.8888888888888888,
              "#fdca26"
             ],
             [
              1,
              "#f0f921"
             ]
            ],
            "type": "histogram2dcontour"
           }
          ],
          "mesh3d": [
           {
            "colorbar": {
             "outlinewidth": 0,
             "ticks": ""
            },
            "type": "mesh3d"
           }
          ],
          "parcoords": [
           {
            "line": {
             "colorbar": {
              "outlinewidth": 0,
              "ticks": ""
             }
            },
            "type": "parcoords"
           }
          ],
          "pie": [
           {
            "automargin": true,
            "type": "pie"
           }
          ],
          "scatter": [
           {
            "fillpattern": {
             "fillmode": "overlay",
             "size": 10,
             "solidity": 0.2
            },
            "type": "scatter"
           }
          ],
          "scatter3d": [
           {
            "line": {
             "colorbar": {
              "outlinewidth": 0,
              "ticks": ""
             }
            },
            "marker": {
             "colorbar": {
              "outlinewidth": 0,
              "ticks": ""
             }
            },
            "type": "scatter3d"
           }
          ],
          "scattercarpet": [
           {
            "marker": {
             "colorbar": {
              "outlinewidth": 0,
              "ticks": ""
             }
            },
            "type": "scattercarpet"
           }
          ],
          "scattergeo": [
           {
            "marker": {
             "colorbar": {
              "outlinewidth": 0,
              "ticks": ""
             }
            },
            "type": "scattergeo"
           }
          ],
          "scattergl": [
           {
            "marker": {
             "colorbar": {
              "outlinewidth": 0,
              "ticks": ""
             }
            },
            "type": "scattergl"
           }
          ],
          "scattermapbox": [
           {
            "marker": {
             "colorbar": {
              "outlinewidth": 0,
              "ticks": ""
             }
            },
            "type": "scattermapbox"
           }
          ],
          "scatterpolar": [
           {
            "marker": {
             "colorbar": {
              "outlinewidth": 0,
              "ticks": ""
             }
            },
            "type": "scatterpolar"
           }
          ],
          "scatterpolargl": [
           {
            "marker": {
             "colorbar": {
              "outlinewidth": 0,
              "ticks": ""
             }
            },
            "type": "scatterpolargl"
           }
          ],
          "scatterternary": [
           {
            "marker": {
             "colorbar": {
              "outlinewidth": 0,
              "ticks": ""
             }
            },
            "type": "scatterternary"
           }
          ],
          "surface": [
           {
            "colorbar": {
             "outlinewidth": 0,
             "ticks": ""
            },
            "colorscale": [
             [
              0,
              "#0d0887"
             ],
             [
              0.1111111111111111,
              "#46039f"
             ],
             [
              0.2222222222222222,
              "#7201a8"
             ],
             [
              0.3333333333333333,
              "#9c179e"
             ],
             [
              0.4444444444444444,
              "#bd3786"
             ],
             [
              0.5555555555555556,
              "#d8576b"
             ],
             [
              0.6666666666666666,
              "#ed7953"
             ],
             [
              0.7777777777777778,
              "#fb9f3a"
             ],
             [
              0.8888888888888888,
              "#fdca26"
             ],
             [
              1,
              "#f0f921"
             ]
            ],
            "type": "surface"
           }
          ],
          "table": [
           {
            "cells": {
             "fill": {
              "color": "#EBF0F8"
             },
             "line": {
              "color": "white"
             }
            },
            "header": {
             "fill": {
              "color": "#C8D4E3"
             },
             "line": {
              "color": "white"
             }
            },
            "type": "table"
           }
          ]
         },
         "layout": {
          "annotationdefaults": {
           "arrowcolor": "#2a3f5f",
           "arrowhead": 0,
           "arrowwidth": 1
          },
          "autotypenumbers": "strict",
          "coloraxis": {
           "colorbar": {
            "outlinewidth": 0,
            "ticks": ""
           }
          },
          "colorscale": {
           "diverging": [
            [
             0,
             "#8e0152"
            ],
            [
             0.1,
             "#c51b7d"
            ],
            [
             0.2,
             "#de77ae"
            ],
            [
             0.3,
             "#f1b6da"
            ],
            [
             0.4,
             "#fde0ef"
            ],
            [
             0.5,
             "#f7f7f7"
            ],
            [
             0.6,
             "#e6f5d0"
            ],
            [
             0.7,
             "#b8e186"
            ],
            [
             0.8,
             "#7fbc41"
            ],
            [
             0.9,
             "#4d9221"
            ],
            [
             1,
             "#276419"
            ]
           ],
           "sequential": [
            [
             0,
             "#0d0887"
            ],
            [
             0.1111111111111111,
             "#46039f"
            ],
            [
             0.2222222222222222,
             "#7201a8"
            ],
            [
             0.3333333333333333,
             "#9c179e"
            ],
            [
             0.4444444444444444,
             "#bd3786"
            ],
            [
             0.5555555555555556,
             "#d8576b"
            ],
            [
             0.6666666666666666,
             "#ed7953"
            ],
            [
             0.7777777777777778,
             "#fb9f3a"
            ],
            [
             0.8888888888888888,
             "#fdca26"
            ],
            [
             1,
             "#f0f921"
            ]
           ],
           "sequentialminus": [
            [
             0,
             "#0d0887"
            ],
            [
             0.1111111111111111,
             "#46039f"
            ],
            [
             0.2222222222222222,
             "#7201a8"
            ],
            [
             0.3333333333333333,
             "#9c179e"
            ],
            [
             0.4444444444444444,
             "#bd3786"
            ],
            [
             0.5555555555555556,
             "#d8576b"
            ],
            [
             0.6666666666666666,
             "#ed7953"
            ],
            [
             0.7777777777777778,
             "#fb9f3a"
            ],
            [
             0.8888888888888888,
             "#fdca26"
            ],
            [
             1,
             "#f0f921"
            ]
           ]
          },
          "colorway": [
           "#636efa",
           "#EF553B",
           "#00cc96",
           "#ab63fa",
           "#FFA15A",
           "#19d3f3",
           "#FF6692",
           "#B6E880",
           "#FF97FF",
           "#FECB52"
          ],
          "font": {
           "color": "#2a3f5f"
          },
          "geo": {
           "bgcolor": "white",
           "lakecolor": "white",
           "landcolor": "#E5ECF6",
           "showlakes": true,
           "showland": true,
           "subunitcolor": "white"
          },
          "hoverlabel": {
           "align": "left"
          },
          "hovermode": "closest",
          "mapbox": {
           "style": "light"
          },
          "paper_bgcolor": "white",
          "plot_bgcolor": "#E5ECF6",
          "polar": {
           "angularaxis": {
            "gridcolor": "white",
            "linecolor": "white",
            "ticks": ""
           },
           "bgcolor": "#E5ECF6",
           "radialaxis": {
            "gridcolor": "white",
            "linecolor": "white",
            "ticks": ""
           }
          },
          "scene": {
           "xaxis": {
            "backgroundcolor": "#E5ECF6",
            "gridcolor": "white",
            "gridwidth": 2,
            "linecolor": "white",
            "showbackground": true,
            "ticks": "",
            "zerolinecolor": "white"
           },
           "yaxis": {
            "backgroundcolor": "#E5ECF6",
            "gridcolor": "white",
            "gridwidth": 2,
            "linecolor": "white",
            "showbackground": true,
            "ticks": "",
            "zerolinecolor": "white"
           },
           "zaxis": {
            "backgroundcolor": "#E5ECF6",
            "gridcolor": "white",
            "gridwidth": 2,
            "linecolor": "white",
            "showbackground": true,
            "ticks": "",
            "zerolinecolor": "white"
           }
          },
          "shapedefaults": {
           "line": {
            "color": "#2a3f5f"
           }
          },
          "ternary": {
           "aaxis": {
            "gridcolor": "white",
            "linecolor": "white",
            "ticks": ""
           },
           "baxis": {
            "gridcolor": "white",
            "linecolor": "white",
            "ticks": ""
           },
           "bgcolor": "#E5ECF6",
           "caxis": {
            "gridcolor": "white",
            "linecolor": "white",
            "ticks": ""
           }
          },
          "title": {
           "x": 0.05
          },
          "xaxis": {
           "automargin": true,
           "gridcolor": "white",
           "linecolor": "white",
           "ticks": "",
           "title": {
            "standoff": 15
           },
           "zerolinecolor": "white",
           "zerolinewidth": 2
          },
          "yaxis": {
           "automargin": true,
           "gridcolor": "white",
           "linecolor": "white",
           "ticks": "",
           "title": {
            "standoff": 15
           },
           "zerolinecolor": "white",
           "zerolinewidth": 2
          }
         }
        },
        "title": {
         "font": {
          "size": 20
         },
         "text": "Novos usuários da Energia distribuida",
         "x": 0.5
        },
        "width": 1200,
        "xaxis": {
         "anchor": "y",
         "domain": [
          0,
          1
         ],
         "tickfont": {
          "size": 14
         },
         "title": {
          "font": {
           "size": 16
          },
          "text": "Ano_Mes"
         }
        },
        "yaxis": {
         "anchor": "x",
         "domain": [
          0,
          1
         ],
         "range": [
          0,
          6000
         ],
         "tickfont": {
          "size": 14
         },
         "title": {
          "font": {
           "size": 16
          },
          "text": "NumCPFCNPJ"
         }
        }
       }
      }
     },
     "metadata": {},
     "output_type": "display_data"
    }
   ],
   "source": [
    "# O gráfico 1 mostra a evolução temporal do Total Mensal de Empreendimentos por Estado e por Classe de Consumo;\n",
    "\n",
    "    # OBS1: estados com menos de 10 empreendimentos foram excluídos do gráfico;\n",
    "    # OBS2: os dados de 2023 representam um corte até hoje\n",
    "\n",
    "\n",
    "df['Mes'] = pd.DatetimeIndex(df['DthAtualizaCadastralEmpreend']).month\n",
    "df['Ano'] = pd.DatetimeIndex(df['DthAtualizaCadastralEmpreend']).year\n",
    "df['Ano_Mes'] = pd.to_datetime(df['DthAtualizaCadastralEmpreend']).dt.strftime('%Y-%m')\n",
    "\n",
    "# exclui nulos\n",
    "df_clean = df.dropna(subset=['NumCPFCNPJ']).copy()\n",
    "\n",
    "# filtra SigUFs \n",
    "df_clean = df_clean[df_clean['SigUF'].isin(['BA', 'AL', 'AC', 'AM', 'AP'])]\n",
    "\n",
    "# agrupa os dados\n",
    "counts = df_clean.groupby(['Ano_Mes', 'SigUF', 'DscClasseConsumo']).agg({'NumCPFCNPJ': 'nunique'}).reset_index()\n",
    "\n",
    "# Cria uma lista com as opções de SigUF para dropdown\n",
    "sigufs = df_clean['SigUF'].unique()\n",
    "\n",
    "# cria o gráfico de áreas empilhadas\n",
    "\n",
    "fig_3 = px.bar(counts, x=\"Ano_Mes\", y=\"NumCPFCNPJ\", color=\"DscClasseConsumo\", title=\"Novos usuários da rede distribuida\")\n",
    "\n",
    "# estilo do grafico\n",
    "fig_3.update_layout(\n",
    "    width=1200,\n",
    "    height=600,\n",
    "    xaxis_title='Ano_Mes',\n",
    "    xaxis_title_font_size=16,\n",
    "    xaxis_tickfont_size=14,\n",
    "    yaxis_title='NumCPFCNPJ',\n",
    "    yaxis_title_font_size=16,\n",
    "    yaxis_tickfont_size=14,\n",
    "    title='Novos usuários da Energia distribuida',\n",
    "    title_font_size=20,\n",
    "    title_x=.5,\n",
    "    margin=dict(t=130)\n",
    ")\n",
    "\n",
    "\n",
    "fig_3.update_yaxes(range=[0, 6000])"
   ]
  },
  {
   "cell_type": "code",
   "execution_count": null,
   "id": "d72d06ad",
   "metadata": {},
   "outputs": [],
   "source": []
  },
  {
   "cell_type": "code",
   "execution_count": null,
   "id": "723c4cce",
   "metadata": {},
   "outputs": [],
   "source": [
    "\n",
    "\n",
    "\n",
    "\n",
    "\n",
    "\n",
    "\n",
    "\n",
    "\n",
    "\n",
    "\n",
    "\n",
    "\n",
    "\n",
    "\n",
    "\n",
    "\n",
    "\n",
    "\n",
    "\n",
    "\n",
    "\n",
    "\n",
    "\n",
    "\n",
    "\n",
    "\n",
    "\n",
    "\n",
    "\n",
    "\n",
    "\n",
    "\n",
    "\n",
    "\n",
    "\n",
    "\n",
    "\n",
    "\n",
    "\n",
    "\n",
    "\n",
    "\n"
   ]
  },
  {
   "cell_type": "code",
   "execution_count": 1,
   "id": "4ce5c6e7",
   "metadata": {},
   "outputs": [
    {
     "ename": "NameError",
     "evalue": "name 'pd' is not defined",
     "output_type": "error",
     "traceback": [
      "\u001b[1;31m---------------------------------------------------------------------------\u001b[0m",
      "\u001b[1;31mNameError\u001b[0m                                 Traceback (most recent call last)",
      "Cell \u001b[1;32mIn[1], line 1\u001b[0m\n\u001b[1;32m----> 1\u001b[0m df[\u001b[39m'\u001b[39m\u001b[39mMes\u001b[39m\u001b[39m'\u001b[39m] \u001b[39m=\u001b[39m pd\u001b[39m.\u001b[39mDatetimeIndex(df[\u001b[39m'\u001b[39m\u001b[39mDthAtualizaCadastralEmpreend\u001b[39m\u001b[39m'\u001b[39m])\u001b[39m.\u001b[39mmonth\n\u001b[0;32m      2\u001b[0m df[\u001b[39m'\u001b[39m\u001b[39mAno\u001b[39m\u001b[39m'\u001b[39m] \u001b[39m=\u001b[39m pd\u001b[39m.\u001b[39mDatetimeIndex(df[\u001b[39m'\u001b[39m\u001b[39mDthAtualizaCadastralEmpreend\u001b[39m\u001b[39m'\u001b[39m])\u001b[39m.\u001b[39myear\n\u001b[0;32m      3\u001b[0m df[\u001b[39m'\u001b[39m\u001b[39mAno_Mes\u001b[39m\u001b[39m'\u001b[39m] \u001b[39m=\u001b[39m pd\u001b[39m.\u001b[39mto_datetime(df[\u001b[39m'\u001b[39m\u001b[39mDthAtualizaCadastralEmpreend\u001b[39m\u001b[39m'\u001b[39m])\u001b[39m.\u001b[39mdt\u001b[39m.\u001b[39mstrftime(\u001b[39m'\u001b[39m\u001b[39m%\u001b[39m\u001b[39mY-\u001b[39m\u001b[39m%\u001b[39m\u001b[39mm\u001b[39m\u001b[39m'\u001b[39m)\n",
      "\u001b[1;31mNameError\u001b[0m: name 'pd' is not defined"
     ]
    }
   ],
   "source": [
    "#___________________________________________________Gráfico 2__________________________________________________#\n",
    "\n",
    "df['Mes'] = pd.DatetimeIndex(df['DthAtualizaCadastralEmpreend']).month\n",
    "df['Ano'] = pd.DatetimeIndex(df['DthAtualizaCadastralEmpreend']).year\n",
    "df['Ano_Mes'] = pd.to_datetime(df['DthAtualizaCadastralEmpreend']).dt.strftime('%Y-%m')\n",
    "\n",
    "# cria uma cópia do DataFrame sem valores nulos de NumCPFCNPJ\n",
    "df_clean = df.dropna(subset=['NumCPFCNPJ']).copy()\n",
    "\n",
    "# filtra apenas as SigUFs desejadas\n",
    "df_clean = df_clean[df_clean['SigUF'].isin(['BA', 'AL', 'AC', 'AM', 'AP'])]\n",
    "\n",
    "# agrupa os dados por ano, mês, SigUF e DscClasseConsumo\n",
    "counts = df_clean.groupby(['Ano_Mes', 'SigUF', 'DscClasseConsumo']).agg({'NumCPFCNPJ': 'nunique'}).reset_index()\n",
    "\n",
    "# Cria uma lista com as opções de SigUF\n",
    "sigufs = df_clean['SigUF'].unique()\n",
    "\n",
    "# cria o gráfico de áreas empilhadas animado\n",
    "\n",
    "fig_3 = px.bar(counts, x=\"Ano_Mes\", y=\"NumCPFCNPJ\", color=\"DscClasseConsumo\", title=\"Novos usuários da Energia distribuida\")\n",
    "\n",
    "fig_3.update_layout(\n",
    "    width=1200,\n",
    "    height=600,\n",
    "    xaxis_title='Ano_Mes',\n",
    "    xaxis_title_font_size=16,\n",
    "    xaxis_tickfont_size=14,\n",
    "    yaxis_title='NumCPFCNPJ',\n",
    "    yaxis_title_font_size=16,\n",
    "    yaxis_tickfont_size=14,\n",
    "    title='Novos usuários da Energia distribuida',\n",
    "    title_font_size=20,\n",
    "    title_x=.5,\n",
    "    margin=dict(t=130)\n",
    ")\n",
    "\n",
    "# Define a faixa de valores do eixo y de acordo com os dados do gráfico\n",
    "fig_3.update_yaxes(range=[0, 7000])"
   ]
  },
  {
   "cell_type": "code",
   "execution_count": null,
   "id": "3640f6dd",
   "metadata": {},
   "outputs": [],
   "source": [
    "\n",
    "\n",
    "\n",
    "\n",
    "\n",
    "\n",
    "\n",
    "\n",
    "\n",
    "\n",
    "\n",
    "\n",
    "\n",
    "\n",
    "\n",
    "\n",
    "\n",
    "\n",
    "\n",
    "\n",
    "\n",
    "\n",
    "\n",
    "\n",
    "\n",
    "\n",
    "\n",
    "\n",
    "\n",
    "\n",
    "\n",
    "\n",
    "\n",
    "\n",
    "\n",
    "\n",
    "\n",
    "\n",
    "\n",
    "\n",
    "\n",
    "\n",
    "\n",
    "\n",
    "\n",
    "\n",
    "\n",
    "\n",
    "\n"
   ]
  },
  {
   "cell_type": "code",
   "execution_count": 504,
   "id": "e5d8f2a1",
   "metadata": {},
   "outputs": [
    {
     "data": {
      "text/html": [
       "<div>\n",
       "<style scoped>\n",
       "    .dataframe tbody tr th:only-of-type {\n",
       "        vertical-align: middle;\n",
       "    }\n",
       "\n",
       "    .dataframe tbody tr th {\n",
       "        vertical-align: top;\n",
       "    }\n",
       "\n",
       "    .dataframe thead th {\n",
       "        text-align: right;\n",
       "    }\n",
       "</style>\n",
       "<table border=\"1\" class=\"dataframe\">\n",
       "  <thead>\n",
       "    <tr style=\"text-align: right;\">\n",
       "      <th>Ano</th>\n",
       "      <th>2012</th>\n",
       "      <th>2013</th>\n",
       "      <th>2014</th>\n",
       "      <th>2015</th>\n",
       "      <th>2016</th>\n",
       "      <th>2017</th>\n",
       "      <th>2018</th>\n",
       "      <th>2019</th>\n",
       "      <th>2020</th>\n",
       "      <th>2021</th>\n",
       "      <th>2022</th>\n",
       "      <th>2023</th>\n",
       "      <th>Total</th>\n",
       "    </tr>\n",
       "    <tr>\n",
       "      <th>SigUF</th>\n",
       "      <th></th>\n",
       "      <th></th>\n",
       "      <th></th>\n",
       "      <th></th>\n",
       "      <th></th>\n",
       "      <th></th>\n",
       "      <th></th>\n",
       "      <th></th>\n",
       "      <th></th>\n",
       "      <th></th>\n",
       "      <th></th>\n",
       "      <th></th>\n",
       "      <th></th>\n",
       "    </tr>\n",
       "  </thead>\n",
       "  <tbody>\n",
       "    <tr>\n",
       "      <th>AC</th>\n",
       "      <td>0.0</td>\n",
       "      <td>0.0</td>\n",
       "      <td>0.0</td>\n",
       "      <td>3.0</td>\n",
       "      <td>1.0</td>\n",
       "      <td>16.0</td>\n",
       "      <td>31.0</td>\n",
       "      <td>132.0</td>\n",
       "      <td>504.0</td>\n",
       "      <td>1409.0</td>\n",
       "      <td>1792.0</td>\n",
       "      <td>375.0</td>\n",
       "      <td>4263.0</td>\n",
       "    </tr>\n",
       "    <tr>\n",
       "      <th>AL</th>\n",
       "      <td>0.0</td>\n",
       "      <td>0.0</td>\n",
       "      <td>0.0</td>\n",
       "      <td>4.0</td>\n",
       "      <td>14.0</td>\n",
       "      <td>46.0</td>\n",
       "      <td>175.0</td>\n",
       "      <td>617.0</td>\n",
       "      <td>1613.0</td>\n",
       "      <td>3497.0</td>\n",
       "      <td>8152.0</td>\n",
       "      <td>2918.0</td>\n",
       "      <td>17036.0</td>\n",
       "    </tr>\n",
       "    <tr>\n",
       "      <th>AM</th>\n",
       "      <td>0.0</td>\n",
       "      <td>0.0</td>\n",
       "      <td>0.0</td>\n",
       "      <td>2.0</td>\n",
       "      <td>5.0</td>\n",
       "      <td>20.0</td>\n",
       "      <td>81.0</td>\n",
       "      <td>428.0</td>\n",
       "      <td>880.0</td>\n",
       "      <td>1582.0</td>\n",
       "      <td>2855.0</td>\n",
       "      <td>863.0</td>\n",
       "      <td>6716.0</td>\n",
       "    </tr>\n",
       "    <tr>\n",
       "      <th>AP</th>\n",
       "      <td>0.0</td>\n",
       "      <td>0.0</td>\n",
       "      <td>0.0</td>\n",
       "      <td>0.0</td>\n",
       "      <td>0.0</td>\n",
       "      <td>2.0</td>\n",
       "      <td>36.0</td>\n",
       "      <td>108.0</td>\n",
       "      <td>145.0</td>\n",
       "      <td>477.0</td>\n",
       "      <td>908.0</td>\n",
       "      <td>587.0</td>\n",
       "      <td>2263.0</td>\n",
       "    </tr>\n",
       "    <tr>\n",
       "      <th>BA</th>\n",
       "      <td>1.0</td>\n",
       "      <td>1.0</td>\n",
       "      <td>15.0</td>\n",
       "      <td>35.0</td>\n",
       "      <td>106.0</td>\n",
       "      <td>269.0</td>\n",
       "      <td>263.0</td>\n",
       "      <td>4.0</td>\n",
       "      <td>4.0</td>\n",
       "      <td>4.0</td>\n",
       "      <td>7.0</td>\n",
       "      <td>2.0</td>\n",
       "      <td>711.0</td>\n",
       "    </tr>\n",
       "  </tbody>\n",
       "</table>\n",
       "</div>"
      ],
      "text/plain": [
       "Ano    2012  2013  2014  2015   2016   2017   2018   2019    2020    2021  \\\n",
       "SigUF                                                                       \n",
       "AC      0.0   0.0   0.0   3.0    1.0   16.0   31.0  132.0   504.0  1409.0   \n",
       "AL      0.0   0.0   0.0   4.0   14.0   46.0  175.0  617.0  1613.0  3497.0   \n",
       "AM      0.0   0.0   0.0   2.0    5.0   20.0   81.0  428.0   880.0  1582.0   \n",
       "AP      0.0   0.0   0.0   0.0    0.0    2.0   36.0  108.0   145.0   477.0   \n",
       "BA      1.0   1.0  15.0  35.0  106.0  269.0  263.0    4.0     4.0     4.0   \n",
       "\n",
       "Ano      2022    2023    Total  \n",
       "SigUF                           \n",
       "AC     1792.0   375.0   4263.0  \n",
       "AL     8152.0  2918.0  17036.0  \n",
       "AM     2855.0   863.0   6716.0  \n",
       "AP      908.0   587.0   2263.0  \n",
       "BA        7.0     2.0    711.0  "
      ]
     },
     "execution_count": 504,
     "metadata": {},
     "output_type": "execute_result"
    }
   ],
   "source": [
    "\n",
    "##___________MATRIZES_____________##\n",
    "\n",
    "df['Mes'] = pd.DatetimeIndex(df['DthAtualizaCadastralEmpreend']).month\n",
    "df['Ano'] = pd.DatetimeIndex(df['DthAtualizaCadastralEmpreend']).year\n",
    "\n",
    "counts = df_clean.groupby(['Ano', 'SigUF', 'DscClasseConsumo']).agg({'NumCPFCNPJ': 'nunique'}).reset_index()\n",
    "tabela = counts.groupby(['Ano', 'SigUF'])['NumCPFCNPJ'].sum().reset_index()\n",
    "matriz = tabela.pivot(index='SigUF', columns='Ano', values='NumCPFCNPJ')\n",
    "\n",
    "matriz['Total'] = matriz.sum(axis=1)\n",
    "matriz = matriz.fillna(0)\n",
    "\n",
    "matriz_tx = matriz.iloc[:, :-1].pct_change(axis=1) * 100\n",
    "matriz_tx= matriz.applymap(lambda x: '{:.0f}%'.format(x) if not np.isinf(x) else '∞')\n",
    "\n",
    "matriz\n",
    "\n"
   ]
  },
  {
   "cell_type": "code",
   "execution_count": 353,
   "id": "95c9740e",
   "metadata": {},
   "outputs": [
    {
     "data": {
      "application/vnd.plotly.v1+json": {
       "config": {
        "plotlyServerURL": "https://plot.ly"
       },
       "data": [
        {
         "colorscale": [
          [
           0,
           "rgb(255,255,217)"
          ],
          [
           0.125,
           "rgb(237,248,177)"
          ],
          [
           0.25,
           "rgb(199,233,180)"
          ],
          [
           0.375,
           "rgb(127,205,187)"
          ],
          [
           0.5,
           "rgb(65,182,196)"
          ],
          [
           0.625,
           "rgb(29,145,192)"
          ],
          [
           0.75,
           "rgb(34,94,168)"
          ],
          [
           0.875,
           "rgb(37,52,148)"
          ],
          [
           1,
           "rgb(8,29,88)"
          ]
         ],
         "reversescale": false,
         "showscale": false,
         "type": "heatmap",
         "x": [
          2012,
          2013,
          2014,
          2015,
          2016,
          2017,
          2018,
          2019,
          2020,
          2021,
          2022,
          2023
         ],
         "y": [
          "AC",
          "AL",
          "AM",
          "AP",
          "BA",
          "BR"
         ],
         "z": [
          [
           0,
           0,
           0,
           3,
           1,
           16,
           31,
           132,
           504,
           1409,
           1792,
           375
          ],
          [
           0,
           0,
           0,
           4,
           14,
           46,
           175,
           617,
           1613,
           3497,
           8152,
           2918
          ],
          [
           0,
           0,
           0,
           2,
           5,
           20,
           81,
           428,
           880,
           1582,
           2855,
           863
          ],
          [
           0,
           0,
           0,
           0,
           0,
           2,
           36,
           108,
           145,
           477,
           908,
           587
          ],
          [
           1,
           1,
           15,
           35,
           106,
           269,
           263,
           4,
           4,
           4,
           7,
           2
          ],
          [
           1,
           1,
           15,
           44,
           126,
           353,
           586,
           1289,
           3146,
           6969,
           13714,
           4745
          ]
         ]
        }
       ],
       "layout": {
        "annotations": [
         {
          "font": {
           "color": "gray"
          },
          "showarrow": false,
          "text": "0.0",
          "x": 2012,
          "xref": "x",
          "y": "AC",
          "yref": "y"
         },
         {
          "font": {
           "color": "gray"
          },
          "showarrow": false,
          "text": "0.0",
          "x": 2013,
          "xref": "x",
          "y": "AC",
          "yref": "y"
         },
         {
          "font": {
           "color": "gray"
          },
          "showarrow": false,
          "text": "0.0",
          "x": 2014,
          "xref": "x",
          "y": "AC",
          "yref": "y"
         },
         {
          "font": {
           "color": "gray"
          },
          "showarrow": false,
          "text": "3.0",
          "x": 2015,
          "xref": "x",
          "y": "AC",
          "yref": "y"
         },
         {
          "font": {
           "color": "gray"
          },
          "showarrow": false,
          "text": "1.0",
          "x": 2016,
          "xref": "x",
          "y": "AC",
          "yref": "y"
         },
         {
          "font": {
           "color": "gray"
          },
          "showarrow": false,
          "text": "16.0",
          "x": 2017,
          "xref": "x",
          "y": "AC",
          "yref": "y"
         },
         {
          "font": {
           "color": "gray"
          },
          "showarrow": false,
          "text": "31.0",
          "x": 2018,
          "xref": "x",
          "y": "AC",
          "yref": "y"
         },
         {
          "font": {
           "color": "gray"
          },
          "showarrow": false,
          "text": "132.0",
          "x": 2019,
          "xref": "x",
          "y": "AC",
          "yref": "y"
         },
         {
          "font": {
           "color": "gray"
          },
          "showarrow": false,
          "text": "504.0",
          "x": 2020,
          "xref": "x",
          "y": "AC",
          "yref": "y"
         },
         {
          "font": {
           "color": "gray"
          },
          "showarrow": false,
          "text": "1409.0",
          "x": 2021,
          "xref": "x",
          "y": "AC",
          "yref": "y"
         },
         {
          "font": {
           "color": "gray"
          },
          "showarrow": false,
          "text": "1792.0",
          "x": 2022,
          "xref": "x",
          "y": "AC",
          "yref": "y"
         },
         {
          "font": {
           "color": "gray"
          },
          "showarrow": false,
          "text": "375.0",
          "x": 2023,
          "xref": "x",
          "y": "AC",
          "yref": "y"
         },
         {
          "font": {
           "color": "gray"
          },
          "showarrow": false,
          "text": "0.0",
          "x": 2012,
          "xref": "x",
          "y": "AL",
          "yref": "y"
         },
         {
          "font": {
           "color": "gray"
          },
          "showarrow": false,
          "text": "0.0",
          "x": 2013,
          "xref": "x",
          "y": "AL",
          "yref": "y"
         },
         {
          "font": {
           "color": "gray"
          },
          "showarrow": false,
          "text": "0.0",
          "x": 2014,
          "xref": "x",
          "y": "AL",
          "yref": "y"
         },
         {
          "font": {
           "color": "gray"
          },
          "showarrow": false,
          "text": "4.0",
          "x": 2015,
          "xref": "x",
          "y": "AL",
          "yref": "y"
         },
         {
          "font": {
           "color": "gray"
          },
          "showarrow": false,
          "text": "14.0",
          "x": 2016,
          "xref": "x",
          "y": "AL",
          "yref": "y"
         },
         {
          "font": {
           "color": "gray"
          },
          "showarrow": false,
          "text": "46.0",
          "x": 2017,
          "xref": "x",
          "y": "AL",
          "yref": "y"
         },
         {
          "font": {
           "color": "gray"
          },
          "showarrow": false,
          "text": "175.0",
          "x": 2018,
          "xref": "x",
          "y": "AL",
          "yref": "y"
         },
         {
          "font": {
           "color": "gray"
          },
          "showarrow": false,
          "text": "617.0",
          "x": 2019,
          "xref": "x",
          "y": "AL",
          "yref": "y"
         },
         {
          "font": {
           "color": "gray"
          },
          "showarrow": false,
          "text": "1613.0",
          "x": 2020,
          "xref": "x",
          "y": "AL",
          "yref": "y"
         },
         {
          "font": {
           "color": "gray"
          },
          "showarrow": false,
          "text": "3497.0",
          "x": 2021,
          "xref": "x",
          "y": "AL",
          "yref": "y"
         },
         {
          "font": {
           "color": "white"
          },
          "showarrow": false,
          "text": "8152.0",
          "x": 2022,
          "xref": "x",
          "y": "AL",
          "yref": "y"
         },
         {
          "font": {
           "color": "gray"
          },
          "showarrow": false,
          "text": "2918.0",
          "x": 2023,
          "xref": "x",
          "y": "AL",
          "yref": "y"
         },
         {
          "font": {
           "color": "gray"
          },
          "showarrow": false,
          "text": "0.0",
          "x": 2012,
          "xref": "x",
          "y": "AM",
          "yref": "y"
         },
         {
          "font": {
           "color": "gray"
          },
          "showarrow": false,
          "text": "0.0",
          "x": 2013,
          "xref": "x",
          "y": "AM",
          "yref": "y"
         },
         {
          "font": {
           "color": "gray"
          },
          "showarrow": false,
          "text": "0.0",
          "x": 2014,
          "xref": "x",
          "y": "AM",
          "yref": "y"
         },
         {
          "font": {
           "color": "gray"
          },
          "showarrow": false,
          "text": "2.0",
          "x": 2015,
          "xref": "x",
          "y": "AM",
          "yref": "y"
         },
         {
          "font": {
           "color": "gray"
          },
          "showarrow": false,
          "text": "5.0",
          "x": 2016,
          "xref": "x",
          "y": "AM",
          "yref": "y"
         },
         {
          "font": {
           "color": "gray"
          },
          "showarrow": false,
          "text": "20.0",
          "x": 2017,
          "xref": "x",
          "y": "AM",
          "yref": "y"
         },
         {
          "font": {
           "color": "gray"
          },
          "showarrow": false,
          "text": "81.0",
          "x": 2018,
          "xref": "x",
          "y": "AM",
          "yref": "y"
         },
         {
          "font": {
           "color": "gray"
          },
          "showarrow": false,
          "text": "428.0",
          "x": 2019,
          "xref": "x",
          "y": "AM",
          "yref": "y"
         },
         {
          "font": {
           "color": "gray"
          },
          "showarrow": false,
          "text": "880.0",
          "x": 2020,
          "xref": "x",
          "y": "AM",
          "yref": "y"
         },
         {
          "font": {
           "color": "gray"
          },
          "showarrow": false,
          "text": "1582.0",
          "x": 2021,
          "xref": "x",
          "y": "AM",
          "yref": "y"
         },
         {
          "font": {
           "color": "gray"
          },
          "showarrow": false,
          "text": "2855.0",
          "x": 2022,
          "xref": "x",
          "y": "AM",
          "yref": "y"
         },
         {
          "font": {
           "color": "gray"
          },
          "showarrow": false,
          "text": "863.0",
          "x": 2023,
          "xref": "x",
          "y": "AM",
          "yref": "y"
         },
         {
          "font": {
           "color": "gray"
          },
          "showarrow": false,
          "text": "0.0",
          "x": 2012,
          "xref": "x",
          "y": "AP",
          "yref": "y"
         },
         {
          "font": {
           "color": "gray"
          },
          "showarrow": false,
          "text": "0.0",
          "x": 2013,
          "xref": "x",
          "y": "AP",
          "yref": "y"
         },
         {
          "font": {
           "color": "gray"
          },
          "showarrow": false,
          "text": "0.0",
          "x": 2014,
          "xref": "x",
          "y": "AP",
          "yref": "y"
         },
         {
          "font": {
           "color": "gray"
          },
          "showarrow": false,
          "text": "0.0",
          "x": 2015,
          "xref": "x",
          "y": "AP",
          "yref": "y"
         },
         {
          "font": {
           "color": "gray"
          },
          "showarrow": false,
          "text": "0.0",
          "x": 2016,
          "xref": "x",
          "y": "AP",
          "yref": "y"
         },
         {
          "font": {
           "color": "gray"
          },
          "showarrow": false,
          "text": "2.0",
          "x": 2017,
          "xref": "x",
          "y": "AP",
          "yref": "y"
         },
         {
          "font": {
           "color": "gray"
          },
          "showarrow": false,
          "text": "36.0",
          "x": 2018,
          "xref": "x",
          "y": "AP",
          "yref": "y"
         },
         {
          "font": {
           "color": "gray"
          },
          "showarrow": false,
          "text": "108.0",
          "x": 2019,
          "xref": "x",
          "y": "AP",
          "yref": "y"
         },
         {
          "font": {
           "color": "gray"
          },
          "showarrow": false,
          "text": "145.0",
          "x": 2020,
          "xref": "x",
          "y": "AP",
          "yref": "y"
         },
         {
          "font": {
           "color": "gray"
          },
          "showarrow": false,
          "text": "477.0",
          "x": 2021,
          "xref": "x",
          "y": "AP",
          "yref": "y"
         },
         {
          "font": {
           "color": "gray"
          },
          "showarrow": false,
          "text": "908.0",
          "x": 2022,
          "xref": "x",
          "y": "AP",
          "yref": "y"
         },
         {
          "font": {
           "color": "gray"
          },
          "showarrow": false,
          "text": "587.0",
          "x": 2023,
          "xref": "x",
          "y": "AP",
          "yref": "y"
         },
         {
          "font": {
           "color": "gray"
          },
          "showarrow": false,
          "text": "1.0",
          "x": 2012,
          "xref": "x",
          "y": "BA",
          "yref": "y"
         },
         {
          "font": {
           "color": "gray"
          },
          "showarrow": false,
          "text": "1.0",
          "x": 2013,
          "xref": "x",
          "y": "BA",
          "yref": "y"
         },
         {
          "font": {
           "color": "gray"
          },
          "showarrow": false,
          "text": "15.0",
          "x": 2014,
          "xref": "x",
          "y": "BA",
          "yref": "y"
         },
         {
          "font": {
           "color": "gray"
          },
          "showarrow": false,
          "text": "35.0",
          "x": 2015,
          "xref": "x",
          "y": "BA",
          "yref": "y"
         },
         {
          "font": {
           "color": "gray"
          },
          "showarrow": false,
          "text": "106.0",
          "x": 2016,
          "xref": "x",
          "y": "BA",
          "yref": "y"
         },
         {
          "font": {
           "color": "gray"
          },
          "showarrow": false,
          "text": "269.0",
          "x": 2017,
          "xref": "x",
          "y": "BA",
          "yref": "y"
         },
         {
          "font": {
           "color": "gray"
          },
          "showarrow": false,
          "text": "263.0",
          "x": 2018,
          "xref": "x",
          "y": "BA",
          "yref": "y"
         },
         {
          "font": {
           "color": "gray"
          },
          "showarrow": false,
          "text": "4.0",
          "x": 2019,
          "xref": "x",
          "y": "BA",
          "yref": "y"
         },
         {
          "font": {
           "color": "gray"
          },
          "showarrow": false,
          "text": "4.0",
          "x": 2020,
          "xref": "x",
          "y": "BA",
          "yref": "y"
         },
         {
          "font": {
           "color": "gray"
          },
          "showarrow": false,
          "text": "4.0",
          "x": 2021,
          "xref": "x",
          "y": "BA",
          "yref": "y"
         },
         {
          "font": {
           "color": "gray"
          },
          "showarrow": false,
          "text": "7.0",
          "x": 2022,
          "xref": "x",
          "y": "BA",
          "yref": "y"
         },
         {
          "font": {
           "color": "gray"
          },
          "showarrow": false,
          "text": "2.0",
          "x": 2023,
          "xref": "x",
          "y": "BA",
          "yref": "y"
         },
         {
          "font": {
           "color": "gray"
          },
          "showarrow": false,
          "text": "1.0",
          "x": 2012,
          "xref": "x",
          "y": "BR",
          "yref": "y"
         },
         {
          "font": {
           "color": "gray"
          },
          "showarrow": false,
          "text": "1.0",
          "x": 2013,
          "xref": "x",
          "y": "BR",
          "yref": "y"
         },
         {
          "font": {
           "color": "gray"
          },
          "showarrow": false,
          "text": "15.0",
          "x": 2014,
          "xref": "x",
          "y": "BR",
          "yref": "y"
         },
         {
          "font": {
           "color": "gray"
          },
          "showarrow": false,
          "text": "44.0",
          "x": 2015,
          "xref": "x",
          "y": "BR",
          "yref": "y"
         },
         {
          "font": {
           "color": "gray"
          },
          "showarrow": false,
          "text": "126.0",
          "x": 2016,
          "xref": "x",
          "y": "BR",
          "yref": "y"
         },
         {
          "font": {
           "color": "gray"
          },
          "showarrow": false,
          "text": "353.0",
          "x": 2017,
          "xref": "x",
          "y": "BR",
          "yref": "y"
         },
         {
          "font": {
           "color": "gray"
          },
          "showarrow": false,
          "text": "586.0",
          "x": 2018,
          "xref": "x",
          "y": "BR",
          "yref": "y"
         },
         {
          "font": {
           "color": "gray"
          },
          "showarrow": false,
          "text": "1289.0",
          "x": 2019,
          "xref": "x",
          "y": "BR",
          "yref": "y"
         },
         {
          "font": {
           "color": "gray"
          },
          "showarrow": false,
          "text": "3146.0",
          "x": 2020,
          "xref": "x",
          "y": "BR",
          "yref": "y"
         },
         {
          "font": {
           "color": "white"
          },
          "showarrow": false,
          "text": "6969.0",
          "x": 2021,
          "xref": "x",
          "y": "BR",
          "yref": "y"
         },
         {
          "font": {
           "color": "white"
          },
          "showarrow": false,
          "text": "13714.0",
          "x": 2022,
          "xref": "x",
          "y": "BR",
          "yref": "y"
         },
         {
          "font": {
           "color": "gray"
          },
          "showarrow": false,
          "text": "4745.0",
          "x": 2023,
          "xref": "x",
          "y": "BR",
          "yref": "y"
         }
        ],
        "height": 600,
        "margin": {
         "t": 130
        },
        "template": {
         "data": {
          "bar": [
           {
            "error_x": {
             "color": "#2a3f5f"
            },
            "error_y": {
             "color": "#2a3f5f"
            },
            "marker": {
             "line": {
              "color": "#E5ECF6",
              "width": 0.5
             },
             "pattern": {
              "fillmode": "overlay",
              "size": 10,
              "solidity": 0.2
             }
            },
            "type": "bar"
           }
          ],
          "barpolar": [
           {
            "marker": {
             "line": {
              "color": "#E5ECF6",
              "width": 0.5
             },
             "pattern": {
              "fillmode": "overlay",
              "size": 10,
              "solidity": 0.2
             }
            },
            "type": "barpolar"
           }
          ],
          "carpet": [
           {
            "aaxis": {
             "endlinecolor": "#2a3f5f",
             "gridcolor": "white",
             "linecolor": "white",
             "minorgridcolor": "white",
             "startlinecolor": "#2a3f5f"
            },
            "baxis": {
             "endlinecolor": "#2a3f5f",
             "gridcolor": "white",
             "linecolor": "white",
             "minorgridcolor": "white",
             "startlinecolor": "#2a3f5f"
            },
            "type": "carpet"
           }
          ],
          "choropleth": [
           {
            "colorbar": {
             "outlinewidth": 0,
             "ticks": ""
            },
            "type": "choropleth"
           }
          ],
          "contour": [
           {
            "colorbar": {
             "outlinewidth": 0,
             "ticks": ""
            },
            "colorscale": [
             [
              0,
              "#0d0887"
             ],
             [
              0.1111111111111111,
              "#46039f"
             ],
             [
              0.2222222222222222,
              "#7201a8"
             ],
             [
              0.3333333333333333,
              "#9c179e"
             ],
             [
              0.4444444444444444,
              "#bd3786"
             ],
             [
              0.5555555555555556,
              "#d8576b"
             ],
             [
              0.6666666666666666,
              "#ed7953"
             ],
             [
              0.7777777777777778,
              "#fb9f3a"
             ],
             [
              0.8888888888888888,
              "#fdca26"
             ],
             [
              1,
              "#f0f921"
             ]
            ],
            "type": "contour"
           }
          ],
          "contourcarpet": [
           {
            "colorbar": {
             "outlinewidth": 0,
             "ticks": ""
            },
            "type": "contourcarpet"
           }
          ],
          "heatmap": [
           {
            "colorbar": {
             "outlinewidth": 0,
             "ticks": ""
            },
            "colorscale": [
             [
              0,
              "#0d0887"
             ],
             [
              0.1111111111111111,
              "#46039f"
             ],
             [
              0.2222222222222222,
              "#7201a8"
             ],
             [
              0.3333333333333333,
              "#9c179e"
             ],
             [
              0.4444444444444444,
              "#bd3786"
             ],
             [
              0.5555555555555556,
              "#d8576b"
             ],
             [
              0.6666666666666666,
              "#ed7953"
             ],
             [
              0.7777777777777778,
              "#fb9f3a"
             ],
             [
              0.8888888888888888,
              "#fdca26"
             ],
             [
              1,
              "#f0f921"
             ]
            ],
            "type": "heatmap"
           }
          ],
          "heatmapgl": [
           {
            "colorbar": {
             "outlinewidth": 0,
             "ticks": ""
            },
            "colorscale": [
             [
              0,
              "#0d0887"
             ],
             [
              0.1111111111111111,
              "#46039f"
             ],
             [
              0.2222222222222222,
              "#7201a8"
             ],
             [
              0.3333333333333333,
              "#9c179e"
             ],
             [
              0.4444444444444444,
              "#bd3786"
             ],
             [
              0.5555555555555556,
              "#d8576b"
             ],
             [
              0.6666666666666666,
              "#ed7953"
             ],
             [
              0.7777777777777778,
              "#fb9f3a"
             ],
             [
              0.8888888888888888,
              "#fdca26"
             ],
             [
              1,
              "#f0f921"
             ]
            ],
            "type": "heatmapgl"
           }
          ],
          "histogram": [
           {
            "marker": {
             "pattern": {
              "fillmode": "overlay",
              "size": 10,
              "solidity": 0.2
             }
            },
            "type": "histogram"
           }
          ],
          "histogram2d": [
           {
            "colorbar": {
             "outlinewidth": 0,
             "ticks": ""
            },
            "colorscale": [
             [
              0,
              "#0d0887"
             ],
             [
              0.1111111111111111,
              "#46039f"
             ],
             [
              0.2222222222222222,
              "#7201a8"
             ],
             [
              0.3333333333333333,
              "#9c179e"
             ],
             [
              0.4444444444444444,
              "#bd3786"
             ],
             [
              0.5555555555555556,
              "#d8576b"
             ],
             [
              0.6666666666666666,
              "#ed7953"
             ],
             [
              0.7777777777777778,
              "#fb9f3a"
             ],
             [
              0.8888888888888888,
              "#fdca26"
             ],
             [
              1,
              "#f0f921"
             ]
            ],
            "type": "histogram2d"
           }
          ],
          "histogram2dcontour": [
           {
            "colorbar": {
             "outlinewidth": 0,
             "ticks": ""
            },
            "colorscale": [
             [
              0,
              "#0d0887"
             ],
             [
              0.1111111111111111,
              "#46039f"
             ],
             [
              0.2222222222222222,
              "#7201a8"
             ],
             [
              0.3333333333333333,
              "#9c179e"
             ],
             [
              0.4444444444444444,
              "#bd3786"
             ],
             [
              0.5555555555555556,
              "#d8576b"
             ],
             [
              0.6666666666666666,
              "#ed7953"
             ],
             [
              0.7777777777777778,
              "#fb9f3a"
             ],
             [
              0.8888888888888888,
              "#fdca26"
             ],
             [
              1,
              "#f0f921"
             ]
            ],
            "type": "histogram2dcontour"
           }
          ],
          "mesh3d": [
           {
            "colorbar": {
             "outlinewidth": 0,
             "ticks": ""
            },
            "type": "mesh3d"
           }
          ],
          "parcoords": [
           {
            "line": {
             "colorbar": {
              "outlinewidth": 0,
              "ticks": ""
             }
            },
            "type": "parcoords"
           }
          ],
          "pie": [
           {
            "automargin": true,
            "type": "pie"
           }
          ],
          "scatter": [
           {
            "fillpattern": {
             "fillmode": "overlay",
             "size": 10,
             "solidity": 0.2
            },
            "type": "scatter"
           }
          ],
          "scatter3d": [
           {
            "line": {
             "colorbar": {
              "outlinewidth": 0,
              "ticks": ""
             }
            },
            "marker": {
             "colorbar": {
              "outlinewidth": 0,
              "ticks": ""
             }
            },
            "type": "scatter3d"
           }
          ],
          "scattercarpet": [
           {
            "marker": {
             "colorbar": {
              "outlinewidth": 0,
              "ticks": ""
             }
            },
            "type": "scattercarpet"
           }
          ],
          "scattergeo": [
           {
            "marker": {
             "colorbar": {
              "outlinewidth": 0,
              "ticks": ""
             }
            },
            "type": "scattergeo"
           }
          ],
          "scattergl": [
           {
            "marker": {
             "colorbar": {
              "outlinewidth": 0,
              "ticks": ""
             }
            },
            "type": "scattergl"
           }
          ],
          "scattermapbox": [
           {
            "marker": {
             "colorbar": {
              "outlinewidth": 0,
              "ticks": ""
             }
            },
            "type": "scattermapbox"
           }
          ],
          "scatterpolar": [
           {
            "marker": {
             "colorbar": {
              "outlinewidth": 0,
              "ticks": ""
             }
            },
            "type": "scatterpolar"
           }
          ],
          "scatterpolargl": [
           {
            "marker": {
             "colorbar": {
              "outlinewidth": 0,
              "ticks": ""
             }
            },
            "type": "scatterpolargl"
           }
          ],
          "scatterternary": [
           {
            "marker": {
             "colorbar": {
              "outlinewidth": 0,
              "ticks": ""
             }
            },
            "type": "scatterternary"
           }
          ],
          "surface": [
           {
            "colorbar": {
             "outlinewidth": 0,
             "ticks": ""
            },
            "colorscale": [
             [
              0,
              "#0d0887"
             ],
             [
              0.1111111111111111,
              "#46039f"
             ],
             [
              0.2222222222222222,
              "#7201a8"
             ],
             [
              0.3333333333333333,
              "#9c179e"
             ],
             [
              0.4444444444444444,
              "#bd3786"
             ],
             [
              0.5555555555555556,
              "#d8576b"
             ],
             [
              0.6666666666666666,
              "#ed7953"
             ],
             [
              0.7777777777777778,
              "#fb9f3a"
             ],
             [
              0.8888888888888888,
              "#fdca26"
             ],
             [
              1,
              "#f0f921"
             ]
            ],
            "type": "surface"
           }
          ],
          "table": [
           {
            "cells": {
             "fill": {
              "color": "#EBF0F8"
             },
             "line": {
              "color": "white"
             }
            },
            "header": {
             "fill": {
              "color": "#C8D4E3"
             },
             "line": {
              "color": "white"
             }
            },
            "type": "table"
           }
          ]
         },
         "layout": {
          "annotationdefaults": {
           "arrowcolor": "#2a3f5f",
           "arrowhead": 0,
           "arrowwidth": 1
          },
          "autotypenumbers": "strict",
          "coloraxis": {
           "colorbar": {
            "outlinewidth": 0,
            "ticks": ""
           }
          },
          "colorscale": {
           "diverging": [
            [
             0,
             "#8e0152"
            ],
            [
             0.1,
             "#c51b7d"
            ],
            [
             0.2,
             "#de77ae"
            ],
            [
             0.3,
             "#f1b6da"
            ],
            [
             0.4,
             "#fde0ef"
            ],
            [
             0.5,
             "#f7f7f7"
            ],
            [
             0.6,
             "#e6f5d0"
            ],
            [
             0.7,
             "#b8e186"
            ],
            [
             0.8,
             "#7fbc41"
            ],
            [
             0.9,
             "#4d9221"
            ],
            [
             1,
             "#276419"
            ]
           ],
           "sequential": [
            [
             0,
             "#0d0887"
            ],
            [
             0.1111111111111111,
             "#46039f"
            ],
            [
             0.2222222222222222,
             "#7201a8"
            ],
            [
             0.3333333333333333,
             "#9c179e"
            ],
            [
             0.4444444444444444,
             "#bd3786"
            ],
            [
             0.5555555555555556,
             "#d8576b"
            ],
            [
             0.6666666666666666,
             "#ed7953"
            ],
            [
             0.7777777777777778,
             "#fb9f3a"
            ],
            [
             0.8888888888888888,
             "#fdca26"
            ],
            [
             1,
             "#f0f921"
            ]
           ],
           "sequentialminus": [
            [
             0,
             "#0d0887"
            ],
            [
             0.1111111111111111,
             "#46039f"
            ],
            [
             0.2222222222222222,
             "#7201a8"
            ],
            [
             0.3333333333333333,
             "#9c179e"
            ],
            [
             0.4444444444444444,
             "#bd3786"
            ],
            [
             0.5555555555555556,
             "#d8576b"
            ],
            [
             0.6666666666666666,
             "#ed7953"
            ],
            [
             0.7777777777777778,
             "#fb9f3a"
            ],
            [
             0.8888888888888888,
             "#fdca26"
            ],
            [
             1,
             "#f0f921"
            ]
           ]
          },
          "colorway": [
           "#636efa",
           "#EF553B",
           "#00cc96",
           "#ab63fa",
           "#FFA15A",
           "#19d3f3",
           "#FF6692",
           "#B6E880",
           "#FF97FF",
           "#FECB52"
          ],
          "font": {
           "color": "#2a3f5f"
          },
          "geo": {
           "bgcolor": "white",
           "lakecolor": "white",
           "landcolor": "#E5ECF6",
           "showlakes": true,
           "showland": true,
           "subunitcolor": "white"
          },
          "hoverlabel": {
           "align": "left"
          },
          "hovermode": "closest",
          "mapbox": {
           "style": "light"
          },
          "paper_bgcolor": "white",
          "plot_bgcolor": "#E5ECF6",
          "polar": {
           "angularaxis": {
            "gridcolor": "white",
            "linecolor": "white",
            "ticks": ""
           },
           "bgcolor": "#E5ECF6",
           "radialaxis": {
            "gridcolor": "white",
            "linecolor": "white",
            "ticks": ""
           }
          },
          "scene": {
           "xaxis": {
            "backgroundcolor": "#E5ECF6",
            "gridcolor": "white",
            "gridwidth": 2,
            "linecolor": "white",
            "showbackground": true,
            "ticks": "",
            "zerolinecolor": "white"
           },
           "yaxis": {
            "backgroundcolor": "#E5ECF6",
            "gridcolor": "white",
            "gridwidth": 2,
            "linecolor": "white",
            "showbackground": true,
            "ticks": "",
            "zerolinecolor": "white"
           },
           "zaxis": {
            "backgroundcolor": "#E5ECF6",
            "gridcolor": "white",
            "gridwidth": 2,
            "linecolor": "white",
            "showbackground": true,
            "ticks": "",
            "zerolinecolor": "white"
           }
          },
          "shapedefaults": {
           "line": {
            "color": "#2a3f5f"
           }
          },
          "ternary": {
           "aaxis": {
            "gridcolor": "white",
            "linecolor": "white",
            "ticks": ""
           },
           "baxis": {
            "gridcolor": "white",
            "linecolor": "white",
            "ticks": ""
           },
           "bgcolor": "#E5ECF6",
           "caxis": {
            "gridcolor": "white",
            "linecolor": "white",
            "ticks": ""
           }
          },
          "title": {
           "x": 0.05
          },
          "xaxis": {
           "automargin": true,
           "gridcolor": "white",
           "linecolor": "white",
           "ticks": "",
           "title": {
            "standoff": 15
           },
           "zerolinecolor": "white",
           "zerolinewidth": 2
          },
          "yaxis": {
           "automargin": true,
           "gridcolor": "white",
           "linecolor": "white",
           "ticks": "",
           "title": {
            "standoff": 15
           },
           "zerolinecolor": "white",
           "zerolinewidth": 2
          }
         }
        },
        "title": {
         "font": {
          "size": 20
         },
         "text": "Novos usuários da Energia distribuida",
         "x": 0.5
        },
        "width": 1200,
        "xaxis": {
         "dtick": 1,
         "gridcolor": "rgb(0, 0, 0)",
         "side": "top",
         "tickfont": {
          "size": 14
         },
         "ticks": "",
         "title": {
          "font": {
           "size": 16
          },
          "text": "Ano"
         }
        },
        "yaxis": {
         "dtick": 1,
         "tickfont": {
          "size": 14
         },
         "ticks": "",
         "ticksuffix": "  ",
         "title": {
          "font": {
           "size": 16
          },
          "text": "SigUF"
         },
         "type": "category"
        }
       }
      }
     },
     "metadata": {},
     "output_type": "display_data"
    }
   ],
   "source": [
    "\n",
    "import plotly.graph_objs as go\n",
    "from plotly.subplots import make_subplots\n",
    "import plotly.figure_factory as ff\n",
    "\n",
    "df['Mes'] = pd.DatetimeIndex(df['DthAtualizaCadastralEmpreend']).month\n",
    "df['Ano'] = pd.DatetimeIndex(df['DthAtualizaCadastralEmpreend']).year\n",
    "\n",
    "counts = df_clean.groupby(['Ano', 'SigUF', 'DscClasseConsumo']).agg({'NumCPFCNPJ': 'nunique'}).reset_index()\n",
    "tabela = counts.groupby(['Ano', 'SigUF'])['NumCPFCNPJ'].sum().reset_index()\n",
    "matriz = tabela.pivot(index='SigUF', columns='Ano', values='NumCPFCNPJ')\n",
    "\n",
    "matriz['Total'] = matriz.sum(axis=1)\n",
    "matriz = matriz.fillna(0)\n",
    "\n",
    "matriz_tx = matriz.iloc[:, :-1].pct_change(axis=1) * 100\n",
    "matriz_tx= matriz.applymap(lambda x: '{:.0f}%'.format(x) if not np.isinf(x) else '∞')\n",
    "\n",
    "\n",
    "counts = df_clean.groupby(['Ano', 'SigUF', 'DscClasseConsumo']).agg({'NumCPFCNPJ': 'nunique'}).reset_index()\n",
    "tabela = counts.groupby(['Ano', 'SigUF'])['NumCPFCNPJ'].sum().reset_index()\n",
    "matriz = tabela.pivot(index='SigUF', columns='Ano', values='NumCPFCNPJ')\n",
    "\n",
    "matriz.loc['BR'] = matriz.sum()\n",
    "\n",
    "\n",
    "matriz = matriz.fillna(0)\n",
    "\n",
    "z_text = matriz.round(2).values.tolist()\n",
    "\n",
    "fig = ff.create_annotated_heatmap(z=matriz.values,\n",
    "                                  x=list(matriz.columns),\n",
    "                                  y=list(matriz.index),\n",
    "                                  annotation_text=z_text,\n",
    "                                  font_colors=['gray', 'white'],\n",
    "                                  colorscale='YlGnBu')\n",
    "\n",
    "fig.update_layout(yaxis={'type': 'category'})\n",
    "\n",
    "\n",
    "fig.update_layout(\n",
    "    width=1200,\n",
    "    height=600,\n",
    "    xaxis_title='Ano',\n",
    "    xaxis_title_font_size=16,\n",
    "    xaxis_tickfont_size=14,\n",
    "    yaxis_title='SigUF',\n",
    "    yaxis_title_font_size=16,\n",
    "    yaxis_tickfont_size=14,\n",
    "    title='Novos usuários da Energia distribuida',\n",
    "    title_font_size=20,\n",
    "    title_x=.5,\n",
    "    margin=dict(t=130)\n",
    ")\n",
    "\n",
    "fig.show()"
   ]
  },
  {
   "cell_type": "code",
   "execution_count": null,
   "id": "7469bc04",
   "metadata": {},
   "outputs": [],
   "source": [
    "\n",
    "\n",
    "\n",
    "\n",
    "\n",
    "\n",
    "\n",
    "\n",
    "\n",
    "\n",
    "\n"
   ]
  },
  {
   "cell_type": "code",
   "execution_count": 488,
   "id": "98c17515",
   "metadata": {},
   "outputs": [
    {
     "data": {
      "text/html": [
       "<div>\n",
       "<style scoped>\n",
       "    .dataframe tbody tr th:only-of-type {\n",
       "        vertical-align: middle;\n",
       "    }\n",
       "\n",
       "    .dataframe tbody tr th {\n",
       "        vertical-align: top;\n",
       "    }\n",
       "\n",
       "    .dataframe thead th {\n",
       "        text-align: right;\n",
       "    }\n",
       "</style>\n",
       "<table border=\"1\" class=\"dataframe\">\n",
       "  <thead>\n",
       "    <tr style=\"text-align: right;\">\n",
       "      <th>Ano</th>\n",
       "      <th>2012</th>\n",
       "      <th>2013</th>\n",
       "      <th>2014</th>\n",
       "      <th>2015</th>\n",
       "      <th>2016</th>\n",
       "      <th>2017</th>\n",
       "      <th>2018</th>\n",
       "      <th>2019</th>\n",
       "      <th>2020</th>\n",
       "      <th>2021</th>\n",
       "      <th>2022</th>\n",
       "      <th>2023</th>\n",
       "      <th>Total</th>\n",
       "      <th>med</th>\n",
       "      <th>2023</th>\n",
       "    </tr>\n",
       "    <tr>\n",
       "      <th>SigUF</th>\n",
       "      <th></th>\n",
       "      <th></th>\n",
       "      <th></th>\n",
       "      <th></th>\n",
       "      <th></th>\n",
       "      <th></th>\n",
       "      <th></th>\n",
       "      <th></th>\n",
       "      <th></th>\n",
       "      <th></th>\n",
       "      <th></th>\n",
       "      <th></th>\n",
       "      <th></th>\n",
       "      <th></th>\n",
       "      <th></th>\n",
       "    </tr>\n",
       "  </thead>\n",
       "  <tbody>\n",
       "    <tr>\n",
       "      <th>AC</th>\n",
       "      <td>nan%</td>\n",
       "      <td>nan%</td>\n",
       "      <td>nan%</td>\n",
       "      <td>inf%</td>\n",
       "      <td>-67%</td>\n",
       "      <td>1500%</td>\n",
       "      <td>94%</td>\n",
       "      <td>326%</td>\n",
       "      <td>282%</td>\n",
       "      <td>180%</td>\n",
       "      <td>27%</td>\n",
       "      <td>-79%</td>\n",
       "      <td>0</td>\n",
       "      <td>0</td>\n",
       "      <td>0</td>\n",
       "    </tr>\n",
       "    <tr>\n",
       "      <th>AL</th>\n",
       "      <td>nan%</td>\n",
       "      <td>nan%</td>\n",
       "      <td>nan%</td>\n",
       "      <td>inf%</td>\n",
       "      <td>250%</td>\n",
       "      <td>229%</td>\n",
       "      <td>280%</td>\n",
       "      <td>253%</td>\n",
       "      <td>161%</td>\n",
       "      <td>117%</td>\n",
       "      <td>133%</td>\n",
       "      <td>-64%</td>\n",
       "      <td>0</td>\n",
       "      <td>0</td>\n",
       "      <td>0</td>\n",
       "    </tr>\n",
       "    <tr>\n",
       "      <th>AM</th>\n",
       "      <td>nan%</td>\n",
       "      <td>nan%</td>\n",
       "      <td>nan%</td>\n",
       "      <td>inf%</td>\n",
       "      <td>150%</td>\n",
       "      <td>300%</td>\n",
       "      <td>305%</td>\n",
       "      <td>428%</td>\n",
       "      <td>106%</td>\n",
       "      <td>80%</td>\n",
       "      <td>80%</td>\n",
       "      <td>-70%</td>\n",
       "      <td>0</td>\n",
       "      <td>0</td>\n",
       "      <td>0</td>\n",
       "    </tr>\n",
       "    <tr>\n",
       "      <th>AP</th>\n",
       "      <td>nan%</td>\n",
       "      <td>nan%</td>\n",
       "      <td>nan%</td>\n",
       "      <td>nan%</td>\n",
       "      <td>nan%</td>\n",
       "      <td>inf%</td>\n",
       "      <td>1700%</td>\n",
       "      <td>200%</td>\n",
       "      <td>34%</td>\n",
       "      <td>229%</td>\n",
       "      <td>90%</td>\n",
       "      <td>-35%</td>\n",
       "      <td>0</td>\n",
       "      <td>0</td>\n",
       "      <td>0</td>\n",
       "    </tr>\n",
       "    <tr>\n",
       "      <th>BA</th>\n",
       "      <td>nan%</td>\n",
       "      <td>0%</td>\n",
       "      <td>1400%</td>\n",
       "      <td>133%</td>\n",
       "      <td>203%</td>\n",
       "      <td>154%</td>\n",
       "      <td>-2%</td>\n",
       "      <td>-98%</td>\n",
       "      <td>0%</td>\n",
       "      <td>0%</td>\n",
       "      <td>75%</td>\n",
       "      <td>-71%</td>\n",
       "      <td>0</td>\n",
       "      <td>0</td>\n",
       "      <td>0</td>\n",
       "    </tr>\n",
       "  </tbody>\n",
       "</table>\n",
       "</div>"
      ],
      "text/plain": [
       "Ano    2012  2013   2014  2015  2016   2017   2018  2019  2020  2021  2022  \\\n",
       "SigUF                                                                        \n",
       "AC     nan%  nan%   nan%  inf%  -67%  1500%    94%  326%  282%  180%   27%   \n",
       "AL     nan%  nan%   nan%  inf%  250%   229%   280%  253%  161%  117%  133%   \n",
       "AM     nan%  nan%   nan%  inf%  150%   300%   305%  428%  106%   80%   80%   \n",
       "AP     nan%  nan%   nan%  nan%  nan%   inf%  1700%  200%   34%  229%   90%   \n",
       "BA     nan%    0%  1400%  133%  203%   154%    -2%  -98%    0%    0%   75%   \n",
       "\n",
       "Ano    2023  Total  med  2023  \n",
       "SigUF                          \n",
       "AC     -79%      0    0     0  \n",
       "AL     -64%      0    0     0  \n",
       "AM     -70%      0    0     0  \n",
       "AP     -35%      0    0     0  \n",
       "BA     -71%      0    0     0  "
      ]
     },
     "execution_count": 488,
     "metadata": {},
     "output_type": "execute_result"
    }
   ],
   "source": [
    "\n",
    "matriz_tx"
   ]
  },
  {
   "cell_type": "code",
   "execution_count": 512,
   "id": "399ed3ce",
   "metadata": {},
   "outputs": [
    {
     "data": {
      "application/vnd.plotly.v1+json": {
       "config": {
        "plotlyServerURL": "https://plot.ly"
       },
       "data": [
        {
         "colorscale": [
          [
           0,
           "rgb(255,255,217)"
          ],
          [
           0.125,
           "rgb(237,248,177)"
          ],
          [
           0.25,
           "rgb(199,233,180)"
          ],
          [
           0.375,
           "rgb(127,205,187)"
          ],
          [
           0.5,
           "rgb(65,182,196)"
          ],
          [
           0.625,
           "rgb(29,145,192)"
          ],
          [
           0.75,
           "rgb(34,94,168)"
          ],
          [
           0.875,
           "rgb(37,52,148)"
          ],
          [
           1,
           "rgb(8,29,88)"
          ]
         ],
         "reversescale": false,
         "showscale": false,
         "type": "heatmap",
         "x": [
          2012,
          2013,
          2014,
          2015,
          2016,
          2017,
          2018,
          2019,
          2020,
          2021,
          2022,
          2023
         ],
         "y": [
          "AC",
          "AL",
          "AM",
          "AP",
          "BA",
          "BR"
         ],
         "z": [
          [
           0,
           0,
           0,
           3,
           1,
           16,
           31,
           132,
           504,
           1409,
           1792,
           375
          ],
          [
           0,
           0,
           0,
           4,
           14,
           46,
           175,
           617,
           1613,
           3497,
           8152,
           2918
          ],
          [
           0,
           0,
           0,
           2,
           5,
           20,
           81,
           428,
           880,
           1582,
           2855,
           863
          ],
          [
           0,
           0,
           0,
           0,
           0,
           2,
           36,
           108,
           145,
           477,
           908,
           587
          ],
          [
           1,
           1,
           15,
           35,
           106,
           269,
           263,
           4,
           4,
           4,
           7,
           2
          ],
          [
           1,
           1,
           15,
           44,
           126,
           353,
           586,
           1289,
           3146,
           6969,
           13714,
           4745
          ]
         ]
        }
       ],
       "layout": {
        "annotations": [
         {
          "font": {
           "color": "gray"
          },
          "showarrow": false,
          "text": "0.0<br> ",
          "x": 2012,
          "xref": "x",
          "y": "AC",
          "yref": "y"
         },
         {
          "font": {
           "color": "gray"
          },
          "showarrow": false,
          "text": "0.0<br> ",
          "x": 2013,
          "xref": "x",
          "y": "AC",
          "yref": "y"
         },
         {
          "font": {
           "color": "gray"
          },
          "showarrow": false,
          "text": "0.0<br> ",
          "x": 2014,
          "xref": "x",
          "y": "AC",
          "yref": "y"
         },
         {
          "font": {
           "color": "gray"
          },
          "showarrow": false,
          "text": "3.0<br>inf%",
          "x": 2015,
          "xref": "x",
          "y": "AC",
          "yref": "y"
         },
         {
          "font": {
           "color": "gray"
          },
          "showarrow": false,
          "text": "1.0<br>-67%",
          "x": 2016,
          "xref": "x",
          "y": "AC",
          "yref": "y"
         },
         {
          "font": {
           "color": "gray"
          },
          "showarrow": false,
          "text": "16.0<br>1500%",
          "x": 2017,
          "xref": "x",
          "y": "AC",
          "yref": "y"
         },
         {
          "font": {
           "color": "gray"
          },
          "showarrow": false,
          "text": "31.0<br>94%",
          "x": 2018,
          "xref": "x",
          "y": "AC",
          "yref": "y"
         },
         {
          "font": {
           "color": "gray"
          },
          "showarrow": false,
          "text": "132.0<br>326%",
          "x": 2019,
          "xref": "x",
          "y": "AC",
          "yref": "y"
         },
         {
          "font": {
           "color": "gray"
          },
          "showarrow": false,
          "text": "504.0<br>282%",
          "x": 2020,
          "xref": "x",
          "y": "AC",
          "yref": "y"
         },
         {
          "font": {
           "color": "gray"
          },
          "showarrow": false,
          "text": "1409.0<br>180%",
          "x": 2021,
          "xref": "x",
          "y": "AC",
          "yref": "y"
         },
         {
          "font": {
           "color": "gray"
          },
          "showarrow": false,
          "text": "1792.0<br>27%",
          "x": 2022,
          "xref": "x",
          "y": "AC",
          "yref": "y"
         },
         {
          "font": {
           "color": "gray"
          },
          "showarrow": false,
          "text": "375.0<br>-79%",
          "x": 2023,
          "xref": "x",
          "y": "AC",
          "yref": "y"
         },
         {
          "font": {
           "color": "gray"
          },
          "showarrow": false,
          "text": "0.0<br> ",
          "x": 2012,
          "xref": "x",
          "y": "AL",
          "yref": "y"
         },
         {
          "font": {
           "color": "gray"
          },
          "showarrow": false,
          "text": "0.0<br> ",
          "x": 2013,
          "xref": "x",
          "y": "AL",
          "yref": "y"
         },
         {
          "font": {
           "color": "gray"
          },
          "showarrow": false,
          "text": "0.0<br> ",
          "x": 2014,
          "xref": "x",
          "y": "AL",
          "yref": "y"
         },
         {
          "font": {
           "color": "gray"
          },
          "showarrow": false,
          "text": "4.0<br>inf%",
          "x": 2015,
          "xref": "x",
          "y": "AL",
          "yref": "y"
         },
         {
          "font": {
           "color": "gray"
          },
          "showarrow": false,
          "text": "14.0<br>250%",
          "x": 2016,
          "xref": "x",
          "y": "AL",
          "yref": "y"
         },
         {
          "font": {
           "color": "gray"
          },
          "showarrow": false,
          "text": "46.0<br>229%",
          "x": 2017,
          "xref": "x",
          "y": "AL",
          "yref": "y"
         },
         {
          "font": {
           "color": "gray"
          },
          "showarrow": false,
          "text": "175.0<br>280%",
          "x": 2018,
          "xref": "x",
          "y": "AL",
          "yref": "y"
         },
         {
          "font": {
           "color": "gray"
          },
          "showarrow": false,
          "text": "617.0<br>253%",
          "x": 2019,
          "xref": "x",
          "y": "AL",
          "yref": "y"
         },
         {
          "font": {
           "color": "gray"
          },
          "showarrow": false,
          "text": "1613.0<br>161%",
          "x": 2020,
          "xref": "x",
          "y": "AL",
          "yref": "y"
         },
         {
          "font": {
           "color": "gray"
          },
          "showarrow": false,
          "text": "3497.0<br>117%",
          "x": 2021,
          "xref": "x",
          "y": "AL",
          "yref": "y"
         },
         {
          "font": {
           "color": "white"
          },
          "showarrow": false,
          "text": "8152.0<br>133%",
          "x": 2022,
          "xref": "x",
          "y": "AL",
          "yref": "y"
         },
         {
          "font": {
           "color": "gray"
          },
          "showarrow": false,
          "text": "2918.0<br>-64%",
          "x": 2023,
          "xref": "x",
          "y": "AL",
          "yref": "y"
         },
         {
          "font": {
           "color": "gray"
          },
          "showarrow": false,
          "text": "0.0<br> ",
          "x": 2012,
          "xref": "x",
          "y": "AM",
          "yref": "y"
         },
         {
          "font": {
           "color": "gray"
          },
          "showarrow": false,
          "text": "0.0<br> ",
          "x": 2013,
          "xref": "x",
          "y": "AM",
          "yref": "y"
         },
         {
          "font": {
           "color": "gray"
          },
          "showarrow": false,
          "text": "0.0<br> ",
          "x": 2014,
          "xref": "x",
          "y": "AM",
          "yref": "y"
         },
         {
          "font": {
           "color": "gray"
          },
          "showarrow": false,
          "text": "2.0<br>inf%",
          "x": 2015,
          "xref": "x",
          "y": "AM",
          "yref": "y"
         },
         {
          "font": {
           "color": "gray"
          },
          "showarrow": false,
          "text": "5.0<br>150%",
          "x": 2016,
          "xref": "x",
          "y": "AM",
          "yref": "y"
         },
         {
          "font": {
           "color": "gray"
          },
          "showarrow": false,
          "text": "20.0<br>300%",
          "x": 2017,
          "xref": "x",
          "y": "AM",
          "yref": "y"
         },
         {
          "font": {
           "color": "gray"
          },
          "showarrow": false,
          "text": "81.0<br>305%",
          "x": 2018,
          "xref": "x",
          "y": "AM",
          "yref": "y"
         },
         {
          "font": {
           "color": "gray"
          },
          "showarrow": false,
          "text": "428.0<br>428%",
          "x": 2019,
          "xref": "x",
          "y": "AM",
          "yref": "y"
         },
         {
          "font": {
           "color": "gray"
          },
          "showarrow": false,
          "text": "880.0<br>106%",
          "x": 2020,
          "xref": "x",
          "y": "AM",
          "yref": "y"
         },
         {
          "font": {
           "color": "gray"
          },
          "showarrow": false,
          "text": "1582.0<br>80%",
          "x": 2021,
          "xref": "x",
          "y": "AM",
          "yref": "y"
         },
         {
          "font": {
           "color": "gray"
          },
          "showarrow": false,
          "text": "2855.0<br>80%",
          "x": 2022,
          "xref": "x",
          "y": "AM",
          "yref": "y"
         },
         {
          "font": {
           "color": "gray"
          },
          "showarrow": false,
          "text": "863.0<br>-70%",
          "x": 2023,
          "xref": "x",
          "y": "AM",
          "yref": "y"
         },
         {
          "font": {
           "color": "gray"
          },
          "showarrow": false,
          "text": "0.0<br> ",
          "x": 2012,
          "xref": "x",
          "y": "AP",
          "yref": "y"
         },
         {
          "font": {
           "color": "gray"
          },
          "showarrow": false,
          "text": "0.0<br> ",
          "x": 2013,
          "xref": "x",
          "y": "AP",
          "yref": "y"
         },
         {
          "font": {
           "color": "gray"
          },
          "showarrow": false,
          "text": "0.0<br> ",
          "x": 2014,
          "xref": "x",
          "y": "AP",
          "yref": "y"
         },
         {
          "font": {
           "color": "gray"
          },
          "showarrow": false,
          "text": "0.0<br> ",
          "x": 2015,
          "xref": "x",
          "y": "AP",
          "yref": "y"
         },
         {
          "font": {
           "color": "gray"
          },
          "showarrow": false,
          "text": "0.0<br> ",
          "x": 2016,
          "xref": "x",
          "y": "AP",
          "yref": "y"
         },
         {
          "font": {
           "color": "gray"
          },
          "showarrow": false,
          "text": "2.0<br>inf%",
          "x": 2017,
          "xref": "x",
          "y": "AP",
          "yref": "y"
         },
         {
          "font": {
           "color": "gray"
          },
          "showarrow": false,
          "text": "36.0<br>1700%",
          "x": 2018,
          "xref": "x",
          "y": "AP",
          "yref": "y"
         },
         {
          "font": {
           "color": "gray"
          },
          "showarrow": false,
          "text": "108.0<br>200%",
          "x": 2019,
          "xref": "x",
          "y": "AP",
          "yref": "y"
         },
         {
          "font": {
           "color": "gray"
          },
          "showarrow": false,
          "text": "145.0<br>34%",
          "x": 2020,
          "xref": "x",
          "y": "AP",
          "yref": "y"
         },
         {
          "font": {
           "color": "gray"
          },
          "showarrow": false,
          "text": "477.0<br>229%",
          "x": 2021,
          "xref": "x",
          "y": "AP",
          "yref": "y"
         },
         {
          "font": {
           "color": "gray"
          },
          "showarrow": false,
          "text": "908.0<br>90%",
          "x": 2022,
          "xref": "x",
          "y": "AP",
          "yref": "y"
         },
         {
          "font": {
           "color": "gray"
          },
          "showarrow": false,
          "text": "587.0<br>-35%",
          "x": 2023,
          "xref": "x",
          "y": "AP",
          "yref": "y"
         },
         {
          "font": {
           "color": "gray"
          },
          "showarrow": false,
          "text": "1.0<br> ",
          "x": 2012,
          "xref": "x",
          "y": "BA",
          "yref": "y"
         },
         {
          "font": {
           "color": "gray"
          },
          "showarrow": false,
          "text": "1.0<br> ",
          "x": 2013,
          "xref": "x",
          "y": "BA",
          "yref": "y"
         },
         {
          "font": {
           "color": "gray"
          },
          "showarrow": false,
          "text": "15.0<br>1400%",
          "x": 2014,
          "xref": "x",
          "y": "BA",
          "yref": "y"
         },
         {
          "font": {
           "color": "gray"
          },
          "showarrow": false,
          "text": "35.0<br>133%",
          "x": 2015,
          "xref": "x",
          "y": "BA",
          "yref": "y"
         },
         {
          "font": {
           "color": "gray"
          },
          "showarrow": false,
          "text": "106.0<br>203%",
          "x": 2016,
          "xref": "x",
          "y": "BA",
          "yref": "y"
         },
         {
          "font": {
           "color": "gray"
          },
          "showarrow": false,
          "text": "269.0<br>154%",
          "x": 2017,
          "xref": "x",
          "y": "BA",
          "yref": "y"
         },
         {
          "font": {
           "color": "gray"
          },
          "showarrow": false,
          "text": "263.0<br>-2%",
          "x": 2018,
          "xref": "x",
          "y": "BA",
          "yref": "y"
         },
         {
          "font": {
           "color": "gray"
          },
          "showarrow": false,
          "text": "4.0<br>-98%",
          "x": 2019,
          "xref": "x",
          "y": "BA",
          "yref": "y"
         },
         {
          "font": {
           "color": "gray"
          },
          "showarrow": false,
          "text": "4.0<br> ",
          "x": 2020,
          "xref": "x",
          "y": "BA",
          "yref": "y"
         },
         {
          "font": {
           "color": "gray"
          },
          "showarrow": false,
          "text": "4.0<br> ",
          "x": 2021,
          "xref": "x",
          "y": "BA",
          "yref": "y"
         },
         {
          "font": {
           "color": "gray"
          },
          "showarrow": false,
          "text": "7.0<br>75%",
          "x": 2022,
          "xref": "x",
          "y": "BA",
          "yref": "y"
         },
         {
          "font": {
           "color": "gray"
          },
          "showarrow": false,
          "text": "2.0<br>-71%",
          "x": 2023,
          "xref": "x",
          "y": "BA",
          "yref": "y"
         },
         {
          "font": {
           "color": "gray"
          },
          "showarrow": false,
          "text": "1.0<br> ",
          "x": 2012,
          "xref": "x",
          "y": "BR",
          "yref": "y"
         },
         {
          "font": {
           "color": "gray"
          },
          "showarrow": false,
          "text": "1.0<br> ",
          "x": 2013,
          "xref": "x",
          "y": "BR",
          "yref": "y"
         },
         {
          "font": {
           "color": "gray"
          },
          "showarrow": false,
          "text": "15.0<br>1400%",
          "x": 2014,
          "xref": "x",
          "y": "BR",
          "yref": "y"
         },
         {
          "font": {
           "color": "gray"
          },
          "showarrow": false,
          "text": "44.0<br>193%",
          "x": 2015,
          "xref": "x",
          "y": "BR",
          "yref": "y"
         },
         {
          "font": {
           "color": "gray"
          },
          "showarrow": false,
          "text": "126.0<br>186%",
          "x": 2016,
          "xref": "x",
          "y": "BR",
          "yref": "y"
         },
         {
          "font": {
           "color": "gray"
          },
          "showarrow": false,
          "text": "353.0<br>180%",
          "x": 2017,
          "xref": "x",
          "y": "BR",
          "yref": "y"
         },
         {
          "font": {
           "color": "gray"
          },
          "showarrow": false,
          "text": "586.0<br>66%",
          "x": 2018,
          "xref": "x",
          "y": "BR",
          "yref": "y"
         },
         {
          "font": {
           "color": "gray"
          },
          "showarrow": false,
          "text": "1289.0<br>120%",
          "x": 2019,
          "xref": "x",
          "y": "BR",
          "yref": "y"
         },
         {
          "font": {
           "color": "gray"
          },
          "showarrow": false,
          "text": "3146.0<br>144%",
          "x": 2020,
          "xref": "x",
          "y": "BR",
          "yref": "y"
         },
         {
          "font": {
           "color": "white"
          },
          "showarrow": false,
          "text": "6969.0<br>122%",
          "x": 2021,
          "xref": "x",
          "y": "BR",
          "yref": "y"
         },
         {
          "font": {
           "color": "white"
          },
          "showarrow": false,
          "text": "13714.0<br>97%",
          "x": 2022,
          "xref": "x",
          "y": "BR",
          "yref": "y"
         },
         {
          "font": {
           "color": "gray"
          },
          "showarrow": false,
          "text": "4745.0<br>-65%",
          "x": 2023,
          "xref": "x",
          "y": "BR",
          "yref": "y"
         }
        ],
        "height": 600,
        "margin": {
         "t": 130
        },
        "template": {
         "data": {
          "bar": [
           {
            "error_x": {
             "color": "#2a3f5f"
            },
            "error_y": {
             "color": "#2a3f5f"
            },
            "marker": {
             "line": {
              "color": "#E5ECF6",
              "width": 0.5
             },
             "pattern": {
              "fillmode": "overlay",
              "size": 10,
              "solidity": 0.2
             }
            },
            "type": "bar"
           }
          ],
          "barpolar": [
           {
            "marker": {
             "line": {
              "color": "#E5ECF6",
              "width": 0.5
             },
             "pattern": {
              "fillmode": "overlay",
              "size": 10,
              "solidity": 0.2
             }
            },
            "type": "barpolar"
           }
          ],
          "carpet": [
           {
            "aaxis": {
             "endlinecolor": "#2a3f5f",
             "gridcolor": "white",
             "linecolor": "white",
             "minorgridcolor": "white",
             "startlinecolor": "#2a3f5f"
            },
            "baxis": {
             "endlinecolor": "#2a3f5f",
             "gridcolor": "white",
             "linecolor": "white",
             "minorgridcolor": "white",
             "startlinecolor": "#2a3f5f"
            },
            "type": "carpet"
           }
          ],
          "choropleth": [
           {
            "colorbar": {
             "outlinewidth": 0,
             "ticks": ""
            },
            "type": "choropleth"
           }
          ],
          "contour": [
           {
            "colorbar": {
             "outlinewidth": 0,
             "ticks": ""
            },
            "colorscale": [
             [
              0,
              "#0d0887"
             ],
             [
              0.1111111111111111,
              "#46039f"
             ],
             [
              0.2222222222222222,
              "#7201a8"
             ],
             [
              0.3333333333333333,
              "#9c179e"
             ],
             [
              0.4444444444444444,
              "#bd3786"
             ],
             [
              0.5555555555555556,
              "#d8576b"
             ],
             [
              0.6666666666666666,
              "#ed7953"
             ],
             [
              0.7777777777777778,
              "#fb9f3a"
             ],
             [
              0.8888888888888888,
              "#fdca26"
             ],
             [
              1,
              "#f0f921"
             ]
            ],
            "type": "contour"
           }
          ],
          "contourcarpet": [
           {
            "colorbar": {
             "outlinewidth": 0,
             "ticks": ""
            },
            "type": "contourcarpet"
           }
          ],
          "heatmap": [
           {
            "colorbar": {
             "outlinewidth": 0,
             "ticks": ""
            },
            "colorscale": [
             [
              0,
              "#0d0887"
             ],
             [
              0.1111111111111111,
              "#46039f"
             ],
             [
              0.2222222222222222,
              "#7201a8"
             ],
             [
              0.3333333333333333,
              "#9c179e"
             ],
             [
              0.4444444444444444,
              "#bd3786"
             ],
             [
              0.5555555555555556,
              "#d8576b"
             ],
             [
              0.6666666666666666,
              "#ed7953"
             ],
             [
              0.7777777777777778,
              "#fb9f3a"
             ],
             [
              0.8888888888888888,
              "#fdca26"
             ],
             [
              1,
              "#f0f921"
             ]
            ],
            "type": "heatmap"
           }
          ],
          "heatmapgl": [
           {
            "colorbar": {
             "outlinewidth": 0,
             "ticks": ""
            },
            "colorscale": [
             [
              0,
              "#0d0887"
             ],
             [
              0.1111111111111111,
              "#46039f"
             ],
             [
              0.2222222222222222,
              "#7201a8"
             ],
             [
              0.3333333333333333,
              "#9c179e"
             ],
             [
              0.4444444444444444,
              "#bd3786"
             ],
             [
              0.5555555555555556,
              "#d8576b"
             ],
             [
              0.6666666666666666,
              "#ed7953"
             ],
             [
              0.7777777777777778,
              "#fb9f3a"
             ],
             [
              0.8888888888888888,
              "#fdca26"
             ],
             [
              1,
              "#f0f921"
             ]
            ],
            "type": "heatmapgl"
           }
          ],
          "histogram": [
           {
            "marker": {
             "pattern": {
              "fillmode": "overlay",
              "size": 10,
              "solidity": 0.2
             }
            },
            "type": "histogram"
           }
          ],
          "histogram2d": [
           {
            "colorbar": {
             "outlinewidth": 0,
             "ticks": ""
            },
            "colorscale": [
             [
              0,
              "#0d0887"
             ],
             [
              0.1111111111111111,
              "#46039f"
             ],
             [
              0.2222222222222222,
              "#7201a8"
             ],
             [
              0.3333333333333333,
              "#9c179e"
             ],
             [
              0.4444444444444444,
              "#bd3786"
             ],
             [
              0.5555555555555556,
              "#d8576b"
             ],
             [
              0.6666666666666666,
              "#ed7953"
             ],
             [
              0.7777777777777778,
              "#fb9f3a"
             ],
             [
              0.8888888888888888,
              "#fdca26"
             ],
             [
              1,
              "#f0f921"
             ]
            ],
            "type": "histogram2d"
           }
          ],
          "histogram2dcontour": [
           {
            "colorbar": {
             "outlinewidth": 0,
             "ticks": ""
            },
            "colorscale": [
             [
              0,
              "#0d0887"
             ],
             [
              0.1111111111111111,
              "#46039f"
             ],
             [
              0.2222222222222222,
              "#7201a8"
             ],
             [
              0.3333333333333333,
              "#9c179e"
             ],
             [
              0.4444444444444444,
              "#bd3786"
             ],
             [
              0.5555555555555556,
              "#d8576b"
             ],
             [
              0.6666666666666666,
              "#ed7953"
             ],
             [
              0.7777777777777778,
              "#fb9f3a"
             ],
             [
              0.8888888888888888,
              "#fdca26"
             ],
             [
              1,
              "#f0f921"
             ]
            ],
            "type": "histogram2dcontour"
           }
          ],
          "mesh3d": [
           {
            "colorbar": {
             "outlinewidth": 0,
             "ticks": ""
            },
            "type": "mesh3d"
           }
          ],
          "parcoords": [
           {
            "line": {
             "colorbar": {
              "outlinewidth": 0,
              "ticks": ""
             }
            },
            "type": "parcoords"
           }
          ],
          "pie": [
           {
            "automargin": true,
            "type": "pie"
           }
          ],
          "scatter": [
           {
            "fillpattern": {
             "fillmode": "overlay",
             "size": 10,
             "solidity": 0.2
            },
            "type": "scatter"
           }
          ],
          "scatter3d": [
           {
            "line": {
             "colorbar": {
              "outlinewidth": 0,
              "ticks": ""
             }
            },
            "marker": {
             "colorbar": {
              "outlinewidth": 0,
              "ticks": ""
             }
            },
            "type": "scatter3d"
           }
          ],
          "scattercarpet": [
           {
            "marker": {
             "colorbar": {
              "outlinewidth": 0,
              "ticks": ""
             }
            },
            "type": "scattercarpet"
           }
          ],
          "scattergeo": [
           {
            "marker": {
             "colorbar": {
              "outlinewidth": 0,
              "ticks": ""
             }
            },
            "type": "scattergeo"
           }
          ],
          "scattergl": [
           {
            "marker": {
             "colorbar": {
              "outlinewidth": 0,
              "ticks": ""
             }
            },
            "type": "scattergl"
           }
          ],
          "scattermapbox": [
           {
            "marker": {
             "colorbar": {
              "outlinewidth": 0,
              "ticks": ""
             }
            },
            "type": "scattermapbox"
           }
          ],
          "scatterpolar": [
           {
            "marker": {
             "colorbar": {
              "outlinewidth": 0,
              "ticks": ""
             }
            },
            "type": "scatterpolar"
           }
          ],
          "scatterpolargl": [
           {
            "marker": {
             "colorbar": {
              "outlinewidth": 0,
              "ticks": ""
             }
            },
            "type": "scatterpolargl"
           }
          ],
          "scatterternary": [
           {
            "marker": {
             "colorbar": {
              "outlinewidth": 0,
              "ticks": ""
             }
            },
            "type": "scatterternary"
           }
          ],
          "surface": [
           {
            "colorbar": {
             "outlinewidth": 0,
             "ticks": ""
            },
            "colorscale": [
             [
              0,
              "#0d0887"
             ],
             [
              0.1111111111111111,
              "#46039f"
             ],
             [
              0.2222222222222222,
              "#7201a8"
             ],
             [
              0.3333333333333333,
              "#9c179e"
             ],
             [
              0.4444444444444444,
              "#bd3786"
             ],
             [
              0.5555555555555556,
              "#d8576b"
             ],
             [
              0.6666666666666666,
              "#ed7953"
             ],
             [
              0.7777777777777778,
              "#fb9f3a"
             ],
             [
              0.8888888888888888,
              "#fdca26"
             ],
             [
              1,
              "#f0f921"
             ]
            ],
            "type": "surface"
           }
          ],
          "table": [
           {
            "cells": {
             "fill": {
              "color": "#EBF0F8"
             },
             "line": {
              "color": "white"
             }
            },
            "header": {
             "fill": {
              "color": "#C8D4E3"
             },
             "line": {
              "color": "white"
             }
            },
            "type": "table"
           }
          ]
         },
         "layout": {
          "annotationdefaults": {
           "arrowcolor": "#2a3f5f",
           "arrowhead": 0,
           "arrowwidth": 1
          },
          "autotypenumbers": "strict",
          "coloraxis": {
           "colorbar": {
            "outlinewidth": 0,
            "ticks": ""
           }
          },
          "colorscale": {
           "diverging": [
            [
             0,
             "#8e0152"
            ],
            [
             0.1,
             "#c51b7d"
            ],
            [
             0.2,
             "#de77ae"
            ],
            [
             0.3,
             "#f1b6da"
            ],
            [
             0.4,
             "#fde0ef"
            ],
            [
             0.5,
             "#f7f7f7"
            ],
            [
             0.6,
             "#e6f5d0"
            ],
            [
             0.7,
             "#b8e186"
            ],
            [
             0.8,
             "#7fbc41"
            ],
            [
             0.9,
             "#4d9221"
            ],
            [
             1,
             "#276419"
            ]
           ],
           "sequential": [
            [
             0,
             "#0d0887"
            ],
            [
             0.1111111111111111,
             "#46039f"
            ],
            [
             0.2222222222222222,
             "#7201a8"
            ],
            [
             0.3333333333333333,
             "#9c179e"
            ],
            [
             0.4444444444444444,
             "#bd3786"
            ],
            [
             0.5555555555555556,
             "#d8576b"
            ],
            [
             0.6666666666666666,
             "#ed7953"
            ],
            [
             0.7777777777777778,
             "#fb9f3a"
            ],
            [
             0.8888888888888888,
             "#fdca26"
            ],
            [
             1,
             "#f0f921"
            ]
           ],
           "sequentialminus": [
            [
             0,
             "#0d0887"
            ],
            [
             0.1111111111111111,
             "#46039f"
            ],
            [
             0.2222222222222222,
             "#7201a8"
            ],
            [
             0.3333333333333333,
             "#9c179e"
            ],
            [
             0.4444444444444444,
             "#bd3786"
            ],
            [
             0.5555555555555556,
             "#d8576b"
            ],
            [
             0.6666666666666666,
             "#ed7953"
            ],
            [
             0.7777777777777778,
             "#fb9f3a"
            ],
            [
             0.8888888888888888,
             "#fdca26"
            ],
            [
             1,
             "#f0f921"
            ]
           ]
          },
          "colorway": [
           "#636efa",
           "#EF553B",
           "#00cc96",
           "#ab63fa",
           "#FFA15A",
           "#19d3f3",
           "#FF6692",
           "#B6E880",
           "#FF97FF",
           "#FECB52"
          ],
          "font": {
           "color": "#2a3f5f"
          },
          "geo": {
           "bgcolor": "white",
           "lakecolor": "white",
           "landcolor": "#E5ECF6",
           "showlakes": true,
           "showland": true,
           "subunitcolor": "white"
          },
          "hoverlabel": {
           "align": "left"
          },
          "hovermode": "closest",
          "mapbox": {
           "style": "light"
          },
          "paper_bgcolor": "white",
          "plot_bgcolor": "#E5ECF6",
          "polar": {
           "angularaxis": {
            "gridcolor": "white",
            "linecolor": "white",
            "ticks": ""
           },
           "bgcolor": "#E5ECF6",
           "radialaxis": {
            "gridcolor": "white",
            "linecolor": "white",
            "ticks": ""
           }
          },
          "scene": {
           "xaxis": {
            "backgroundcolor": "#E5ECF6",
            "gridcolor": "white",
            "gridwidth": 2,
            "linecolor": "white",
            "showbackground": true,
            "ticks": "",
            "zerolinecolor": "white"
           },
           "yaxis": {
            "backgroundcolor": "#E5ECF6",
            "gridcolor": "white",
            "gridwidth": 2,
            "linecolor": "white",
            "showbackground": true,
            "ticks": "",
            "zerolinecolor": "white"
           },
           "zaxis": {
            "backgroundcolor": "#E5ECF6",
            "gridcolor": "white",
            "gridwidth": 2,
            "linecolor": "white",
            "showbackground": true,
            "ticks": "",
            "zerolinecolor": "white"
           }
          },
          "shapedefaults": {
           "line": {
            "color": "#2a3f5f"
           }
          },
          "ternary": {
           "aaxis": {
            "gridcolor": "white",
            "linecolor": "white",
            "ticks": ""
           },
           "baxis": {
            "gridcolor": "white",
            "linecolor": "white",
            "ticks": ""
           },
           "bgcolor": "#E5ECF6",
           "caxis": {
            "gridcolor": "white",
            "linecolor": "white",
            "ticks": ""
           }
          },
          "title": {
           "x": 0.05
          },
          "xaxis": {
           "automargin": true,
           "gridcolor": "white",
           "linecolor": "white",
           "ticks": "",
           "title": {
            "standoff": 15
           },
           "zerolinecolor": "white",
           "zerolinewidth": 2
          },
          "yaxis": {
           "automargin": true,
           "gridcolor": "white",
           "linecolor": "white",
           "ticks": "",
           "title": {
            "standoff": 15
           },
           "zerolinecolor": "white",
           "zerolinewidth": 2
          }
         }
        },
        "title": {
         "font": {
          "size": 20
         },
         "text": "Novos usuários da Energia distribuida",
         "x": 0.5
        },
        "width": 1200,
        "xaxis": {
         "dtick": 1,
         "gridcolor": "rgb(0, 0, 0)",
         "side": "top",
         "tickfont": {
          "size": 14
         },
         "ticks": "",
         "title": {
          "font": {
           "size": 16
          },
          "text": "Ano"
         }
        },
        "yaxis": {
         "dtick": 1,
         "tickfont": {
          "size": 14
         },
         "ticks": "",
         "ticksuffix": "  ",
         "title": {
          "font": {
           "size": 16
          },
          "text": "SigUF"
         }
        }
       }
      }
     },
     "metadata": {},
     "output_type": "display_data"
    }
   ],
   "source": [
    "\n",
    "\n",
    "df['Mes'] = pd.DatetimeIndex(df['DthAtualizaCadastralEmpreend']).month\n",
    "df['Ano'] = pd.DatetimeIndex(df['DthAtualizaCadastralEmpreend']).year\n",
    "\n",
    "counts = df_clean.groupby(['Ano', 'SigUF', 'DscClasseConsumo']).agg({'NumCPFCNPJ': 'nunique'}).reset_index()\n",
    "tabela = counts.groupby(['Ano', 'SigUF'])['NumCPFCNPJ'].sum().reset_index()\n",
    "\n",
    "matriz = tabela.pivot(index='SigUF', columns='Ano', values='NumCPFCNPJ')\n",
    "matriz = matriz.fillna(0)\n",
    "matriz.loc['BR'] = matriz.sum()\n",
    "\n",
    "matriz_tx = matriz.pct_change(axis=1) * 100\n",
    "matriz_tx = matriz_tx.applymap(lambda x: '{:.0f}%'.format(x) if not np.isnan(x) and x != 0 else ' ')\n",
    "matriz_tx['med'] = \"\"\n",
    "matriz_tx['Total'] = \"\"\n",
    "matriz_tx['2023'] = \"\"\n",
    "\n",
    "\n",
    "\n",
    "\n",
    "\n",
    "import plotly.graph_objs as go\n",
    "import plotly.figure_factory as ff\n",
    "import numpy as np\n",
    "\n",
    "# Criando uma lista de strings com valores da matriz e matriz_tx\n",
    "text = [[f\"{matriz.iloc[i,j]:}<br>{matriz_tx.iloc[i,j]}\" for j in range(len(matriz.columns))] for i in range(len(matriz.index))]\n",
    "# Criação do heatmap principal\n",
    "fig_2 = ff.create_annotated_heatmap(z=matriz.values,\n",
    "                                  x=list(matriz.columns),\n",
    "                                  y=list(matriz.index),\n",
    "                                  annotation_text=text,\n",
    "                                  font_colors=['gray', 'white'],\n",
    "                                  colorscale='YlGnBu')\n",
    "# Configurações de layout\n",
    "fig_2.update_layout(\n",
    "    width=1200,\n",
    "    height=600,\n",
    "    xaxis_title='Ano',\n",
    "    xaxis_title_font_size=16,\n",
    "    xaxis_tickfont_size=14,\n",
    "    yaxis_title='SigUF',\n",
    "    yaxis_title_font_size=16,\n",
    "    yaxis_tickfont_size=14,\n",
    "    title='Novos usuários da Energia distribuida',\n",
    "    title_font_size=20,\n",
    "    title_x=.5,\n",
    "    margin=dict(t=130)\n",
    ")    \n",
    "\n",
    "fig_2.show()\n",
    "\n"
   ]
  },
  {
   "cell_type": "code",
   "execution_count": null,
   "id": "c7731a2d",
   "metadata": {},
   "outputs": [],
   "source": [
    "\n",
    "\n",
    "\n",
    "\n",
    "\n",
    "\n",
    "\n",
    "\n",
    "\n",
    "\n",
    "\n",
    "\n",
    "\n",
    "\n",
    "\n",
    "\n",
    "\n",
    "\n",
    "\n",
    "\n",
    "\n",
    "\n",
    "\n",
    "\n",
    "\n",
    "\n",
    "\n",
    "\n",
    "\n",
    "\n",
    "\n",
    "\n",
    "\n",
    "\n",
    "\n",
    "\n",
    "\n",
    "\n",
    "\n",
    "\n",
    "\n",
    "\n",
    "\n",
    "\n",
    "\n",
    "\n",
    "\n",
    "\n",
    "\n",
    "\n",
    "\n",
    "\n",
    "\n",
    "\n",
    "\n",
    "\n",
    "\n",
    "\n"
   ]
  },
  {
   "cell_type": "code",
   "execution_count": 4,
   "id": "896fb897",
   "metadata": {},
   "outputs": [],
   "source": [
    "# series temporais\n",
    "import numpy as np\n",
    "import pandas as pd\n",
    "import matplotlib as plt\n",
    "\n",
    "\n",
    "\n",
    "\n",
    "\n"
   ]
  },
  {
   "cell_type": "code",
   "execution_count": null,
   "id": "370203a2",
   "metadata": {},
   "outputs": [],
   "source": [
    "\n",
    "\n",
    "\n",
    "\n",
    "\n",
    "\n",
    "\n",
    "\n",
    "\n",
    "\n",
    "\n",
    "\n",
    "\n",
    "\n",
    "\n",
    "\n",
    "\n",
    "\n",
    "\n",
    "\n",
    "\n",
    "\n",
    "\n",
    "\n"
   ]
  },
  {
   "cell_type": "code",
   "execution_count": null,
   "id": "ab9aa329",
   "metadata": {},
   "outputs": [],
   "source": []
  },
  {
   "cell_type": "code",
   "execution_count": 50,
   "id": "8311a563",
   "metadata": {},
   "outputs": [
    {
     "ename": "SyntaxError",
     "evalue": "invalid syntax (4215381843.py, line 4)",
     "output_type": "error",
     "traceback": [
      "\u001b[1;36m  Cell \u001b[1;32mIn[50], line 4\u001b[1;36m\u001b[0m\n\u001b[1;33m    mport pandas as pd\u001b[0m\n\u001b[1;37m          ^\u001b[0m\n\u001b[1;31mSyntaxError\u001b[0m\u001b[1;31m:\u001b[0m invalid syntax\n"
     ]
    }
   ],
   "source": [
    "###_________RPREVISAO__2023__________##\n",
    "\n",
    "\n",
    "mport pandas as pd\n",
    "import plotly.express as px\n",
    "from fbprophet import Prophet\n",
    "\n",
    "# Manipulações para Gráfico - evolução temporal da Potência Instalada Total (KW) por Estado;\n",
    "df['Mes'] = pd.DatetimeIndex(df['DthAtualizaCadastralEmpreend']).month\n",
    "df['Ano'] = pd.DatetimeIndex(df['DthAtualizaCadastralEmpreend']).year\n",
    "\n",
    "# Agrupar dados por mês, ano e estado e somar as potências instaladas\n",
    "counts = df.groupby(['SigUF', 'Ano', 'Mes']).agg({'MdaPotenciaInstaladaKW': 'sum'}).reset_index()\n",
    "\n",
    "# Renomear as colunas para ds e y, que são as convenções do Prophet\n",
    "counts = counts.rename(columns={'Ano': 'ds', 'MdaPotenciaInstaladaKW': 'y'})\n",
    "\n",
    "# Filtrar apenas os dados do estado desejado para fazer a previsão\n",
    "state_counts = counts[counts['SigUF'] == 'UF']\n",
    "\n",
    "# Ajustar um modelo com a biblioteca Prophet\n",
    "m = Prophet()\n",
    "m.fit(state_counts)\n",
    "\n",
    "# Fazer a previsão para o período desejado (2023)\n",
    "future = m.make_future_dataframe(periods=12*10, freq='M')  # 10 anos de previsão\n",
    "forecast = m.predict(future)\n",
    "\n",
    "# Criar gráfico com os dados históricos e a previsão\n",
    "fig = px.line(forecast, x='ds', y='yhat', title='Previsão de Potência Instalada em UF')\n",
    "fig.add_scatter(x=state_counts['ds'], y=state_counts['y'], name='Histórico', mode='markers')\n",
    "fig.show()"
   ]
  },
  {
   "cell_type": "code",
   "execution_count": null,
   "id": "e2faa193",
   "metadata": {},
   "outputs": [],
   "source": []
  },
  {
   "cell_type": "code",
   "execution_count": null,
   "id": "f48d0f01",
   "metadata": {},
   "outputs": [],
   "source": []
  },
  {
   "cell_type": "code",
   "execution_count": null,
   "id": "1d410da8",
   "metadata": {},
   "outputs": [],
   "source": []
  },
  {
   "cell_type": "code",
   "execution_count": null,
   "id": "8467696f",
   "metadata": {},
   "outputs": [],
   "source": [
    "# Regressão Linear: um modelo que tenta ajustar uma reta aos pontos de dados para prever o valor de uma variável dependente (potência instalada total) com base em uma ou mais variáveis independentes (como ano, estado, município, entre outras).\n",
    "\n",
    "# prever crescimento em Potencia Instalada Total nos próximos 12 meses de estados e municípios  relacionando com dados da API IBGE"
   ]
  },
  {
   "cell_type": "code",
   "execution_count": null,
   "id": "b7e48e86",
   "metadata": {},
   "outputs": [],
   "source": []
  },
  {
   "cell_type": "code",
   "execution_count": null,
   "id": "6be5fa36",
   "metadata": {},
   "outputs": [],
   "source": []
  },
  {
   "cell_type": "code",
   "execution_count": null,
   "id": "f8d89ddd",
   "metadata": {},
   "outputs": [],
   "source": []
  },
  {
   "cell_type": "code",
   "execution_count": null,
   "id": "281abcb5",
   "metadata": {},
   "outputs": [],
   "source": [
    "#Regressão Logística: um modelo utilizado para prever uma variável binária (como, por exemplo, se um município ou estado terá um crescimento acima ou abaixo da média) com base em uma ou mais variáveis independentes.\n",
    "\n",
    "#prever o formato de energia que terá maior crescimento em cada estado nos próximos 12 meses"
   ]
  },
  {
   "cell_type": "code",
   "execution_count": null,
   "id": "f8deacbb",
   "metadata": {},
   "outputs": [],
   "source": [
    "# importando bibs\n",
    "\n",
    "from prophet import Prophet\n",
    "import pandas as pd\n",
    "\n",
    "#carregando dados (obs: colunas obrigatoriamente tem que se chamar ds para a data e y para os valores\n",
    "\n",
    "dataframe = pd.read_excel(\"/content/aneel.xlsx\")\n",
    "dataframe = dataframe.rename(columns={'DS':'ds', 'Y':'y'})\n",
    "dataframe\n",
    "\n",
    "# instancia o objeto prophet\n",
    "m = Prophet()\n",
    "m.fit(dataframe)\n",
    "\n",
    "# define o quanto quer prever (no caso foi usado 12 meses, freq = M para meses, 'D' para dias.\n",
    "future = m.make_future_dataframe(periods = 12, freq='M')\n",
    "future.tail()\n",
    "\n",
    "#plotar o gráfico\n",
    "fig1 = m.plot(forecast)\n",
    "\n",
    "# plotando com a bibs plotly\n",
    "from prophet.plot import plot_plotly, plot_components_plotly\n",
    "\n",
    "plot_plotly(m, forecast)\n",
    "\n",
    "# decompondo a série\n",
    "fig2 = m.plot_components(forecast)"
   ]
  },
  {
   "cell_type": "code",
   "execution_count": null,
   "id": "c97a2847",
   "metadata": {},
   "outputs": [],
   "source": []
  },
  {
   "cell_type": "code",
   "execution_count": null,
   "id": "f6d79421",
   "metadata": {},
   "outputs": [],
   "source": []
  },
  {
   "cell_type": "code",
   "execution_count": null,
   "id": "b274ec85",
   "metadata": {},
   "outputs": [],
   "source": []
  },
  {
   "cell_type": "code",
   "execution_count": null,
   "id": "eb3d046c",
   "metadata": {},
   "outputs": [],
   "source": []
  },
  {
   "cell_type": "code",
   "execution_count": null,
   "id": "9d798c19",
   "metadata": {},
   "outputs": [],
   "source": []
  },
  {
   "cell_type": "code",
   "execution_count": null,
   "id": "1d5feba5",
   "metadata": {},
   "outputs": [
    {
     "name": "stdout",
     "output_type": "stream",
     "text": [
      "Previsões para Comercial:\n",
      "          data   previsao\n",
      "0   2023-04-20  32.121854\n",
      "1   2023-05-20  32.121854\n",
      "2   2023-06-19  32.121854\n",
      "3   2023-07-19  32.121854\n",
      "4   2023-08-18  32.121854\n",
      "5   2023-09-17  32.121854\n",
      "6   2023-10-17  32.121854\n",
      "7   2023-11-16  32.121854\n",
      "8   2023-12-16  32.121854\n",
      "9   2024-01-15  32.121854\n",
      "10  2024-02-14  32.121854\n",
      "11  2024-03-15  32.121854\n",
      "Previsões para Industrial:\n",
      "          data   previsao\n",
      "0   2023-04-20  63.679409\n",
      "1   2023-05-20  63.679409\n",
      "2   2023-06-19  63.679409\n",
      "3   2023-07-19  63.679409\n",
      "4   2023-08-18  63.679409\n",
      "5   2023-09-17  63.679409\n",
      "6   2023-10-17  63.679409\n",
      "7   2023-11-16  63.679409\n",
      "8   2023-12-16  63.679409\n",
      "9   2024-01-15  63.679409\n",
      "10  2024-02-14  63.679409\n",
      "11  2024-03-15  63.679409\n",
      "Previsões para Poder Público:\n",
      "          data   previsao\n",
      "0   2023-04-20  51.436063\n",
      "1   2023-05-20  51.436063\n",
      "2   2023-06-19  51.436063\n",
      "3   2023-07-19  51.436063\n",
      "4   2023-08-18  51.436063\n",
      "5   2023-09-17  51.436063\n",
      "6   2023-10-17  51.436063\n",
      "7   2023-11-16  51.436063\n",
      "8   2023-12-16  51.436063\n",
      "9   2024-01-15  51.436063\n",
      "10  2024-02-14  51.436063\n",
      "11  2024-03-15  51.436063\n",
      "Previsões para Residencial:\n",
      "          data  previsao\n",
      "0   2023-04-20  7.857964\n",
      "1   2023-05-20  7.857964\n",
      "2   2023-06-19  7.857964\n",
      "3   2023-07-19  7.857964\n",
      "4   2023-08-18  7.857964\n",
      "5   2023-09-17  7.857964\n",
      "6   2023-10-17  7.857964\n",
      "7   2023-11-16  7.857964\n",
      "8   2023-12-16  7.857964\n",
      "9   2024-01-15  7.857964\n",
      "10  2024-02-14  7.857964\n",
      "11  2024-03-15  7.857964\n",
      "Previsões para Rural:\n",
      "          data   previsao\n",
      "0   2023-04-20  18.314226\n",
      "1   2023-05-20  18.314226\n",
      "2   2023-06-19  18.314226\n",
      "3   2023-07-19  18.314226\n",
      "4   2023-08-18  18.314226\n",
      "5   2023-09-17  18.314226\n",
      "6   2023-10-17  18.314226\n",
      "7   2023-11-16  18.314226\n",
      "8   2023-12-16  18.314226\n",
      "9   2024-01-15  18.314226\n",
      "10  2024-02-14  18.314226\n",
      "11  2024-03-15  18.314226\n",
      "Previsões para Serviço Público:\n",
      "          data   previsao\n",
      "0   2023-04-20  53.166667\n",
      "1   2023-05-20  53.166667\n",
      "2   2023-06-19  53.166667\n",
      "3   2023-07-19  53.166667\n",
      "4   2023-08-18  53.166667\n",
      "5   2023-09-17  53.166667\n",
      "6   2023-10-17  53.166667\n",
      "7   2023-11-16  53.166667\n",
      "8   2023-12-16  53.166667\n",
      "9   2024-01-15  53.166667\n",
      "10  2024-02-14  53.166667\n",
      "11  2024-03-15  53.166667\n"
     ]
    },
    {
     "data": {
      "text/html": [
       "<div>\n",
       "<style scoped>\n",
       "    .dataframe tbody tr th:only-of-type {\n",
       "        vertical-align: middle;\n",
       "    }\n",
       "\n",
       "    .dataframe tbody tr th {\n",
       "        vertical-align: top;\n",
       "    }\n",
       "\n",
       "    .dataframe thead th {\n",
       "        text-align: right;\n",
       "    }\n",
       "</style>\n",
       "<table border=\"1\" class=\"dataframe\">\n",
       "  <thead>\n",
       "    <tr style=\"text-align: right;\">\n",
       "      <th></th>\n",
       "      <th>data</th>\n",
       "      <th>previsao</th>\n",
       "    </tr>\n",
       "  </thead>\n",
       "  <tbody>\n",
       "    <tr>\n",
       "      <th>0</th>\n",
       "      <td>2023-04-20</td>\n",
       "      <td>53.166667</td>\n",
       "    </tr>\n",
       "    <tr>\n",
       "      <th>1</th>\n",
       "      <td>2023-05-20</td>\n",
       "      <td>53.166667</td>\n",
       "    </tr>\n",
       "    <tr>\n",
       "      <th>2</th>\n",
       "      <td>2023-06-19</td>\n",
       "      <td>53.166667</td>\n",
       "    </tr>\n",
       "    <tr>\n",
       "      <th>3</th>\n",
       "      <td>2023-07-19</td>\n",
       "      <td>53.166667</td>\n",
       "    </tr>\n",
       "    <tr>\n",
       "      <th>4</th>\n",
       "      <td>2023-08-18</td>\n",
       "      <td>53.166667</td>\n",
       "    </tr>\n",
       "    <tr>\n",
       "      <th>5</th>\n",
       "      <td>2023-09-17</td>\n",
       "      <td>53.166667</td>\n",
       "    </tr>\n",
       "    <tr>\n",
       "      <th>6</th>\n",
       "      <td>2023-10-17</td>\n",
       "      <td>53.166667</td>\n",
       "    </tr>\n",
       "    <tr>\n",
       "      <th>7</th>\n",
       "      <td>2023-11-16</td>\n",
       "      <td>53.166667</td>\n",
       "    </tr>\n",
       "    <tr>\n",
       "      <th>8</th>\n",
       "      <td>2023-12-16</td>\n",
       "      <td>53.166667</td>\n",
       "    </tr>\n",
       "    <tr>\n",
       "      <th>9</th>\n",
       "      <td>2024-01-15</td>\n",
       "      <td>53.166667</td>\n",
       "    </tr>\n",
       "    <tr>\n",
       "      <th>10</th>\n",
       "      <td>2024-02-14</td>\n",
       "      <td>53.166667</td>\n",
       "    </tr>\n",
       "    <tr>\n",
       "      <th>11</th>\n",
       "      <td>2024-03-15</td>\n",
       "      <td>53.166667</td>\n",
       "    </tr>\n",
       "  </tbody>\n",
       "</table>\n",
       "</div>"
      ],
      "text/plain": [
       "          data   previsao\n",
       "0   2023-04-20  53.166667\n",
       "1   2023-05-20  53.166667\n",
       "2   2023-06-19  53.166667\n",
       "3   2023-07-19  53.166667\n",
       "4   2023-08-18  53.166667\n",
       "5   2023-09-17  53.166667\n",
       "6   2023-10-17  53.166667\n",
       "7   2023-11-16  53.166667\n",
       "8   2023-12-16  53.166667\n",
       "9   2024-01-15  53.166667\n",
       "10  2024-02-14  53.166667\n",
       "11  2024-03-15  53.166667"
      ]
     },
     "execution_count": 10,
     "metadata": {},
     "output_type": "execute_result"
    }
   ],
   "source": [
    "import pandas as pd\n",
    "import sklearn\n",
    "from sklearn.linear_model import LinearRegression\n",
    "from datetime import datetime, timedelta\n",
    "\n",
    "# Selecionar as colunas necessárias para a análise\n",
    "df['MdaPotenciaInstaladaKW'] = df['MdaPotenciaInstaladaKW'].astype('str')\n",
    "df['MdaPotenciaInstaladaKW'] = df['MdaPotenciaInstaladaKW'].str.replace(',', '.')\n",
    "df['MdaPotenciaInstaladaKW'] = pd.to_numeric(df['MdaPotenciaInstaladaKW'], errors='coerce')\n",
    "df['DthAtualizaCadastralEmpreend'] = pd.to_datetime(df['DthAtualizaCadastralEmpreend'])\n",
    "df['DthAtualizaCadastralEmpreend'] = df['DthAtualizaCadastralEmpreend'].apply(lambda x: x.timestamp())\n",
    "\n",
    "# Agrupar o dataframe por tipo de geração\n",
    "groups = df.groupby('DscClasseConsumo')\n",
    "\n",
    "# Criar um dicionário para armazenar as previsões de cada grupo\n",
    "predictions = {}\n",
    "\n",
    "# Iterar sobre os grupos e aplicar o modelo de regressão linear\n",
    "for name, group in groups:\n",
    "    X = group['DthAtualizaCadastralEmpreend'].values.reshape(-1, 1)\n",
    "    y = group['MdaPotenciaInstaladaKW'].values\n",
    "    \n",
    "    # Instanciar o modelo de regressão linear\n",
    "    model = LinearRegression()\n",
    "    \n",
    "    # Treinar o modelo com os dados selecionados\n",
    "    model.fit(X, y)\n",
    "    \n",
    "    # Fazer a previsão para os próximos 12 meses\n",
    "    previsao = model.predict([[group['DthAtualizaCadastralEmpreend'].max() + i] for i in range(1, 13)])\n",
    "    \n",
    "    # Criar um dataframe com as previsões\n",
    "    data_atual = datetime.now()\n",
    "    previsoes = []\n",
    "    for i, p in enumerate(previsao):\n",
    "        data = (data_atual + timedelta(days=30*(i+1))).strftime('%Y-%m-%d')\n",
    "        previsoes.append({'data': data, 'previsao': p})\n",
    "        \n",
    "    df_previsoes = pd.DataFrame(previsoes)\n",
    "    \n",
    "    # Armazenar o dataframe no dicionário com o nome do grupo como chave\n",
    "    predictions[name] = df_previsoes\n",
    "    \n",
    "# Imprimir as previsões de cada grupo\n",
    "for key, value in predictions.items():\n",
    "    print(f'Previsões para {key}:')\n",
    "    print(value)\n",
    "\n"
   ]
  },
  {
   "cell_type": "markdown",
   "id": "df46d606",
   "metadata": {},
   "source": [
    "Existem diferentes maneiras de validar se suas previsões estão corretas. Uma maneira é aplicar seu modelo a outro conjunto de dados e verificar seu desempenho1. Você pode usar métricas como R-quadrado, erro quadrático médio ou erro absoluto médio para medir o quão bem seu modelo se ajusta aos novos dados. Você também pode plotar um gráfico de dispersão dos valores previstos versus os valores observados e ver o quão próximos eles estão de uma linha reta.\n",
    "\n",
    "Outra maneira é verificar as suposições da regressão linear, como linearidade, normalidade, homocedasticidade, independência dos erros e ausência de multicolinearidade2. Você pode usar gráficos diagnósticos como gráfico de resíduos, gráfico Q-Q, gráfico de alavancagem ou valores VIF (fator de inflação da variância) para testar essas suposições e ver se seu modelo precisa de algum ajuste.\n",
    "\n",
    "Uma terceira maneira é validar externamente seu modelo de previsão usando um método chamado calibração34. Isso envolve comparar as probabilidades previstas com os resultados observados em um novo conjunto de dados e ver o quão bem eles concordam. Você pode usar estatísticas como inclinação e interceptação da calibração ou gráficos como curva ou diagrama de confiabilidade da calibração para avaliar a calibração do seu modelo."
   ]
  },
  {
   "cell_type": "code",
   "execution_count": null,
   "id": "11cf5f40",
   "metadata": {},
   "outputs": [],
   "source": []
  },
  {
   "cell_type": "code",
   "execution_count": null,
   "id": "4fdf4808",
   "metadata": {},
   "outputs": [],
   "source": []
  },
  {
   "cell_type": "code",
   "execution_count": null,
   "id": "c107b74f",
   "metadata": {},
   "outputs": [],
   "source": []
  },
  {
   "cell_type": "code",
   "execution_count": null,
   "id": "331a927b",
   "metadata": {},
   "outputs": [],
   "source": []
  },
  {
   "cell_type": "code",
   "execution_count": null,
   "id": "eaac40bc",
   "metadata": {},
   "outputs": [],
   "source": []
  },
  {
   "cell_type": "code",
   "execution_count": null,
   "id": "07124e53",
   "metadata": {},
   "outputs": [],
   "source": []
  },
  {
   "cell_type": "code",
   "execution_count": null,
   "id": "855304b9",
   "metadata": {},
   "outputs": [],
   "source": []
  },
  {
   "cell_type": "code",
   "execution_count": null,
   "id": "41875cc7",
   "metadata": {},
   "outputs": [],
   "source": []
  },
  {
   "cell_type": "code",
   "execution_count": null,
   "id": "81fce850",
   "metadata": {},
   "outputs": [],
   "source": []
  },
  {
   "cell_type": "code",
   "execution_count": 18,
   "id": "6fa077dd",
   "metadata": {},
   "outputs": [
    {
     "name": "stdout",
     "output_type": "stream",
     "text": [
      "Dash is running on http://127.0.0.1:8050/\n",
      "\n",
      " * Serving Flask app '__main__'\n",
      " * Debug mode: off\n"
     ]
    }
   ],
   "source": [
    "import dash_html_components as html\n",
    "from dash import Dash, dcc\n",
    "from dash.dependencies import Input, Output\n",
    "from dash.exceptions import PreventUpdate\n",
    "import plotly.graph_objs as go\n",
    "#import plotly.io as pio\n",
    "from dash_html_components import Iframe\n",
    "\n",
    "\n",
    "# Cores: (rgb(68,199,244)); rgb(37,143,185); rgb(245,145,6)\n",
    "\n",
    "# Carrega os gráficos do Desafio 1.inpn\n",
    "\n",
    "app = Dash(__name__)\n",
    "\n",
    "fig_style = {'padding': '0 20px'}\n",
    "\n",
    "# Defina o layout\n",
    "app.layout = html.Div(\n",
    "    style={\n",
    "        'display': 'flex',\n",
    "        'flex-direction': 'column',\n",
    "        'align-items': 'center',\n",
    "        'height': '100vh',\n",
    "        'background-color': 'rgb(68, 199, 244)',\n",
    "    },\n",
    "    children=[\n",
    "        html.Img(\n",
    "            src='https://i2.energisa.info/SiteAssets/topo-marca.png',\n",
    "            alt='Logo Energisa',\n",
    "            title='Energisa',\n",
    "            style={'height': '50px'},\n",
    "        ),\n",
    "        html.H1(\n",
    "            children='Desafi',\n",
    "            style={\n",
    "                'font-size': '36px',\n",
    "                'font-family': 'Arial, sans-serif',\n",
    "                'font-weight': 'bold',\n",
    "                'color': '#0074D9',\n",
    "                'margin-top': '30px',\n",
    "                'text-align': 'center',\n",
    "            },\n",
    "        ),\n",
    "        html.Div(\n",
    "            children='''OBS: Estou muito animado para compartilhar estes gráficos com você!''',\n",
    "            style={'margin-top': '20px'},\n",
    "        ),\n",
    "\n",
    "        html.Div(children=[\n",
    "            html.H2(children='Gráfico atualizado'),\n",
    "            dcc.Graph(figure=fig_1)\n",
    "        ]),\n",
    "\n",
    "        # Define as funções para atualização dos gráficos\n",
    "        html.Div(children=[\n",
    "            html.H2(children='Gráfico atualizado'),\n",
    "        #    dcc.Graph(id='graph2'),\n",
    "        #    dcc.Graph(id='graph3')\n",
    "        ], style={'backgroundColor': '#FFF5EE'})\n",
    "    ],\n",
    ")\n",
    "\n",
    "if __name__ == '__main__':\n",
    "    app.run_server(debug=True, port=8050)"
   ]
  }
 ],
 "metadata": {
  "kernelspec": {
   "display_name": "aneel_energisa",
   "language": "python",
   "name": "python3"
  },
  "language_info": {
   "codemirror_mode": {
    "name": "ipython",
    "version": 3
   },
   "file_extension": ".py",
   "mimetype": "text/x-python",
   "name": "python",
   "nbconvert_exporter": "python",
   "pygments_lexer": "ipython3",
   "version": "3.9.16"
  }
 },
 "nbformat": 4,
 "nbformat_minor": 5
}
